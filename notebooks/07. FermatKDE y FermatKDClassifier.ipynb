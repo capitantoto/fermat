{
 "cells": [
  {
   "attachments": {},
   "cell_type": "markdown",
   "metadata": {},
   "source": [
    "# 06. FermatKDE y FermatKDClassifier"
   ]
  },
  {
   "cell_type": "code",
   "execution_count": 1,
   "metadata": {},
   "outputs": [],
   "source": [
    "import numpy as np\n",
    "import pandas as pd\n",
    "import matplotlib.pyplot as plt\n",
    "\n",
    "from sklearn.base import BaseEstimator, DensityMixin\n",
    "from sklearn.model_selection import train_test_split, GridSearchCV, ShuffleSplit\n",
    "from sklearn.neighbors import KernelDensity\n",
    "from sklearn.datasets import (\n",
    "    load_iris,\n",
    "    load_digits,\n",
    "    make_moons,\n",
    "    fetch_openml,\n",
    "    make_circles,\n",
    ")\n",
    "from scipy.spatial.distance import cdist, pdist, squareform\n",
    "from scipy.sparse import csr_matrix\n",
    "from scipy.sparse.csgraph import shortest_path\n",
    "\n",
    "from joblib import Memory\n",
    "\n",
    "\n",
    "cachedir = \"_cache\"\n",
    "memory = Memory(cachedir, verbose=100)\n",
    "\n",
    "\n",
    "@memory.cache\n",
    "def euclidean(X, Y=None):\n",
    "    if Y is None:\n",
    "        return squareform(pdist(X, metric=\"euclidean\"))\n",
    "    else:\n",
    "        return cdist(X, Y, metric=\"euclidean\")\n",
    "\n",
    "\n",
    "@memory.cache\n",
    "def sample_fermat(Q, alpha=1):\n",
    "    return shortest_path(csr_matrix(euclidean(Q) ** alpha), directed=False)\n",
    "\n",
    "\n",
    "class Bundle(dict):\n",
    "    def __getattr__(self, key):\n",
    "        try:\n",
    "            return self[key]\n",
    "        except KeyError:\n",
    "            raise AttributeError(key)\n",
    "\n",
    "    def __setattr__(self, key, value):\n",
    "        self[key] = value"
   ]
  },
  {
   "cell_type": "code",
   "execution_count": 2,
   "metadata": {},
   "outputs": [],
   "source": [
    "def iqr(X):\n",
    "    return np.percentile(X, 75) - np.percentile(X, 25)\n",
    "    \n",
    "    \n",
    "def pilot_h(dists):\n",
    "    return 0.9 * np.minimum(dists.std(), iqr(dists) / 1.34) * len(dists) ** (-1 / 5)\n",
    "    # return np.mean(sample_fermat(X, alpha=alpha))"
   ]
  },
  {
   "cell_type": "code",
   "execution_count": 3,
   "metadata": {},
   "outputs": [],
   "source": [
    "isosceles = np.array([[0, 0], [3 / 2, np.sqrt(7 / 4)], [-3 / 2, np.sqrt(7 / 4)]])"
   ]
  },
  {
   "cell_type": "code",
   "execution_count": 4,
   "metadata": {},
   "outputs": [
    {
     "name": "stdout",
     "output_type": "stream",
     "text": [
      "[Memory]0.0s, 0.0min    : Loading euclidean from _cache/joblib/__main__--var-folders-h3-d7vpv1m17lv29p7dw5y0yy1c0000gn-T-ipykernel-915298055/euclidean/7a9f0ebdf6452690331f163529fee227\n",
      "___________________________________________euclidean cache loaded - 0.0s, 0.0min\n"
     ]
    }
   ],
   "source": [
    "euc = euclidean(isosceles)"
   ]
  },
  {
   "cell_type": "code",
   "execution_count": 5,
   "metadata": {},
   "outputs": [
    {
     "name": "stdout",
     "output_type": "stream",
     "text": [
      "[Memory]0.0s, 0.0min    : Loading sample_fermat from _cache/joblib/__main__--var-folders-h3-d7vpv1m17lv29p7dw5y0yy1c0000gn-T-ipykernel-915298055/sample_fermat/9be614e853db95b769d95dccffe94e96\n",
      "_______________________________________sample_fermat cache loaded - 0.0s, 0.0min\n",
      "[Memory]0.0s, 0.0min    : Loading sample_fermat from _cache/joblib/__main__--var-folders-h3-d7vpv1m17lv29p7dw5y0yy1c0000gn-T-ipykernel-915298055/sample_fermat/dc93f908c3b8ac121c3b12c092c7a494\n",
      "_______________________________________sample_fermat cache loaded - 0.0s, 0.0min\n",
      "[[0. 2. 2.]\n",
      " [2. 0. 3.]\n",
      " [2. 3. 0.]]\n",
      "[[0. 4. 4.]\n",
      " [4. 0. 8.]\n",
      " [4. 8. 0.]]\n"
     ]
    }
   ],
   "source": [
    "print(sample_fermat(isosceles, alpha=1), sample_fermat(isosceles, alpha=2), sep=\"\\n\")"
   ]
  },
  {
   "cell_type": "code",
   "execution_count": 6,
   "metadata": {},
   "outputs": [],
   "source": [
    "class FermatKDE(BaseEstimator, DensityMixin):\n",
    "    # MAX_DIST = 38.6\n",
    "    MIN_LOG_SCORE = -1e6\n",
    "\n",
    "    def __init__(self, alpha=1, bandwidth=1, d=None):\n",
    "        self.bandwidth = bandwidth\n",
    "        self.alpha = alpha\n",
    "        self.d = d  # TODO: Evitar completamente? Quitando el h^-d del score?\n",
    "\n",
    "    def fit(self, X):\n",
    "        self.Q_ = X\n",
    "        # A is the adjacency matrix with Fermat distances as edge weights\n",
    "        self.A_ = sample_fermat(X, self.alpha)\n",
    "        if self.d is None:\n",
    "            self.d = self.D\n",
    "        return self\n",
    "\n",
    "    @property\n",
    "    def N(self):\n",
    "        return self.Q_.shape[0]\n",
    "\n",
    "    @property\n",
    "    def D(self):\n",
    "        return self.Q_.shape[1]\n",
    "\n",
    "    def _sample_distances(self, X):\n",
    "        to_Q = euclidean(X, self.Q_) ** self.alpha\n",
    "        sample_distances = np.zeros((X.shape[0], self.N))\n",
    "        for i in range(len(X)):\n",
    "            sample_distances[i, :] = np.min(to_Q[i].T + self.A_, axis=1)\n",
    "        return sample_distances\n",
    "\n",
    "    def score_samples(self, X=None, log=True):\n",
    "        if X is None:\n",
    "            X = self.Q_\n",
    "\n",
    "        score = np.exp(-0.5 * (self._sample_distances(X) / self.bandwidth) ** 2).sum(1)\n",
    "\n",
    "        if log:\n",
    "            return (\n",
    "                -np.log(self.N)\n",
    "                - self.d * np.log(self.bandwidth)\n",
    "                - self.d / 2 * np.log(2 * np.pi)\n",
    "                + np.maximum(np.log(score), self.MIN_LOG_SCORE)\n",
    "            )\n",
    "\n",
    "        else:\n",
    "            return (\n",
    "                self.N**-1\n",
    "                * (self.bandwidth**-self.d)\n",
    "                * (2 * np.pi) ** (-self.d / 2)\n",
    "                * score\n",
    "            )\n",
    "\n",
    "    def score(self, X=None):\n",
    "        if X is None:\n",
    "            X = self.Q_\n",
    "        return self.score_samples(X).sum()"
   ]
  },
  {
   "cell_type": "code",
   "execution_count": 7,
   "metadata": {},
   "outputs": [],
   "source": [
    "from fermat import Fermat\n",
    "\n",
    "\n",
    "class OOSFermatKDE:\n",
    "    def __init__(self, alpha=1, bandwidth=1):\n",
    "        self.alpha = alpha\n",
    "        self.bandwidth = bandwidth\n",
    "\n",
    "    def fit(self, X):\n",
    "        self.X_ = X\n",
    "        self.euclidean_dists_ = euclidean(X)\n",
    "        self.fermat_ = Fermat(alpha=self.alpha, path_method=\"FW\").fit(\n",
    "            self.euclidean_dists_\n",
    "        )\n",
    "        self.fermat_dists_ = self.fermat_.get_distances()\n",
    "        self.n_, self.dim_ = X.shape\n",
    "        return self\n",
    "\n",
    "    def _dist_to_edge(self, X_from):\n",
    "        return np.array(\n",
    "            [\n",
    "                [((x_from - x_to) ** 2).sum() ** (self.alpha / 2) for x_to in self.X_]\n",
    "                for x_from in X_from\n",
    "            ]\n",
    "        )\n",
    "\n",
    "    def _distances(self, X_from):\n",
    "        to_edge = self._dist_to_edge(X_from)\n",
    "        dists = np.zeros((X_from.shape[0], self.n_))\n",
    "        for i, x_from in enumerate(X_from):\n",
    "            dists[i, :] = np.min(to_edge[i].T + self.fermat_dists_, axis=1)\n",
    "        return dists\n",
    "\n",
    "    def density(self, X, log=True):\n",
    "        densities = (\n",
    "            (self.bandwidth**-self.dim_)\n",
    "            * (2 * np.pi) ** (-self.dim_ / 2)\n",
    "            * np.exp(-1 / 2 * (self._distances(X) / self.bandwidth) ** 2).mean(axis=1)\n",
    "        )\n",
    "        return np.log(densities) if log else densities"
   ]
  },
  {
   "cell_type": "code",
   "execution_count": 8,
   "metadata": {},
   "outputs": [],
   "source": [
    "# X, y = make_circles(n_samples=1000, noise=0.05, random_state=42)\n",
    "X, y = make_moons(n_samples=4000, noise=0.1)\n",
    "# X, y = load_digits(return_X_y=True)\n",
    "# X, y = load_iris(return_X_y=True)\n",
    "# X, y = fetch_openml(\n",
    "#     \"mnist_784\", version=1, parser=\"auto\", return_X_y=True, as_frame=False\n",
    "# )"
   ]
  },
  {
   "cell_type": "code",
   "execution_count": 9,
   "metadata": {},
   "outputs": [
    {
     "data": {
      "text/plain": [
       "((4000, 2), array([0, 1]))"
      ]
     },
     "execution_count": 9,
     "metadata": {},
     "output_type": "execute_result"
    }
   ],
   "source": [
    "X.shape, np.unique(y)"
   ]
  },
  {
   "cell_type": "code",
   "execution_count": 10,
   "metadata": {},
   "outputs": [
    {
     "data": {
      "text/plain": [
       "array([0, 1])"
      ]
     },
     "execution_count": 10,
     "metadata": {},
     "output_type": "execute_result"
    }
   ],
   "source": [
    "y = y.astype(int)\n",
    "np.unique(y)"
   ]
  },
  {
   "cell_type": "code",
   "execution_count": 11,
   "metadata": {},
   "outputs": [
    {
     "data": {
      "text/plain": [
       "0    2000\n",
       "1    2000\n",
       "dtype: int64"
      ]
     },
     "execution_count": 11,
     "metadata": {},
     "output_type": "execute_result"
    }
   ],
   "source": [
    "pd.Series(y).value_counts()"
   ]
  },
  {
   "cell_type": "code",
   "execution_count": 12,
   "metadata": {},
   "outputs": [
    {
     "data": {
      "text/plain": [
       "(4000, 2)"
      ]
     },
     "execution_count": 12,
     "metadata": {},
     "output_type": "execute_result"
    }
   ],
   "source": [
    "X0 = X[y == 0]#[:1000]\n",
    "X1 = X[y == 1]\n",
    "# X2 = X[y == 2][:500]\n",
    "# X0 = X[y == 0][1000:1100,]\n",
    "X.shape"
   ]
  },
  {
   "cell_type": "code",
   "execution_count": 13,
   "metadata": {},
   "outputs": [],
   "source": [
    "# pixels = X[0].reshape(28, 28)\n",
    "# print(pixels[15:20, 15:20])\n",
    "# plt.imshow(pixels, cmap=\"gray\")"
   ]
  },
  {
   "cell_type": "code",
   "execution_count": 14,
   "metadata": {},
   "outputs": [],
   "source": [
    "seed = 2018\n",
    "# Choosing train/test split by indices is equivalent to choosing rows themselves\n",
    "idx_train, idx_test = train_test_split(\n",
    "    np.arange(len(X0)), test_size=0.2, random_state=seed\n",
    ")\n",
    "tt_cv = [(idx_train, idx_test)]\n",
    "ss_cv = ShuffleSplit(n_splits=10, test_size=0.2, random_state=seed)"
   ]
  },
  {
   "cell_type": "code",
   "execution_count": 15,
   "metadata": {},
   "outputs": [
    {
     "name": "stderr",
     "output_type": "stream",
     "text": [
      "WARNING:root:[MemorizedFunc(func=<function sample_fermat at 0x1665e51b0>, location=_cache/joblib)]: Computing func sample_fermat, argument hash 330558b9015c31795f8cfa9ea994103e in location _cache/joblib/__main__--var-folders-h3-d7vpv1m17lv29p7dw5y0yy1c0000gn-T-ipykernel-915298055/sample_fermat\n",
      "WARNING:root:[MemorizedFunc(func=<function euclidean at 0x107228af0>, location=_cache/joblib)]: Computing func euclidean, argument hash 2ba3dd2044deb9522a5ff97e9c74d004 in location _cache/joblib/__main__--var-folders-h3-d7vpv1m17lv29p7dw5y0yy1c0000gn-T-ipykernel-915298055/euclidean\n"
     ]
    },
    {
     "name": "stdout",
     "output_type": "stream",
     "text": [
      "________________________________________________________________________________\n",
      "[Memory] Calling __main__--var-folders-h3-d7vpv1m17lv29p7dw5y0yy1c0000gn-T-ipykernel-915298055.sample_fermat...\n",
      "sample_fermat(array([[-1.004333,  0.584776],\n",
      "       ...,\n",
      "       [ 0.316065,  1.062498]]), 1)\n",
      "________________________________________________________________________________\n",
      "[Memory] Calling __main__--var-folders-h3-d7vpv1m17lv29p7dw5y0yy1c0000gn-T-ipykernel-915298055.euclidean...\n",
      "euclidean(array([[-1.004333,  0.584776],\n",
      "       ...,\n",
      "       [ 0.316065,  1.062498]]))\n",
      "Persisting in _cache/joblib/__main__--var-folders-h3-d7vpv1m17lv29p7dw5y0yy1c0000gn-T-ipykernel-915298055/euclidean/2ba3dd2044deb9522a5ff97e9c74d004\n",
      "________________________________________________________euclidean - 0.0s, 0.0min\n",
      "Persisting in _cache/joblib/__main__--var-folders-h3-d7vpv1m17lv29p7dw5y0yy1c0000gn-T-ipykernel-915298055/sample_fermat/330558b9015c31795f8cfa9ea994103e\n",
      "____________________________________________________sample_fermat - 6.9s, 0.1min\n"
     ]
    }
   ],
   "source": [
    "alpha = 1\n",
    "A = sample_fermat(X0[idx_train], alpha)"
   ]
  },
  {
   "cell_type": "code",
   "execution_count": 16,
   "metadata": {},
   "outputs": [
    {
     "data": {
      "text/plain": [
       "0.11753709185352544"
      ]
     },
     "execution_count": 16,
     "metadata": {},
     "output_type": "execute_result"
    }
   ],
   "source": [
    "pilot_h(A)"
   ]
  },
  {
   "cell_type": "code",
   "execution_count": 17,
   "metadata": {},
   "outputs": [],
   "source": [
    "grid = {\"bandwidth\": pilot_h(A) * np.logspace(-3, 3, 61)}\n"
   ]
  },
  {
   "cell_type": "code",
   "execution_count": 18,
   "metadata": {},
   "outputs": [
    {
     "name": "stdout",
     "output_type": "stream",
     "text": [
      "Fitting 1 folds for each of 61 candidates, totalling 61 fits\n",
      "[Memory]: Loading sample_fermat from _cache/joblib/__main__--var-folders-h3-d7vpv1m17lv29p7dw5y0yy1c0000gn-T-ipykernel-915298055/sample_fermat/330558b9015c31795f8cfa9ea994103e\n",
      "_______________________________________sample_fermat cache loaded - 0.0s, 0.0min\n",
      "________________________________________________________________________________\n",
      "[Memory] Calling __main__--var-folders-h3-d7vpv1m17lv29p7dw5y0yy1c0000gn-T-ipykernel-915298055.euclidean...\n",
      "euclidean(array([[-0.304174,  0.896286],\n",
      "       ...,\n",
      "       [ 0.381147,  0.759791]]), array([[-1.004333,  0.584776],\n",
      "       ...,\n",
      "       [ 0.316065,  1.062498]]))\n",
      "Persisting in _cache/joblib/__main__--var-folders-h3-d7vpv1m17lv29p7dw5y0yy1c0000gn-T-ipykernel-915298055/euclidean/98ab93b545e02ce1f0bd35576b46034c\n",
      "________________________________________________________euclidean - 0.1s, 0.0min\n"
     ]
    },
    {
     "name": "stderr",
     "output_type": "stream",
     "text": [
      "WARNING:root:[MemorizedFunc(func=<function euclidean at 0x1165485e0>, location=_cache/joblib)]: Computing func euclidean, argument hash 98ab93b545e02ce1f0bd35576b46034c in location _cache/joblib/__main__--var-folders-h3-d7vpv1m17lv29p7dw5y0yy1c0000gn-T-ipykernel-915298055/euclidean\n"
     ]
    },
    {
     "name": "stdout",
     "output_type": "stream",
     "text": [
      "[Memory]: Loading sample_fermat from _cache/joblib/__main__--var-folders-h3-d7vpv1m17lv29p7dw5y0yy1c0000gn-T-ipykernel-915298055/sample_fermat/330558b9015c31795f8cfa9ea994103e\n",
      "_______________________________________sample_fermat cache loaded - 0.0s, 0.0min\n",
      "[Memory]: Loading euclidean from _cache/joblib/__main__--var-folders-h3-d7vpv1m17lv29p7dw5y0yy1c0000gn-T-ipykernel-915298055/euclidean/98ab93b545e02ce1f0bd35576b46034c\n",
      "___________________________________________euclidean cache loaded - 0.0s, 0.0min\n",
      "[Memory]: Loading sample_fermat from _cache/joblib/__main__--var-folders-h3-d7vpv1m17lv29p7dw5y0yy1c0000gn-T-ipykernel-915298055/sample_fermat/330558b9015c31795f8cfa9ea994103e\n",
      "_______________________________________sample_fermat cache loaded - 0.0s, 0.0min\n",
      "[Memory]: Loading euclidean from _cache/joblib/__main__--var-folders-h3-d7vpv1m17lv29p7dw5y0yy1c0000gn-T-ipykernel-915298055/euclidean/98ab93b545e02ce1f0bd35576b46034c\n",
      "___________________________________________euclidean cache loaded - 0.0s, 0.0min\n",
      "[Memory]: Loading sample_fermat from _cache/joblib/__main__--var-folders-h3-d7vpv1m17lv29p7dw5y0yy1c0000gn-T-ipykernel-915298055/sample_fermat/330558b9015c31795f8cfa9ea994103e\n",
      "_______________________________________sample_fermat cache loaded - 0.0s, 0.0min\n",
      "[Memory]: Loading euclidean from _cache/joblib/__main__--var-folders-h3-d7vpv1m17lv29p7dw5y0yy1c0000gn-T-ipykernel-915298055/euclidean/98ab93b545e02ce1f0bd35576b46034c\n",
      "___________________________________________euclidean cache loaded - 0.0s, 0.0min\n",
      "[Memory]: Loading sample_fermat from _cache/joblib/__main__--var-folders-h3-d7vpv1m17lv29p7dw5y0yy1c0000gn-T-ipykernel-915298055/sample_fermat/330558b9015c31795f8cfa9ea994103e\n",
      "_______________________________________sample_fermat cache loaded - 0.0s, 0.0min\n",
      "[Memory]: Loading euclidean from _cache/joblib/__main__--var-folders-h3-d7vpv1m17lv29p7dw5y0yy1c0000gn-T-ipykernel-915298055/euclidean/98ab93b545e02ce1f0bd35576b46034c\n",
      "___________________________________________euclidean cache loaded - 0.0s, 0.0min\n",
      "[Memory]: Loading sample_fermat from _cache/joblib/__main__--var-folders-h3-d7vpv1m17lv29p7dw5y0yy1c0000gn-T-ipykernel-915298055/sample_fermat/330558b9015c31795f8cfa9ea994103e\n",
      "_______________________________________sample_fermat cache loaded - 0.0s, 0.0min\n",
      "[Memory]: Loading euclidean from _cache/joblib/__main__--var-folders-h3-d7vpv1m17lv29p7dw5y0yy1c0000gn-T-ipykernel-915298055/euclidean/98ab93b545e02ce1f0bd35576b46034c\n",
      "___________________________________________euclidean cache loaded - 0.0s, 0.0min\n",
      "[Memory]: Loading sample_fermat from _cache/joblib/__main__--var-folders-h3-d7vpv1m17lv29p7dw5y0yy1c0000gn-T-ipykernel-915298055/sample_fermat/330558b9015c31795f8cfa9ea994103e\n",
      "_______________________________________sample_fermat cache loaded - 0.0s, 0.0min\n",
      "[Memory]: Loading euclidean from _cache/joblib/__main__--var-folders-h3-d7vpv1m17lv29p7dw5y0yy1c0000gn-T-ipykernel-915298055/euclidean/98ab93b545e02ce1f0bd35576b46034c\n",
      "___________________________________________euclidean cache loaded - 0.0s, 0.0min\n",
      "[Memory]: Loading sample_fermat from _cache/joblib/__main__--var-folders-h3-d7vpv1m17lv29p7dw5y0yy1c0000gn-T-ipykernel-915298055/sample_fermat/330558b9015c31795f8cfa9ea994103e\n",
      "_______________________________________sample_fermat cache loaded - 0.0s, 0.0min\n",
      "[Memory]: Loading euclidean from _cache/joblib/__main__--var-folders-h3-d7vpv1m17lv29p7dw5y0yy1c0000gn-T-ipykernel-915298055/euclidean/98ab93b545e02ce1f0bd35576b46034c\n",
      "___________________________________________euclidean cache loaded - 0.0s, 0.0min\n"
     ]
    },
    {
     "name": "stderr",
     "output_type": "stream",
     "text": [
      "/var/folders/h3/d7vpv1m17lv29p7dw5y0yy1c0000gn/T/ipykernel_673/1327241305.py:44: RuntimeWarning: divide by zero encountered in log\n"
     ]
    },
    {
     "name": "stdout",
     "output_type": "stream",
     "text": [
      "[Memory]: Loading sample_fermat from _cache/joblib/__main__--var-folders-h3-d7vpv1m17lv29p7dw5y0yy1c0000gn-T-ipykernel-915298055/sample_fermat/330558b9015c31795f8cfa9ea994103e\n",
      "_______________________________________sample_fermat cache loaded - 0.0s, 0.0min\n",
      "[Memory]: Loading euclidean from _cache/joblib/__main__--var-folders-h3-d7vpv1m17lv29p7dw5y0yy1c0000gn-T-ipykernel-915298055/euclidean/98ab93b545e02ce1f0bd35576b46034c\n",
      "___________________________________________euclidean cache loaded - 0.0s, 0.0min\n"
     ]
    },
    {
     "name": "stderr",
     "output_type": "stream",
     "text": [
      "/var/folders/h3/d7vpv1m17lv29p7dw5y0yy1c0000gn/T/ipykernel_673/1327241305.py:44: RuntimeWarning: divide by zero encountered in log\n",
      "/var/folders/h3/d7vpv1m17lv29p7dw5y0yy1c0000gn/T/ipykernel_673/1327241305.py:44: RuntimeWarning: divide by zero encountered in log\n",
      "/var/folders/h3/d7vpv1m17lv29p7dw5y0yy1c0000gn/T/ipykernel_673/1327241305.py:44: RuntimeWarning: divide by zero encountered in log\n"
     ]
    },
    {
     "name": "stdout",
     "output_type": "stream",
     "text": [
      "[Memory]: Loading sample_fermat from _cache/joblib/__main__--var-folders-h3-d7vpv1m17lv29p7dw5y0yy1c0000gn-T-ipykernel-915298055/sample_fermat/330558b9015c31795f8cfa9ea994103e\n",
      "[Memory]: Loading sample_fermat from _cache/joblib/__main__--var-folders-h3-d7vpv1m17lv29p7dw5y0yy1c0000gn-T-ipykernel-915298055/sample_fermat/330558b9015c31795f8cfa9ea994103e\n",
      "_______________________________________sample_fermat cache loaded - 0.0s, 0.0min\n",
      "[Memory]: Loading euclidean from _cache/joblib/__main__--var-folders-h3-d7vpv1m17lv29p7dw5y0yy1c0000gn-T-ipykernel-915298055/euclidean/98ab93b545e02ce1f0bd35576b46034c\n",
      "_______________________________________sample_fermat cache loaded - 0.0s, 0.0min\n",
      "[Memory]: Loading euclidean from _cache/joblib/__main__--var-folders-h3-d7vpv1m17lv29p7dw5y0yy1c0000gn-T-ipykernel-915298055/euclidean/98ab93b545e02ce1f0bd35576b46034c\n",
      "___________________________________________euclidean cache loaded - 0.0s, 0.0min\n",
      "___________________________________________euclidean cache loaded - 0.0s, 0.0min\n",
      "[Memory]: Loading sample_fermat from _cache/joblib/__main__--var-folders-h3-d7vpv1m17lv29p7dw5y0yy1c0000gn-T-ipykernel-915298055/sample_fermat/330558b9015c31795f8cfa9ea994103e\n",
      "_______________________________________sample_fermat cache loaded - 0.0s, 0.0min\n",
      "[Memory]: Loading euclidean from _cache/joblib/__main__--var-folders-h3-d7vpv1m17lv29p7dw5y0yy1c0000gn-T-ipykernel-915298055/euclidean/98ab93b545e02ce1f0bd35576b46034c\n",
      "___________________________________________euclidean cache loaded - 0.0s, 0.0min\n"
     ]
    },
    {
     "name": "stderr",
     "output_type": "stream",
     "text": [
      "/var/folders/h3/d7vpv1m17lv29p7dw5y0yy1c0000gn/T/ipykernel_673/1327241305.py:44: RuntimeWarning: divide by zero encountered in log\n",
      "/var/folders/h3/d7vpv1m17lv29p7dw5y0yy1c0000gn/T/ipykernel_673/1327241305.py:44: RuntimeWarning: divide by zero encountered in log\n",
      "/var/folders/h3/d7vpv1m17lv29p7dw5y0yy1c0000gn/T/ipykernel_673/1327241305.py:44: RuntimeWarning: divide by zero encountered in log\n"
     ]
    },
    {
     "name": "stdout",
     "output_type": "stream",
     "text": [
      "[Memory]: Loading sample_fermat from _cache/joblib/__main__--var-folders-h3-d7vpv1m17lv29p7dw5y0yy1c0000gn-T-ipykernel-915298055/sample_fermat/330558b9015c31795f8cfa9ea994103e\n",
      "_______________________________________sample_fermat cache loaded - 0.0s, 0.0min\n",
      "[Memory]: Loading euclidean from _cache/joblib/__main__--var-folders-h3-d7vpv1m17lv29p7dw5y0yy1c0000gn-T-ipykernel-915298055/euclidean/98ab93b545e02ce1f0bd35576b46034c\n",
      "___________________________________________euclidean cache loaded - 0.0s, 0.0min\n",
      "[Memory]: Loading sample_fermat from _cache/joblib/__main__--var-folders-h3-d7vpv1m17lv29p7dw5y0yy1c0000gn-T-ipykernel-915298055/sample_fermat/330558b9015c31795f8cfa9ea994103e\n",
      "_______________________________________sample_fermat cache loaded - 0.0s, 0.0min\n",
      "[Memory]: Loading euclidean from _cache/joblib/__main__--var-folders-h3-d7vpv1m17lv29p7dw5y0yy1c0000gn-T-ipykernel-915298055/euclidean/98ab93b545e02ce1f0bd35576b46034c\n",
      "___________________________________________euclidean cache loaded - 0.0s, 0.0min\n",
      "[Memory]: Loading sample_fermat from _cache/joblib/__main__--var-folders-h3-d7vpv1m17lv29p7dw5y0yy1c0000gn-T-ipykernel-915298055/sample_fermat/330558b9015c31795f8cfa9ea994103e\n",
      "_______________________________________sample_fermat cache loaded - 0.0s, 0.0min\n",
      "[Memory]: Loading euclidean from _cache/joblib/__main__--var-folders-h3-d7vpv1m17lv29p7dw5y0yy1c0000gn-T-ipykernel-915298055/euclidean/98ab93b545e02ce1f0bd35576b46034c\n",
      "___________________________________________euclidean cache loaded - 0.1s, 0.0min\n"
     ]
    },
    {
     "name": "stderr",
     "output_type": "stream",
     "text": [
      "/var/folders/h3/d7vpv1m17lv29p7dw5y0yy1c0000gn/T/ipykernel_673/1327241305.py:44: RuntimeWarning: divide by zero encountered in log\n"
     ]
    },
    {
     "name": "stdout",
     "output_type": "stream",
     "text": [
      "[Memory]: Loading sample_fermat from _cache/joblib/__main__--var-folders-h3-d7vpv1m17lv29p7dw5y0yy1c0000gn-T-ipykernel-915298055/sample_fermat/330558b9015c31795f8cfa9ea994103e\n",
      "_______________________________________sample_fermat cache loaded - 0.0s, 0.0min\n",
      "[Memory]: Loading euclidean from _cache/joblib/__main__--var-folders-h3-d7vpv1m17lv29p7dw5y0yy1c0000gn-T-ipykernel-915298055/euclidean/98ab93b545e02ce1f0bd35576b46034c\n",
      "___________________________________________euclidean cache loaded - 0.0s, 0.0min\n"
     ]
    },
    {
     "name": "stderr",
     "output_type": "stream",
     "text": [
      "/var/folders/h3/d7vpv1m17lv29p7dw5y0yy1c0000gn/T/ipykernel_673/1327241305.py:44: RuntimeWarning: divide by zero encountered in log\n"
     ]
    },
    {
     "name": "stdout",
     "output_type": "stream",
     "text": [
      "[Memory]: Loading sample_fermat from _cache/joblib/__main__--var-folders-h3-d7vpv1m17lv29p7dw5y0yy1c0000gn-T-ipykernel-915298055/sample_fermat/330558b9015c31795f8cfa9ea994103e\n",
      "_______________________________________sample_fermat cache loaded - 0.0s, 0.0min\n",
      "[Memory]: Loading euclidean from _cache/joblib/__main__--var-folders-h3-d7vpv1m17lv29p7dw5y0yy1c0000gn-T-ipykernel-915298055/euclidean/98ab93b545e02ce1f0bd35576b46034c\n",
      "___________________________________________euclidean cache loaded - 0.0s, 0.0min\n"
     ]
    },
    {
     "name": "stderr",
     "output_type": "stream",
     "text": [
      "/var/folders/h3/d7vpv1m17lv29p7dw5y0yy1c0000gn/T/ipykernel_673/1327241305.py:44: RuntimeWarning: divide by zero encountered in log\n",
      "/var/folders/h3/d7vpv1m17lv29p7dw5y0yy1c0000gn/T/ipykernel_673/1327241305.py:44: RuntimeWarning: divide by zero encountered in log\n"
     ]
    },
    {
     "name": "stdout",
     "output_type": "stream",
     "text": [
      "[Memory]: Loading sample_fermat from _cache/joblib/__main__--var-folders-h3-d7vpv1m17lv29p7dw5y0yy1c0000gn-T-ipykernel-915298055/sample_fermat/330558b9015c31795f8cfa9ea994103e\n",
      "_______________________________________sample_fermat cache loaded - 0.0s, 0.0min\n",
      "[Memory]: Loading euclidean from _cache/joblib/__main__--var-folders-h3-d7vpv1m17lv29p7dw5y0yy1c0000gn-T-ipykernel-915298055/euclidean/98ab93b545e02ce1f0bd35576b46034c\n",
      "[Memory]: Loading sample_fermat from _cache/joblib/__main__--var-folders-h3-d7vpv1m17lv29p7dw5y0yy1c0000gn-T-ipykernel-915298055/sample_fermat/330558b9015c31795f8cfa9ea994103e\n",
      "___________________________________________euclidean cache loaded - 0.0s, 0.0min\n",
      "[Memory]: Loading sample_fermat from _cache/joblib/__main__--var-folders-h3-d7vpv1m17lv29p7dw5y0yy1c0000gn-T-ipykernel-915298055/sample_fermat/330558b9015c31795f8cfa9ea994103e\n",
      "_______________________________________sample_fermat cache loaded - 0.0s, 0.0min\n",
      "[Memory]: Loading euclidean from _cache/joblib/__main__--var-folders-h3-d7vpv1m17lv29p7dw5y0yy1c0000gn-T-ipykernel-915298055/euclidean/98ab93b545e02ce1f0bd35576b46034c\n",
      "_______________________________________sample_fermat cache loaded - 0.0s, 0.0min\n",
      "[Memory]: Loading euclidean from _cache/joblib/__main__--var-folders-h3-d7vpv1m17lv29p7dw5y0yy1c0000gn-T-ipykernel-915298055/euclidean/98ab93b545e02ce1f0bd35576b46034c\n",
      "___________________________________________euclidean cache loaded - 0.0s, 0.0min\n",
      "___________________________________________euclidean cache loaded - 0.0s, 0.0min\n"
     ]
    },
    {
     "name": "stderr",
     "output_type": "stream",
     "text": [
      "/var/folders/h3/d7vpv1m17lv29p7dw5y0yy1c0000gn/T/ipykernel_673/1327241305.py:44: RuntimeWarning: divide by zero encountered in log\n",
      "/var/folders/h3/d7vpv1m17lv29p7dw5y0yy1c0000gn/T/ipykernel_673/1327241305.py:44: RuntimeWarning: divide by zero encountered in log\n"
     ]
    },
    {
     "name": "stdout",
     "output_type": "stream",
     "text": [
      "[Memory]: Loading sample_fermat from _cache/joblib/__main__--var-folders-h3-d7vpv1m17lv29p7dw5y0yy1c0000gn-T-ipykernel-915298055/sample_fermat/330558b9015c31795f8cfa9ea994103e\n",
      "_______________________________________sample_fermat cache loaded - 0.0s, 0.0min\n",
      "[Memory]: Loading euclidean from _cache/joblib/__main__--var-folders-h3-d7vpv1m17lv29p7dw5y0yy1c0000gn-T-ipykernel-915298055/euclidean/98ab93b545e02ce1f0bd35576b46034c\n",
      "___________________________________________euclidean cache loaded - 0.0s, 0.0min\n",
      "[Memory]: Loading sample_fermat from _cache/joblib/__main__--var-folders-h3-d7vpv1m17lv29p7dw5y0yy1c0000gn-T-ipykernel-915298055/sample_fermat/330558b9015c31795f8cfa9ea994103e\n",
      "_______________________________________sample_fermat cache loaded - 0.0s, 0.0min\n",
      "[Memory]: Loading euclidean from _cache/joblib/__main__--var-folders-h3-d7vpv1m17lv29p7dw5y0yy1c0000gn-T-ipykernel-915298055/euclidean/98ab93b545e02ce1f0bd35576b46034c\n",
      "___________________________________________euclidean cache loaded - 0.0s, 0.0min\n",
      "[Memory]: Loading sample_fermat from _cache/joblib/__main__--var-folders-h3-d7vpv1m17lv29p7dw5y0yy1c0000gn-T-ipykernel-915298055/sample_fermat/330558b9015c31795f8cfa9ea994103e\n",
      "_______________________________________sample_fermat cache loaded - 0.0s, 0.0min\n",
      "[Memory]: Loading euclidean from _cache/joblib/__main__--var-folders-h3-d7vpv1m17lv29p7dw5y0yy1c0000gn-T-ipykernel-915298055/euclidean/98ab93b545e02ce1f0bd35576b46034c\n",
      "___________________________________________euclidean cache loaded - 0.0s, 0.0min\n",
      "[Memory]: Loading sample_fermat from _cache/joblib/__main__--var-folders-h3-d7vpv1m17lv29p7dw5y0yy1c0000gn-T-ipykernel-915298055/sample_fermat/330558b9015c31795f8cfa9ea994103e\n",
      "_______________________________________sample_fermat cache loaded - 0.0s, 0.0min\n",
      "[Memory]: Loading euclidean from _cache/joblib/__main__--var-folders-h3-d7vpv1m17lv29p7dw5y0yy1c0000gn-T-ipykernel-915298055/euclidean/98ab93b545e02ce1f0bd35576b46034c\n",
      "___________________________________________euclidean cache loaded - 0.0s, 0.0min\n"
     ]
    },
    {
     "name": "stderr",
     "output_type": "stream",
     "text": [
      "/var/folders/h3/d7vpv1m17lv29p7dw5y0yy1c0000gn/T/ipykernel_673/1327241305.py:44: RuntimeWarning: divide by zero encountered in log\n"
     ]
    },
    {
     "name": "stdout",
     "output_type": "stream",
     "text": [
      "[Memory]: Loading sample_fermat from _cache/joblib/__main__--var-folders-h3-d7vpv1m17lv29p7dw5y0yy1c0000gn-T-ipykernel-915298055/sample_fermat/330558b9015c31795f8cfa9ea994103e\n",
      "_______________________________________sample_fermat cache loaded - 0.0s, 0.0min\n",
      "[Memory]: Loading euclidean from _cache/joblib/__main__--var-folders-h3-d7vpv1m17lv29p7dw5y0yy1c0000gn-T-ipykernel-915298055/euclidean/98ab93b545e02ce1f0bd35576b46034c\n",
      "___________________________________________euclidean cache loaded - 0.0s, 0.0min\n",
      "[Memory]: Loading sample_fermat from _cache/joblib/__main__--var-folders-h3-d7vpv1m17lv29p7dw5y0yy1c0000gn-T-ipykernel-915298055/sample_fermat/330558b9015c31795f8cfa9ea994103e\n",
      "_______________________________________sample_fermat cache loaded - 0.0s, 0.0min\n",
      "[Memory]: Loading euclidean from _cache/joblib/__main__--var-folders-h3-d7vpv1m17lv29p7dw5y0yy1c0000gn-T-ipykernel-915298055/euclidean/98ab93b545e02ce1f0bd35576b46034c\n",
      "___________________________________________euclidean cache loaded - 0.0s, 0.0min\n",
      "[Memory]: Loading sample_fermat from _cache/joblib/__main__--var-folders-h3-d7vpv1m17lv29p7dw5y0yy1c0000gn-T-ipykernel-915298055/sample_fermat/330558b9015c31795f8cfa9ea994103e\n",
      "_______________________________________sample_fermat cache loaded - 0.0s, 0.0min\n",
      "[Memory]: Loading euclidean from _cache/joblib/__main__--var-folders-h3-d7vpv1m17lv29p7dw5y0yy1c0000gn-T-ipykernel-915298055/euclidean/98ab93b545e02ce1f0bd35576b46034c\n",
      "___________________________________________euclidean cache loaded - 0.0s, 0.0min\n",
      "[Memory]: Loading sample_fermat from _cache/joblib/__main__--var-folders-h3-d7vpv1m17lv29p7dw5y0yy1c0000gn-T-ipykernel-915298055/sample_fermat/330558b9015c31795f8cfa9ea994103e\n",
      "_______________________________________sample_fermat cache loaded - 0.0s, 0.0min\n",
      "[Memory]: Loading euclidean from _cache/joblib/__main__--var-folders-h3-d7vpv1m17lv29p7dw5y0yy1c0000gn-T-ipykernel-915298055/euclidean/98ab93b545e02ce1f0bd35576b46034c\n",
      "___________________________________________euclidean cache loaded - 0.0s, 0.0min\n",
      "[Memory]: Loading sample_fermat from _cache/joblib/__main__--var-folders-h3-d7vpv1m17lv29p7dw5y0yy1c0000gn-T-ipykernel-915298055/sample_fermat/330558b9015c31795f8cfa9ea994103e\n",
      "_______________________________________sample_fermat cache loaded - 0.0s, 0.0min\n",
      "[Memory]: Loading euclidean from _cache/joblib/__main__--var-folders-h3-d7vpv1m17lv29p7dw5y0yy1c0000gn-T-ipykernel-915298055/euclidean/98ab93b545e02ce1f0bd35576b46034c\n",
      "___________________________________________euclidean cache loaded - 0.0s, 0.0min\n",
      "[Memory]: Loading sample_fermat from _cache/joblib/__main__--var-folders-h3-d7vpv1m17lv29p7dw5y0yy1c0000gn-T-ipykernel-915298055/sample_fermat/330558b9015c31795f8cfa9ea994103e\n",
      "_______________________________________sample_fermat cache loaded - 0.0s, 0.0min\n",
      "[Memory]: Loading euclidean from _cache/joblib/__main__--var-folders-h3-d7vpv1m17lv29p7dw5y0yy1c0000gn-T-ipykernel-915298055/euclidean/98ab93b545e02ce1f0bd35576b46034c\n",
      "___________________________________________euclidean cache loaded - 0.0s, 0.0min\n",
      "[Memory]: Loading sample_fermat from _cache/joblib/__main__--var-folders-h3-d7vpv1m17lv29p7dw5y0yy1c0000gn-T-ipykernel-915298055/sample_fermat/330558b9015c31795f8cfa9ea994103e\n",
      "_______________________________________sample_fermat cache loaded - 0.0s, 0.0min\n",
      "[Memory]: Loading euclidean from _cache/joblib/__main__--var-folders-h3-d7vpv1m17lv29p7dw5y0yy1c0000gn-T-ipykernel-915298055/euclidean/98ab93b545e02ce1f0bd35576b46034c\n",
      "___________________________________________euclidean cache loaded - 0.0s, 0.0min\n",
      "[Memory]: Loading sample_fermat from _cache/joblib/__main__--var-folders-h3-d7vpv1m17lv29p7dw5y0yy1c0000gn-T-ipykernel-915298055/sample_fermat/330558b9015c31795f8cfa9ea994103e\n",
      "_______________________________________sample_fermat cache loaded - 0.0s, 0.0min\n",
      "[Memory]: Loading euclidean from _cache/joblib/__main__--var-folders-h3-d7vpv1m17lv29p7dw5y0yy1c0000gn-T-ipykernel-915298055/euclidean/98ab93b545e02ce1f0bd35576b46034c\n",
      "___________________________________________euclidean cache loaded - 0.0s, 0.0min\n",
      "[Memory]: Loading sample_fermat from _cache/joblib/__main__--var-folders-h3-d7vpv1m17lv29p7dw5y0yy1c0000gn-T-ipykernel-915298055/sample_fermat/330558b9015c31795f8cfa9ea994103e\n",
      "_______________________________________sample_fermat cache loaded - 0.0s, 0.0min\n",
      "[Memory]: Loading euclidean from _cache/joblib/__main__--var-folders-h3-d7vpv1m17lv29p7dw5y0yy1c0000gn-T-ipykernel-915298055/euclidean/98ab93b545e02ce1f0bd35576b46034c\n",
      "___________________________________________euclidean cache loaded - 0.0s, 0.0min\n",
      "[Memory]: Loading sample_fermat from _cache/joblib/__main__--var-folders-h3-d7vpv1m17lv29p7dw5y0yy1c0000gn-T-ipykernel-915298055/sample_fermat/330558b9015c31795f8cfa9ea994103e\n",
      "_______________________________________sample_fermat cache loaded - 0.0s, 0.0min\n",
      "[Memory]: Loading euclidean from _cache/joblib/__main__--var-folders-h3-d7vpv1m17lv29p7dw5y0yy1c0000gn-T-ipykernel-915298055/euclidean/98ab93b545e02ce1f0bd35576b46034c\n",
      "___________________________________________euclidean cache loaded - 0.0s, 0.0min\n",
      "[Memory]: Loading sample_fermat from _cache/joblib/__main__--var-folders-h3-d7vpv1m17lv29p7dw5y0yy1c0000gn-T-ipykernel-915298055/sample_fermat/330558b9015c31795f8cfa9ea994103e\n",
      "_______________________________________sample_fermat cache loaded - 0.0s, 0.0min\n",
      "[Memory]: Loading euclidean from _cache/joblib/__main__--var-folders-h3-d7vpv1m17lv29p7dw5y0yy1c0000gn-T-ipykernel-915298055/euclidean/98ab93b545e02ce1f0bd35576b46034c\n",
      "___________________________________________euclidean cache loaded - 0.0s, 0.0min\n",
      "[Memory]: Loading sample_fermat from _cache/joblib/__main__--var-folders-h3-d7vpv1m17lv29p7dw5y0yy1c0000gn-T-ipykernel-915298055/sample_fermat/330558b9015c31795f8cfa9ea994103e\n",
      "_______________________________________sample_fermat cache loaded - 0.0s, 0.0min\n",
      "[Memory]: Loading euclidean from _cache/joblib/__main__--var-folders-h3-d7vpv1m17lv29p7dw5y0yy1c0000gn-T-ipykernel-915298055/euclidean/98ab93b545e02ce1f0bd35576b46034c\n",
      "___________________________________________euclidean cache loaded - 0.0s, 0.0min\n",
      "[Memory]: Loading sample_fermat from _cache/joblib/__main__--var-folders-h3-d7vpv1m17lv29p7dw5y0yy1c0000gn-T-ipykernel-915298055/sample_fermat/330558b9015c31795f8cfa9ea994103e\n",
      "_______________________________________sample_fermat cache loaded - 0.0s, 0.0min\n",
      "[Memory]: Loading euclidean from _cache/joblib/__main__--var-folders-h3-d7vpv1m17lv29p7dw5y0yy1c0000gn-T-ipykernel-915298055/euclidean/98ab93b545e02ce1f0bd35576b46034c\n",
      "___________________________________________euclidean cache loaded - 0.0s, 0.0min\n",
      "[Memory]: Loading sample_fermat from _cache/joblib/__main__--var-folders-h3-d7vpv1m17lv29p7dw5y0yy1c0000gn-T-ipykernel-915298055/sample_fermat/330558b9015c31795f8cfa9ea994103e\n",
      "_______________________________________sample_fermat cache loaded - 0.0s, 0.0min\n",
      "[Memory]: Loading euclidean from _cache/joblib/__main__--var-folders-h3-d7vpv1m17lv29p7dw5y0yy1c0000gn-T-ipykernel-915298055/euclidean/98ab93b545e02ce1f0bd35576b46034c\n",
      "___________________________________________euclidean cache loaded - 0.0s, 0.0min\n",
      "[Memory]: Loading sample_fermat from _cache/joblib/__main__--var-folders-h3-d7vpv1m17lv29p7dw5y0yy1c0000gn-T-ipykernel-915298055/sample_fermat/330558b9015c31795f8cfa9ea994103e\n",
      "_______________________________________sample_fermat cache loaded - 0.0s, 0.0min\n",
      "[Memory]: Loading euclidean from _cache/joblib/__main__--var-folders-h3-d7vpv1m17lv29p7dw5y0yy1c0000gn-T-ipykernel-915298055/euclidean/98ab93b545e02ce1f0bd35576b46034c\n",
      "___________________________________________euclidean cache loaded - 0.0s, 0.0min\n",
      "[Memory]: Loading sample_fermat from _cache/joblib/__main__--var-folders-h3-d7vpv1m17lv29p7dw5y0yy1c0000gn-T-ipykernel-915298055/sample_fermat/330558b9015c31795f8cfa9ea994103e\n",
      "_______________________________________sample_fermat cache loaded - 0.0s, 0.0min\n",
      "[Memory]: Loading euclidean from _cache/joblib/__main__--var-folders-h3-d7vpv1m17lv29p7dw5y0yy1c0000gn-T-ipykernel-915298055/euclidean/98ab93b545e02ce1f0bd35576b46034c\n",
      "___________________________________________euclidean cache loaded - 0.0s, 0.0min\n",
      "[Memory]: Loading sample_fermat from _cache/joblib/__main__--var-folders-h3-d7vpv1m17lv29p7dw5y0yy1c0000gn-T-ipykernel-915298055/sample_fermat/330558b9015c31795f8cfa9ea994103e\n",
      "_______________________________________sample_fermat cache loaded - 0.0s, 0.0min\n",
      "[Memory]: Loading euclidean from _cache/joblib/__main__--var-folders-h3-d7vpv1m17lv29p7dw5y0yy1c0000gn-T-ipykernel-915298055/euclidean/98ab93b545e02ce1f0bd35576b46034c\n",
      "___________________________________________euclidean cache loaded - 0.0s, 0.0min\n",
      "[Memory]: Loading sample_fermat from _cache/joblib/__main__--var-folders-h3-d7vpv1m17lv29p7dw5y0yy1c0000gn-T-ipykernel-915298055/sample_fermat/330558b9015c31795f8cfa9ea994103e\n",
      "_______________________________________sample_fermat cache loaded - 0.0s, 0.0min\n",
      "[Memory]: Loading euclidean from _cache/joblib/__main__--var-folders-h3-d7vpv1m17lv29p7dw5y0yy1c0000gn-T-ipykernel-915298055/euclidean/98ab93b545e02ce1f0bd35576b46034c\n",
      "___________________________________________euclidean cache loaded - 0.0s, 0.0min\n",
      "[Memory]: Loading sample_fermat from _cache/joblib/__main__--var-folders-h3-d7vpv1m17lv29p7dw5y0yy1c0000gn-T-ipykernel-915298055/sample_fermat/330558b9015c31795f8cfa9ea994103e\n",
      "_______________________________________sample_fermat cache loaded - 0.0s, 0.0min\n",
      "[Memory]: Loading euclidean from _cache/joblib/__main__--var-folders-h3-d7vpv1m17lv29p7dw5y0yy1c0000gn-T-ipykernel-915298055/euclidean/98ab93b545e02ce1f0bd35576b46034c\n",
      "___________________________________________euclidean cache loaded - 0.0s, 0.0min\n",
      "[Memory]: Loading sample_fermat from _cache/joblib/__main__--var-folders-h3-d7vpv1m17lv29p7dw5y0yy1c0000gn-T-ipykernel-915298055/sample_fermat/330558b9015c31795f8cfa9ea994103e\n",
      "_______________________________________sample_fermat cache loaded - 0.0s, 0.0min\n",
      "[Memory]: Loading euclidean from _cache/joblib/__main__--var-folders-h3-d7vpv1m17lv29p7dw5y0yy1c0000gn-T-ipykernel-915298055/euclidean/98ab93b545e02ce1f0bd35576b46034c\n",
      "___________________________________________euclidean cache loaded - 0.0s, 0.0min\n",
      "[Memory]: Loading sample_fermat from _cache/joblib/__main__--var-folders-h3-d7vpv1m17lv29p7dw5y0yy1c0000gn-T-ipykernel-915298055/sample_fermat/330558b9015c31795f8cfa9ea994103e\n",
      "_______________________________________sample_fermat cache loaded - 0.0s, 0.0min\n",
      "[Memory]: Loading euclidean from _cache/joblib/__main__--var-folders-h3-d7vpv1m17lv29p7dw5y0yy1c0000gn-T-ipykernel-915298055/euclidean/98ab93b545e02ce1f0bd35576b46034c\n",
      "___________________________________________euclidean cache loaded - 0.0s, 0.0min\n",
      "[Memory]: Loading sample_fermat from _cache/joblib/__main__--var-folders-h3-d7vpv1m17lv29p7dw5y0yy1c0000gn-T-ipykernel-915298055/sample_fermat/330558b9015c31795f8cfa9ea994103e\n",
      "_______________________________________sample_fermat cache loaded - 0.0s, 0.0min\n",
      "[Memory]: Loading euclidean from _cache/joblib/__main__--var-folders-h3-d7vpv1m17lv29p7dw5y0yy1c0000gn-T-ipykernel-915298055/euclidean/98ab93b545e02ce1f0bd35576b46034c\n",
      "___________________________________________euclidean cache loaded - 0.0s, 0.0min\n",
      "[Memory]: Loading sample_fermat from _cache/joblib/__main__--var-folders-h3-d7vpv1m17lv29p7dw5y0yy1c0000gn-T-ipykernel-915298055/sample_fermat/330558b9015c31795f8cfa9ea994103e\n",
      "_______________________________________sample_fermat cache loaded - 0.0s, 0.0min\n",
      "[Memory]: Loading euclidean from _cache/joblib/__main__--var-folders-h3-d7vpv1m17lv29p7dw5y0yy1c0000gn-T-ipykernel-915298055/euclidean/98ab93b545e02ce1f0bd35576b46034c\n",
      "___________________________________________euclidean cache loaded - 0.0s, 0.0min\n",
      "[Memory]: Loading sample_fermat from _cache/joblib/__main__--var-folders-h3-d7vpv1m17lv29p7dw5y0yy1c0000gn-T-ipykernel-915298055/sample_fermat/330558b9015c31795f8cfa9ea994103e\n",
      "_______________________________________sample_fermat cache loaded - 0.0s, 0.0min\n",
      "[Memory]: Loading euclidean from _cache/joblib/__main__--var-folders-h3-d7vpv1m17lv29p7dw5y0yy1c0000gn-T-ipykernel-915298055/euclidean/98ab93b545e02ce1f0bd35576b46034c\n",
      "___________________________________________euclidean cache loaded - 0.0s, 0.0min\n",
      "[Memory]: Loading sample_fermat from _cache/joblib/__main__--var-folders-h3-d7vpv1m17lv29p7dw5y0yy1c0000gn-T-ipykernel-915298055/sample_fermat/330558b9015c31795f8cfa9ea994103e\n",
      "_______________________________________sample_fermat cache loaded - 0.0s, 0.0min\n",
      "[Memory]: Loading euclidean from _cache/joblib/__main__--var-folders-h3-d7vpv1m17lv29p7dw5y0yy1c0000gn-T-ipykernel-915298055/euclidean/98ab93b545e02ce1f0bd35576b46034c\n",
      "___________________________________________euclidean cache loaded - 0.0s, 0.0min\n",
      "[Memory]: Loading sample_fermat from _cache/joblib/__main__--var-folders-h3-d7vpv1m17lv29p7dw5y0yy1c0000gn-T-ipykernel-915298055/sample_fermat/330558b9015c31795f8cfa9ea994103e\n",
      "_______________________________________sample_fermat cache loaded - 0.0s, 0.0min\n",
      "[Memory]: Loading euclidean from _cache/joblib/__main__--var-folders-h3-d7vpv1m17lv29p7dw5y0yy1c0000gn-T-ipykernel-915298055/euclidean/98ab93b545e02ce1f0bd35576b46034c\n",
      "___________________________________________euclidean cache loaded - 0.0s, 0.0min\n",
      "[Memory]: Loading sample_fermat from _cache/joblib/__main__--var-folders-h3-d7vpv1m17lv29p7dw5y0yy1c0000gn-T-ipykernel-915298055/sample_fermat/330558b9015c31795f8cfa9ea994103e\n",
      "[Memory]: Loading sample_fermat from _cache/joblib/__main__--var-folders-h3-d7vpv1m17lv29p7dw5y0yy1c0000gn-T-ipykernel-915298055/sample_fermat/330558b9015c31795f8cfa9ea994103e\n",
      "_______________________________________sample_fermat cache loaded - 0.0s, 0.0min\n",
      "[Memory]: Loading euclidean from _cache/joblib/__main__--var-folders-h3-d7vpv1m17lv29p7dw5y0yy1c0000gn-T-ipykernel-915298055/euclidean/98ab93b545e02ce1f0bd35576b46034c\n",
      "___________________________________________euclidean cache loaded - 0.0s, 0.0min\n",
      "_______________________________________sample_fermat cache loaded - 0.0s, 0.0min\n",
      "[Memory]: Loading euclidean from _cache/joblib/__main__--var-folders-h3-d7vpv1m17lv29p7dw5y0yy1c0000gn-T-ipykernel-915298055/euclidean/98ab93b545e02ce1f0bd35576b46034c\n",
      "___________________________________________euclidean cache loaded - 0.0s, 0.0min\n",
      "[Memory]: Loading sample_fermat from _cache/joblib/__main__--var-folders-h3-d7vpv1m17lv29p7dw5y0yy1c0000gn-T-ipykernel-915298055/sample_fermat/330558b9015c31795f8cfa9ea994103e\n",
      "_______________________________________sample_fermat cache loaded - 0.0s, 0.0min\n",
      "[Memory]: Loading euclidean from _cache/joblib/__main__--var-folders-h3-d7vpv1m17lv29p7dw5y0yy1c0000gn-T-ipykernel-915298055/euclidean/98ab93b545e02ce1f0bd35576b46034c\n",
      "___________________________________________euclidean cache loaded - 0.0s, 0.0min\n",
      "[Memory]: Loading sample_fermat from _cache/joblib/__main__--var-folders-h3-d7vpv1m17lv29p7dw5y0yy1c0000gn-T-ipykernel-915298055/sample_fermat/330558b9015c31795f8cfa9ea994103e\n",
      "_______________________________________sample_fermat cache loaded - 0.0s, 0.0min\n",
      "[Memory]: Loading euclidean from _cache/joblib/__main__--var-folders-h3-d7vpv1m17lv29p7dw5y0yy1c0000gn-T-ipykernel-915298055/euclidean/98ab93b545e02ce1f0bd35576b46034c\n",
      "___________________________________________euclidean cache loaded - 0.0s, 0.0min\n",
      "[Memory]: Loading sample_fermat from _cache/joblib/__main__--var-folders-h3-d7vpv1m17lv29p7dw5y0yy1c0000gn-T-ipykernel-915298055/sample_fermat/330558b9015c31795f8cfa9ea994103e\n",
      "_______________________________________sample_fermat cache loaded - 0.0s, 0.0min\n",
      "[Memory]: Loading euclidean from _cache/joblib/__main__--var-folders-h3-d7vpv1m17lv29p7dw5y0yy1c0000gn-T-ipykernel-915298055/euclidean/98ab93b545e02ce1f0bd35576b46034c\n",
      "___________________________________________euclidean cache loaded - 0.0s, 0.0min\n",
      "[Memory]: Loading sample_fermat from _cache/joblib/__main__--var-folders-h3-d7vpv1m17lv29p7dw5y0yy1c0000gn-T-ipykernel-915298055/sample_fermat/330558b9015c31795f8cfa9ea994103e\n",
      "_______________________________________sample_fermat cache loaded - 0.0s, 0.0min\n",
      "[Memory]: Loading euclidean from _cache/joblib/__main__--var-folders-h3-d7vpv1m17lv29p7dw5y0yy1c0000gn-T-ipykernel-915298055/euclidean/98ab93b545e02ce1f0bd35576b46034c\n",
      "___________________________________________euclidean cache loaded - 0.0s, 0.0min\n",
      "[Memory]: Loading sample_fermat from _cache/joblib/__main__--var-folders-h3-d7vpv1m17lv29p7dw5y0yy1c0000gn-T-ipykernel-915298055/sample_fermat/330558b9015c31795f8cfa9ea994103e\n",
      "_______________________________________sample_fermat cache loaded - 0.0s, 0.0min\n",
      "[Memory]: Loading euclidean from _cache/joblib/__main__--var-folders-h3-d7vpv1m17lv29p7dw5y0yy1c0000gn-T-ipykernel-915298055/euclidean/98ab93b545e02ce1f0bd35576b46034c\n",
      "___________________________________________euclidean cache loaded - 0.0s, 0.0min\n",
      "[Memory]: Loading sample_fermat from _cache/joblib/__main__--var-folders-h3-d7vpv1m17lv29p7dw5y0yy1c0000gn-T-ipykernel-915298055/sample_fermat/330558b9015c31795f8cfa9ea994103e\n",
      "_______________________________________sample_fermat cache loaded - 0.0s, 0.0min\n",
      "[Memory]: Loading euclidean from _cache/joblib/__main__--var-folders-h3-d7vpv1m17lv29p7dw5y0yy1c0000gn-T-ipykernel-915298055/euclidean/98ab93b545e02ce1f0bd35576b46034c\n",
      "___________________________________________euclidean cache loaded - 0.0s, 0.0min\n",
      "[Memory]: Loading sample_fermat from _cache/joblib/__main__--var-folders-h3-d7vpv1m17lv29p7dw5y0yy1c0000gn-T-ipykernel-915298055/sample_fermat/330558b9015c31795f8cfa9ea994103e\n",
      "_______________________________________sample_fermat cache loaded - 0.0s, 0.0min\n",
      "[Memory]: Loading euclidean from _cache/joblib/__main__--var-folders-h3-d7vpv1m17lv29p7dw5y0yy1c0000gn-T-ipykernel-915298055/euclidean/98ab93b545e02ce1f0bd35576b46034c\n",
      "___________________________________________euclidean cache loaded - 0.0s, 0.0min\n",
      "[Memory]: Loading sample_fermat from _cache/joblib/__main__--var-folders-h3-d7vpv1m17lv29p7dw5y0yy1c0000gn-T-ipykernel-915298055/sample_fermat/330558b9015c31795f8cfa9ea994103e\n",
      "_______________________________________sample_fermat cache loaded - 0.0s, 0.0min\n",
      "[Memory]: Loading euclidean from _cache/joblib/__main__--var-folders-h3-d7vpv1m17lv29p7dw5y0yy1c0000gn-T-ipykernel-915298055/euclidean/98ab93b545e02ce1f0bd35576b46034c\n",
      "___________________________________________euclidean cache loaded - 0.0s, 0.0min\n",
      "[Memory]: Loading sample_fermat from _cache/joblib/__main__--var-folders-h3-d7vpv1m17lv29p7dw5y0yy1c0000gn-T-ipykernel-915298055/sample_fermat/330558b9015c31795f8cfa9ea994103e\n",
      "_______________________________________sample_fermat cache loaded - 0.0s, 0.0min\n",
      "[Memory]: Loading euclidean from _cache/joblib/__main__--var-folders-h3-d7vpv1m17lv29p7dw5y0yy1c0000gn-T-ipykernel-915298055/euclidean/98ab93b545e02ce1f0bd35576b46034c\n",
      "___________________________________________euclidean cache loaded - 0.0s, 0.0min\n"
     ]
    },
    {
     "name": "stderr",
     "output_type": "stream",
     "text": [
      "WARNING:root:[MemorizedFunc(func=<function sample_fermat at 0x1665e51b0>, location=_cache/joblib)]: Computing func sample_fermat, argument hash 97ee4df5f9a29320d00789aae54c573d in location _cache/joblib/__main__--var-folders-h3-d7vpv1m17lv29p7dw5y0yy1c0000gn-T-ipykernel-915298055/sample_fermat\n",
      "WARNING:root:[MemorizedFunc(func=<function euclidean at 0x107228af0>, location=_cache/joblib)]: Computing func euclidean, argument hash da4e57e86eeca9b2948bb89a1c1e9832 in location _cache/joblib/__main__--var-folders-h3-d7vpv1m17lv29p7dw5y0yy1c0000gn-T-ipykernel-915298055/euclidean\n"
     ]
    },
    {
     "name": "stdout",
     "output_type": "stream",
     "text": [
      "________________________________________________________________________________\n",
      "[Memory] Calling __main__--var-folders-h3-d7vpv1m17lv29p7dw5y0yy1c0000gn-T-ipykernel-915298055.sample_fermat...\n",
      "sample_fermat(array([[0.949002, 0.082007],\n",
      "       ...,\n",
      "       [0.865642, 0.690622]]), 1)\n",
      "________________________________________________________________________________\n",
      "[Memory] Calling __main__--var-folders-h3-d7vpv1m17lv29p7dw5y0yy1c0000gn-T-ipykernel-915298055.euclidean...\n",
      "euclidean(array([[0.949002, 0.082007],\n",
      "       ...,\n",
      "       [0.865642, 0.690622]]))\n",
      "Persisting in _cache/joblib/__main__--var-folders-h3-d7vpv1m17lv29p7dw5y0yy1c0000gn-T-ipykernel-915298055/euclidean/da4e57e86eeca9b2948bb89a1c1e9832\n",
      "________________________________________________________euclidean - 0.0s, 0.0min\n",
      "Persisting in _cache/joblib/__main__--var-folders-h3-d7vpv1m17lv29p7dw5y0yy1c0000gn-T-ipykernel-915298055/sample_fermat/97ee4df5f9a29320d00789aae54c573d\n",
      "___________________________________________________sample_fermat - 13.1s, 0.2min\n"
     ]
    }
   ],
   "source": [
    "fkde = GridSearchCV(FermatKDE(alpha=alpha), grid, cv=tt_cv, n_jobs=-1, verbose=1).fit(X0)\n",
    "fdf = pd.DataFrame(fkde.cv_results_)"
   ]
  },
  {
   "cell_type": "code",
   "execution_count": 19,
   "metadata": {},
   "outputs": [
    {
     "data": {
      "image/png": "[encoded data removed]",
      "text/plain": [
       "<Figure size 640x480 with 1 Axes>"
      ]
     },
     "metadata": {},
     "output_type": "display_data"
    }
   ],
   "source": [
    "pd.DataFrame(fdf).plot(x=\"param_bandwidth\", y=\"mean_test_score\")\n",
    "plt.xscale(\"log\")"
   ]
  },
  {
   "cell_type": "code",
   "execution_count": 20,
   "metadata": {},
   "outputs": [
    {
     "data": {
      "text/html": [
       "<div>\n",
       "<style scoped>\n",
       "    .dataframe tbody tr th:only-of-type {\n",
       "        vertical-align: middle;\n",
       "    }\n",
       "\n",
       "    .dataframe tbody tr th {\n",
       "        vertical-align: top;\n",
       "    }\n",
       "\n",
       "    .dataframe thead th {\n",
       "        text-align: right;\n",
       "    }\n",
       "</style>\n",
       "<table border=\"1\" class=\"dataframe\">\n",
       "  <thead>\n",
       "    <tr style=\"text-align: right;\">\n",
       "      <th></th>\n",
       "      <th>mean_fit_time</th>\n",
       "      <th>std_fit_time</th>\n",
       "      <th>mean_score_time</th>\n",
       "      <th>std_score_time</th>\n",
       "      <th>param_bandwidth</th>\n",
       "      <th>params</th>\n",
       "      <th>split0_test_score</th>\n",
       "      <th>mean_test_score</th>\n",
       "      <th>std_test_score</th>\n",
       "      <th>rank_test_score</th>\n",
       "    </tr>\n",
       "  </thead>\n",
       "  <tbody>\n",
       "    <tr>\n",
       "      <th>0</th>\n",
       "      <td>0.018028</td>\n",
       "      <td>0.0</td>\n",
       "      <td>5.802066</td>\n",
       "      <td>0.0</td>\n",
       "      <td>0.000118</td>\n",
       "      <td>{'bandwidth': 0.00011753709185352545}</td>\n",
       "      <td>-3.660064e+08</td>\n",
       "      <td>-3.660064e+08</td>\n",
       "      <td>0.0</td>\n",
       "      <td>61</td>\n",
       "    </tr>\n",
       "    <tr>\n",
       "      <th>1</th>\n",
       "      <td>0.018881</td>\n",
       "      <td>0.0</td>\n",
       "      <td>6.181064</td>\n",
       "      <td>0.0</td>\n",
       "      <td>0.000148</td>\n",
       "      <td>{'bandwidth': 0.0001479704317627884}</td>\n",
       "      <td>-3.490125e+08</td>\n",
       "      <td>-3.490125e+08</td>\n",
       "      <td>0.0</td>\n",
       "      <td>60</td>\n",
       "    </tr>\n",
       "    <tr>\n",
       "      <th>2</th>\n",
       "      <td>0.020072</td>\n",
       "      <td>0.0</td>\n",
       "      <td>6.152011</td>\n",
       "      <td>0.0</td>\n",
       "      <td>0.000186</td>\n",
       "      <td>{'bandwidth': 0.00018628373674032915}</td>\n",
       "      <td>-3.230228e+08</td>\n",
       "      <td>-3.230228e+08</td>\n",
       "      <td>0.0</td>\n",
       "      <td>59</td>\n",
       "    </tr>\n",
       "    <tr>\n",
       "      <th>3</th>\n",
       "      <td>0.035458</td>\n",
       "      <td>0.0</td>\n",
       "      <td>5.806562</td>\n",
       "      <td>0.0</td>\n",
       "      <td>0.000235</td>\n",
       "      <td>{'bandwidth': 0.00023451732998637493}</td>\n",
       "      <td>-2.880350e+08</td>\n",
       "      <td>-2.880350e+08</td>\n",
       "      <td>0.0</td>\n",
       "      <td>58</td>\n",
       "    </tr>\n",
       "    <tr>\n",
       "      <th>4</th>\n",
       "      <td>0.042343</td>\n",
       "      <td>0.0</td>\n",
       "      <td>5.875087</td>\n",
       "      <td>0.0</td>\n",
       "      <td>0.000295</td>\n",
       "      <td>{'bandwidth': 0.00029523982622596567}</td>\n",
       "      <td>-2.320545e+08</td>\n",
       "      <td>-2.320545e+08</td>\n",
       "      <td>0.0</td>\n",
       "      <td>57</td>\n",
       "    </tr>\n",
       "    <tr>\n",
       "      <th>...</th>\n",
       "      <td>...</td>\n",
       "      <td>...</td>\n",
       "      <td>...</td>\n",
       "      <td>...</td>\n",
       "      <td>...</td>\n",
       "      <td>...</td>\n",
       "      <td>...</td>\n",
       "      <td>...</td>\n",
       "      <td>...</td>\n",
       "      <td>...</td>\n",
       "    </tr>\n",
       "    <tr>\n",
       "      <th>56</th>\n",
       "      <td>0.019244</td>\n",
       "      <td>0.0</td>\n",
       "      <td>4.656916</td>\n",
       "      <td>0.0</td>\n",
       "      <td>46.792359</td>\n",
       "      <td>{'bandwidth': 46.79235907289358}</td>\n",
       "      <td>-3.811839e+03</td>\n",
       "      <td>-3.811839e+03</td>\n",
       "      <td>0.0</td>\n",
       "      <td>41</td>\n",
       "    </tr>\n",
       "    <tr>\n",
       "      <th>57</th>\n",
       "      <td>0.015357</td>\n",
       "      <td>0.0</td>\n",
       "      <td>4.505462</td>\n",
       "      <td>0.0</td>\n",
       "      <td>58.90809</td>\n",
       "      <td>{'bandwidth': 58.90808991466304}</td>\n",
       "      <td>-3.996004e+03</td>\n",
       "      <td>-3.996004e+03</td>\n",
       "      <td>0.0</td>\n",
       "      <td>42</td>\n",
       "    </tr>\n",
       "    <tr>\n",
       "      <th>58</th>\n",
       "      <td>0.022067</td>\n",
       "      <td>0.0</td>\n",
       "      <td>4.168103</td>\n",
       "      <td>0.0</td>\n",
       "      <td>74.160891</td>\n",
       "      <td>{'bandwidth': 74.16089135382508}</td>\n",
       "      <td>-4.180185e+03</td>\n",
       "      <td>-4.180185e+03</td>\n",
       "      <td>0.0</td>\n",
       "      <td>43</td>\n",
       "    </tr>\n",
       "    <tr>\n",
       "      <th>59</th>\n",
       "      <td>0.011854</td>\n",
       "      <td>0.0</td>\n",
       "      <td>4.151653</td>\n",
       "      <td>0.0</td>\n",
       "      <td>93.363031</td>\n",
       "      <td>{'bandwidth': 93.36303068663668}</td>\n",
       "      <td>-4.364375e+03</td>\n",
       "      <td>-4.364375e+03</td>\n",
       "      <td>0.0</td>\n",
       "      <td>44</td>\n",
       "    </tr>\n",
       "    <tr>\n",
       "      <th>60</th>\n",
       "      <td>0.013382</td>\n",
       "      <td>0.0</td>\n",
       "      <td>4.162584</td>\n",
       "      <td>0.0</td>\n",
       "      <td>117.537092</td>\n",
       "      <td>{'bandwidth': 117.53709185352544}</td>\n",
       "      <td>-4.548572e+03</td>\n",
       "      <td>-4.548572e+03</td>\n",
       "      <td>0.0</td>\n",
       "      <td>45</td>\n",
       "    </tr>\n",
       "  </tbody>\n",
       "</table>\n",
       "<p>61 rows × 10 columns</p>\n",
       "</div>"
      ],
      "text/plain": [
       "    mean_fit_time  std_fit_time  mean_score_time  std_score_time  \\\n",
       "0        0.018028           0.0         5.802066             0.0   \n",
       "1        0.018881           0.0         6.181064             0.0   \n",
       "2        0.020072           0.0         6.152011             0.0   \n",
       "3        0.035458           0.0         5.806562             0.0   \n",
       "4        0.042343           0.0         5.875087             0.0   \n",
       "..            ...           ...              ...             ...   \n",
       "56       0.019244           0.0         4.656916             0.0   \n",
       "57       0.015357           0.0         4.505462             0.0   \n",
       "58       0.022067           0.0         4.168103             0.0   \n",
       "59       0.011854           0.0         4.151653             0.0   \n",
       "60       0.013382           0.0         4.162584             0.0   \n",
       "\n",
       "   param_bandwidth                                 params  split0_test_score  \\\n",
       "0         0.000118  {'bandwidth': 0.00011753709185352545}      -3.660064e+08   \n",
       "1         0.000148   {'bandwidth': 0.0001479704317627884}      -3.490125e+08   \n",
       "2         0.000186  {'bandwidth': 0.00018628373674032915}      -3.230228e+08   \n",
       "3         0.000235  {'bandwidth': 0.00023451732998637493}      -2.880350e+08   \n",
       "4         0.000295  {'bandwidth': 0.00029523982622596567}      -2.320545e+08   \n",
       "..             ...                                    ...                ...   \n",
       "56       46.792359       {'bandwidth': 46.79235907289358}      -3.811839e+03   \n",
       "57        58.90809       {'bandwidth': 58.90808991466304}      -3.996004e+03   \n",
       "58       74.160891       {'bandwidth': 74.16089135382508}      -4.180185e+03   \n",
       "59       93.363031       {'bandwidth': 93.36303068663668}      -4.364375e+03   \n",
       "60      117.537092      {'bandwidth': 117.53709185352544}      -4.548572e+03   \n",
       "\n",
       "    mean_test_score  std_test_score  rank_test_score  \n",
       "0     -3.660064e+08             0.0               61  \n",
       "1     -3.490125e+08             0.0               60  \n",
       "2     -3.230228e+08             0.0               59  \n",
       "3     -2.880350e+08             0.0               58  \n",
       "4     -2.320545e+08             0.0               57  \n",
       "..              ...             ...              ...  \n",
       "56    -3.811839e+03             0.0               41  \n",
       "57    -3.996004e+03             0.0               42  \n",
       "58    -4.180185e+03             0.0               43  \n",
       "59    -4.364375e+03             0.0               44  \n",
       "60    -4.548572e+03             0.0               45  \n",
       "\n",
       "[61 rows x 10 columns]"
      ]
     },
     "execution_count": 20,
     "metadata": {},
     "output_type": "execute_result"
    }
   ],
   "source": [
    "fdf"
   ]
  },
  {
   "cell_type": "code",
   "execution_count": 21,
   "metadata": {},
   "outputs": [
    {
     "name": "stdout",
     "output_type": "stream",
     "text": [
      "Fitting 10 folds for each of 61 candidates, totalling 610 fits\n"
     ]
    }
   ],
   "source": [
    "skde = GridSearchCV(KernelDensity(), grid, cv=ss_cv, n_jobs=-1, verbose=1).fit(X0)\n",
    "sdf = pd.DataFrame(skde.cv_results_)"
   ]
  },
  {
   "cell_type": "code",
   "execution_count": 22,
   "metadata": {},
   "outputs": [
    {
     "data": {
      "text/plain": [
       "({'bandwidth': 0.04679235907289353},\n",
       " -123.92454225949932,\n",
       " {'bandwidth': 0.04679235907289353},\n",
       " -135.73940215391949)"
      ]
     },
     "execution_count": 22,
     "metadata": {},
     "output_type": "execute_result"
    }
   ],
   "source": [
    "fkde.best_params_, fkde.best_score_, skde.best_params_, skde.best_score_"
   ]
  },
  {
   "cell_type": "code",
   "execution_count": 23,
   "metadata": {},
   "outputs": [
    {
     "data": {
      "image/png": "[encoded data removed]",
      "text/plain": [
       "<Figure size 640x480 with 1 Axes>"
      ]
     },
     "metadata": {},
     "output_type": "display_data"
    }
   ],
   "source": [
    "import seaborn as sns\n",
    "for method, df in {\"fermat\": fdf, \"sklearn\": sdf}.items():\n",
    "    plt.plot(df.param_bandwidth, -df.mean_test_score, label=method)\n",
    "    plt.scatter(df.param_bandwidth, -df.mean_test_score, label=method, marker='x')\n",
    "    # sns.lineplot(x=\"param_bandwidth\", y=\"mean_test_score\", label=method, data=df)#[df[\"param_bandwidth\"].between(5, 100)])\n",
    "    # sns.scatterplot(x=\"param_bandwidth\", y=\"mean_test_score\", label=\"fermat\", data=df)#fdf[fdf[\"param_bandwidth\"].between(0.3, 3)])\n",
    "plt.xscale(\"log\"), plt.yscale(\"log\")\n",
    "plt.show()"
   ]
  },
  {
   "cell_type": "code",
   "execution_count": 24,
   "metadata": {},
   "outputs": [
    {
     "data": {
      "text/plain": [
       "({'bandwidth': 0.04679235907289353},\n",
       " -123.92454225949932,\n",
       " {'bandwidth': 0.04679235907289353},\n",
       " -135.73940215391949)"
      ]
     },
     "execution_count": 24,
     "metadata": {},
     "output_type": "execute_result"
    }
   ],
   "source": [
    "fkde.best_params_, fkde.best_score_, skde.best_params_, skde.best_score_"
   ]
  },
  {
   "cell_type": "code",
   "execution_count": 25,
   "metadata": {},
   "outputs": [
    {
     "name": "stdout",
     "output_type": "stream",
     "text": [
      "[Memory]70.2s, 1.2min   : Loading sample_fermat from _cache/joblib/__main__--var-folders-h3-d7vpv1m17lv29p7dw5y0yy1c0000gn-T-ipykernel-915298055/sample_fermat/330558b9015c31795f8cfa9ea994103e\n",
      "_______________________________________sample_fermat cache loaded - 0.0s, 0.0min\n"
     ]
    }
   ],
   "source": [
    "# retrain fkde and skde with the best parameters from the grid search\n",
    "fkde = FermatKDE(alpha=alpha, bandwidth=fkde.best_params_[\"bandwidth\"]).fit(X0[idx_train])\n",
    "skde = KernelDensity(bandwidth=skde.best_params_[\"bandwidth\"]).fit(X0[idx_train])"
   ]
  },
  {
   "cell_type": "code",
   "execution_count": 26,
   "metadata": {},
   "outputs": [
    {
     "name": "stderr",
     "output_type": "stream",
     "text": [
      "WARNING:root:[MemorizedFunc(func=<function euclidean at 0x107228af0>, location=_cache/joblib)]: Computing func euclidean, argument hash 03da4c7c318ed0dd124385bd167ddbeb in location _cache/joblib/__main__--var-folders-h3-d7vpv1m17lv29p7dw5y0yy1c0000gn-T-ipykernel-915298055/euclidean\n"
     ]
    },
    {
     "name": "stdout",
     "output_type": "stream",
     "text": [
      "________________________________________________________________________________\n",
      "[Memory] Calling __main__--var-folders-h3-d7vpv1m17lv29p7dw5y0yy1c0000gn-T-ipykernel-915298055.euclidean...\n",
      "euclidean(array([[-1.004333,  0.584776],\n",
      "       ...,\n",
      "       [ 0.316065,  1.062498]]), array([[-1.004333,  0.584776],\n",
      "       ...,\n",
      "       [ 0.316065,  1.062498]]))\n",
      "Persisting in _cache/joblib/__main__--var-folders-h3-d7vpv1m17lv29p7dw5y0yy1c0000gn-T-ipykernel-915298055/euclidean/03da4c7c318ed0dd124385bd167ddbeb\n",
      "________________________________________________________euclidean - 0.0s, 0.0min\n",
      "[Memory]78.1s, 1.3min   : Loading euclidean from _cache/joblib/__main__--var-folders-h3-d7vpv1m17lv29p7dw5y0yy1c0000gn-T-ipykernel-915298055/euclidean/98ab93b545e02ce1f0bd35576b46034c\n",
      "___________________________________________euclidean cache loaded - 0.0s, 0.0min\n"
     ]
    },
    {
     "name": "stderr",
     "output_type": "stream",
     "text": [
      "WARNING:root:[MemorizedFunc(func=<function euclidean at 0x107228af0>, location=_cache/joblib)]: Computing func euclidean, argument hash bda07ca2416a2a89b240f50b38b2f310 in location _cache/joblib/__main__--var-folders-h3-d7vpv1m17lv29p7dw5y0yy1c0000gn-T-ipykernel-915298055/euclidean\n"
     ]
    },
    {
     "name": "stdout",
     "output_type": "stream",
     "text": [
      "________________________________________________________________________________\n",
      "[Memory] Calling __main__--var-folders-h3-d7vpv1m17lv29p7dw5y0yy1c0000gn-T-ipykernel-915298055.euclidean...\n",
      "euclidean(array([[ 2.094109,  0.170904],\n",
      "       ...,\n",
      "       [ 1.226615, -0.468021]]), array([[-1.004333,  0.584776],\n",
      "       ...,\n",
      "       [ 0.316065,  1.062498]]))\n",
      "Persisting in _cache/joblib/__main__--var-folders-h3-d7vpv1m17lv29p7dw5y0yy1c0000gn-T-ipykernel-915298055/euclidean/bda07ca2416a2a89b240f50b38b2f310\n",
      "________________________________________________________euclidean - 0.0s, 0.0min\n"
     ]
    },
    {
     "data": {
      "text/plain": [
       "(-0.26074521193057754, -0.3098113556487483, -64.19090195452272)"
      ]
     },
     "execution_count": 26,
     "metadata": {},
     "output_type": "execute_result"
    }
   ],
   "source": [
    "fkde.score_samples(X0[idx_train]).mean(), fkde.score_samples(X0[idx_test]).mean(), fkde.score_samples(X1).mean()"
   ]
  },
  {
   "cell_type": "code",
   "execution_count": 27,
   "metadata": {},
   "outputs": [
    {
     "data": {
      "text/plain": [
       "(-0.260745211930589, -0.30981135564875906, -60.7778530933392)"
      ]
     },
     "execution_count": 27,
     "metadata": {},
     "output_type": "execute_result"
    }
   ],
   "source": [
    "skde.score_samples(X0[idx_train]).mean(), skde.score_samples(X0[idx_test]).mean(), skde.score_samples(X1).mean()"
   ]
  },
  {
   "cell_type": "code",
   "execution_count": 28,
   "metadata": {},
   "outputs": [
    {
     "name": "stdout",
     "output_type": "stream",
     "text": [
      "[Memory]89.9s, 1.5min   : Loading euclidean from _cache/joblib/__main__--var-folders-h3-d7vpv1m17lv29p7dw5y0yy1c0000gn-T-ipykernel-915298055/euclidean/98ab93b545e02ce1f0bd35576b46034c\n",
      "___________________________________________euclidean cache loaded - 0.0s, 0.0min\n"
     ]
    },
    {
     "data": {
      "text/plain": [
       "count    400.000000\n",
       "mean      -0.309811\n",
       "std        0.613814\n",
       "min       -3.519285\n",
       "25%       -0.508999\n",
       "50%       -0.087564\n",
       "75%        0.055885\n",
       "max        0.466378\n",
       "dtype: float64"
      ]
     },
     "execution_count": 28,
     "metadata": {},
     "output_type": "execute_result"
    }
   ],
   "source": [
    "pd.Series(fkde.score_samples(X0[idx_test])).describe()"
   ]
  },
  {
   "cell_type": "code",
   "execution_count": 29,
   "metadata": {},
   "outputs": [
    {
     "data": {
      "text/plain": [
       "count    400.000000\n",
       "mean      -0.309811\n",
       "std        0.613814\n",
       "min       -3.519285\n",
       "25%       -0.508999\n",
       "50%       -0.087564\n",
       "75%        0.055885\n",
       "max        0.466378\n",
       "dtype: float64"
      ]
     },
     "execution_count": 29,
     "metadata": {},
     "output_type": "execute_result"
    }
   ],
   "source": [
    "pd.Series(skde.score_samples(X0[idx_test])).describe()"
   ]
  },
  {
   "cell_type": "code",
   "execution_count": 30,
   "metadata": {},
   "outputs": [
    {
     "data": {
      "image/png": "[encoded data removed]",
      "text/plain": [
       "<Figure size 640x480 with 1 Axes>"
      ]
     },
     "metadata": {},
     "output_type": "display_data"
    }
   ],
   "source": [
    "plt.hist((fkde.A_ / fkde.bandwidth).flatten(), bins=100)\n",
    "plt.show()"
   ]
  },
  {
   "cell_type": "code",
   "execution_count": 31,
   "metadata": {},
   "outputs": [
    {
     "name": "stdout",
     "output_type": "stream",
     "text": [
      "  param_bandwidth  mean_test_score\n",
      "0        1.18e-04        -7.13e+06\n",
      "1        1.48e-04        -4.48e+06\n",
      "2        1.86e-04        -2.80e+06\n",
      "3        2.35e-04        -1.77e+06\n",
      "4        2.95e-04        -1.11e+06\n"
     ]
    }
   ],
   "source": [
    "# pd.options.display.float_format = \"{:.2e}\".format\n",
    "with pd.option_context('display.float_format', '{:.2e}'.format):\n",
    "    print(sdf[[\"param_bandwidth\", \"mean_test_score\"]].head())"
   ]
  },
  {
   "cell_type": "code",
   "execution_count": null,
   "metadata": {},
   "outputs": [],
   "source": []
  }
 ],
 "metadata": {
  "kernelspec": {
   "display_name": "jose-luis",
   "language": "python",
   "name": "python3"
  },
  "language_info": {
   "codemirror_mode": {
    "name": "ipython",
    "version": 3
   },
   "file_extension": ".py",
   "mimetype": "text/x-python",
   "name": "python",
   "nbconvert_exporter": "python",
   "pygments_lexer": "ipython3",
   "version": "3.10.10"
  },
  "orig_nbformat": 4
 },
 "nbformat": 4,
 "nbformat_minor": 2
}
