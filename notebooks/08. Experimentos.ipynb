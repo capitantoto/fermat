{
 "cells": [
  {
   "cell_type": "markdown",
   "metadata": {},
   "source": [
    "# 08. Experimentos"
   ]
  },
  {
   "cell_type": "code",
   "execution_count": 1,
   "metadata": {},
   "outputs": [],
   "source": [
    "%load_ext autoreload\n",
    "%autoreload 1\n",
    "%aimport main"
   ]
  },
  {
   "cell_type": "code",
   "execution_count": 2,
   "metadata": {},
   "outputs": [],
   "source": [
    "import numpy as np\n",
    "import pandas as pd\n",
    "import matplotlib.pyplot as plt\n",
    "import seaborn as sns\n",
    "\n",
    "from sklearn.model_selection import train_test_split, GridSearchCV, ShuffleSplit\n",
    "from sklearn.datasets import (\n",
    "    load_iris,\n",
    "    load_digits,\n",
    "    make_moons,\n",
    "    fetch_openml,\n",
    "    make_circles,\n",
    ")\n",
    "\n",
    "from main import pilot_h, euclidean, sample_fermat\n",
    "from main import Bundle, FermatKDE, BaseKDEClassifier, FermatKDEClassifier\n",
    "\n",
    "from sklearn.linear_model import LogisticRegression\n",
    "from sklearn.tree import DecisionTreeClassifier\n",
    "from sklearn.ensemble import RandomForestClassifier\n",
    "from sklearn.svm import SVC\n",
    "from sklearn.naive_bayes import GaussianNB\n",
    "from sklearn.neighbors import KNeighborsClassifier\n",
    "from lightgbm import LGBMClassifier\n",
    "\n",
    "SEED = 1957"
   ]
  },
  {
   "cell_type": "markdown",
   "metadata": {},
   "source": [
    "## Datasets disponibles"
   ]
  },
  {
   "cell_type": "code",
   "execution_count": 123,
   "metadata": {},
   "outputs": [],
   "source": [
    "# X, y = make_circles(n_samples=2000, noise=0.15, factor=0.5, random_state=SEED)\n",
    "# X, y = make_moons(n_samples=2000, noise=0.1)\n",
    "# X, y = load_digits(return_X_y=True)\n",
    "# X, y = load_iris(return_X_y=True)\n",
    "X, y = fetch_openml(\n",
    "    \"mnist_784\", version=1, parser=\"auto\", return_X_y=True, as_frame=False\n",
    ")"
   ]
  },
  {
   "cell_type": "code",
   "execution_count": 124,
   "metadata": {},
   "outputs": [],
   "source": [
    "n_samples = 1000\n",
    "sample_indices = np.random.randint(0, len(X), 1000)\n",
    "X, y = X[sample_indices], y[sample_indices]"
   ]
  },
  {
   "cell_type": "code",
   "execution_count": 125,
   "metadata": {},
   "outputs": [],
   "source": [
    "# Choosing train/test split by indices is equivalent to choosing rows themselves\n",
    "idx_train, idx_test = train_test_split(\n",
    "    np.arange(len(X)), test_size=0.9, random_state=SEED\n",
    ")\n",
    "tt_cv = [(idx_train, idx_test)]\n",
    "ss_cv = ShuffleSplit(n_splits=5, test_size=0.5, random_state=SEED)"
   ]
  },
  {
   "cell_type": "code",
   "execution_count": 126,
   "metadata": {},
   "outputs": [
    {
     "data": {
      "text/plain": [
       "(100, 900)"
      ]
     },
     "execution_count": 126,
     "metadata": {},
     "output_type": "execute_result"
    }
   ],
   "source": [
    "len(idx_train), len(idx_test)"
   ]
  },
  {
   "cell_type": "code",
   "execution_count": 127,
   "metadata": {},
   "outputs": [
    {
     "data": {
      "text/plain": [
       "138.9887274927925"
      ]
     },
     "execution_count": 127,
     "metadata": {},
     "output_type": "execute_result"
    }
   ],
   "source": [
    "A = euclidean(X[idx_train])\n",
    "pilot_h(A)"
   ]
  },
  {
   "cell_type": "code",
   "execution_count": 128,
   "metadata": {},
   "outputs": [
    {
     "data": {
      "text/plain": [
       "{'bandwidth': array([1.38988727e+00, 3.49123899e+00, 8.76959584e+00, 2.20282288e+01,\n",
       "        5.53324090e+01, 1.38988727e+02, 3.49123899e+02, 8.76959584e+02,\n",
       "        2.20282288e+03, 5.53324090e+03, 1.38988727e+04])}"
      ]
     },
     "execution_count": 128,
     "metadata": {},
     "output_type": "execute_result"
    }
   ],
   "source": [
    "logscale = np.logspace(-2, 2, 11)\n",
    "base_grid = {\"bandwidth\": pilot_h(A) * logscale}\n",
    "base_grid"
   ]
  },
  {
   "cell_type": "code",
   "execution_count": 129,
   "metadata": {},
   "outputs": [],
   "source": [
    "alphas = np.linspace(1, 2, 3)\n",
    "DQ = {alpha: sample_fermat(X[idx_train], alpha) for alpha in alphas}"
   ]
  },
  {
   "cell_type": "code",
   "execution_count": 130,
   "metadata": {},
   "outputs": [
    {
     "data": {
      "text/plain": [
       "[{'alpha': [1.0],\n",
       "  'bandwidth': array([-1.00000000e+00,  1.38988727e+00,  3.49123899e+00,  8.76959584e+00,\n",
       "          2.20282288e+01,  5.53324090e+01,  1.38988727e+02,  3.49123899e+02,\n",
       "          8.76959584e+02,  2.20282288e+03,  5.53324090e+03,  1.38988727e+04])},\n",
       " {'alpha': [1.5],\n",
       "  'bandwidth': array([-1.00000000e+00,  1.07346175e+02,  2.69641400e+02,  6.77308573e+02,\n",
       "          1.70132221e+03,  4.27352819e+03,  1.07346175e+04,  2.69641400e+04,\n",
       "          6.77308573e+04,  1.70132221e+05,  4.27352819e+05,  1.07346175e+06])},\n",
       " {'alpha': [2.0],\n",
       "  'bandwidth': array([-1.00000000e+00,  7.37118280e+03,  1.85155741e+04,  4.65090193e+04,\n",
       "          1.16825374e+05,  2.93452073e+05,  7.37118280e+05,  1.85155741e+06,\n",
       "          4.65090193e+06,  1.16825374e+07,  2.93452073e+07,  7.37118280e+07])}]"
      ]
     },
     "execution_count": 130,
     "metadata": {},
     "output_type": "execute_result"
    }
   ],
   "source": [
    "fermat_grid = [\n",
    "    {\n",
    "        \"alpha\": [alpha],\n",
    "        \"bandwidth\": np.concatenate([[-1], pilot_h(DQ[alpha]) * logscale]),\n",
    "    }\n",
    "    for alpha in alphas\n",
    "]\n",
    "fermat_grid"
   ]
  },
  {
   "cell_type": "code",
   "execution_count": 131,
   "metadata": {},
   "outputs": [],
   "source": [
    "models = {\n",
    "    \"fermat\": (FermatKDEClassifier, fermat_grid),\n",
    "    \"base\": (BaseKDEClassifier, base_grid),\n",
    "}"
   ]
  },
  {
   "cell_type": "code",
   "execution_count": 132,
   "metadata": {},
   "outputs": [
    {
     "name": "stdout",
     "output_type": "stream",
     "text": [
      "fermat\n",
      "Fitting 5 folds for each of 36 candidates, totalling 180 fits\n",
      "{'alpha': 1.0, 'bandwidth': -1.0} 0.11599999999999999\n",
      "base\n",
      "Fitting 5 folds for each of 11 candidates, totalling 55 fits\n",
      "{'bandwidth': 1.389887274927925} 0.11599999999999999\n"
     ]
    }
   ],
   "source": [
    "searches = {}\n",
    "for name, (model, grid) in models.items():\n",
    "    print(name)\n",
    "    searches[name] = search = GridSearchCV(\n",
    "        model(), grid, cv=cv, n_jobs=-1, verbose=1, refit=False\n",
    "    ).fit(X[idx_train], y[idx_train])\n",
    "    print(search.best_params_, search.best_score_)"
   ]
  },
  {
   "cell_type": "code",
   "execution_count": 133,
   "metadata": {},
   "outputs": [
    {
     "name": "stdout",
     "output_type": "stream",
     "text": [
      "fermat\n",
      "{'alpha': 1.0, 'bandwidth': -1.0} 0.11599999999999999\n",
      "base\n",
      "{'bandwidth': 1.389887274927925} 0.11599999999999999\n"
     ]
    }
   ],
   "source": [
    "for name, search in searches.items():\n",
    "    print(name)\n",
    "    print(search.best_params_, search.best_score_)"
   ]
  },
  {
   "cell_type": "code",
   "execution_count": 134,
   "metadata": {},
   "outputs": [],
   "source": [
    "from sklearn.model_selection import cross_val_score\n",
    "\n",
    "test_results = {\n",
    "    name: cross_val_score(models[name][0](**search.best_params_), X, y, cv=tt_cv)\n",
    "    for name, search in searches.items()\n",
    "}"
   ]
  },
  {
   "cell_type": "code",
   "execution_count": 135,
   "metadata": {},
   "outputs": [
    {
     "data": {
      "text/plain": [
       "{'fermat': array([0.10333333]), 'base': array([0.10333333])}"
      ]
     },
     "execution_count": 135,
     "metadata": {},
     "output_type": "execute_result"
    }
   ],
   "source": [
    "test_results"
   ]
  },
  {
   "cell_type": "code",
   "execution_count": 136,
   "metadata": {},
   "outputs": [
    {
     "data": {
      "text/plain": [
       "(array([ 96.11853658,  81.78409364,  67.02051245, 109.67047799,\n",
       "         86.81772579,  93.46023483,  85.47128703,  65.21200656,\n",
       "         68.37264705,  79.18888363]),\n",
       " 0.10333333333333333)"
      ]
     },
     "execution_count": 136,
     "metadata": {},
     "output_type": "execute_result"
    }
   ],
   "source": [
    "clf = FermatKDEClassifier(**searches[\"fermat\"].best_params_).fit(\n",
    "    X[idx_train], y[idx_train]\n",
    ")\n",
    "clf.bandwidths_, clf.score(X[idx_test], y[idx_test])"
   ]
  },
  {
   "cell_type": "code",
   "execution_count": 137,
   "metadata": {},
   "outputs": [],
   "source": [
    "results = pd.concat(\n",
    "    [pd.DataFrame(v.cv_results_) for v in searches.values()],\n",
    "    keys=searches.keys(),\n",
    "    names=[\"method\", \"candidate\"],\n",
    ").reset_index()"
   ]
  },
  {
   "cell_type": "code",
   "execution_count": 138,
   "metadata": {},
   "outputs": [],
   "source": [
    "results[\"oos_score\"] = results.apply(\n",
    "    lambda x: models[x.method][0](**x.params)\n",
    "    .fit(X[idx_train], y[idx_train])\n",
    "    .score(X[idx_test], y[idx_test]),\n",
    "    axis=1,\n",
    ")"
   ]
  },
  {
   "cell_type": "code",
   "execution_count": 139,
   "metadata": {},
   "outputs": [
    {
     "data": {
      "text/html": [
       "<div>\n",
       "<style scoped>\n",
       "    .dataframe tbody tr th:only-of-type {\n",
       "        vertical-align: middle;\n",
       "    }\n",
       "\n",
       "    .dataframe tbody tr th {\n",
       "        vertical-align: top;\n",
       "    }\n",
       "\n",
       "    .dataframe thead th {\n",
       "        text-align: right;\n",
       "    }\n",
       "</style>\n",
       "<table border=\"1\" class=\"dataframe\">\n",
       "  <thead>\n",
       "    <tr style=\"text-align: right;\">\n",
       "      <th></th>\n",
       "      <th>method</th>\n",
       "      <th>params</th>\n",
       "      <th>mean_test_score</th>\n",
       "      <th>std_test_score</th>\n",
       "      <th>oos_score</th>\n",
       "    </tr>\n",
       "  </thead>\n",
       "  <tbody>\n",
       "    <tr>\n",
       "      <th>0</th>\n",
       "      <td>fermat</td>\n",
       "      <td>{'alpha': 1.0, 'bandwidth': -1.0}</td>\n",
       "      <td>0.116</td>\n",
       "      <td>0.023</td>\n",
       "      <td>0.103</td>\n",
       "    </tr>\n",
       "    <tr>\n",
       "      <th>35</th>\n",
       "      <td>fermat</td>\n",
       "      <td>{'alpha': 2.0, 'bandwidth': 73711828.03052434}</td>\n",
       "      <td>0.116</td>\n",
       "      <td>0.023</td>\n",
       "      <td>0.103</td>\n",
       "    </tr>\n",
       "    <tr>\n",
       "      <th>26</th>\n",
       "      <td>fermat</td>\n",
       "      <td>{'alpha': 2.0, 'bandwidth': 18515.574067164158}</td>\n",
       "      <td>0.116</td>\n",
       "      <td>0.023</td>\n",
       "      <td>0.103</td>\n",
       "    </tr>\n",
       "    <tr>\n",
       "      <th>27</th>\n",
       "      <td>fermat</td>\n",
       "      <td>{'alpha': 2.0, 'bandwidth': 46509.01927092032}</td>\n",
       "      <td>0.116</td>\n",
       "      <td>0.023</td>\n",
       "      <td>0.103</td>\n",
       "    </tr>\n",
       "    <tr>\n",
       "      <th>28</th>\n",
       "      <td>fermat</td>\n",
       "      <td>{'alpha': 2.0, 'bandwidth': 116825.37444944237}</td>\n",
       "      <td>0.116</td>\n",
       "      <td>0.023</td>\n",
       "      <td>0.103</td>\n",
       "    </tr>\n",
       "    <tr>\n",
       "      <th>29</th>\n",
       "      <td>fermat</td>\n",
       "      <td>{'alpha': 2.0, 'bandwidth': 293452.0729355802}</td>\n",
       "      <td>0.116</td>\n",
       "      <td>0.023</td>\n",
       "      <td>0.103</td>\n",
       "    </tr>\n",
       "    <tr>\n",
       "      <th>30</th>\n",
       "      <td>fermat</td>\n",
       "      <td>{'alpha': 2.0, 'bandwidth': 737118.2803052434}</td>\n",
       "      <td>0.116</td>\n",
       "      <td>0.023</td>\n",
       "      <td>0.103</td>\n",
       "    </tr>\n",
       "    <tr>\n",
       "      <th>31</th>\n",
       "      <td>fermat</td>\n",
       "      <td>{'alpha': 2.0, 'bandwidth': 1851557.406716418}</td>\n",
       "      <td>0.116</td>\n",
       "      <td>0.023</td>\n",
       "      <td>0.103</td>\n",
       "    </tr>\n",
       "    <tr>\n",
       "      <th>32</th>\n",
       "      <td>fermat</td>\n",
       "      <td>{'alpha': 2.0, 'bandwidth': 4650901.927092034}</td>\n",
       "      <td>0.116</td>\n",
       "      <td>0.023</td>\n",
       "      <td>0.103</td>\n",
       "    </tr>\n",
       "    <tr>\n",
       "      <th>33</th>\n",
       "      <td>fermat</td>\n",
       "      <td>{'alpha': 2.0, 'bandwidth': 11682537.444944236}</td>\n",
       "      <td>0.116</td>\n",
       "      <td>0.023</td>\n",
       "      <td>0.103</td>\n",
       "    </tr>\n",
       "  </tbody>\n",
       "</table>\n",
       "</div>"
      ],
      "text/plain": [
       "    method                                           params  mean_test_score  \\\n",
       "0   fermat                {'alpha': 1.0, 'bandwidth': -1.0}            0.116   \n",
       "35  fermat   {'alpha': 2.0, 'bandwidth': 73711828.03052434}            0.116   \n",
       "26  fermat  {'alpha': 2.0, 'bandwidth': 18515.574067164158}            0.116   \n",
       "27  fermat   {'alpha': 2.0, 'bandwidth': 46509.01927092032}            0.116   \n",
       "28  fermat  {'alpha': 2.0, 'bandwidth': 116825.37444944237}            0.116   \n",
       "29  fermat   {'alpha': 2.0, 'bandwidth': 293452.0729355802}            0.116   \n",
       "30  fermat   {'alpha': 2.0, 'bandwidth': 737118.2803052434}            0.116   \n",
       "31  fermat   {'alpha': 2.0, 'bandwidth': 1851557.406716418}            0.116   \n",
       "32  fermat   {'alpha': 2.0, 'bandwidth': 4650901.927092034}            0.116   \n",
       "33  fermat  {'alpha': 2.0, 'bandwidth': 11682537.444944236}            0.116   \n",
       "\n",
       "    std_test_score  oos_score  \n",
       "0            0.023      0.103  \n",
       "35           0.023      0.103  \n",
       "26           0.023      0.103  \n",
       "27           0.023      0.103  \n",
       "28           0.023      0.103  \n",
       "29           0.023      0.103  \n",
       "30           0.023      0.103  \n",
       "31           0.023      0.103  \n",
       "32           0.023      0.103  \n",
       "33           0.023      0.103  "
      ]
     },
     "execution_count": 139,
     "metadata": {},
     "output_type": "execute_result"
    }
   ],
   "source": [
    "results[\n",
    "    [\"method\", \"params\", \"mean_test_score\", \"std_test_score\", \"oos_score\"]\n",
    "].sort_values(\"oos_score\", ascending=False).head(10).round(3)"
   ]
  },
  {
   "cell_type": "code",
   "execution_count": 140,
   "metadata": {},
   "outputs": [
    {
     "data": {
      "text/plain": [
       "0.64"
      ]
     },
     "execution_count": 140,
     "metadata": {},
     "output_type": "execute_result"
    }
   ],
   "source": [
    "gbm_grid = Bundle(\n",
    "    num_leaves=[3, 5, 7],\n",
    "    n_estimators=[100, 500],\n",
    "    learning_rate=np.logspace(-3, -1, 5),\n",
    "    # reg_lambda=[0.01, 0.1],\n",
    "    # reg_alpha=[0.01, 0.1],\n",
    ")\n",
    "gbm_search = GridSearchCV(LGBMClassifier(objective=\"multiclass\"), gbm_grid, cv=ss_cv)\n",
    "gbm_search.fit(X[idx_train], y[idx_train])\n",
    "gbm_clf = LGBMClassifier(objective=\"multiclass\", **gbm_search.best_params_).fit(\n",
    "    X[idx_train], y[idx_train]\n",
    ")\n",
    "gbm_clf.score(X[idx_test], y[idx_test])"
   ]
  },
  {
   "cell_type": "code",
   "execution_count": 141,
   "metadata": {},
   "outputs": [
    {
     "data": {
      "text/html": [
       "<style>#sk-container-id-2 {color: black;background-color: white;}#sk-container-id-2 pre{padding: 0;}#sk-container-id-2 div.sk-toggleable {background-color: white;}#sk-container-id-2 label.sk-toggleable__label {cursor: pointer;display: block;width: 100%;margin-bottom: 0;padding: 0.3em;box-sizing: border-box;text-align: center;}#sk-container-id-2 label.sk-toggleable__label-arrow:before {content: \"▸\";float: left;margin-right: 0.25em;color: #696969;}#sk-container-id-2 label.sk-toggleable__label-arrow:hover:before {color: black;}#sk-container-id-2 div.sk-estimator:hover label.sk-toggleable__label-arrow:before {color: black;}#sk-container-id-2 div.sk-toggleable__content {max-height: 0;max-width: 0;overflow: hidden;text-align: left;background-color: #f0f8ff;}#sk-container-id-2 div.sk-toggleable__content pre {margin: 0.2em;color: black;border-radius: 0.25em;background-color: #f0f8ff;}#sk-container-id-2 input.sk-toggleable__control:checked~div.sk-toggleable__content {max-height: 200px;max-width: 100%;overflow: auto;}#sk-container-id-2 input.sk-toggleable__control:checked~label.sk-toggleable__label-arrow:before {content: \"▾\";}#sk-container-id-2 div.sk-estimator input.sk-toggleable__control:checked~label.sk-toggleable__label {background-color: #d4ebff;}#sk-container-id-2 div.sk-label input.sk-toggleable__control:checked~label.sk-toggleable__label {background-color: #d4ebff;}#sk-container-id-2 input.sk-hidden--visually {border: 0;clip: rect(1px 1px 1px 1px);clip: rect(1px, 1px, 1px, 1px);height: 1px;margin: -1px;overflow: hidden;padding: 0;position: absolute;width: 1px;}#sk-container-id-2 div.sk-estimator {font-family: monospace;background-color: #f0f8ff;border: 1px dotted black;border-radius: 0.25em;box-sizing: border-box;margin-bottom: 0.5em;}#sk-container-id-2 div.sk-estimator:hover {background-color: #d4ebff;}#sk-container-id-2 div.sk-parallel-item::after {content: \"\";width: 100%;border-bottom: 1px solid gray;flex-grow: 1;}#sk-container-id-2 div.sk-label:hover label.sk-toggleable__label {background-color: #d4ebff;}#sk-container-id-2 div.sk-serial::before {content: \"\";position: absolute;border-left: 1px solid gray;box-sizing: border-box;top: 0;bottom: 0;left: 50%;z-index: 0;}#sk-container-id-2 div.sk-serial {display: flex;flex-direction: column;align-items: center;background-color: white;padding-right: 0.2em;padding-left: 0.2em;position: relative;}#sk-container-id-2 div.sk-item {position: relative;z-index: 1;}#sk-container-id-2 div.sk-parallel {display: flex;align-items: stretch;justify-content: center;background-color: white;position: relative;}#sk-container-id-2 div.sk-item::before, #sk-container-id-2 div.sk-parallel-item::before {content: \"\";position: absolute;border-left: 1px solid gray;box-sizing: border-box;top: 0;bottom: 0;left: 50%;z-index: -1;}#sk-container-id-2 div.sk-parallel-item {display: flex;flex-direction: column;z-index: 1;position: relative;background-color: white;}#sk-container-id-2 div.sk-parallel-item:first-child::after {align-self: flex-end;width: 50%;}#sk-container-id-2 div.sk-parallel-item:last-child::after {align-self: flex-start;width: 50%;}#sk-container-id-2 div.sk-parallel-item:only-child::after {width: 0;}#sk-container-id-2 div.sk-dashed-wrapped {border: 1px dashed gray;margin: 0 0.4em 0.5em 0.4em;box-sizing: border-box;padding-bottom: 0.4em;background-color: white;}#sk-container-id-2 div.sk-label label {font-family: monospace;font-weight: bold;display: inline-block;line-height: 1.2em;}#sk-container-id-2 div.sk-label-container {text-align: center;}#sk-container-id-2 div.sk-container {/* jupyter's `normalize.less` sets `[hidden] { display: none; }` but bootstrap.min.css set `[hidden] { display: none !important; }` so we also need the `!important` here to be able to override the default hidden behavior on the sphinx rendered scikit-learn.org. See: https://github.com/scikit-learn/scikit-learn/issues/21755 */display: inline-block !important;position: relative;}#sk-container-id-2 div.sk-text-repr-fallback {display: none;}</style><div id=\"sk-container-id-2\" class=\"sk-top-container\"><div class=\"sk-text-repr-fallback\"><pre>LGBMClassifier(learning_rate=0.05, n_estimators=500, num_leaves=7,\n",
       "               objective=&#x27;multiclass&#x27;, reg_lambda=1)</pre><b>In a Jupyter environment, please rerun this cell to show the HTML representation or trust the notebook. <br />On GitHub, the HTML representation is unable to render, please try loading this page with nbviewer.org.</b></div><div class=\"sk-container\" hidden><div class=\"sk-item\"><div class=\"sk-estimator sk-toggleable\"><input class=\"sk-toggleable__control sk-hidden--visually\" id=\"sk-estimator-id-2\" type=\"checkbox\" checked><label for=\"sk-estimator-id-2\" class=\"sk-toggleable__label sk-toggleable__label-arrow\">LGBMClassifier</label><div class=\"sk-toggleable__content\"><pre>LGBMClassifier(learning_rate=0.05, n_estimators=500, num_leaves=7,\n",
       "               objective=&#x27;multiclass&#x27;, reg_lambda=1)</pre></div></div></div></div></div>"
      ],
      "text/plain": [
       "LGBMClassifier(learning_rate=0.05, n_estimators=500, num_leaves=7,\n",
       "               objective='multiclass', reg_lambda=1)"
      ]
     },
     "execution_count": 141,
     "metadata": {},
     "output_type": "execute_result"
    }
   ],
   "source": [
    "gbm_clf_ = LGBMClassifier(\n",
    "    objective=\"multiclass\",\n",
    "    num_leaves=7,\n",
    "    n_estimators=500,\n",
    "    learning_rate=0.05,\n",
    "    reg_lambda=1,\n",
    "    # reg_alpha=0.1,\n",
    ")\n",
    "gbm_clf_.fit(X[idx_train], y[idx_train])\n"
   ]
  },
  {
   "cell_type": "code",
   "execution_count": 142,
   "metadata": {},
   "outputs": [
    {
     "data": {
      "text/plain": [
       "(1.0, 0.6088888888888889)"
      ]
     },
     "execution_count": 142,
     "metadata": {},
     "output_type": "execute_result"
    }
   ],
   "source": [
    "(gbm_clf_.score(X[idx_train], y[idx_train]), gbm_clf_.score(X[idx_test], y[idx_test]))"
   ]
  },
  {
   "cell_type": "code",
   "execution_count": 143,
   "metadata": {},
   "outputs": [
    {
     "data": {
      "text/plain": [
       "0.61"
      ]
     },
     "execution_count": 143,
     "metadata": {},
     "output_type": "execute_result"
    }
   ],
   "source": [
    "from sklearn.naive_bayes import GaussianNB\n",
    "\n",
    "gnb_grid = Bundle(var_smoothing=np.logspace(-9, -5, 5))\n",
    "gnb_search = GridSearchCV(GaussianNB(), gnb_grid, cv=ss_cv)\n",
    "gnb_search.fit(X[idx_train], y[idx_train])\n",
    "gnb_clf = GaussianNB(**gnb_search.best_params_).fit(\n",
    "    X[idx_train], y[idx_train]\n",
    ")\n",
    "gnb_clf.score(X[idx_test], y[idx_test])"
   ]
  },
  {
   "cell_type": "code",
   "execution_count": 144,
   "metadata": {},
   "outputs": [
    {
     "name": "stderr",
     "output_type": "stream",
     "text": [
      "/Users/gonzalo/opt/anaconda3/envs/jose-luis/lib/python3.10/site-packages/sklearn/linear_model/_sag.py:350: ConvergenceWarning: The max_iter was reached which means the coef_ did not converge\n",
      "  warnings.warn(\n",
      "/Users/gonzalo/opt/anaconda3/envs/jose-luis/lib/python3.10/site-packages/sklearn/linear_model/_sag.py:350: ConvergenceWarning: The max_iter was reached which means the coef_ did not converge\n",
      "  warnings.warn(\n",
      "/Users/gonzalo/opt/anaconda3/envs/jose-luis/lib/python3.10/site-packages/sklearn/linear_model/_sag.py:350: ConvergenceWarning: The max_iter was reached which means the coef_ did not converge\n",
      "  warnings.warn(\n",
      "/Users/gonzalo/opt/anaconda3/envs/jose-luis/lib/python3.10/site-packages/sklearn/linear_model/_sag.py:350: ConvergenceWarning: The max_iter was reached which means the coef_ did not converge\n",
      "  warnings.warn(\n",
      "/Users/gonzalo/opt/anaconda3/envs/jose-luis/lib/python3.10/site-packages/sklearn/linear_model/_sag.py:350: ConvergenceWarning: The max_iter was reached which means the coef_ did not converge\n",
      "  warnings.warn(\n",
      "/Users/gonzalo/opt/anaconda3/envs/jose-luis/lib/python3.10/site-packages/sklearn/linear_model/_logistic.py:1181: UserWarning: Setting penalty=None will ignore the C and l1_ratio parameters\n",
      "  warnings.warn(\n",
      "/Users/gonzalo/opt/anaconda3/envs/jose-luis/lib/python3.10/site-packages/sklearn/linear_model/_sag.py:350: ConvergenceWarning: The max_iter was reached which means the coef_ did not converge\n",
      "  warnings.warn(\n",
      "/Users/gonzalo/opt/anaconda3/envs/jose-luis/lib/python3.10/site-packages/sklearn/linear_model/_logistic.py:1181: UserWarning: Setting penalty=None will ignore the C and l1_ratio parameters\n",
      "  warnings.warn(\n",
      "/Users/gonzalo/opt/anaconda3/envs/jose-luis/lib/python3.10/site-packages/sklearn/linear_model/_sag.py:350: ConvergenceWarning: The max_iter was reached which means the coef_ did not converge\n",
      "  warnings.warn(\n",
      "/Users/gonzalo/opt/anaconda3/envs/jose-luis/lib/python3.10/site-packages/sklearn/linear_model/_logistic.py:1181: UserWarning: Setting penalty=None will ignore the C and l1_ratio parameters\n",
      "  warnings.warn(\n",
      "/Users/gonzalo/opt/anaconda3/envs/jose-luis/lib/python3.10/site-packages/sklearn/linear_model/_sag.py:350: ConvergenceWarning: The max_iter was reached which means the coef_ did not converge\n",
      "  warnings.warn(\n",
      "/Users/gonzalo/opt/anaconda3/envs/jose-luis/lib/python3.10/site-packages/sklearn/linear_model/_logistic.py:1181: UserWarning: Setting penalty=None will ignore the C and l1_ratio parameters\n",
      "  warnings.warn(\n",
      "/Users/gonzalo/opt/anaconda3/envs/jose-luis/lib/python3.10/site-packages/sklearn/linear_model/_sag.py:350: ConvergenceWarning: The max_iter was reached which means the coef_ did not converge\n",
      "  warnings.warn(\n",
      "/Users/gonzalo/opt/anaconda3/envs/jose-luis/lib/python3.10/site-packages/sklearn/linear_model/_logistic.py:1181: UserWarning: Setting penalty=None will ignore the C and l1_ratio parameters\n",
      "  warnings.warn(\n",
      "/Users/gonzalo/opt/anaconda3/envs/jose-luis/lib/python3.10/site-packages/sklearn/linear_model/_sag.py:350: ConvergenceWarning: The max_iter was reached which means the coef_ did not converge\n",
      "  warnings.warn(\n",
      "/Users/gonzalo/opt/anaconda3/envs/jose-luis/lib/python3.10/site-packages/sklearn/linear_model/_sag.py:350: ConvergenceWarning: The max_iter was reached which means the coef_ did not converge\n",
      "  warnings.warn(\n",
      "/Users/gonzalo/opt/anaconda3/envs/jose-luis/lib/python3.10/site-packages/sklearn/linear_model/_sag.py:350: ConvergenceWarning: The max_iter was reached which means the coef_ did not converge\n",
      "  warnings.warn(\n",
      "/Users/gonzalo/opt/anaconda3/envs/jose-luis/lib/python3.10/site-packages/sklearn/linear_model/_sag.py:350: ConvergenceWarning: The max_iter was reached which means the coef_ did not converge\n",
      "  warnings.warn(\n",
      "/Users/gonzalo/opt/anaconda3/envs/jose-luis/lib/python3.10/site-packages/sklearn/linear_model/_sag.py:350: ConvergenceWarning: The max_iter was reached which means the coef_ did not converge\n",
      "  warnings.warn(\n",
      "/Users/gonzalo/opt/anaconda3/envs/jose-luis/lib/python3.10/site-packages/sklearn/linear_model/_sag.py:350: ConvergenceWarning: The max_iter was reached which means the coef_ did not converge\n",
      "  warnings.warn(\n",
      "/Users/gonzalo/opt/anaconda3/envs/jose-luis/lib/python3.10/site-packages/sklearn/linear_model/_sag.py:350: ConvergenceWarning: The max_iter was reached which means the coef_ did not converge\n",
      "  warnings.warn(\n",
      "/Users/gonzalo/opt/anaconda3/envs/jose-luis/lib/python3.10/site-packages/sklearn/linear_model/_sag.py:350: ConvergenceWarning: The max_iter was reached which means the coef_ did not converge\n",
      "  warnings.warn(\n",
      "/Users/gonzalo/opt/anaconda3/envs/jose-luis/lib/python3.10/site-packages/sklearn/linear_model/_sag.py:350: ConvergenceWarning: The max_iter was reached which means the coef_ did not converge\n",
      "  warnings.warn(\n",
      "/Users/gonzalo/opt/anaconda3/envs/jose-luis/lib/python3.10/site-packages/sklearn/linear_model/_sag.py:350: ConvergenceWarning: The max_iter was reached which means the coef_ did not converge\n",
      "  warnings.warn(\n",
      "/Users/gonzalo/opt/anaconda3/envs/jose-luis/lib/python3.10/site-packages/sklearn/linear_model/_sag.py:350: ConvergenceWarning: The max_iter was reached which means the coef_ did not converge\n",
      "  warnings.warn(\n",
      "/Users/gonzalo/opt/anaconda3/envs/jose-luis/lib/python3.10/site-packages/sklearn/linear_model/_logistic.py:1181: UserWarning: Setting penalty=None will ignore the C and l1_ratio parameters\n",
      "  warnings.warn(\n",
      "/Users/gonzalo/opt/anaconda3/envs/jose-luis/lib/python3.10/site-packages/sklearn/linear_model/_sag.py:350: ConvergenceWarning: The max_iter was reached which means the coef_ did not converge\n",
      "  warnings.warn(\n",
      "/Users/gonzalo/opt/anaconda3/envs/jose-luis/lib/python3.10/site-packages/sklearn/linear_model/_logistic.py:1181: UserWarning: Setting penalty=None will ignore the C and l1_ratio parameters\n",
      "  warnings.warn(\n",
      "/Users/gonzalo/opt/anaconda3/envs/jose-luis/lib/python3.10/site-packages/sklearn/linear_model/_sag.py:350: ConvergenceWarning: The max_iter was reached which means the coef_ did not converge\n",
      "  warnings.warn(\n",
      "/Users/gonzalo/opt/anaconda3/envs/jose-luis/lib/python3.10/site-packages/sklearn/linear_model/_logistic.py:1181: UserWarning: Setting penalty=None will ignore the C and l1_ratio parameters\n",
      "  warnings.warn(\n",
      "/Users/gonzalo/opt/anaconda3/envs/jose-luis/lib/python3.10/site-packages/sklearn/linear_model/_sag.py:350: ConvergenceWarning: The max_iter was reached which means the coef_ did not converge\n",
      "  warnings.warn(\n",
      "/Users/gonzalo/opt/anaconda3/envs/jose-luis/lib/python3.10/site-packages/sklearn/linear_model/_logistic.py:1181: UserWarning: Setting penalty=None will ignore the C and l1_ratio parameters\n",
      "  warnings.warn(\n",
      "/Users/gonzalo/opt/anaconda3/envs/jose-luis/lib/python3.10/site-packages/sklearn/linear_model/_sag.py:350: ConvergenceWarning: The max_iter was reached which means the coef_ did not converge\n",
      "  warnings.warn(\n",
      "/Users/gonzalo/opt/anaconda3/envs/jose-luis/lib/python3.10/site-packages/sklearn/linear_model/_logistic.py:1181: UserWarning: Setting penalty=None will ignore the C and l1_ratio parameters\n",
      "  warnings.warn(\n",
      "/Users/gonzalo/opt/anaconda3/envs/jose-luis/lib/python3.10/site-packages/sklearn/linear_model/_sag.py:350: ConvergenceWarning: The max_iter was reached which means the coef_ did not converge\n",
      "  warnings.warn(\n",
      "/Users/gonzalo/opt/anaconda3/envs/jose-luis/lib/python3.10/site-packages/sklearn/linear_model/_sag.py:350: ConvergenceWarning: The max_iter was reached which means the coef_ did not converge\n",
      "  warnings.warn(\n",
      "/Users/gonzalo/opt/anaconda3/envs/jose-luis/lib/python3.10/site-packages/sklearn/linear_model/_sag.py:350: ConvergenceWarning: The max_iter was reached which means the coef_ did not converge\n",
      "  warnings.warn(\n",
      "/Users/gonzalo/opt/anaconda3/envs/jose-luis/lib/python3.10/site-packages/sklearn/linear_model/_sag.py:350: ConvergenceWarning: The max_iter was reached which means the coef_ did not converge\n",
      "  warnings.warn(\n",
      "/Users/gonzalo/opt/anaconda3/envs/jose-luis/lib/python3.10/site-packages/sklearn/linear_model/_sag.py:350: ConvergenceWarning: The max_iter was reached which means the coef_ did not converge\n",
      "  warnings.warn(\n",
      "/Users/gonzalo/opt/anaconda3/envs/jose-luis/lib/python3.10/site-packages/sklearn/linear_model/_sag.py:350: ConvergenceWarning: The max_iter was reached which means the coef_ did not converge\n",
      "  warnings.warn(\n",
      "/Users/gonzalo/opt/anaconda3/envs/jose-luis/lib/python3.10/site-packages/sklearn/linear_model/_sag.py:350: ConvergenceWarning: The max_iter was reached which means the coef_ did not converge\n",
      "  warnings.warn(\n",
      "/Users/gonzalo/opt/anaconda3/envs/jose-luis/lib/python3.10/site-packages/sklearn/linear_model/_sag.py:350: ConvergenceWarning: The max_iter was reached which means the coef_ did not converge\n",
      "  warnings.warn(\n",
      "/Users/gonzalo/opt/anaconda3/envs/jose-luis/lib/python3.10/site-packages/sklearn/linear_model/_sag.py:350: ConvergenceWarning: The max_iter was reached which means the coef_ did not converge\n",
      "  warnings.warn(\n",
      "/Users/gonzalo/opt/anaconda3/envs/jose-luis/lib/python3.10/site-packages/sklearn/linear_model/_sag.py:350: ConvergenceWarning: The max_iter was reached which means the coef_ did not converge\n",
      "  warnings.warn(\n",
      "/Users/gonzalo/opt/anaconda3/envs/jose-luis/lib/python3.10/site-packages/sklearn/linear_model/_sag.py:350: ConvergenceWarning: The max_iter was reached which means the coef_ did not converge\n",
      "  warnings.warn(\n",
      "/Users/gonzalo/opt/anaconda3/envs/jose-luis/lib/python3.10/site-packages/sklearn/linear_model/_logistic.py:1181: UserWarning: Setting penalty=None will ignore the C and l1_ratio parameters\n",
      "  warnings.warn(\n",
      "/Users/gonzalo/opt/anaconda3/envs/jose-luis/lib/python3.10/site-packages/sklearn/linear_model/_sag.py:350: ConvergenceWarning: The max_iter was reached which means the coef_ did not converge\n",
      "  warnings.warn(\n",
      "/Users/gonzalo/opt/anaconda3/envs/jose-luis/lib/python3.10/site-packages/sklearn/linear_model/_logistic.py:1181: UserWarning: Setting penalty=None will ignore the C and l1_ratio parameters\n",
      "  warnings.warn(\n",
      "/Users/gonzalo/opt/anaconda3/envs/jose-luis/lib/python3.10/site-packages/sklearn/linear_model/_sag.py:350: ConvergenceWarning: The max_iter was reached which means the coef_ did not converge\n",
      "  warnings.warn(\n",
      "/Users/gonzalo/opt/anaconda3/envs/jose-luis/lib/python3.10/site-packages/sklearn/linear_model/_logistic.py:1181: UserWarning: Setting penalty=None will ignore the C and l1_ratio parameters\n",
      "  warnings.warn(\n",
      "/Users/gonzalo/opt/anaconda3/envs/jose-luis/lib/python3.10/site-packages/sklearn/linear_model/_sag.py:350: ConvergenceWarning: The max_iter was reached which means the coef_ did not converge\n",
      "  warnings.warn(\n",
      "/Users/gonzalo/opt/anaconda3/envs/jose-luis/lib/python3.10/site-packages/sklearn/linear_model/_logistic.py:1181: UserWarning: Setting penalty=None will ignore the C and l1_ratio parameters\n",
      "  warnings.warn(\n",
      "/Users/gonzalo/opt/anaconda3/envs/jose-luis/lib/python3.10/site-packages/sklearn/linear_model/_sag.py:350: ConvergenceWarning: The max_iter was reached which means the coef_ did not converge\n",
      "  warnings.warn(\n",
      "/Users/gonzalo/opt/anaconda3/envs/jose-luis/lib/python3.10/site-packages/sklearn/linear_model/_logistic.py:1181: UserWarning: Setting penalty=None will ignore the C and l1_ratio parameters\n",
      "  warnings.warn(\n",
      "/Users/gonzalo/opt/anaconda3/envs/jose-luis/lib/python3.10/site-packages/sklearn/linear_model/_sag.py:350: ConvergenceWarning: The max_iter was reached which means the coef_ did not converge\n",
      "  warnings.warn(\n",
      "/Users/gonzalo/opt/anaconda3/envs/jose-luis/lib/python3.10/site-packages/sklearn/linear_model/_sag.py:350: ConvergenceWarning: The max_iter was reached which means the coef_ did not converge\n",
      "  warnings.warn(\n",
      "/Users/gonzalo/opt/anaconda3/envs/jose-luis/lib/python3.10/site-packages/sklearn/linear_model/_sag.py:350: ConvergenceWarning: The max_iter was reached which means the coef_ did not converge\n",
      "  warnings.warn(\n",
      "/Users/gonzalo/opt/anaconda3/envs/jose-luis/lib/python3.10/site-packages/sklearn/linear_model/_sag.py:350: ConvergenceWarning: The max_iter was reached which means the coef_ did not converge\n",
      "  warnings.warn(\n",
      "/Users/gonzalo/opt/anaconda3/envs/jose-luis/lib/python3.10/site-packages/sklearn/linear_model/_sag.py:350: ConvergenceWarning: The max_iter was reached which means the coef_ did not converge\n",
      "  warnings.warn(\n",
      "/Users/gonzalo/opt/anaconda3/envs/jose-luis/lib/python3.10/site-packages/sklearn/linear_model/_sag.py:350: ConvergenceWarning: The max_iter was reached which means the coef_ did not converge\n",
      "  warnings.warn(\n",
      "/Users/gonzalo/opt/anaconda3/envs/jose-luis/lib/python3.10/site-packages/sklearn/linear_model/_sag.py:350: ConvergenceWarning: The max_iter was reached which means the coef_ did not converge\n",
      "  warnings.warn(\n",
      "/Users/gonzalo/opt/anaconda3/envs/jose-luis/lib/python3.10/site-packages/sklearn/linear_model/_sag.py:350: ConvergenceWarning: The max_iter was reached which means the coef_ did not converge\n",
      "  warnings.warn(\n",
      "/Users/gonzalo/opt/anaconda3/envs/jose-luis/lib/python3.10/site-packages/sklearn/linear_model/_sag.py:350: ConvergenceWarning: The max_iter was reached which means the coef_ did not converge\n",
      "  warnings.warn(\n",
      "/Users/gonzalo/opt/anaconda3/envs/jose-luis/lib/python3.10/site-packages/sklearn/linear_model/_sag.py:350: ConvergenceWarning: The max_iter was reached which means the coef_ did not converge\n",
      "  warnings.warn(\n",
      "/Users/gonzalo/opt/anaconda3/envs/jose-luis/lib/python3.10/site-packages/sklearn/linear_model/_sag.py:350: ConvergenceWarning: The max_iter was reached which means the coef_ did not converge\n",
      "  warnings.warn(\n",
      "/Users/gonzalo/opt/anaconda3/envs/jose-luis/lib/python3.10/site-packages/sklearn/linear_model/_logistic.py:1181: UserWarning: Setting penalty=None will ignore the C and l1_ratio parameters\n",
      "  warnings.warn(\n",
      "/Users/gonzalo/opt/anaconda3/envs/jose-luis/lib/python3.10/site-packages/sklearn/linear_model/_sag.py:350: ConvergenceWarning: The max_iter was reached which means the coef_ did not converge\n",
      "  warnings.warn(\n",
      "/Users/gonzalo/opt/anaconda3/envs/jose-luis/lib/python3.10/site-packages/sklearn/linear_model/_logistic.py:1181: UserWarning: Setting penalty=None will ignore the C and l1_ratio parameters\n",
      "  warnings.warn(\n",
      "/Users/gonzalo/opt/anaconda3/envs/jose-luis/lib/python3.10/site-packages/sklearn/linear_model/_sag.py:350: ConvergenceWarning: The max_iter was reached which means the coef_ did not converge\n",
      "  warnings.warn(\n",
      "/Users/gonzalo/opt/anaconda3/envs/jose-luis/lib/python3.10/site-packages/sklearn/linear_model/_logistic.py:1181: UserWarning: Setting penalty=None will ignore the C and l1_ratio parameters\n",
      "  warnings.warn(\n",
      "/Users/gonzalo/opt/anaconda3/envs/jose-luis/lib/python3.10/site-packages/sklearn/linear_model/_sag.py:350: ConvergenceWarning: The max_iter was reached which means the coef_ did not converge\n",
      "  warnings.warn(\n",
      "/Users/gonzalo/opt/anaconda3/envs/jose-luis/lib/python3.10/site-packages/sklearn/linear_model/_logistic.py:1181: UserWarning: Setting penalty=None will ignore the C and l1_ratio parameters\n",
      "  warnings.warn(\n",
      "/Users/gonzalo/opt/anaconda3/envs/jose-luis/lib/python3.10/site-packages/sklearn/linear_model/_sag.py:350: ConvergenceWarning: The max_iter was reached which means the coef_ did not converge\n",
      "  warnings.warn(\n",
      "/Users/gonzalo/opt/anaconda3/envs/jose-luis/lib/python3.10/site-packages/sklearn/linear_model/_logistic.py:1181: UserWarning: Setting penalty=None will ignore the C and l1_ratio parameters\n",
      "  warnings.warn(\n",
      "/Users/gonzalo/opt/anaconda3/envs/jose-luis/lib/python3.10/site-packages/sklearn/linear_model/_sag.py:350: ConvergenceWarning: The max_iter was reached which means the coef_ did not converge\n",
      "  warnings.warn(\n",
      "/Users/gonzalo/opt/anaconda3/envs/jose-luis/lib/python3.10/site-packages/sklearn/linear_model/_sag.py:350: ConvergenceWarning: The max_iter was reached which means the coef_ did not converge\n",
      "  warnings.warn(\n",
      "/Users/gonzalo/opt/anaconda3/envs/jose-luis/lib/python3.10/site-packages/sklearn/linear_model/_sag.py:350: ConvergenceWarning: The max_iter was reached which means the coef_ did not converge\n",
      "  warnings.warn(\n",
      "/Users/gonzalo/opt/anaconda3/envs/jose-luis/lib/python3.10/site-packages/sklearn/linear_model/_sag.py:350: ConvergenceWarning: The max_iter was reached which means the coef_ did not converge\n",
      "  warnings.warn(\n",
      "/Users/gonzalo/opt/anaconda3/envs/jose-luis/lib/python3.10/site-packages/sklearn/linear_model/_sag.py:350: ConvergenceWarning: The max_iter was reached which means the coef_ did not converge\n",
      "  warnings.warn(\n",
      "/Users/gonzalo/opt/anaconda3/envs/jose-luis/lib/python3.10/site-packages/sklearn/linear_model/_sag.py:350: ConvergenceWarning: The max_iter was reached which means the coef_ did not converge\n",
      "  warnings.warn(\n",
      "/Users/gonzalo/opt/anaconda3/envs/jose-luis/lib/python3.10/site-packages/sklearn/linear_model/_sag.py:350: ConvergenceWarning: The max_iter was reached which means the coef_ did not converge\n",
      "  warnings.warn(\n",
      "/Users/gonzalo/opt/anaconda3/envs/jose-luis/lib/python3.10/site-packages/sklearn/linear_model/_sag.py:350: ConvergenceWarning: The max_iter was reached which means the coef_ did not converge\n",
      "  warnings.warn(\n",
      "/Users/gonzalo/opt/anaconda3/envs/jose-luis/lib/python3.10/site-packages/sklearn/linear_model/_sag.py:350: ConvergenceWarning: The max_iter was reached which means the coef_ did not converge\n",
      "  warnings.warn(\n",
      "/Users/gonzalo/opt/anaconda3/envs/jose-luis/lib/python3.10/site-packages/sklearn/linear_model/_sag.py:350: ConvergenceWarning: The max_iter was reached which means the coef_ did not converge\n",
      "  warnings.warn(\n",
      "/Users/gonzalo/opt/anaconda3/envs/jose-luis/lib/python3.10/site-packages/sklearn/linear_model/_sag.py:350: ConvergenceWarning: The max_iter was reached which means the coef_ did not converge\n",
      "  warnings.warn(\n",
      "/Users/gonzalo/opt/anaconda3/envs/jose-luis/lib/python3.10/site-packages/sklearn/linear_model/_sag.py:350: ConvergenceWarning: The max_iter was reached which means the coef_ did not converge\n",
      "  warnings.warn(\n",
      "/Users/gonzalo/opt/anaconda3/envs/jose-luis/lib/python3.10/site-packages/sklearn/linear_model/_sag.py:350: ConvergenceWarning: The max_iter was reached which means the coef_ did not converge\n",
      "  warnings.warn(\n",
      "/Users/gonzalo/opt/anaconda3/envs/jose-luis/lib/python3.10/site-packages/sklearn/linear_model/_sag.py:350: ConvergenceWarning: The max_iter was reached which means the coef_ did not converge\n",
      "  warnings.warn(\n",
      "/Users/gonzalo/opt/anaconda3/envs/jose-luis/lib/python3.10/site-packages/sklearn/linear_model/_sag.py:350: ConvergenceWarning: The max_iter was reached which means the coef_ did not converge\n",
      "  warnings.warn(\n",
      "/Users/gonzalo/opt/anaconda3/envs/jose-luis/lib/python3.10/site-packages/sklearn/linear_model/_sag.py:350: ConvergenceWarning: The max_iter was reached which means the coef_ did not converge\n",
      "  warnings.warn(\n",
      "/Users/gonzalo/opt/anaconda3/envs/jose-luis/lib/python3.10/site-packages/sklearn/linear_model/_sag.py:350: ConvergenceWarning: The max_iter was reached which means the coef_ did not converge\n",
      "  warnings.warn(\n",
      "/Users/gonzalo/opt/anaconda3/envs/jose-luis/lib/python3.10/site-packages/sklearn/linear_model/_sag.py:350: ConvergenceWarning: The max_iter was reached which means the coef_ did not converge\n",
      "  warnings.warn(\n",
      "/Users/gonzalo/opt/anaconda3/envs/jose-luis/lib/python3.10/site-packages/sklearn/linear_model/_sag.py:350: ConvergenceWarning: The max_iter was reached which means the coef_ did not converge\n",
      "  warnings.warn(\n",
      "/Users/gonzalo/opt/anaconda3/envs/jose-luis/lib/python3.10/site-packages/sklearn/linear_model/_sag.py:350: ConvergenceWarning: The max_iter was reached which means the coef_ did not converge\n",
      "  warnings.warn(\n",
      "/Users/gonzalo/opt/anaconda3/envs/jose-luis/lib/python3.10/site-packages/sklearn/linear_model/_sag.py:350: ConvergenceWarning: The max_iter was reached which means the coef_ did not converge\n",
      "  warnings.warn(\n",
      "/Users/gonzalo/opt/anaconda3/envs/jose-luis/lib/python3.10/site-packages/sklearn/linear_model/_sag.py:350: ConvergenceWarning: The max_iter was reached which means the coef_ did not converge\n",
      "  warnings.warn(\n",
      "/Users/gonzalo/opt/anaconda3/envs/jose-luis/lib/python3.10/site-packages/sklearn/linear_model/_sag.py:350: ConvergenceWarning: The max_iter was reached which means the coef_ did not converge\n",
      "  warnings.warn(\n",
      "/Users/gonzalo/opt/anaconda3/envs/jose-luis/lib/python3.10/site-packages/sklearn/linear_model/_sag.py:350: ConvergenceWarning: The max_iter was reached which means the coef_ did not converge\n",
      "  warnings.warn(\n",
      "/Users/gonzalo/opt/anaconda3/envs/jose-luis/lib/python3.10/site-packages/sklearn/linear_model/_sag.py:350: ConvergenceWarning: The max_iter was reached which means the coef_ did not converge\n",
      "  warnings.warn(\n",
      "/Users/gonzalo/opt/anaconda3/envs/jose-luis/lib/python3.10/site-packages/sklearn/linear_model/_sag.py:350: ConvergenceWarning: The max_iter was reached which means the coef_ did not converge\n",
      "  warnings.warn(\n",
      "/Users/gonzalo/opt/anaconda3/envs/jose-luis/lib/python3.10/site-packages/sklearn/linear_model/_logistic.py:1181: UserWarning: Setting penalty=None will ignore the C and l1_ratio parameters\n",
      "  warnings.warn(\n",
      "/Users/gonzalo/opt/anaconda3/envs/jose-luis/lib/python3.10/site-packages/sklearn/linear_model/_sag.py:350: ConvergenceWarning: The max_iter was reached which means the coef_ did not converge\n",
      "  warnings.warn(\n",
      "/Users/gonzalo/opt/anaconda3/envs/jose-luis/lib/python3.10/site-packages/sklearn/linear_model/_logistic.py:1181: UserWarning: Setting penalty=None will ignore the C and l1_ratio parameters\n",
      "  warnings.warn(\n",
      "/Users/gonzalo/opt/anaconda3/envs/jose-luis/lib/python3.10/site-packages/sklearn/linear_model/_sag.py:350: ConvergenceWarning: The max_iter was reached which means the coef_ did not converge\n",
      "  warnings.warn(\n",
      "/Users/gonzalo/opt/anaconda3/envs/jose-luis/lib/python3.10/site-packages/sklearn/linear_model/_logistic.py:1181: UserWarning: Setting penalty=None will ignore the C and l1_ratio parameters\n",
      "  warnings.warn(\n",
      "/Users/gonzalo/opt/anaconda3/envs/jose-luis/lib/python3.10/site-packages/sklearn/linear_model/_sag.py:350: ConvergenceWarning: The max_iter was reached which means the coef_ did not converge\n",
      "  warnings.warn(\n",
      "/Users/gonzalo/opt/anaconda3/envs/jose-luis/lib/python3.10/site-packages/sklearn/linear_model/_logistic.py:1181: UserWarning: Setting penalty=None will ignore the C and l1_ratio parameters\n",
      "  warnings.warn(\n",
      "/Users/gonzalo/opt/anaconda3/envs/jose-luis/lib/python3.10/site-packages/sklearn/linear_model/_sag.py:350: ConvergenceWarning: The max_iter was reached which means the coef_ did not converge\n",
      "  warnings.warn(\n",
      "/Users/gonzalo/opt/anaconda3/envs/jose-luis/lib/python3.10/site-packages/sklearn/linear_model/_logistic.py:1181: UserWarning: Setting penalty=None will ignore the C and l1_ratio parameters\n",
      "  warnings.warn(\n",
      "/Users/gonzalo/opt/anaconda3/envs/jose-luis/lib/python3.10/site-packages/sklearn/linear_model/_sag.py:350: ConvergenceWarning: The max_iter was reached which means the coef_ did not converge\n",
      "  warnings.warn(\n",
      "/Users/gonzalo/opt/anaconda3/envs/jose-luis/lib/python3.10/site-packages/sklearn/linear_model/_sag.py:350: ConvergenceWarning: The max_iter was reached which means the coef_ did not converge\n",
      "  warnings.warn(\n",
      "/Users/gonzalo/opt/anaconda3/envs/jose-luis/lib/python3.10/site-packages/sklearn/linear_model/_sag.py:350: ConvergenceWarning: The max_iter was reached which means the coef_ did not converge\n",
      "  warnings.warn(\n",
      "/Users/gonzalo/opt/anaconda3/envs/jose-luis/lib/python3.10/site-packages/sklearn/linear_model/_sag.py:350: ConvergenceWarning: The max_iter was reached which means the coef_ did not converge\n",
      "  warnings.warn(\n",
      "/Users/gonzalo/opt/anaconda3/envs/jose-luis/lib/python3.10/site-packages/sklearn/linear_model/_sag.py:350: ConvergenceWarning: The max_iter was reached which means the coef_ did not converge\n",
      "  warnings.warn(\n",
      "/Users/gonzalo/opt/anaconda3/envs/jose-luis/lib/python3.10/site-packages/sklearn/linear_model/_sag.py:350: ConvergenceWarning: The max_iter was reached which means the coef_ did not converge\n",
      "  warnings.warn(\n",
      "/Users/gonzalo/opt/anaconda3/envs/jose-luis/lib/python3.10/site-packages/sklearn/linear_model/_sag.py:350: ConvergenceWarning: The max_iter was reached which means the coef_ did not converge\n",
      "  warnings.warn(\n",
      "/Users/gonzalo/opt/anaconda3/envs/jose-luis/lib/python3.10/site-packages/sklearn/linear_model/_sag.py:350: ConvergenceWarning: The max_iter was reached which means the coef_ did not converge\n",
      "  warnings.warn(\n",
      "/Users/gonzalo/opt/anaconda3/envs/jose-luis/lib/python3.10/site-packages/sklearn/linear_model/_sag.py:350: ConvergenceWarning: The max_iter was reached which means the coef_ did not converge\n",
      "  warnings.warn(\n",
      "/Users/gonzalo/opt/anaconda3/envs/jose-luis/lib/python3.10/site-packages/sklearn/linear_model/_sag.py:350: ConvergenceWarning: The max_iter was reached which means the coef_ did not converge\n",
      "  warnings.warn(\n",
      "/Users/gonzalo/opt/anaconda3/envs/jose-luis/lib/python3.10/site-packages/sklearn/linear_model/_sag.py:350: ConvergenceWarning: The max_iter was reached which means the coef_ did not converge\n",
      "  warnings.warn(\n",
      "/Users/gonzalo/opt/anaconda3/envs/jose-luis/lib/python3.10/site-packages/sklearn/linear_model/_logistic.py:1181: UserWarning: Setting penalty=None will ignore the C and l1_ratio parameters\n",
      "  warnings.warn(\n",
      "/Users/gonzalo/opt/anaconda3/envs/jose-luis/lib/python3.10/site-packages/sklearn/linear_model/_sag.py:350: ConvergenceWarning: The max_iter was reached which means the coef_ did not converge\n",
      "  warnings.warn(\n",
      "/Users/gonzalo/opt/anaconda3/envs/jose-luis/lib/python3.10/site-packages/sklearn/linear_model/_logistic.py:1181: UserWarning: Setting penalty=None will ignore the C and l1_ratio parameters\n",
      "  warnings.warn(\n",
      "/Users/gonzalo/opt/anaconda3/envs/jose-luis/lib/python3.10/site-packages/sklearn/linear_model/_sag.py:350: ConvergenceWarning: The max_iter was reached which means the coef_ did not converge\n",
      "  warnings.warn(\n",
      "/Users/gonzalo/opt/anaconda3/envs/jose-luis/lib/python3.10/site-packages/sklearn/linear_model/_logistic.py:1181: UserWarning: Setting penalty=None will ignore the C and l1_ratio parameters\n",
      "  warnings.warn(\n",
      "/Users/gonzalo/opt/anaconda3/envs/jose-luis/lib/python3.10/site-packages/sklearn/linear_model/_sag.py:350: ConvergenceWarning: The max_iter was reached which means the coef_ did not converge\n",
      "  warnings.warn(\n",
      "/Users/gonzalo/opt/anaconda3/envs/jose-luis/lib/python3.10/site-packages/sklearn/linear_model/_logistic.py:1181: UserWarning: Setting penalty=None will ignore the C and l1_ratio parameters\n",
      "  warnings.warn(\n",
      "/Users/gonzalo/opt/anaconda3/envs/jose-luis/lib/python3.10/site-packages/sklearn/linear_model/_sag.py:350: ConvergenceWarning: The max_iter was reached which means the coef_ did not converge\n",
      "  warnings.warn(\n",
      "/Users/gonzalo/opt/anaconda3/envs/jose-luis/lib/python3.10/site-packages/sklearn/linear_model/_logistic.py:1181: UserWarning: Setting penalty=None will ignore the C and l1_ratio parameters\n",
      "  warnings.warn(\n",
      "/Users/gonzalo/opt/anaconda3/envs/jose-luis/lib/python3.10/site-packages/sklearn/linear_model/_sag.py:350: ConvergenceWarning: The max_iter was reached which means the coef_ did not converge\n",
      "  warnings.warn(\n",
      "/Users/gonzalo/opt/anaconda3/envs/jose-luis/lib/python3.10/site-packages/sklearn/model_selection/_validation.py:378: FitFailedWarning: \n",
      "35 fits failed out of a total of 140.\n",
      "The score on these train-test partitions for these parameters will be set to nan.\n",
      "If these failures are not expected, you can try to debug them by setting error_score='raise'.\n",
      "\n",
      "Below are more details about the failures:\n",
      "--------------------------------------------------------------------------------\n",
      "35 fits failed with the following error:\n",
      "Traceback (most recent call last):\n",
      "  File \"/Users/gonzalo/opt/anaconda3/envs/jose-luis/lib/python3.10/site-packages/sklearn/model_selection/_validation.py\", line 686, in _fit_and_score\n",
      "    estimator.fit(X_train, y_train, **fit_params)\n",
      "  File \"/Users/gonzalo/opt/anaconda3/envs/jose-luis/lib/python3.10/site-packages/sklearn/linear_model/_logistic.py\", line 1291, in fit\n",
      "    fold_coefs_ = Parallel(n_jobs=self.n_jobs, verbose=self.verbose, prefer=prefer)(\n",
      "  File \"/Users/gonzalo/opt/anaconda3/envs/jose-luis/lib/python3.10/site-packages/sklearn/utils/parallel.py\", line 63, in __call__\n",
      "    return super().__call__(iterable_with_config)\n",
      "  File \"/Users/gonzalo/opt/anaconda3/envs/jose-luis/lib/python3.10/site-packages/joblib/parallel.py\", line 1048, in __call__\n",
      "    if self.dispatch_one_batch(iterator):\n",
      "  File \"/Users/gonzalo/opt/anaconda3/envs/jose-luis/lib/python3.10/site-packages/joblib/parallel.py\", line 864, in dispatch_one_batch\n",
      "    self._dispatch(tasks)\n",
      "  File \"/Users/gonzalo/opt/anaconda3/envs/jose-luis/lib/python3.10/site-packages/joblib/parallel.py\", line 782, in _dispatch\n",
      "    job = self._backend.apply_async(batch, callback=cb)\n",
      "  File \"/Users/gonzalo/opt/anaconda3/envs/jose-luis/lib/python3.10/site-packages/joblib/_parallel_backends.py\", line 208, in apply_async\n",
      "    result = ImmediateResult(func)\n",
      "  File \"/Users/gonzalo/opt/anaconda3/envs/jose-luis/lib/python3.10/site-packages/joblib/_parallel_backends.py\", line 572, in __init__\n",
      "    self.results = batch()\n",
      "  File \"/Users/gonzalo/opt/anaconda3/envs/jose-luis/lib/python3.10/site-packages/joblib/parallel.py\", line 263, in __call__\n",
      "    return [func(*args, **kwargs)\n",
      "  File \"/Users/gonzalo/opt/anaconda3/envs/jose-luis/lib/python3.10/site-packages/joblib/parallel.py\", line 263, in <listcomp>\n",
      "    return [func(*args, **kwargs)\n",
      "  File \"/Users/gonzalo/opt/anaconda3/envs/jose-luis/lib/python3.10/site-packages/sklearn/utils/parallel.py\", line 123, in __call__\n",
      "    return self.function(*args, **kwargs)\n",
      "  File \"/Users/gonzalo/opt/anaconda3/envs/jose-luis/lib/python3.10/site-packages/sklearn/linear_model/_logistic.py\", line 521, in _logistic_regression_path\n",
      "    alpha = (1.0 / C) * (1 - l1_ratio)\n",
      "TypeError: unsupported operand type(s) for -: 'int' and 'NoneType'\n",
      "\n",
      "  warnings.warn(some_fits_failed_message, FitFailedWarning)\n",
      "/Users/gonzalo/opt/anaconda3/envs/jose-luis/lib/python3.10/site-packages/sklearn/model_selection/_search.py:952: UserWarning: One or more of the test scores are non-finite: [0.092 0.704   nan 0.708 0.216 0.712   nan 0.708 0.664 0.708   nan 0.708\n",
      " 0.712 0.708   nan 0.712 0.712 0.712   nan 0.704 0.712 0.708   nan 0.708\n",
      " 0.712 0.708   nan 0.708]\n",
      "  warnings.warn(\n",
      "/Users/gonzalo/opt/anaconda3/envs/jose-luis/lib/python3.10/site-packages/sklearn/linear_model/_sag.py:350: ConvergenceWarning: The max_iter was reached which means the coef_ did not converge\n",
      "  warnings.warn(\n"
     ]
    },
    {
     "ename": "ValueError",
     "evalue": "Solver lbfgs supports only 'l2' or 'none' penalties, got l1 penalty.",
     "output_type": "error",
     "traceback": [
      "\u001b[0;31m---------------------------------------------------------------------------\u001b[0m",
      "\u001b[0;31mValueError\u001b[0m                                Traceback (most recent call last)",
      "Cell \u001b[0;32mIn[144], line 6\u001b[0m\n\u001b[1;32m      4\u001b[0m lr_search \u001b[39m=\u001b[39m GridSearchCV(LogisticRegression(solver\u001b[39m=\u001b[39m\u001b[39m\"\u001b[39m\u001b[39msaga\u001b[39m\u001b[39m\"\u001b[39m), lr_grid, cv\u001b[39m=\u001b[39mss_cv)\n\u001b[1;32m      5\u001b[0m lr_search\u001b[39m.\u001b[39mfit(X[idx_train], y[idx_train])\n\u001b[0;32m----> 6\u001b[0m lr_clf \u001b[39m=\u001b[39m LogisticRegression(\u001b[39m*\u001b[39;49m\u001b[39m*\u001b[39;49mlr_search\u001b[39m.\u001b[39;49mbest_params_)\u001b[39m.\u001b[39;49mfit(X[idx_train], y[idx_train])\n\u001b[1;32m      7\u001b[0m lr_search\u001b[39m.\u001b[39mbest_params_, lr_clf\u001b[39m.\u001b[39mscore(X[idx_test], y[idx_test])\n",
      "File \u001b[0;32m~/opt/anaconda3/envs/jose-luis/lib/python3.10/site-packages/sklearn/linear_model/_logistic.py:1162\u001b[0m, in \u001b[0;36mLogisticRegression.fit\u001b[0;34m(self, X, y, sample_weight)\u001b[0m\n\u001b[1;32m   1131\u001b[0m \u001b[39m\"\"\"\u001b[39;00m\n\u001b[1;32m   1132\u001b[0m \u001b[39mFit the model according to the given training data.\u001b[39;00m\n\u001b[1;32m   1133\u001b[0m \n\u001b[0;32m   (...)\u001b[0m\n\u001b[1;32m   1157\u001b[0m \u001b[39mThe SAGA solver supports both float64 and float32 bit arrays.\u001b[39;00m\n\u001b[1;32m   1158\u001b[0m \u001b[39m\"\"\"\u001b[39;00m\n\u001b[1;32m   1160\u001b[0m \u001b[39mself\u001b[39m\u001b[39m.\u001b[39m_validate_params()\n\u001b[0;32m-> 1162\u001b[0m solver \u001b[39m=\u001b[39m _check_solver(\u001b[39mself\u001b[39;49m\u001b[39m.\u001b[39;49msolver, \u001b[39mself\u001b[39;49m\u001b[39m.\u001b[39;49mpenalty, \u001b[39mself\u001b[39;49m\u001b[39m.\u001b[39;49mdual)\n\u001b[1;32m   1164\u001b[0m \u001b[39mif\u001b[39;00m \u001b[39mself\u001b[39m\u001b[39m.\u001b[39mpenalty \u001b[39m!=\u001b[39m \u001b[39m\"\u001b[39m\u001b[39melasticnet\u001b[39m\u001b[39m\"\u001b[39m \u001b[39mand\u001b[39;00m \u001b[39mself\u001b[39m\u001b[39m.\u001b[39ml1_ratio \u001b[39mis\u001b[39;00m \u001b[39mnot\u001b[39;00m \u001b[39mNone\u001b[39;00m:\n\u001b[1;32m   1165\u001b[0m     warnings\u001b[39m.\u001b[39mwarn(\n\u001b[1;32m   1166\u001b[0m         \u001b[39m\"\u001b[39m\u001b[39ml1_ratio parameter is only used when penalty is \u001b[39m\u001b[39m\"\u001b[39m\n\u001b[1;32m   1167\u001b[0m         \u001b[39m\"\u001b[39m\u001b[39m'\u001b[39m\u001b[39melasticnet\u001b[39m\u001b[39m'\u001b[39m\u001b[39m. Got \u001b[39m\u001b[39m\"\u001b[39m\n\u001b[1;32m   1168\u001b[0m         \u001b[39m\"\u001b[39m\u001b[39m(penalty=\u001b[39m\u001b[39m{}\u001b[39;00m\u001b[39m)\u001b[39m\u001b[39m\"\u001b[39m\u001b[39m.\u001b[39mformat(\u001b[39mself\u001b[39m\u001b[39m.\u001b[39mpenalty)\n\u001b[1;32m   1169\u001b[0m     )\n",
      "File \u001b[0;32m~/opt/anaconda3/envs/jose-luis/lib/python3.10/site-packages/sklearn/linear_model/_logistic.py:54\u001b[0m, in \u001b[0;36m_check_solver\u001b[0;34m(solver, penalty, dual)\u001b[0m\n\u001b[1;32m     50\u001b[0m \u001b[39mdef\u001b[39;00m \u001b[39m_check_solver\u001b[39m(solver, penalty, dual):\n\u001b[1;32m     51\u001b[0m \n\u001b[1;32m     52\u001b[0m     \u001b[39m# TODO(1.4): Remove \"none\" option\u001b[39;00m\n\u001b[1;32m     53\u001b[0m     \u001b[39mif\u001b[39;00m solver \u001b[39mnot\u001b[39;00m \u001b[39min\u001b[39;00m [\u001b[39m\"\u001b[39m\u001b[39mliblinear\u001b[39m\u001b[39m\"\u001b[39m, \u001b[39m\"\u001b[39m\u001b[39msaga\u001b[39m\u001b[39m\"\u001b[39m] \u001b[39mand\u001b[39;00m penalty \u001b[39mnot\u001b[39;00m \u001b[39min\u001b[39;00m (\u001b[39m\"\u001b[39m\u001b[39ml2\u001b[39m\u001b[39m\"\u001b[39m, \u001b[39m\"\u001b[39m\u001b[39mnone\u001b[39m\u001b[39m\"\u001b[39m, \u001b[39mNone\u001b[39;00m):\n\u001b[0;32m---> 54\u001b[0m         \u001b[39mraise\u001b[39;00m \u001b[39mValueError\u001b[39;00m(\n\u001b[1;32m     55\u001b[0m             \u001b[39m\"\u001b[39m\u001b[39mSolver \u001b[39m\u001b[39m%s\u001b[39;00m\u001b[39m supports only \u001b[39m\u001b[39m'\u001b[39m\u001b[39ml2\u001b[39m\u001b[39m'\u001b[39m\u001b[39m or \u001b[39m\u001b[39m'\u001b[39m\u001b[39mnone\u001b[39m\u001b[39m'\u001b[39m\u001b[39m penalties, got \u001b[39m\u001b[39m%s\u001b[39;00m\u001b[39m penalty.\u001b[39m\u001b[39m\"\u001b[39m\n\u001b[1;32m     56\u001b[0m             \u001b[39m%\u001b[39m (solver, penalty)\n\u001b[1;32m     57\u001b[0m         )\n\u001b[1;32m     58\u001b[0m     \u001b[39mif\u001b[39;00m solver \u001b[39m!=\u001b[39m \u001b[39m\"\u001b[39m\u001b[39mliblinear\u001b[39m\u001b[39m\"\u001b[39m \u001b[39mand\u001b[39;00m dual:\n\u001b[1;32m     59\u001b[0m         \u001b[39mraise\u001b[39;00m \u001b[39mValueError\u001b[39;00m(\n\u001b[1;32m     60\u001b[0m             \u001b[39m\"\u001b[39m\u001b[39mSolver \u001b[39m\u001b[39m%s\u001b[39;00m\u001b[39m supports only dual=False, got dual=\u001b[39m\u001b[39m%s\u001b[39;00m\u001b[39m\"\u001b[39m \u001b[39m%\u001b[39m (solver, dual)\n\u001b[1;32m     61\u001b[0m         )\n",
      "\u001b[0;31mValueError\u001b[0m: Solver lbfgs supports only 'l2' or 'none' penalties, got l1 penalty."
     ]
    }
   ],
   "source": [
    "from sklearn.linear_model import LogisticRegression\n",
    "\n",
    "lr_grid = Bundle(C=np.logspace(-4, 2, 7), penalty=[\"l1\", \"l2\", \"elasticnet\", None])\n",
    "lr_search = GridSearchCV(LogisticRegression(solver=\"saga\"), lr_grid, cv=ss_cv)\n",
    "lr_search.fit(X[idx_train], y[idx_train])\n"
   ]
  },
  {
   "cell_type": "code",
   "execution_count": 145,
   "metadata": {},
   "outputs": [
    {
     "name": "stderr",
     "output_type": "stream",
     "text": [
      "/Users/gonzalo/opt/anaconda3/envs/jose-luis/lib/python3.10/site-packages/sklearn/linear_model/_sag.py:350: ConvergenceWarning: The max_iter was reached which means the coef_ did not converge\n",
      "  warnings.warn(\n"
     ]
    },
    {
     "data": {
      "text/plain": [
       "({'C': 0.1, 'penalty': 'l1'}, 0.7244444444444444)"
      ]
     },
     "execution_count": 145,
     "metadata": {},
     "output_type": "execute_result"
    }
   ],
   "source": [
    "\n",
    "lr_clf = LogisticRegression(solver=\"saga\", **lr_search.best_params_).fit(X[idx_train], y[idx_train])\n",
    "lr_search.best_params_, lr_clf.score(X[idx_test], y[idx_test])"
   ]
  },
  {
   "cell_type": "code",
   "execution_count": 146,
   "metadata": {},
   "outputs": [
    {
     "data": {
      "text/plain": [
       "({'C': 0.0001, 'gamma': 1e-05, 'kernel': 'linear'}, 0.7344444444444445)"
      ]
     },
     "execution_count": 146,
     "metadata": {},
     "output_type": "execute_result"
    }
   ],
   "source": [
    "svc_grid = Bundle(\n",
    "    C=np.logspace(-4, 5, 10),\n",
    "    kernel=[\"linear\", \"poly\", \"rbf\", \"sigmoid\"],\n",
    "    gamma=np.logspace(-5, 2, 10),\n",
    ")\n",
    "svc_search = GridSearchCV(SVC(), svc_grid, cv=ss_cv)\n",
    "svc_search.fit(X[idx_train], y[idx_train])\n",
    "svc_clf = SVC(**svc_search.best_params_).fit(X[idx_train], y[idx_train])\n",
    "svc_search.best_params_, svc_clf.score(X[idx_test], y[idx_test])"
   ]
  },
  {
   "cell_type": "code",
   "execution_count": 147,
   "metadata": {},
   "outputs": [
    {
     "data": {
      "text/plain": [
       "({'n_neighbors': 3, 'weights': 'distance'}, 0.6644444444444444)"
      ]
     },
     "execution_count": 147,
     "metadata": {},
     "output_type": "execute_result"
    }
   ],
   "source": [
    "knn_grid = Bundle(\n",
    "    n_neighbors=[3, 5, 8, 13, 21, 34], weights=[\"uniform\", \"distance\"]\n",
    ")\n",
    "# TODO: Pass FermatDistance as metric!!!\n",
    "knn_search = GridSearchCV(KNeighborsClassifier(), knn_grid, cv=ss_cv)\n",
    "knn_search.fit(X[idx_train], y[idx_train])\n",
    "knn_clf = KNeighborsClassifier(**knn_search.best_params_).fit(\n",
    "    X[idx_train], y[idx_train]\n",
    ")\n",
    "knn_search.best_params_, knn_clf.score(X[idx_test], y[idx_test])"
   ]
  },
  {
   "cell_type": "code",
   "execution_count": null,
   "metadata": {},
   "outputs": [],
   "source": []
  }
 ],
 "metadata": {
  "kernelspec": {
   "display_name": "jose-luis",
   "language": "python",
   "name": "python3"
  },
  "language_info": {
   "codemirror_mode": {
    "name": "ipython",
    "version": 3
   },
   "file_extension": ".py",
   "mimetype": "text/x-python",
   "name": "python",
   "nbconvert_exporter": "python",
   "pygments_lexer": "ipython3",
   "version": "3.10.10"
  },
  "orig_nbformat": 4
 },
 "nbformat": 4,
 "nbformat_minor": 2
}
