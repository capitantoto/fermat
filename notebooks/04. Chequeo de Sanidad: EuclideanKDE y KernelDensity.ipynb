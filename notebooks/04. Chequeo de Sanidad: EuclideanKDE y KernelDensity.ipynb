{
 "cells": [
  {
   "cell_type": "code",
   "execution_count": 1,
   "metadata": {},
   "outputs": [],
   "source": [
    "import numpy as np\n",
    "import pandas as pd\n",
    "from scipy.spatial import distance_matrix\n",
    "import matplotlib.pyplot as plt\n",
    "from sklearn.model_selection import train_test_split\n",
    "from fermat import Fermat\n",
    "from sklearn.datasets import load_iris, load_digits\n",
    "import networkx as nx\n",
    "import igraph as ig\n",
    "import neo4j\n"
   ]
  },
  {
   "cell_type": "code",
   "execution_count": 2,
   "metadata": {},
   "outputs": [],
   "source": [
    "X, y = load_iris(return_X_y=True, as_frame=True)\n",
    "N = len(X)  # # observaciones\n",
    "K = len(set(y))  # # clases\n"
   ]
  },
  {
   "cell_type": "code",
   "execution_count": 3,
   "metadata": {},
   "outputs": [],
   "source": [
    "X_train, X_test, y_train, y_test = train_test_split(\n",
    "    *load_iris(return_X_y=True, as_frame=True), test_size=0.2\n",
    ")\n"
   ]
  },
  {
   "cell_type": "code",
   "execution_count": 4,
   "metadata": {},
   "outputs": [],
   "source": [
    "import scipy\n"
   ]
  },
  {
   "cell_type": "code",
   "execution_count": 5,
   "metadata": {},
   "outputs": [],
   "source": [
    "from sklearn.neighbors import KernelDensity\n",
    "import numpy as np\n",
    "\n",
    "# rng = np.random.RandomState(42)\n",
    "runs = 200\n",
    "res = np.empty(runs)\n",
    "n, d = 1000, 3\n",
    "test_size = 10\n"
   ]
  },
  {
   "cell_type": "code",
   "execution_count": 6,
   "metadata": {},
   "outputs": [
    {
     "data": {
      "text/plain": [
       "1"
      ]
     },
     "execution_count": 6,
     "metadata": {},
     "output_type": "execute_result"
    }
   ],
   "source": [
    "int(1.2)\n"
   ]
  },
  {
   "cell_type": "code",
   "execution_count": 154,
   "metadata": {},
   "outputs": [
    {
     "data": {
      "text/plain": [
       "1.0"
      ]
     },
     "execution_count": 154,
     "metadata": {},
     "output_type": "execute_result"
    }
   ],
   "source": [
    "for i in range(runs):\n",
    "    kde = KernelDensity(kernel=\"gaussian\", bandwidth=0.5).fit(X[:test_size])\n",
    "    log_density = kde.score_samples(X)\n",
    "    res[i] = log_density[:test_size].mean() > log_density[test_size:].mean()\n",
    "res.mean()\n"
   ]
  },
  {
   "cell_type": "code",
   "execution_count": 7,
   "metadata": {},
   "outputs": [
    {
     "data": {
      "text/plain": [
       "((150, 4),\n",
       " array([[5.1, 3.5, 1.4, 0.2],\n",
       "        [4.9, 3. , 1.4, 0.2],\n",
       "        [4.7, 3.2, 1.3, 0.2],\n",
       "        [4.6, 3.1, 1.5, 0.2],\n",
       "        [5. , 3.6, 1.4, 0.2]]))"
      ]
     },
     "execution_count": 7,
     "metadata": {},
     "output_type": "execute_result"
    }
   ],
   "source": [
    "X_iris, _ = load_iris(return_X_y=True)\n",
    "n, d = X_iris.shape\n",
    "datasets = {\"iris\": X_iris, \"unif(0, 1)\": np.random.random_sample((n, d))}\n",
    "(n, d), X_iris[:5]\n"
   ]
  },
  {
   "cell_type": "markdown",
   "metadata": {},
   "source": [
    "Qué probabilidad $p$ hay de que en la densidad estimatada sea, en promedio, más alta en el _train set_ que en un _test set_ aún no visto?\n",
    "Con un _test set_ pequeño en relación al de _train_, esperaría que la densidad esté bien estimada en todo el dominio de la X y entonces $p >= 1/2 + \\delta$, con un $\\delta$ \"pequeño\", ya que $E_{X_{train}}(\\hat{f_X}(X)) \\approx E_{X_{test}}(\\hat{f_X}(X))$. Coun un test set \"grande\", de tamaño cercano a $n$, la estimación de densidad,e la densidad esté sobreajustada a los puntos conocidos, y siempre dé \n"
   ]
  },
  {
   "cell_type": "code",
   "execution_count": 156,
   "metadata": {},
   "outputs": [],
   "source": [
    "def run(train_size, runs=100):\n",
    "    results = {name: np.empty(runs) for name in datasets}\n",
    "    for i in range(runs):\n",
    "        for name, X in datasets.items():\n",
    "            X_train, X_test = train_test_split(X, train_size=train_size)\n",
    "            kde = KernelDensity(kernel=\"gaussian\", bandwidth=0.5).fit(X_train)\n",
    "            results[name][i] = (\n",
    "                kde.score_samples(X_train).mean() > kde.score_samples(X_test).mean()\n",
    "            )\n",
    "    return pd.DataFrame(results)\n"
   ]
  },
  {
   "cell_type": "markdown",
   "metadata": {},
   "source": [
    " Ajustar bien la densidad es `facil` entrenando con \"casi todos\" los datos y `dificil` entrenando con \"casi ninguno\" de los datos."
   ]
  },
  {
   "cell_type": "code",
   "execution_count": 157,
   "metadata": {},
   "outputs": [],
   "source": [
    "facil, dificil = 0.9, 0.1\n",
    "runs = 100\n",
    "favorable, adverso = run(facil, runs), run(dificil, runs)\n"
   ]
  },
  {
   "cell_type": "code",
   "execution_count": 158,
   "metadata": {},
   "outputs": [],
   "source": [
    "res = pd.concat(\n",
    "    [favorable, adverso], keys=[\"favorable\", \"adverso\"], names=[\"modo\", \"run\"]\n",
    ")\n"
   ]
  },
  {
   "cell_type": "code",
   "execution_count": 159,
   "metadata": {},
   "outputs": [
    {
     "data": {
      "text/html": [
       "<div>\n",
       "<style scoped>\n",
       "    .dataframe tbody tr th:only-of-type {\n",
       "        vertical-align: middle;\n",
       "    }\n",
       "\n",
       "    .dataframe tbody tr th {\n",
       "        vertical-align: top;\n",
       "    }\n",
       "\n",
       "    .dataframe thead th {\n",
       "        text-align: right;\n",
       "    }\n",
       "</style>\n",
       "<table border=\"1\" class=\"dataframe\">\n",
       "  <thead>\n",
       "    <tr style=\"text-align: right;\">\n",
       "      <th></th>\n",
       "      <th>iris</th>\n",
       "      <th>unif(0, 1)</th>\n",
       "    </tr>\n",
       "    <tr>\n",
       "      <th>modo</th>\n",
       "      <th></th>\n",
       "      <th></th>\n",
       "    </tr>\n",
       "  </thead>\n",
       "  <tbody>\n",
       "    <tr>\n",
       "      <th>favorable</th>\n",
       "      <td>0.64</td>\n",
       "      <td>0.54</td>\n",
       "    </tr>\n",
       "    <tr>\n",
       "      <th>adverso</th>\n",
       "      <td>1.00</td>\n",
       "      <td>1.00</td>\n",
       "    </tr>\n",
       "  </tbody>\n",
       "</table>\n",
       "</div>"
      ],
      "text/plain": [
       "           iris  unif(0, 1)\n",
       "modo                       \n",
       "favorable  0.64        0.54\n",
       "adverso    1.00        1.00"
      ]
     },
     "execution_count": 159,
     "metadata": {},
     "output_type": "execute_result"
    }
   ],
   "source": [
    "res.groupby(\"modo\").mean()\n"
   ]
  },
  {
   "cell_type": "markdown",
   "metadata": {},
   "source": [
    "Bingo! En el contexto `favorable` de entrenamiento, la densidad estimada está más ajustada a los datos de _train_ que _test_, pero no siempre. En particular, el sobreajuste se nota más en el dataset real, `iris`, que en el sintético y \"puramente aleatorio\" `unif(0, 1)`.\n",
    "En el contexto adverso, (casi) siempre la densidad estimada sobreajusta a train: en el dataset real \"siempre\" lo hace, mientras que en el sintético, alguna rara vez no se evidencia sobreajuste."
   ]
  },
  {
   "cell_type": "markdown",
   "metadata": {},
   "source": [
    "### Comparación de del humilde `EuclideanKDE` con la implementación de `scikit-learn`, `KernelDensity`"
   ]
  },
  {
   "cell_type": "code",
   "execution_count": 72,
   "metadata": {},
   "outputs": [],
   "source": [
    "norm_pdf = scipy.stats.norm.pdf\n",
    "\n",
    "\n",
    "class EuclideanKDE:\n",
    "    def __init__(self, kernel=norm_pdf, bandwidth=1):\n",
    "        self.kernel = kernel\n",
    "        self.bandwidth = bandwidth\n",
    "\n",
    "    def fit(self, X):\n",
    "        self.X_ = X\n",
    "        self.n_, self.dim_ = X.shape\n",
    "        return self\n",
    "\n",
    "    def density(self, X, log=True):\n",
    "        densities = (self.bandwidth**-self.dim_) * self.kernel(\n",
    "            distance_matrix(X, self.X_) / self.bandwidth\n",
    "        ).mean(axis=1)\n",
    "        return np.log(densities) if log else densities\n"
   ]
  },
  {
   "cell_type": "code",
   "execution_count": 65,
   "metadata": {},
   "outputs": [],
   "source": [
    "X = datasets[\"iris\"]\n"
   ]
  },
  {
   "cell_type": "code",
   "execution_count": 66,
   "metadata": {},
   "outputs": [],
   "source": [
    "Xunif = np.random.rand(100, 2)"
   ]
  },
  {
   "cell_type": "code",
   "execution_count": 67,
   "metadata": {},
   "outputs": [],
   "source": [
    "my_kde = EuclideanKDE(kernel=norm_pdf, bandwidth=1).fit(Xunif)\n",
    "sk_kde = KernelDensity(kernel=\"gaussian\", bandwidth=1).fit(Xunif)\n"
   ]
  },
  {
   "cell_type": "code",
   "execution_count": 68,
   "metadata": {},
   "outputs": [],
   "source": [
    "my_score = my_kde.density(Xunif)\n",
    "sk_score = sk_kde.score_samples(Xunif)\n"
   ]
  },
  {
   "cell_type": "code",
   "execution_count": 69,
   "metadata": {},
   "outputs": [
    {
     "data": {
      "text/plain": [
       "(array([-1.04532222, -1.11164284, -0.99553892, -1.00099863, -1.06418062]),\n",
       " array([-1.96426076, -2.03058137, -1.91447745, -1.91993717, -1.98311915]))"
      ]
     },
     "execution_count": 69,
     "metadata": {},
     "output_type": "execute_result"
    }
   ],
   "source": [
    "my_score[:5], sk_score[:5]\n"
   ]
  },
  {
   "cell_type": "markdown",
   "metadata": {},
   "source": [
    "No se ven iguales pero pareciera haber una proporcionalidad"
   ]
  },
  {
   "cell_type": "code",
   "execution_count": 70,
   "metadata": {},
   "outputs": [],
   "source": [
    "from sklearn.linear_model import LinearRegression\n"
   ]
  },
  {
   "cell_type": "code",
   "execution_count": 71,
   "metadata": {},
   "outputs": [
    {
     "data": {
      "image/png": "[encoded data removed]",
      "text/plain": [
       "<Figure size 432x288 with 1 Axes>"
      ]
     },
     "metadata": {
      "needs_background": "light"
     },
     "output_type": "display_data"
    }
   ],
   "source": [
    "plt.plot(my_score, sk_score)\n",
    "plt.axline([0, 0], slope=1, linestyle=\"dashed\", color=\"gray\")\n",
    "est = LinearRegression().fit(X=sk_score.reshape(-1, 1), y=my_score)\n",
    "plt.title(f\"my_score = {est.intercept_.round(3)} + {est.coef_[0].round(3)} * sk_score\")\n",
    "plt.show()\n"
   ]
  },
  {
   "cell_type": "markdown",
   "metadata": {},
   "source": [
    "Efectivamente, la relación pareciera de identidad, salvo por una sospechosa constante $\\approx2.757$. Hmmmm. Al menos, parecieran funcionar igual. Revisando la documentación de [`KernelDensity.score_samples`](https://scikit-learn.org/stable/modules/generated/sklearn.neighbors.KernelDensity.html?highlight=kerneldensity#sklearn.neighbors.KernelDensity.score_samples), leo:\n",
    "\n",
    "    Returns \n",
    "        density: ndarray of shape (n_samples,)\n",
    "\n",
    "        Log-likelihood of each sample in X. These are normalized to be probability densities, so values will be low for high-dimensional data.\n",
    "\n",
    "Y en el código fuente, se lee (editado):\n",
    "\n",
    "```python\n",
    "        N = self.tree_.data.shape[0]\n",
    "        log_density = self.tree_.kernel_density(X, h=self.bandwidth, kernel=self.kernel)\n",
    "        log_density -= np.log(N)\n",
    "        return log_density\n",
    "```"
   ]
  },
  {
   "cell_type": "markdown",
   "metadata": {},
   "source": [
    "Veamos si podemos revertir esa \"normalización\" de `log_density -= np.log(N)`:\n"
   ]
  },
  {
   "cell_type": "code",
   "execution_count": 167,
   "metadata": {},
   "outputs": [
    {
     "data": {
      "text/plain": [
       "(150, True)"
      ]
     },
     "execution_count": 167,
     "metadata": {},
     "output_type": "execute_result"
    }
   ],
   "source": [
    "N = sk_kde.tree_.data.shape[0]\n",
    "N, N == X.shape[0]\n"
   ]
  },
  {
   "cell_type": "code",
   "execution_count": 168,
   "metadata": {},
   "outputs": [],
   "source": [
    "atol_N = sk_kde.atol * N\n",
    "log_density = sk_kde.tree_.kernel_density(\n",
    "    X,\n",
    "    h=sk_kde.bandwidth,\n",
    "    kernel=sk_kde.kernel,\n",
    "    atol=atol_N,\n",
    "    rtol=sk_kde.rtol,\n",
    "    breadth_first=sk_kde.breadth_first,\n",
    "    return_log=True,\n",
    ")\n"
   ]
  },
  {
   "cell_type": "code",
   "execution_count": 169,
   "metadata": {},
   "outputs": [],
   "source": [
    "assert np.allclose(sk_score + np.log(N), log_density)\n"
   ]
  },
  {
   "cell_type": "code",
   "execution_count": 170,
   "metadata": {},
   "outputs": [
    {
     "data": {
      "text/plain": [
       "(array([-2.15285911, -2.21996845, -2.21470712, -2.24684872, -2.16204292]),\n",
       " array([0.10096059, 0.03385124, 0.03911257, 0.00697097, 0.09177677]))"
      ]
     },
     "execution_count": 170,
     "metadata": {},
     "output_type": "execute_result"
    }
   ],
   "source": [
    "my_score[:5], log_density[:5]\n"
   ]
  },
  {
   "cell_type": "code",
   "execution_count": 171,
   "metadata": {},
   "outputs": [
    {
     "data": {
      "image/png": "[encoded data removed]",
      "text/plain": [
       "<Figure size 432x288 with 1 Axes>"
      ]
     },
     "metadata": {
      "needs_background": "light"
     },
     "output_type": "display_data"
    }
   ],
   "source": [
    "plt.plot(my_score, log_density)\n",
    "plt.axline([0, 0], slope=1, linestyle=\"dashed\", color=\"gray\")\n",
    "est = LinearRegression().fit(X=log_density.reshape(-1, 1), y=my_score)\n",
    "plt.title(\n",
    "    f\"my_score = {est.intercept_.round(3)} + {est.coef_[0].round(3)} * log_density\"\n",
    ")\n",
    "plt.show()\n"
   ]
  },
  {
   "cell_type": "markdown",
   "metadata": {},
   "source": [
    "El problema, es que esa desnormalización, no es del factor esperado:"
   ]
  },
  {
   "cell_type": "code",
   "execution_count": 172,
   "metadata": {},
   "outputs": [
    {
     "data": {
      "text/plain": [
       "(5.0106352940962555, 2.756815599614004)"
      ]
     },
     "execution_count": 172,
     "metadata": {},
     "output_type": "execute_result"
    }
   ],
   "source": [
    "np.log(N), LinearRegression().fit(X=sk_score.reshape(-1, 1), y=my_score).intercept_\n"
   ]
  },
  {
   "cell_type": "markdown",
   "metadata": {},
   "source": [
    "Qué más hay de distinto? Habrán normalizado los datos sin avisar? La `data` (nuestra `X`) del estimador de densidad se accede desde `KernelDensity.tree_.data`, que es una `MemoryView` del array original."
   ]
  },
  {
   "cell_type": "code",
   "execution_count": 173,
   "metadata": {},
   "outputs": [],
   "source": [
    "sk_data = np.asarray(sk_kde.tree_.data)\n",
    "assert np.all(sk_data == X)\n"
   ]
  },
  {
   "cell_type": "markdown",
   "metadata": {},
   "source": [
    "No, tampoco es eso. Bueno, ya se verá. Por el momento, son funcionalmente idénticas las implementaciones, salvo por esa constante."
   ]
  },
  {
   "cell_type": "code",
   "execution_count": 174,
   "metadata": {},
   "outputs": [
    {
     "data": {
      "text/plain": [
       "3.6757541328186907"
      ]
     },
     "execution_count": 174,
     "metadata": {},
     "output_type": "execute_result"
    }
   ],
   "source": [
    "# TODO: review normalizing factors in BinaryTree.kernel_density\n",
    "factor = 0.5 * d * np.log(2 * np.pi)\n",
    "factor\n",
    "# -factor - d * np.log(1)"
   ]
  },
  {
   "cell_type": "markdown",
   "metadata": {},
   "source": [
    "### Comparación de Performance"
   ]
  },
  {
   "cell_type": "code",
   "execution_count": 176,
   "metadata": {},
   "outputs": [],
   "source": [
    "X_digits, _ = load_digits(return_X_y=True)"
   ]
  },
  {
   "cell_type": "code",
   "execution_count": 177,
   "metadata": {},
   "outputs": [
    {
     "name": "stdout",
     "output_type": "stream",
     "text": [
      "733 ns ± 28.8 ns per loop (mean ± std. dev. of 7 runs, 1,000,000 loops each)\n"
     ]
    }
   ],
   "source": [
    "%%timeit\n",
    "my_kde = EuclideanKDE(kernel=norm_pdf, bandwidth=1).fit(X_digits)"
   ]
  },
  {
   "cell_type": "code",
   "execution_count": 178,
   "metadata": {},
   "outputs": [
    {
     "name": "stdout",
     "output_type": "stream",
     "text": [
      "7.95 ms ± 261 µs per loop (mean ± std. dev. of 7 runs, 100 loops each)\n"
     ]
    }
   ],
   "source": [
    "%%timeit\n",
    "sk_kde = KernelDensity(kernel=\"gaussian\", bandwidth=1).fit(X_digits)"
   ]
  },
  {
   "cell_type": "markdown",
   "metadata": {},
   "source": [
    "`fit` es esencialmente \"gratis\", algunas pocas asignaciones en ambos casos."
   ]
  },
  {
   "cell_type": "code",
   "execution_count": 179,
   "metadata": {},
   "outputs": [],
   "source": [
    "my_kde = EuclideanKDE(kernel=norm_pdf, bandwidth=1).fit(X_digits)\n"
   ]
  },
  {
   "cell_type": "code",
   "execution_count": 180,
   "metadata": {},
   "outputs": [
    {
     "name": "stdout",
     "output_type": "stream",
     "text": [
      "961 ms ± 83.4 ms per loop (mean ± std. dev. of 7 runs, 1 loop each)\n"
     ]
    }
   ],
   "source": [
    "%%timeit\n",
    "my_kde.density(X_digits)"
   ]
  },
  {
   "cell_type": "code",
   "execution_count": 181,
   "metadata": {},
   "outputs": [],
   "source": [
    "sk_kde = KernelDensity(kernel=\"gaussian\", bandwidth=1).fit(X_digits)\n"
   ]
  },
  {
   "cell_type": "code",
   "execution_count": 182,
   "metadata": {},
   "outputs": [
    {
     "name": "stdout",
     "output_type": "stream",
     "text": [
      "521 ms ± 18.5 ms per loop (mean ± std. dev. of 7 runs, 1 loop each)\n"
     ]
    }
   ],
   "source": [
    "%%timeit\n",
    "sk_kde.score_samples(X_digits)"
   ]
  },
  {
   "cell_type": "code",
   "execution_count": 183,
   "metadata": {},
   "outputs": [
    {
     "data": {
      "text/plain": [
       "(1797, 64)"
      ]
     },
     "execution_count": 183,
     "metadata": {},
     "output_type": "execute_result"
    }
   ],
   "source": [
    "X_digits.shape\n"
   ]
  },
  {
   "cell_type": "code",
   "execution_count": 184,
   "metadata": {},
   "outputs": [],
   "source": [
    "my_kde = EuclideanKDE(kernel=norm_pdf, bandwidth=1).fit(X_iris)\n"
   ]
  },
  {
   "cell_type": "code",
   "execution_count": 185,
   "metadata": {},
   "outputs": [
    {
     "name": "stdout",
     "output_type": "stream",
     "text": [
      "1.84 ms ± 129 µs per loop (mean ± std. dev. of 7 runs, 100 loops each)\n"
     ]
    }
   ],
   "source": [
    "%%timeit\n",
    "my_kde.density(X_iris)"
   ]
  },
  {
   "cell_type": "code",
   "execution_count": 186,
   "metadata": {},
   "outputs": [],
   "source": [
    "sk_kde = KernelDensity(kernel=\"gaussian\", bandwidth=1).fit(X_iris)\n"
   ]
  },
  {
   "cell_type": "code",
   "execution_count": 187,
   "metadata": {},
   "outputs": [
    {
     "ename": "KeyboardInterrupt",
     "evalue": "",
     "output_type": "error",
     "traceback": [
      "\u001b[0;31m---------------------------------------------------------------------------\u001b[0m",
      "\u001b[0;31mKeyboardInterrupt\u001b[0m                         Traceback (most recent call last)",
      "\u001b[1;32m/home/gonzalo/maestria/fermat/notebooks/04. Chequeo de Sanidad: EuclideanKDE y KernelDensity.ipynb Cell 51'\u001b[0m in \u001b[0;36m<cell line: 1>\u001b[0;34m()\u001b[0m\n\u001b[0;32m----> <a href='vscode-notebook-cell:/home/gonzalo/maestria/fermat/notebooks/04.%20Chequeo%20de%20Sanidad%3A%20EuclideanKDE%20y%20KernelDensity.ipynb#ch0000049?line=0'>1</a>\u001b[0m get_ipython()\u001b[39m.\u001b[39;49mrun_cell_magic(\u001b[39m'\u001b[39;49m\u001b[39mtimeit\u001b[39;49m\u001b[39m'\u001b[39;49m, \u001b[39m'\u001b[39;49m\u001b[39m'\u001b[39;49m, \u001b[39m'\u001b[39;49m\u001b[39msk_kde.score_samples(X_iris)\u001b[39;49m\u001b[39m\\n\u001b[39;49;00m\u001b[39m'\u001b[39;49m)\n",
      "File \u001b[0;32m~/maestria/fermat/venv/lib/python3.8/site-packages/IPython/core/interactiveshell.py:2347\u001b[0m, in \u001b[0;36mInteractiveShell.run_cell_magic\u001b[0;34m(self, magic_name, line, cell)\u001b[0m\n\u001b[1;32m   <a href='file:///home/gonzalo/maestria/fermat/venv/lib/python3.8/site-packages/IPython/core/interactiveshell.py?line=2344'>2345</a>\u001b[0m \u001b[39mwith\u001b[39;00m \u001b[39mself\u001b[39m\u001b[39m.\u001b[39mbuiltin_trap:\n\u001b[1;32m   <a href='file:///home/gonzalo/maestria/fermat/venv/lib/python3.8/site-packages/IPython/core/interactiveshell.py?line=2345'>2346</a>\u001b[0m     args \u001b[39m=\u001b[39m (magic_arg_s, cell)\n\u001b[0;32m-> <a href='file:///home/gonzalo/maestria/fermat/venv/lib/python3.8/site-packages/IPython/core/interactiveshell.py?line=2346'>2347</a>\u001b[0m     result \u001b[39m=\u001b[39m fn(\u001b[39m*\u001b[39;49margs, \u001b[39m*\u001b[39;49m\u001b[39m*\u001b[39;49mkwargs)\n\u001b[1;32m   <a href='file:///home/gonzalo/maestria/fermat/venv/lib/python3.8/site-packages/IPython/core/interactiveshell.py?line=2347'>2348</a>\u001b[0m \u001b[39mreturn\u001b[39;00m result\n",
      "File \u001b[0;32m~/maestria/fermat/venv/lib/python3.8/site-packages/IPython/core/magics/execution.py:1166\u001b[0m, in \u001b[0;36mExecutionMagics.timeit\u001b[0;34m(self, line, cell, local_ns)\u001b[0m\n\u001b[1;32m   <a href='file:///home/gonzalo/maestria/fermat/venv/lib/python3.8/site-packages/IPython/core/magics/execution.py?line=1162'>1163</a>\u001b[0m         \u001b[39mif\u001b[39;00m time_number \u001b[39m>\u001b[39m\u001b[39m=\u001b[39m \u001b[39m0.2\u001b[39m:\n\u001b[1;32m   <a href='file:///home/gonzalo/maestria/fermat/venv/lib/python3.8/site-packages/IPython/core/magics/execution.py?line=1163'>1164</a>\u001b[0m             \u001b[39mbreak\u001b[39;00m\n\u001b[0;32m-> <a href='file:///home/gonzalo/maestria/fermat/venv/lib/python3.8/site-packages/IPython/core/magics/execution.py?line=1165'>1166</a>\u001b[0m all_runs \u001b[39m=\u001b[39m timer\u001b[39m.\u001b[39;49mrepeat(repeat, number)\n\u001b[1;32m   <a href='file:///home/gonzalo/maestria/fermat/venv/lib/python3.8/site-packages/IPython/core/magics/execution.py?line=1166'>1167</a>\u001b[0m best \u001b[39m=\u001b[39m \u001b[39mmin\u001b[39m(all_runs) \u001b[39m/\u001b[39m number\n\u001b[1;32m   <a href='file:///home/gonzalo/maestria/fermat/venv/lib/python3.8/site-packages/IPython/core/magics/execution.py?line=1167'>1168</a>\u001b[0m worst \u001b[39m=\u001b[39m \u001b[39mmax\u001b[39m(all_runs) \u001b[39m/\u001b[39m number\n",
      "File \u001b[0;32m~/miniconda3/lib/python3.8/timeit.py:205\u001b[0m, in \u001b[0;36mTimer.repeat\u001b[0;34m(self, repeat, number)\u001b[0m\n\u001b[1;32m    <a href='file:///home/gonzalo/miniconda3/lib/python3.8/timeit.py?line=202'>203</a>\u001b[0m r \u001b[39m=\u001b[39m []\n\u001b[1;32m    <a href='file:///home/gonzalo/miniconda3/lib/python3.8/timeit.py?line=203'>204</a>\u001b[0m \u001b[39mfor\u001b[39;00m i \u001b[39min\u001b[39;00m \u001b[39mrange\u001b[39m(repeat):\n\u001b[0;32m--> <a href='file:///home/gonzalo/miniconda3/lib/python3.8/timeit.py?line=204'>205</a>\u001b[0m     t \u001b[39m=\u001b[39m \u001b[39mself\u001b[39;49m\u001b[39m.\u001b[39;49mtimeit(number)\n\u001b[1;32m    <a href='file:///home/gonzalo/miniconda3/lib/python3.8/timeit.py?line=205'>206</a>\u001b[0m     r\u001b[39m.\u001b[39mappend(t)\n\u001b[1;32m    <a href='file:///home/gonzalo/miniconda3/lib/python3.8/timeit.py?line=206'>207</a>\u001b[0m \u001b[39mreturn\u001b[39;00m r\n",
      "File \u001b[0;32m~/maestria/fermat/venv/lib/python3.8/site-packages/IPython/core/magics/execution.py:156\u001b[0m, in \u001b[0;36mTimer.timeit\u001b[0;34m(self, number)\u001b[0m\n\u001b[1;32m    <a href='file:///home/gonzalo/maestria/fermat/venv/lib/python3.8/site-packages/IPython/core/magics/execution.py?line=153'>154</a>\u001b[0m gc\u001b[39m.\u001b[39mdisable()\n\u001b[1;32m    <a href='file:///home/gonzalo/maestria/fermat/venv/lib/python3.8/site-packages/IPython/core/magics/execution.py?line=154'>155</a>\u001b[0m \u001b[39mtry\u001b[39;00m:\n\u001b[0;32m--> <a href='file:///home/gonzalo/maestria/fermat/venv/lib/python3.8/site-packages/IPython/core/magics/execution.py?line=155'>156</a>\u001b[0m     timing \u001b[39m=\u001b[39m \u001b[39mself\u001b[39;49m\u001b[39m.\u001b[39;49minner(it, \u001b[39mself\u001b[39;49m\u001b[39m.\u001b[39;49mtimer)\n\u001b[1;32m    <a href='file:///home/gonzalo/maestria/fermat/venv/lib/python3.8/site-packages/IPython/core/magics/execution.py?line=156'>157</a>\u001b[0m \u001b[39mfinally\u001b[39;00m:\n\u001b[1;32m    <a href='file:///home/gonzalo/maestria/fermat/venv/lib/python3.8/site-packages/IPython/core/magics/execution.py?line=157'>158</a>\u001b[0m     \u001b[39mif\u001b[39;00m gcold:\n",
      "File \u001b[0;32m<magic-timeit>:1\u001b[0m, in \u001b[0;36minner\u001b[0;34m(_it, _timer)\u001b[0m\n",
      "File \u001b[0;32m~/maestria/fermat/venv/lib/python3.8/site-packages/sklearn/neighbors/_kde.py:237\u001b[0m, in \u001b[0;36mKernelDensity.score_samples\u001b[0;34m(self, X)\u001b[0m\n\u001b[1;32m    <a href='file:///home/gonzalo/maestria/fermat/venv/lib/python3.8/site-packages/sklearn/neighbors/_kde.py?line=234'>235</a>\u001b[0m     N \u001b[39m=\u001b[39m \u001b[39mself\u001b[39m\u001b[39m.\u001b[39mtree_\u001b[39m.\u001b[39msum_weight\n\u001b[1;32m    <a href='file:///home/gonzalo/maestria/fermat/venv/lib/python3.8/site-packages/sklearn/neighbors/_kde.py?line=235'>236</a>\u001b[0m atol_N \u001b[39m=\u001b[39m \u001b[39mself\u001b[39m\u001b[39m.\u001b[39matol \u001b[39m*\u001b[39m N\n\u001b[0;32m--> <a href='file:///home/gonzalo/maestria/fermat/venv/lib/python3.8/site-packages/sklearn/neighbors/_kde.py?line=236'>237</a>\u001b[0m log_density \u001b[39m=\u001b[39m \u001b[39mself\u001b[39;49m\u001b[39m.\u001b[39;49mtree_\u001b[39m.\u001b[39;49mkernel_density(\n\u001b[1;32m    <a href='file:///home/gonzalo/maestria/fermat/venv/lib/python3.8/site-packages/sklearn/neighbors/_kde.py?line=237'>238</a>\u001b[0m     X,\n\u001b[1;32m    <a href='file:///home/gonzalo/maestria/fermat/venv/lib/python3.8/site-packages/sklearn/neighbors/_kde.py?line=238'>239</a>\u001b[0m     h\u001b[39m=\u001b[39;49m\u001b[39mself\u001b[39;49m\u001b[39m.\u001b[39;49mbandwidth,\n\u001b[1;32m    <a href='file:///home/gonzalo/maestria/fermat/venv/lib/python3.8/site-packages/sklearn/neighbors/_kde.py?line=239'>240</a>\u001b[0m     kernel\u001b[39m=\u001b[39;49m\u001b[39mself\u001b[39;49m\u001b[39m.\u001b[39;49mkernel,\n\u001b[1;32m    <a href='file:///home/gonzalo/maestria/fermat/venv/lib/python3.8/site-packages/sklearn/neighbors/_kde.py?line=240'>241</a>\u001b[0m     atol\u001b[39m=\u001b[39;49matol_N,\n\u001b[1;32m    <a href='file:///home/gonzalo/maestria/fermat/venv/lib/python3.8/site-packages/sklearn/neighbors/_kde.py?line=241'>242</a>\u001b[0m     rtol\u001b[39m=\u001b[39;49m\u001b[39mself\u001b[39;49m\u001b[39m.\u001b[39;49mrtol,\n\u001b[1;32m    <a href='file:///home/gonzalo/maestria/fermat/venv/lib/python3.8/site-packages/sklearn/neighbors/_kde.py?line=242'>243</a>\u001b[0m     breadth_first\u001b[39m=\u001b[39;49m\u001b[39mself\u001b[39;49m\u001b[39m.\u001b[39;49mbreadth_first,\n\u001b[1;32m    <a href='file:///home/gonzalo/maestria/fermat/venv/lib/python3.8/site-packages/sklearn/neighbors/_kde.py?line=243'>244</a>\u001b[0m     return_log\u001b[39m=\u001b[39;49m\u001b[39mTrue\u001b[39;49;00m,\n\u001b[1;32m    <a href='file:///home/gonzalo/maestria/fermat/venv/lib/python3.8/site-packages/sklearn/neighbors/_kde.py?line=244'>245</a>\u001b[0m )\n\u001b[1;32m    <a href='file:///home/gonzalo/maestria/fermat/venv/lib/python3.8/site-packages/sklearn/neighbors/_kde.py?line=245'>246</a>\u001b[0m log_density \u001b[39m-\u001b[39m\u001b[39m=\u001b[39m np\u001b[39m.\u001b[39mlog(N)\n\u001b[1;32m    <a href='file:///home/gonzalo/maestria/fermat/venv/lib/python3.8/site-packages/sklearn/neighbors/_kde.py?line=246'>247</a>\u001b[0m \u001b[39mreturn\u001b[39;00m log_density\n",
      "\u001b[0;31mKeyboardInterrupt\u001b[0m: "
     ]
    }
   ],
   "source": [
    "%%timeit\n",
    "sk_kde.score_samples(X_iris)"
   ]
  },
  {
   "cell_type": "code",
   "execution_count": null,
   "metadata": {},
   "outputs": [
    {
     "data": {
      "text/plain": [
       "((1797, 64), (150, 4))"
      ]
     },
     "execution_count": 388,
     "metadata": {},
     "output_type": "execute_result"
    }
   ],
   "source": [
    "X_digits.shape, X_iris.shape\n"
   ]
  },
  {
   "cell_type": "markdown",
   "metadata": {},
   "source": [
    "Los resultados para `my_kde`, por ejemplo:\n",
    "```\n",
    "digits: 1.44 s ± 219 ms per loop (mean ± std. dev. of 7 runs, 1 loop each)\n",
    "iris:  2.23 ms ± 313 µs per loop (mean ± std. dev. of 7 runs, 100 loops each)\n",
    "```"
   ]
  },
  {
   "cell_type": "code",
   "execution_count": null,
   "metadata": {},
   "outputs": [
    {
     "data": {
      "text/plain": [
       "(645.7399103139013, 11.98)"
      ]
     },
     "execution_count": 390,
     "metadata": {},
     "output_type": "execute_result"
    }
   ],
   "source": [
    "1440 / 2.23, 1797 / 150\n"
   ]
  },
  {
   "cell_type": "markdown",
   "metadata": {},
   "source": [
    "Ajustar `digits` toma 645 veces más tiempo que `iris`, con 12 veces más observaciones (pero claro, también 60 dimensiones más).\n"
   ]
  },
  {
   "cell_type": "code",
   "execution_count": null,
   "metadata": {},
   "outputs": [],
   "source": [
    "my_kde = EuclideanKDE(kernel=norm_pdf, bandwidth=1).fit(X_digits)\n"
   ]
  },
  {
   "cell_type": "code",
   "execution_count": null,
   "metadata": {},
   "outputs": [
    {
     "name": "stdout",
     "output_type": "stream",
     "text": [
      "1.03 s ± 111 ms per loop (mean ± std. dev. of 7 runs, 1 loop each)\n"
     ]
    }
   ],
   "source": [
    "%%timeit\n",
    "my_kde.density(X_digits)"
   ]
  },
  {
   "cell_type": "code",
   "execution_count": null,
   "metadata": {},
   "outputs": [
    {
     "name": "stdout",
     "output_type": "stream",
     "text": [
      "91.8 ms ± 745 µs per loop (mean ± std. dev. of 7 runs, 10 loops each)\n"
     ]
    }
   ],
   "source": [
    "%%timeit\n",
    "my_kde.density(X_digits[:180])"
   ]
  },
  {
   "cell_type": "markdown",
   "metadata": {},
   "source": [
    "Parece lineal en `n`."
   ]
  },
  {
   "cell_type": "code",
   "execution_count": null,
   "metadata": {},
   "outputs": [],
   "source": [
    "my_kde = EuclideanKDE(kernel=norm_pdf, bandwidth=1).fit(X_digits[:, :8])\n"
   ]
  },
  {
   "cell_type": "code",
   "execution_count": null,
   "metadata": {},
   "outputs": [
    {
     "name": "stdout",
     "output_type": "stream",
     "text": [
      "559 ms ± 363 ms per loop (mean ± std. dev. of 7 runs, 1 loop each)\n"
     ]
    }
   ],
   "source": [
    "%%timeit\n",
    "my_kde.density(X_digits[:,:8])"
   ]
  },
  {
   "cell_type": "code",
   "execution_count": null,
   "metadata": {},
   "outputs": [],
   "source": [
    "my_kde = EuclideanKDE(kernel=32, bandwidth=1).fit(X_digits[:, :16])\n"
   ]
  },
  {
   "cell_type": "code",
   "execution_count": null,
   "metadata": {},
   "outputs": [
    {
     "name": "stdout",
     "output_type": "stream",
     "text": [
      "459 ms ± 9.91 ms per loop (mean ± std. dev. of 7 runs, 1 loop each)\n"
     ]
    }
   ],
   "source": [
    "%%timeit\n",
    "my_kde.density(X_digits[:,:16])"
   ]
  },
  {
   "cell_type": "code",
   "execution_count": null,
   "metadata": {},
   "outputs": [],
   "source": [
    "my_kde = EuclideanKDE(kernel=norm_pdf, bandwidth=1).fit(X_digits[:, :32])\n"
   ]
  },
  {
   "cell_type": "code",
   "execution_count": null,
   "metadata": {},
   "outputs": [
    {
     "name": "stdout",
     "output_type": "stream",
     "text": [
      "659 ms ± 7.38 ms per loop (mean ± std. dev. of 7 runs, 1 loop each)\n"
     ]
    }
   ],
   "source": [
    "%%timeit\n",
    "my_kde.density(X_digits[:,:32])"
   ]
  },
  {
   "cell_type": "code",
   "execution_count": null,
   "metadata": {},
   "outputs": [],
   "source": [
    "n_dims = np.linspace(8, 64, 8).astype(int)\n",
    "runs = 4"
   ]
  },
  {
   "cell_type": "code",
   "execution_count": null,
   "metadata": {},
   "outputs": [],
   "source": [
    "import time"
   ]
  },
  {
   "cell_type": "code",
   "execution_count": null,
   "metadata": {},
   "outputs": [],
   "source": [
    "results = []\n",
    "for n_dim in n_dims:\n",
    "    X = X_digits[:, :n_dim]\n",
    "    my_kde = EuclideanKDE().fit(X)\n",
    "    for i in range(runs):\n",
    "        t0 = time.time()\n",
    "        my_kde.density(X)\n",
    "        t = time.time() - t0\n",
    "        results.append({\"n_dim\": n_dim, \"run\": i, \"time\": t})"
   ]
  },
  {
   "cell_type": "code",
   "execution_count": null,
   "metadata": {},
   "outputs": [],
   "source": [
    "res = pd.DataFrame(results)"
   ]
  },
  {
   "cell_type": "code",
   "execution_count": null,
   "metadata": {},
   "outputs": [],
   "source": [
    "import seaborn as sns"
   ]
  },
  {
   "cell_type": "code",
   "execution_count": null,
   "metadata": {},
   "outputs": [
    {
     "data": {
      "image/png": "[encoded data removed]",
      "text/plain": [
       "<Figure size 432x288 with 1 Axes>"
      ]
     },
     "metadata": {
      "needs_background": "light"
     },
     "output_type": "display_data"
    }
   ],
   "source": [
    "sns.scatterplot(x=\"n_dim\", y=\"time\", data=res)\n",
    "est = LinearRegression().fit(res[[\"n_dim\"]], res.time)\n",
    "plt.title(\n",
    "    f\"time[s] = {est.intercept_.round(3)} + {est.coef_[0].round(3)} * n_dim\"\n",
    ")\n",
    "plt.axline([0, est.intercept_], slope = est.coef_, linestyle=\"dashed\", color=\"gray\")\n",
    "plt.show()"
   ]
  },
  {
   "cell_type": "markdown",
   "metadata": {},
   "source": [
    "OK, también parece lineal en `n_dim`."
   ]
  },
  {
   "cell_type": "markdown",
   "metadata": {},
   "source": [
    "Los tiempos de `KernelDensity` son como la mitad de los de EuclideanKDE, pero no sé cuánto mejor/peor serían si implementase una DistanceMetric nueva para la distancia de Fermat. Por el momento, seguimos con la programacion habitual, y mantenemos los clasificadores de juguete."
   ]
  },
  {
   "cell_type": "code",
   "execution_count": 188,
   "metadata": {},
   "outputs": [],
   "source": [
    "from sklearn.model_selection import GridSearchCV"
   ]
  },
  {
   "cell_type": "code",
   "execution_count": null,
   "metadata": {},
   "outputs": [],
   "source": []
  },
  {
   "cell_type": "code",
   "execution_count": 189,
   "metadata": {},
   "outputs": [],
   "source": [
    "from numpy import random as rnd\n",
    "import seaborn as sns\n"
   ]
  },
  {
   "cell_type": "code",
   "execution_count": 190,
   "metadata": {},
   "outputs": [
    {
     "data": {
      "text/plain": [
       "(array([0.        , 0.21462768, 0.53384619, 0.97290703, 1.        ]),\n",
       " array([[0.        , 0.21462768, 0.53384619, 0.97290703, 1.        ],\n",
       "        [0.        , 0.08688388, 0.18767115, 0.49855838, 1.        ],\n",
       "        [0.        , 0.10625519, 0.12141267, 0.58468375, 1.        ],\n",
       "        [0.        , 0.24683507, 0.83066972, 0.94846913, 1.        ],\n",
       "        [0.        , 0.09516656, 0.2350832 , 0.87213963, 1.        ]]))"
      ]
     },
     "execution_count": 190,
     "metadata": {},
     "output_type": "execute_result"
    }
   ],
   "source": [
    "A = rnd.rand(100, 3)\n",
    "A.sort(axis=1)\n",
    "A = np.column_stack([np.zeros_like(A[:, 0]), A, np.ones_like(A[:, 0])])\n",
    "a = A[0]\n",
    "a, A[\n",
    "    :5,\n",
    "]\n"
   ]
  },
  {
   "cell_type": "code",
   "execution_count": 191,
   "metadata": {},
   "outputs": [],
   "source": [
    "def fermat_dist(x, alpha=1):\n",
    "    \"\"\"Fermat alpha-distance between `x_0` and `x_k`, in the line graph with nodes at `x = (x_1, ..., x_k)`.\"\"\"\n",
    "    return ((x[1:] - x[:-1]) ** alpha).sum()\n"
   ]
  },
  {
   "cell_type": "code",
   "execution_count": 192,
   "metadata": {},
   "outputs": [
    {
     "data": {
      "text/plain": [
       "-49.56724"
      ]
     },
     "execution_count": 192,
     "metadata": {},
     "output_type": "execute_result"
    }
   ],
   "source": [
    "np.apply_along_axis(fermat_dist, axis=1, arr=X, alpha=3).mean()\n"
   ]
  },
  {
   "cell_type": "code",
   "execution_count": 193,
   "metadata": {},
   "outputs": [],
   "source": [
    "sample_size = 1000\n",
    "scales = [1 / 10, 1 / 2, 1, 2, 10]\n",
    "alphas = np.linspace(1, 4, 7)\n",
    "ks = [1, 2, 5, 10]\n",
    "results = []\n",
    "for k in ks:\n",
    "    A = rnd.rand(sample_size, k)\n",
    "    A.sort(axis=1)\n",
    "    A = np.column_stack([np.zeros_like(A[:, 0]), A, np.ones_like(A[:, 0])])\n",
    "    for scale in scales:\n",
    "        for alpha in alphas:\n",
    "            results.append(\n",
    "                dict(\n",
    "                    k=k,\n",
    "                    alpha=alpha,\n",
    "                    scale=scale,\n",
    "                    dists=np.apply_along_axis(\n",
    "                        fermat_dist, axis=1, arr=scale * A, alpha=alpha\n",
    "                    ),\n",
    "                )\n",
    "            )\n"
   ]
  },
  {
   "cell_type": "code",
   "execution_count": 194,
   "metadata": {},
   "outputs": [],
   "source": [
    "df = pd.DataFrame(results)\n"
   ]
  },
  {
   "cell_type": "code",
   "execution_count": 195,
   "metadata": {},
   "outputs": [],
   "source": [
    "df[\"mean_dist\"] = df.dists.apply(np.mean)\n",
    "df[\"scaled_dist\"] = df.mean_dist / (df.scale**df.alpha)\n"
   ]
  },
  {
   "cell_type": "code",
   "execution_count": 196,
   "metadata": {},
   "outputs": [
    {
     "data": {
      "text/html": [
       "<div>\n",
       "<style scoped>\n",
       "    .dataframe tbody tr th:only-of-type {\n",
       "        vertical-align: middle;\n",
       "    }\n",
       "\n",
       "    .dataframe tbody tr th {\n",
       "        vertical-align: top;\n",
       "    }\n",
       "\n",
       "    .dataframe thead th {\n",
       "        text-align: right;\n",
       "    }\n",
       "</style>\n",
       "<table border=\"1\" class=\"dataframe\">\n",
       "  <thead>\n",
       "    <tr style=\"text-align: right;\">\n",
       "      <th></th>\n",
       "      <th>k</th>\n",
       "      <th>alpha</th>\n",
       "      <th>scale</th>\n",
       "      <th>dists</th>\n",
       "      <th>mean_dist</th>\n",
       "      <th>scaled_dist</th>\n",
       "    </tr>\n",
       "  </thead>\n",
       "  <tbody>\n",
       "    <tr>\n",
       "      <th>0</th>\n",
       "      <td>1</td>\n",
       "      <td>1.0</td>\n",
       "      <td>0.1</td>\n",
       "      <td>[0.1, 0.1, 0.1, 0.1, 0.1, 0.1, 0.1, 0.1, 0.1, ...</td>\n",
       "      <td>0.100000</td>\n",
       "      <td>1.000000</td>\n",
       "    </tr>\n",
       "    <tr>\n",
       "      <th>1</th>\n",
       "      <td>1</td>\n",
       "      <td>1.5</td>\n",
       "      <td>0.1</td>\n",
       "      <td>[0.02787101445310875, 0.029869087991085223, 0....</td>\n",
       "      <td>0.025368</td>\n",
       "      <td>0.802215</td>\n",
       "    </tr>\n",
       "    <tr>\n",
       "      <th>2</th>\n",
       "      <td>1</td>\n",
       "      <td>2.0</td>\n",
       "      <td>0.1</td>\n",
       "      <td>[0.00813108524390552, 0.009167940375176223, 0....</td>\n",
       "      <td>0.006705</td>\n",
       "      <td>0.670466</td>\n",
       "    </tr>\n",
       "    <tr>\n",
       "      <th>3</th>\n",
       "      <td>1</td>\n",
       "      <td>2.5</td>\n",
       "      <td>0.1</td>\n",
       "      <td>[0.0024119918267404296, 0.002830804114123916, ...</td>\n",
       "      <td>0.001823</td>\n",
       "      <td>0.576344</td>\n",
       "    </tr>\n",
       "    <tr>\n",
       "      <th>4</th>\n",
       "      <td>1</td>\n",
       "      <td>3.0</td>\n",
       "      <td>0.1</td>\n",
       "      <td>[0.0007196627865858282, 0.0008751910562764335,...</td>\n",
       "      <td>0.000506</td>\n",
       "      <td>0.505699</td>\n",
       "    </tr>\n",
       "  </tbody>\n",
       "</table>\n",
       "</div>"
      ],
      "text/plain": [
       "   k  alpha  scale                                              dists  \\\n",
       "0  1    1.0    0.1  [0.1, 0.1, 0.1, 0.1, 0.1, 0.1, 0.1, 0.1, 0.1, ...   \n",
       "1  1    1.5    0.1  [0.02787101445310875, 0.029869087991085223, 0....   \n",
       "2  1    2.0    0.1  [0.00813108524390552, 0.009167940375176223, 0....   \n",
       "3  1    2.5    0.1  [0.0024119918267404296, 0.002830804114123916, ...   \n",
       "4  1    3.0    0.1  [0.0007196627865858282, 0.0008751910562764335,...   \n",
       "\n",
       "   mean_dist  scaled_dist  \n",
       "0   0.100000     1.000000  \n",
       "1   0.025368     0.802215  \n",
       "2   0.006705     0.670466  \n",
       "3   0.001823     0.576344  \n",
       "4   0.000506     0.505699  "
      ]
     },
     "execution_count": 196,
     "metadata": {},
     "output_type": "execute_result"
    }
   ],
   "source": [
    "df.head()\n"
   ]
  },
  {
   "cell_type": "code",
   "execution_count": 197,
   "metadata": {},
   "outputs": [
    {
     "data": {
      "text/html": [
       "<div>\n",
       "<style scoped>\n",
       "    .dataframe tbody tr th:only-of-type {\n",
       "        vertical-align: middle;\n",
       "    }\n",
       "\n",
       "    .dataframe tbody tr th {\n",
       "        vertical-align: top;\n",
       "    }\n",
       "\n",
       "    .dataframe thead th {\n",
       "        text-align: right;\n",
       "    }\n",
       "</style>\n",
       "<table border=\"1\" class=\"dataframe\">\n",
       "  <thead>\n",
       "    <tr style=\"text-align: right;\">\n",
       "      <th>scale</th>\n",
       "      <th>0.1</th>\n",
       "      <th>0.5</th>\n",
       "      <th>1.0</th>\n",
       "      <th>2.0</th>\n",
       "      <th>10.0</th>\n",
       "    </tr>\n",
       "    <tr>\n",
       "      <th>alpha</th>\n",
       "      <th></th>\n",
       "      <th></th>\n",
       "      <th></th>\n",
       "      <th></th>\n",
       "      <th></th>\n",
       "    </tr>\n",
       "  </thead>\n",
       "  <tbody>\n",
       "    <tr>\n",
       "      <th>1.0</th>\n",
       "      <td>0.100</td>\n",
       "      <td>0.500</td>\n",
       "      <td>1.000</td>\n",
       "      <td>2.000</td>\n",
       "      <td>10.000</td>\n",
       "    </tr>\n",
       "    <tr>\n",
       "      <th>1.5</th>\n",
       "      <td>0.025</td>\n",
       "      <td>0.284</td>\n",
       "      <td>0.802</td>\n",
       "      <td>2.269</td>\n",
       "      <td>25.368</td>\n",
       "    </tr>\n",
       "    <tr>\n",
       "      <th>2.0</th>\n",
       "      <td>0.007</td>\n",
       "      <td>0.168</td>\n",
       "      <td>0.670</td>\n",
       "      <td>2.682</td>\n",
       "      <td>67.047</td>\n",
       "    </tr>\n",
       "    <tr>\n",
       "      <th>2.5</th>\n",
       "      <td>0.002</td>\n",
       "      <td>0.102</td>\n",
       "      <td>0.576</td>\n",
       "      <td>3.260</td>\n",
       "      <td>182.256</td>\n",
       "    </tr>\n",
       "    <tr>\n",
       "      <th>3.0</th>\n",
       "      <td>0.001</td>\n",
       "      <td>0.063</td>\n",
       "      <td>0.506</td>\n",
       "      <td>4.046</td>\n",
       "      <td>505.699</td>\n",
       "    </tr>\n",
       "    <tr>\n",
       "      <th>3.5</th>\n",
       "      <td>0.000</td>\n",
       "      <td>0.040</td>\n",
       "      <td>0.451</td>\n",
       "      <td>5.099</td>\n",
       "      <td>1425.204</td>\n",
       "    </tr>\n",
       "    <tr>\n",
       "      <th>4.0</th>\n",
       "      <td>0.000</td>\n",
       "      <td>0.025</td>\n",
       "      <td>0.407</td>\n",
       "      <td>6.506</td>\n",
       "      <td>4066.234</td>\n",
       "    </tr>\n",
       "  </tbody>\n",
       "</table>\n",
       "</div>"
      ],
      "text/plain": [
       "scale   0.1    0.5    1.0    2.0       10.0\n",
       "alpha                                      \n",
       "1.0    0.100  0.500  1.000  2.000    10.000\n",
       "1.5    0.025  0.284  0.802  2.269    25.368\n",
       "2.0    0.007  0.168  0.670  2.682    67.047\n",
       "2.5    0.002  0.102  0.576  3.260   182.256\n",
       "3.0    0.001  0.063  0.506  4.046   505.699\n",
       "3.5    0.000  0.040  0.451  5.099  1425.204\n",
       "4.0    0.000  0.025  0.407  6.506  4066.234"
      ]
     },
     "execution_count": 197,
     "metadata": {},
     "output_type": "execute_result"
    }
   ],
   "source": [
    "df[df.k == 1].pivot(\"alpha\", \"scale\", \"mean_dist\").round(3)\n"
   ]
  },
  {
   "cell_type": "code",
   "execution_count": 198,
   "metadata": {},
   "outputs": [
    {
     "data": {
      "text/html": [
       "<div>\n",
       "<style scoped>\n",
       "    .dataframe tbody tr th:only-of-type {\n",
       "        vertical-align: middle;\n",
       "    }\n",
       "\n",
       "    .dataframe tbody tr th {\n",
       "        vertical-align: top;\n",
       "    }\n",
       "\n",
       "    .dataframe thead th {\n",
       "        text-align: right;\n",
       "    }\n",
       "</style>\n",
       "<table border=\"1\" class=\"dataframe\">\n",
       "  <thead>\n",
       "    <tr style=\"text-align: right;\">\n",
       "      <th>scale</th>\n",
       "      <th>0.1</th>\n",
       "      <th>0.5</th>\n",
       "      <th>1.0</th>\n",
       "      <th>2.0</th>\n",
       "      <th>10.0</th>\n",
       "    </tr>\n",
       "    <tr>\n",
       "      <th>alpha</th>\n",
       "      <th></th>\n",
       "      <th></th>\n",
       "      <th></th>\n",
       "      <th></th>\n",
       "      <th></th>\n",
       "    </tr>\n",
       "  </thead>\n",
       "  <tbody>\n",
       "    <tr>\n",
       "      <th>1.0</th>\n",
       "      <td>1.000</td>\n",
       "      <td>1.000</td>\n",
       "      <td>1.000</td>\n",
       "      <td>1.000</td>\n",
       "      <td>1.000</td>\n",
       "    </tr>\n",
       "    <tr>\n",
       "      <th>1.5</th>\n",
       "      <td>0.802</td>\n",
       "      <td>0.802</td>\n",
       "      <td>0.802</td>\n",
       "      <td>0.802</td>\n",
       "      <td>0.802</td>\n",
       "    </tr>\n",
       "    <tr>\n",
       "      <th>2.0</th>\n",
       "      <td>0.670</td>\n",
       "      <td>0.670</td>\n",
       "      <td>0.670</td>\n",
       "      <td>0.670</td>\n",
       "      <td>0.670</td>\n",
       "    </tr>\n",
       "    <tr>\n",
       "      <th>2.5</th>\n",
       "      <td>0.576</td>\n",
       "      <td>0.576</td>\n",
       "      <td>0.576</td>\n",
       "      <td>0.576</td>\n",
       "      <td>0.576</td>\n",
       "    </tr>\n",
       "    <tr>\n",
       "      <th>3.0</th>\n",
       "      <td>0.506</td>\n",
       "      <td>0.506</td>\n",
       "      <td>0.506</td>\n",
       "      <td>0.506</td>\n",
       "      <td>0.506</td>\n",
       "    </tr>\n",
       "    <tr>\n",
       "      <th>3.5</th>\n",
       "      <td>0.451</td>\n",
       "      <td>0.451</td>\n",
       "      <td>0.451</td>\n",
       "      <td>0.451</td>\n",
       "      <td>0.451</td>\n",
       "    </tr>\n",
       "    <tr>\n",
       "      <th>4.0</th>\n",
       "      <td>0.407</td>\n",
       "      <td>0.407</td>\n",
       "      <td>0.407</td>\n",
       "      <td>0.407</td>\n",
       "      <td>0.407</td>\n",
       "    </tr>\n",
       "  </tbody>\n",
       "</table>\n",
       "</div>"
      ],
      "text/plain": [
       "scale   0.1    0.5    1.0    2.0    10.0\n",
       "alpha                                   \n",
       "1.0    1.000  1.000  1.000  1.000  1.000\n",
       "1.5    0.802  0.802  0.802  0.802  0.802\n",
       "2.0    0.670  0.670  0.670  0.670  0.670\n",
       "2.5    0.576  0.576  0.576  0.576  0.576\n",
       "3.0    0.506  0.506  0.506  0.506  0.506\n",
       "3.5    0.451  0.451  0.451  0.451  0.451\n",
       "4.0    0.407  0.407  0.407  0.407  0.407"
      ]
     },
     "execution_count": 198,
     "metadata": {},
     "output_type": "execute_result"
    }
   ],
   "source": [
    "df[df.k == 1].pivot(\"alpha\", \"scale\", \"scaled_dist\").round(3)\n"
   ]
  },
  {
   "cell_type": "markdown",
   "metadata": {},
   "source": [
    "Está claro que si $c$ es la constance de escale `scale`, las distancias de fermat escalan según $c^{-\\alpha}$. Ahora, cuánto cambian con el tamaño de muestra $k$? \n",
    "\n",
    "Para $k=1$, se puede calcular exactamente la esperanza de la longitud del camino. Si hay un único punto entre 0 y 1 elegido al azar según $X \\sim \\text{Unif}(0, 1)$, entonces la longitud del camino de Fermat cuando $alpha=2$ será $E\\left(X^2 + (1-X)^2\\right) = 2/3$, lo cual se ve en la tabla anterior. Para $k=1$ y otros valores de $\\alpha$, la expresión no será tan bella pero es computable sin mucha dificultad. Para otros valores de $k$, sin embargo, ya entran en juego la distribución de los estadísticos de orden y no me resulta para nada evidente una fórmula cerrada.\n",
    "\n",
    "Aproximémosla. Sean $X^{(0)} = 0, X^{(k+1)} = 1$ y $X^{(i)}, i=1,\\dots,k$ las v.a. que surgen de ordenar una muestra $X_i \\sim_{iid} \\text{Unif}(0, 1), \\ i\\in[k]$. Para todo $k$ se cumple que cada \"segmentito de recta\", $\\mathbb{E}\\left(X^{(i+1)}-X^{(i)}\\right) = 1 / (k + 1)$. Luego, esperaríamos que \n",
    "\n",
    "$$\n",
    "\\begin{align} dist_{\\alpha}^k(0, 1) &= \\mathbb{E}\\ \\left(\\sum_{i=0}^k \\left[X^{(i+1)}-X^{(i)} \\right]^{\\alpha}\\right) \\\\\n",
    " &=  \\sum_{i=0}^k\\ \\left( \\mathbb{E}\\left[X^{(i+1)}-X^{(i)} \\right]^{\\alpha}\\right) \\\\\n",
    " &\\approx (???) (k + 1) \\left(\\frac{1}{k+1}\\right)^{\\alpha}\n",
    "   \\end{align}\n",
    "\n",
    "$$\n",
    "\n",
    "Pero no vale que $E(X^k) = E(X)^k$! Qué se hace en su lugar? Hay que conocer la densidad de $X^{(i+1)}-X^{(i)}$ y calcularlo? Empíricamente, veamos como cambia la distancia con $k$."
   ]
  },
  {
   "cell_type": "code",
   "execution_count": 199,
   "metadata": {},
   "outputs": [
    {
     "data": {
      "text/html": [
       "<div>\n",
       "<style scoped>\n",
       "    .dataframe tbody tr th:only-of-type {\n",
       "        vertical-align: middle;\n",
       "    }\n",
       "\n",
       "    .dataframe tbody tr th {\n",
       "        vertical-align: top;\n",
       "    }\n",
       "\n",
       "    .dataframe thead th {\n",
       "        text-align: right;\n",
       "    }\n",
       "</style>\n",
       "<table border=\"1\" class=\"dataframe\">\n",
       "  <thead>\n",
       "    <tr style=\"text-align: right;\">\n",
       "      <th>k</th>\n",
       "      <th>1</th>\n",
       "      <th>2</th>\n",
       "      <th>5</th>\n",
       "      <th>10</th>\n",
       "    </tr>\n",
       "    <tr>\n",
       "      <th>alpha</th>\n",
       "      <th></th>\n",
       "      <th></th>\n",
       "      <th></th>\n",
       "      <th></th>\n",
       "    </tr>\n",
       "  </thead>\n",
       "  <tbody>\n",
       "    <tr>\n",
       "      <th>1.0</th>\n",
       "      <td>1.000000</td>\n",
       "      <td>1.000000</td>\n",
       "      <td>1.000000</td>\n",
       "      <td>1.000000</td>\n",
       "    </tr>\n",
       "    <tr>\n",
       "      <th>1.5</th>\n",
       "      <td>0.802215</td>\n",
       "      <td>0.682784</td>\n",
       "      <td>0.506249</td>\n",
       "      <td>0.388933</td>\n",
       "    </tr>\n",
       "    <tr>\n",
       "      <th>2.0</th>\n",
       "      <td>0.670466</td>\n",
       "      <td>0.495449</td>\n",
       "      <td>0.278925</td>\n",
       "      <td>0.167652</td>\n",
       "    </tr>\n",
       "    <tr>\n",
       "      <th>2.5</th>\n",
       "      <td>0.576344</td>\n",
       "      <td>0.375539</td>\n",
       "      <td>0.163886</td>\n",
       "      <td>0.078223</td>\n",
       "    </tr>\n",
       "    <tr>\n",
       "      <th>3.0</th>\n",
       "      <td>0.505699</td>\n",
       "      <td>0.294128</td>\n",
       "      <td>0.101321</td>\n",
       "      <td>0.038900</td>\n",
       "    </tr>\n",
       "    <tr>\n",
       "      <th>3.5</th>\n",
       "      <td>0.450689</td>\n",
       "      <td>0.236310</td>\n",
       "      <td>0.065282</td>\n",
       "      <td>0.020397</td>\n",
       "    </tr>\n",
       "    <tr>\n",
       "      <th>4.0</th>\n",
       "      <td>0.406623</td>\n",
       "      <td>0.193769</td>\n",
       "      <td>0.043518</td>\n",
       "      <td>0.011188</td>\n",
       "    </tr>\n",
       "  </tbody>\n",
       "</table>\n",
       "</div>"
      ],
      "text/plain": [
       "k            1         2         5         10\n",
       "alpha                                        \n",
       "1.0    1.000000  1.000000  1.000000  1.000000\n",
       "1.5    0.802215  0.682784  0.506249  0.388933\n",
       "2.0    0.670466  0.495449  0.278925  0.167652\n",
       "2.5    0.576344  0.375539  0.163886  0.078223\n",
       "3.0    0.505699  0.294128  0.101321  0.038900\n",
       "3.5    0.450689  0.236310  0.065282  0.020397\n",
       "4.0    0.406623  0.193769  0.043518  0.011188"
      ]
     },
     "execution_count": 199,
     "metadata": {},
     "output_type": "execute_result"
    }
   ],
   "source": [
    "df[df.scale == 1].pivot(\"alpha\", \"k\", \"scaled_dist\")\n"
   ]
  },
  {
   "cell_type": "code",
   "execution_count": 200,
   "metadata": {},
   "outputs": [
    {
     "data": {
      "text/html": [
       "<div>\n",
       "<style scoped>\n",
       "    .dataframe tbody tr th:only-of-type {\n",
       "        vertical-align: middle;\n",
       "    }\n",
       "\n",
       "    .dataframe tbody tr th {\n",
       "        vertical-align: top;\n",
       "    }\n",
       "\n",
       "    .dataframe thead th {\n",
       "        text-align: right;\n",
       "    }\n",
       "</style>\n",
       "<table border=\"1\" class=\"dataframe\">\n",
       "  <thead>\n",
       "    <tr style=\"text-align: right;\">\n",
       "      <th>k</th>\n",
       "      <th>1</th>\n",
       "      <th>2</th>\n",
       "      <th>5</th>\n",
       "      <th>10</th>\n",
       "    </tr>\n",
       "    <tr>\n",
       "      <th>alpha</th>\n",
       "      <th></th>\n",
       "      <th></th>\n",
       "      <th></th>\n",
       "      <th></th>\n",
       "    </tr>\n",
       "  </thead>\n",
       "  <tbody>\n",
       "    <tr>\n",
       "      <th>1.0</th>\n",
       "      <td>1.000000</td>\n",
       "      <td>1.000000</td>\n",
       "      <td>1.000000</td>\n",
       "      <td>1.000000</td>\n",
       "    </tr>\n",
       "    <tr>\n",
       "      <th>1.5</th>\n",
       "      <td>1.389477</td>\n",
       "      <td>1.365569</td>\n",
       "      <td>1.339410</td>\n",
       "      <td>1.347303</td>\n",
       "    </tr>\n",
       "    <tr>\n",
       "      <th>2.0</th>\n",
       "      <td>2.011397</td>\n",
       "      <td>1.981796</td>\n",
       "      <td>1.952474</td>\n",
       "      <td>2.011825</td>\n",
       "    </tr>\n",
       "    <tr>\n",
       "      <th>2.5</th>\n",
       "      <td>2.994773</td>\n",
       "      <td>3.004312</td>\n",
       "      <td>3.035216</td>\n",
       "      <td>3.251649</td>\n",
       "    </tr>\n",
       "    <tr>\n",
       "      <th>3.0</th>\n",
       "      <td>4.551288</td>\n",
       "      <td>4.706043</td>\n",
       "      <td>4.964748</td>\n",
       "      <td>5.601549</td>\n",
       "    </tr>\n",
       "    <tr>\n",
       "      <th>3.5</th>\n",
       "      <td>7.025549</td>\n",
       "      <td>7.561936</td>\n",
       "      <td>8.463233</td>\n",
       "      <td>10.174619</td>\n",
       "    </tr>\n",
       "    <tr>\n",
       "      <th>4.0</th>\n",
       "      <td>10.978832</td>\n",
       "      <td>12.401203</td>\n",
       "      <td>14.926826</td>\n",
       "      <td>19.332303</td>\n",
       "    </tr>\n",
       "  </tbody>\n",
       "</table>\n",
       "</div>"
      ],
      "text/plain": [
       "k             1          2          5          10\n",
       "alpha                                            \n",
       "1.0     1.000000   1.000000   1.000000   1.000000\n",
       "1.5     1.389477   1.365569   1.339410   1.347303\n",
       "2.0     2.011397   1.981796   1.952474   2.011825\n",
       "2.5     2.994773   3.004312   3.035216   3.251649\n",
       "3.0     4.551288   4.706043   4.964748   5.601549\n",
       "3.5     7.025549   7.561936   8.463233  10.174619\n",
       "4.0    10.978832  12.401203  14.926826  19.332303"
      ]
     },
     "execution_count": 200,
     "metadata": {},
     "output_type": "execute_result"
    }
   ],
   "source": [
    "df[\"k_scaled_dist\"] = df.scaled_dist * ((df.k + 2) ** (df.alpha - 1))\n",
    "df[df.scale == 1].assign().pivot(\"alpha\", \"k\", \"k_scaled_dist\")\n"
   ]
  },
  {
   "cell_type": "code",
   "execution_count": 201,
   "metadata": {},
   "outputs": [
    {
     "data": {
      "text/html": [
       "<div>\n",
       "<style scoped>\n",
       "    .dataframe tbody tr th:only-of-type {\n",
       "        vertical-align: middle;\n",
       "    }\n",
       "\n",
       "    .dataframe tbody tr th {\n",
       "        vertical-align: top;\n",
       "    }\n",
       "\n",
       "    .dataframe thead th {\n",
       "        text-align: right;\n",
       "    }\n",
       "</style>\n",
       "<table border=\"1\" class=\"dataframe\">\n",
       "  <thead>\n",
       "    <tr style=\"text-align: right;\">\n",
       "      <th></th>\n",
       "      <th>k</th>\n",
       "      <th>alpha</th>\n",
       "      <th>scale</th>\n",
       "      <th>dists</th>\n",
       "      <th>mean_dist</th>\n",
       "      <th>scaled_dist</th>\n",
       "      <th>k_scaled_dist</th>\n",
       "    </tr>\n",
       "  </thead>\n",
       "  <tbody>\n",
       "    <tr>\n",
       "      <th>0</th>\n",
       "      <td>1</td>\n",
       "      <td>1.0</td>\n",
       "      <td>0.1</td>\n",
       "      <td>[0.1, 0.1, 0.1, 0.1, 0.1, 0.1, 0.1, 0.1, 0.1, ...</td>\n",
       "      <td>0.100000</td>\n",
       "      <td>1.000000</td>\n",
       "      <td>1.000000</td>\n",
       "    </tr>\n",
       "    <tr>\n",
       "      <th>1</th>\n",
       "      <td>1</td>\n",
       "      <td>1.5</td>\n",
       "      <td>0.1</td>\n",
       "      <td>[0.02787101445310875, 0.029869087991085223, 0....</td>\n",
       "      <td>0.025368</td>\n",
       "      <td>0.802215</td>\n",
       "      <td>1.389477</td>\n",
       "    </tr>\n",
       "    <tr>\n",
       "      <th>2</th>\n",
       "      <td>1</td>\n",
       "      <td>2.0</td>\n",
       "      <td>0.1</td>\n",
       "      <td>[0.00813108524390552, 0.009167940375176223, 0....</td>\n",
       "      <td>0.006705</td>\n",
       "      <td>0.670466</td>\n",
       "      <td>2.011397</td>\n",
       "    </tr>\n",
       "    <tr>\n",
       "      <th>3</th>\n",
       "      <td>1</td>\n",
       "      <td>2.5</td>\n",
       "      <td>0.1</td>\n",
       "      <td>[0.0024119918267404296, 0.002830804114123916, ...</td>\n",
       "      <td>0.001823</td>\n",
       "      <td>0.576344</td>\n",
       "      <td>2.994773</td>\n",
       "    </tr>\n",
       "    <tr>\n",
       "      <th>4</th>\n",
       "      <td>1</td>\n",
       "      <td>3.0</td>\n",
       "      <td>0.1</td>\n",
       "      <td>[0.0007196627865858282, 0.0008751910562764335,...</td>\n",
       "      <td>0.000506</td>\n",
       "      <td>0.505699</td>\n",
       "      <td>4.551288</td>\n",
       "    </tr>\n",
       "    <tr>\n",
       "      <th>...</th>\n",
       "      <td>...</td>\n",
       "      <td>...</td>\n",
       "      <td>...</td>\n",
       "      <td>...</td>\n",
       "      <td>...</td>\n",
       "      <td>...</td>\n",
       "      <td>...</td>\n",
       "    </tr>\n",
       "    <tr>\n",
       "      <th>135</th>\n",
       "      <td>10</td>\n",
       "      <td>2.0</td>\n",
       "      <td>10.0</td>\n",
       "      <td>[11.992409614302325, 16.721204368885974, 17.73...</td>\n",
       "      <td>16.765204</td>\n",
       "      <td>0.167652</td>\n",
       "      <td>2.011825</td>\n",
       "    </tr>\n",
       "    <tr>\n",
       "      <th>136</th>\n",
       "      <td>10</td>\n",
       "      <td>2.5</td>\n",
       "      <td>10.0</td>\n",
       "      <td>[13.808867528806926, 25.870266547138367, 26.90...</td>\n",
       "      <td>24.736131</td>\n",
       "      <td>0.078223</td>\n",
       "      <td>3.251649</td>\n",
       "    </tr>\n",
       "    <tr>\n",
       "      <th>137</th>\n",
       "      <td>10</td>\n",
       "      <td>3.0</td>\n",
       "      <td>10.0</td>\n",
       "      <td>[16.235893617166735, 43.027516869766536, 42.69...</td>\n",
       "      <td>38.899649</td>\n",
       "      <td>0.038900</td>\n",
       "      <td>5.601549</td>\n",
       "    </tr>\n",
       "    <tr>\n",
       "      <th>138</th>\n",
       "      <td>10</td>\n",
       "      <td>3.5</td>\n",
       "      <td>10.0</td>\n",
       "      <td>[19.391765603293933, 74.70707038947346, 69.637...</td>\n",
       "      <td>64.500789</td>\n",
       "      <td>0.020397</td>\n",
       "      <td>10.174619</td>\n",
       "    </tr>\n",
       "    <tr>\n",
       "      <th>139</th>\n",
       "      <td>10</td>\n",
       "      <td>4.0</td>\n",
       "      <td>10.0</td>\n",
       "      <td>[23.44572966325475, 132.88206939709434, 115.59...</td>\n",
       "      <td>111.876756</td>\n",
       "      <td>0.011188</td>\n",
       "      <td>19.332303</td>\n",
       "    </tr>\n",
       "  </tbody>\n",
       "</table>\n",
       "<p>140 rows × 7 columns</p>\n",
       "</div>"
      ],
      "text/plain": [
       "      k  alpha  scale                                              dists  \\\n",
       "0     1    1.0    0.1  [0.1, 0.1, 0.1, 0.1, 0.1, 0.1, 0.1, 0.1, 0.1, ...   \n",
       "1     1    1.5    0.1  [0.02787101445310875, 0.029869087991085223, 0....   \n",
       "2     1    2.0    0.1  [0.00813108524390552, 0.009167940375176223, 0....   \n",
       "3     1    2.5    0.1  [0.0024119918267404296, 0.002830804114123916, ...   \n",
       "4     1    3.0    0.1  [0.0007196627865858282, 0.0008751910562764335,...   \n",
       "..   ..    ...    ...                                                ...   \n",
       "135  10    2.0   10.0  [11.992409614302325, 16.721204368885974, 17.73...   \n",
       "136  10    2.5   10.0  [13.808867528806926, 25.870266547138367, 26.90...   \n",
       "137  10    3.0   10.0  [16.235893617166735, 43.027516869766536, 42.69...   \n",
       "138  10    3.5   10.0  [19.391765603293933, 74.70707038947346, 69.637...   \n",
       "139  10    4.0   10.0  [23.44572966325475, 132.88206939709434, 115.59...   \n",
       "\n",
       "      mean_dist  scaled_dist  k_scaled_dist  \n",
       "0      0.100000     1.000000       1.000000  \n",
       "1      0.025368     0.802215       1.389477  \n",
       "2      0.006705     0.670466       2.011397  \n",
       "3      0.001823     0.576344       2.994773  \n",
       "4      0.000506     0.505699       4.551288  \n",
       "..          ...          ...            ...  \n",
       "135   16.765204     0.167652       2.011825  \n",
       "136   24.736131     0.078223       3.251649  \n",
       "137   38.899649     0.038900       5.601549  \n",
       "138   64.500789     0.020397      10.174619  \n",
       "139  111.876756     0.011188      19.332303  \n",
       "\n",
       "[140 rows x 7 columns]"
      ]
     },
     "execution_count": 201,
     "metadata": {},
     "output_type": "execute_result"
    }
   ],
   "source": [
    "df\n"
   ]
  },
  {
   "cell_type": "code",
   "execution_count": 202,
   "metadata": {},
   "outputs": [],
   "source": [
    "sample_size = 1000\n",
    "alphas = [1.5, 1.75, 2, 2.25, 3, 4, 5]\n",
    "ks = np.array([*range(1, 11), *rnd.choice(range(11, 2001), 50, replace=False)])\n",
    "\n",
    "results = []\n",
    "for k in ks:\n",
    "    A = rnd.rand(sample_size, k)\n",
    "    A.sort(axis=1)\n",
    "    A = np.column_stack([np.zeros_like(A[:, 0]), A, np.ones_like(A[:, 0])])\n",
    "    for alpha in alphas:\n",
    "        results.append(\n",
    "            dict(\n",
    "                k=k,\n",
    "                alpha=alpha,\n",
    "                dists=np.apply_along_axis(fermat_dist, axis=1, arr=A, alpha=alpha),\n",
    "            )\n",
    "        )\n",
    "\n",
    "df = pd.DataFrame(results)\n",
    "df[\"mean_dist\"] = df.dists.apply(np.mean)\n"
   ]
  },
  {
   "cell_type": "code",
   "execution_count": 203,
   "metadata": {},
   "outputs": [
    {
     "data": {
      "text/html": [
       "<div>\n",
       "<style scoped>\n",
       "    .dataframe tbody tr th:only-of-type {\n",
       "        vertical-align: middle;\n",
       "    }\n",
       "\n",
       "    .dataframe tbody tr th {\n",
       "        vertical-align: top;\n",
       "    }\n",
       "\n",
       "    .dataframe thead th {\n",
       "        text-align: right;\n",
       "    }\n",
       "</style>\n",
       "<table border=\"1\" class=\"dataframe\">\n",
       "  <thead>\n",
       "    <tr style=\"text-align: right;\">\n",
       "      <th>k</th>\n",
       "      <th>1</th>\n",
       "      <th>2</th>\n",
       "      <th>3</th>\n",
       "      <th>4</th>\n",
       "      <th>5</th>\n",
       "      <th>6</th>\n",
       "      <th>7</th>\n",
       "      <th>8</th>\n",
       "      <th>9</th>\n",
       "      <th>10</th>\n",
       "    </tr>\n",
       "    <tr>\n",
       "      <th>alpha</th>\n",
       "      <th></th>\n",
       "      <th></th>\n",
       "      <th></th>\n",
       "      <th></th>\n",
       "      <th></th>\n",
       "      <th></th>\n",
       "      <th></th>\n",
       "      <th></th>\n",
       "      <th></th>\n",
       "      <th></th>\n",
       "    </tr>\n",
       "  </thead>\n",
       "  <tbody>\n",
       "    <tr>\n",
       "      <th>1.50</th>\n",
       "      <td>0.799</td>\n",
       "      <td>0.690</td>\n",
       "      <td>0.612</td>\n",
       "      <td>0.554</td>\n",
       "      <td>0.513</td>\n",
       "      <td>0.478</td>\n",
       "      <td>0.451</td>\n",
       "      <td>0.427</td>\n",
       "      <td>0.405</td>\n",
       "      <td>0.388</td>\n",
       "    </tr>\n",
       "    <tr>\n",
       "      <th>1.75</th>\n",
       "      <td>0.725</td>\n",
       "      <td>0.587</td>\n",
       "      <td>0.492</td>\n",
       "      <td>0.426</td>\n",
       "      <td>0.381</td>\n",
       "      <td>0.343</td>\n",
       "      <td>0.314</td>\n",
       "      <td>0.290</td>\n",
       "      <td>0.268</td>\n",
       "      <td>0.251</td>\n",
       "    </tr>\n",
       "    <tr>\n",
       "      <th>2.00</th>\n",
       "      <td>0.664</td>\n",
       "      <td>0.506</td>\n",
       "      <td>0.403</td>\n",
       "      <td>0.333</td>\n",
       "      <td>0.288</td>\n",
       "      <td>0.251</td>\n",
       "      <td>0.223</td>\n",
       "      <td>0.201</td>\n",
       "      <td>0.182</td>\n",
       "      <td>0.167</td>\n",
       "    </tr>\n",
       "    <tr>\n",
       "      <th>2.25</th>\n",
       "      <td>0.613</td>\n",
       "      <td>0.441</td>\n",
       "      <td>0.333</td>\n",
       "      <td>0.264</td>\n",
       "      <td>0.221</td>\n",
       "      <td>0.187</td>\n",
       "      <td>0.162</td>\n",
       "      <td>0.143</td>\n",
       "      <td>0.125</td>\n",
       "      <td>0.113</td>\n",
       "    </tr>\n",
       "    <tr>\n",
       "      <th>3.00</th>\n",
       "      <td>0.497</td>\n",
       "      <td>0.307</td>\n",
       "      <td>0.202</td>\n",
       "      <td>0.142</td>\n",
       "      <td>0.109</td>\n",
       "      <td>0.084</td>\n",
       "      <td>0.067</td>\n",
       "      <td>0.056</td>\n",
       "      <td>0.045</td>\n",
       "      <td>0.038</td>\n",
       "    </tr>\n",
       "    <tr>\n",
       "      <th>4.00</th>\n",
       "      <td>0.396</td>\n",
       "      <td>0.207</td>\n",
       "      <td>0.116</td>\n",
       "      <td>0.070</td>\n",
       "      <td>0.049</td>\n",
       "      <td>0.034</td>\n",
       "      <td>0.024</td>\n",
       "      <td>0.019</td>\n",
       "      <td>0.014</td>\n",
       "      <td>0.011</td>\n",
       "    </tr>\n",
       "    <tr>\n",
       "      <th>5.00</th>\n",
       "      <td>0.329</td>\n",
       "      <td>0.149</td>\n",
       "      <td>0.073</td>\n",
       "      <td>0.038</td>\n",
       "      <td>0.024</td>\n",
       "      <td>0.016</td>\n",
       "      <td>0.010</td>\n",
       "      <td>0.007</td>\n",
       "      <td>0.005</td>\n",
       "      <td>0.004</td>\n",
       "    </tr>\n",
       "  </tbody>\n",
       "</table>\n",
       "</div>"
      ],
      "text/plain": [
       "k         1      2      3      4      5      6      7      8      9      10\n",
       "alpha                                                                      \n",
       "1.50   0.799  0.690  0.612  0.554  0.513  0.478  0.451  0.427  0.405  0.388\n",
       "1.75   0.725  0.587  0.492  0.426  0.381  0.343  0.314  0.290  0.268  0.251\n",
       "2.00   0.664  0.506  0.403  0.333  0.288  0.251  0.223  0.201  0.182  0.167\n",
       "2.25   0.613  0.441  0.333  0.264  0.221  0.187  0.162  0.143  0.125  0.113\n",
       "3.00   0.497  0.307  0.202  0.142  0.109  0.084  0.067  0.056  0.045  0.038\n",
       "4.00   0.396  0.207  0.116  0.070  0.049  0.034  0.024  0.019  0.014  0.011\n",
       "5.00   0.329  0.149  0.073  0.038  0.024  0.016  0.010  0.007  0.005  0.004"
      ]
     },
     "execution_count": 203,
     "metadata": {},
     "output_type": "execute_result"
    }
   ],
   "source": [
    "df[df.k < 50].pivot(\"alpha\", \"k\", \"mean_dist\").round(3)\n"
   ]
  },
  {
   "cell_type": "code",
   "execution_count": 204,
   "metadata": {},
   "outputs": [
    {
     "data": {
      "image/png": "[encoded data removed]",
      "text/plain": [
       "<Figure size 1152x504 with 1 Axes>"
      ]
     },
     "metadata": {
      "needs_background": "light"
     },
     "output_type": "display_data"
    }
   ],
   "source": [
    "plt.figure(figsize=(16, 7))\n",
    "sns.lineplot(x=\"k\", y=\"mean_dist\", hue=\"alpha\", data=df, marker=\"o\")\n",
    "plt.xscale(\"log\")\n",
    "plt.yscale(\"log\")\n",
    "plt.show()\n"
   ]
  },
  {
   "cell_type": "markdown",
   "metadata": {},
   "source": [
    "Para la elección del ancho de banda $h$ es necesario saber la escala de las distancias! Con qué se come esto???"
   ]
  },
  {
   "cell_type": "code",
   "execution_count": 205,
   "metadata": {},
   "outputs": [],
   "source": [
    "results = []\n",
    "for i in range(10000):\n",
    "    s = rnd.rand(100)\n",
    "    s.sort()\n",
    "    dists = (np.array([s[0], *(s[1:] - s[:-1]), 1 - s[-1]])) ** 2\n",
    "    results.append((dists.mean(), dists.std()))\n"
   ]
  },
  {
   "cell_type": "code",
   "execution_count": 206,
   "metadata": {},
   "outputs": [
    {
     "data": {
      "text/plain": [
       "2.0492802385881217"
      ]
     },
     "execution_count": 206,
     "metadata": {},
     "output_type": "execute_result"
    }
   ],
   "source": [
    "np.mean([std / mean for mean, std in results])\n"
   ]
  },
  {
   "cell_type": "markdown",
   "metadata": {},
   "source": [
    "## Implementación KDEClassifier"
   ]
  },
  {
   "cell_type": "code",
   "execution_count": 207,
   "metadata": {},
   "outputs": [],
   "source": [
    "from scipy.stats import norm\n",
    "from numpy.linalg import norm as euclidean_norm\n",
    "from scipy.spatial import distance_matrix\n"
   ]
  },
  {
   "cell_type": "code",
   "execution_count": 208,
   "metadata": {},
   "outputs": [
    {
     "data": {
      "text/plain": [
       "0.4335707383019715"
      ]
     },
     "execution_count": 208,
     "metadata": {},
     "output_type": "execute_result"
    }
   ],
   "source": [
    "import scipy\n",
    "\n",
    "scipy.spatial.distance.minkowski(A[0], A[2])\n"
   ]
  },
  {
   "cell_type": "code",
   "execution_count": 36,
   "metadata": {},
   "outputs": [
    {
     "data": {
      "text/plain": [
       "[[0, 0, 0, 0, 0, 0, 0],\n",
       " [0, 1, 2, 3, 4, 5, 6],\n",
       " [0, 2, 4, 6, 8, 10, 12],\n",
       " [0, 3, 6, 9, 12, 15, 18],\n",
       " [0, 4, 8, 12, 16, 20, 24]]"
      ]
     },
     "execution_count": 36,
     "metadata": {},
     "output_type": "execute_result"
    }
   ],
   "source": [
    "B = range(5)\n",
    "C = range(7)\n",
    "[[b * c for c in C] for b in B]\n"
   ]
  },
  {
   "cell_type": "code",
   "execution_count": 210,
   "metadata": {},
   "outputs": [
    {
     "data": {
      "text/plain": [
       "array([False, False,  True, False, False])"
      ]
     },
     "execution_count": 210,
     "metadata": {},
     "output_type": "execute_result"
    }
   ],
   "source": [
    "(A[:] == A[2]).all(1)[:5]\n"
   ]
  },
  {
   "cell_type": "code",
   "execution_count": 211,
   "metadata": {},
   "outputs": [
    {
     "data": {
      "text/plain": [
       "((1000, 99), array([0., 0., 0., 0., 0., 0., 0., 0., 0., 0.]))"
      ]
     },
     "execution_count": 211,
     "metadata": {},
     "output_type": "execute_result"
    }
   ],
   "source": [
    "A.shape, np.zeros(10)\n"
   ]
  },
  {
   "cell_type": "code",
   "execution_count": 212,
   "metadata": {},
   "outputs": [],
   "source": [
    "# WIP - ignore\n",
    "def euclidean_distance(x, y):\n",
    "    return euclidean_norm(x - y)\n",
    "\n",
    "\n",
    "class FermatDistance(Fermat):\n",
    "    def __init__(self, **kwargs):\n",
    "        super.__init__(**kwargs)\n",
    "\n",
    "    def _fit(self, X):\n",
    "        self.fit(X)\n",
    "        self.X_ = X\n",
    "        self.n_, self.d_ = X.shape\n",
    "        self.is_fitted_ = True\n",
    "        return self\n",
    "\n",
    "    def __call__(A, B):\n",
    "        if self.alpha == 1:\n",
    "            return distance_matrix(A, B)\n",
    "        else:\n",
    "            return [[self._get_distance(a, b) for a in A] for b in B]\n",
    "\n",
    "    def _get_distance(a, b):\n",
    "        if not self.is_fitted_:\n",
    "            self._fit()\n",
    "        if any((self.X_[:] == a).all(1)):  # `a` is a node from X_\n",
    "            to_X = np.zeros(self.n_)\n",
    "        else:\n",
    "            to_X = euclidean_distances(a.reshape(1, -1), verts)[0] ** self.alpha\n",
    "\n",
    "        if a_known := np.where((X[:] == 2 * X[2]).all(1)):\n",
    "            to_nodes = euclidean_distances(a.reshape(1, -1), verts)[0] ** alpha\n"
   ]
  },
  {
   "cell_type": "code",
   "execution_count": 213,
   "metadata": {},
   "outputs": [],
   "source": [
    "norm_pdf = scipy.stats.norm.pdf\n",
    "\n",
    "\n",
    "class EuclideanKDE:\n",
    "    def __init__(self, kernel=norm_pdf, bandwith=1):\n",
    "        self.kernel = kernel\n",
    "        self.bandwith = bandwith\n",
    "\n",
    "    def fit(self, X):\n",
    "        self.X_ = X\n",
    "        self.n_, self.dim_ = X.shape\n",
    "        return self\n",
    "\n",
    "    def density(self, X, log=True):\n",
    "        densities = (self.bandwith**-self.dim_) * self.kernel(\n",
    "            distance_matrix(X, self.X_) / self.bandwith\n",
    "        ).mean(axis=1)\n",
    "        return np.log(densities) if log else densities\n"
   ]
  },
  {
   "cell_type": "code",
   "execution_count": 73,
   "metadata": {},
   "outputs": [],
   "source": [
    "import numpy as np\n",
    "from sklearn.base import BaseEstimator, ClassifierMixin\n",
    "from sklearn.utils.validation import check_X_y  # , check_array, check_is_fitted\n",
    "from sklearn.utils.multiclass import unique_labels\n",
    "from scipy.special import softmax\n",
    "\n",
    "\n",
    "class EuclideanKDEClassifier(BaseEstimator, ClassifierMixin):\n",
    "    def __init__(self, kernel=norm_pdf, bandwith=1):\n",
    "        self.kernel = kernel\n",
    "        self.bandwith = bandwith\n",
    "\n",
    "    def fit(self, X, y):\n",
    "        # Check that X and y have correct shape\n",
    "        X, y = check_X_y(X, y)\n",
    "        # Store the classes seen during fit\n",
    "        self.classes_ = unique_labels(y)\n",
    "        self.X_ = X\n",
    "        self.y_ = y\n",
    "        self.densities_ = {\n",
    "            cls: EuclideanKDE(self.kernel, self.bandwith).fit(X[y == cls])\n",
    "            for cls in self.classes_\n",
    "        }\n",
    "        return self\n",
    "\n",
    "    def decision_function(self, X):\n",
    "        return np.column_stack(\n",
    "            [self.densities_[cls].density(X) for cls in self.classes_]\n",
    "        )\n",
    "\n",
    "    def predict(self, X):\n",
    "        D = self.decision_function(X)\n",
    "        return self.classes_[np.argmax(D, axis=1)]\n",
    "\n",
    "    def predict_proba(self, X, temp=1):\n",
    "        D = self.decision_function(X)\n",
    "        return softmax(D / temp, axis=1)\n"
   ]
  },
  {
   "cell_type": "code",
   "execution_count": 74,
   "metadata": {},
   "outputs": [],
   "source": [
    "class FermatKDE:\n",
    "    def __init__(self, kernel=norm_pdf, bandwith=1, alpha=2, path_method=\"FW\"):\n",
    "        self.kernel = kernel\n",
    "        self.bandwith = bandwith\n",
    "        self.alpha = alpha\n",
    "        self.path_method = path_method\n",
    "\n",
    "    def fit(self, X):\n",
    "        self.X_ = X\n",
    "        self.n_, self.dim_ = X.shape\n",
    "        self.fermat_ = Fermat(self.alpha, self.path_method).fit(distance_matrix(X, X))\n",
    "        self.distances_ = self.fermat_.get_distances()\n",
    "        return self\n",
    "\n",
    "    def density(self, X, log=True):\n",
    "        densities = (self.bandwith**-self.dim_) * self.kernel(\n",
    "            self.distances(X) / self.bandwith\n",
    "        ).mean(axis=1)\n",
    "        return np.log(densities) if log else densities\n",
    "\n",
    "    def distances(self, X):\n",
    "        distances_to_X = distance_matrix(X, self.X_) ** self.alpha\n",
    "        return np.vstack([(d + self.distances_).min(axis=1) for d in distances_to_X])\n"
   ]
  },
  {
   "cell_type": "code",
   "execution_count": 75,
   "metadata": {},
   "outputs": [],
   "source": [
    "from scipy.special import softmax\n",
    "\n",
    "\n",
    "class FermatKDEClassifier(BaseEstimator, ClassifierMixin):\n",
    "    def __init__(self, kernel=norm_pdf, bandwith=1, alpha=2, path_method=\"FW\"):\n",
    "        self.kernel = kernel\n",
    "        self.bandwith = bandwith\n",
    "        self.alpha = alpha\n",
    "        self.path_method = path_method\n",
    "\n",
    "    def fit(self, X, y):\n",
    "        # Check that X and y have correct shape\n",
    "        X, y = check_X_y(X, y)\n",
    "        # Store the classes seen during fit\n",
    "        self.classes_ = unique_labels(y)\n",
    "        self.X_ = X\n",
    "        self.y_ = y\n",
    "        self.densities_ = {\n",
    "            cls: FermatKDE(\n",
    "                self.kernel, self.bandwith, self.alpha, self.path_method\n",
    "            ).fit(X[y == cls])\n",
    "            for cls in self.classes_\n",
    "        }\n",
    "        return self\n",
    "\n",
    "    def decision_function(self, X):\n",
    "        return np.column_stack(\n",
    "            [self.densities_[cls].density(X) for cls in self.classes_]\n",
    "        )\n",
    "\n",
    "    def predict(self, X):\n",
    "        D = self.decision_function(X)\n",
    "        return self.classes_[np.argmax(D, axis=1)]\n",
    "\n",
    "    def predict_proba(self, X, temp=1):\n",
    "        D = self.decision_function(X)\n",
    "        return softmax(D / temp, axis=1)\n"
   ]
  },
  {
   "cell_type": "code",
   "execution_count": 76,
   "metadata": {},
   "outputs": [
    {
     "data": {
      "text/plain": [
       "array([[0., 2., 4.],\n",
       "       [2., 0., 2.],\n",
       "       [4., 2., 0.]])"
      ]
     },
     "execution_count": 76,
     "metadata": {},
     "output_type": "execute_result"
    }
   ],
   "source": [
    "A = np.array([[i] * 2 for i in range(3)])\n",
    "Fermat(2, \"FW\").fit(distance_matrix(A, A)).get_distances()\n"
   ]
  },
  {
   "cell_type": "code",
   "execution_count": 77,
   "metadata": {},
   "outputs": [
    {
     "data": {
      "text/plain": [
       "array([[-1,  0],\n",
       "       [ 1,  0]])"
      ]
     },
     "execution_count": 77,
     "metadata": {},
     "output_type": "execute_result"
    }
   ],
   "source": [
    "B = np.vstack([[-1, 0], [1, 0]])\n",
    "B\n"
   ]
  },
  {
   "cell_type": "code",
   "execution_count": 78,
   "metadata": {},
   "outputs": [],
   "source": [
    "C = np.vstack([A, B])\n"
   ]
  },
  {
   "cell_type": "code",
   "execution_count": 79,
   "metadata": {},
   "outputs": [],
   "source": [
    "full = Fermat(2, \"FW\").fit(distance_matrix(C, C))\n",
    "full_dists = full.get_distances()\n"
   ]
  },
  {
   "cell_type": "code",
   "execution_count": 80,
   "metadata": {},
   "outputs": [],
   "source": [
    "n_train = 120\n",
    "train = FermatKDE(2, \"FW\").fit(A)\n",
    "test_dists = train.distances(B)\n"
   ]
  },
  {
   "cell_type": "code",
   "execution_count": 81,
   "metadata": {},
   "outputs": [
    {
     "data": {
      "text/plain": [
       "(array([[0., 2., 4., 1., 1.],\n",
       "        [2., 0., 2., 3., 1.],\n",
       "        [4., 2., 0., 5., 3.],\n",
       "        [1., 3., 5., 0., 2.],\n",
       "        [1., 1., 3., 2., 0.]]),\n",
       " array([[1., 3., 5.],\n",
       "        [1., 1., 3.]]))"
      ]
     },
     "execution_count": 81,
     "metadata": {},
     "output_type": "execute_result"
    }
   ],
   "source": [
    "full_dists, test_dists\n"
   ]
  },
  {
   "cell_type": "code",
   "execution_count": 82,
   "metadata": {},
   "outputs": [],
   "source": [
    "full = Fermat(2, \"FW\").fit(distance_matrix(X, X))\n",
    "full_dists = full.get_distances()\n"
   ]
  },
  {
   "cell_type": "code",
   "execution_count": 83,
   "metadata": {},
   "outputs": [],
   "source": [
    "n_train = 120\n",
    "train = FermatKDE(2, \"FW\").fit(X[:n_train])\n",
    "test_dists = train.distances(X[n_train:])\n"
   ]
  },
  {
   "cell_type": "code",
   "execution_count": 84,
   "metadata": {},
   "outputs": [
    {
     "data": {
      "text/plain": [
       "(array([22]), array([101]))"
      ]
     },
     "execution_count": 84,
     "metadata": {},
     "output_type": "execute_result"
    }
   ],
   "source": [
    "np.where(full_dists[n_train:, :n_train] > test_dists + 0.001)\n"
   ]
  },
  {
   "cell_type": "code",
   "execution_count": 85,
   "metadata": {},
   "outputs": [
    {
     "data": {
      "text/plain": [
       "(0.1399999999999999, 0.0)"
      ]
     },
     "execution_count": 85,
     "metadata": {},
     "output_type": "execute_result"
    }
   ],
   "source": [
    "full_dists[n_train:, :n_train][22, 101], test_dists[22, 101]\n"
   ]
  },
  {
   "cell_type": "code",
   "execution_count": 86,
   "metadata": {},
   "outputs": [
    {
     "data": {
      "text/plain": [
       "count    3.600000e+03\n",
       "mean    -7.726667e-02\n",
       "std      7.876425e-02\n",
       "min     -4.600000e-01\n",
       "25%     -1.200000e-01\n",
       "50%     -6.000000e-02\n",
       "75%     -4.440892e-16\n",
       "max      1.400000e-01\n",
       "dtype: float64"
      ]
     },
     "execution_count": 86,
     "metadata": {},
     "output_type": "execute_result"
    }
   ],
   "source": [
    "pd.Series((full_dists[n_train:, :n_train] - test_dists).flatten()).describe()\n"
   ]
  },
  {
   "cell_type": "code",
   "execution_count": 87,
   "metadata": {},
   "outputs": [],
   "source": [
    "# Fermat distnaces between train obss, with X=train osbs, must be >= than\n",
    "#   Fermat distances bw train obss, with X=(train obss + test obss)\n",
    "assert (train.distances_ >= full_dists[:n_train, :n_train]).all()\n"
   ]
  },
  {
   "cell_type": "markdown",
   "metadata": {},
   "source": [
    "```python\n",
    "preds = []\n",
    "fhats = []\n",
    "for x in X_test:\n",
    "    fhat = {}\n",
    "    for cls in classes.keys():\n",
    "        klass = classes[cls]\n",
    "        verts, dists = klass[\"verts\"], klass[\"dists\"]\n",
    "        n = verts.shape[0]\n",
    "        to_verts = euclidean_distances(x.reshape(1, -1), verts)[0] ** alpha\n",
    "        fmt_dists = [min(to_verts + dists[:, i]) for i in range(n)]\n",
    "        # print(cls, np.mean(fmt_dists))\n",
    "        fhat[cls] = (1 / h**D) * np.mean([kern(d / h) for d in fmt_dists])\n",
    "    fhats.append(fhat)\n",
    "    preds.append(pd.Series(fhat).argmax())\n",
    "```"
   ]
  },
  {
   "cell_type": "code",
   "execution_count": 88,
   "metadata": {},
   "outputs": [],
   "source": [
    "from sklearn.metrics import accuracy_score\n",
    "from sklearn.datasets import load_digits\n",
    "from sklearn.ensemble import RandomForestClassifier\n"
   ]
  },
  {
   "cell_type": "code",
   "execution_count": 98,
   "metadata": {},
   "outputs": [
    {
     "data": {
      "text/plain": [
       "0"
      ]
     },
     "execution_count": 98,
     "metadata": {},
     "output_type": "execute_result"
    },
    {
     "data": {
      "image/png": "[encoded data removed]",
      "text/plain": [
       "<Figure size 432x288 with 1 Axes>"
      ]
     },
     "metadata": {
      "needs_background": "light"
     },
     "output_type": "display_data"
    }
   ],
   "source": [
    "plt.imshow(X[10].reshape(8, 8), cmap=\"gray\")\n",
    "y[10]"
   ]
  },
  {
   "cell_type": "code",
   "execution_count": 110,
   "metadata": {},
   "outputs": [],
   "source": [
    "X, y = load_digits(return_X_y=True)\n",
    "X_train, X_test, y_train, y_test = train_test_split(X, y, stratify=y, test_size=0.80)\n",
    "eucclf = EuclideanKDEClassifier(bandwith=1).fit(X_train, y_train)\n",
    "fmtclf = FermatKDEClassifier(alpha=2, bandwith=200).fit(X_train, y_train)\n",
    "rfclf = RandomForestClassifier().fit(X_train, y_train)\n",
    "rfclf2 = RandomForestClassifier().fit(\n",
    "    np.concatenate([X_train, fmtclf.decision_function(X_train)], axis=1), y_train\n",
    ")\n"
   ]
  },
  {
   "cell_type": "code",
   "execution_count": 111,
   "metadata": {},
   "outputs": [
    {
     "name": "stderr",
     "output_type": "stream",
     "text": [
      "/tmp/ipykernel_72081/903982619.py:18: RuntimeWarning: divide by zero encountered in log\n",
      "  return np.log(densities) if log else densities\n"
     ]
    },
    {
     "name": "stdout",
     "output_type": "stream",
     "text": [
      "EuclideanKDEClassifier() :  0.9575799721835884\n",
      "FermatKDEClassifier(bandwith=200) :  0.96105702364395\n",
      "RandomForestClassifier() :  0.9360222531293463\n",
      "RandomForestClassifier()  - enhanced:  0.9443671766342142\n"
     ]
    }
   ],
   "source": [
    "for clf in [eucclf, fmtclf, rfclf]:\n",
    "    print(repr(clf), \": \", accuracy_score(clf.predict(X_test), y_test))\n",
    "print(\n",
    "    repr(rfclf2),\n",
    "    \" - enhanced: \",\n",
    "    accuracy_score(\n",
    "        rfclf2.predict(\n",
    "            np.concatenate([X_test, fmtclf.decision_function(X_test)], axis=1)\n",
    "        ),\n",
    "        y_test,\n",
    "    ),\n",
    ")\n"
   ]
  },
  {
   "cell_type": "code",
   "execution_count": 112,
   "metadata": {},
   "outputs": [
    {
     "name": "stderr",
     "output_type": "stream",
     "text": [
      "/tmp/ipykernel_72081/903982619.py:18: RuntimeWarning: divide by zero encountered in log\n",
      "  return np.log(densities) if log else densities\n"
     ]
    },
    {
     "data": {
      "text/plain": [
       "(0.9575799721835884, 0.96105702364395)"
      ]
     },
     "execution_count": 112,
     "metadata": {},
     "output_type": "execute_result"
    }
   ],
   "source": [
    "accuracy_score(eucclf.predict(X_test), y_test), accuracy_score(\n",
    "    fmtclf.predict(X_test), y_test\n",
    ")\n"
   ]
  },
  {
   "cell_type": "code",
   "execution_count": 124,
   "metadata": {},
   "outputs": [],
   "source": [
    "X_digits, y_digits = load_digits(return_X_y=True)\n",
    "n, d = X_digits.shape"
   ]
  },
  {
   "cell_type": "code",
   "execution_count": 132,
   "metadata": {},
   "outputs": [],
   "source": [
    "fmt = Fermat(alpha=2, path_method=\"FW\")\n",
    "euc_dists = distance_matrix(X_digits, X_digits)\n",
    "fmt.fit(euc_dists / (d))\n",
    "fmt_dists = fmt.get_distances()"
   ]
  },
  {
   "cell_type": "code",
   "execution_count": 136,
   "metadata": {},
   "outputs": [
    {
     "data": {
      "text/plain": [
       "array([[0.        , 0.93057337, 0.84577304, 0.74329687, 0.78654456],\n",
       "       [0.93057337, 0.        , 0.65045807, 0.71055106, 0.74853372],\n",
       "       [0.84577304, 0.65045807, 0.        , 0.84302631, 0.81400102],\n",
       "       [0.74329687, 0.71055106, 0.84302631, 0.        , 0.800238  ],\n",
       "       [0.78654456, 0.74853372, 0.81400102, 0.800238  , 0.        ]])"
      ]
     },
     "execution_count": 136,
     "metadata": {},
     "output_type": "execute_result"
    }
   ],
   "source": [
    "euc_dists[:5, :5] / d"
   ]
  },
  {
   "cell_type": "code",
   "execution_count": 137,
   "metadata": {},
   "outputs": [
    {
     "data": {
      "text/plain": [
       "array([[0.        , 0.70874023, 0.62011719, 0.50756836, 0.54199219],\n",
       "       [0.70874023, 0.        , 0.37231445, 0.50439453, 0.51391602],\n",
       "       [0.62011719, 0.37231445, 0.        , 0.64379883, 0.64746094],\n",
       "       [0.50756836, 0.50439453, 0.64379883, 0.        , 0.64038086],\n",
       "       [0.54199219, 0.51391602, 0.64746094, 0.64038086, 0.        ]])"
      ]
     },
     "execution_count": 137,
     "metadata": {},
     "output_type": "execute_result"
    }
   ],
   "source": [
    "fmt_dists[:5, :5]"
   ]
  },
  {
   "cell_type": "code",
   "execution_count": 234,
   "metadata": {},
   "outputs": [
    {
     "data": {
      "text/plain": [
       "[(179, 64), (1618, 64), (179,), (1618,)]"
      ]
     },
     "execution_count": 234,
     "metadata": {},
     "output_type": "execute_result"
    }
   ],
   "source": [
    "[x.shape for x in [X_train, X_test, y_train, y_test]]\n"
   ]
  },
  {
   "cell_type": "code",
   "execution_count": 240,
   "metadata": {},
   "outputs": [
    {
     "data": {
      "text/plain": [
       "array([[0.  , 0.  , 0.  , 0.  , 0.  , 1.  , 0.  , 0.  , 0.  , 0.  ],\n",
       "       [0.  , 0.  , 0.  , 0.  , 0.  , 0.  , 1.  , 0.  , 0.  , 0.  ],\n",
       "       [0.  , 0.92, 0.  , 0.  , 0.  , 0.08, 0.  , 0.  , 0.  , 0.  ],\n",
       "       [0.  , 0.  , 0.  , 0.  , 0.  , 0.  , 0.  , 0.  , 1.  , 0.  ],\n",
       "       [0.  , 0.  , 0.  , 0.  , 0.  , 0.  , 0.  , 0.  , 0.64, 0.36]])"
      ]
     },
     "execution_count": 240,
     "metadata": {},
     "output_type": "execute_result"
    }
   ],
   "source": [
    "from scipy.special import softmax as sp_softmax\n",
    "D = fmtclf.decision_function(X_test)\n",
    "sp_softmax(D, axis=1).round(2)[:5]\n"
   ]
  },
  {
   "cell_type": "code",
   "execution_count": 241,
   "metadata": {},
   "outputs": [
    {
     "ename": "NameError",
     "evalue": "name 'preds' is not defined",
     "output_type": "error",
     "traceback": [
      "\u001b[0;31m---------------------------------------------------------------------------\u001b[0m",
      "\u001b[0;31mNameError\u001b[0m                                 Traceback (most recent call last)",
      "\u001b[1;32m/home/gonzalo/maestria/fermat/notebooks/04. Chequeo de Sanidad: EuclideanKDE y KernelDensity.ipynb Cell 126'\u001b[0m in \u001b[0;36m<cell line: 1>\u001b[0;34m()\u001b[0m\n\u001b[0;32m----> <a href='vscode-notebook-cell:/home/gonzalo/maestria/fermat/notebooks/04.%20Chequeo%20de%20Sanidad%3A%20EuclideanKDE%20y%20KernelDensity.ipynb#ch0000127?line=0'>1</a>\u001b[0m (np\u001b[39m.\u001b[39margmax(preds, axis\u001b[39m=\u001b[39m\u001b[39m1\u001b[39m) \u001b[39m==\u001b[39m y_test)\u001b[39m.\u001b[39mmean()\n",
      "\u001b[0;31mNameError\u001b[0m: name 'preds' is not defined"
     ]
    }
   ],
   "source": [
    "(np.argmax(preds, axis=1) == y_test).mean()\n"
   ]
  },
  {
   "cell_type": "code",
   "execution_count": null,
   "metadata": {},
   "outputs": [],
   "source": [
    "X, y = load_iris(return_X_y=True)\n",
    "N = len(X)  # # observaciones\n",
    "K = len(set(y))  # # clases\n"
   ]
  },
  {
   "cell_type": "code",
   "execution_count": null,
   "metadata": {},
   "outputs": [],
   "source": [
    "kde = KDEstimator()\n"
   ]
  },
  {
   "cell_type": "code",
   "execution_count": null,
   "metadata": {},
   "outputs": [],
   "source": [
    "kde.fit(X[y == 0])\n"
   ]
  },
  {
   "cell_type": "code",
   "execution_count": null,
   "metadata": {},
   "outputs": [
    {
     "data": {
      "text/plain": [
       "0.00011495190242781194"
      ]
     },
     "execution_count": 550,
     "metadata": {},
     "output_type": "execute_result"
    }
   ],
   "source": [
    "kde.predict(X[-1])\n"
   ]
  },
  {
   "cell_type": "code",
   "execution_count": null,
   "metadata": {},
   "outputs": [
    {
     "data": {
      "text/plain": [
       "0"
      ]
     },
     "execution_count": 552,
     "metadata": {},
     "output_type": "execute_result"
    }
   ],
   "source": [
    "y[0]\n"
   ]
  },
  {
   "cell_type": "markdown",
   "metadata": {},
   "source": [
    "## TemplateClassifier"
   ]
  },
  {
   "cell_type": "code",
   "execution_count": 277,
   "metadata": {},
   "outputs": [],
   "source": [
    "import numpy as np\n",
    "from sklearn.base import BaseEstimator, ClassifierMixin\n",
    "from sklearn.utils.validation import check_X_y, check_array, check_is_fitted\n",
    "from sklearn.utils.multiclass import unique_labels\n",
    "from sklearn.metrics import euclidean_distances\n",
    "\n",
    "\n",
    "class TemplateClassifier(BaseEstimator, ClassifierMixin):\n",
    "    def __init__(self, demo_param=\"demo\"):\n",
    "        self.demo_param = demo_param\n",
    "\n",
    "    def fit(self, X, y):\n",
    "\n",
    "        # Check that X and y have correct shape\n",
    "        X, y = check_X_y(X, y)\n",
    "        # Store the classes seen during fit\n",
    "        self.classes_ = unique_labels(y)\n",
    "\n",
    "        self.X_ = X\n",
    "        self.y_ = y\n",
    "        # Return the classifier\n",
    "        return self\n",
    "\n",
    "    def predict(self, X):\n",
    "\n",
    "        # Check if fit has been called\n",
    "        check_is_fitted(self)\n",
    "\n",
    "        # Input validation\n",
    "        X = check_array(X)\n",
    "\n",
    "        closest = np.argmin(euclidean_distances(X, self.X_), axis=1)\n",
    "        return self.y_[closest]\n"
   ]
  },
  {
   "cell_type": "code",
   "execution_count": null,
   "metadata": {},
   "outputs": [],
   "source": [
    "unique_labels()\n"
   ]
  },
  {
   "cell_type": "markdown",
   "metadata": {},
   "source": []
  },
  {
   "cell_type": "code",
   "execution_count": 1,
   "metadata": {},
   "outputs": [
    {
     "ename": "NameError",
     "evalue": "name 'np' is not defined",
     "output_type": "error",
     "traceback": [
      "\u001b[0;31m---------------------------------------------------------------------------\u001b[0m",
      "\u001b[0;31mNameError\u001b[0m                                 Traceback (most recent call last)",
      "\u001b[1;32m/home/gonzalo/maestria/fermat/notebooks/04. Chequeo de Sanidad: EuclideanKDE y KernelDensity.ipynb Cell 138'\u001b[0m in \u001b[0;36m<cell line: 1>\u001b[0;34m()\u001b[0m\n\u001b[0;32m----> <a href='vscode-notebook-cell:/home/gonzalo/maestria/fermat/notebooks/04.%20Chequeo%20de%20Sanidad%3A%20EuclideanKDE%20y%20KernelDensity.ipynb#ch0000138?line=0'>1</a>\u001b[0m np\u001b[39m.\u001b[39mrandom\u001b[39m.\u001b[39mrandom()\n",
      "\u001b[0;31mNameError\u001b[0m: name 'np' is not defined"
     ]
    }
   ],
   "source": [
    "np.random.random()"
   ]
  },
  {
   "cell_type": "code",
   "execution_count": 188,
   "metadata": {},
   "outputs": [],
   "source": [
    "import math\n",
    "PI = math.pi\n",
    "center = (0, 0)\n",
    "inner_radius, outer_radius = 1, 1.5\n",
    "sigma = 0.25\n",
    "n_class = 500\n",
    "n = n_class * 2\n",
    "angles = np.random.rand(n) * 2 * PI"
   ]
  },
  {
   "cell_type": "code",
   "execution_count": 189,
   "metadata": {},
   "outputs": [],
   "source": [
    "y = np.concatenate([np.zeros(n_class), np.ones(n_class)]).astype(int)\n",
    "np.random.shuffle(y)\n",
    "radii = np.where(y, outer_radius, inner_radius) + np.random.normal(scale=sigma, size=n)\n",
    "X = np.array(\n",
    "    [\n",
    "        [radius * np.cos(angle), radius * np.sin(angle), 0, 0]\n",
    "        for radius, angle in zip(radii, angles)\n",
    "    ]\n",
    ")\n"
   ]
  },
  {
   "cell_type": "code",
   "execution_count": 190,
   "metadata": {},
   "outputs": [
    {
     "data": {
      "text/plain": [
       "<AxesSubplot:>"
      ]
     },
     "execution_count": 190,
     "metadata": {},
     "output_type": "execute_result"
    },
    {
     "data": {
      "image/png": "[encoded data removed]",
      "text/plain": [
       "<Figure size 504x504 with 1 Axes>"
      ]
     },
     "metadata": {
      "needs_background": "light"
     },
     "output_type": "display_data"
    }
   ],
   "source": [
    "import seaborn as sns\n",
    "plt.figure(figsize=(7,7))\n",
    "sns.scatterplot(x=X[:, 0], y=X[:, 1], hue=y)"
   ]
  },
  {
   "cell_type": "code",
   "execution_count": 191,
   "metadata": {},
   "outputs": [],
   "source": [
    "X_train, X_test, y_train, y_test = train_test_split(X, y, test_size=0.5)\n"
   ]
  },
  {
   "cell_type": "code",
   "execution_count": 192,
   "metadata": {},
   "outputs": [
    {
     "data": {
      "text/plain": [
       "0.836"
      ]
     },
     "execution_count": 192,
     "metadata": {},
     "output_type": "execute_result"
    }
   ],
   "source": [
    "rfclf = RandomForestClassifier().fit(X_train, y_train)\n",
    "accuracy_score(rfclf.predict(X_test), y_test)"
   ]
  },
  {
   "cell_type": "code",
   "execution_count": 193,
   "metadata": {},
   "outputs": [
    {
     "data": {
      "text/plain": [
       "0.852"
      ]
     },
     "execution_count": 193,
     "metadata": {},
     "output_type": "execute_result"
    }
   ],
   "source": [
    "eucclf = EuclideanKDEClassifier(bandwith=0.3).fit(X_train, y_train)\n",
    "accuracy_score(eucclf.predict(X_test), y_test)"
   ]
  },
  {
   "cell_type": "code",
   "execution_count": 194,
   "metadata": {},
   "outputs": [
    {
     "data": {
      "text/plain": [
       "0.852"
      ]
     },
     "execution_count": 194,
     "metadata": {},
     "output_type": "execute_result"
    }
   ],
   "source": [
    "fmtclf = FermatKDEClassifier(bandwith=0.2, alpha=1.2).fit(X_train, y_train)\n",
    "accuracy_score(fmtclf.predict(X_test), y_test)"
   ]
  },
  {
   "cell_type": "code",
   "execution_count": 356,
   "metadata": {},
   "outputs": [
    {
     "data": {
      "text/plain": [
       "array([ 0.01      ,  0.0143845 ,  0.02069138,  0.02976351,  0.04281332,\n",
       "        0.06158482,  0.08858668,  0.1274275 ,  0.18329807,  0.26366509,\n",
       "        0.37926902,  0.54555948,  0.78475997,  1.12883789,  1.62377674,\n",
       "        2.33572147,  3.35981829,  4.83293024,  6.95192796, 10.        ])"
      ]
     },
     "execution_count": 356,
     "metadata": {},
     "output_type": "execute_result"
    }
   ],
   "source": [
    "np.logspace(-2, 1, 20)"
   ]
  },
  {
   "cell_type": "code",
   "execution_count": 195,
   "metadata": {},
   "outputs": [],
   "source": [
    "grid = dict(bandwith=np.logspace(-2, 1, 30))"
   ]
  },
  {
   "cell_type": "code",
   "execution_count": 196,
   "metadata": {},
   "outputs": [],
   "source": [
    "from sklearn.model_selection import GridSearchCV"
   ]
  },
  {
   "cell_type": "code",
   "execution_count": 197,
   "metadata": {},
   "outputs": [
    {
     "name": "stderr",
     "output_type": "stream",
     "text": [
      "/tmp/ipykernel_72081/903982619.py:18: RuntimeWarning: divide by zero encountered in log\n",
      "  return np.log(densities) if log else densities\n",
      "/tmp/ipykernel_72081/903982619.py:18: RuntimeWarning: divide by zero encountered in log\n",
      "  return np.log(densities) if log else densities\n",
      "/tmp/ipykernel_72081/903982619.py:18: RuntimeWarning: divide by zero encountered in log\n",
      "  return np.log(densities) if log else densities\n",
      "/tmp/ipykernel_72081/903982619.py:18: RuntimeWarning: divide by zero encountered in log\n",
      "  return np.log(densities) if log else densities\n",
      "/tmp/ipykernel_72081/903982619.py:18: RuntimeWarning: divide by zero encountered in log\n",
      "  return np.log(densities) if log else densities\n",
      "/tmp/ipykernel_72081/903982619.py:18: RuntimeWarning: divide by zero encountered in log\n",
      "  return np.log(densities) if log else densities\n",
      "/tmp/ipykernel_72081/903982619.py:18: RuntimeWarning: divide by zero encountered in log\n",
      "  return np.log(densities) if log else densities\n",
      "/tmp/ipykernel_72081/903982619.py:18: RuntimeWarning: divide by zero encountered in log\n",
      "  return np.log(densities) if log else densities\n",
      "/tmp/ipykernel_72081/903982619.py:18: RuntimeWarning: divide by zero encountered in log\n",
      "  return np.log(densities) if log else densities\n",
      "/tmp/ipykernel_72081/903982619.py:18: RuntimeWarning: divide by zero encountered in log\n",
      "  return np.log(densities) if log else densities\n",
      "/tmp/ipykernel_72081/903982619.py:18: RuntimeWarning: divide by zero encountered in log\n",
      "  return np.log(densities) if log else densities\n",
      "/tmp/ipykernel_72081/903982619.py:18: RuntimeWarning: divide by zero encountered in log\n",
      "  return np.log(densities) if log else densities\n",
      "/tmp/ipykernel_72081/903982619.py:18: RuntimeWarning: divide by zero encountered in log\n",
      "  return np.log(densities) if log else densities\n",
      "/tmp/ipykernel_72081/903982619.py:18: RuntimeWarning: divide by zero encountered in log\n",
      "  return np.log(densities) if log else densities\n",
      "/tmp/ipykernel_72081/903982619.py:18: RuntimeWarning: divide by zero encountered in log\n",
      "  return np.log(densities) if log else densities\n"
     ]
    }
   ],
   "source": [
    "eucclf = GridSearchCV(EuclideanKDEClassifier(), grid).fit(X_train, y_train)"
   ]
  },
  {
   "cell_type": "code",
   "execution_count": 198,
   "metadata": {},
   "outputs": [
    {
     "data": {
      "text/plain": [
       "0.856"
      ]
     },
     "execution_count": 198,
     "metadata": {},
     "output_type": "execute_result"
    }
   ],
   "source": [
    "accuracy_score(eucclf.predict(X_test), y_test)"
   ]
  },
  {
   "cell_type": "code",
   "execution_count": 199,
   "metadata": {},
   "outputs": [
    {
     "data": {
      "text/plain": [
       "EuclideanKDEClassifier(bandwith=0.3562247890262442,\n",
       "                       kernel=<bound method rv_continuous.pdf of <scipy.stats._continuous_distns.norm_gen object at 0x7f4148c73df0>>)"
      ]
     },
     "execution_count": 199,
     "metadata": {},
     "output_type": "execute_result"
    }
   ],
   "source": [
    "eucclf.best_estimator_"
   ]
  },
  {
   "cell_type": "code",
   "execution_count": 201,
   "metadata": {},
   "outputs": [],
   "source": [
    "grid = dict(alpha=[1.25, 1.5], bandwith=np.logspace(-2, 0, 10))"
   ]
  },
  {
   "cell_type": "code",
   "execution_count": 202,
   "metadata": {},
   "outputs": [],
   "source": [
    "fmtclf = GridSearchCV(FermatKDEClassifier(), grid)"
   ]
  },
  {
   "cell_type": "code",
   "execution_count": 203,
   "metadata": {},
   "outputs": [
    {
     "name": "stderr",
     "output_type": "stream",
     "text": [
      "/tmp/ipykernel_72081/528438012.py:19: RuntimeWarning: divide by zero encountered in log\n",
      "  return np.log(densities) if log else densities\n",
      "/tmp/ipykernel_72081/528438012.py:19: RuntimeWarning: divide by zero encountered in log\n",
      "  return np.log(densities) if log else densities\n",
      "/tmp/ipykernel_72081/528438012.py:19: RuntimeWarning: divide by zero encountered in log\n",
      "  return np.log(densities) if log else densities\n",
      "/tmp/ipykernel_72081/528438012.py:19: RuntimeWarning: divide by zero encountered in log\n",
      "  return np.log(densities) if log else densities\n",
      "/tmp/ipykernel_72081/528438012.py:19: RuntimeWarning: divide by zero encountered in log\n",
      "  return np.log(densities) if log else densities\n",
      "/tmp/ipykernel_72081/528438012.py:19: RuntimeWarning: divide by zero encountered in log\n",
      "  return np.log(densities) if log else densities\n",
      "/tmp/ipykernel_72081/528438012.py:19: RuntimeWarning: divide by zero encountered in log\n",
      "  return np.log(densities) if log else densities\n",
      "/tmp/ipykernel_72081/528438012.py:19: RuntimeWarning: divide by zero encountered in log\n",
      "  return np.log(densities) if log else densities\n",
      "/tmp/ipykernel_72081/528438012.py:19: RuntimeWarning: divide by zero encountered in log\n",
      "  return np.log(densities) if log else densities\n",
      "/tmp/ipykernel_72081/528438012.py:19: RuntimeWarning: divide by zero encountered in log\n",
      "  return np.log(densities) if log else densities\n",
      "/tmp/ipykernel_72081/528438012.py:19: RuntimeWarning: divide by zero encountered in log\n",
      "  return np.log(densities) if log else densities\n",
      "/tmp/ipykernel_72081/528438012.py:19: RuntimeWarning: divide by zero encountered in log\n",
      "  return np.log(densities) if log else densities\n",
      "/tmp/ipykernel_72081/528438012.py:19: RuntimeWarning: divide by zero encountered in log\n",
      "  return np.log(densities) if log else densities\n",
      "/tmp/ipykernel_72081/528438012.py:19: RuntimeWarning: divide by zero encountered in log\n",
      "  return np.log(densities) if log else densities\n"
     ]
    },
    {
     "data": {
      "text/plain": [
       "GridSearchCV(estimator=FermatKDEClassifier(),\n",
       "             param_grid={'alpha': [1.25, 1.5],\n",
       "                         'bandwith': array([0.01      , 0.01668101, 0.02782559, 0.04641589, 0.07742637,\n",
       "       0.12915497, 0.21544347, 0.35938137, 0.59948425, 1.        ])})"
      ]
     },
     "execution_count": 203,
     "metadata": {},
     "output_type": "execute_result"
    }
   ],
   "source": [
    "fmtclf.fit(X_train, y_train)"
   ]
  },
  {
   "cell_type": "code",
   "execution_count": 204,
   "metadata": {},
   "outputs": [
    {
     "data": {
      "text/plain": [
       "0.852"
      ]
     },
     "execution_count": 204,
     "metadata": {},
     "output_type": "execute_result"
    }
   ],
   "source": [
    "accuracy_score(fmtclf.predict(X_test), y_test)"
   ]
  },
  {
   "cell_type": "code",
   "execution_count": 205,
   "metadata": {},
   "outputs": [
    {
     "data": {
      "text/plain": [
       "{'alpha': 1.25, 'bandwith': 0.21544346900318834}"
      ]
     },
     "execution_count": 205,
     "metadata": {},
     "output_type": "execute_result"
    }
   ],
   "source": [
    "fmtclf.best_params_"
   ]
  },
  {
   "cell_type": "code",
   "execution_count": 347,
   "metadata": {},
   "outputs": [
    {
     "data": {
      "text/plain": [
       "(0.87, 0.78)"
      ]
     },
     "execution_count": 347,
     "metadata": {},
     "output_type": "execute_result"
    }
   ],
   "source": [
    "accuracy_score(clf.predict(X_train), y_train), accuracy_score(clf.predict(X_test), y_test)"
   ]
  },
  {
   "cell_type": "code",
   "execution_count": 348,
   "metadata": {},
   "outputs": [
    {
     "data": {
      "text/plain": [
       "(1.0, 0.82)"
      ]
     },
     "execution_count": 348,
     "metadata": {},
     "output_type": "execute_result"
    }
   ],
   "source": [
    "accuracy_score(rfclf.predict(X_train), y_train), accuracy_score(rfclf.predict(X_test), y_test)"
   ]
  },
  {
   "cell_type": "code",
   "execution_count": 349,
   "metadata": {},
   "outputs": [
    {
     "data": {
      "text/plain": [
       "(0.88, 0.795)"
      ]
     },
     "execution_count": 349,
     "metadata": {},
     "output_type": "execute_result"
    }
   ],
   "source": [
    "accuracy_score(eucclf.predict(X_train), y_train), accuracy_score(eucclf.predict(X_test), y_test)"
   ]
  },
  {
   "cell_type": "code",
   "execution_count": 350,
   "metadata": {},
   "outputs": [
    {
     "name": "stderr",
     "output_type": "stream",
     "text": [
      "/tmp/ipykernel_400884/3001414010.py:18: RuntimeWarning: divide by zero encountered in log\n",
      "  return np.log(densities) if log else densities\n",
      "/tmp/ipykernel_400884/3001414010.py:18: RuntimeWarning: divide by zero encountered in log\n",
      "  return np.log(densities) if log else densities\n",
      "/tmp/ipykernel_400884/3001414010.py:18: RuntimeWarning: divide by zero encountered in log\n",
      "  return np.log(densities) if log else densities\n",
      "/tmp/ipykernel_400884/3001414010.py:18: RuntimeWarning: divide by zero encountered in log\n",
      "  return np.log(densities) if log else densities\n",
      "/tmp/ipykernel_400884/3001414010.py:18: RuntimeWarning: divide by zero encountered in log\n",
      "  return np.log(densities) if log else densities\n",
      "/tmp/ipykernel_400884/3001414010.py:18: RuntimeWarning: divide by zero encountered in log\n",
      "  return np.log(densities) if log else densities\n",
      "/tmp/ipykernel_400884/3001414010.py:18: RuntimeWarning: divide by zero encountered in log\n",
      "  return np.log(densities) if log else densities\n",
      "/tmp/ipykernel_400884/3001414010.py:18: RuntimeWarning: divide by zero encountered in log\n",
      "  return np.log(densities) if log else densities\n",
      "/tmp/ipykernel_400884/3001414010.py:18: RuntimeWarning: divide by zero encountered in log\n",
      "  return np.log(densities) if log else densities\n",
      "/tmp/ipykernel_400884/3001414010.py:18: RuntimeWarning: divide by zero encountered in log\n",
      "  return np.log(densities) if log else densities\n",
      "/tmp/ipykernel_400884/3001414010.py:18: RuntimeWarning: divide by zero encountered in log\n",
      "  return np.log(densities) if log else densities\n",
      "/tmp/ipykernel_400884/3001414010.py:18: RuntimeWarning: divide by zero encountered in log\n",
      "  return np.log(densities) if log else densities\n",
      "/tmp/ipykernel_400884/3001414010.py:18: RuntimeWarning: divide by zero encountered in log\n",
      "  return np.log(densities) if log else densities\n",
      "/tmp/ipykernel_400884/3001414010.py:18: RuntimeWarning: divide by zero encountered in log\n",
      "  return np.log(densities) if log else densities\n",
      "/tmp/ipykernel_400884/3001414010.py:18: RuntimeWarning: divide by zero encountered in log\n",
      "  return np.log(densities) if log else densities\n",
      "/tmp/ipykernel_400884/3001414010.py:18: RuntimeWarning: divide by zero encountered in log\n",
      "  return np.log(densities) if log else densities\n",
      "/tmp/ipykernel_400884/3001414010.py:18: RuntimeWarning: divide by zero encountered in log\n",
      "  return np.log(densities) if log else densities\n",
      "/tmp/ipykernel_400884/3001414010.py:18: RuntimeWarning: divide by zero encountered in log\n",
      "  return np.log(densities) if log else densities\n",
      "/tmp/ipykernel_400884/3001414010.py:18: RuntimeWarning: divide by zero encountered in log\n",
      "  return np.log(densities) if log else densities\n",
      "/tmp/ipykernel_400884/3001414010.py:18: RuntimeWarning: divide by zero encountered in log\n",
      "  return np.log(densities) if log else densities\n",
      "/tmp/ipykernel_400884/3001414010.py:18: RuntimeWarning: divide by zero encountered in log\n",
      "  return np.log(densities) if log else densities\n",
      "/tmp/ipykernel_400884/3001414010.py:18: RuntimeWarning: divide by zero encountered in log\n",
      "  return np.log(densities) if log else densities\n",
      "/tmp/ipykernel_400884/3001414010.py:18: RuntimeWarning: divide by zero encountered in log\n",
      "  return np.log(densities) if log else densities\n",
      "/tmp/ipykernel_400884/3001414010.py:18: RuntimeWarning: divide by zero encountered in log\n",
      "  return np.log(densities) if log else densities\n",
      "/tmp/ipykernel_400884/3001414010.py:18: RuntimeWarning: divide by zero encountered in log\n",
      "  return np.log(densities) if log else densities\n",
      "/tmp/ipykernel_400884/3001414010.py:18: RuntimeWarning: divide by zero encountered in log\n",
      "  return np.log(densities) if log else densities\n",
      "/tmp/ipykernel_400884/3001414010.py:18: RuntimeWarning: divide by zero encountered in log\n",
      "  return np.log(densities) if log else densities\n",
      "/tmp/ipykernel_400884/3001414010.py:18: RuntimeWarning: divide by zero encountered in log\n",
      "  return np.log(densities) if log else densities\n",
      "/tmp/ipykernel_400884/3001414010.py:18: RuntimeWarning: divide by zero encountered in log\n",
      "  return np.log(densities) if log else densities\n",
      "/tmp/ipykernel_400884/3001414010.py:18: RuntimeWarning: divide by zero encountered in log\n",
      "  return np.log(densities) if log else densities\n"
     ]
    },
    {
     "data": {
      "text/plain": [
       "{'bandwith': 0.4832930238571752}"
      ]
     },
     "execution_count": 350,
     "metadata": {},
     "output_type": "execute_result"
    }
   ],
   "source": [
    "eucclf = GridSearchCV(EuclideanKDEClassifier(), {\"bandwith\": np.logspace(-2, 0, 20)}).fit(X_train, y_train)\n",
    "eucclf.best_params_"
   ]
  },
  {
   "cell_type": "code",
   "execution_count": 351,
   "metadata": {},
   "outputs": [
    {
     "data": {
      "text/plain": [
       "0.785"
      ]
     },
     "execution_count": 351,
     "metadata": {},
     "output_type": "execute_result"
    }
   ],
   "source": [
    "accuracy_score(eucclf.predict(X_test), y_test)"
   ]
  },
  {
   "cell_type": "code",
   "execution_count": 361,
   "metadata": {},
   "outputs": [
    {
     "data": {
      "text/plain": [
       "(array([-3.04607482, -3.32174182]), array([3.30444116, 3.15130451]))"
      ]
     },
     "execution_count": 361,
     "metadata": {},
     "output_type": "execute_result"
    }
   ],
   "source": [
    "X.min(axis=0), X.max(axis=0)"
   ]
  },
  {
   "cell_type": "code",
   "execution_count": 378,
   "metadata": {},
   "outputs": [],
   "source": [
    "x = np.linspace(-4, 4, 50)\n",
    "y = np.linspace(-4, 4, 50)"
   ]
  },
  {
   "cell_type": "code",
   "execution_count": 379,
   "metadata": {},
   "outputs": [],
   "source": [
    "xx, yy = np.meshgrid(x, y)"
   ]
  },
  {
   "cell_type": "code",
   "execution_count": 381,
   "metadata": {},
   "outputs": [
    {
     "data": {
      "text/plain": [
       "(50, 50)"
      ]
     },
     "execution_count": 381,
     "metadata": {},
     "output_type": "execute_result"
    }
   ],
   "source": [
    "rcclf.predict()"
   ]
  },
  {
   "cell_type": "code",
   "execution_count": 394,
   "metadata": {},
   "outputs": [],
   "source": [
    "rfpred = rfclf.predict(np.hstack([xx.reshape(-1, 1), yy.reshape(-1, 1)]))"
   ]
  },
  {
   "cell_type": "code",
   "execution_count": 395,
   "metadata": {},
   "outputs": [
    {
     "data": {
      "text/plain": [
       "<AxesSubplot:>"
      ]
     },
     "execution_count": 395,
     "metadata": {},
     "output_type": "execute_result"
    },
    {
     "data": {
      "image/png": "[encoded data removed]",
      "text/plain": [
       "<Figure size 432x288 with 1 Axes>"
      ]
     },
     "metadata": {
      "needs_background": "light"
     },
     "output_type": "display_data"
    }
   ],
   "source": [
    "sns.scatterplot(x=xx.ravel(), y=yy.ravel(), hue=rfpred)"
   ]
  },
  {
   "cell_type": "code",
   "execution_count": 396,
   "metadata": {},
   "outputs": [
    {
     "ename": "NotFittedError",
     "evalue": "This GridSearchCV instance is not fitted yet. Call 'fit' with appropriate arguments before using this estimator.",
     "output_type": "error",
     "traceback": [
      "\u001b[0;31m---------------------------------------------------------------------------\u001b[0m",
      "\u001b[0;31mNotFittedError\u001b[0m                            Traceback (most recent call last)",
      "\u001b[1;32m/home/gonzalo/maestria/fermat/notebooks/04. Chequeo de Sanidad: EuclideanKDE y KernelDensity.ipynb Cell 160'\u001b[0m in \u001b[0;36m<cell line: 1>\u001b[0;34m()\u001b[0m\n\u001b[0;32m----> <a href='vscode-notebook-cell:/home/gonzalo/maestria/fermat/notebooks/04.%20Chequeo%20de%20Sanidad%3A%20EuclideanKDE%20y%20KernelDensity.ipynb#ch0000190?line=0'>1</a>\u001b[0m fmtpred \u001b[39m=\u001b[39m clf\u001b[39m.\u001b[39;49mpredict(np\u001b[39m.\u001b[39;49mhstack([xx\u001b[39m.\u001b[39;49mreshape(\u001b[39m-\u001b[39;49m\u001b[39m1\u001b[39;49m, \u001b[39m1\u001b[39;49m), yy\u001b[39m.\u001b[39;49mreshape(\u001b[39m-\u001b[39;49m\u001b[39m1\u001b[39;49m, \u001b[39m1\u001b[39;49m)]))\n",
      "File \u001b[0;32m~/maestria/fermat/venv/lib/python3.8/site-packages/sklearn/utils/metaestimators.py:113\u001b[0m, in \u001b[0;36m_AvailableIfDescriptor.__get__.<locals>.<lambda>\u001b[0;34m(*args, **kwargs)\u001b[0m\n\u001b[1;32m    <a href='file:///home/gonzalo/maestria/fermat/venv/lib/python3.8/site-packages/sklearn/utils/metaestimators.py?line=109'>110</a>\u001b[0m         \u001b[39mraise\u001b[39;00m attr_err\n\u001b[1;32m    <a href='file:///home/gonzalo/maestria/fermat/venv/lib/python3.8/site-packages/sklearn/utils/metaestimators.py?line=111'>112</a>\u001b[0m     \u001b[39m# lambda, but not partial, allows help() to work with update_wrapper\u001b[39;00m\n\u001b[0;32m--> <a href='file:///home/gonzalo/maestria/fermat/venv/lib/python3.8/site-packages/sklearn/utils/metaestimators.py?line=112'>113</a>\u001b[0m     out \u001b[39m=\u001b[39m \u001b[39mlambda\u001b[39;00m \u001b[39m*\u001b[39margs, \u001b[39m*\u001b[39m\u001b[39m*\u001b[39mkwargs: \u001b[39mself\u001b[39;49m\u001b[39m.\u001b[39;49mfn(obj, \u001b[39m*\u001b[39;49margs, \u001b[39m*\u001b[39;49m\u001b[39m*\u001b[39;49mkwargs)  \u001b[39m# noqa\u001b[39;00m\n\u001b[1;32m    <a href='file:///home/gonzalo/maestria/fermat/venv/lib/python3.8/site-packages/sklearn/utils/metaestimators.py?line=113'>114</a>\u001b[0m \u001b[39melse\u001b[39;00m:\n\u001b[1;32m    <a href='file:///home/gonzalo/maestria/fermat/venv/lib/python3.8/site-packages/sklearn/utils/metaestimators.py?line=115'>116</a>\u001b[0m     \u001b[39mdef\u001b[39;00m \u001b[39mfn\u001b[39m(\u001b[39m*\u001b[39margs, \u001b[39m*\u001b[39m\u001b[39m*\u001b[39mkwargs):\n",
      "File \u001b[0;32m~/maestria/fermat/venv/lib/python3.8/site-packages/sklearn/model_selection/_search.py:520\u001b[0m, in \u001b[0;36mBaseSearchCV.predict\u001b[0;34m(self, X)\u001b[0m\n\u001b[1;32m    <a href='file:///home/gonzalo/maestria/fermat/venv/lib/python3.8/site-packages/sklearn/model_selection/_search.py?line=500'>501</a>\u001b[0m \u001b[39m@available_if\u001b[39m(_estimator_has(\u001b[39m\"\u001b[39m\u001b[39mpredict\u001b[39m\u001b[39m\"\u001b[39m))\n\u001b[1;32m    <a href='file:///home/gonzalo/maestria/fermat/venv/lib/python3.8/site-packages/sklearn/model_selection/_search.py?line=501'>502</a>\u001b[0m \u001b[39mdef\u001b[39;00m \u001b[39mpredict\u001b[39m(\u001b[39mself\u001b[39m, X):\n\u001b[1;32m    <a href='file:///home/gonzalo/maestria/fermat/venv/lib/python3.8/site-packages/sklearn/model_selection/_search.py?line=502'>503</a>\u001b[0m     \u001b[39m\"\"\"Call predict on the estimator with the best found parameters.\u001b[39;00m\n\u001b[1;32m    <a href='file:///home/gonzalo/maestria/fermat/venv/lib/python3.8/site-packages/sklearn/model_selection/_search.py?line=503'>504</a>\u001b[0m \n\u001b[1;32m    <a href='file:///home/gonzalo/maestria/fermat/venv/lib/python3.8/site-packages/sklearn/model_selection/_search.py?line=504'>505</a>\u001b[0m \u001b[39m    Only available if ``refit=True`` and the underlying estimator supports\u001b[39;00m\n\u001b[0;32m   (...)\u001b[0m\n\u001b[1;32m    <a href='file:///home/gonzalo/maestria/fermat/venv/lib/python3.8/site-packages/sklearn/model_selection/_search.py?line=517'>518</a>\u001b[0m \u001b[39m        the best found parameters.\u001b[39;00m\n\u001b[1;32m    <a href='file:///home/gonzalo/maestria/fermat/venv/lib/python3.8/site-packages/sklearn/model_selection/_search.py?line=518'>519</a>\u001b[0m \u001b[39m    \"\"\"\u001b[39;00m\n\u001b[0;32m--> <a href='file:///home/gonzalo/maestria/fermat/venv/lib/python3.8/site-packages/sklearn/model_selection/_search.py?line=519'>520</a>\u001b[0m     check_is_fitted(\u001b[39mself\u001b[39;49m)\n\u001b[1;32m    <a href='file:///home/gonzalo/maestria/fermat/venv/lib/python3.8/site-packages/sklearn/model_selection/_search.py?line=520'>521</a>\u001b[0m     \u001b[39mreturn\u001b[39;00m \u001b[39mself\u001b[39m\u001b[39m.\u001b[39mbest_estimator_\u001b[39m.\u001b[39mpredict(X)\n",
      "File \u001b[0;32m~/maestria/fermat/venv/lib/python3.8/site-packages/sklearn/utils/validation.py:1222\u001b[0m, in \u001b[0;36mcheck_is_fitted\u001b[0;34m(estimator, attributes, msg, all_or_any)\u001b[0m\n\u001b[1;32m   <a href='file:///home/gonzalo/maestria/fermat/venv/lib/python3.8/site-packages/sklearn/utils/validation.py?line=1216'>1217</a>\u001b[0m     fitted \u001b[39m=\u001b[39m [\n\u001b[1;32m   <a href='file:///home/gonzalo/maestria/fermat/venv/lib/python3.8/site-packages/sklearn/utils/validation.py?line=1217'>1218</a>\u001b[0m         v \u001b[39mfor\u001b[39;00m v \u001b[39min\u001b[39;00m \u001b[39mvars\u001b[39m(estimator) \u001b[39mif\u001b[39;00m v\u001b[39m.\u001b[39mendswith(\u001b[39m\"\u001b[39m\u001b[39m_\u001b[39m\u001b[39m\"\u001b[39m) \u001b[39mand\u001b[39;00m \u001b[39mnot\u001b[39;00m v\u001b[39m.\u001b[39mstartswith(\u001b[39m\"\u001b[39m\u001b[39m__\u001b[39m\u001b[39m\"\u001b[39m)\n\u001b[1;32m   <a href='file:///home/gonzalo/maestria/fermat/venv/lib/python3.8/site-packages/sklearn/utils/validation.py?line=1218'>1219</a>\u001b[0m     ]\n\u001b[1;32m   <a href='file:///home/gonzalo/maestria/fermat/venv/lib/python3.8/site-packages/sklearn/utils/validation.py?line=1220'>1221</a>\u001b[0m \u001b[39mif\u001b[39;00m \u001b[39mnot\u001b[39;00m fitted:\n\u001b[0;32m-> <a href='file:///home/gonzalo/maestria/fermat/venv/lib/python3.8/site-packages/sklearn/utils/validation.py?line=1221'>1222</a>\u001b[0m     \u001b[39mraise\u001b[39;00m NotFittedError(msg \u001b[39m%\u001b[39m {\u001b[39m\"\u001b[39m\u001b[39mname\u001b[39m\u001b[39m\"\u001b[39m: \u001b[39mtype\u001b[39m(estimator)\u001b[39m.\u001b[39m\u001b[39m__name__\u001b[39m})\n",
      "\u001b[0;31mNotFittedError\u001b[0m: This GridSearchCV instance is not fitted yet. Call 'fit' with appropriate arguments before using this estimator."
     ]
    }
   ],
   "source": [
    "fmtpred = clf.predict(np.hstack([xx.reshape(-1, 1), yy.reshape(-1, 1)]))"
   ]
  },
  {
   "cell_type": "code",
   "execution_count": null,
   "metadata": {},
   "outputs": [
    {
     "data": {
      "text/plain": [
       "<AxesSubplot:>"
      ]
     },
     "metadata": {},
     "output_type": "display_data"
    },
    {
     "data": {
      "image/png": "[encoded data removed]",
      "text/plain": [
       "<Figure size 432x288 with 1 Axes>"
      ]
     },
     "metadata": {},
     "output_type": "display_data"
    }
   ],
   "source": [
    "sns.scatterplot(x=xx.ravel(), y=yy.ravel(), hue=rfpred)"
   ]
  },
  {
   "cell_type": "code",
   "execution_count": 210,
   "metadata": {},
   "outputs": [
    {
     "data": {
      "text/plain": [
       "array([[-9.07725789e-02, -1.82886602e-02, -1.23862462e-02],\n",
       "       [-2.64253342e-02, -3.78069118e-02, -3.06195116e-02],\n",
       "       [ 2.43678494e-02, -3.01132875e-02,  6.87818769e-03],\n",
       "       [ 2.76952903e-02,  1.16056763e-02, -5.64777449e-02],\n",
       "       [ 6.00989414e-02,  1.93943529e-02, -7.21929901e-02],\n",
       "       [ 2.47786622e-02,  1.01444912e-01,  2.77091171e-02],\n",
       "       [-2.07316300e-02, -2.23787407e-02, -2.82159874e-02],\n",
       "       [-1.02354243e-03,  5.08288458e-02, -2.16049816e-02],\n",
       "       [ 2.13143694e-02,  5.94537012e-02, -3.93601742e-02],\n",
       "       [ 4.86531929e-05, -4.32023088e-03,  5.14577161e-02],\n",
       "       [ 1.25324345e-01, -4.23054579e-03, -3.84843914e-03],\n",
       "       [ 6.09188697e-02, -4.94266568e-02,  8.54143414e-03],\n",
       "       [ 6.65971061e-02, -4.94756437e-03, -5.03286970e-03],\n",
       "       [ 6.10418139e-02,  4.45921132e-02,  2.27508052e-02],\n",
       "       [ 1.54154241e-02,  6.95667995e-02,  6.45182341e-02],\n",
       "       [ 1.07328084e-03, -2.73757357e-02,  1.45994017e-02],\n",
       "       [ 6.70059487e-03, -8.25942253e-02,  6.44466704e-03],\n",
       "       [-5.99191639e-02, -1.11169143e-02,  3.98600333e-03],\n",
       "       [ 9.58873818e-02,  4.86030113e-02,  5.37917766e-03],\n",
       "       [ 1.01459617e-02,  2.50568986e-02, -1.20417819e-04],\n",
       "       [ 2.52787142e-02, -8.60999450e-03, -3.77955593e-02],\n",
       "       [ 2.60764343e-02,  4.91349689e-02,  1.29781516e-02],\n",
       "       [ 6.51152273e-02,  2.11402572e-03, -5.04837748e-02],\n",
       "       [ 2.86219413e-02, -1.81724326e-02, -9.13430870e-02],\n",
       "       [-2.75156781e-02, -7.54610313e-02,  3.70789566e-02],\n",
       "       [ 7.28831355e-03, -8.07125237e-02, -2.12855771e-02],\n",
       "       [-1.34521595e-02,  4.79152156e-02, -2.44231865e-02],\n",
       "       [ 4.14050381e-04,  1.20978188e-01,  4.68063706e-02],\n",
       "       [ 3.68715051e-03,  3.75825779e-02, -3.83465033e-02],\n",
       "       [-7.11622889e-02, -3.17177930e-02, -2.63898768e-02],\n",
       "       [-9.24003121e-02,  4.50599336e-02, -1.50727527e-02],\n",
       "       [-2.54383924e-02,  3.18805168e-02,  4.17747764e-02],\n",
       "       [-3.73015692e-02,  4.42741247e-02,  2.70312768e-02],\n",
       "       [ 9.49220193e-02,  2.44184273e-02,  4.92775412e-04],\n",
       "       [-4.82317198e-02,  4.98843842e-02,  1.31031431e-02],\n",
       "       [-5.50218565e-02,  2.23754970e-02, -4.14911645e-02],\n",
       "       [-3.62583819e-02,  3.08831133e-02, -2.64472832e-02],\n",
       "       [ 1.67250420e-02, -9.64959001e-03, -6.58843419e-02],\n",
       "       [-4.47581717e-02, -3.86730471e-03, -5.22097222e-02],\n",
       "       [ 3.84841174e-02,  5.32279051e-02,  8.21322685e-02],\n",
       "       [ 3.56665394e-02, -8.49858124e-02, -7.59386847e-02],\n",
       "       [ 2.54286872e-02, -1.95278979e-03,  4.55872659e-02],\n",
       "       [ 1.17354189e-02,  1.24882444e-03,  8.50999961e-02],\n",
       "       [-3.02076549e-02, -1.20832623e-01,  2.61710654e-02],\n",
       "       [ 5.24611366e-02,  8.80151591e-02, -4.20633975e-03],\n",
       "       [ 3.82760214e-02,  4.38104221e-02, -3.99197406e-05],\n",
       "       [-7.14412122e-02,  5.55024017e-02,  2.10186854e-02],\n",
       "       [ 3.87962216e-02, -6.99662139e-02, -2.04253216e-02],\n",
       "       [-1.52952350e-02,  4.42055351e-02,  5.25090909e-02],\n",
       "       [ 3.84367027e-02,  3.61521563e-02, -4.67984111e-03],\n",
       "       [-4.39854344e-02, -9.02911786e-02, -2.31567727e-02],\n",
       "       [ 5.85777016e-02, -2.62849010e-02, -2.60660433e-02],\n",
       "       [ 1.31817444e-02, -6.05714189e-02, -3.90941859e-02],\n",
       "       [-7.09450909e-02, -8.98201268e-02, -2.03705370e-02],\n",
       "       [ 4.07811771e-02,  1.98877896e-02, -3.38351110e-02],\n",
       "       [-1.91032334e-02,  2.43934514e-02,  6.32039525e-02],\n",
       "       [-6.62517496e-02,  5.45925940e-02, -5.93765733e-02],\n",
       "       [ 4.09270529e-02,  1.28272513e-02, -4.26744557e-02],\n",
       "       [ 7.91071243e-02, -7.31068264e-02,  4.82793035e-02],\n",
       "       [-1.63313250e-02,  9.48467795e-03, -1.83834239e-02],\n",
       "       [-1.60290040e-02,  1.73439987e-02,  5.90645258e-02],\n",
       "       [-2.05681809e-02, -5.19617378e-02, -9.03689361e-02],\n",
       "       [ 1.30525542e-02, -2.32170302e-02, -6.98991409e-02],\n",
       "       [ 5.20296820e-02,  4.56905724e-02, -1.17963299e-01],\n",
       "       [ 2.18522065e-02, -2.59403022e-02,  3.90676212e-02],\n",
       "       [ 9.55977839e-02,  4.87198479e-02, -7.03551115e-03],\n",
       "       [ 3.11996353e-02,  7.72588265e-02,  1.13325272e-01],\n",
       "       [ 4.46239136e-02,  4.30008395e-02,  5.56341610e-02],\n",
       "       [ 1.27840711e-01,  5.97879225e-02, -1.28097967e-02],\n",
       "       [-1.06767387e-02, -2.54782228e-02,  5.76594370e-02],\n",
       "       [-4.28344772e-02, -4.94184676e-02, -1.78339779e-03],\n",
       "       [-8.19927719e-02, -2.79333730e-03,  2.94916978e-02],\n",
       "       [-4.02512723e-02,  2.38573832e-02,  7.19716003e-02],\n",
       "       [-1.87506109e-02, -8.34403447e-03, -1.04228325e-01],\n",
       "       [ 2.96204342e-02, -7.45852211e-03,  2.07758154e-02],\n",
       "       [ 1.30251728e-02,  1.03062917e-01,  1.96739680e-02],\n",
       "       [-2.82396275e-02, -2.11256588e-03, -2.81204946e-02],\n",
       "       [-4.01470150e-02,  1.20794337e-02, -1.45670767e-01],\n",
       "       [-1.13988537e-02, -6.34174695e-02,  1.09857246e-02],\n",
       "       [-1.62200919e-02, -5.91407970e-02,  4.71469584e-02],\n",
       "       [-2.35851302e-02, -3.23983956e-02, -2.90542106e-02],\n",
       "       [-1.81353720e-02,  3.11589320e-03,  7.34847491e-02],\n",
       "       [ 6.62120134e-02, -1.80745170e-01,  5.99198337e-02],\n",
       "       [-4.16329366e-02,  5.51245455e-02, -6.14765877e-02],\n",
       "       [ 3.53598485e-02,  3.09521287e-02,  5.03696137e-02],\n",
       "       [-1.11996630e-01,  5.46557490e-02,  4.97057617e-02],\n",
       "       [-1.09945011e-01, -3.85098873e-02,  1.22892084e-02],\n",
       "       [ 5.47226510e-02,  9.84896541e-02,  8.06814973e-02],\n",
       "       [-9.28940112e-02, -1.51643133e-02, -6.47341926e-02],\n",
       "       [ 4.36065350e-02, -4.64116009e-02,  7.00917057e-03],\n",
       "       [ 7.33738613e-02, -1.91862959e-03,  5.89049647e-02],\n",
       "       [-1.33528450e-02, -1.00307479e-02, -3.34934007e-02],\n",
       "       [-1.01505378e-02,  6.50216536e-02, -1.73899145e-02],\n",
       "       [-6.64303973e-02,  4.84142665e-02, -6.94261081e-02],\n",
       "       [ 6.08896409e-02, -8.24897937e-02, -3.25646416e-03],\n",
       "       [ 2.79176642e-02,  1.29908444e-02,  1.13652713e-01],\n",
       "       [ 4.09971750e-03, -4.57364961e-02, -6.94734938e-02],\n",
       "       [-3.52586029e-02,  2.63510355e-02,  7.63406456e-02],\n",
       "       [ 4.88841363e-02,  1.26227773e-02, -6.54489637e-02],\n",
       "       [-1.80067777e-02, -1.17196897e-01,  2.85442324e-02]])"
      ]
     },
     "execution_count": 210,
     "metadata": {},
     "output_type": "execute_result"
    }
   ],
   "source": []
  },
  {
   "cell_type": "code",
   "execution_count": 268,
   "metadata": {},
   "outputs": [],
   "source": [
    "def trefoil(n, start=0, noise_dims=37, end=2*PI):\n",
    "    T = start + (end - start) * np.random.rand(n)\n",
    "    X_tref = np.array(\n",
    "        [\n",
    "            [np.sin(t), np.cos(t) - 2 * np.cos(2*t), -np.sin(3*t)]\n",
    "            for t in T\n",
    "        ]\n",
    "    )\n",
    "    X_noise = scipy.stats.norm.rvs(scale=0.05, size=(n, noise_dims))\n",
    "    return np.concatenate([X_tref, X_noise], axis=1)"
   ]
  },
  {
   "cell_type": "code",
   "execution_count": 269,
   "metadata": {},
   "outputs": [],
   "source": [
    "X_trefA = trefoil(200)"
   ]
  },
  {
   "cell_type": "code",
   "execution_count": 270,
   "metadata": {},
   "outputs": [],
   "source": [
    "X_trefB = trefoil(200)"
   ]
  },
  {
   "cell_type": "code",
   "execution_count": 271,
   "metadata": {},
   "outputs": [],
   "source": [
    "X_trefB[:, [0, 1, 2]] = X_trefB[:, [1, 2, 0]]"
   ]
  },
  {
   "cell_type": "code",
   "execution_count": 272,
   "metadata": {},
   "outputs": [],
   "source": [
    "X_tref = np.concatenate([X_trefA, X_trefB], axis=0)"
   ]
  },
  {
   "cell_type": "code",
   "execution_count": 273,
   "metadata": {},
   "outputs": [],
   "source": [
    "y_tref = np.concatenate([np.zeros(200), np.ones(200)], axis=0)"
   ]
  },
  {
   "cell_type": "code",
   "execution_count": 281,
   "metadata": {},
   "outputs": [],
   "source": [
    "X_train, X_test, y_train, y_test = train_test_split(X_tref, y_tref, test_size=0.80)"
   ]
  },
  {
   "cell_type": "code",
   "execution_count": 282,
   "metadata": {},
   "outputs": [
    {
     "data": {
      "text/plain": [
       "0.7125"
      ]
     },
     "execution_count": 282,
     "metadata": {},
     "output_type": "execute_result"
    }
   ],
   "source": [
    "rfclf = RandomForestClassifier().fit(X_train, y_train)\n",
    "accuracy_score(rfclf.predict(X_test), y_test)"
   ]
  },
  {
   "cell_type": "code",
   "execution_count": 283,
   "metadata": {},
   "outputs": [
    {
     "data": {
      "text/plain": [
       "0.934375"
      ]
     },
     "execution_count": 283,
     "metadata": {},
     "output_type": "execute_result"
    }
   ],
   "source": [
    "eucclf = EuclideanKDEClassifier(bandwith=0.3).fit(X_train, y_train)\n",
    "accuracy_score(eucclf.predict(X_test), y_test)"
   ]
  },
  {
   "cell_type": "code",
   "execution_count": 285,
   "metadata": {},
   "outputs": [
    {
     "data": {
      "text/plain": [
       "0.93125"
      ]
     },
     "execution_count": 285,
     "metadata": {},
     "output_type": "execute_result"
    }
   ],
   "source": [
    "fmtclf = FermatKDEClassifier(bandwith=0.2, alpha=1.2).fit(X_train, y_train)\n",
    "accuracy_score(fmtclf.predict(X_test), y_test)"
   ]
  },
  {
   "cell_type": "code",
   "execution_count": null,
   "metadata": {},
   "outputs": [],
   "source": []
  }
 ],
 "metadata": {
  "kernelspec": {
   "display_name": "fermat",
   "language": "python",
   "name": "fermat"
  },
  "language_info": {
   "codemirror_mode": {
    "name": "ipython",
    "version": 3
   },
   "file_extension": ".py",
   "mimetype": "text/x-python",
   "name": "python",
   "nbconvert_exporter": "python",
   "pygments_lexer": "ipython3",
   "version": "3.8.5"
  },
  "orig_nbformat": 4
 },
 "nbformat": 4,
 "nbformat_minor": 2
}
