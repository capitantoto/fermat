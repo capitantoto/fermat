{
 "cells": [
  {
   "cell_type": "code",
   "execution_count": 334,
   "metadata": {},
   "outputs": [],
   "source": [
    "import numpy as np\n",
    "import pandas as pd\n",
    "from scipy.spatial import distance_matrix\n",
    "import matplotlib.pyplot as plt\n",
    "from sklearn.model_selection import train_test_split\n",
    "from fermat import Fermat\n",
    "from sklearn.datasets import load_iris, load_digits\n",
    "import networkx as nx\n",
    "import igraph as ig\n",
    "import neo4j\n"
   ]
  },
  {
   "cell_type": "code",
   "execution_count": 3,
   "metadata": {},
   "outputs": [],
   "source": [
    "X, y = load_iris(return_X_y=True, as_frame=True)\n",
    "N = len(X)  # # observaciones\n",
    "K = len(set(y))  # # clases\n"
   ]
  },
  {
   "cell_type": "code",
   "execution_count": 4,
   "metadata": {},
   "outputs": [],
   "source": [
    "X_train, X_test, y_train, y_test = train_test_split(\n",
    "    *load_iris(return_X_y=True, as_frame=True), test_size=0.2\n",
    ")\n"
   ]
  },
  {
   "cell_type": "code",
   "execution_count": 5,
   "metadata": {},
   "outputs": [],
   "source": [
    "import scipy\n"
   ]
  },
  {
   "cell_type": "code",
   "execution_count": 67,
   "metadata": {},
   "outputs": [],
   "source": [
    "from sklearn.neighbors import KernelDensity\n",
    "import numpy as np\n",
    "\n",
    "# rng = np.random.RandomState(42)\n",
    "runs = 200\n",
    "res = np.empty(runs)\n",
    "n, d = 1000, 3\n",
    "test_size = 10\n"
   ]
  },
  {
   "cell_type": "code",
   "execution_count": 68,
   "metadata": {},
   "outputs": [
    {
     "data": {
      "text/plain": [
       "1"
      ]
     },
     "execution_count": 68,
     "metadata": {},
     "output_type": "execute_result"
    }
   ],
   "source": [
    "int(1.2)\n"
   ]
  },
  {
   "cell_type": "code",
   "execution_count": 69,
   "metadata": {},
   "outputs": [
    {
     "data": {
      "text/plain": [
       "0.965"
      ]
     },
     "execution_count": 69,
     "metadata": {},
     "output_type": "execute_result"
    }
   ],
   "source": [
    "for i in range(runs):\n",
    "    kde = KernelDensity(kernel=\"gaussian\", bandwidth=0.5).fit(X[:test_size])\n",
    "    log_density = kde.score_samples(X)\n",
    "    res[i] = log_density[:test_size].mean() > log_density[test_size:].mean()\n",
    "res.mean()\n"
   ]
  },
  {
   "cell_type": "code",
   "execution_count": 223,
   "metadata": {},
   "outputs": [
    {
     "data": {
      "text/plain": [
       "((150, 4),\n",
       " array([[5.1, 3.5, 1.4, 0.2],\n",
       "        [4.9, 3. , 1.4, 0.2],\n",
       "        [4.7, 3.2, 1.3, 0.2],\n",
       "        [4.6, 3.1, 1.5, 0.2],\n",
       "        [5. , 3.6, 1.4, 0.2]]))"
      ]
     },
     "execution_count": 223,
     "metadata": {},
     "output_type": "execute_result"
    }
   ],
   "source": [
    "X_iris, _ = load_iris(return_X_y=True)\n",
    "n, d = X_iris.shape\n",
    "datasets = {\"iris\": X_iris, \"unif(0, 1)\": np.random.random_sample((n, d))}\n",
    "(n, d), X_iris[:5]\n"
   ]
  },
  {
   "cell_type": "markdown",
   "metadata": {},
   "source": [
    "Qué probabilidad $p$ hay de que en la densidad estimatada sea, en promedio, más alta en el _train set_ que en un _test set_ aún no visto?\n",
    "Con un _test set_ pequeño en relación al de _train_, esperaría que la densidad esté bien estimada en todo el dominio de la X y entonces $p >= 1/2 + \\delta$, con un $\\delta$ \"pequeño\", ya que $E_{X_{train}}(\\hat{f_X}(X)) \\approx E_{X_{test}}(\\hat{f_X}(X))$. Coun un test set \"grande\", de tamaño cercano a $n$, la estimación de densidad,e la densidad esté sobreajustada a los puntos conocidos, y siempre dé \n"
   ]
  },
  {
   "cell_type": "code",
   "execution_count": 224,
   "metadata": {},
   "outputs": [],
   "source": [
    "def run(train_size, runs=100):\n",
    "    results = {name: np.empty(runs) for name in datasets}\n",
    "    for i in range(runs):\n",
    "        for name, X in datasets.items():\n",
    "            X_train, X_test = train_test_split(X, train_size=train_size)\n",
    "            kde = KernelDensity(kernel=\"gaussian\", bandwidth=0.5).fit(X_train)\n",
    "            results[name][i] = (\n",
    "                kde.score_samples(X_train).mean() > kde.score_samples(X_test).mean()\n",
    "            )\n",
    "    return pd.DataFrame(results)\n"
   ]
  },
  {
   "cell_type": "markdown",
   "metadata": {},
   "source": [
    " Ajustar bien la densidad es `facil` entrenando con \"casi todos\" los datos y `dificil` entrenando con \"casi ninguno\" de los datos."
   ]
  },
  {
   "cell_type": "code",
   "execution_count": 225,
   "metadata": {},
   "outputs": [],
   "source": [
    "facil, dificil = 0.9, 0.1\n",
    "runs = 100\n",
    "favorable, adverso = run(facil, runs), run(dificil, runs)\n"
   ]
  },
  {
   "cell_type": "code",
   "execution_count": 226,
   "metadata": {},
   "outputs": [],
   "source": [
    "res = pd.concat(\n",
    "    [favorable, adverso], keys=[\"favorable\", \"adverso\"], names=[\"modo\", \"run\"]\n",
    ")\n"
   ]
  },
  {
   "cell_type": "code",
   "execution_count": 227,
   "metadata": {},
   "outputs": [
    {
     "data": {
      "text/html": [
       "<div>\n",
       "<style scoped>\n",
       "    .dataframe tbody tr th:only-of-type {\n",
       "        vertical-align: middle;\n",
       "    }\n",
       "\n",
       "    .dataframe tbody tr th {\n",
       "        vertical-align: top;\n",
       "    }\n",
       "\n",
       "    .dataframe thead th {\n",
       "        text-align: right;\n",
       "    }\n",
       "</style>\n",
       "<table border=\"1\" class=\"dataframe\">\n",
       "  <thead>\n",
       "    <tr style=\"text-align: right;\">\n",
       "      <th></th>\n",
       "      <th>iris</th>\n",
       "      <th>unif(0, 1)</th>\n",
       "    </tr>\n",
       "    <tr>\n",
       "      <th>modo</th>\n",
       "      <th></th>\n",
       "      <th></th>\n",
       "    </tr>\n",
       "  </thead>\n",
       "  <tbody>\n",
       "    <tr>\n",
       "      <th>favorable</th>\n",
       "      <td>0.69</td>\n",
       "      <td>0.56</td>\n",
       "    </tr>\n",
       "    <tr>\n",
       "      <th>adverso</th>\n",
       "      <td>1.00</td>\n",
       "      <td>0.97</td>\n",
       "    </tr>\n",
       "  </tbody>\n",
       "</table>\n",
       "</div>"
      ],
      "text/plain": [
       "           iris  unif(0, 1)\n",
       "modo                       \n",
       "favorable  0.69        0.56\n",
       "adverso    1.00        0.97"
      ]
     },
     "execution_count": 227,
     "metadata": {},
     "output_type": "execute_result"
    }
   ],
   "source": [
    "res.groupby(\"modo\").mean()\n"
   ]
  },
  {
   "cell_type": "markdown",
   "metadata": {},
   "source": [
    "Bingo! En el contexto `favorable` de entrenamiento, la densidad estimada está más ajustada a los datos de _train_ que _test_, pero no siempre. En particular, el sobreajuste se nota más en el dataset real, `iris`, que en el sintético y \"puramente aleatorio\" `unif(0, 1)`.\n",
    "En el contexto adverso, (casi) siempre la densidad estimada sobreajusta a train: en el dataset real \"siempre\" lo hace, mientras que en el sintético, alguna rara vez no se evidencia sobreajuste."
   ]
  },
  {
   "cell_type": "markdown",
   "metadata": {},
   "source": [
    "### Comparación de del humilde `EuclideanKDE` con la implementación de `scikit-learn`, `KernelDensity`"
   ]
  },
  {
   "cell_type": "code",
   "execution_count": 352,
   "metadata": {},
   "outputs": [],
   "source": [
    "norm_pdf = scipy.stats.norm.pdf\n",
    "\n",
    "\n",
    "class EuclideanKDE:\n",
    "    def __init__(self, kernel=norm_pdf, bandwidth=1):\n",
    "        self.kernel = kernel\n",
    "        self.bandwidth = bandwidth\n",
    "\n",
    "    def fit(self, X):\n",
    "        self.X_ = X\n",
    "        self.n_, self.dim_ = X.shape\n",
    "        return self\n",
    "\n",
    "    def density(self, X, log=True):\n",
    "        densities = (self.bandwidth**-self.dim_) * self.kernel(\n",
    "            distance_matrix(X, self.X_) / self.bandwidth\n",
    "        ).mean(axis=1)\n",
    "        return np.log(densities) if log else densities\n"
   ]
  },
  {
   "cell_type": "code",
   "execution_count": 353,
   "metadata": {},
   "outputs": [],
   "source": [
    "X = datasets[\"iris\"]\n"
   ]
  },
  {
   "cell_type": "code",
   "execution_count": 354,
   "metadata": {},
   "outputs": [],
   "source": [
    "my_kde = EuclideanKDE(kernel=norm_pdf, bandwidth=1).fit(X)\n",
    "sk_kde = KernelDensity(kernel=\"gaussian\", bandwidth=1).fit(X)\n"
   ]
  },
  {
   "cell_type": "code",
   "execution_count": 355,
   "metadata": {},
   "outputs": [],
   "source": [
    "my_score = my_kde.density(X)\n",
    "sk_score = sk_kde.score_samples(X)\n"
   ]
  },
  {
   "cell_type": "code",
   "execution_count": 356,
   "metadata": {},
   "outputs": [
    {
     "data": {
      "text/plain": [
       "(array([-2.15285911, -2.21996845, -2.21470712, -2.24684872, -2.16204292]),\n",
       " array([-4.90967471, -4.97678405, -4.97152272, -5.00366432, -4.91885852]))"
      ]
     },
     "execution_count": 356,
     "metadata": {},
     "output_type": "execute_result"
    }
   ],
   "source": [
    "my_score[:5], sk_score[:5]\n"
   ]
  },
  {
   "cell_type": "markdown",
   "metadata": {},
   "source": [
    "No se ven iguales pero pareciera haber una proporcionalidad"
   ]
  },
  {
   "cell_type": "code",
   "execution_count": 357,
   "metadata": {},
   "outputs": [],
   "source": [
    "from sklearn.linear_model import LinearRegression\n"
   ]
  },
  {
   "cell_type": "code",
   "execution_count": 358,
   "metadata": {},
   "outputs": [
    {
     "data": {
      "image/png": "[encoded data removed]",
      "text/plain": [
       "<Figure size 432x288 with 1 Axes>"
      ]
     },
     "metadata": {
      "needs_background": "light"
     },
     "output_type": "display_data"
    }
   ],
   "source": [
    "plt.plot(my_score, sk_score)\n",
    "plt.axline([0, 0], slope=1, linestyle=\"dashed\", color=\"gray\")\n",
    "est = LinearRegression().fit(X=sk_score.reshape(-1, 1), y=my_score)\n",
    "plt.title(f\"my_score = {est.intercept_.round(3)} + {est.coef_[0].round(3)} * sk_score\")\n",
    "plt.show()\n"
   ]
  },
  {
   "cell_type": "markdown",
   "metadata": {},
   "source": [
    "Efectivamente, la relación pareciera de identidad, salvo por una sospechosa constante $\\approx2.757$. Hmmmm. Al menos, parecieran funcionar igual. Revisando la documentación de [`KernelDensity.score_samples`](https://scikit-learn.org/stable/modules/generated/sklearn.neighbors.KernelDensity.html?highlight=kerneldensity#sklearn.neighbors.KernelDensity.score_samples), leo:\n",
    "\n",
    "    Returns \n",
    "        density: ndarray of shape (n_samples,)\n",
    "\n",
    "        Log-likelihood of each sample in X. These are normalized to be probability densities, so values will be low for high-dimensional data.\n",
    "\n",
    "Y en el código fuente, se lee (editado):\n",
    "\n",
    "```python\n",
    "        N = self.tree_.data.shape[0]\n",
    "        log_density = self.tree_.kernel_density(X, h=self.bandwidth, kernel=self.kernel)\n",
    "        log_density -= np.log(N)\n",
    "        return log_density\n",
    "```"
   ]
  },
  {
   "cell_type": "markdown",
   "metadata": {},
   "source": [
    "Veamos si podemos revertir esa \"normalización\" de `log_density -= np.log(N)`:\n"
   ]
  },
  {
   "cell_type": "code",
   "execution_count": 359,
   "metadata": {},
   "outputs": [
    {
     "data": {
      "text/plain": [
       "(150, True)"
      ]
     },
     "execution_count": 359,
     "metadata": {},
     "output_type": "execute_result"
    }
   ],
   "source": [
    "N = sk_kde.tree_.data.shape[0]\n",
    "N, N == X.shape[0]\n"
   ]
  },
  {
   "cell_type": "code",
   "execution_count": 360,
   "metadata": {},
   "outputs": [],
   "source": [
    "atol_N = sk_kde.atol * N\n",
    "log_density = sk_kde.tree_.kernel_density(\n",
    "    X,\n",
    "    h=sk_kde.bandwidth,\n",
    "    kernel=sk_kde.kernel,\n",
    "    atol=atol_N,\n",
    "    rtol=sk_kde.rtol,\n",
    "    breadth_first=sk_kde.breadth_first,\n",
    "    return_log=True,\n",
    ")\n"
   ]
  },
  {
   "cell_type": "code",
   "execution_count": 361,
   "metadata": {},
   "outputs": [],
   "source": [
    "assert np.allclose(sk_score + np.log(N), log_density)\n"
   ]
  },
  {
   "cell_type": "code",
   "execution_count": 362,
   "metadata": {},
   "outputs": [
    {
     "data": {
      "text/plain": [
       "(array([-2.15285911, -2.21996845, -2.21470712, -2.24684872, -2.16204292]),\n",
       " array([0.10096059, 0.03385124, 0.03911257, 0.00697097, 0.09177677]))"
      ]
     },
     "execution_count": 362,
     "metadata": {},
     "output_type": "execute_result"
    }
   ],
   "source": [
    "my_score[:5], log_density[:5]\n"
   ]
  },
  {
   "cell_type": "code",
   "execution_count": 363,
   "metadata": {},
   "outputs": [
    {
     "data": {
      "image/png": "[encoded data removed]",
      "text/plain": [
       "<Figure size 432x288 with 1 Axes>"
      ]
     },
     "metadata": {
      "needs_background": "light"
     },
     "output_type": "display_data"
    }
   ],
   "source": [
    "plt.plot(my_score, log_density)\n",
    "plt.axline([0, 0], slope=1, linestyle=\"dashed\", color=\"gray\")\n",
    "est = LinearRegression().fit(X=log_density.reshape(-1, 1), y=my_score)\n",
    "plt.title(\n",
    "    f\"my_score = {est.intercept_.round(3)} + {est.coef_[0].round(3)} * log_density\"\n",
    ")\n",
    "plt.show()\n"
   ]
  },
  {
   "cell_type": "markdown",
   "metadata": {},
   "source": [
    "El problema, es que esa desnormalización, no es del factor esperado:"
   ]
  },
  {
   "cell_type": "code",
   "execution_count": 364,
   "metadata": {},
   "outputs": [
    {
     "data": {
      "text/plain": [
       "(5.0106352940962555, 2.756815599614004)"
      ]
     },
     "execution_count": 364,
     "metadata": {},
     "output_type": "execute_result"
    }
   ],
   "source": [
    "np.log(N), LinearRegression().fit(X=sk_score.reshape(-1, 1), y=my_score).intercept_\n"
   ]
  },
  {
   "cell_type": "markdown",
   "metadata": {},
   "source": [
    "Qué más hay de distinto? Habrán normalizado los datos sin avisar? La `data` (nuestra `X`) del estimador de densidad se accede desde `KernelDensity.tree_.data`, que es una `MemoryView` del array original."
   ]
  },
  {
   "cell_type": "code",
   "execution_count": 366,
   "metadata": {},
   "outputs": [],
   "source": [
    "sk_data = np.asarray(sk_kde.tree_.data)\n",
    "assert np.all(sk_data == X)\n"
   ]
  },
  {
   "cell_type": "markdown",
   "metadata": {},
   "source": [
    "No, tampoco es eso. Bueno, ya se verá. Por el momento, son funcionalmente idénticas las implementaciones, salvo por esa constante."
   ]
  },
  {
   "cell_type": "code",
   "execution_count": 418,
   "metadata": {},
   "outputs": [
    {
     "data": {
      "text/plain": [
       "3.6757541328186907"
      ]
     },
     "execution_count": 418,
     "metadata": {},
     "output_type": "execute_result"
    }
   ],
   "source": [
    "# TODO: review normalizing factors in BinaryTree.kernel_density\n",
    "factor = 0.5 * d * np.log(2 * np.pi)\n",
    "factor\n",
    "# -factor - d * np.log(1)"
   ]
  },
  {
   "cell_type": "markdown",
   "metadata": {},
   "source": [
    "### Comparación de Performance"
   ]
  },
  {
   "cell_type": "code",
   "execution_count": 371,
   "metadata": {},
   "outputs": [
    {
     "name": "stdout",
     "output_type": "stream",
     "text": [
      "2.39 µs ± 162 ns per loop (mean ± std. dev. of 7 runs, 100,000 loops each)\n"
     ]
    }
   ],
   "source": [
    "%%timeit\n",
    "my_kde = EuclideanKDE(kernel=norm_pdf, bandwidth=1).fit(X_digits)"
   ]
  },
  {
   "cell_type": "code",
   "execution_count": 372,
   "metadata": {},
   "outputs": [
    {
     "name": "stdout",
     "output_type": "stream",
     "text": [
      "8.85 ms ± 307 µs per loop (mean ± std. dev. of 7 runs, 100 loops each)\n"
     ]
    }
   ],
   "source": [
    "%%timeit\n",
    "sk_kde = KernelDensity(kernel=\"gaussian\", bandwidth=1).fit(X_digits)"
   ]
  },
  {
   "cell_type": "markdown",
   "metadata": {},
   "source": [
    "`fit` es esencialmente \"gratis\", algunas pocas asignaciones en ambos casos."
   ]
  },
  {
   "cell_type": "code",
   "execution_count": 373,
   "metadata": {},
   "outputs": [],
   "source": [
    "my_kde = EuclideanKDE(kernel=norm_pdf, bandwidth=1).fit(X_digits)\n"
   ]
  },
  {
   "cell_type": "code",
   "execution_count": 374,
   "metadata": {},
   "outputs": [
    {
     "name": "stdout",
     "output_type": "stream",
     "text": [
      "1.44 s ± 219 ms per loop (mean ± std. dev. of 7 runs, 1 loop each)\n"
     ]
    }
   ],
   "source": [
    "%%timeit\n",
    "my_kde.density(X_digits)"
   ]
  },
  {
   "cell_type": "code",
   "execution_count": 375,
   "metadata": {},
   "outputs": [],
   "source": [
    "sk_kde = KernelDensity(kernel=\"gaussian\", bandwidth=1).fit(X_digits)\n"
   ]
  },
  {
   "cell_type": "code",
   "execution_count": 376,
   "metadata": {},
   "outputs": [
    {
     "name": "stdout",
     "output_type": "stream",
     "text": [
      "712 ms ± 41.7 ms per loop (mean ± std. dev. of 7 runs, 1 loop each)\n"
     ]
    }
   ],
   "source": [
    "%%timeit\n",
    "sk_kde.score_samples(X_digits)"
   ]
  },
  {
   "cell_type": "code",
   "execution_count": 377,
   "metadata": {},
   "outputs": [
    {
     "data": {
      "text/plain": [
       "(1797, 64)"
      ]
     },
     "execution_count": 377,
     "metadata": {},
     "output_type": "execute_result"
    }
   ],
   "source": [
    "X_digits.shape\n"
   ]
  },
  {
   "cell_type": "code",
   "execution_count": 378,
   "metadata": {},
   "outputs": [],
   "source": [
    "my_kde = EuclideanKDE(kernel=norm_pdf, bandwidth=1).fit(X_iris)\n"
   ]
  },
  {
   "cell_type": "code",
   "execution_count": 379,
   "metadata": {},
   "outputs": [
    {
     "name": "stdout",
     "output_type": "stream",
     "text": [
      "2.23 ms ± 313 µs per loop (mean ± std. dev. of 7 runs, 100 loops each)\n"
     ]
    }
   ],
   "source": [
    "%%timeit\n",
    "my_kde.density(X_iris)"
   ]
  },
  {
   "cell_type": "code",
   "execution_count": 380,
   "metadata": {},
   "outputs": [],
   "source": [
    "sk_kde = KernelDensity(kernel=\"gaussian\", bandwidth=1).fit(X_iris)\n"
   ]
  },
  {
   "cell_type": "code",
   "execution_count": 381,
   "metadata": {},
   "outputs": [
    {
     "name": "stdout",
     "output_type": "stream",
     "text": [
      "1.51 ms ± 80.5 µs per loop (mean ± std. dev. of 7 runs, 1,000 loops each)\n"
     ]
    }
   ],
   "source": [
    "%%timeit\n",
    "sk_kde.score_samples(X_iris)"
   ]
  },
  {
   "cell_type": "code",
   "execution_count": 388,
   "metadata": {},
   "outputs": [
    {
     "data": {
      "text/plain": [
       "((1797, 64), (150, 4))"
      ]
     },
     "execution_count": 388,
     "metadata": {},
     "output_type": "execute_result"
    }
   ],
   "source": [
    "X_digits.shape, X_iris.shape\n"
   ]
  },
  {
   "cell_type": "markdown",
   "metadata": {},
   "source": [
    "Los resultados para `my_kde`, por ejemplo:\n",
    "```\n",
    "digits: 1.44 s ± 219 ms per loop (mean ± std. dev. of 7 runs, 1 loop each)\n",
    "iris:  2.23 ms ± 313 µs per loop (mean ± std. dev. of 7 runs, 100 loops each)\n",
    "```"
   ]
  },
  {
   "cell_type": "code",
   "execution_count": 390,
   "metadata": {},
   "outputs": [
    {
     "data": {
      "text/plain": [
       "(645.7399103139013, 11.98)"
      ]
     },
     "execution_count": 390,
     "metadata": {},
     "output_type": "execute_result"
    }
   ],
   "source": [
    "1440 / 2.23, 1797 / 150\n"
   ]
  },
  {
   "cell_type": "markdown",
   "metadata": {},
   "source": [
    "Ajustar `digits` toma 645 veces más tiempo que `iris`, con 12 veces más observaciones (pero claro, también 60 dimensiones más).\n"
   ]
  },
  {
   "cell_type": "code",
   "execution_count": 393,
   "metadata": {},
   "outputs": [],
   "source": [
    "my_kde = EuclideanKDE(kernel=norm_pdf, bandwidth=1).fit(X_digits)\n"
   ]
  },
  {
   "cell_type": "code",
   "execution_count": 394,
   "metadata": {},
   "outputs": [
    {
     "name": "stdout",
     "output_type": "stream",
     "text": [
      "1.03 s ± 111 ms per loop (mean ± std. dev. of 7 runs, 1 loop each)\n"
     ]
    }
   ],
   "source": [
    "%%timeit\n",
    "my_kde.density(X_digits)"
   ]
  },
  {
   "cell_type": "code",
   "execution_count": 395,
   "metadata": {},
   "outputs": [
    {
     "name": "stdout",
     "output_type": "stream",
     "text": [
      "91.8 ms ± 745 µs per loop (mean ± std. dev. of 7 runs, 10 loops each)\n"
     ]
    }
   ],
   "source": [
    "%%timeit\n",
    "my_kde.density(X_digits[:180])"
   ]
  },
  {
   "cell_type": "markdown",
   "metadata": {},
   "source": [
    "Parece lineal en `n`."
   ]
  },
  {
   "cell_type": "code",
   "execution_count": 400,
   "metadata": {},
   "outputs": [],
   "source": [
    "my_kde = EuclideanKDE(kernel=norm_pdf, bandwidth=1).fit(X_digits[:, :8])\n"
   ]
  },
  {
   "cell_type": "code",
   "execution_count": 401,
   "metadata": {},
   "outputs": [
    {
     "name": "stdout",
     "output_type": "stream",
     "text": [
      "559 ms ± 363 ms per loop (mean ± std. dev. of 7 runs, 1 loop each)\n"
     ]
    }
   ],
   "source": [
    "%%timeit\n",
    "my_kde.density(X_digits[:,:8])"
   ]
  },
  {
   "cell_type": "code",
   "execution_count": 402,
   "metadata": {},
   "outputs": [],
   "source": [
    "my_kde = EuclideanKDE(kernel=32, bandwidth=1).fit(X_digits[:, :16])\n"
   ]
  },
  {
   "cell_type": "code",
   "execution_count": 403,
   "metadata": {},
   "outputs": [
    {
     "name": "stdout",
     "output_type": "stream",
     "text": [
      "459 ms ± 9.91 ms per loop (mean ± std. dev. of 7 runs, 1 loop each)\n"
     ]
    }
   ],
   "source": [
    "%%timeit\n",
    "my_kde.density(X_digits[:,:16])"
   ]
  },
  {
   "cell_type": "code",
   "execution_count": 404,
   "metadata": {},
   "outputs": [],
   "source": [
    "my_kde = EuclideanKDE(kernel=norm_pdf, bandwidth=1).fit(X_digits[:, :32])\n"
   ]
  },
  {
   "cell_type": "code",
   "execution_count": 405,
   "metadata": {},
   "outputs": [
    {
     "name": "stdout",
     "output_type": "stream",
     "text": [
      "659 ms ± 7.38 ms per loop (mean ± std. dev. of 7 runs, 1 loop each)\n"
     ]
    }
   ],
   "source": [
    "%%timeit\n",
    "my_kde.density(X_digits[:,:32])"
   ]
  },
  {
   "cell_type": "code",
   "execution_count": 412,
   "metadata": {},
   "outputs": [],
   "source": [
    "n_dims = np.linspace(8, 64, 8).astype(int)\n",
    "runs = 4"
   ]
  },
  {
   "cell_type": "code",
   "execution_count": 414,
   "metadata": {},
   "outputs": [],
   "source": [
    "import time"
   ]
  },
  {
   "cell_type": "code",
   "execution_count": 415,
   "metadata": {},
   "outputs": [],
   "source": [
    "results = []\n",
    "for n_dim in n_dims:\n",
    "    X = X_digits[:, :n_dim]\n",
    "    my_kde = EuclideanKDE().fit(X)\n",
    "    for i in range(runs):\n",
    "        t0 = time.time()\n",
    "        my_kde.density(X)\n",
    "        t = time.time() - t0\n",
    "        results.append({\"n_dim\": n_dim, \"run\": i, \"time\": t})"
   ]
  },
  {
   "cell_type": "code",
   "execution_count": 420,
   "metadata": {},
   "outputs": [],
   "source": [
    "res = pd.DataFrame(results)"
   ]
  },
  {
   "cell_type": "code",
   "execution_count": 428,
   "metadata": {},
   "outputs": [],
   "source": [
    "est = LinearRegression().fit(res[[\"n_dim\"]], res.time)"
   ]
  },
  {
   "cell_type": "markdown",
   "metadata": {},
   "source": [
    "est.intercept_, est.coef_"
   ]
  },
  {
   "cell_type": "code",
   "execution_count": null,
   "metadata": {},
   "outputs": [],
   "source": [
    "sns.rega"
   ]
  },
  {
   "cell_type": "code",
   "execution_count": null,
   "metadata": {},
   "outputs": [],
   "source": [
    "sk_kde = KernelDensity(kernel=\"gaussian\", bandwidth=1).fit(X_digits)\n"
   ]
  },
  {
   "cell_type": "code",
   "execution_count": null,
   "metadata": {},
   "outputs": [
    {
     "name": "stdout",
     "output_type": "stream",
     "text": [
      "712 ms ± 41.7 ms per loop (mean ± std. dev. of 7 runs, 1 loop each)\n"
     ]
    }
   ],
   "source": [
    "%%timeit\n",
    "sk_kde.score_samples(X_digits)"
   ]
  },
  {
   "cell_type": "code",
   "execution_count": null,
   "metadata": {},
   "outputs": [],
   "source": [
    "654\n"
   ]
  },
  {
   "cell_type": "code",
   "execution_count": 294,
   "metadata": {},
   "outputs": [
    {
     "data": {
      "text/plain": [
       "2.7568155996140185"
      ]
     },
     "execution_count": 294,
     "metadata": {},
     "output_type": "execute_result"
    }
   ],
   "source": [
    "np.log(N) + est.intercept_\n"
   ]
  },
  {
   "cell_type": "code",
   "execution_count": null,
   "metadata": {},
   "outputs": [],
   "source": [
    "X_digits = load_digits(return_X_y=True)[0]\n"
   ]
  },
  {
   "cell_type": "code",
   "execution_count": 236,
   "metadata": {},
   "outputs": [
    {
     "data": {
      "text/plain": [
       "17.06099545212962"
      ]
     },
     "execution_count": 236,
     "metadata": {},
     "output_type": "execute_result"
    }
   ],
   "source": [
    "np.exp(my_score).sum()\n"
   ]
  },
  {
   "cell_type": "code",
   "execution_count": null,
   "metadata": {},
   "outputs": [
    {
     "data": {
      "text/plain": [
       "<sklearn.neighbors._kd_tree.KDTree at 0x5639ed306b50>"
      ]
     },
     "metadata": {},
     "output_type": "display_data"
    }
   ],
   "source": [
    "sk_kde.tree_\n"
   ]
  },
  {
   "cell_type": "code",
   "execution_count": 237,
   "metadata": {},
   "outputs": [
    {
     "data": {
      "text/plain": [
       "(array([-2.15285911, -2.21996845, -2.21470712, -2.24684872, -2.16204292]),\n",
       " array([1.10623304, 1.03443072, 1.03988754, 1.00699532, 1.09612011]))"
      ]
     },
     "execution_count": 237,
     "metadata": {},
     "output_type": "execute_result"
    }
   ],
   "source": [
    "my_score[:5], sk_kde.tree_.kernel_density(\n",
    "    X[:5], h=sk_kde.bandwidth, kernel=sk_kde.kernel\n",
    ")\n"
   ]
  },
  {
   "cell_type": "code",
   "execution_count": 238,
   "metadata": {},
   "outputs": [
    {
     "data": {
      "text/plain": [
       "array([0.10096059, 0.03385124, 0.03911257, 0.00697097, 0.09177677])"
      ]
     },
     "execution_count": 238,
     "metadata": {},
     "output_type": "execute_result"
    }
   ],
   "source": [
    "sk_score[:5] + np.log(X.shape[0])\n"
   ]
  },
  {
   "cell_type": "code",
   "execution_count": 264,
   "metadata": {},
   "outputs": [
    {
     "data": {
      "text/plain": [
       "(145, 4)"
      ]
     },
     "execution_count": 264,
     "metadata": {},
     "output_type": "execute_result"
    }
   ],
   "source": [
    "tree_data = np.asarray(kde.tree_.data)\n",
    "tree_data.shape\n"
   ]
  },
  {
   "cell_type": "markdown",
   "metadata": {},
   "source": [
    "Cinco puntos desaparecieron, y "
   ]
  },
  {
   "cell_type": "code",
   "execution_count": 271,
   "metadata": {},
   "outputs": [
    {
     "data": {
      "text/plain": [
       "(array([0.55301464, 0.5703963 , 0.48342037, 0.47044125]),\n",
       " array([5.84333333, 3.05733333, 3.758     , 1.19933333]))"
      ]
     },
     "execution_count": 271,
     "metadata": {},
     "output_type": "execute_result"
    }
   ],
   "source": [
    "np.mean(tree_data, axis=0), np.mean(X, axis=0)\n"
   ]
  },
  {
   "cell_type": "code",
   "execution_count": 255,
   "metadata": {},
   "outputs": [
    {
     "data": {
      "text/plain": [
       "array([[4.69790273e-01, 9.05295546e-01, 3.75296730e-01, 8.97348863e-01],\n",
       "       [8.14798904e-01, 6.69860750e-01, 5.98205500e-01, 1.28738071e-01],\n",
       "       [7.61275889e-01, 6.25493307e-01, 7.03226760e-01, 3.48627786e-01],\n",
       "       [5.22524771e-01, 9.14228060e-01, 4.29170960e-01, 8.92362082e-02],\n",
       "       [9.00171829e-01, 5.03865593e-01, 5.23510777e-01, 2.08701614e-01],\n",
       "       [5.84919808e-02, 7.78983032e-01, 6.86334122e-01, 1.41058590e-01],\n",
       "       [7.26367768e-01, 4.92765739e-01, 3.91566571e-01, 1.85248812e-01],\n",
       "       [4.89867391e-01, 1.72741445e-01, 3.60547308e-01, 1.93684521e-01],\n",
       "       [4.58668890e-01, 6.30457949e-01, 5.10296562e-01, 3.18489245e-01],\n",
       "       [8.71832872e-01, 8.77840458e-01, 2.09666384e-01, 3.71537029e-01],\n",
       "       [8.57863919e-01, 8.66606417e-01, 5.01271794e-03, 8.51688342e-01],\n",
       "       [5.69369198e-01, 9.00498933e-01, 1.72649082e-01, 3.20866756e-01],\n",
       "       [9.11906052e-01, 9.00203344e-01, 1.59459117e-01, 7.16674015e-01],\n",
       "       [6.46557128e-01, 6.75072358e-01, 7.55012567e-01, 8.52765751e-01],\n",
       "       [8.47966671e-01, 2.37888309e-01, 6.63885960e-01, 4.57106182e-01],\n",
       "       [9.07914691e-01, 3.23412585e-01, 8.45144571e-01, 4.77173271e-01],\n",
       "       [5.38352174e-01, 2.99484532e-01, 3.31271563e-01, 8.41507332e-01],\n",
       "       [4.10329244e-01, 8.02733157e-01, 4.71561959e-01, 4.02250187e-01],\n",
       "       [5.81361603e-01, 2.12362059e-01, 5.94598826e-01, 8.82780682e-01],\n",
       "       [2.32445367e-01, 4.39045100e-01, 4.75613273e-01, 4.44099310e-01],\n",
       "       [2.41836283e-01, 9.84970822e-01, 5.63443728e-01, 7.59856236e-01],\n",
       "       [6.39386502e-01, 3.16436433e-02, 5.51732106e-01, 2.55492826e-01],\n",
       "       [7.99592775e-01, 9.37406941e-01, 6.38054125e-01, 3.70574881e-01],\n",
       "       [8.33655240e-01, 9.68895518e-01, 4.00179261e-01, 9.62235724e-01],\n",
       "       [3.75407449e-01, 1.01395751e-01, 3.94592043e-01, 3.10294283e-01],\n",
       "       [1.37593969e-01, 2.37395573e-01, 2.76469105e-01, 2.96499682e-01],\n",
       "       [1.94954105e-01, 3.11005151e-01, 3.47318633e-01, 2.63279527e-01],\n",
       "       [9.48846982e-01, 4.17236184e-01, 5.46008999e-01, 9.32565816e-01],\n",
       "       [1.55280238e-01, 9.61393282e-01, 7.27153378e-01, 6.07838132e-01],\n",
       "       [9.19991455e-01, 5.99914269e-01, 9.28738984e-02, 1.89235395e-01],\n",
       "       [6.96023293e-01, 8.40048546e-01, 4.08255384e-01, 6.97090734e-01],\n",
       "       [7.64171508e-01, 6.25153645e-01, 5.57318118e-01, 3.34920588e-01],\n",
       "       [4.42315045e-01, 8.37764035e-01, 7.80551191e-01, 4.44351716e-02],\n",
       "       [2.26807250e-01, 8.49768709e-01, 2.63272498e-03, 1.34225011e-01],\n",
       "       [5.83448215e-01, 6.06673666e-01, 8.58653241e-01, 1.36028765e-01],\n",
       "       [4.19619068e-01, 9.62190409e-01, 3.54209180e-01, 2.55236971e-01],\n",
       "       [3.16869964e-01, 9.29846743e-01, 3.58486864e-01, 8.58934924e-01],\n",
       "       [3.16684376e-01, 9.48582002e-01, 8.90045302e-02, 9.69869973e-01],\n",
       "       [1.01665533e-01, 9.78904095e-01, 9.87198689e-01, 5.48635567e-01],\n",
       "       [3.57378190e-01, 8.65714686e-01, 4.85125353e-01, 3.26028088e-01],\n",
       "       [7.84231982e-01, 4.81586045e-01, 8.46184661e-01, 7.12718601e-01],\n",
       "       [3.60572894e-01, 8.17566801e-01, 9.32369686e-01, 5.73056173e-02],\n",
       "       [1.62035989e-01, 4.67635242e-02, 2.41723713e-01, 7.13918474e-01],\n",
       "       [7.78066134e-01, 3.26838519e-01, 4.86206637e-01, 4.44053790e-01],\n",
       "       [5.20386664e-01, 3.46675654e-01, 7.57419668e-01, 5.60961542e-01],\n",
       "       [4.05306714e-01, 6.03518204e-01, 5.67009678e-01, 2.77697170e-01],\n",
       "       [4.99312616e-01, 7.24059727e-01, 2.73228647e-01, 3.03259338e-01],\n",
       "       [4.16628597e-01, 5.56459666e-01, 6.92299432e-01, 3.62343207e-01],\n",
       "       [2.95299862e-01, 6.76103118e-01, 3.58706406e-01, 1.54473456e-01],\n",
       "       [2.36059014e-01, 1.16350761e-01, 5.55346785e-01, 9.54217466e-01],\n",
       "       [9.12046741e-01, 9.30986394e-01, 3.44903541e-01, 5.66372553e-01],\n",
       "       [5.04380660e-01, 6.37720677e-01, 2.06255769e-01, 4.20425085e-01],\n",
       "       [5.50841538e-01, 8.57818799e-01, 9.79630184e-01, 8.23664641e-01],\n",
       "       [8.20147302e-01, 7.03936045e-01, 4.41812814e-01, 6.57769724e-01],\n",
       "       [6.41062476e-01, 9.17245274e-01, 7.57360498e-01, 4.75147110e-01],\n",
       "       [5.13460802e-01, 8.92337317e-01, 3.12688895e-01, 7.28312824e-01],\n",
       "       [6.47365315e-01, 3.42013217e-01, 1.28859044e-01, 7.03786550e-02],\n",
       "       [9.15425293e-01, 9.61098319e-01, 5.91092984e-01, 5.94461655e-01],\n",
       "       [8.91612146e-01, 9.24108237e-01, 3.22034088e-01, 6.79405616e-01],\n",
       "       [8.86512230e-01, 6.60495073e-01, 8.23100747e-01, 9.73640069e-01],\n",
       "       [7.58921055e-01, 4.95933489e-01, 6.60520895e-01, 1.19223197e-01],\n",
       "       [1.24080461e-01, 8.40294302e-01, 4.27113994e-01, 6.43103552e-01],\n",
       "       [7.98624300e-01, 4.00527304e-01, 5.76070467e-01, 9.62291778e-01],\n",
       "       [3.74000253e-01, 2.73413919e-01, 4.68211446e-01, 9.26873093e-01],\n",
       "       [7.28549256e-01, 1.51632586e-01, 3.68043638e-01, 2.64161639e-01],\n",
       "       [9.87592711e-01, 7.52101490e-01, 6.27088282e-01, 3.99397098e-02],\n",
       "       [1.14245709e-01, 4.72936765e-01, 5.88523533e-01, 1.90966620e-01],\n",
       "       [1.06942058e-01, 6.59023972e-01, 8.76936605e-01, 1.69543057e-01],\n",
       "       [4.69075214e-01, 9.43430063e-01, 6.85544188e-01, 4.63271148e-01],\n",
       "       [7.39871660e-01, 5.86986656e-01, 7.40514796e-01, 5.69642141e-01],\n",
       "       [5.55880299e-01, 2.87035769e-01, 3.71495887e-02, 1.29244072e-02],\n",
       "       [9.44954265e-01, 2.12677103e-01, 4.79792612e-01, 1.18782304e-01],\n",
       "       [2.23382183e-01, 4.17527155e-01, 1.70238861e-01, 1.96815715e-01],\n",
       "       [1.94174208e-02, 7.40471229e-01, 7.40689469e-01, 4.68151691e-01],\n",
       "       [7.56312840e-01, 3.71296815e-01, 6.88918735e-01, 3.77809276e-02],\n",
       "       [1.01414054e-01, 2.36356570e-02, 3.36432152e-01, 1.10341486e-01],\n",
       "       [2.00475745e-01, 4.53005736e-01, 4.88066669e-01, 2.95578794e-01],\n",
       "       [2.58643366e-01, 7.65703251e-01, 9.03681290e-01, 1.64161307e-01],\n",
       "       [8.28732907e-01, 6.39247237e-01, 8.03985452e-01, 2.90823321e-01],\n",
       "       [4.10251468e-01, 1.41150413e-01, 1.43055255e-01, 4.91420572e-01],\n",
       "       [7.25265964e-01, 9.31342551e-01, 1.16719179e-01, 6.26620379e-01],\n",
       "       [9.11746573e-01, 7.75721945e-01, 9.73962240e-01, 4.35511367e-01],\n",
       "       [3.53558539e-01, 1.29660794e-01, 3.66104028e-01, 1.25234695e-01],\n",
       "       [8.72036646e-01, 3.84337668e-01, 9.16745293e-01, 9.54288721e-01],\n",
       "       [6.22963312e-01, 9.84377724e-01, 8.78608666e-01, 5.04630610e-01],\n",
       "       [2.85543473e-01, 5.27807497e-01, 4.11066328e-01, 3.98816873e-01],\n",
       "       [5.43119506e-01, 4.49720081e-02, 1.81953635e-01, 3.95838824e-01],\n",
       "       [7.72618703e-01, 3.79717334e-01, 5.78566707e-01, 8.85001128e-02],\n",
       "       [6.52491590e-01, 7.80750526e-02, 2.21933588e-01, 7.94047473e-01],\n",
       "       [8.85691070e-03, 8.13627594e-01, 4.47867333e-01, 6.35888454e-01],\n",
       "       [9.75081936e-01, 9.40870898e-01, 7.95080222e-01, 9.13787742e-01],\n",
       "       [4.07690134e-01, 4.39875077e-01, 6.52043487e-01, 2.86567452e-01],\n",
       "       [5.10817652e-01, 9.17559387e-01, 9.65559496e-01, 5.02784393e-01],\n",
       "       [7.29377292e-02, 8.38917362e-01, 5.90344568e-01, 8.98444390e-01],\n",
       "       [9.30485027e-01, 4.76943435e-01, 6.48789892e-01, 7.55068813e-02],\n",
       "       [9.13622614e-01, 1.14049374e-01, 9.31630582e-01, 1.67688505e-01],\n",
       "       [8.86928996e-01, 6.33349193e-01, 2.93065234e-01, 7.08695912e-01],\n",
       "       [5.39979850e-01, 7.82629134e-01, 9.87701588e-02, 1.02078970e-01],\n",
       "       [6.93638196e-01, 2.41020944e-01, 2.26732670e-01, 3.24568788e-02],\n",
       "       [5.31109248e-01, 7.97023177e-01, 4.25419006e-01, 7.63137181e-01],\n",
       "       [3.73348319e-01, 8.01214010e-01, 7.36005629e-02, 5.58758080e-01],\n",
       "       [2.52562808e-01, 7.94958057e-01, 1.02004897e-01, 1.08521286e-02],\n",
       "       [6.87866503e-01, 8.70640103e-01, 4.66467464e-01, 1.99121523e-01],\n",
       "       [9.12014943e-01, 8.30886215e-02, 9.81175521e-01, 2.35544172e-04],\n",
       "       [9.38766257e-01, 7.96858320e-01, 3.05890025e-01, 8.51168631e-01],\n",
       "       [7.14803072e-01, 2.99865214e-01, 6.69312786e-01, 3.86433545e-01],\n",
       "       [8.67865295e-01, 1.15311084e-01, 9.39186860e-01, 9.11752057e-01],\n",
       "       [2.38767313e-01, 2.66156406e-01, 6.01886622e-01, 8.47564441e-01],\n",
       "       [4.97134123e-01, 5.71451759e-01, 3.36725004e-01, 9.44584440e-01],\n",
       "       [1.79594450e-01, 7.64447776e-01, 6.81319018e-01, 9.38890595e-02],\n",
       "       [3.72081971e-01, 5.12735132e-01, 6.52240403e-01, 8.46322097e-01],\n",
       "       [7.27014283e-01, 5.32467163e-01, 3.66494996e-01, 7.85978992e-01],\n",
       "       [4.16771435e-01, 4.19361381e-01, 1.56213674e-01, 3.09971189e-01],\n",
       "       [3.52067462e-01, 4.53957531e-02, 8.15674666e-01, 6.84427342e-01],\n",
       "       [7.87854351e-01, 4.18271775e-01, 9.84644368e-02, 5.54714266e-01],\n",
       "       [3.20330115e-01, 5.29233809e-01, 3.64330899e-01, 8.36211814e-01],\n",
       "       [3.55611544e-02, 2.01321150e-01, 8.10065596e-01, 1.06998573e-01],\n",
       "       [5.59362495e-01, 1.75858671e-01, 6.94301633e-01, 5.88214999e-02],\n",
       "       [2.58260162e-01, 1.30417210e-01, 7.32429297e-01, 5.77175556e-01],\n",
       "       [8.62635082e-01, 8.16484147e-01, 1.39358779e-01, 4.65523043e-01],\n",
       "       [9.91610474e-01, 6.60433147e-02, 2.65664335e-01, 8.47642213e-03],\n",
       "       [7.33198788e-01, 2.69818304e-01, 6.49170994e-01, 8.30892258e-01],\n",
       "       [9.67483172e-01, 3.28521317e-01, 4.46436860e-01, 2.01921760e-01],\n",
       "       [4.97290597e-01, 9.68680384e-01, 4.57692679e-01, 3.38783686e-01],\n",
       "       [7.48546518e-01, 3.19133888e-01, 1.40513086e-01, 7.30901977e-01],\n",
       "       [1.97543084e-01, 1.79848896e-01, 3.00434145e-01, 8.64761746e-01],\n",
       "       [9.04954384e-01, 1.77136188e-03, 6.20964000e-01, 2.88625656e-01],\n",
       "       [2.87029849e-01, 6.12143327e-01, 8.50576601e-02, 9.66577465e-01],\n",
       "       [3.35429505e-01, 4.98856536e-01, 2.71995882e-01, 3.21372131e-01],\n",
       "       [9.97630200e-01, 8.13071292e-01, 2.44705040e-01, 4.59172013e-01],\n",
       "       [5.51748445e-03, 9.57346029e-01, 2.38360700e-01, 8.66275828e-01],\n",
       "       [4.25617281e-01, 9.77091550e-01, 8.92083385e-03, 1.45455602e-01],\n",
       "       [4.94998281e-01, 7.63958131e-01, 8.82618842e-02, 9.75044021e-01],\n",
       "       [8.90291326e-01, 7.70274656e-01, 2.58606456e-01, 1.77129519e-01],\n",
       "       [3.70527400e-01, 9.25070771e-01, 9.98412798e-02, 4.74570020e-01],\n",
       "       [8.94266932e-01, 6.21988874e-01, 6.18914445e-01, 8.39108427e-01],\n",
       "       [4.86103983e-01, 2.10001668e-01, 9.89722221e-01, 9.11504454e-01],\n",
       "       [3.87668825e-01, 8.03004606e-01, 9.72338285e-01, 3.55009026e-01],\n",
       "       [4.83487913e-01, 9.67132194e-02, 4.88605272e-01, 6.32548767e-01],\n",
       "       [3.56415290e-01, 4.24524111e-01, 7.37783634e-01, 4.91724568e-01],\n",
       "       [7.41112397e-01, 8.39550493e-01, 1.07575494e-01, 5.55187848e-01],\n",
       "       [9.69502152e-01, 8.88966110e-01, 2.16307095e-01, 8.11061942e-01],\n",
       "       [4.56052408e-01, 9.34633444e-01, 2.78202915e-01, 6.13724885e-01],\n",
       "       [1.63027310e-01, 4.79852767e-01, 2.52249647e-01, 2.93978927e-01],\n",
       "       [5.45157243e-01, 2.02727419e-01, 4.39419153e-01, 1.69958892e-01]])"
      ]
     },
     "execution_count": 255,
     "metadata": {},
     "output_type": "execute_result"
    }
   ],
   "source": [
    "[[kde.tree_.data[i, j] for j in range(d)] for i in range(145)]\n"
   ]
  },
  {
   "cell_type": "code",
   "execution_count": 180,
   "metadata": {},
   "outputs": [
    {
     "data": {
      "text/plain": [
       "array([[0.08394124, 0.08394124],\n",
       "       [0.08394124, 0.08394124]])"
      ]
     },
     "execution_count": 180,
     "metadata": {},
     "output_type": "execute_result"
    }
   ],
   "source": [
    "np.cov(mykde.density(X), skkde.score_samples(X))\n"
   ]
  },
  {
   "cell_type": "code",
   "execution_count": 112,
   "metadata": {},
   "outputs": [
    {
     "name": "stdout",
     "output_type": "stream",
     "text": [
      "-2.6408225635111795 -5.4628583146095\n",
      "-1.9260858117441415 -2.029721972662416\n"
     ]
    }
   ],
   "source": [
    "X, _ = load_iris(return_X_y=True)\n",
    "n, d = X.shape\n",
    "test_size = 90\n",
    "runs = 100\n",
    "datasets = {\"iris\": X, \"unif(0, 1)\": np.random.random_sample((n, d))}\n",
    "results = {name: np.empty(runs) for name in datasets}\n",
    "for name, X in datasets.items():\n",
    "    X_train, X_test = train_test_split(X, test_size=test_size)\n",
    "    kde = KernelDensity(kernel=\"gaussian\", bandwidth=0.5).fit(X[:test_size])\n",
    "    log_density = kde.score_samples(X)\n",
    "    results[name][i] = log_density[:test_size].mean() > log_density[test_size:].mean()\n",
    "    print(log_density[:test_size].mean(), log_density[test_size:].mean())\n"
   ]
  },
  {
   "cell_type": "code",
   "execution_count": 101,
   "metadata": {},
   "outputs": [],
   "source": [
    "df = pd.DataFrame(results)\n"
   ]
  },
  {
   "cell_type": "code",
   "execution_count": 102,
   "metadata": {},
   "outputs": [
    {
     "data": {
      "text/html": [
       "<div>\n",
       "<style scoped>\n",
       "    .dataframe tbody tr th:only-of-type {\n",
       "        vertical-align: middle;\n",
       "    }\n",
       "\n",
       "    .dataframe tbody tr th {\n",
       "        vertical-align: top;\n",
       "    }\n",
       "\n",
       "    .dataframe thead th {\n",
       "        text-align: right;\n",
       "    }\n",
       "</style>\n",
       "<table border=\"1\" class=\"dataframe\">\n",
       "  <thead>\n",
       "    <tr style=\"text-align: right;\">\n",
       "      <th></th>\n",
       "      <th>iris</th>\n",
       "      <th>unif(0, 1)</th>\n",
       "    </tr>\n",
       "  </thead>\n",
       "  <tbody>\n",
       "    <tr>\n",
       "      <th>0</th>\n",
       "      <td>1.0</td>\n",
       "      <td>1.0</td>\n",
       "    </tr>\n",
       "    <tr>\n",
       "      <th>1</th>\n",
       "      <td>1.0</td>\n",
       "      <td>1.0</td>\n",
       "    </tr>\n",
       "    <tr>\n",
       "      <th>2</th>\n",
       "      <td>1.0</td>\n",
       "      <td>1.0</td>\n",
       "    </tr>\n",
       "    <tr>\n",
       "      <th>3</th>\n",
       "      <td>1.0</td>\n",
       "      <td>1.0</td>\n",
       "    </tr>\n",
       "    <tr>\n",
       "      <th>4</th>\n",
       "      <td>1.0</td>\n",
       "      <td>1.0</td>\n",
       "    </tr>\n",
       "  </tbody>\n",
       "</table>\n",
       "</div>"
      ],
      "text/plain": [
       "   iris  unif(0, 1)\n",
       "0   1.0         1.0\n",
       "1   1.0         1.0\n",
       "2   1.0         1.0\n",
       "3   1.0         1.0\n",
       "4   1.0         1.0"
      ]
     },
     "execution_count": 102,
     "metadata": {},
     "output_type": "execute_result"
    }
   ],
   "source": [
    "df.head()\n"
   ]
  },
  {
   "cell_type": "code",
   "execution_count": null,
   "metadata": {},
   "outputs": [],
   "source": []
  },
  {
   "cell_type": "code",
   "execution_count": null,
   "metadata": {},
   "outputs": [
    {
     "data": {
      "text/plain": [
       "-1.5125346689189925"
      ]
     },
     "metadata": {},
     "output_type": "display_data"
    }
   ],
   "source": [
    "kde.score_samples(X[:80]).mean()\n"
   ]
  },
  {
   "cell_type": "code",
   "execution_count": 2,
   "metadata": {},
   "outputs": [
    {
     "ename": "NameError",
     "evalue": "name 'rnd' is not defined",
     "output_type": "error",
     "traceback": [
      "\u001b[0;31m---------------------------------------------------------------------------\u001b[0m",
      "\u001b[0;31mNameError\u001b[0m                                 Traceback (most recent call last)",
      "\u001b[1;32m/home/gonzalo/maestria/fermat/1. A Simple Kernel Density Classifier.ipynb Cell 5'\u001b[0m in \u001b[0;36m<cell line: 1>\u001b[0;34m()\u001b[0m\n\u001b[0;32m----> <a href='vscode-notebook-cell:/home/gonzalo/maestria/fermat/1.%20A%20Simple%20Kernel%20Density%20Classifier.ipynb#ch0000084?line=0'>1</a>\u001b[0m rnd\u001b[39m.\u001b[39mrandom_sample((\u001b[39m100\u001b[39m, \u001b[39m3\u001b[39m))\n",
      "\u001b[0;31mNameError\u001b[0m: name 'rnd' is not defined"
     ]
    }
   ],
   "source": [
    "rang.random_sample((100, 3))\n"
   ]
  },
  {
   "cell_type": "code",
   "execution_count": 20,
   "metadata": {},
   "outputs": [],
   "source": [
    "from numpy import random as rnd\n",
    "import seaborn as sns\n"
   ]
  },
  {
   "cell_type": "code",
   "execution_count": 21,
   "metadata": {},
   "outputs": [
    {
     "data": {
      "text/plain": [
       "(array([0.        , 0.13747014, 0.16176776, 0.21681768, 1.        ]),\n",
       " array([[0.        , 0.13747014, 0.16176776, 0.21681768, 1.        ],\n",
       "        [0.        , 0.30973127, 0.78220502, 0.93310863, 1.        ],\n",
       "        [0.        , 0.36343099, 0.57336083, 0.58200787, 1.        ],\n",
       "        [0.        , 0.18372278, 0.64448452, 0.79243908, 1.        ],\n",
       "        [0.        , 0.09424641, 0.42097325, 0.87516268, 1.        ]]))"
      ]
     },
     "execution_count": 21,
     "metadata": {},
     "output_type": "execute_result"
    }
   ],
   "source": [
    "A = rnd.rand(100, 3)\n",
    "A.sort(axis=1)\n",
    "A = np.column_stack([np.zeros_like(A[:, 0]), A, np.ones_like(A[:, 0])])\n",
    "a = A[0]\n",
    "a, A[\n",
    "    :5,\n",
    "]\n"
   ]
  },
  {
   "cell_type": "code",
   "execution_count": 22,
   "metadata": {},
   "outputs": [],
   "source": [
    "def fermat_dist(x, alpha=1):\n",
    "    \"\"\"Fermat alpha-distance between `x_0` and `x_k`, in the line graph with nodes at `x = (x_1, ..., x_k)`.\"\"\"\n",
    "    return ((x[1:] - x[:-1]) ** alpha).sum()\n"
   ]
  },
  {
   "cell_type": "code",
   "execution_count": 23,
   "metadata": {},
   "outputs": [
    {
     "data": {
      "text/plain": [
       "-49.56724"
      ]
     },
     "execution_count": 23,
     "metadata": {},
     "output_type": "execute_result"
    }
   ],
   "source": [
    "np.apply_along_axis(fermat_dist, axis=1, arr=X, alpha=3).mean()\n"
   ]
  },
  {
   "cell_type": "code",
   "execution_count": 24,
   "metadata": {},
   "outputs": [],
   "source": [
    "sample_size = 1000\n",
    "scales = [1 / 10, 1 / 2, 1, 2, 10]\n",
    "alphas = np.linspace(1, 4, 7)\n",
    "ks = [1, 2, 5, 10]\n",
    "results = []\n",
    "for k in ks:\n",
    "    A = rnd.rand(sample_size, k)\n",
    "    A.sort(axis=1)\n",
    "    A = np.column_stack([np.zeros_like(A[:, 0]), A, np.ones_like(A[:, 0])])\n",
    "    for scale in scales:\n",
    "        for alpha in alphas:\n",
    "            results.append(\n",
    "                dict(\n",
    "                    k=k,\n",
    "                    alpha=alpha,\n",
    "                    scale=scale,\n",
    "                    dists=np.apply_along_axis(\n",
    "                        fermat_dist, axis=1, arr=scale * A, alpha=alpha\n",
    "                    ),\n",
    "                )\n",
    "            )\n"
   ]
  },
  {
   "cell_type": "code",
   "execution_count": 25,
   "metadata": {},
   "outputs": [],
   "source": [
    "df = pd.DataFrame(results)\n"
   ]
  },
  {
   "cell_type": "code",
   "execution_count": 26,
   "metadata": {},
   "outputs": [],
   "source": [
    "df[\"mean_dist\"] = df.dists.apply(np.mean)\n",
    "df[\"scaled_dist\"] = df.mean_dist / (df.scale**df.alpha)\n"
   ]
  },
  {
   "cell_type": "code",
   "execution_count": 27,
   "metadata": {},
   "outputs": [
    {
     "data": {
      "text/html": [
       "<div>\n",
       "<style scoped>\n",
       "    .dataframe tbody tr th:only-of-type {\n",
       "        vertical-align: middle;\n",
       "    }\n",
       "\n",
       "    .dataframe tbody tr th {\n",
       "        vertical-align: top;\n",
       "    }\n",
       "\n",
       "    .dataframe thead th {\n",
       "        text-align: right;\n",
       "    }\n",
       "</style>\n",
       "<table border=\"1\" class=\"dataframe\">\n",
       "  <thead>\n",
       "    <tr style=\"text-align: right;\">\n",
       "      <th></th>\n",
       "      <th>k</th>\n",
       "      <th>alpha</th>\n",
       "      <th>scale</th>\n",
       "      <th>dists</th>\n",
       "      <th>mean_dist</th>\n",
       "      <th>scaled_dist</th>\n",
       "    </tr>\n",
       "  </thead>\n",
       "  <tbody>\n",
       "    <tr>\n",
       "      <th>0</th>\n",
       "      <td>1</td>\n",
       "      <td>1.0</td>\n",
       "      <td>0.1</td>\n",
       "      <td>[0.1, 0.1, 0.1, 0.1, 0.1, 0.1, 0.1, 0.1, 0.1, ...</td>\n",
       "      <td>0.100000</td>\n",
       "      <td>1.000000</td>\n",
       "    </tr>\n",
       "    <tr>\n",
       "      <th>1</th>\n",
       "      <td>1</td>\n",
       "      <td>1.5</td>\n",
       "      <td>0.1</td>\n",
       "      <td>[0.024085998294553053, 0.025569245663161606, 0...</td>\n",
       "      <td>0.025230</td>\n",
       "      <td>0.797830</td>\n",
       "    </tr>\n",
       "    <tr>\n",
       "      <th>2</th>\n",
       "      <td>1</td>\n",
       "      <td>2.0</td>\n",
       "      <td>0.1</td>\n",
       "      <td>[0.006015062163384771, 0.006864077914275903, 0...</td>\n",
       "      <td>0.006630</td>\n",
       "      <td>0.662994</td>\n",
       "    </tr>\n",
       "    <tr>\n",
       "      <th>3</th>\n",
       "      <td>1</td>\n",
       "      <td>2.5</td>\n",
       "      <td>0.1</td>\n",
       "      <td>[0.001541763270979389, 0.0018931842737626072, ...</td>\n",
       "      <td>0.001792</td>\n",
       "      <td>0.566705</td>\n",
       "    </tr>\n",
       "    <tr>\n",
       "      <th>4</th>\n",
       "      <td>1</td>\n",
       "      <td>3.0</td>\n",
       "      <td>0.1</td>\n",
       "      <td>[0.00040225932450771565, 0.0005296116871413854...</td>\n",
       "      <td>0.000494</td>\n",
       "      <td>0.494491</td>\n",
       "    </tr>\n",
       "  </tbody>\n",
       "</table>\n",
       "</div>"
      ],
      "text/plain": [
       "   k  alpha  scale                                              dists  \\\n",
       "0  1    1.0    0.1  [0.1, 0.1, 0.1, 0.1, 0.1, 0.1, 0.1, 0.1, 0.1, ...   \n",
       "1  1    1.5    0.1  [0.024085998294553053, 0.025569245663161606, 0...   \n",
       "2  1    2.0    0.1  [0.006015062163384771, 0.006864077914275903, 0...   \n",
       "3  1    2.5    0.1  [0.001541763270979389, 0.0018931842737626072, ...   \n",
       "4  1    3.0    0.1  [0.00040225932450771565, 0.0005296116871413854...   \n",
       "\n",
       "   mean_dist  scaled_dist  \n",
       "0   0.100000     1.000000  \n",
       "1   0.025230     0.797830  \n",
       "2   0.006630     0.662994  \n",
       "3   0.001792     0.566705  \n",
       "4   0.000494     0.494491  "
      ]
     },
     "execution_count": 27,
     "metadata": {},
     "output_type": "execute_result"
    }
   ],
   "source": [
    "df.head()\n"
   ]
  },
  {
   "cell_type": "code",
   "execution_count": 28,
   "metadata": {},
   "outputs": [
    {
     "data": {
      "text/html": [
       "<div>\n",
       "<style scoped>\n",
       "    .dataframe tbody tr th:only-of-type {\n",
       "        vertical-align: middle;\n",
       "    }\n",
       "\n",
       "    .dataframe tbody tr th {\n",
       "        vertical-align: top;\n",
       "    }\n",
       "\n",
       "    .dataframe thead th {\n",
       "        text-align: right;\n",
       "    }\n",
       "</style>\n",
       "<table border=\"1\" class=\"dataframe\">\n",
       "  <thead>\n",
       "    <tr style=\"text-align: right;\">\n",
       "      <th>scale</th>\n",
       "      <th>0.1</th>\n",
       "      <th>0.5</th>\n",
       "      <th>1.0</th>\n",
       "      <th>2.0</th>\n",
       "      <th>10.0</th>\n",
       "    </tr>\n",
       "    <tr>\n",
       "      <th>alpha</th>\n",
       "      <th></th>\n",
       "      <th></th>\n",
       "      <th></th>\n",
       "      <th></th>\n",
       "      <th></th>\n",
       "    </tr>\n",
       "  </thead>\n",
       "  <tbody>\n",
       "    <tr>\n",
       "      <th>1.0</th>\n",
       "      <td>0.100</td>\n",
       "      <td>0.500</td>\n",
       "      <td>1.000</td>\n",
       "      <td>2.000</td>\n",
       "      <td>10.000</td>\n",
       "    </tr>\n",
       "    <tr>\n",
       "      <th>1.5</th>\n",
       "      <td>0.025</td>\n",
       "      <td>0.282</td>\n",
       "      <td>0.798</td>\n",
       "      <td>2.257</td>\n",
       "      <td>25.230</td>\n",
       "    </tr>\n",
       "    <tr>\n",
       "      <th>2.0</th>\n",
       "      <td>0.007</td>\n",
       "      <td>0.166</td>\n",
       "      <td>0.663</td>\n",
       "      <td>2.652</td>\n",
       "      <td>66.299</td>\n",
       "    </tr>\n",
       "    <tr>\n",
       "      <th>2.5</th>\n",
       "      <td>0.002</td>\n",
       "      <td>0.100</td>\n",
       "      <td>0.567</td>\n",
       "      <td>3.206</td>\n",
       "      <td>179.208</td>\n",
       "    </tr>\n",
       "    <tr>\n",
       "      <th>3.0</th>\n",
       "      <td>0.000</td>\n",
       "      <td>0.062</td>\n",
       "      <td>0.494</td>\n",
       "      <td>3.956</td>\n",
       "      <td>494.491</td>\n",
       "    </tr>\n",
       "    <tr>\n",
       "      <th>3.5</th>\n",
       "      <td>0.000</td>\n",
       "      <td>0.039</td>\n",
       "      <td>0.438</td>\n",
       "      <td>4.959</td>\n",
       "      <td>1386.070</td>\n",
       "    </tr>\n",
       "    <tr>\n",
       "      <th>4.0</th>\n",
       "      <td>0.000</td>\n",
       "      <td>0.025</td>\n",
       "      <td>0.393</td>\n",
       "      <td>6.294</td>\n",
       "      <td>3933.587</td>\n",
       "    </tr>\n",
       "  </tbody>\n",
       "</table>\n",
       "</div>"
      ],
      "text/plain": [
       "scale   0.1    0.5    1.0    2.0       10.0\n",
       "alpha                                      \n",
       "1.0    0.100  0.500  1.000  2.000    10.000\n",
       "1.5    0.025  0.282  0.798  2.257    25.230\n",
       "2.0    0.007  0.166  0.663  2.652    66.299\n",
       "2.5    0.002  0.100  0.567  3.206   179.208\n",
       "3.0    0.000  0.062  0.494  3.956   494.491\n",
       "3.5    0.000  0.039  0.438  4.959  1386.070\n",
       "4.0    0.000  0.025  0.393  6.294  3933.587"
      ]
     },
     "execution_count": 28,
     "metadata": {},
     "output_type": "execute_result"
    }
   ],
   "source": [
    "df[df.k == 1].pivot(\"alpha\", \"scale\", \"mean_dist\").round(3)\n"
   ]
  },
  {
   "cell_type": "code",
   "execution_count": 29,
   "metadata": {},
   "outputs": [
    {
     "data": {
      "text/html": [
       "<div>\n",
       "<style scoped>\n",
       "    .dataframe tbody tr th:only-of-type {\n",
       "        vertical-align: middle;\n",
       "    }\n",
       "\n",
       "    .dataframe tbody tr th {\n",
       "        vertical-align: top;\n",
       "    }\n",
       "\n",
       "    .dataframe thead th {\n",
       "        text-align: right;\n",
       "    }\n",
       "</style>\n",
       "<table border=\"1\" class=\"dataframe\">\n",
       "  <thead>\n",
       "    <tr style=\"text-align: right;\">\n",
       "      <th>scale</th>\n",
       "      <th>0.1</th>\n",
       "      <th>0.5</th>\n",
       "      <th>1.0</th>\n",
       "      <th>2.0</th>\n",
       "      <th>10.0</th>\n",
       "    </tr>\n",
       "    <tr>\n",
       "      <th>alpha</th>\n",
       "      <th></th>\n",
       "      <th></th>\n",
       "      <th></th>\n",
       "      <th></th>\n",
       "      <th></th>\n",
       "    </tr>\n",
       "  </thead>\n",
       "  <tbody>\n",
       "    <tr>\n",
       "      <th>1.0</th>\n",
       "      <td>1.000</td>\n",
       "      <td>1.000</td>\n",
       "      <td>1.000</td>\n",
       "      <td>1.000</td>\n",
       "      <td>1.000</td>\n",
       "    </tr>\n",
       "    <tr>\n",
       "      <th>1.5</th>\n",
       "      <td>0.798</td>\n",
       "      <td>0.798</td>\n",
       "      <td>0.798</td>\n",
       "      <td>0.798</td>\n",
       "      <td>0.798</td>\n",
       "    </tr>\n",
       "    <tr>\n",
       "      <th>2.0</th>\n",
       "      <td>0.663</td>\n",
       "      <td>0.663</td>\n",
       "      <td>0.663</td>\n",
       "      <td>0.663</td>\n",
       "      <td>0.663</td>\n",
       "    </tr>\n",
       "    <tr>\n",
       "      <th>2.5</th>\n",
       "      <td>0.567</td>\n",
       "      <td>0.567</td>\n",
       "      <td>0.567</td>\n",
       "      <td>0.567</td>\n",
       "      <td>0.567</td>\n",
       "    </tr>\n",
       "    <tr>\n",
       "      <th>3.0</th>\n",
       "      <td>0.494</td>\n",
       "      <td>0.494</td>\n",
       "      <td>0.494</td>\n",
       "      <td>0.494</td>\n",
       "      <td>0.494</td>\n",
       "    </tr>\n",
       "    <tr>\n",
       "      <th>3.5</th>\n",
       "      <td>0.438</td>\n",
       "      <td>0.438</td>\n",
       "      <td>0.438</td>\n",
       "      <td>0.438</td>\n",
       "      <td>0.438</td>\n",
       "    </tr>\n",
       "    <tr>\n",
       "      <th>4.0</th>\n",
       "      <td>0.393</td>\n",
       "      <td>0.393</td>\n",
       "      <td>0.393</td>\n",
       "      <td>0.393</td>\n",
       "      <td>0.393</td>\n",
       "    </tr>\n",
       "  </tbody>\n",
       "</table>\n",
       "</div>"
      ],
      "text/plain": [
       "scale   0.1    0.5    1.0    2.0    10.0\n",
       "alpha                                   \n",
       "1.0    1.000  1.000  1.000  1.000  1.000\n",
       "1.5    0.798  0.798  0.798  0.798  0.798\n",
       "2.0    0.663  0.663  0.663  0.663  0.663\n",
       "2.5    0.567  0.567  0.567  0.567  0.567\n",
       "3.0    0.494  0.494  0.494  0.494  0.494\n",
       "3.5    0.438  0.438  0.438  0.438  0.438\n",
       "4.0    0.393  0.393  0.393  0.393  0.393"
      ]
     },
     "execution_count": 29,
     "metadata": {},
     "output_type": "execute_result"
    }
   ],
   "source": [
    "df[df.k == 1].pivot(\"alpha\", \"scale\", \"scaled_dist\").round(3)\n"
   ]
  },
  {
   "cell_type": "markdown",
   "metadata": {},
   "source": [
    "Está claro que si $c$ es la constance de escale `scale`, las distancias de fermat escalan según $c^{-\\alpha}$. Ahora, cuánto cambian con el tamaño de muestra $k$? \n",
    "\n",
    "Para $k=1$, se puede calcular exactamente la esperanza de la longitud del camino. Si hay un único punto entre 0 y 1 elegido al azar según $X \\sim \\text{Unif}(0, 1)$, entonces la longitud del camino de Fermat cuando $alpha=2$ será $E\\left(X^2 + (1-X)^2\\right) = 2/3$, lo cual se ve en la tabla anterior. Para $k=1$ y otros valores de $\\alpha$, la expresión no será tan bella pero es computable sin mucha dificultad. Para otros valores de $k$, sin embargo, ya entran en juego la distribución de los estadísticos de orden y no me resulta para nada evidente una fórmula cerrada.\n",
    "\n",
    "Aproximémosla. Sean $X^{(0)} = 0, X^{(k+1)} = 1$ y $X^{(i)}, i=1,\\dots,k$ las v.a. que surgen de ordenar una muestra $X_i \\sim_{iid} \\text{Unif}(0, 1), \\ i\\in[k]$. Para todo $k$ se cumple que cada \"segmentito de recta\", $\\mathbb{E}\\left(X^{(i+1)}-X^{(i)}\\right) = 1 / (k + 1)$. Luego, esperaríamos que \n",
    "\n",
    "$$\n",
    "\\begin{align} dist_{\\alpha}^k(0, 1) &= \\mathbb{E}\\ \\left(\\sum_{i=0}^k \\left[X^{(i+1)}-X^{(i)} \\right]^{\\alpha}\\right) \\\\\n",
    " &=  \\sum_{i=0}^k\\ \\left( \\mathbb{E}\\left[X^{(i+1)}-X^{(i)} \\right]^{\\alpha}\\right) \\\\\n",
    " &\\approx (???) (k + 1) \\left(\\frac{1}{k+1}\\right)^{\\alpha}\n",
    "   \\end{align}\n",
    "\n",
    "$$\n",
    "\n",
    "Pero no vale que $E(X^k) = E(X)^k$! Qué se hace en su lugar? Hay que conocer la densidad de $X^{(i+1)}-X^{(i)}$ y calcularlo? Empíricamente, veamos como cambia la distancia con $k$."
   ]
  },
  {
   "cell_type": "code",
   "execution_count": 30,
   "metadata": {},
   "outputs": [
    {
     "data": {
      "text/html": [
       "<div>\n",
       "<style scoped>\n",
       "    .dataframe tbody tr th:only-of-type {\n",
       "        vertical-align: middle;\n",
       "    }\n",
       "\n",
       "    .dataframe tbody tr th {\n",
       "        vertical-align: top;\n",
       "    }\n",
       "\n",
       "    .dataframe thead th {\n",
       "        text-align: right;\n",
       "    }\n",
       "</style>\n",
       "<table border=\"1\" class=\"dataframe\">\n",
       "  <thead>\n",
       "    <tr style=\"text-align: right;\">\n",
       "      <th>k</th>\n",
       "      <th>1</th>\n",
       "      <th>2</th>\n",
       "      <th>5</th>\n",
       "      <th>10</th>\n",
       "    </tr>\n",
       "    <tr>\n",
       "      <th>alpha</th>\n",
       "      <th></th>\n",
       "      <th></th>\n",
       "      <th></th>\n",
       "      <th></th>\n",
       "    </tr>\n",
       "  </thead>\n",
       "  <tbody>\n",
       "    <tr>\n",
       "      <th>1.0</th>\n",
       "      <td>1.000000</td>\n",
       "      <td>1.000000</td>\n",
       "      <td>1.000000</td>\n",
       "      <td>1.000000</td>\n",
       "    </tr>\n",
       "    <tr>\n",
       "      <th>1.5</th>\n",
       "      <td>0.797830</td>\n",
       "      <td>0.682042</td>\n",
       "      <td>0.510034</td>\n",
       "      <td>0.388967</td>\n",
       "    </tr>\n",
       "    <tr>\n",
       "      <th>2.0</th>\n",
       "      <td>0.662994</td>\n",
       "      <td>0.494479</td>\n",
       "      <td>0.283550</td>\n",
       "      <td>0.168280</td>\n",
       "    </tr>\n",
       "    <tr>\n",
       "      <th>2.5</th>\n",
       "      <td>0.566705</td>\n",
       "      <td>0.374569</td>\n",
       "      <td>0.168105</td>\n",
       "      <td>0.079102</td>\n",
       "    </tr>\n",
       "    <tr>\n",
       "      <th>3.0</th>\n",
       "      <td>0.494491</td>\n",
       "      <td>0.293255</td>\n",
       "      <td>0.104783</td>\n",
       "      <td>0.039776</td>\n",
       "    </tr>\n",
       "    <tr>\n",
       "      <th>3.5</th>\n",
       "      <td>0.438314</td>\n",
       "      <td>0.235567</td>\n",
       "      <td>0.068001</td>\n",
       "      <td>0.021161</td>\n",
       "    </tr>\n",
       "    <tr>\n",
       "      <th>4.0</th>\n",
       "      <td>0.393359</td>\n",
       "      <td>0.193156</td>\n",
       "      <td>0.045621</td>\n",
       "      <td>0.011812</td>\n",
       "    </tr>\n",
       "  </tbody>\n",
       "</table>\n",
       "</div>"
      ],
      "text/plain": [
       "k            1         2         5         10\n",
       "alpha                                        \n",
       "1.0    1.000000  1.000000  1.000000  1.000000\n",
       "1.5    0.797830  0.682042  0.510034  0.388967\n",
       "2.0    0.662994  0.494479  0.283550  0.168280\n",
       "2.5    0.566705  0.374569  0.168105  0.079102\n",
       "3.0    0.494491  0.293255  0.104783  0.039776\n",
       "3.5    0.438314  0.235567  0.068001  0.021161\n",
       "4.0    0.393359  0.193156  0.045621  0.011812"
      ]
     },
     "execution_count": 30,
     "metadata": {},
     "output_type": "execute_result"
    }
   ],
   "source": [
    "df[df.scale == 1].pivot(\"alpha\", \"k\", \"scaled_dist\")\n"
   ]
  },
  {
   "cell_type": "code",
   "execution_count": 115,
   "metadata": {},
   "outputs": [
    {
     "data": {
      "text/html": [
       "<div>\n",
       "<style scoped>\n",
       "    .dataframe tbody tr th:only-of-type {\n",
       "        vertical-align: middle;\n",
       "    }\n",
       "\n",
       "    .dataframe tbody tr th {\n",
       "        vertical-align: top;\n",
       "    }\n",
       "\n",
       "    .dataframe thead th {\n",
       "        text-align: right;\n",
       "    }\n",
       "</style>\n",
       "<table border=\"1\" class=\"dataframe\">\n",
       "  <thead>\n",
       "    <tr style=\"text-align: right;\">\n",
       "      <th>k</th>\n",
       "      <th>1</th>\n",
       "      <th>2</th>\n",
       "      <th>5</th>\n",
       "      <th>10</th>\n",
       "    </tr>\n",
       "    <tr>\n",
       "      <th>alpha</th>\n",
       "      <th></th>\n",
       "      <th></th>\n",
       "      <th></th>\n",
       "      <th></th>\n",
       "    </tr>\n",
       "  </thead>\n",
       "  <tbody>\n",
       "    <tr>\n",
       "      <th>1.0</th>\n",
       "      <td>1.000000</td>\n",
       "      <td>1.000000</td>\n",
       "      <td>1.000000</td>\n",
       "      <td>1.000000</td>\n",
       "    </tr>\n",
       "    <tr>\n",
       "      <th>1.5</th>\n",
       "      <td>1.381882</td>\n",
       "      <td>1.364084</td>\n",
       "      <td>1.349422</td>\n",
       "      <td>1.347420</td>\n",
       "    </tr>\n",
       "    <tr>\n",
       "      <th>2.0</th>\n",
       "      <td>1.988982</td>\n",
       "      <td>1.977916</td>\n",
       "      <td>1.984852</td>\n",
       "      <td>2.019358</td>\n",
       "    </tr>\n",
       "    <tr>\n",
       "      <th>2.5</th>\n",
       "      <td>2.944684</td>\n",
       "      <td>2.996552</td>\n",
       "      <td>3.113348</td>\n",
       "      <td>3.288225</td>\n",
       "    </tr>\n",
       "    <tr>\n",
       "      <th>3.0</th>\n",
       "      <td>4.450421</td>\n",
       "      <td>4.692074</td>\n",
       "      <td>5.134387</td>\n",
       "      <td>5.727809</td>\n",
       "    </tr>\n",
       "    <tr>\n",
       "      <th>3.5</th>\n",
       "      <td>6.832637</td>\n",
       "      <td>7.538158</td>\n",
       "      <td>8.815721</td>\n",
       "      <td>10.555806</td>\n",
       "    </tr>\n",
       "    <tr>\n",
       "      <th>4.0</th>\n",
       "      <td>10.620685</td>\n",
       "      <td>12.361966</td>\n",
       "      <td>15.648029</td>\n",
       "      <td>20.411034</td>\n",
       "    </tr>\n",
       "  </tbody>\n",
       "</table>\n",
       "</div>"
      ],
      "text/plain": [
       "k             1          2          5          10\n",
       "alpha                                            \n",
       "1.0     1.000000   1.000000   1.000000   1.000000\n",
       "1.5     1.381882   1.364084   1.349422   1.347420\n",
       "2.0     1.988982   1.977916   1.984852   2.019358\n",
       "2.5     2.944684   2.996552   3.113348   3.288225\n",
       "3.0     4.450421   4.692074   5.134387   5.727809\n",
       "3.5     6.832637   7.538158   8.815721  10.555806\n",
       "4.0    10.620685  12.361966  15.648029  20.411034"
      ]
     },
     "execution_count": 115,
     "metadata": {},
     "output_type": "execute_result"
    }
   ],
   "source": [
    "df[\"k_scaled_dist\"] = df.scaled_dist * ((df.k + 2) ** (df.alpha - 1))\n",
    "df[df.scale == 1].assign().pivot(\"alpha\", \"k\", \"k_scaled_dist\")\n"
   ]
  },
  {
   "cell_type": "code",
   "execution_count": 112,
   "metadata": {},
   "outputs": [
    {
     "data": {
      "text/html": [
       "<div>\n",
       "<style scoped>\n",
       "    .dataframe tbody tr th:only-of-type {\n",
       "        vertical-align: middle;\n",
       "    }\n",
       "\n",
       "    .dataframe tbody tr th {\n",
       "        vertical-align: top;\n",
       "    }\n",
       "\n",
       "    .dataframe thead th {\n",
       "        text-align: right;\n",
       "    }\n",
       "</style>\n",
       "<table border=\"1\" class=\"dataframe\">\n",
       "  <thead>\n",
       "    <tr style=\"text-align: right;\">\n",
       "      <th></th>\n",
       "      <th>k</th>\n",
       "      <th>alpha</th>\n",
       "      <th>scale</th>\n",
       "      <th>dists</th>\n",
       "      <th>mean_dist</th>\n",
       "      <th>scaled_dist</th>\n",
       "    </tr>\n",
       "  </thead>\n",
       "  <tbody>\n",
       "    <tr>\n",
       "      <th>0</th>\n",
       "      <td>1</td>\n",
       "      <td>1.0</td>\n",
       "      <td>0.1</td>\n",
       "      <td>[0.1, 0.1, 0.1, 0.1, 0.1, 0.1, 0.1, 0.1, 0.1, ...</td>\n",
       "      <td>0.100000</td>\n",
       "      <td>1.000000</td>\n",
       "    </tr>\n",
       "    <tr>\n",
       "      <th>1</th>\n",
       "      <td>1</td>\n",
       "      <td>1.5</td>\n",
       "      <td>0.1</td>\n",
       "      <td>[0.024085998294553053, 0.025569245663161606, 0...</td>\n",
       "      <td>0.025230</td>\n",
       "      <td>0.797830</td>\n",
       "    </tr>\n",
       "    <tr>\n",
       "      <th>2</th>\n",
       "      <td>1</td>\n",
       "      <td>2.0</td>\n",
       "      <td>0.1</td>\n",
       "      <td>[0.006015062163384771, 0.006864077914275903, 0...</td>\n",
       "      <td>0.006630</td>\n",
       "      <td>0.662994</td>\n",
       "    </tr>\n",
       "    <tr>\n",
       "      <th>3</th>\n",
       "      <td>1</td>\n",
       "      <td>2.5</td>\n",
       "      <td>0.1</td>\n",
       "      <td>[0.001541763270979389, 0.0018931842737626072, ...</td>\n",
       "      <td>0.001792</td>\n",
       "      <td>0.566705</td>\n",
       "    </tr>\n",
       "    <tr>\n",
       "      <th>4</th>\n",
       "      <td>1</td>\n",
       "      <td>3.0</td>\n",
       "      <td>0.1</td>\n",
       "      <td>[0.00040225932450771565, 0.0005296116871413854...</td>\n",
       "      <td>0.000494</td>\n",
       "      <td>0.494491</td>\n",
       "    </tr>\n",
       "    <tr>\n",
       "      <th>...</th>\n",
       "      <td>...</td>\n",
       "      <td>...</td>\n",
       "      <td>...</td>\n",
       "      <td>...</td>\n",
       "      <td>...</td>\n",
       "      <td>...</td>\n",
       "    </tr>\n",
       "    <tr>\n",
       "      <th>135</th>\n",
       "      <td>10</td>\n",
       "      <td>2.0</td>\n",
       "      <td>10.0</td>\n",
       "      <td>[18.54617072889558, 15.898502140116069, 19.500...</td>\n",
       "      <td>16.827980</td>\n",
       "      <td>0.168280</td>\n",
       "    </tr>\n",
       "    <tr>\n",
       "      <th>136</th>\n",
       "      <td>10</td>\n",
       "      <td>2.5</td>\n",
       "      <td>10.0</td>\n",
       "      <td>[28.83237136865032, 21.794016379856334, 32.462...</td>\n",
       "      <td>25.014375</td>\n",
       "      <td>0.079102</td>\n",
       "    </tr>\n",
       "    <tr>\n",
       "      <th>137</th>\n",
       "      <td>10</td>\n",
       "      <td>3.0</td>\n",
       "      <td>10.0</td>\n",
       "      <td>[46.9273947822912, 30.79645311730585, 57.80935...</td>\n",
       "      <td>39.776448</td>\n",
       "      <td>0.039776</td>\n",
       "    </tr>\n",
       "    <tr>\n",
       "      <th>138</th>\n",
       "      <td>10</td>\n",
       "      <td>3.5</td>\n",
       "      <td>10.0</td>\n",
       "      <td>[78.59282557082142, 44.44993793148509, 107.052...</td>\n",
       "      <td>66.917279</td>\n",
       "      <td>0.021161</td>\n",
       "    </tr>\n",
       "    <tr>\n",
       "      <th>139</th>\n",
       "      <td>10</td>\n",
       "      <td>4.0</td>\n",
       "      <td>10.0</td>\n",
       "      <td>[134.0661724511122, 65.16120253709033, 202.496...</td>\n",
       "      <td>118.119413</td>\n",
       "      <td>0.011812</td>\n",
       "    </tr>\n",
       "  </tbody>\n",
       "</table>\n",
       "<p>140 rows × 6 columns</p>\n",
       "</div>"
      ],
      "text/plain": [
       "      k  alpha  scale                                              dists  \\\n",
       "0     1    1.0    0.1  [0.1, 0.1, 0.1, 0.1, 0.1, 0.1, 0.1, 0.1, 0.1, ...   \n",
       "1     1    1.5    0.1  [0.024085998294553053, 0.025569245663161606, 0...   \n",
       "2     1    2.0    0.1  [0.006015062163384771, 0.006864077914275903, 0...   \n",
       "3     1    2.5    0.1  [0.001541763270979389, 0.0018931842737626072, ...   \n",
       "4     1    3.0    0.1  [0.00040225932450771565, 0.0005296116871413854...   \n",
       "..   ..    ...    ...                                                ...   \n",
       "135  10    2.0   10.0  [18.54617072889558, 15.898502140116069, 19.500...   \n",
       "136  10    2.5   10.0  [28.83237136865032, 21.794016379856334, 32.462...   \n",
       "137  10    3.0   10.0  [46.9273947822912, 30.79645311730585, 57.80935...   \n",
       "138  10    3.5   10.0  [78.59282557082142, 44.44993793148509, 107.052...   \n",
       "139  10    4.0   10.0  [134.0661724511122, 65.16120253709033, 202.496...   \n",
       "\n",
       "      mean_dist  scaled_dist  \n",
       "0      0.100000     1.000000  \n",
       "1      0.025230     0.797830  \n",
       "2      0.006630     0.662994  \n",
       "3      0.001792     0.566705  \n",
       "4      0.000494     0.494491  \n",
       "..          ...          ...  \n",
       "135   16.827980     0.168280  \n",
       "136   25.014375     0.079102  \n",
       "137   39.776448     0.039776  \n",
       "138   66.917279     0.021161  \n",
       "139  118.119413     0.011812  \n",
       "\n",
       "[140 rows x 6 columns]"
      ]
     },
     "execution_count": 112,
     "metadata": {},
     "output_type": "execute_result"
    }
   ],
   "source": [
    "df\n"
   ]
  },
  {
   "cell_type": "code",
   "execution_count": 32,
   "metadata": {},
   "outputs": [
    {
     "ename": "KeyboardInterrupt",
     "evalue": "",
     "output_type": "error",
     "traceback": [
      "\u001b[0;31m---------------------------------------------------------------------------\u001b[0m",
      "\u001b[0;31mKeyboardInterrupt\u001b[0m                         Traceback (most recent call last)",
      "\u001b[1;32m/home/gonzalo/maestria/fermat/X_n Graph-2.ipynb Cell 36'\u001b[0m in \u001b[0;36m<cell line: 6>\u001b[0;34m()\u001b[0m\n\u001b[1;32m      <a href='vscode-notebook-cell:/home/gonzalo/maestria/fermat/X_n%20Graph-2.ipynb#ch0000035?line=8'>9</a>\u001b[0m     A \u001b[39m=\u001b[39m np\u001b[39m.\u001b[39mcolumn_stack([np\u001b[39m.\u001b[39mzeros_like(A[:, \u001b[39m0\u001b[39m]), A, np\u001b[39m.\u001b[39mones_like(A[:, \u001b[39m0\u001b[39m])])\n\u001b[1;32m     <a href='vscode-notebook-cell:/home/gonzalo/maestria/fermat/X_n%20Graph-2.ipynb#ch0000035?line=9'>10</a>\u001b[0m     \u001b[39mfor\u001b[39;00m alpha \u001b[39min\u001b[39;00m alphas:\n\u001b[1;32m     <a href='vscode-notebook-cell:/home/gonzalo/maestria/fermat/X_n%20Graph-2.ipynb#ch0000035?line=10'>11</a>\u001b[0m         results\u001b[39m.\u001b[39mappend(\n\u001b[1;32m     <a href='vscode-notebook-cell:/home/gonzalo/maestria/fermat/X_n%20Graph-2.ipynb#ch0000035?line=11'>12</a>\u001b[0m             \u001b[39mdict\u001b[39m(\n\u001b[1;32m     <a href='vscode-notebook-cell:/home/gonzalo/maestria/fermat/X_n%20Graph-2.ipynb#ch0000035?line=12'>13</a>\u001b[0m                 k\u001b[39m=\u001b[39mk,\n\u001b[1;32m     <a href='vscode-notebook-cell:/home/gonzalo/maestria/fermat/X_n%20Graph-2.ipynb#ch0000035?line=13'>14</a>\u001b[0m                 alpha\u001b[39m=\u001b[39malpha,\n\u001b[0;32m---> <a href='vscode-notebook-cell:/home/gonzalo/maestria/fermat/X_n%20Graph-2.ipynb#ch0000035?line=14'>15</a>\u001b[0m                 dists\u001b[39m=\u001b[39mnp\u001b[39m.\u001b[39;49mapply_along_axis(\n\u001b[1;32m     <a href='vscode-notebook-cell:/home/gonzalo/maestria/fermat/X_n%20Graph-2.ipynb#ch0000035?line=15'>16</a>\u001b[0m                     fermat_dist, axis\u001b[39m=\u001b[39;49m\u001b[39m1\u001b[39;49m, arr\u001b[39m=\u001b[39;49mA, alpha\u001b[39m=\u001b[39;49malpha\n\u001b[1;32m     <a href='vscode-notebook-cell:/home/gonzalo/maestria/fermat/X_n%20Graph-2.ipynb#ch0000035?line=16'>17</a>\u001b[0m                 ),\n\u001b[1;32m     <a href='vscode-notebook-cell:/home/gonzalo/maestria/fermat/X_n%20Graph-2.ipynb#ch0000035?line=17'>18</a>\u001b[0m             )\n\u001b[1;32m     <a href='vscode-notebook-cell:/home/gonzalo/maestria/fermat/X_n%20Graph-2.ipynb#ch0000035?line=18'>19</a>\u001b[0m         )\n\u001b[1;32m     <a href='vscode-notebook-cell:/home/gonzalo/maestria/fermat/X_n%20Graph-2.ipynb#ch0000035?line=20'>21</a>\u001b[0m df \u001b[39m=\u001b[39m pd\u001b[39m.\u001b[39mDataFrame(results)\n\u001b[1;32m     <a href='vscode-notebook-cell:/home/gonzalo/maestria/fermat/X_n%20Graph-2.ipynb#ch0000035?line=21'>22</a>\u001b[0m df[\u001b[39m\"\u001b[39m\u001b[39mmean_dist\u001b[39m\u001b[39m\"\u001b[39m] \u001b[39m=\u001b[39m df\u001b[39m.\u001b[39mdists\u001b[39m.\u001b[39mapply(np\u001b[39m.\u001b[39mmean)\n",
      "File \u001b[0;32m<__array_function__ internals>:180\u001b[0m, in \u001b[0;36mapply_along_axis\u001b[0;34m(*args, **kwargs)\u001b[0m\n",
      "File \u001b[0;32m~/maestria/fermat/venv/lib/python3.8/site-packages/numpy/lib/shape_base.py:402\u001b[0m, in \u001b[0;36mapply_along_axis\u001b[0;34m(func1d, axis, arr, *args, **kwargs)\u001b[0m\n\u001b[1;32m    <a href='file:///home/gonzalo/maestria/fermat/venv/lib/python3.8/site-packages/numpy/lib/shape_base.py?line=399'>400</a>\u001b[0m buff[ind0] \u001b[39m=\u001b[39m res\n\u001b[1;32m    <a href='file:///home/gonzalo/maestria/fermat/venv/lib/python3.8/site-packages/numpy/lib/shape_base.py?line=400'>401</a>\u001b[0m \u001b[39mfor\u001b[39;00m ind \u001b[39min\u001b[39;00m inds:\n\u001b[0;32m--> <a href='file:///home/gonzalo/maestria/fermat/venv/lib/python3.8/site-packages/numpy/lib/shape_base.py?line=401'>402</a>\u001b[0m     buff[ind] \u001b[39m=\u001b[39m asanyarray(func1d(inarr_view[ind], \u001b[39m*\u001b[39;49margs, \u001b[39m*\u001b[39;49m\u001b[39m*\u001b[39;49mkwargs))\n\u001b[1;32m    <a href='file:///home/gonzalo/maestria/fermat/venv/lib/python3.8/site-packages/numpy/lib/shape_base.py?line=403'>404</a>\u001b[0m \u001b[39mif\u001b[39;00m \u001b[39mnot\u001b[39;00m \u001b[39misinstance\u001b[39m(res, matrix):\n\u001b[1;32m    <a href='file:///home/gonzalo/maestria/fermat/venv/lib/python3.8/site-packages/numpy/lib/shape_base.py?line=404'>405</a>\u001b[0m     \u001b[39m# wrap the array, to preserve subclasses\u001b[39;00m\n\u001b[1;32m    <a href='file:///home/gonzalo/maestria/fermat/venv/lib/python3.8/site-packages/numpy/lib/shape_base.py?line=405'>406</a>\u001b[0m     buff \u001b[39m=\u001b[39m res\u001b[39m.\u001b[39m__array_wrap__(buff)\n",
      "\u001b[1;32m/home/gonzalo/maestria/fermat/X_n Graph-2.ipynb Cell 25'\u001b[0m in \u001b[0;36mfermat_dist\u001b[0;34m(x, alpha)\u001b[0m\n\u001b[1;32m      <a href='vscode-notebook-cell:/home/gonzalo/maestria/fermat/X_n%20Graph-2.ipynb#ch0000024?line=0'>1</a>\u001b[0m \u001b[39mdef\u001b[39;00m \u001b[39mfermat_dist\u001b[39m(x, alpha\u001b[39m=\u001b[39m\u001b[39m1\u001b[39m):\n\u001b[1;32m      <a href='vscode-notebook-cell:/home/gonzalo/maestria/fermat/X_n%20Graph-2.ipynb#ch0000024?line=1'>2</a>\u001b[0m     \u001b[39m\"\"\" Fermat alpha-distance between `x_0` and `x_k`, in the line graph with nodes at `x = (x_1, ..., x_k)`.\"\"\"\u001b[39;00m\n\u001b[0;32m----> <a href='vscode-notebook-cell:/home/gonzalo/maestria/fermat/X_n%20Graph-2.ipynb#ch0000024?line=2'>3</a>\u001b[0m     \u001b[39mreturn\u001b[39;00m ((x[\u001b[39m1\u001b[39;49m:] \u001b[39m-\u001b[39;49m x[:\u001b[39m-\u001b[39;49m\u001b[39m1\u001b[39;49m]) \u001b[39m*\u001b[39;49m\u001b[39m*\u001b[39;49m alpha)\u001b[39m.\u001b[39;49msum()\n",
      "File \u001b[0;32m~/maestria/fermat/venv/lib/python3.8/site-packages/numpy/core/_methods.py:48\u001b[0m, in \u001b[0;36m_sum\u001b[0;34m(a, axis, dtype, out, keepdims, initial, where)\u001b[0m\n\u001b[1;32m     <a href='file:///home/gonzalo/maestria/fermat/venv/lib/python3.8/site-packages/numpy/core/_methods.py?line=45'>46</a>\u001b[0m \u001b[39mdef\u001b[39;00m \u001b[39m_sum\u001b[39m(a, axis\u001b[39m=\u001b[39m\u001b[39mNone\u001b[39;00m, dtype\u001b[39m=\u001b[39m\u001b[39mNone\u001b[39;00m, out\u001b[39m=\u001b[39m\u001b[39mNone\u001b[39;00m, keepdims\u001b[39m=\u001b[39m\u001b[39mFalse\u001b[39;00m,\n\u001b[1;32m     <a href='file:///home/gonzalo/maestria/fermat/venv/lib/python3.8/site-packages/numpy/core/_methods.py?line=46'>47</a>\u001b[0m          initial\u001b[39m=\u001b[39m_NoValue, where\u001b[39m=\u001b[39m\u001b[39mTrue\u001b[39;00m):\n\u001b[0;32m---> <a href='file:///home/gonzalo/maestria/fermat/venv/lib/python3.8/site-packages/numpy/core/_methods.py?line=47'>48</a>\u001b[0m     \u001b[39mreturn\u001b[39;00m umr_sum(a, axis, dtype, out, keepdims, initial, where)\n",
      "\u001b[0;31mKeyboardInterrupt\u001b[0m: "
     ]
    }
   ],
   "source": [
    "sample_size = 1000\n",
    "alphas = [1.5, 1.75, 2, 2.25, 3, 4, 5]\n",
    "ks = np.array([*range(1, 11), *rnd.choice(range(11, 2001), 50, replace=False)])\n",
    "\n",
    "results = []\n",
    "for k in ks:\n",
    "    A = rnd.rand(sample_size, k)\n",
    "    A.sort(axis=1)\n",
    "    A = np.column_stack([np.zeros_like(A[:, 0]), A, np.ones_like(A[:, 0])])\n",
    "    for alpha in alphas:\n",
    "        results.append(\n",
    "            dict(\n",
    "                k=k,\n",
    "                alpha=alpha,\n",
    "                dists=np.apply_along_axis(fermat_dist, axis=1, arr=A, alpha=alpha),\n",
    "            )\n",
    "        )\n",
    "\n",
    "df = pd.DataFrame(results)\n",
    "df[\"mean_dist\"] = df.dists.apply(np.mean)\n"
   ]
  },
  {
   "cell_type": "code",
   "execution_count": null,
   "metadata": {},
   "outputs": [
    {
     "data": {
      "text/html": [
       "<div>\n",
       "<style scoped>\n",
       "    .dataframe tbody tr th:only-of-type {\n",
       "        vertical-align: middle;\n",
       "    }\n",
       "\n",
       "    .dataframe tbody tr th {\n",
       "        vertical-align: top;\n",
       "    }\n",
       "\n",
       "    .dataframe thead th {\n",
       "        text-align: right;\n",
       "    }\n",
       "</style>\n",
       "<table border=\"1\" class=\"dataframe\">\n",
       "  <thead>\n",
       "    <tr style=\"text-align: right;\">\n",
       "      <th>k</th>\n",
       "      <th>1</th>\n",
       "      <th>2</th>\n",
       "      <th>3</th>\n",
       "      <th>4</th>\n",
       "      <th>5</th>\n",
       "      <th>6</th>\n",
       "      <th>7</th>\n",
       "      <th>8</th>\n",
       "      <th>9</th>\n",
       "      <th>10</th>\n",
       "      <th>26</th>\n",
       "    </tr>\n",
       "    <tr>\n",
       "      <th>alpha</th>\n",
       "      <th></th>\n",
       "      <th></th>\n",
       "      <th></th>\n",
       "      <th></th>\n",
       "      <th></th>\n",
       "      <th></th>\n",
       "      <th></th>\n",
       "      <th></th>\n",
       "      <th></th>\n",
       "      <th></th>\n",
       "      <th></th>\n",
       "    </tr>\n",
       "  </thead>\n",
       "  <tbody>\n",
       "    <tr>\n",
       "      <th>1.50</th>\n",
       "      <td>0.803</td>\n",
       "      <td>0.688</td>\n",
       "      <td>0.608</td>\n",
       "      <td>0.552</td>\n",
       "      <td>0.511</td>\n",
       "      <td>0.479</td>\n",
       "      <td>0.450</td>\n",
       "      <td>0.424</td>\n",
       "      <td>0.406</td>\n",
       "      <td>0.385</td>\n",
       "      <td>0.252</td>\n",
       "    </tr>\n",
       "    <tr>\n",
       "      <th>1.75</th>\n",
       "      <td>0.731</td>\n",
       "      <td>0.584</td>\n",
       "      <td>0.489</td>\n",
       "      <td>0.424</td>\n",
       "      <td>0.379</td>\n",
       "      <td>0.344</td>\n",
       "      <td>0.313</td>\n",
       "      <td>0.287</td>\n",
       "      <td>0.269</td>\n",
       "      <td>0.248</td>\n",
       "      <td>0.132</td>\n",
       "    </tr>\n",
       "    <tr>\n",
       "      <th>2.00</th>\n",
       "      <td>0.671</td>\n",
       "      <td>0.503</td>\n",
       "      <td>0.399</td>\n",
       "      <td>0.331</td>\n",
       "      <td>0.286</td>\n",
       "      <td>0.252</td>\n",
       "      <td>0.223</td>\n",
       "      <td>0.198</td>\n",
       "      <td>0.182</td>\n",
       "      <td>0.163</td>\n",
       "      <td>0.071</td>\n",
       "    </tr>\n",
       "    <tr>\n",
       "      <th>2.25</th>\n",
       "      <td>0.621</td>\n",
       "      <td>0.438</td>\n",
       "      <td>0.330</td>\n",
       "      <td>0.262</td>\n",
       "      <td>0.219</td>\n",
       "      <td>0.188</td>\n",
       "      <td>0.161</td>\n",
       "      <td>0.140</td>\n",
       "      <td>0.126</td>\n",
       "      <td>0.110</td>\n",
       "      <td>0.039</td>\n",
       "    </tr>\n",
       "    <tr>\n",
       "      <th>3.00</th>\n",
       "      <td>0.507</td>\n",
       "      <td>0.304</td>\n",
       "      <td>0.199</td>\n",
       "      <td>0.141</td>\n",
       "      <td>0.108</td>\n",
       "      <td>0.085</td>\n",
       "      <td>0.067</td>\n",
       "      <td>0.053</td>\n",
       "      <td>0.046</td>\n",
       "      <td>0.037</td>\n",
       "      <td>0.007</td>\n",
       "    </tr>\n",
       "    <tr>\n",
       "      <th>4.00</th>\n",
       "      <td>0.408</td>\n",
       "      <td>0.204</td>\n",
       "      <td>0.114</td>\n",
       "      <td>0.070</td>\n",
       "      <td>0.048</td>\n",
       "      <td>0.034</td>\n",
       "      <td>0.024</td>\n",
       "      <td>0.018</td>\n",
       "      <td>0.014</td>\n",
       "      <td>0.010</td>\n",
       "      <td>0.001</td>\n",
       "    </tr>\n",
       "    <tr>\n",
       "      <th>5.00</th>\n",
       "      <td>0.341</td>\n",
       "      <td>0.147</td>\n",
       "      <td>0.071</td>\n",
       "      <td>0.039</td>\n",
       "      <td>0.025</td>\n",
       "      <td>0.016</td>\n",
       "      <td>0.010</td>\n",
       "      <td>0.007</td>\n",
       "      <td>0.005</td>\n",
       "      <td>0.003</td>\n",
       "      <td>0.000</td>\n",
       "    </tr>\n",
       "  </tbody>\n",
       "</table>\n",
       "</div>"
      ],
      "text/plain": [
       "k         1      2      3      4      5      6      7      8      9      10  \\\n",
       "alpha                                                                         \n",
       "1.50   0.803  0.688  0.608  0.552  0.511  0.479  0.450  0.424  0.406  0.385   \n",
       "1.75   0.731  0.584  0.489  0.424  0.379  0.344  0.313  0.287  0.269  0.248   \n",
       "2.00   0.671  0.503  0.399  0.331  0.286  0.252  0.223  0.198  0.182  0.163   \n",
       "2.25   0.621  0.438  0.330  0.262  0.219  0.188  0.161  0.140  0.126  0.110   \n",
       "3.00   0.507  0.304  0.199  0.141  0.108  0.085  0.067  0.053  0.046  0.037   \n",
       "4.00   0.408  0.204  0.114  0.070  0.048  0.034  0.024  0.018  0.014  0.010   \n",
       "5.00   0.341  0.147  0.071  0.039  0.025  0.016  0.010  0.007  0.005  0.003   \n",
       "\n",
       "k         26  \n",
       "alpha         \n",
       "1.50   0.252  \n",
       "1.75   0.132  \n",
       "2.00   0.071  \n",
       "2.25   0.039  \n",
       "3.00   0.007  \n",
       "4.00   0.001  \n",
       "5.00   0.000  "
      ]
     },
     "execution_count": 33,
     "metadata": {},
     "output_type": "execute_result"
    }
   ],
   "source": [
    "df[df.k < 50].pivot(\"alpha\", \"k\", \"mean_dist\").round(3)\n"
   ]
  },
  {
   "cell_type": "code",
   "execution_count": null,
   "metadata": {},
   "outputs": [
    {
     "data": {
      "image/png": "[encoded data removed]",
      "text/plain": [
       "<Figure size 1152x504 with 1 Axes>"
      ]
     },
     "metadata": {
      "needs_background": "light"
     },
     "output_type": "display_data"
    }
   ],
   "source": [
    "plt.figure(figsize=(16, 7))\n",
    "sns.lineplot(x=\"k\", y=\"mean_dist\", hue=\"alpha\", data=df, marker=\"o\")\n",
    "plt.xscale(\"log\")\n",
    "plt.yscale(\"log\")\n",
    "plt.show()\n"
   ]
  },
  {
   "cell_type": "markdown",
   "metadata": {},
   "source": [
    "Para la elección del ancho de banda $h$ es necesario saber la escala de las distancias! Con qué se come esto???"
   ]
  },
  {
   "cell_type": "code",
   "execution_count": null,
   "metadata": {},
   "outputs": [],
   "source": [
    "results = []\n",
    "for i in range(10000):\n",
    "    s = rnd.rand(100)\n",
    "    s.sort()\n",
    "    dists = (np.array([s[0], *(s[1:] - s[:-1]), 1 - s[-1]])) ** 2\n",
    "    results.append((dists.mean(), dists.std()))\n"
   ]
  },
  {
   "cell_type": "code",
   "execution_count": null,
   "metadata": {},
   "outputs": [
    {
     "data": {
      "text/plain": [
       "2.0595221250271583"
      ]
     },
     "execution_count": 36,
     "metadata": {},
     "output_type": "execute_result"
    }
   ],
   "source": [
    "np.mean([std / mean for mean, std in results])\n"
   ]
  },
  {
   "cell_type": "markdown",
   "metadata": {},
   "source": [
    "## Implementación KDEClassifier"
   ]
  },
  {
   "cell_type": "code",
   "execution_count": null,
   "metadata": {},
   "outputs": [],
   "source": [
    "from scipy.stats import norm\n",
    "from numpy.linalg import norm as euclidean_norm\n",
    "from scipy.spatial import distance_matrix\n"
   ]
  },
  {
   "cell_type": "code",
   "execution_count": 34,
   "metadata": {},
   "outputs": [
    {
     "data": {
      "text/plain": [
       "0.5086494413404895"
      ]
     },
     "execution_count": 34,
     "metadata": {},
     "output_type": "execute_result"
    }
   ],
   "source": [
    "import scipy\n",
    "\n",
    "scipy.spatial.distance.minkowski(A[0], A[2])\n"
   ]
  },
  {
   "cell_type": "code",
   "execution_count": 35,
   "metadata": {},
   "outputs": [
    {
     "data": {
      "text/plain": [
       "\"Fermat(alpha=2, path_method='FW')\""
      ]
     },
     "execution_count": 35,
     "metadata": {},
     "output_type": "execute_result"
    }
   ],
   "source": [
    "repr(fermat)\n"
   ]
  },
  {
   "cell_type": "code",
   "execution_count": 36,
   "metadata": {},
   "outputs": [
    {
     "data": {
      "text/plain": [
       "[[0, 0, 0, 0, 0, 0, 0],\n",
       " [0, 1, 2, 3, 4, 5, 6],\n",
       " [0, 2, 4, 6, 8, 10, 12],\n",
       " [0, 3, 6, 9, 12, 15, 18],\n",
       " [0, 4, 8, 12, 16, 20, 24]]"
      ]
     },
     "execution_count": 36,
     "metadata": {},
     "output_type": "execute_result"
    }
   ],
   "source": [
    "B = range(5)\n",
    "C = range(7)\n",
    "[[b * c for c in C] for b in B]\n"
   ]
  },
  {
   "cell_type": "code",
   "execution_count": 37,
   "metadata": {},
   "outputs": [
    {
     "data": {
      "text/plain": [
       "array([False, False,  True, False, False])"
      ]
     },
     "execution_count": 37,
     "metadata": {},
     "output_type": "execute_result"
    }
   ],
   "source": [
    "(A[:] == A[2]).all(1)[:5]\n"
   ]
  },
  {
   "cell_type": "code",
   "execution_count": 38,
   "metadata": {},
   "outputs": [
    {
     "data": {
      "text/plain": [
       "((1000, 938), array([0., 0., 0., 0., 0., 0., 0., 0., 0., 0.]))"
      ]
     },
     "execution_count": 38,
     "metadata": {},
     "output_type": "execute_result"
    }
   ],
   "source": [
    "A.shape, np.zeros(10)\n"
   ]
  },
  {
   "cell_type": "code",
   "execution_count": 41,
   "metadata": {},
   "outputs": [],
   "source": [
    "# WIP - ignore\n",
    "def euclidean_distance(x, y):\n",
    "    return euclidean_norm(x - y)\n",
    "\n",
    "\n",
    "class FermatDistance(Fermat):\n",
    "    def __init__(self, **kwargs):\n",
    "        super.__init__(**kwargs)\n",
    "\n",
    "    def _fit(self, X):\n",
    "        self.fit(X)\n",
    "        self.X_ = X\n",
    "        self.n_, self.d_ = X.shape\n",
    "        self.is_fitted_ = True\n",
    "        return self\n",
    "\n",
    "    def __call__(A, B):\n",
    "        if self.alpha == 1:\n",
    "            return distance_matrix(A, B)\n",
    "        else:\n",
    "            return [[self._get_distance(a, b) for a in A] for b in B]\n",
    "\n",
    "    def _get_distance(a, b):\n",
    "        if not self.is_fitted_:\n",
    "            self._fit()\n",
    "        if any((self.X_[:] == a).all(1)):  # `a` is a node from X_\n",
    "            to_X = np.zeros(self.n_)\n",
    "        else:\n",
    "            to_X = euclidean_distances(a.reshape(1, -1), verts)[0] ** self.alpha\n",
    "\n",
    "        if a_known := np.where((X[:] == 2 * X[2]).all(1)):\n",
    "            to_nodes = euclidean_distances(a.reshape(1, -1), verts)[0] ** alpha\n"
   ]
  },
  {
   "cell_type": "code",
   "execution_count": 49,
   "metadata": {},
   "outputs": [],
   "source": [
    "norm_pdf = scipy.stats.norm.pdf\n",
    "\n",
    "\n",
    "class EuclideanKDE:\n",
    "    def __init__(self, kernel=norm_pdf, bandwith=1):\n",
    "        self.kernel = kernel\n",
    "        self.bandwith = bandwith\n",
    "\n",
    "    def fit(self, X):\n",
    "        self.X_ = X\n",
    "        self.n_, self.dim_ = X.shape\n",
    "        return self\n",
    "\n",
    "    def density(self, X, log=True):\n",
    "        densities = (self.bandwith**-self.dim_) * self.kernel(\n",
    "            distance_matrix(X, self.X_) / self.bandwith\n",
    "        ).mean(axis=1)\n",
    "        return np.log(densities) if log else densities\n"
   ]
  },
  {
   "cell_type": "code",
   "execution_count": 52,
   "metadata": {},
   "outputs": [],
   "source": [
    "import numpy as np\n",
    "from sklearn.base import BaseEstimator, ClassifierMixin\n",
    "from sklearn.utils.validation import check_X_y  # , check_array, check_is_fitted\n",
    "from sklearn.utils.multiclass import unique_labels\n",
    "from scipy.special import softmax\n",
    "\n",
    "\n",
    "class EuclideanKDEClassifier(BaseEstimator, ClassifierMixin):\n",
    "    def __init__(self, kernel=norm_pdf, bandwith=1):\n",
    "        self.kernel = kernel\n",
    "        self.bandwith = bandwith\n",
    "\n",
    "    def fit(self, X, y):\n",
    "        # Check that X and y have correct shape\n",
    "        X, y = check_X_y(X, y)\n",
    "        # Store the classes seen during fit\n",
    "        self.classes_ = unique_labels(y)\n",
    "        self.X_ = X\n",
    "        self.y_ = y\n",
    "        self.densities_ = {\n",
    "            cls: EuclideanKDE(self.kernel, self.bandwith).fit(X[y == cls])\n",
    "            for cls in self.classes_\n",
    "        }\n",
    "        return self\n",
    "\n",
    "    def decision_function(self, X):\n",
    "        return np.column_stack(\n",
    "            [self.densities_[cls].density(X) for cls in self.classes_]\n",
    "        )\n",
    "\n",
    "    def predict(self, X):\n",
    "        D = self.decision_function(X)\n",
    "        return self.classes_[np.argmax(D, axis=1)]\n",
    "\n",
    "    def predict_proba(self, X, temp=1):\n",
    "        D = self.decision_function(X)\n",
    "        return softmax(D / temp, axis=1)\n"
   ]
  },
  {
   "cell_type": "code",
   "execution_count": 54,
   "metadata": {},
   "outputs": [],
   "source": [
    "class FermatKDE:\n",
    "    def __init__(self, kernel=norm_pdf, bandwith=1, alpha=2, path_method=\"FW\"):\n",
    "        self.kernel = kernel\n",
    "        self.bandwith = bandwith\n",
    "        self.alpha = alpha\n",
    "        self.path_method = path_method\n",
    "\n",
    "    def fit(self, X):\n",
    "        self.X_ = X\n",
    "        self.n_, self.dim_ = X.shape\n",
    "        self.fermat_ = Fermat(self.alpha, self.path_method).fit(distance_matrix(X, X))\n",
    "        self.distances_ = self.fermat_.get_distances()\n",
    "        return self\n",
    "\n",
    "    def density(self, X, log=True):\n",
    "        densities = (self.bandwith**-self.dim_) * self.kernel(\n",
    "            self.distances(X) / self.bandwith\n",
    "        ).mean(axis=1)\n",
    "        return np.log(densities) if log else densities\n",
    "\n",
    "    def distances(self, X):\n",
    "        distances_to_X = distance_matrix(X, self.X_) ** self.alpha\n",
    "        return np.vstack([(d + self.distances_).min(axis=1) for d in distances_to_X])\n"
   ]
  },
  {
   "cell_type": "code",
   "execution_count": 55,
   "metadata": {},
   "outputs": [],
   "source": [
    "from scipy.special import softmax\n",
    "\n",
    "\n",
    "class FermatKDEClassifier(BaseEstimator, ClassifierMixin):\n",
    "    def __init__(self, kernel=norm_pdf, bandwith=1, alpha=2, path_method=\"FW\"):\n",
    "        self.kernel = kernel\n",
    "        self.bandwith = bandwith\n",
    "        self.alpha = alpha\n",
    "        self.path_method = path_method\n",
    "\n",
    "    def fit(self, X, y):\n",
    "        # Check that X and y have correct shape\n",
    "        X, y = check_X_y(X, y)\n",
    "        # Store the classes seen during fit\n",
    "        self.classes_ = unique_labels(y)\n",
    "        self.X_ = X\n",
    "        self.y_ = y\n",
    "        self.densities_ = {\n",
    "            cls: FermatKDE(\n",
    "                self.kernel, self.bandwith, self.alpha, self.path_method\n",
    "            ).fit(X[y == cls])\n",
    "            for cls in self.classes_\n",
    "        }\n",
    "        return self\n",
    "\n",
    "    def decision_function(self, X):\n",
    "        return np.column_stack(\n",
    "            [self.densities_[cls].density(X) for cls in self.classes_]\n",
    "        )\n",
    "\n",
    "    def predict(self, X):\n",
    "        D = self.decision_function(X)\n",
    "        return self.classes_[np.argmax(D, axis=1)]\n",
    "\n",
    "    def predict_proba(self, X, temp=1):\n",
    "        D = self.decision_function(X)\n",
    "        return softmax(D / temp, axis=1)\n"
   ]
  },
  {
   "cell_type": "code",
   "execution_count": 57,
   "metadata": {},
   "outputs": [
    {
     "data": {
      "text/plain": [
       "array([[0., 2., 4.],\n",
       "       [2., 0., 2.],\n",
       "       [4., 2., 0.]])"
      ]
     },
     "execution_count": 57,
     "metadata": {},
     "output_type": "execute_result"
    }
   ],
   "source": [
    "A = np.array([[i] * 2 for i in range(3)])\n",
    "Fermat(2, \"FW\").fit(distance_matrix(A, A)).get_distances()\n"
   ]
  },
  {
   "cell_type": "code",
   "execution_count": 58,
   "metadata": {},
   "outputs": [
    {
     "data": {
      "text/plain": [
       "array([[-1,  0],\n",
       "       [ 1,  0]])"
      ]
     },
     "execution_count": 58,
     "metadata": {},
     "output_type": "execute_result"
    }
   ],
   "source": [
    "B = np.vstack([[-1, 0], [1, 0]])\n",
    "B\n"
   ]
  },
  {
   "cell_type": "code",
   "execution_count": 59,
   "metadata": {},
   "outputs": [],
   "source": [
    "C = np.vstack([A, B])\n"
   ]
  },
  {
   "cell_type": "code",
   "execution_count": 60,
   "metadata": {},
   "outputs": [],
   "source": [
    "full = Fermat(2, \"FW\").fit(distance_matrix(C, C))\n",
    "full_dists = full.get_distances()\n"
   ]
  },
  {
   "cell_type": "code",
   "execution_count": 61,
   "metadata": {},
   "outputs": [],
   "source": [
    "n_train = 120\n",
    "train = FermatKDE(2, \"FW\").fit(A)\n",
    "test_dists = train.distances(B)\n"
   ]
  },
  {
   "cell_type": "code",
   "execution_count": 62,
   "metadata": {},
   "outputs": [
    {
     "data": {
      "text/plain": [
       "(array([[0., 2., 4., 1., 1.],\n",
       "        [2., 0., 2., 3., 1.],\n",
       "        [4., 2., 0., 5., 3.],\n",
       "        [1., 3., 5., 0., 2.],\n",
       "        [1., 1., 3., 2., 0.]]),\n",
       " array([[1., 3., 5.],\n",
       "        [1., 1., 3.]]))"
      ]
     },
     "execution_count": 62,
     "metadata": {},
     "output_type": "execute_result"
    }
   ],
   "source": [
    "full_dists, test_dists\n"
   ]
  },
  {
   "cell_type": "code",
   "execution_count": 63,
   "metadata": {},
   "outputs": [],
   "source": [
    "full = Fermat(2, \"FW\").fit(distance_matrix(X, X))\n",
    "full_dists = full.get_distances()\n"
   ]
  },
  {
   "cell_type": "code",
   "execution_count": 64,
   "metadata": {},
   "outputs": [],
   "source": [
    "n_train = 120\n",
    "train = FermatKDE(2, \"FW\").fit(X[:n_train])\n",
    "test_dists = train.distances(X[n_train:])\n"
   ]
  },
  {
   "cell_type": "code",
   "execution_count": 71,
   "metadata": {},
   "outputs": [
    {
     "data": {
      "text/plain": [
       "(array([22]), array([101]))"
      ]
     },
     "execution_count": 71,
     "metadata": {},
     "output_type": "execute_result"
    }
   ],
   "source": [
    "np.where(full_dists[n_train:, :n_train] > test_dists + 0.001)\n"
   ]
  },
  {
   "cell_type": "code",
   "execution_count": null,
   "metadata": {},
   "outputs": [
    {
     "data": {
      "text/plain": [
       "(0.1399999999999999, 0.0)"
      ]
     },
     "metadata": {},
     "output_type": "display_data"
    }
   ],
   "source": [
    "full_dists[n_train:, :n_train][22, 101], test_dists[22, 101]\n"
   ]
  },
  {
   "cell_type": "code",
   "execution_count": 72,
   "metadata": {},
   "outputs": [
    {
     "data": {
      "text/plain": [
       "count    3.600000e+03\n",
       "mean    -7.726667e-02\n",
       "std      7.876425e-02\n",
       "min     -4.600000e-01\n",
       "25%     -1.200000e-01\n",
       "50%     -6.000000e-02\n",
       "75%     -4.440892e-16\n",
       "max      1.400000e-01\n",
       "dtype: float64"
      ]
     },
     "execution_count": 72,
     "metadata": {},
     "output_type": "execute_result"
    }
   ],
   "source": [
    "pd.Series((full_dists[n_train:, :n_train] - test_dists).flatten()).describe()\n"
   ]
  },
  {
   "cell_type": "code",
   "execution_count": 75,
   "metadata": {},
   "outputs": [],
   "source": [
    "# Fermat distnaces between train obss, with X=train osbs, must be >= than\n",
    "#   Fermat distances bw train obss, with X=(train obss + test obss)\n",
    "assert (train.distances_ >= full_dists[:n_train, :n_train]).all()\n"
   ]
  },
  {
   "cell_type": "markdown",
   "metadata": {},
   "source": [
    "```python\n",
    "preds = []\n",
    "fhats = []\n",
    "for x in X_test:\n",
    "    fhat = {}\n",
    "    for cls in classes.keys():\n",
    "        klass = classes[cls]\n",
    "        verts, dists = klass[\"verts\"], klass[\"dists\"]\n",
    "        n = verts.shape[0]\n",
    "        to_verts = euclidean_distances(x.reshape(1, -1), verts)[0] ** alpha\n",
    "        fmt_dists = [min(to_verts + dists[:, i]) for i in range(n)]\n",
    "        # print(cls, np.mean(fmt_dists))\n",
    "        fhat[cls] = (1 / h**D) * np.mean([kern(d / h) for d in fmt_dists])\n",
    "    fhats.append(fhat)\n",
    "    preds.append(pd.Series(fhat).argmax())\n",
    "```"
   ]
  },
  {
   "cell_type": "code",
   "execution_count": 76,
   "metadata": {},
   "outputs": [],
   "source": [
    "from sklearn.metrics import accuracy_score\n",
    "from sklearn.datasets import load_digits\n",
    "from sklearn.ensemble import RandomForestClassifier\n"
   ]
  },
  {
   "cell_type": "code",
   "execution_count": 91,
   "metadata": {},
   "outputs": [
    {
     "data": {
      "text/plain": [
       "(898, 74)"
      ]
     },
     "execution_count": 91,
     "metadata": {},
     "output_type": "execute_result"
    }
   ],
   "source": [
    ".shape"
   ]
  },
  {
   "cell_type": "code",
   "execution_count": 108,
   "metadata": {},
   "outputs": [],
   "source": [
    "X, y = load_digits(return_X_y=True)\n",
    "X_train, X_test, y_train, y_test = train_test_split(X, y, stratify=y, test_size=0.90)\n",
    "eucclf = EuclideanKDEClassifier().fit(X_train, y_train)\n",
    "fmtclf = FermatKDEClassifier(alpha=2, bandwith=200).fit(X_train, y_train)\n",
    "rfclf = RandomForestClassifier().fit(X_train, y_train)\n",
    "rfclf2 = RandomForestClassifier().fit(\n",
    "    np.concatenate([X_train, fmtclf.decision_function(X_train)], axis=1), y_train\n",
    ")\n"
   ]
  },
  {
   "cell_type": "code",
   "execution_count": 109,
   "metadata": {},
   "outputs": [
    {
     "name": "stderr",
     "output_type": "stream",
     "text": [
      "/tmp/ipykernel_56471/1728847503.py:17: RuntimeWarning: divide by zero encountered in log\n",
      "  return np.log(densities) if log else densities\n"
     ]
    },
    {
     "name": "stdout",
     "output_type": "stream",
     "text": [
      "EuclideanKDEClassifier() :  0.9363411619283065\n",
      "FermatKDEClassifier(bandwith=200) :  0.9400494437577256\n",
      "RandomForestClassifier() :  0.907292954264524\n",
      "RandomForestClassifier()  - enhanced:  0.934487021013597\n"
     ]
    }
   ],
   "source": [
    "for clf in [eucclf, fmtclf, rfclf]:\n",
    "    print(repr(clf), \": \", accuracy_score(clf.predict(X_test), y_test))\n",
    "print(\n",
    "    repr(rfclf2),\n",
    "    \" - enhanced: \",\n",
    "    accuracy_score(\n",
    "        rfclf2.predict(\n",
    "            np.concatenate([X_test, fmtclf.decision_function(X_test)], axis=1)\n",
    "        ),\n",
    "        y_test,\n",
    "    ),\n",
    ")\n"
   ]
  },
  {
   "cell_type": "code",
   "execution_count": 287,
   "metadata": {},
   "outputs": [
    {
     "name": "stderr",
     "output_type": "stream",
     "text": [
      "/tmp/ipykernel_206930/2399770987.py:24: RuntimeWarning: divide by zero encountered in log\n",
      "  return np.log(densities) if log else densities\n"
     ]
    },
    {
     "data": {
      "text/plain": [
       "(0.8666666666666667, 0.8333333333333334)"
      ]
     },
     "execution_count": 287,
     "metadata": {},
     "output_type": "execute_result"
    }
   ],
   "source": [
    "accuracy_score(eucclf.predict(X_test), y_test), accuracy_score(\n",
    "    fmtclf.predict(X_test), y_test\n",
    ")\n"
   ]
  },
  {
   "cell_type": "code",
   "execution_count": 325,
   "metadata": {},
   "outputs": [
    {
     "data": {
      "text/plain": [
       "[(35, 64), (1762, 64), (35,), (1762,)]"
      ]
     },
     "execution_count": 325,
     "metadata": {},
     "output_type": "execute_result"
    }
   ],
   "source": [
    "[x.shape for x in [X_train, X_test, y_train, y_test]]\n"
   ]
  },
  {
   "cell_type": "code",
   "execution_count": 141,
   "metadata": {},
   "outputs": [
    {
     "data": {
      "text/plain": [
       "array([[0.   , 1.   , 0.   ],\n",
       "       [0.   , 0.9  , 0.1  ],\n",
       "       [1.   , 0.   , 0.   ],\n",
       "       [1.   , 0.   , 0.   ],\n",
       "       [0.   , 0.997, 0.003],\n",
       "       [0.   , 0.001, 0.999],\n",
       "       [1.   , 0.   , 0.   ],\n",
       "       [0.   , 0.435, 0.565],\n",
       "       [1.   , 0.   , 0.   ],\n",
       "       [0.   , 0.021, 0.979],\n",
       "       [0.   , 0.001, 0.999],\n",
       "       [0.   , 0.637, 0.363],\n",
       "       [0.   , 0.146, 0.854],\n",
       "       [1.   , 0.   , 0.   ],\n",
       "       [0.   , 0.001, 0.999],\n",
       "       [1.   , 0.   , 0.   ],\n",
       "       [0.   , 1.   , 0.   ],\n",
       "       [0.   , 0.815, 0.185],\n",
       "       [0.   , 0.   , 1.   ],\n",
       "       [0.   , 0.   , 1.   ],\n",
       "       [0.   , 0.506, 0.494],\n",
       "       [0.   , 0.   , 1.   ],\n",
       "       [0.   , 1.   , 0.   ],\n",
       "       [1.   , 0.   , 0.   ],\n",
       "       [0.   , 0.992, 0.008],\n",
       "       [1.   , 0.   , 0.   ],\n",
       "       [0.   , 0.841, 0.159],\n",
       "       [1.   , 0.   , 0.   ],\n",
       "       [0.   , 1.   , 0.   ],\n",
       "       [0.   , 1.   , 0.   ]])"
      ]
     },
     "execution_count": 141,
     "metadata": {},
     "output_type": "execute_result"
    }
   ],
   "source": [
    "sp_softmax(D * 10, axis=1).round(3)\n"
   ]
  },
  {
   "cell_type": "code",
   "execution_count": 136,
   "metadata": {},
   "outputs": [
    {
     "ename": "AxisError",
     "evalue": "axis 1 is out of bounds for array of dimension 1",
     "output_type": "error",
     "traceback": [
      "\u001b[0;31m---------------------------------------------------------------------------\u001b[0m",
      "\u001b[0;31mAxisError\u001b[0m                                 Traceback (most recent call last)",
      "\u001b[1;32m/home/gonzalo/maestria/fermat/X_n Graph-2.ipynb Cell 61'\u001b[0m in \u001b[0;36m<cell line: 1>\u001b[0;34m()\u001b[0m\n\u001b[0;32m----> <a href='vscode-notebook-cell:/home/gonzalo/maestria/fermat/X_n%20Graph-2.ipynb#ch0000070?line=0'>1</a>\u001b[0m (np\u001b[39m.\u001b[39;49margmax(preds, axis\u001b[39m=\u001b[39;49m\u001b[39m1\u001b[39;49m) \u001b[39m==\u001b[39m y_test)\u001b[39m.\u001b[39mmean()\n",
      "File \u001b[0;32m<__array_function__ internals>:180\u001b[0m, in \u001b[0;36margmax\u001b[0;34m(*args, **kwargs)\u001b[0m\n",
      "File \u001b[0;32m~/maestria/fermat/venv/lib/python3.8/site-packages/numpy/core/fromnumeric.py:1216\u001b[0m, in \u001b[0;36margmax\u001b[0;34m(a, axis, out, keepdims)\u001b[0m\n\u001b[1;32m   <a href='file:///home/gonzalo/maestria/fermat/venv/lib/python3.8/site-packages/numpy/core/fromnumeric.py?line=1128'>1129</a>\u001b[0m \u001b[39m\"\"\"\u001b[39;00m\n\u001b[1;32m   <a href='file:///home/gonzalo/maestria/fermat/venv/lib/python3.8/site-packages/numpy/core/fromnumeric.py?line=1129'>1130</a>\u001b[0m \u001b[39mReturns the indices of the maximum values along an axis.\u001b[39;00m\n\u001b[1;32m   <a href='file:///home/gonzalo/maestria/fermat/venv/lib/python3.8/site-packages/numpy/core/fromnumeric.py?line=1130'>1131</a>\u001b[0m \n\u001b[0;32m   (...)\u001b[0m\n\u001b[1;32m   <a href='file:///home/gonzalo/maestria/fermat/venv/lib/python3.8/site-packages/numpy/core/fromnumeric.py?line=1212'>1213</a>\u001b[0m \u001b[39m(2, 1, 4)\u001b[39;00m\n\u001b[1;32m   <a href='file:///home/gonzalo/maestria/fermat/venv/lib/python3.8/site-packages/numpy/core/fromnumeric.py?line=1213'>1214</a>\u001b[0m \u001b[39m\"\"\"\u001b[39;00m\n\u001b[1;32m   <a href='file:///home/gonzalo/maestria/fermat/venv/lib/python3.8/site-packages/numpy/core/fromnumeric.py?line=1214'>1215</a>\u001b[0m kwds \u001b[39m=\u001b[39m {\u001b[39m'\u001b[39m\u001b[39mkeepdims\u001b[39m\u001b[39m'\u001b[39m: keepdims} \u001b[39mif\u001b[39;00m keepdims \u001b[39mis\u001b[39;00m \u001b[39mnot\u001b[39;00m np\u001b[39m.\u001b[39m_NoValue \u001b[39melse\u001b[39;00m {}\n\u001b[0;32m-> <a href='file:///home/gonzalo/maestria/fermat/venv/lib/python3.8/site-packages/numpy/core/fromnumeric.py?line=1215'>1216</a>\u001b[0m \u001b[39mreturn\u001b[39;00m _wrapfunc(a, \u001b[39m'\u001b[39;49m\u001b[39margmax\u001b[39;49m\u001b[39m'\u001b[39;49m, axis\u001b[39m=\u001b[39;49maxis, out\u001b[39m=\u001b[39;49mout, \u001b[39m*\u001b[39;49m\u001b[39m*\u001b[39;49mkwds)\n",
      "File \u001b[0;32m~/maestria/fermat/venv/lib/python3.8/site-packages/numpy/core/fromnumeric.py:57\u001b[0m, in \u001b[0;36m_wrapfunc\u001b[0;34m(obj, method, *args, **kwds)\u001b[0m\n\u001b[1;32m     <a href='file:///home/gonzalo/maestria/fermat/venv/lib/python3.8/site-packages/numpy/core/fromnumeric.py?line=53'>54</a>\u001b[0m     \u001b[39mreturn\u001b[39;00m _wrapit(obj, method, \u001b[39m*\u001b[39margs, \u001b[39m*\u001b[39m\u001b[39m*\u001b[39mkwds)\n\u001b[1;32m     <a href='file:///home/gonzalo/maestria/fermat/venv/lib/python3.8/site-packages/numpy/core/fromnumeric.py?line=55'>56</a>\u001b[0m \u001b[39mtry\u001b[39;00m:\n\u001b[0;32m---> <a href='file:///home/gonzalo/maestria/fermat/venv/lib/python3.8/site-packages/numpy/core/fromnumeric.py?line=56'>57</a>\u001b[0m     \u001b[39mreturn\u001b[39;00m bound(\u001b[39m*\u001b[39;49margs, \u001b[39m*\u001b[39;49m\u001b[39m*\u001b[39;49mkwds)\n\u001b[1;32m     <a href='file:///home/gonzalo/maestria/fermat/venv/lib/python3.8/site-packages/numpy/core/fromnumeric.py?line=57'>58</a>\u001b[0m \u001b[39mexcept\u001b[39;00m \u001b[39mTypeError\u001b[39;00m:\n\u001b[1;32m     <a href='file:///home/gonzalo/maestria/fermat/venv/lib/python3.8/site-packages/numpy/core/fromnumeric.py?line=58'>59</a>\u001b[0m     \u001b[39m# A TypeError occurs if the object does have such a method in its\u001b[39;00m\n\u001b[1;32m     <a href='file:///home/gonzalo/maestria/fermat/venv/lib/python3.8/site-packages/numpy/core/fromnumeric.py?line=59'>60</a>\u001b[0m     \u001b[39m# class, but its signature is not identical to that of NumPy's. This\u001b[39;00m\n\u001b[0;32m   (...)\u001b[0m\n\u001b[1;32m     <a href='file:///home/gonzalo/maestria/fermat/venv/lib/python3.8/site-packages/numpy/core/fromnumeric.py?line=63'>64</a>\u001b[0m     \u001b[39m# Call _wrapit from within the except clause to ensure a potential\u001b[39;00m\n\u001b[1;32m     <a href='file:///home/gonzalo/maestria/fermat/venv/lib/python3.8/site-packages/numpy/core/fromnumeric.py?line=64'>65</a>\u001b[0m     \u001b[39m# exception has a traceback chain.\u001b[39;00m\n\u001b[1;32m     <a href='file:///home/gonzalo/maestria/fermat/venv/lib/python3.8/site-packages/numpy/core/fromnumeric.py?line=65'>66</a>\u001b[0m     \u001b[39mreturn\u001b[39;00m _wrapit(obj, method, \u001b[39m*\u001b[39margs, \u001b[39m*\u001b[39m\u001b[39m*\u001b[39mkwds)\n",
      "\u001b[0;31mAxisError\u001b[0m: axis 1 is out of bounds for array of dimension 1"
     ]
    }
   ],
   "source": [
    "(np.argmax(preds, axis=1) == y_test).mean()\n"
   ]
  },
  {
   "cell_type": "code",
   "execution_count": null,
   "metadata": {},
   "outputs": [],
   "source": [
    "X, y = load_iris(return_X_y=True)\n",
    "N = len(X)  # # observaciones\n",
    "K = len(set(y))  # # clases\n"
   ]
  },
  {
   "cell_type": "code",
   "execution_count": null,
   "metadata": {},
   "outputs": [],
   "source": [
    "kde = KDEstimator()\n"
   ]
  },
  {
   "cell_type": "code",
   "execution_count": null,
   "metadata": {},
   "outputs": [],
   "source": [
    "kde.fit(X[y == 0])\n"
   ]
  },
  {
   "cell_type": "code",
   "execution_count": null,
   "metadata": {},
   "outputs": [
    {
     "data": {
      "text/plain": [
       "0.00011495190242781194"
      ]
     },
     "execution_count": 550,
     "metadata": {},
     "output_type": "execute_result"
    }
   ],
   "source": [
    "kde.predict(X[-1])\n"
   ]
  },
  {
   "cell_type": "code",
   "execution_count": null,
   "metadata": {},
   "outputs": [
    {
     "data": {
      "text/plain": [
       "0"
      ]
     },
     "execution_count": 552,
     "metadata": {},
     "output_type": "execute_result"
    }
   ],
   "source": [
    "y[0]\n"
   ]
  },
  {
   "cell_type": "markdown",
   "metadata": {},
   "source": [
    "## TemplateClassifier"
   ]
  },
  {
   "cell_type": "code",
   "execution_count": 58,
   "metadata": {},
   "outputs": [],
   "source": [
    "import numpy as np\n",
    "from sklearn.base import BaseEstimator, ClassifierMixin\n",
    "from sklearn.utils.validation import check_X_y, check_array, check_is_fitted\n",
    "from sklearn.utils.multiclass import unique_labels\n",
    "from sklearn.metrics import euclidean_distances\n",
    "\n",
    "\n",
    "class TemplateClassifier(BaseEstimator, ClassifierMixin):\n",
    "    def __init__(self, demo_param=\"demo\"):\n",
    "        self.demo_param = demo_param\n",
    "\n",
    "    def fit(self, X, y):\n",
    "\n",
    "        # Check that X and y have correct shape\n",
    "        X, y = check_X_y(X, y)\n",
    "        # Store the classes seen during fit\n",
    "        self.classes_ = unique_labels(y)\n",
    "\n",
    "        self.X_ = X\n",
    "        self.y_ = y\n",
    "        # Return the classifier\n",
    "        return self\n",
    "\n",
    "    def predict(self, X):\n",
    "\n",
    "        # Check if fit has been called\n",
    "        check_is_fitted(self)\n",
    "\n",
    "        # Input validation\n",
    "        X = check_array(X)\n",
    "\n",
    "        closest = np.argmin(euclidean_distances(X, self.X_), axis=1)\n",
    "        return self.y_[closest]\n"
   ]
  },
  {
   "cell_type": "code",
   "execution_count": null,
   "metadata": {},
   "outputs": [],
   "source": [
    "unique_labels()\n"
   ]
  },
  {
   "cell_type": "markdown",
   "metadata": {},
   "source": []
  }
 ],
 "metadata": {
  "kernelspec": {
   "display_name": "fermat",
   "language": "python",
   "name": "fermat"
  },
  "language_info": {
   "codemirror_mode": {
    "name": "ipython",
    "version": 3
   },
   "file_extension": ".py",
   "mimetype": "text/x-python",
   "name": "python",
   "nbconvert_exporter": "python",
   "pygments_lexer": "ipython3",
   "version": "3.8.5"
  },
  "orig_nbformat": 4
 },
 "nbformat": 4,
 "nbformat_minor": 2
}
