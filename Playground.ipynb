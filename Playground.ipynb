{
 "cells": [
  {
   "cell_type": "code",
   "execution_count": 28,
   "metadata": {},
   "outputs": [],
   "source": [
    "import numpy as np\n",
    "import pandas as pd\n",
    "from scipy.spatial import distance_matrix\n",
    "import matplotlib.pyplot as plt\n",
    "from sklearn.manifold import TSNE\n",
    "from fermat import Fermat\n",
    "from sklearn.datasets import load_iris"
   ]
  },
  {
   "cell_type": "code",
   "execution_count": 29,
   "metadata": {},
   "outputs": [
    {
     "data": {
      "text/plain": [
       "(150, 4)"
      ]
     },
     "execution_count": 29,
     "metadata": {},
     "output_type": "execute_result"
    }
   ],
   "source": [
    "data, target = load_iris(return_X_y=True, as_frame=True)\n",
    "N, D = data.shape\n",
    "N, D"
   ]
  },
  {
   "cell_type": "code",
   "execution_count": 30,
   "metadata": {},
   "outputs": [],
   "source": [
    "classes = target.unique()\n",
    "all_distances = distance_matrix(data, data)\n",
    "cls_distances = {cls: distance_matrix(data[target == cls], data[target == cls]) for cls in classes}\n"
   ]
  },
  {
   "cell_type": "code",
   "execution_count": 31,
   "metadata": {},
   "outputs": [
    {
     "data": {
      "text/plain": [
       "((150, 150), {0: (50, 50), 1: (50, 50), 2: (50, 50)})"
      ]
     },
     "execution_count": 31,
     "metadata": {},
     "output_type": "execute_result"
    }
   ],
   "source": [
    "all_distances.shape, {i: data.shape for i, data in cls_distances.items()}"
   ]
  },
  {
   "cell_type": "code",
   "execution_count": 32,
   "metadata": {},
   "outputs": [],
   "source": [
    "from functools import partial\n",
    "f = partial(Fermat, alpha=4, path_method=\"FW\")\n",
    "# TODO: posible bug, si tomo \n",
    "# f = Fermat(alpha=4, path_method=\"FW\")\n",
    "# Sucesivas llamadas a f.fit(data) retornan una nueva instancia Fermat fiteada, pero fitean también el f \"de base\"\n",
    "# Es problemático, el `partial` te deja trabajar con un \"factory\" manejable\n",
    "\n",
    "f_all = f().fit(all_distances)\n",
    "f_cls = {cls: f().fit(cls_distances[cls]) for cls in classes}"
   ]
  },
  {
   "cell_type": "markdown",
   "metadata": {},
   "source": [
    "For any two points decide if they belong to the same class or not according to the distance in every class:"
   ]
  },
  {
   "cell_type": "code",
   "execution_count": 33,
   "metadata": {},
   "outputs": [],
   "source": [
    "def get_distance_through(p, q, cls):\n",
    "    X = pd.concat([data.loc[[p, q]], data[target == cls]])\n",
    "    dist_mat = distance_matrix(X, X)\n",
    "    return f().fit(dist_mat).get_distance(0, 1)"
   ]
  },
  {
   "cell_type": "code",
   "execution_count": 34,
   "metadata": {},
   "outputs": [
    {
     "name": "stdout",
     "output_type": "stream",
     "text": [
      "p := [5.  3.3 1.4 0.2] (class 0)\n",
      "q := [4.8 3.4 1.6 0.2] (class 0)\n",
      "all    0.0029\n",
      "0      0.0029\n",
      "1      0.0081\n",
      "2      0.0081\n",
      "dtype: float64\n",
      "p := [5.5 2.4 3.8 1.1] (class 1)\n",
      "q := [6.  3.4 4.5 1.6] (class 1)\n",
      "all    0.0737\n",
      "0      3.9601\n",
      "1      0.0737\n",
      "2      2.2903\n",
      "dtype: float64\n",
      "p := [5.2 3.4 1.4 0.2] (class 0)\n",
      "q := [5.4 3.4 1.5 0.4] (class 0)\n",
      "all    0.0081\n",
      "0      0.0081\n",
      "1      0.0081\n",
      "2      0.0081\n",
      "dtype: float64\n"
     ]
    }
   ],
   "source": [
    "for p, q in np.random.randint(0, N, (3, 2)):\n",
    "    print(f\"p := {data.loc[p].values} (class {target[p]})\")\n",
    "    print(f\"q := {data.loc[q].values} (class {target[q]})\")\n",
    "    dists = {}\n",
    "    dists[\"all\"] = f_all.get_distance(p, q)\n",
    "    for cls in classes:\n",
    "        dists[cls] = get_distance_through(p, q, cls)\n",
    "    print(pd.Series(dists))"
   ]
  },
  {
   "cell_type": "markdown",
   "metadata": {},
   "source": [
    "No tiene mucha utilidad el paquete de Fermat para clasificar as-is o estoy loco? No generaliza bien la distancia a nuevos puntos."
   ]
  },
  {
   "cell_type": "markdown",
   "metadata": {},
   "source": [
    "## Out-out-training predictions for FermatKMeans"
   ]
  },
  {
   "cell_type": "code",
   "execution_count": 35,
   "metadata": {},
   "outputs": [],
   "source": [
    "import itertools as it\n",
    "import matplotlib.pyplot as plt\n",
    "from sklearn.base import BaseEstimator, ClassifierMixin\n",
    "from sklearn.datasets import *\n",
    "from sklearn.ensemble import RandomForestClassifier\n",
    "from sklearn.metrics import euclidean_distances\n",
    "from sklearn.model_selection import train_test_split\n",
    "from numpy.random import RandomState\n",
    "from fermat.kmedoids import KMedoids"
   ]
  },
  {
   "cell_type": "code",
   "execution_count": 36,
   "metadata": {},
   "outputs": [],
   "source": [
    "class LandmarksClassifier(BaseEstimator, ClassifierMixin):\n",
    "    def __init__(\n",
    "        self, alpha=2, k=5, method=\"kmedoids\", seed=None\n",
    "    ):  # number of landmarks to take from each class\n",
    "        self.alpha = alpha\n",
    "        self.k = k\n",
    "        self.seed = seed or np.random.randint(2**32 - 1)\n",
    "        self.rs = RandomState(self.seed)\n",
    "        if method not in [\"kmedoids\", \"random\"]:\n",
    "            raise ValueError(f\"{self.method} is not a valid landmarks' choosing method\")\n",
    "        self.method = method\n",
    "\n",
    "    def fit(self, X, y):\n",
    "        self.landmarks_ = {}\n",
    "        for cls in np.unique(y):\n",
    "            X_cls = X[y == cls]\n",
    "            n_cls = X_cls.shape[0]\n",
    "            if self.method == \"kmedoids\":\n",
    "                fmt = Fermat(alpha=self.alpha, path_method=\"FW\", seed=self.seed)\n",
    "                fmt.fit(euclidean_distances(X_cls))\n",
    "                km = KMedoids(iterations=10, seed=self.seed)\n",
    "                distance_matrix = fmt.get_distances()\n",
    "                labels = km(distance_matrix, min(self.k, n_cls))\n",
    "                self.landmarks_[cls] = X_cls[km._find_centers(distance_matrix, labels)]\n",
    "            else:\n",
    "                self.landmarks_[cls] = X_cls[self.rs.randint(0, n_cls)]\n",
    "\n",
    "    def _distances(self, x):\n",
    "        distances = {}\n",
    "        for cls, landmarks in self.landmarks_.items():\n",
    "            X_cls = np.vstack([x, landmarks])\n",
    "            fmt = Fermat(alpha=self.alpha, path_method=\"FW\", seed=self.seed)\n",
    "            fmt.fit(euclidean_distances(X_cls))\n",
    "            distance_matrix = fmt.get_distances()\n",
    "            distances[cls] = distance_matrix[0].mean()  # x is at th the top of X_cls\n",
    "        return distances\n",
    "\n",
    "    def _predict(self, x):\n",
    "        distances = self._distances(x)\n",
    "        return min(distances, key=distances.get)\n",
    "\n",
    "    def predict(self, X):\n",
    "        return np.apply_along_axis(lclf._predict, 1, X)\n"
   ]
  },
  {
   "cell_type": "code",
   "execution_count": 37,
   "metadata": {},
   "outputs": [],
   "source": [
    "config = dict(\n",
    "    n_iter=16,\n",
    "    test_sizes=[0.1, 0.5],\n",
    "    datasets=[\"digits\", \"iris\", \"breast_cancer\", \"wine\", \"diabetes\"],\n",
    "    alphas=[0.5, 1, 1.5, 2, 3, 4],\n",
    "    ks=[3, 10, 30, 100],\n",
    "    methods=[\"kmedoids\", \"random\"],\n",
    "    # n_estimators=[3, 10, 30]   # TODO: LATER\n",
    "    # max_depths=[3, 6, 9]\n",
    ")\n",
    "simple_config = dict(\n",
    "    n_iter=1,\n",
    "    test_sizes=[0.1],\n",
    "    datasets=[\"digits\"],\n",
    "    alphas=[2],\n",
    "    ks=[10],\n",
    "    methods=[\"kmedoids\"],\n",
    "    # n_estimators=[3, 10, 30]   # TODO: LATER\n",
    "    # max_depths=[3, 6, 9]\n",
    ")"
   ]
  },
  {
   "cell_type": "code",
   "execution_count": 38,
   "metadata": {},
   "outputs": [],
   "source": [
    "from sklearn import datasets"
   ]
  },
  {
   "cell_type": "code",
   "execution_count": 39,
   "metadata": {},
   "outputs": [
    {
     "data": {
      "text/plain": [
       "['__all__',\n",
       " '__builtins__',\n",
       " '__cached__',\n",
       " '__doc__',\n",
       " '__file__',\n",
       " '__loader__',\n",
       " '__name__',\n",
       " '__package__',\n",
       " '__path__',\n",
       " '__spec__',\n",
       " '_base',\n",
       " '_california_housing',\n",
       " '_covtype',\n",
       " '_kddcup99',\n",
       " '_lfw',\n",
       " '_olivetti_faces',\n",
       " '_openml',\n",
       " '_rcv1',\n",
       " '_samples_generator',\n",
       " '_species_distributions',\n",
       " '_svmlight_format_fast',\n",
       " '_svmlight_format_io',\n",
       " '_twenty_newsgroups',\n",
       " 'clear_data_home',\n",
       " 'data',\n",
       " 'descr',\n",
       " 'dump_svmlight_file',\n",
       " 'fetch_20newsgroups',\n",
       " 'fetch_20newsgroups_vectorized',\n",
       " 'fetch_california_housing',\n",
       " 'fetch_covtype',\n",
       " 'fetch_kddcup99',\n",
       " 'fetch_lfw_pairs',\n",
       " 'fetch_lfw_people',\n",
       " 'fetch_olivetti_faces',\n",
       " 'fetch_openml',\n",
       " 'fetch_rcv1',\n",
       " 'fetch_species_distributions',\n",
       " 'get_data_home',\n",
       " 'load_boston',\n",
       " 'load_breast_cancer',\n",
       " 'load_diabetes',\n",
       " 'load_digits',\n",
       " 'load_files',\n",
       " 'load_iris',\n",
       " 'load_linnerud',\n",
       " 'load_sample_image',\n",
       " 'load_sample_images',\n",
       " 'load_svmlight_file',\n",
       " 'load_svmlight_files',\n",
       " 'load_wine',\n",
       " 'make_biclusters',\n",
       " 'make_blobs',\n",
       " 'make_checkerboard',\n",
       " 'make_circles',\n",
       " 'make_classification',\n",
       " 'make_friedman1',\n",
       " 'make_friedman2',\n",
       " 'make_friedman3',\n",
       " 'make_gaussian_quantiles',\n",
       " 'make_hastie_10_2',\n",
       " 'make_low_rank_matrix',\n",
       " 'make_moons',\n",
       " 'make_multilabel_classification',\n",
       " 'make_regression',\n",
       " 'make_s_curve',\n",
       " 'make_sparse_coded_signal',\n",
       " 'make_sparse_spd_matrix',\n",
       " 'make_sparse_uncorrelated',\n",
       " 'make_spd_matrix',\n",
       " 'make_swiss_roll']"
      ]
     },
     "execution_count": 39,
     "metadata": {},
     "output_type": "execute_result"
    }
   ],
   "source": [
    "dir(datasets)"
   ]
  },
  {
   "cell_type": "code",
   "execution_count": 42,
   "metadata": {},
   "outputs": [],
   "source": [
    "def run(n_iter, test_sizes, datasets, alphas, ks, methods):\n",
    "    from sklearn import datasets as sk_datasets\n",
    "    runs = []\n",
    "    for ds, size in it.product(datasets, test_sizes):\n",
    "        log = {\"ds\": ds, \"size\": size}\n",
    "        print(log)\n",
    "        loader = eval(f\"sk_datasets.load_{ds}\")\n",
    "        X, y = loader(return_X_y=True)\n",
    "        for i in range(n_iter):\n",
    "            log[\"i\"] = i\n",
    "            print(log)\n",
    "            X_train, X_test, y_train, y_test = train_test_split(\n",
    "                X, y, test_size=size, random_state=i\n",
    "            )\n",
    "            try:\n",
    "                rfclf = RandomForestClassifier(n_estimators=10)\n",
    "                rfclf.fit(X_train, y_train)\n",
    "                runs.append({\"method\": \"rf\", \"score\": rfclf.score(X_test, y_test), **log})\n",
    "            except:\n",
    "                print(f\"Problem with RF for {log}\")\n",
    "            for alpha, k, method in it.product(alphas, ks, methods):\n",
    "                # New keys must be at the end to replace previous values in the loop\n",
    "                log = {**log, \"alpha\": alpha, \"k\": k, \"method\": method}\n",
    "                print(log)\n",
    "                try:\n",
    "                    lclf = LandmarksClassifier(alpha=alpha, k=k, method=method)\n",
    "                    lclf.fit(X_train, y_train)\n",
    "                    runs.append({\"score\": lclf.score(X_test, y_test), **log})\n",
    "                except Exception as e:\n",
    "                    print(f\"Problem with Landmarks for {log}\")\n",
    "\n",
    "    return runs\n"
   ]
  },
  {
   "cell_type": "code",
   "execution_count": 43,
   "metadata": {},
   "outputs": [
    {
     "name": "stdout",
     "output_type": "stream",
     "text": [
      "{'ds': 'digits', 'size': 0.1}\n",
      "{'ds': 'digits', 'size': 0.1, 'i': 0}\n",
      "{'ds': 'digits', 'size': 0.1, 'i': 0, 'alpha': 2, 'k': 10, 'method': 'kmedoids'}\n",
      "Problem with Landmarks for {'ds': 'digits', 'size': 0.1, 'i': 0, 'alpha': 2, 'k': 10, 'method': 'kmedoids'}\n"
     ]
    }
   ],
   "source": [
    "runs = run(**simple_config)"
   ]
  },
  {
   "cell_type": "code",
   "execution_count": 211,
   "metadata": {},
   "outputs": [
    {
     "data": {
      "text/plain": [
       "RandomForestClassifier(n_estimators=10)"
      ]
     },
     "execution_count": 211,
     "metadata": {},
     "output_type": "execute_result"
    }
   ],
   "source": [
    "X, y = load_iris(return_X_y=True)\n",
    "X_train, X_test, y_train, y_test = train_test_split(X, y, test_size=0.2)\n",
    "rfclf = RandomForestClassifier(n_estimators=10)\n",
    "rfclf.fit(X_train, y_train)\n"
   ]
  },
  {
   "cell_type": "code",
   "execution_count": 212,
   "metadata": {},
   "outputs": [
    {
     "data": {
      "text/plain": [
       "0.9333333333333333"
      ]
     },
     "execution_count": 212,
     "metadata": {},
     "output_type": "execute_result"
    }
   ],
   "source": [
    "rfclf.score(X_test, y_test)"
   ]
  },
  {
   "cell_type": "code",
   "execution_count": 213,
   "metadata": {},
   "outputs": [],
   "source": [
    "classes = {}\n",
    "alpha = 2\n",
    "seed = 34\n",
    "X_train, X_test, y_train, y_test = train_test_split(\n",
    "    X / 16.0, y, test_size=0.2, random_state=seed\n",
    ")\n",
    "for cls in np.unique(y_train):\n",
    "    X = X_train[y_train == cls]\n",
    "    n = X.shape[0]\n",
    "    fmt = Fermat(alpha=alpha, path_method=\"FW\", seed=seed + 1)\n",
    "    fmt.fit(euclidean_distances(X))\n",
    "    classes[cls] = dict(verts=X, dists=fmt.get_distances())"
   ]
  },
  {
   "cell_type": "code",
   "execution_count": 215,
   "metadata": {},
   "outputs": [],
   "source": [
    "ix = np.random.randint(0, X_test.shape[0])\n",
    "x, y = X_test[ix], y_test[ix]\n",
    "# plt.imshow(1- x.reshape(8,8), cmap=\"gray\")\n",
    "# plt.suptitle(y), plt.show()"
   ]
  },
  {
   "cell_type": "code",
   "execution_count": 217,
   "metadata": {},
   "outputs": [],
   "source": [
    "cls = 2\n",
    "klass = classes[cls]\n",
    "verts, dists = klass[\"verts\"], klass[\"dists\"]\n",
    "n = verts.shape[0]\n",
    "to_verts = euclidean_distances(x.reshape(1, -1), verts)[0] ** alpha\n",
    "all_dists = fmt.fit(euclidean_distances(np.vstack([x, verts]))).get_distances()\n"
   ]
  },
  {
   "cell_type": "code",
   "execution_count": 218,
   "metadata": {},
   "outputs": [],
   "source": [
    "new_dists = [min(to_verts + dists[:, i]) for i in range(n)]\n",
    "assert np.allclose([0] + new_dists, all_dists[0])"
   ]
  },
  {
   "cell_type": "markdown",
   "metadata": {},
   "source": [
    "### ÉXITO PAPÁÁÁÁÁÁÁ"
   ]
  },
  {
   "cell_type": "code",
   "execution_count": 219,
   "metadata": {},
   "outputs": [],
   "source": [
    "from scipy.stats import norm\n",
    "kern = norm.pdf"
   ]
  },
  {
   "cell_type": "code",
   "execution_count": 220,
   "metadata": {},
   "outputs": [],
   "source": [
    "mu, sigma = np.mean(new_dists), np.std(new_dists)\n",
    "hs = np.linspace(mu - 2 * sigma, mu + 2 * sigma, 5)  # bandwiths"
   ]
  },
  {
   "cell_type": "code",
   "execution_count": 221,
   "metadata": {},
   "outputs": [],
   "source": [
    "h = mu\n"
   ]
  },
  {
   "cell_type": "code",
   "execution_count": 222,
   "metadata": {},
   "outputs": [
    {
     "data": {
      "text/plain": [
       "(30,)"
      ]
     },
     "execution_count": 222,
     "metadata": {},
     "output_type": "execute_result"
    }
   ],
   "source": [
    "y_test.shape"
   ]
  },
  {
   "cell_type": "code",
   "execution_count": 240,
   "metadata": {},
   "outputs": [],
   "source": [
    "n_test = 200\n",
    "preds = []\n",
    "for x in X_test[:n_test]:\n",
    "    fhat = {}\n",
    "    for cls in classes.keys():\n",
    "        klass = classes[cls]\n",
    "        verts, dists = klass[\"verts\"], klass[\"dists\"]\n",
    "        n = verts.shape[0]\n",
    "        to_verts = euclidean_distances(x.reshape(1, -1), verts)[0] ** alpha\n",
    "        fmt_dists = [min(to_verts + dists[:, i]) for i in range(n)]\n",
    "        fhat[cls] = np.mean([(1 / h) * kern(d / h) for d in fmt_dists])\n",
    "    preds.append(pd.Series(fhat).argmin())"
   ]
  },
  {
   "cell_type": "code",
   "execution_count": 241,
   "metadata": {},
   "outputs": [
    {
     "data": {
      "text/plain": [
       "(30,)"
      ]
     },
     "execution_count": 241,
     "metadata": {},
     "output_type": "execute_result"
    }
   ],
   "source": [
    "y_test.shape"
   ]
  },
  {
   "cell_type": "code",
   "execution_count": 242,
   "metadata": {},
   "outputs": [
    {
     "data": {
      "text/plain": [
       "0.0"
      ]
     },
     "execution_count": 242,
     "metadata": {},
     "output_type": "execute_result"
    }
   ],
   "source": [
    "(y_test[:n_test] == preds).mean()"
   ]
  },
  {
   "cell_type": "code",
   "execution_count": 239,
   "metadata": {},
   "outputs": [
    {
     "data": {
      "text/plain": [
       "{0: 2.312399008103711e-32, 1: 0.0007539552893333712, 2: 2.111223144529959e-05}"
      ]
     },
     "execution_count": 239,
     "metadata": {},
     "output_type": "execute_result"
    }
   ],
   "source": [
    "fhat"
   ]
  },
  {
   "cell_type": "code",
   "execution_count": 243,
   "metadata": {},
   "outputs": [
    {
     "data": {
      "text/plain": [
       "(1    15\n",
       " 0    11\n",
       " 2     4\n",
       " dtype: int64,\n",
       " 0    19\n",
       " 2    11\n",
       " dtype: int64)"
      ]
     },
     "execution_count": 243,
     "metadata": {},
     "output_type": "execute_result"
    }
   ],
   "source": [
    "pd.Series(y_test[:n_test]).value_counts(), pd.Series(preds).value_counts()"
   ]
  },
  {
   "cell_type": "code",
   "execution_count": 225,
   "metadata": {},
   "outputs": [
    {
     "data": {
      "text/plain": [
       "{0: 0.0010472140039448103, 1: 0.001931632653061226, 2: 0.002776391186200444}"
      ]
     },
     "execution_count": 225,
     "metadata": {},
     "output_type": "execute_result"
    }
   ],
   "source": [
    "{i: np.mean(cls[\"dists\"]) for i, cls in classes.items()}"
   ]
  },
  {
   "cell_type": "code",
   "execution_count": null,
   "metadata": {},
   "outputs": [],
   "source": []
  },
  {
   "cell_type": "code",
   "execution_count": null,
   "metadata": {},
   "outputs": [],
   "source": [
    "    # New keys must be at the end to replace previous values in the loop\n",
    "    log = {**log, \"alpha\": alpha, \"k\": k, \"method\": method}\n",
    "    print(log)\n",
    "    try:\n",
    "        lclf = LandmarksClassifier(alpha=alpha, k=k, method=method)\n",
    "        lclf.fit(X_train, y_train)\n",
    "        runs.append({\"score\": lclf.score(X_test, y_test), **log})\n",
    "    except Exception as e:\n",
    "        print(f\"Problem with Landmarks for {log}\")\n",
    "        logger.error(e, exc_info=True)"
   ]
  },
  {
   "cell_type": "code",
   "execution_count": 29,
   "metadata": {},
   "outputs": [],
   "source": [
    "pd.DataFrame(runs).to_csv(\"runs.csv\", index=False)"
   ]
  },
  {
   "cell_type": "code",
   "execution_count": 30,
   "metadata": {},
   "outputs": [],
   "source": [
    "df = pd.read_csv(\"runs.csv\")"
   ]
  },
  {
   "cell_type": "code",
   "execution_count": 31,
   "metadata": {},
   "outputs": [
    {
     "data": {
      "text/html": [
       "<div>\n",
       "<style scoped>\n",
       "    .dataframe tbody tr th:only-of-type {\n",
       "        vertical-align: middle;\n",
       "    }\n",
       "\n",
       "    .dataframe tbody tr th {\n",
       "        vertical-align: top;\n",
       "    }\n",
       "\n",
       "    .dataframe thead th {\n",
       "        text-align: right;\n",
       "    }\n",
       "</style>\n",
       "<table border=\"1\" class=\"dataframe\">\n",
       "  <thead>\n",
       "    <tr style=\"text-align: right;\">\n",
       "      <th></th>\n",
       "      <th>method</th>\n",
       "      <th>score</th>\n",
       "      <th>ds</th>\n",
       "      <th>size</th>\n",
       "      <th>i</th>\n",
       "      <th>alpha</th>\n",
       "      <th>k</th>\n",
       "    </tr>\n",
       "  </thead>\n",
       "  <tbody>\n",
       "    <tr>\n",
       "      <th>0</th>\n",
       "      <td>rf</td>\n",
       "      <td>0.950000</td>\n",
       "      <td>digits</td>\n",
       "      <td>0.1</td>\n",
       "      <td>0</td>\n",
       "      <td>NaN</td>\n",
       "      <td>NaN</td>\n",
       "    </tr>\n",
       "    <tr>\n",
       "      <th>7</th>\n",
       "      <td>kmedoids</td>\n",
       "      <td>0.916667</td>\n",
       "      <td>digits</td>\n",
       "      <td>0.1</td>\n",
       "      <td>0</td>\n",
       "      <td>0.5</td>\n",
       "      <td>100.0</td>\n",
       "    </tr>\n",
       "    <tr>\n",
       "      <th>8</th>\n",
       "      <td>random</td>\n",
       "      <td>0.722222</td>\n",
       "      <td>digits</td>\n",
       "      <td>0.1</td>\n",
       "      <td>0</td>\n",
       "      <td>0.5</td>\n",
       "      <td>100.0</td>\n",
       "    </tr>\n",
       "    <tr>\n",
       "      <th>15</th>\n",
       "      <td>kmedoids</td>\n",
       "      <td>0.888889</td>\n",
       "      <td>digits</td>\n",
       "      <td>0.1</td>\n",
       "      <td>0</td>\n",
       "      <td>1.0</td>\n",
       "      <td>100.0</td>\n",
       "    </tr>\n",
       "    <tr>\n",
       "      <th>16</th>\n",
       "      <td>random</td>\n",
       "      <td>0.661111</td>\n",
       "      <td>digits</td>\n",
       "      <td>0.1</td>\n",
       "      <td>0</td>\n",
       "      <td>1.0</td>\n",
       "      <td>100.0</td>\n",
       "    </tr>\n",
       "    <tr>\n",
       "      <th>...</th>\n",
       "      <td>...</td>\n",
       "      <td>...</td>\n",
       "      <td>...</td>\n",
       "      <td>...</td>\n",
       "      <td>...</td>\n",
       "      <td>...</td>\n",
       "      <td>...</td>\n",
       "    </tr>\n",
       "    <tr>\n",
       "      <th>7823</th>\n",
       "      <td>random</td>\n",
       "      <td>0.009050</td>\n",
       "      <td>diabetes</td>\n",
       "      <td>0.5</td>\n",
       "      <td>15</td>\n",
       "      <td>2.0</td>\n",
       "      <td>100.0</td>\n",
       "    </tr>\n",
       "    <tr>\n",
       "      <th>7830</th>\n",
       "      <td>kmedoids</td>\n",
       "      <td>0.004525</td>\n",
       "      <td>diabetes</td>\n",
       "      <td>0.5</td>\n",
       "      <td>15</td>\n",
       "      <td>3.0</td>\n",
       "      <td>100.0</td>\n",
       "    </tr>\n",
       "    <tr>\n",
       "      <th>7831</th>\n",
       "      <td>random</td>\n",
       "      <td>0.004525</td>\n",
       "      <td>diabetes</td>\n",
       "      <td>0.5</td>\n",
       "      <td>15</td>\n",
       "      <td>3.0</td>\n",
       "      <td>100.0</td>\n",
       "    </tr>\n",
       "    <tr>\n",
       "      <th>7838</th>\n",
       "      <td>kmedoids</td>\n",
       "      <td>0.004525</td>\n",
       "      <td>diabetes</td>\n",
       "      <td>0.5</td>\n",
       "      <td>15</td>\n",
       "      <td>4.0</td>\n",
       "      <td>100.0</td>\n",
       "    </tr>\n",
       "    <tr>\n",
       "      <th>7839</th>\n",
       "      <td>random</td>\n",
       "      <td>0.004525</td>\n",
       "      <td>diabetes</td>\n",
       "      <td>0.5</td>\n",
       "      <td>15</td>\n",
       "      <td>4.0</td>\n",
       "      <td>100.0</td>\n",
       "    </tr>\n",
       "  </tbody>\n",
       "</table>\n",
       "<p>2080 rows × 7 columns</p>\n",
       "</div>"
      ],
      "text/plain": [
       "        method     score        ds  size   i  alpha      k\n",
       "0           rf  0.950000    digits   0.1   0    NaN    NaN\n",
       "7     kmedoids  0.916667    digits   0.1   0    0.5  100.0\n",
       "8       random  0.722222    digits   0.1   0    0.5  100.0\n",
       "15    kmedoids  0.888889    digits   0.1   0    1.0  100.0\n",
       "16      random  0.661111    digits   0.1   0    1.0  100.0\n",
       "...        ...       ...       ...   ...  ..    ...    ...\n",
       "7823    random  0.009050  diabetes   0.5  15    2.0  100.0\n",
       "7830  kmedoids  0.004525  diabetes   0.5  15    3.0  100.0\n",
       "7831    random  0.004525  diabetes   0.5  15    3.0  100.0\n",
       "7838  kmedoids  0.004525  diabetes   0.5  15    4.0  100.0\n",
       "7839    random  0.004525  diabetes   0.5  15    4.0  100.0\n",
       "\n",
       "[2080 rows x 7 columns]"
      ]
     },
     "execution_count": 31,
     "metadata": {},
     "output_type": "execute_result"
    }
   ],
   "source": [
    "df[df.alpha.isna() | (df.k == 100)]"
   ]
  },
  {
   "cell_type": "code",
   "execution_count": 3,
   "metadata": {},
   "outputs": [
    {
     "ename": "NameError",
     "evalue": "name 'X' is not defined",
     "output_type": "error",
     "traceback": [
      "\u001b[0;31m---------------------------------------------------------------------------\u001b[0m",
      "\u001b[0;31mNameError\u001b[0m                                 Traceback (most recent call last)",
      "\u001b[1;32m/home/gonzalo/maestria/fermat/Playground.ipynb Cell 18'\u001b[0m in \u001b[0;36m<cell line: 1>\u001b[0;34m()\u001b[0m\n\u001b[0;32m----> <a href='vscode-notebook-cell:/home/gonzalo/maestria/fermat/Playground.ipynb#ch0000017?line=0'>1</a>\u001b[0m X\n",
      "\u001b[0;31mNameError\u001b[0m: name 'X' is not defined"
     ]
    }
   ],
   "source": [
    "X, y = load_"
   ]
  },
  {
   "cell_type": "code",
   "execution_count": null,
   "metadata": {},
   "outputs": [],
   "source": []
  }
 ],
 "metadata": {
  "kernelspec": {
   "display_name": "fermat",
   "language": "python",
   "name": "fermat"
  },
  "language_info": {
   "codemirror_mode": {
    "name": "ipython",
    "version": 3
   },
   "file_extension": ".py",
   "mimetype": "text/x-python",
   "name": "python",
   "nbconvert_exporter": "python",
   "pygments_lexer": "ipython3",
   "version": "3.8.5"
  }
 },
 "nbformat": 4,
 "nbformat_minor": 4
}
