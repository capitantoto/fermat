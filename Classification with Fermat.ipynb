{
 "cells": [
  {
   "cell_type": "code",
   "execution_count": 1,
   "metadata": {},
   "outputs": [],
   "source": [
    "import matplotlib\n",
    "from scipy.stats import vonmises\n",
    "from scipy.stats import norm\n",
    "import matplotlib.pyplot as plt\n",
    "import numpy as np\n",
    "from scipy.spatial import  distance_matrix\n",
    "from scipy.spatial.distance import cdist\n",
    "from sklearn import datasets\n",
    "from sklearn.cluster import SpectralClustering\n",
    "from sklearn.metrics import accuracy_score\n",
    "from sklearn.naive_bayes import GaussianNB\n",
    "\n",
    "import sys\n",
    "from sklearn.ensemble import RandomForestClassifier\n",
    "\n",
    "sys.path.append(\"/Users/franco/Documents/Fermat/Fermat-distance\")\n",
    "from fermat import Fermat\n",
    "\n",
    "%matplotlib inline"
   ]
  },
  {
   "cell_type": "markdown",
   "metadata": {},
   "source": []
  },
  {
   "cell_type": "markdown",
   "metadata": {},
   "source": [
    "## Cálculo de $D_Q (x,y)$ ## \n",
    "\n",
    "data = puntos sobre los cuales calculamos distnacia de fermat empírica y a esta ultima le aplicamos un kernel gaussiano"
   ]
  },
  {
   "cell_type": "code",
   "execution_count": 562,
   "metadata": {},
   "outputs": [],
   "source": [
    "def get_DQ(data,N,k_h =1,alpha =10, k=10, d=64,method='D'):\n",
    "    \n",
    "    distances = distance_matrix(data,data)\n",
    "    \n",
    "    f_exact = Fermat(alpha=alpha,path_method=method,k=k)\n",
    "    \n",
    "    f_exact.fit(np.matrix(distances))\n",
    "    \n",
    "    fermat_distances =  f_exact.get_distances()\n",
    "    \n",
    "\n",
    "    h =k_h *  N ** (-1/(d+4)) \n",
    "    beta = (1-alpha)/d\n",
    "\n",
    "    fermat_distances =  np.array( (1/h) *(N ** (-beta)) *fermat_distances,dtype =np.float32)\n",
    "    \n",
    "    #delta = 1 # Esto despues cambiarlo\n",
    "\n",
    "    #kernel_fermat_distances = (N **2 )* np.exp(- fermat_distances ** 2 / (2. * delta ** 2))\n",
    "    kernel_fermat_distances = (1/N) * (h ** (-d)) *  np.exp(-1* fermat_distances ** 2 / 2. ) # Le saque el delta\n",
    "    #kernel_fermat_distances =  np.exp(-1* fermat_distances ** 2 / 2. )\n",
    "    \n",
    "    return kernel_fermat_distances,fermat_distances"
   ]
  },
  {
   "cell_type": "markdown",
   "metadata": {},
   "source": [
    "# Generamos data de 2 lunas \n",
    "\n",
    "$N =$ cantidad de puntos en cada luna. La muestra es de tamaño $2N$"
   ]
  },
  {
   "cell_type": "code",
   "execution_count": 597,
   "metadata": {},
   "outputs": [
    {
     "data": {
      "image/png": "[encoded data removed]",
      "text/plain": [
       "<Figure size 432x288 with 1 Axes>"
      ]
     },
     "metadata": {
      "needs_background": "light"
     },
     "output_type": "display_data"
    }
   ],
   "source": [
    "N = 100\n",
    "n_samples = 2*N\n",
    "noisy_moons = datasets.make_moons(n_samples= n_samples, noise=0.14)\n",
    "\n",
    "xnoise = [noisy_moons[0][i][0] for i in range(2*N)]\n",
    "ynoise = [noisy_moons[0][i][1] for i in range(2*N)]\n",
    "plt.plot(xnoise,ynoise,'.')\n",
    "\n",
    "\n",
    "true_labels = noisy_moons[1]"
   ]
  },
  {
   "cell_type": "code",
   "execution_count": null,
   "metadata": {},
   "outputs": [],
   "source": []
  },
  {
   "cell_type": "code",
   "execution_count": 598,
   "metadata": {},
   "outputs": [],
   "source": [
    "first_moon = np.array([ noisy_moons[0][i] for i in range(n_samples) if noisy_moons[1][i]==0  ])\n",
    "\n",
    "first_moon_x = [ noisy_moons[0][i][0] for i in range(n_samples) if noisy_moons[1][i]==0  ]\n",
    "first_moon_y = [ noisy_moons[0][i][1] for i in range(n_samples) if noisy_moons[1][i]==0  ]\n",
    "\n",
    "second_moon = np.array([ noisy_moons[0][i] for i in range(n_samples) if noisy_moons[1][i]==1 ])\n",
    "\n",
    "second_moon_x = [ noisy_moons[0][i][0] for i in range(n_samples) if noisy_moons[1][i]==1  ]\n",
    "second_moon_y = [ noisy_moons[0][i][1] for i in range(n_samples) if noisy_moons[1][i]==1  ]\n",
    "\n",
    "#plt.plot(first_moon_x,first_moon_y,'r.')\n",
    "#plt.plot(second_moon_x,second_moon_y,'b.')\n",
    "    "
   ]
  },
  {
   "cell_type": "markdown",
   "metadata": {},
   "source": [
    "# Generamos data para evaluar\n",
    "\n",
    "Tomamos *test_size* puntos de cada luna y calculamos \n",
    "Para cada $p \\in  $ *noisy_moons_test* calculamos \n",
    "    $$ \\sum_{q \\in \\text{first_moon}}\\frac{1}{nh^d} K(\\frac{1}{hn^\\beta}D_Q(p,q)) \\qquad vs \\qquad  \\sum_{q \\in \\text{second_moon}} \\frac{1}{nh^d} K(\\frac{1}{hn^\\beta}D_Q(p,q))  $$\n",
    "    \n",
    "Obs: Los factores de normalizacion no los estoy teniendo en cuenta. Sería una especie de Naive Bayes con un nucleo y el estimador de Fermat"
   ]
  },
  {
   "cell_type": "code",
   "execution_count": 599,
   "metadata": {},
   "outputs": [],
   "source": [
    "test_size =5000\n",
    "noisy_moons_test = datasets.make_moons(n_samples=test_size, noise=0.14)\n",
    "first_moon_test  = np.array([ noisy_moons_test[0][i] for i in range(test_size) if noisy_moons_test[1][i]==0 ])\n",
    "second_moon_test = np.array([ noisy_moons_test[0][i] for i in range(test_size) if noisy_moons_test[1][i]==1  ])\n"
   ]
  },
  {
   "cell_type": "code",
   "execution_count": 600,
   "metadata": {},
   "outputs": [
    {
     "ename": "KeyboardInterrupt",
     "evalue": "",
     "output_type": "error",
     "traceback": [
      "\u001b[0;31m---------------------------------------------------------------------------\u001b[0m",
      "\u001b[0;31mKeyboardInterrupt\u001b[0m                         Traceback (most recent call last)",
      "\u001b[0;32m<ipython-input-600-489591c6520b>\u001b[0m in \u001b[0;36m<module>\u001b[0;34m\u001b[0m\n\u001b[1;32m      1\u001b[0m \u001b[0;32mfor\u001b[0m \u001b[0mi\u001b[0m \u001b[0;32min\u001b[0m \u001b[0mrange\u001b[0m\u001b[0;34m(\u001b[0m\u001b[0mtest_size\u001b[0m\u001b[0;34m)\u001b[0m\u001b[0;34m:\u001b[0m\u001b[0;34m\u001b[0m\u001b[0;34m\u001b[0m\u001b[0m\n\u001b[1;32m      2\u001b[0m     \u001b[0;32mif\u001b[0m \u001b[0mnoisy_moons_test\u001b[0m\u001b[0;34m[\u001b[0m\u001b[0;36m1\u001b[0m\u001b[0;34m]\u001b[0m\u001b[0;34m[\u001b[0m\u001b[0mi\u001b[0m\u001b[0;34m]\u001b[0m\u001b[0;34m==\u001b[0m\u001b[0;36m0\u001b[0m\u001b[0;34m:\u001b[0m\u001b[0;34m\u001b[0m\u001b[0;34m\u001b[0m\u001b[0m\n\u001b[0;32m----> 3\u001b[0;31m         \u001b[0mplt\u001b[0m\u001b[0;34m.\u001b[0m\u001b[0mplot\u001b[0m\u001b[0;34m(\u001b[0m\u001b[0mnoisy_moons_test\u001b[0m\u001b[0;34m[\u001b[0m\u001b[0;36m0\u001b[0m\u001b[0;34m]\u001b[0m\u001b[0;34m[\u001b[0m\u001b[0mi\u001b[0m\u001b[0;34m]\u001b[0m\u001b[0;34m[\u001b[0m\u001b[0;36m0\u001b[0m\u001b[0;34m]\u001b[0m\u001b[0;34m,\u001b[0m\u001b[0mnoisy_moons_test\u001b[0m\u001b[0;34m[\u001b[0m\u001b[0;36m0\u001b[0m\u001b[0;34m]\u001b[0m\u001b[0;34m[\u001b[0m\u001b[0mi\u001b[0m\u001b[0;34m]\u001b[0m\u001b[0;34m[\u001b[0m\u001b[0;36m1\u001b[0m\u001b[0;34m]\u001b[0m\u001b[0;34m,\u001b[0m\u001b[0;34m'r.'\u001b[0m\u001b[0;34m)\u001b[0m\u001b[0;34m\u001b[0m\u001b[0;34m\u001b[0m\u001b[0m\n\u001b[0m\u001b[1;32m      4\u001b[0m     \u001b[0;32melse\u001b[0m\u001b[0;34m:\u001b[0m\u001b[0;34m\u001b[0m\u001b[0;34m\u001b[0m\u001b[0m\n\u001b[1;32m      5\u001b[0m          \u001b[0mplt\u001b[0m\u001b[0;34m.\u001b[0m\u001b[0mplot\u001b[0m\u001b[0;34m(\u001b[0m\u001b[0mnoisy_moons_test\u001b[0m\u001b[0;34m[\u001b[0m\u001b[0;36m0\u001b[0m\u001b[0;34m]\u001b[0m\u001b[0;34m[\u001b[0m\u001b[0mi\u001b[0m\u001b[0;34m]\u001b[0m\u001b[0;34m[\u001b[0m\u001b[0;36m0\u001b[0m\u001b[0;34m]\u001b[0m\u001b[0;34m,\u001b[0m\u001b[0mnoisy_moons_test\u001b[0m\u001b[0;34m[\u001b[0m\u001b[0;36m0\u001b[0m\u001b[0;34m]\u001b[0m\u001b[0;34m[\u001b[0m\u001b[0mi\u001b[0m\u001b[0;34m]\u001b[0m\u001b[0;34m[\u001b[0m\u001b[0;36m1\u001b[0m\u001b[0;34m]\u001b[0m\u001b[0;34m,\u001b[0m\u001b[0;34m'b.'\u001b[0m\u001b[0;34m)\u001b[0m\u001b[0;34m\u001b[0m\u001b[0;34m\u001b[0m\u001b[0m\n",
      "\u001b[0;32m/anaconda3/lib/python3.7/site-packages/matplotlib/pyplot.py\u001b[0m in \u001b[0;36mplot\u001b[0;34m(scalex, scaley, data, *args, **kwargs)\u001b[0m\n\u001b[1;32m   2809\u001b[0m     return gca().plot(\n\u001b[1;32m   2810\u001b[0m         *args, scalex=scalex, scaley=scaley, **({\"data\": data} if data\n\u001b[0;32m-> 2811\u001b[0;31m         is not None else {}), **kwargs)\n\u001b[0m\u001b[1;32m   2812\u001b[0m \u001b[0;34m\u001b[0m\u001b[0m\n\u001b[1;32m   2813\u001b[0m \u001b[0;34m\u001b[0m\u001b[0m\n",
      "\u001b[0;32m/anaconda3/lib/python3.7/site-packages/matplotlib/__init__.py\u001b[0m in \u001b[0;36minner\u001b[0;34m(ax, data, *args, **kwargs)\u001b[0m\n\u001b[1;32m   1808\u001b[0m                         \u001b[0;34m\"the Matplotlib list!)\"\u001b[0m \u001b[0;34m%\u001b[0m \u001b[0;34m(\u001b[0m\u001b[0mlabel_namer\u001b[0m\u001b[0;34m,\u001b[0m \u001b[0mfunc\u001b[0m\u001b[0;34m.\u001b[0m\u001b[0m__name__\u001b[0m\u001b[0;34m)\u001b[0m\u001b[0;34m,\u001b[0m\u001b[0;34m\u001b[0m\u001b[0;34m\u001b[0m\u001b[0m\n\u001b[1;32m   1809\u001b[0m                         RuntimeWarning, stacklevel=2)\n\u001b[0;32m-> 1810\u001b[0;31m             \u001b[0;32mreturn\u001b[0m \u001b[0mfunc\u001b[0m\u001b[0;34m(\u001b[0m\u001b[0max\u001b[0m\u001b[0;34m,\u001b[0m \u001b[0;34m*\u001b[0m\u001b[0margs\u001b[0m\u001b[0;34m,\u001b[0m \u001b[0;34m**\u001b[0m\u001b[0mkwargs\u001b[0m\u001b[0;34m)\u001b[0m\u001b[0;34m\u001b[0m\u001b[0;34m\u001b[0m\u001b[0m\n\u001b[0m\u001b[1;32m   1811\u001b[0m \u001b[0;34m\u001b[0m\u001b[0m\n\u001b[1;32m   1812\u001b[0m         inner.__doc__ = _add_data_doc(inner.__doc__,\n",
      "\u001b[0;32m/anaconda3/lib/python3.7/site-packages/matplotlib/axes/_axes.py\u001b[0m in \u001b[0;36mplot\u001b[0;34m(self, scalex, scaley, *args, **kwargs)\u001b[0m\n\u001b[1;32m   1609\u001b[0m         \u001b[0mkwargs\u001b[0m \u001b[0;34m=\u001b[0m \u001b[0mcbook\u001b[0m\u001b[0;34m.\u001b[0m\u001b[0mnormalize_kwargs\u001b[0m\u001b[0;34m(\u001b[0m\u001b[0mkwargs\u001b[0m\u001b[0;34m,\u001b[0m \u001b[0mmlines\u001b[0m\u001b[0;34m.\u001b[0m\u001b[0mLine2D\u001b[0m\u001b[0;34m.\u001b[0m\u001b[0m_alias_map\u001b[0m\u001b[0;34m)\u001b[0m\u001b[0;34m\u001b[0m\u001b[0;34m\u001b[0m\u001b[0m\n\u001b[1;32m   1610\u001b[0m \u001b[0;34m\u001b[0m\u001b[0m\n\u001b[0;32m-> 1611\u001b[0;31m         \u001b[0;32mfor\u001b[0m \u001b[0mline\u001b[0m \u001b[0;32min\u001b[0m \u001b[0mself\u001b[0m\u001b[0;34m.\u001b[0m\u001b[0m_get_lines\u001b[0m\u001b[0;34m(\u001b[0m\u001b[0;34m*\u001b[0m\u001b[0margs\u001b[0m\u001b[0;34m,\u001b[0m \u001b[0;34m**\u001b[0m\u001b[0mkwargs\u001b[0m\u001b[0;34m)\u001b[0m\u001b[0;34m:\u001b[0m\u001b[0;34m\u001b[0m\u001b[0;34m\u001b[0m\u001b[0m\n\u001b[0m\u001b[1;32m   1612\u001b[0m             \u001b[0mself\u001b[0m\u001b[0;34m.\u001b[0m\u001b[0madd_line\u001b[0m\u001b[0;34m(\u001b[0m\u001b[0mline\u001b[0m\u001b[0;34m)\u001b[0m\u001b[0;34m\u001b[0m\u001b[0;34m\u001b[0m\u001b[0m\n\u001b[1;32m   1613\u001b[0m             \u001b[0mlines\u001b[0m\u001b[0;34m.\u001b[0m\u001b[0mappend\u001b[0m\u001b[0;34m(\u001b[0m\u001b[0mline\u001b[0m\u001b[0;34m)\u001b[0m\u001b[0;34m\u001b[0m\u001b[0;34m\u001b[0m\u001b[0m\n",
      "\u001b[0;32m/anaconda3/lib/python3.7/site-packages/matplotlib/axes/_base.py\u001b[0m in \u001b[0;36m_grab_next_args\u001b[0;34m(self, *args, **kwargs)\u001b[0m\n\u001b[1;32m    391\u001b[0m                 \u001b[0mthis\u001b[0m \u001b[0;34m+=\u001b[0m \u001b[0margs\u001b[0m\u001b[0;34m[\u001b[0m\u001b[0;36m0\u001b[0m\u001b[0;34m]\u001b[0m\u001b[0;34m,\u001b[0m\u001b[0;34m\u001b[0m\u001b[0;34m\u001b[0m\u001b[0m\n\u001b[1;32m    392\u001b[0m                 \u001b[0margs\u001b[0m \u001b[0;34m=\u001b[0m \u001b[0margs\u001b[0m\u001b[0;34m[\u001b[0m\u001b[0;36m1\u001b[0m\u001b[0;34m:\u001b[0m\u001b[0;34m]\u001b[0m\u001b[0;34m\u001b[0m\u001b[0;34m\u001b[0m\u001b[0m\n\u001b[0;32m--> 393\u001b[0;31m             \u001b[0;32myield\u001b[0m \u001b[0;32mfrom\u001b[0m \u001b[0mself\u001b[0m\u001b[0;34m.\u001b[0m\u001b[0m_plot_args\u001b[0m\u001b[0;34m(\u001b[0m\u001b[0mthis\u001b[0m\u001b[0;34m,\u001b[0m \u001b[0mkwargs\u001b[0m\u001b[0;34m)\u001b[0m\u001b[0;34m\u001b[0m\u001b[0;34m\u001b[0m\u001b[0m\n\u001b[0m\u001b[1;32m    394\u001b[0m \u001b[0;34m\u001b[0m\u001b[0m\n\u001b[1;32m    395\u001b[0m \u001b[0;34m\u001b[0m\u001b[0m\n",
      "\u001b[0;32m/anaconda3/lib/python3.7/site-packages/matplotlib/axes/_base.py\u001b[0m in \u001b[0;36m_plot_args\u001b[0;34m(self, tup, kwargs)\u001b[0m\n\u001b[1;32m    340\u001b[0m         \u001b[0mret\u001b[0m \u001b[0;34m=\u001b[0m \u001b[0;34m[\u001b[0m\u001b[0;34m]\u001b[0m\u001b[0;34m\u001b[0m\u001b[0;34m\u001b[0m\u001b[0m\n\u001b[1;32m    341\u001b[0m         \u001b[0;32mif\u001b[0m \u001b[0mlen\u001b[0m\u001b[0;34m(\u001b[0m\u001b[0mtup\u001b[0m\u001b[0;34m)\u001b[0m \u001b[0;34m>\u001b[0m \u001b[0;36m1\u001b[0m \u001b[0;32mand\u001b[0m \u001b[0misinstance\u001b[0m\u001b[0;34m(\u001b[0m\u001b[0mtup\u001b[0m\u001b[0;34m[\u001b[0m\u001b[0;34m-\u001b[0m\u001b[0;36m1\u001b[0m\u001b[0;34m]\u001b[0m\u001b[0;34m,\u001b[0m \u001b[0mstr\u001b[0m\u001b[0;34m)\u001b[0m\u001b[0;34m:\u001b[0m\u001b[0;34m\u001b[0m\u001b[0;34m\u001b[0m\u001b[0m\n\u001b[0;32m--> 342\u001b[0;31m             \u001b[0mlinestyle\u001b[0m\u001b[0;34m,\u001b[0m \u001b[0mmarker\u001b[0m\u001b[0;34m,\u001b[0m \u001b[0mcolor\u001b[0m \u001b[0;34m=\u001b[0m \u001b[0m_process_plot_format\u001b[0m\u001b[0;34m(\u001b[0m\u001b[0mtup\u001b[0m\u001b[0;34m[\u001b[0m\u001b[0;34m-\u001b[0m\u001b[0;36m1\u001b[0m\u001b[0;34m]\u001b[0m\u001b[0;34m)\u001b[0m\u001b[0;34m\u001b[0m\u001b[0;34m\u001b[0m\u001b[0m\n\u001b[0m\u001b[1;32m    343\u001b[0m             \u001b[0mtup\u001b[0m \u001b[0;34m=\u001b[0m \u001b[0mtup\u001b[0m\u001b[0;34m[\u001b[0m\u001b[0;34m:\u001b[0m\u001b[0;34m-\u001b[0m\u001b[0;36m1\u001b[0m\u001b[0;34m]\u001b[0m\u001b[0;34m\u001b[0m\u001b[0;34m\u001b[0m\u001b[0m\n\u001b[1;32m    344\u001b[0m         \u001b[0;32melif\u001b[0m \u001b[0mlen\u001b[0m\u001b[0;34m(\u001b[0m\u001b[0mtup\u001b[0m\u001b[0;34m)\u001b[0m \u001b[0;34m==\u001b[0m \u001b[0;36m3\u001b[0m\u001b[0;34m:\u001b[0m\u001b[0;34m\u001b[0m\u001b[0;34m\u001b[0m\u001b[0m\n",
      "\u001b[0;32m/anaconda3/lib/python3.7/site-packages/matplotlib/axes/_base.py\u001b[0m in \u001b[0;36m_process_plot_format\u001b[0;34m(fmt)\u001b[0m\n\u001b[1;32m    105\u001b[0m                     'Illegal format string \"%s\"; two marker symbols' % fmt)\n\u001b[1;32m    106\u001b[0m             \u001b[0mmarker\u001b[0m \u001b[0;34m=\u001b[0m \u001b[0mc\u001b[0m\u001b[0;34m\u001b[0m\u001b[0;34m\u001b[0m\u001b[0m\n\u001b[0;32m--> 107\u001b[0;31m         \u001b[0;32melif\u001b[0m \u001b[0mc\u001b[0m \u001b[0;32min\u001b[0m \u001b[0mmcolors\u001b[0m\u001b[0;34m.\u001b[0m\u001b[0mget_named_colors_mapping\u001b[0m\u001b[0;34m(\u001b[0m\u001b[0;34m)\u001b[0m\u001b[0;34m:\u001b[0m\u001b[0;34m\u001b[0m\u001b[0;34m\u001b[0m\u001b[0m\n\u001b[0m\u001b[1;32m    108\u001b[0m             \u001b[0;32mif\u001b[0m \u001b[0mcolor\u001b[0m \u001b[0;32mis\u001b[0m \u001b[0;32mnot\u001b[0m \u001b[0;32mNone\u001b[0m\u001b[0;34m:\u001b[0m\u001b[0;34m\u001b[0m\u001b[0;34m\u001b[0m\u001b[0m\n\u001b[1;32m    109\u001b[0m                 raise ValueError(\n",
      "\u001b[0;31mKeyboardInterrupt\u001b[0m: "
     ]
    },
    {
     "data": {
      "image/png": "[encoded data removed]",
      "text/plain": [
       "<Figure size 432x288 with 1 Axes>"
      ]
     },
     "metadata": {
      "needs_background": "light"
     },
     "output_type": "display_data"
    }
   ],
   "source": [
    "for i in range(test_size):\n",
    "    if noisy_moons_test[1][i]==0:\n",
    "        plt.plot(noisy_moons_test[0][i][0],noisy_moons_test[0][i][1],'r.')\n",
    "    else:\n",
    "         plt.plot(noisy_moons_test[0][i][0],noisy_moons_test[0][i][1],'b.')"
   ]
  },
  {
   "cell_type": "code",
   "execution_count": null,
   "metadata": {},
   "outputs": [],
   "source": [
    "#distances_0 = get_DQ(data = np.concatenate((first_moon,first_moon_test,second_moon_test)))\n",
    "#distances_1 = get_DQ(data = np.concatenate((second_moon,first_moon_test,second_moon_test)))fer\n",
    "distances_0,fermat_distances_0 = get_DQ(data = np.concatenate((first_moon,noisy_moons_test[0])),k_h= 1, N =N, alpha=2,d=1)\n",
    "distances_1,fermat_distances_1= get_DQ(data = np.concatenate((second_moon,noisy_moons_test[0])),k_h =1, N=N, alpha =2,d=1)"
   ]
  },
  {
   "cell_type": "code",
   "execution_count": null,
   "metadata": {},
   "outputs": [],
   "source": []
  },
  {
   "cell_type": "code",
   "execution_count": 572,
   "metadata": {},
   "outputs": [],
   "source": [
    "#Evaluamos si la suma correspondiente al cluster 0 es menor que la del cluster 1 para ver que etiqueta\n",
    "# le asignamos \n",
    "\n",
    "labels = (len(distances_0)-N)*[0]\n",
    "for i in range(N,len(distances_0)):\n",
    "    if np.sum(distances_0[i,:N])< np.sum(distances_1[i,:N]):\n",
    "        labels[i-N]=1\n",
    "    \n"
   ]
  },
  {
   "cell_type": "markdown",
   "metadata": {},
   "source": [
    "## Resultados\n",
    "\n"
   ]
  },
  {
   "cell_type": "markdown",
   "metadata": {},
   "source": [
    "## Clusters que genera "
   ]
  },
  {
   "cell_type": "code",
   "execution_count": 159,
   "metadata": {},
   "outputs": [],
   "source": [
    "def plot_clusters_2D(data,labels):\n",
    "    colours =[\".r\",\".g\",\".b\"]\n",
    "    for i in range(len(labels)):\n",
    "         plt.plot(data[i][0],data[i][1],colours[int(labels[i])])\n",
    "    "
   ]
  },
  {
   "cell_type": "code",
   "execution_count": 160,
   "metadata": {},
   "outputs": [
    {
     "data": {
      "image/png": "[encoded data removed]",
      "text/plain": [
       "<Figure size 432x288 with 1 Axes>"
      ]
     },
     "metadata": {
      "needs_background": "light"
     },
     "output_type": "display_data"
    }
   ],
   "source": [
    "plot_clusters_2D(noisy_moons_test[0],labels)\n"
   ]
  },
  {
   "cell_type": "code",
   "execution_count": 573,
   "metadata": {},
   "outputs": [],
   "source": [
    "def model_accuracy(model,labels_predict,real_labels):\n",
    "    acc  =  0\n",
    "    for i in range(len(labels_predict)):\n",
    "        if labels_predict[i]==real_labels[i]:\n",
    "            acc = acc +1 \n",
    "    print(\"The accuracy of \",model, \" classifier is \", 100 * acc/len(labels_predict), \"%\")\n",
    "    "
   ]
  },
  {
   "cell_type": "code",
   "execution_count": 574,
   "metadata": {},
   "outputs": [
    {
     "name": "stdout",
     "output_type": "stream",
     "text": [
      "The accuracy of  Fermat  classifier is  99.2 %\n"
     ]
    }
   ],
   "source": [
    "\n",
    "model_accuracy(\"Fermat\",labels,noisy_moons_test[1])"
   ]
  },
  {
   "cell_type": "markdown",
   "metadata": {},
   "source": [
    "## Dos lunas con Naive Bayes ##"
   ]
  },
  {
   "cell_type": "code",
   "execution_count": 146,
   "metadata": {},
   "outputs": [
    {
     "data": {
      "text/plain": [
       "GaussianNB(priors=None, var_smoothing=1e-09)"
      ]
     },
     "execution_count": 146,
     "metadata": {},
     "output_type": "execute_result"
    }
   ],
   "source": [
    "\n",
    "clf = GaussianNB()\n",
    "moons = np.concatenate((first_moon,second_moon))\n",
    "labels = np.zeros(len(moons))\n",
    "labels[len(first_moon):]=np.ones(len(second_moon))\n",
    "clf.fit(moons,labels)"
   ]
  },
  {
   "cell_type": "code",
   "execution_count": 147,
   "metadata": {},
   "outputs": [],
   "source": [
    "\n",
    "labels_predict = clf.predict(noisy_moons_test[0])"
   ]
  },
  {
   "cell_type": "code",
   "execution_count": 148,
   "metadata": {},
   "outputs": [
    {
     "name": "stdout",
     "output_type": "stream",
     "text": [
      "The accuracy of  Naive Bayes  classifier is  87.5 %\n"
     ]
    }
   ],
   "source": [
    "model_accuracy(\"Naive Bayes\",labels_predict,noisy_moons_test[1])"
   ]
  },
  {
   "cell_type": "code",
   "execution_count": 128,
   "metadata": {},
   "outputs": [
    {
     "data": {
      "image/png": "[encoded data removed]",
      "text/plain": [
       "<Figure size 432x288 with 1 Axes>"
      ]
     },
     "metadata": {
      "needs_background": "light"
     },
     "output_type": "display_data"
    }
   ],
   "source": [
    "plot_clusters_2D(noisy_moons_test[0],labels_predict)"
   ]
  },
  {
   "cell_type": "markdown",
   "metadata": {},
   "source": [
    "## Random Forest"
   ]
  },
  {
   "cell_type": "code",
   "execution_count": null,
   "metadata": {},
   "outputs": [],
   "source": [
    "#from sklearn.ensemble import RandomForestClassifier\n",
    "\n",
    "# Instantiate\n",
    "rf = RandomForestClassifier()  \n",
    "# Fit\n",
    "rf_model = rf.fit(moons,labels)  \n",
    "# training accuracy\n",
    "rf_model.score(moons, labels)"
   ]
  },
  {
   "cell_type": "code",
   "execution_count": 132,
   "metadata": {},
   "outputs": [],
   "source": [
    "labels_predict = rf_model.predict(noisy_moons_test[0])"
   ]
  },
  {
   "cell_type": "code",
   "execution_count": 150,
   "metadata": {},
   "outputs": [
    {
     "name": "stdout",
     "output_type": "stream",
     "text": [
      "The accuracy of  Random Forest  classifier is  87.5 %\n"
     ]
    },
    {
     "data": {
      "image/png": "[encoded data removed]",
      "text/plain": [
       "<Figure size 432x288 with 1 Axes>"
      ]
     },
     "metadata": {
      "needs_background": "light"
     },
     "output_type": "display_data"
    }
   ],
   "source": [
    "model_accuracy(\"Random Forest\",labels_predict,noisy_moons_test[1])\n",
    "plot_clusters_2D(noisy_moons_test[0],labels_predict)"
   ]
  },
  {
   "cell_type": "markdown",
   "metadata": {},
   "source": [
    "## Digits 0-1 images"
   ]
  },
  {
   "cell_type": "code",
   "execution_count": 587,
   "metadata": {},
   "outputs": [],
   "source": [
    "digits = datasets.load_digits(n_class=2)"
   ]
  },
  {
   "cell_type": "code",
   "execution_count": 588,
   "metadata": {},
   "outputs": [
    {
     "data": {
      "image/png": "[encoded data removed]",
      "text/plain": [
       "<Figure size 432x288 with 4 Axes>"
      ]
     },
     "metadata": {
      "needs_background": "light"
     },
     "output_type": "display_data"
    }
   ],
   "source": [
    "images_and_labels = list(zip(digits.images, digits.target))\n",
    "\n",
    "for index, (image, label) in enumerate(images_and_labels[:4]):\n",
    "    plt.subplot(2, 4, index + 1)\n",
    "    plt.axis('off')\n",
    "    plt.imshow(image, cmap=plt.cm.gray_r, interpolation='nearest')\n",
    "    plt.title('Training: %i' % label)\n",
    "    \n"
   ]
  },
  {
   "cell_type": "code",
   "execution_count": 589,
   "metadata": {},
   "outputs": [],
   "source": [
    "n_samples = len(digits.images)\n",
    "data = digits.images.reshape((n_samples, -1))/16"
   ]
  },
  {
   "cell_type": "code",
   "execution_count": 590,
   "metadata": {},
   "outputs": [],
   "source": [
    "images_0  = []\n",
    "images_1 =  []\n",
    "n_training  = 10\n",
    "n_test = n_samples-n_training\n",
    "\n",
    "images_and_labels_training = images_and_labels[:n_training]\n",
    "images_and_labels_test = images_and_labels[n_training:]\n",
    "\n",
    "for index, (image, label) in enumerate(images_and_labels_training):\n",
    "    if label == 0 :\n",
    "        images_0.append(data[index])\n",
    "    else:\n",
    "        images_1.append(data[index]) \n",
    "    \n",
    "    "
   ]
  },
  {
   "cell_type": "code",
   "execution_count": 591,
   "metadata": {},
   "outputs": [],
   "source": [
    "images_0 = np.array(images_0)\n",
    "images_1 = np.array(images_1)"
   ]
  },
  {
   "cell_type": "markdown",
   "metadata": {},
   "source": [
    "### Digits with Fermat"
   ]
  },
  {
   "cell_type": "code",
   "execution_count": 592,
   "metadata": {},
   "outputs": [],
   "source": [
    "\n",
    "kernel_digits_distances_0, fermat_digits_distances_0  = get_DQ(data=np.concatenate((images_0,data[n_training:])),k_h=1,N=n_training,alpha=2,k=20,d=64,method='FW')\n",
    "kernel_digits_distances_1, fermat_digits_distances_1  = get_DQ(data=np.concatenate((images_1,data[n_training:])),k_h=1,N=n_training,alpha=2,k=20,d=64,method='FW')\n"
   ]
  },
  {
   "cell_type": "code",
   "execution_count": 594,
   "metadata": {},
   "outputs": [
    {
     "data": {
      "text/plain": [
       "array([[8.7332618e-01, 5.4673877e-02, 1.4934881e-02, ..., 1.5897164e-03,\n",
       "        9.8699083e-18, 1.0614820e-02],\n",
       "       [5.4673877e-02, 8.7332618e-01, 1.4662185e-01, ..., 1.1067231e-03,\n",
       "        1.4544613e-16, 5.1005304e-02],\n",
       "       [1.4934881e-02, 1.4662185e-01, 8.7332618e-01, ..., 6.3636731e-03,\n",
       "        1.1007991e-13, 9.5723048e-02],\n",
       "       ...,\n",
       "       [1.5897164e-03, 1.1067231e-03, 6.3636731e-03, ..., 8.7332618e-01,\n",
       "        5.4228773e-15, 4.4968224e-04],\n",
       "       [9.8699083e-18, 1.4544613e-16, 1.1007991e-13, ..., 5.4228773e-15,\n",
       "        8.7332618e-01, 2.7931797e-14],\n",
       "       [1.0614820e-02, 5.1005304e-02, 9.5723048e-02, ..., 4.4968224e-04,\n",
       "        2.7931797e-14, 8.7332618e-01]], dtype=float32)"
      ]
     },
     "execution_count": 594,
     "metadata": {},
     "output_type": "execute_result"
    }
   ],
   "source": [
    "kernel_digits_distances_0"
   ]
  },
  {
   "cell_type": "code",
   "execution_count": 580,
   "metadata": {},
   "outputs": [],
   "source": [
    "labels_predict = (n_test)*[0]\n",
    "offset_0 = len(images_0)\n",
    "offset_1 = len(images_1) \n",
    "for i in range(n_test):\n",
    "    if np.sum(kernel_digits_distances_0[offset_0+i,:offset_0])< np.sum(kernel_digits_distances_1[offset_1+i,:offset_1]):\n",
    "        labels_predict[i]=1\n",
    "    "
   ]
  },
  {
   "cell_type": "code",
   "execution_count": 581,
   "metadata": {},
   "outputs": [
    {
     "name": "stdout",
     "output_type": "stream",
     "text": [
      "The accuracy of  Fermat  classifier is  100.0 %\n"
     ]
    }
   ],
   "source": [
    "\n",
    "model_accuracy(\"Fermat\",labels_predict,digits.target[n_training:])"
   ]
  },
  {
   "cell_type": "markdown",
   "metadata": {},
   "source": [
    "### Digits with Random Forest"
   ]
  },
  {
   "cell_type": "code",
   "execution_count": 439,
   "metadata": {},
   "outputs": [
    {
     "name": "stderr",
     "output_type": "stream",
     "text": [
      "/anaconda3/lib/python3.7/site-packages/sklearn/ensemble/forest.py:245: FutureWarning: The default value of n_estimators will change from 10 in version 0.20 to 100 in 0.22.\n",
      "  \"10 in version 0.20 to 100 in 0.22.\", FutureWarning)\n"
     ]
    },
    {
     "data": {
      "text/plain": [
       "1.0"
      ]
     },
     "execution_count": 439,
     "metadata": {},
     "output_type": "execute_result"
    }
   ],
   "source": [
    "# Instantiate\n",
    "rf = RandomForestClassifier()  \n",
    "# Fit\n",
    "rf_model = rf.fit(data[:n_training],digits.target[:n_training])  \n",
    "# training accuracy\n",
    "rf_model.score(data[:n_training],digits.target[:n_training])"
   ]
  },
  {
   "cell_type": "code",
   "execution_count": 440,
   "metadata": {},
   "outputs": [],
   "source": [
    "labels_predict = rf.predict(data[n_training:])"
   ]
  },
  {
   "cell_type": "code",
   "execution_count": 441,
   "metadata": {},
   "outputs": [
    {
     "name": "stdout",
     "output_type": "stream",
     "text": [
      "The accuracy of  Random Forest  classifier is  93.71428571428571 %\n"
     ]
    }
   ],
   "source": [
    "model_accuracy(\"Random Forest\",labels_predict,digits.target[n_training:])"
   ]
  },
  {
   "cell_type": "markdown",
   "metadata": {},
   "source": [
    "### Digits with Naive Bayes"
   ]
  },
  {
   "cell_type": "code",
   "execution_count": 208,
   "metadata": {},
   "outputs": [
    {
     "data": {
      "text/plain": [
       "1.0"
      ]
     },
     "execution_count": 208,
     "metadata": {},
     "output_type": "execute_result"
    }
   ],
   "source": [
    "clf = GaussianNB()\n",
    "\n",
    "clf.fit(data[:n_training],digits.target[:n_training])\n",
    "\n",
    "clf.score(data[:n_training],digits.target[:n_training])\n"
   ]
  },
  {
   "cell_type": "code",
   "execution_count": 209,
   "metadata": {},
   "outputs": [],
   "source": [
    "labels_predict = clf.predict(data[n_training:])"
   ]
  },
  {
   "cell_type": "code",
   "execution_count": 210,
   "metadata": {},
   "outputs": [
    {
     "name": "stdout",
     "output_type": "stream",
     "text": [
      "The accuracy of  Naive Bayes  classifier is  97.48603351955308 %\n"
     ]
    }
   ],
   "source": [
    "model_accuracy(\"Naive Bayes\",labels_predict,digits.target[n_training:])"
   ]
  },
  {
   "cell_type": "markdown",
   "metadata": {},
   "source": [
    "## Two circles\n",
    "\n",
    "Generamos una muestra de tamaño *n_samples*  y genera dos círculos uniformes de tamaño *n_samples/2* con ruido *noise*"
   ]
  },
  {
   "cell_type": "code",
   "execution_count": 494,
   "metadata": {},
   "outputs": [],
   "source": [
    "n_training =100\n",
    "\n",
    "noisy_circles = datasets.make_circles(n_samples=n_training, factor=.2,\n",
    "                                      noise=.2)\n"
   ]
  },
  {
   "cell_type": "code",
   "execution_count": 368,
   "metadata": {},
   "outputs": [
    {
     "data": {
      "image/png": "[encoded data removed]",
      "text/plain": [
       "<Figure size 432x288 with 1 Axes>"
      ]
     },
     "metadata": {
      "needs_background": "light"
     },
     "output_type": "display_data"
    }
   ],
   "source": [
    "for i in range(n_training):\n",
    "     plt.plot(noisy_circles[0][i][0],noisy_circles[0][i][1],'r.')"
   ]
  },
  {
   "cell_type": "code",
   "execution_count": null,
   "metadata": {},
   "outputs": [],
   "source": [
    "   "
   ]
  },
  {
   "cell_type": "markdown",
   "metadata": {},
   "source": []
  },
  {
   "cell_type": "code",
   "execution_count": 495,
   "metadata": {},
   "outputs": [],
   "source": [
    "first_circle = np.array([ noisy_circles[0][i] for i in range(n_training) if noisy_circles[1][i]==0  ])\n",
    "\n",
    "second_circle = np.array([ noisy_circles[0][i] for i in range(n_training) if noisy_circles[1][i]==1 ])\n",
    "\n"
   ]
  },
  {
   "cell_type": "code",
   "execution_count": 496,
   "metadata": {},
   "outputs": [],
   "source": [
    "first_circle_x = [ noisy_circles[0][i][0] for i in range(n_training) if noisy_circles[1][i]==0  ]\n",
    "first_circle_y = [ noisy_circles[0][i][1] for i in range(n_training) if noisy_circles[1][i]==0  ]\n",
    "\n",
    "second_circle_x = [ noisy_circles[0][i][0] for i in range(n_training) if noisy_circles[1][i]==1  ]\n",
    "second_circle_y = [ noisy_circles[0][i][1] for i in range(n_training) if noisy_circles[1][i]==1  ]"
   ]
  },
  {
   "cell_type": "code",
   "execution_count": 497,
   "metadata": {},
   "outputs": [],
   "source": [
    "n_test = 1000\n",
    "noisy_circles_test = datasets.make_circles(n_samples=n_test,factor=.5, noise=.2)\n",
    "first_circle_test  = np.array([ noisy_circles_test[0][i] for i in range(n_test) if noisy_circles_test[1][i]==0 ])\n",
    "second_circle_test = np.array([ noisy_circles_test[0][i] for i in range(n_test) if noisy_circles_test[1][i]==1  ])"
   ]
  },
  {
   "cell_type": "code",
   "execution_count": 498,
   "metadata": {},
   "outputs": [],
   "source": [
    "#plot_clusters_2D(noisy_circles_test[0],noisy_circles_test[1])"
   ]
  },
  {
   "cell_type": "markdown",
   "metadata": {},
   "source": [
    "### Two circles with Fermat"
   ]
  },
  {
   "cell_type": "code",
   "execution_count": 559,
   "metadata": {},
   "outputs": [],
   "source": [
    "\n",
    "kernel_circles_distances_0, fermat_circles_distances_0  = get_DQ(data=np.concatenate((first_circle,noisy_circles_test[0])),k_h=10,N=n_training,alpha=2,k=10,d=1)\n",
    "kernel_circles_distances_1, fermat_circles_distances_1  = get_DQ(data=np.concatenate((second_circle,noisy_circles_test[0])),k_h=10,N=n_training,alpha=2,k=10,d=1)"
   ]
  },
  {
   "cell_type": "code",
   "execution_count": 560,
   "metadata": {},
   "outputs": [],
   "source": [
    "# Evaluamos si la suma correspondiente al cluster 0 es menor que la del cluster 1 para ver que etiqueta\n",
    "# le asignamos \n",
    "labels_predict = n_test*[0]\n",
    "for i in range(n_training//2,n_training//2+n_test):\n",
    "    if np.sum(kernel_circles_distances_0[i,:n_training])< np.sum(kernel_circles_distances_1[i,:n_training]):\n",
    "        labels_predict[i-n_training//2]=1\n"
   ]
  },
  {
   "cell_type": "code",
   "execution_count": null,
   "metadata": {},
   "outputs": [],
   "source": []
  },
  {
   "cell_type": "code",
   "execution_count": 561,
   "metadata": {},
   "outputs": [
    {
     "name": "stdout",
     "output_type": "stream",
     "text": [
      "The accuracy of  Fermat  classifier is  88.6 %\n"
     ]
    }
   ],
   "source": [
    "model_accuracy(\"Fermat\",labels_predict,noisy_circles_test[1])\n",
    "#plot_clusters_2D(noisy_circles_test[0],labels_predict)"
   ]
  },
  {
   "cell_type": "markdown",
   "metadata": {},
   "source": [
    "### Two circles with Random Forest"
   ]
  },
  {
   "cell_type": "code",
   "execution_count": 532,
   "metadata": {},
   "outputs": [
    {
     "name": "stderr",
     "output_type": "stream",
     "text": [
      "/anaconda3/lib/python3.7/site-packages/sklearn/ensemble/forest.py:245: FutureWarning: The default value of n_estimators will change from 10 in version 0.20 to 100 in 0.22.\n",
      "  \"10 in version 0.20 to 100 in 0.22.\", FutureWarning)\n"
     ]
    },
    {
     "data": {
      "text/plain": [
       "1.0"
      ]
     },
     "execution_count": 532,
     "metadata": {},
     "output_type": "execute_result"
    }
   ],
   "source": [
    "# Instantiate\n",
    "rf = RandomForestClassifier()  \n",
    "# Fit\n",
    "rf_model = rf.fit(noisy_circles[0],noisy_circles[1])  \n",
    "# training accuracy\n",
    "rf_model.score(noisy_circles[0],noisy_circles[1])  "
   ]
  },
  {
   "cell_type": "code",
   "execution_count": 533,
   "metadata": {},
   "outputs": [],
   "source": [
    "labels_predict = rf.predict(noisy_circles_test[0])"
   ]
  },
  {
   "cell_type": "code",
   "execution_count": 534,
   "metadata": {},
   "outputs": [
    {
     "name": "stdout",
     "output_type": "stream",
     "text": [
      "The accuracy of  Random Forest  classifier is  79.1 %\n"
     ]
    }
   ],
   "source": [
    "model_accuracy(\"Random Forest\",labels_predict,noisy_circles_test[1])\n",
    "#plot_clusters_2D(noisy_circles_test[0],labels_predict)"
   ]
  },
  {
   "cell_type": "markdown",
   "metadata": {},
   "source": [
    "### Two cirlces Naive Bayes"
   ]
  },
  {
   "cell_type": "code",
   "execution_count": 535,
   "metadata": {},
   "outputs": [
    {
     "data": {
      "text/plain": [
       "0.98"
      ]
     },
     "execution_count": 535,
     "metadata": {},
     "output_type": "execute_result"
    }
   ],
   "source": [
    "# Instantiate\n",
    "gnb_model = GaussianNB()\n",
    "# Fit\n",
    "gnb_model = rf.fit(noisy_circles[0],noisy_circles[1])  \n",
    "# training accuracy\n",
    "gnb_model.score(noisy_circles[0],noisy_circles[1])  \n"
   ]
  },
  {
   "cell_type": "code",
   "execution_count": 536,
   "metadata": {},
   "outputs": [],
   "source": [
    "labels_predict = gnb_model.predict(noisy_circles_test[0])"
   ]
  },
  {
   "cell_type": "code",
   "execution_count": 507,
   "metadata": {},
   "outputs": [
    {
     "name": "stdout",
     "output_type": "stream",
     "text": [
      "The accuracy of  Naive Bayes  classifier is  79.1 %\n"
     ]
    }
   ],
   "source": [
    "model_accuracy(\"Naive Bayes\",labels_predict,noisy_circles_test[1])\n",
    "#plot_clusters_2D(noisy_circles_test[0],labels_predict)"
   ]
  },
  {
   "cell_type": "code",
   "execution_count": 279,
   "metadata": {},
   "outputs": [
    {
     "name": "stdout",
     "output_type": "stream",
     "text": [
      "The accuracy of  Fermat  classifier is  86.5 %\n",
      "The accuracy of  Fermat  classifier is  89.3 %\n",
      "The accuracy of  Fermat  classifier is  88.6 %\n",
      "The accuracy of  Fermat  classifier is  86.3 %\n",
      "The accuracy of  Fermat  classifier is  84.2 %\n",
      "The accuracy of  Fermat  classifier is  80.8 %\n"
     ]
    },
    {
     "ename": "KeyboardInterrupt",
     "evalue": "",
     "output_type": "error",
     "traceback": [
      "\u001b[0;31m---------------------------------------------------------------------------\u001b[0m",
      "\u001b[0;31mKeyboardInterrupt\u001b[0m                         Traceback (most recent call last)",
      "\u001b[0;32m<ipython-input-279-5daeb2fbbdb4>\u001b[0m in \u001b[0;36m<module>\u001b[0;34m\u001b[0m\n\u001b[1;32m      2\u001b[0m \u001b[0;32mfor\u001b[0m \u001b[0mj\u001b[0m \u001b[0;32min\u001b[0m \u001b[0mrange\u001b[0m\u001b[0;34m(\u001b[0m\u001b[0;36m1\u001b[0m\u001b[0;34m,\u001b[0m\u001b[0;36m10\u001b[0m\u001b[0;34m)\u001b[0m\u001b[0;34m:\u001b[0m\u001b[0;34m\u001b[0m\u001b[0;34m\u001b[0m\u001b[0m\n\u001b[1;32m      3\u001b[0m     \u001b[0mkernel_circles_distances_0\u001b[0m\u001b[0;34m,\u001b[0m \u001b[0mfermat_circles_distances_0\u001b[0m  \u001b[0;34m=\u001b[0m \u001b[0mget_DQ\u001b[0m\u001b[0;34m(\u001b[0m\u001b[0mdata\u001b[0m\u001b[0;34m=\u001b[0m\u001b[0mnp\u001b[0m\u001b[0;34m.\u001b[0m\u001b[0mconcatenate\u001b[0m\u001b[0;34m(\u001b[0m\u001b[0;34m(\u001b[0m\u001b[0mfirst_circle\u001b[0m\u001b[0;34m,\u001b[0m\u001b[0mnoisy_circles_test\u001b[0m\u001b[0;34m[\u001b[0m\u001b[0;36m0\u001b[0m\u001b[0;34m]\u001b[0m\u001b[0;34m)\u001b[0m\u001b[0;34m)\u001b[0m\u001b[0;34m,\u001b[0m\u001b[0mk_h\u001b[0m\u001b[0;34m=\u001b[0m\u001b[0mj\u001b[0m\u001b[0;34m/\u001b[0m\u001b[0;36m100\u001b[0m\u001b[0;34m,\u001b[0m\u001b[0mN\u001b[0m\u001b[0;34m=\u001b[0m\u001b[0mn_training\u001b[0m\u001b[0;34m,\u001b[0m\u001b[0malpha\u001b[0m\u001b[0;34m=\u001b[0m\u001b[0;36m2\u001b[0m\u001b[0;34m,\u001b[0m\u001b[0mk\u001b[0m\u001b[0;34m=\u001b[0m\u001b[0;36m10\u001b[0m\u001b[0;34m)\u001b[0m\u001b[0;34m\u001b[0m\u001b[0;34m\u001b[0m\u001b[0m\n\u001b[0;32m----> 4\u001b[0;31m     \u001b[0mkernel_circles_distances_1\u001b[0m\u001b[0;34m,\u001b[0m \u001b[0mfermat_circles_distances_1\u001b[0m  \u001b[0;34m=\u001b[0m \u001b[0mget_DQ\u001b[0m\u001b[0;34m(\u001b[0m\u001b[0mdata\u001b[0m\u001b[0;34m=\u001b[0m\u001b[0mnp\u001b[0m\u001b[0;34m.\u001b[0m\u001b[0mconcatenate\u001b[0m\u001b[0;34m(\u001b[0m\u001b[0;34m(\u001b[0m\u001b[0msecond_circle\u001b[0m\u001b[0;34m,\u001b[0m\u001b[0mnoisy_circles_test\u001b[0m\u001b[0;34m[\u001b[0m\u001b[0;36m0\u001b[0m\u001b[0;34m]\u001b[0m\u001b[0;34m)\u001b[0m\u001b[0;34m)\u001b[0m\u001b[0;34m,\u001b[0m\u001b[0mk_h\u001b[0m\u001b[0;34m=\u001b[0m\u001b[0mj\u001b[0m\u001b[0;34m/\u001b[0m\u001b[0;36m100\u001b[0m\u001b[0;34m,\u001b[0m\u001b[0mN\u001b[0m\u001b[0;34m=\u001b[0m\u001b[0mn_training\u001b[0m\u001b[0;34m,\u001b[0m\u001b[0malpha\u001b[0m\u001b[0;34m=\u001b[0m\u001b[0;36m2\u001b[0m\u001b[0;34m,\u001b[0m\u001b[0mk\u001b[0m\u001b[0;34m=\u001b[0m\u001b[0;36m10\u001b[0m\u001b[0;34m)\u001b[0m\u001b[0;34m\u001b[0m\u001b[0;34m\u001b[0m\u001b[0m\n\u001b[0m\u001b[1;32m      5\u001b[0m     \u001b[0mlabels_predict\u001b[0m \u001b[0;34m=\u001b[0m \u001b[0mn_test\u001b[0m\u001b[0;34m*\u001b[0m\u001b[0;34m[\u001b[0m\u001b[0;36m0\u001b[0m\u001b[0;34m]\u001b[0m\u001b[0;34m\u001b[0m\u001b[0;34m\u001b[0m\u001b[0m\n\u001b[1;32m      6\u001b[0m     \u001b[0;32mfor\u001b[0m \u001b[0mi\u001b[0m \u001b[0;32min\u001b[0m \u001b[0mrange\u001b[0m\u001b[0;34m(\u001b[0m\u001b[0mn_training\u001b[0m\u001b[0;34m//\u001b[0m\u001b[0;36m2\u001b[0m\u001b[0;34m,\u001b[0m\u001b[0mn_training\u001b[0m\u001b[0;34m//\u001b[0m\u001b[0;36m2\u001b[0m\u001b[0;34m+\u001b[0m\u001b[0mn_test\u001b[0m\u001b[0;34m)\u001b[0m\u001b[0;34m:\u001b[0m\u001b[0;34m\u001b[0m\u001b[0;34m\u001b[0m\u001b[0m\n",
      "\u001b[0;32m<ipython-input-118-ea87b947f886>\u001b[0m in \u001b[0;36mget_DQ\u001b[0;34m(data, N, k_h, alpha, k)\u001b[0m\n\u001b[1;32m      5\u001b[0m     \u001b[0mf_exact\u001b[0m \u001b[0;34m=\u001b[0m \u001b[0mFermat\u001b[0m\u001b[0;34m(\u001b[0m\u001b[0malpha\u001b[0m\u001b[0;34m=\u001b[0m\u001b[0malpha\u001b[0m\u001b[0;34m,\u001b[0m\u001b[0mpath_method\u001b[0m\u001b[0;34m=\u001b[0m\u001b[0;34m'D'\u001b[0m\u001b[0;34m,\u001b[0m\u001b[0mk\u001b[0m\u001b[0;34m=\u001b[0m\u001b[0mk\u001b[0m\u001b[0;34m)\u001b[0m\u001b[0;34m\u001b[0m\u001b[0;34m\u001b[0m\u001b[0m\n\u001b[1;32m      6\u001b[0m \u001b[0;34m\u001b[0m\u001b[0m\n\u001b[0;32m----> 7\u001b[0;31m     \u001b[0mf_exact\u001b[0m\u001b[0;34m.\u001b[0m\u001b[0mfit\u001b[0m\u001b[0;34m(\u001b[0m\u001b[0mnp\u001b[0m\u001b[0;34m.\u001b[0m\u001b[0mmatrix\u001b[0m\u001b[0;34m(\u001b[0m\u001b[0mdistances\u001b[0m\u001b[0;34m)\u001b[0m\u001b[0;34m)\u001b[0m\u001b[0;34m\u001b[0m\u001b[0;34m\u001b[0m\u001b[0m\n\u001b[0m\u001b[1;32m      8\u001b[0m \u001b[0;34m\u001b[0m\u001b[0m\n\u001b[1;32m      9\u001b[0m     \u001b[0mfermat_distances\u001b[0m \u001b[0;34m=\u001b[0m  \u001b[0mf_exact\u001b[0m\u001b[0;34m.\u001b[0m\u001b[0mget_distances\u001b[0m\u001b[0;34m(\u001b[0m\u001b[0;34m)\u001b[0m\u001b[0;34m\u001b[0m\u001b[0;34m\u001b[0m\u001b[0m\n",
      "\u001b[0;32m~/Documents/Fermat/Fermat-distance/fermat/Fermat.py\u001b[0m in \u001b[0;36mfit\u001b[0;34m(self, distances)\u001b[0m\n\u001b[1;32m     90\u001b[0m \u001b[0;34m\u001b[0m\u001b[0m\n\u001b[1;32m     91\u001b[0m         \"\"\"\n\u001b[0;32m---> 92\u001b[0;31m         \u001b[0;32mreturn\u001b[0m \u001b[0mself\u001b[0m\u001b[0;34m.\u001b[0m\u001b[0mpath_method\u001b[0m\u001b[0;34m.\u001b[0m\u001b[0mfit\u001b[0m\u001b[0;34m(\u001b[0m\u001b[0mdistances\u001b[0m\u001b[0;34m)\u001b[0m\u001b[0;34m\u001b[0m\u001b[0;34m\u001b[0m\u001b[0m\n\u001b[0m\u001b[1;32m     93\u001b[0m \u001b[0;34m\u001b[0m\u001b[0m\n\u001b[1;32m     94\u001b[0m     \u001b[0;32mdef\u001b[0m \u001b[0mget_distance\u001b[0m\u001b[0;34m(\u001b[0m\u001b[0mself\u001b[0m\u001b[0;34m,\u001b[0m \u001b[0ma\u001b[0m\u001b[0;34m,\u001b[0m \u001b[0mb\u001b[0m\u001b[0;34m)\u001b[0m\u001b[0;34m:\u001b[0m\u001b[0;34m\u001b[0m\u001b[0;34m\u001b[0m\u001b[0m\n",
      "\u001b[0;32m~/Documents/Fermat/Fermat-distance/fermat/path_methods/DijkstraMethod.py\u001b[0m in \u001b[0;36mfit\u001b[0;34m(self, distances)\u001b[0m\n\u001b[1;32m     14\u001b[0m         self.distances = shortest_path(\n\u001b[1;32m     15\u001b[0m             \u001b[0mcsgraph\u001b[0m\u001b[0;34m=\u001b[0m\u001b[0madj_matrix\u001b[0m\u001b[0;34m.\u001b[0m\u001b[0mpower\u001b[0m\u001b[0;34m(\u001b[0m\u001b[0mself\u001b[0m\u001b[0;34m.\u001b[0m\u001b[0mfermat\u001b[0m\u001b[0;34m.\u001b[0m\u001b[0malpha\u001b[0m\u001b[0;34m)\u001b[0m\u001b[0;34m,\u001b[0m\u001b[0;34m\u001b[0m\u001b[0;34m\u001b[0m\u001b[0m\n\u001b[0;32m---> 16\u001b[0;31m             \u001b[0mmethod\u001b[0m\u001b[0;34m=\u001b[0m\u001b[0;34m'D'\u001b[0m\u001b[0;34m\u001b[0m\u001b[0;34m\u001b[0m\u001b[0m\n\u001b[0m\u001b[1;32m     17\u001b[0m         )\n\u001b[1;32m     18\u001b[0m \u001b[0;34m\u001b[0m\u001b[0m\n",
      "\u001b[0;31mKeyboardInterrupt\u001b[0m: "
     ]
    }
   ],
   "source": [
    "\n",
    "for j in range(1,10):\n",
    "    kernel_circles_distances_0, fermat_circles_distances_0  = get_DQ(data=np.concatenate((first_circle,noisy_circles_test[0])),k_h=j/100,N=n_training,alpha=2,k=10)\n",
    "    kernel_circles_distances_1, fermat_circles_distances_1  = get_DQ(data=np.concatenate((second_circle,noisy_circles_test[0])),k_h=j/100,N=n_training,alpha=2,k=10)\n",
    "    labels_predict = n_test*[0]\n",
    "    for i in range(n_training//2,n_training//2+n_test):\n",
    "        if np.sum(kernel_circles_distances_0[i,:n_training])< np.sum(kernel_circles_distances_1[i,:n_training]):\n",
    "            labels_predict[i-n_training//2]=1\n",
    "    model_accuracy(\"Fermat\",labels_predict,noisy_circles_test[1])\n",
    "    \n",
    "    "
   ]
  },
  {
   "cell_type": "code",
   "execution_count": null,
   "metadata": {},
   "outputs": [],
   "source": []
  }
 ],
 "metadata": {
  "kernelspec": {
   "display_name": "laposta",
   "language": "python",
   "name": "laposta"
  },
  "language_info": {
   "codemirror_mode": {
    "name": "ipython",
    "version": 3
   },
   "file_extension": ".py",
   "mimetype": "text/x-python",
   "name": "python",
   "nbconvert_exporter": "python",
   "pygments_lexer": "ipython3",
   "version": "3.7.3"
  }
 },
 "nbformat": 4,
 "nbformat_minor": 2
}
