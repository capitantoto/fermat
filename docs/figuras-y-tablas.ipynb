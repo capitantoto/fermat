{
 "cells": [
  {
   "cell_type": "markdown",
   "metadata": {},
   "source": [
    "# Figuras y Tablas"
   ]
  },
  {
   "cell_type": "code",
   "execution_count": null,
   "metadata": {},
   "outputs": [],
   "source": [
    "%load_ext autoreload\n",
    "%autoreload 2"
   ]
  },
  {
   "cell_type": "code",
   "execution_count": null,
   "metadata": {},
   "outputs": [],
   "source": [
    "import logging\n",
    "import pickle\n",
    "from pathlib import Path\n",
    "\n",
    "import matplotlib.pyplot as plt\n",
    "import numpy as np\n",
    "import pandas as pd\n",
    "import seaborn as sns\n",
    "from sklearn.datasets import make_blobs\n",
    "\n",
    "from fkdc.config import _get_run_seeds, clasificadores, grillas, main_seed\n",
    "from fkdc.datasets import Dataset\n",
    "from fkdc.tarea import Tarea\n",
    "from fkdc.utils import load_infos, refit_parsimoniously\n",
    "from fkdc.utils import parse_basic_info\n",
    "\n",
    "# Los experimentos del 29.10.2024 corrieron con main_seed = 2024\n",
    "# Los experimentos del 19.05.2025 corrieron con main_seed = 2206\n",
    "# Los experimentos del 23.05.2025 corrieron con main_seed = 2411\n",
    "# Los experimentos del 07.06.2025 corrieron con main_seed = 1312\n",
    "# Los experimentos del 12.06.2025 corrieron con main_seed = 1312 (igual a 07.06.2025)\n",
    "run_seeds = _get_run_seeds()\n",
    "\n",
    "root_dir = Path(\"/Users/gonzalo/Git/fkdc/sandbox/v5\")\n",
    "img_dir = root_dir / \"img\"\n",
    "# root_dir = Path(\"/Users/gonzalo/Git/fkdc/\")\n",
    "# img_dir = root_dir / \"docs/img\"\n",
    "data_dir = root_dir / \"data\"\n",
    "run_dir = root_dir / \"infos\"\n",
    "datasets_dir = root_dir / \"datasets\"\n",
    "for directory in [data_dir, img_dir, run_dir, datasets_dir]:\n",
    "    directory.mkdir(exist_ok=True)"
   ]
  },
  {
   "cell_type": "code",
   "execution_count": null,
   "metadata": {},
   "outputs": [],
   "source": [
    "logging.basicConfig(\n",
    "    format=\"%(asctime)s - %(name)s - %(levelname)s - %(message)s\",\n",
    "    level=logging.INFO,\n",
    "    handlers=[logging.StreamHandler()],\n",
    ")\n",
    "logger = logging.getLogger(__name__)"
   ]
  },
  {
   "cell_type": "code",
   "execution_count": null,
   "metadata": {},
   "outputs": [],
   "source": [
    "info_pickle = data_dir / \"basic_info.pkl\"\n",
    "force = True\n",
    "if info_pickle.exists() and not force:\n",
    "    bi = basic_info = pd.read_pickle(info_pickle)\n",
    "else:\n",
    "    infos = load_infos(run_dir)\n",
    "    bi = basic_info = parse_basic_info(infos, main_seed)\n",
    "    basic_info.to_pickle(info_pickle)"
   ]
  },
  {
   "cell_type": "code",
   "execution_count": null,
   "metadata": {},
   "outputs": [],
   "source": [
    "from sklearn.datasets import make_circles"
   ]
  },
  {
   "cell_type": "code",
   "execution_count": null,
   "metadata": {},
   "outputs": [],
   "source": [
    "ds = Dataset.de_fabrica(make_circles, n_samples=800, noise=0.05)\n",
    "sns.jointplot(x=ds.X[:, 0], y=ds.X[:, 1], hue=ds.y, legend=False)\n",
    "plt.xlim(-1.5, 1.5)\n",
    "plt.ylim(-1.5, 1.5)\n",
    "plt.savefig(img_dir / \"dos-circulos-jointplot.png\")"
   ]
  },
  {
   "cell_type": "code",
   "execution_count": null,
   "metadata": {},
   "outputs": [],
   "source": [
    "seed = main_seed\n",
    "blobs = Dataset.de_fabrica(\n",
    "    make_blobs,\n",
    "    n_samples=(400, 400),\n",
    "    n_features=2,\n",
    "    centers=((0, 0), (10, 0)),\n",
    "    random_state=seed,\n",
    ")\n",
    "blobs.scatter()\n",
    "run_2blobs = data_dir / f\"2blobs-{seed}-info-b.pkl\"\n",
    "force = False\n",
    "if run_2blobs.exists() and not force:\n",
    "    info = pickle.load(open(run_2blobs, \"rb\"))\n",
    "else:\n",
    "    tareas = {}\n",
    "    for predicts_proba in [True, False]:\n",
    "        tarea = tareas[predicts_proba] = Tarea(\n",
    "            blobs,\n",
    "            {\n",
    "                nombre: (clf, grillas[nombre])\n",
    "                for nombre, clf in clasificadores.items()\n",
    "                if hasattr(clf, \"predict_proba\") is predicts_proba\n",
    "            },\n",
    "            scoring=\"neg_log_loss\" if predicts_proba else \"accuracy\",\n",
    "            seed=seed,\n",
    "        )\n",
    "        tarea.entrenar()\n",
    "        tarea.evaluar()\n",
    "    info = {**tareas[True].info, **tareas[False].info}\n",
    "    pickle.dump(info, open(run_2blobs, \"wb\"))\n",
    "\n",
    "sanity_check = (\n",
    "    pd.DataFrame(info).T[[\"r2\", \"accuracy\"]].astype(float).drop(index=\"base\")\n",
    ")\n",
    "assert sanity_check.accuracy.eq(1).all() and sanity_check.r2.dropna().gt(0.999).all()"
   ]
  },
  {
   "cell_type": "code",
   "execution_count": null,
   "metadata": {},
   "outputs": [],
   "source": [
    "sanity_check"
   ]
  },
  {
   "cell_type": "code",
   "execution_count": null,
   "metadata": {},
   "outputs": [],
   "source": [
    "bi"
   ]
  },
  {
   "cell_type": "code",
   "execution_count": null,
   "metadata": {},
   "outputs": [],
   "source": [
    "import pickle\n",
    "\n",
    "fig, axs = plt.subplots(1, 3, figsize=(15, 5))\n",
    "seed = run_seeds[0]\n",
    "datasets_2d = [\"lunas_lo\", \"espirales_lo\", \"circulos_lo\"]\n",
    "for nombre, ax in zip(datasets_2d, axs):\n",
    "    ds = pickle.load(open(datasets_dir / f\"{nombre}-{seed}.pkl\", \"rb\"))\n",
    "    ds.scatter(ax=ax)\n",
    "    ax.set_title(nombre)\n",
    "plt.tight_layout()\n",
    "fig.savefig(img_dir / \"datasets-lunas-circulos-espirales.svg\")\n",
    "# IMG 2: datasets 2d, low noise"
   ]
  },
  {
   "cell_type": "markdown",
   "metadata": {},
   "source": [
    "### 2D, low noise"
   ]
  },
  {
   "cell_type": "code",
   "execution_count": null,
   "metadata": {},
   "outputs": [],
   "source": [
    "datasets = [ds for ds in bi.dataset.unique() if ds.endswith(\"_lo\")]"
   ]
  },
  {
   "cell_type": "code",
   "execution_count": null,
   "metadata": {},
   "outputs": [],
   "source": [
    "colors = dict(zip(bi.clf.unique(), sns.color_palette(\"Set3\")))\n",
    "# exclude_clfs = [\"base\", \"gnb\", \"lr\", \"]\n",
    "# exclude_clfs = []\n",
    "exclude_clfs = [\"base\"]"
   ]
  },
  {
   "cell_type": "code",
   "execution_count": null,
   "metadata": {},
   "outputs": [],
   "source": [
    "delta_max_mean_dataset_acc = (\n",
    "    bi.groupby([\"dataset\", \"clf\"])\n",
    "    .accuracy.mean()\n",
    "    .unstack(\"clf\")\n",
    "    .apply(lambda s: s - s.max(), axis=1)\n",
    ")\n",
    "mean_r2 = bi.groupby([\"dataset\", \"clf\"]).r2.mean().unstack(\"clf\")"
   ]
  },
  {
   "cell_type": "code",
   "execution_count": null,
   "metadata": {},
   "outputs": [],
   "source": [
    "max_mean_acuracies = (\n",
    "    bi.groupby([\"dataset\", \"clf\"])\n",
    "    .accuracy.mean()\n",
    "    .unstack(\"clf\")\n",
    "    .max(axis=1)\n",
    "    .mul(100)\n",
    "    .round(2)\n",
    "    .sort_values()\n",
    ")\n",
    "from IPython.display import display, Markdown\n",
    "\n",
    "df = (\n",
    "    pd.concat([mean_r2, delta_max_mean_dataset_acc], keys=[\"r2\", \"delta_acc\"])\n",
    "    .T.reorder_levels([1, 0], axis=1)\n",
    "    .sort_index(axis=1)\n",
    "    .mul(100)\n",
    "    .round(2)\n",
    ")\n",
    "for ds, acc in max_mean_acuracies.items():\n",
    "    if not ds.endswith(\"lunas_lo\"):\n",
    "        continue\n",
    "    display(Markdown(f\"#### {ds} (acc: {acc}%)\"))\n",
    "    display(df[ds].sort_values(\"r2\", ascending=False))"
   ]
  },
  {
   "cell_type": "code",
   "execution_count": null,
   "metadata": {},
   "outputs": [],
   "source": [
    "fig, axs = plt.subplots(1, 3, figsize=(12, 4))\n",
    "for idx, dataset in enumerate(datasets):\n",
    "    ax = axs[idx]\n",
    "    data = bi[bi.dataset.eq(dataset) & ~bi.clf.isin(exclude_clfs)].sort_values(\"clf\")\n",
    "    sns.boxplot(data, hue=\"clf\", y=\"accuracy\", gap=0.2, ax=ax, palette=colors)\n",
    "    ax.set_title(dataset)\n",
    "    ax.axhline(\n",
    "        data.groupby(\"clf\").accuracy.median().max(), linestyle=\"dotted\", color=\"gray\"\n",
    "    )\n",
    "    # ybot = np.percentile(data.accuracy.dropna(), 35)\n",
    "    # ax.set_ylim(ybot, None)\n",
    "    if idx != 0:\n",
    "        ax.get_legend().set_visible(False)\n",
    "fig.tight_layout()\n",
    "fig.savefig(img_dir / \"boxplot-lunas-espirales-circulos-new.svg\")\n",
    "# IMG 2: Detalle accuracy boxplot"
   ]
  },
  {
   "cell_type": "code",
   "execution_count": null,
   "metadata": {},
   "outputs": [],
   "source": [
    "fig, axs = plt.subplots(1, 3, figsize=(12, 4))\n",
    "for idx, dataset in enumerate(datasets):\n",
    "    ax = axs[idx]\n",
    "    data = bi[bi.dataset.eq(dataset) & ~bi.clf.isin(exclude_clfs)].sort_values(\"clf\")\n",
    "    sns.boxplot(data, hue=\"clf\", y=\"r2\", gap=0.2, ax=ax, palette=colors)\n",
    "    ax.set_title(dataset)\n",
    "    ax.axhline(data.groupby(\"clf\").r2.median().max(), linestyle=\"dotted\", color=\"gray\")\n",
    "    # ybot = np.percentile(data.r2.dropna(), 35)\n",
    "    # ax.set_ylim(ybot, None)\n",
    "    if idx != 0:\n",
    "        ax.get_legend().set_visible(False)\n",
    "fig.tight_layout()\n",
    "fig.savefig(img_dir / \"boxplot-lunas-espirales-circulos-new.svg\")\n",
    "# IMG 2: Detalle r2 boxplot"
   ]
  },
  {
   "cell_type": "code",
   "execution_count": null,
   "metadata": {},
   "outputs": [],
   "source": [
    "# IDEA: gbt con mayot max_depth; empata top perfs?"
   ]
  },
  {
   "cell_type": "code",
   "execution_count": null,
   "metadata": {},
   "outputs": [],
   "source": [
    "seed = run_seeds[1]\n",
    "clave_fkdc = (\"lunas_lo\", str(seed), \"fkdc\", str(main_seed), \"neg_log_loss\")\n",
    "clave_kdc = (\"lunas_lo\", str(seed), \"kdc\", str(main_seed), \"neg_log_loss\")"
   ]
  },
  {
   "cell_type": "code",
   "execution_count": null,
   "metadata": {},
   "outputs": [],
   "source": [
    "infos[clave_fkdc].fkdc.busqueda.best_params_"
   ]
  },
  {
   "cell_type": "code",
   "execution_count": null,
   "metadata": {},
   "outputs": [],
   "source": [
    "infos[clave_kdc].kdc.busqueda.best_params_"
   ]
  },
  {
   "cell_type": "code",
   "execution_count": null,
   "metadata": {},
   "outputs": [],
   "source": [
    "(infos[clave_fkdc].fkdc.r2, infos[clave_kdc].kdc.r2)"
   ]
  },
  {
   "cell_type": "code",
   "execution_count": null,
   "metadata": {},
   "outputs": [],
   "source": [
    "busqueda = pd.DataFrame(infos[clave_fkdc][\"fkdc\"].busqueda.cv_results_)\n",
    "data = busqueda.set_index([\"param_alpha\", \"param_bandwidth\"]).mean_test_score.unstack()\n",
    "X = data.columns.values\n",
    "Y = data.index.values\n",
    "Z = data.values\n",
    "\n",
    "fig, ax = plt.subplots(layout=\"constrained\")\n",
    "zmin, zmax = Z.min(), Z.max()\n",
    "CS = ax.contourf(X, Y, Z, 15, cmap=\"viridis\")\n",
    "# CS = ax.contour(X, Y, Z, 15, cmap=\"viridis\")\n",
    "ax.set_title(\"Score para $\\\\alpha$ y $h$\")\n",
    "ax.set_xlabel(\"$h$\")\n",
    "ax.set_ylabel(\"$\\\\alpha$\")\n",
    "ax.scatter(X[Z.argmax(axis=1)], Y, marker=\"x\", color=\"red\")\n",
    "# Make a colorbar for the ContourSet returned by the contourf call.\n",
    "cbar = fig.colorbar(CS)\n",
    "cbar.ax.set_ylabel(\"Score\")\n",
    "ax.set_xscale(\"log\")\n",
    "ax.set_xlim(10 ^ -3, 10 ^ 1)\n",
    "# plt.tight_layout()\n",
    "fig.savefig(img_dir / \"heatmap-fkdc-2d-lo-new.svg\")"
   ]
  },
  {
   "cell_type": "code",
   "execution_count": null,
   "metadata": {},
   "outputs": [],
   "source": [
    "pd.DataFrame(\n",
    "    {\n",
    "        k[1:3]: info[k[2]].busqueda.best_estimator_.get_params()\n",
    "        for k, info in infos.items()\n",
    "        if k[0] == \"helices_0\" and k[2].endswith(\"kdc\")\n",
    "    }\n",
    ").T.drop(columns=\"metric\").unstack().reorder_levels([1, 0], axis=1).sort_index(\n",
    "    axis=1\n",
    ").drop(\n",
    "    columns=(\"kdc\", \"alpha\")\n",
    ").value_counts().reset_index().round(\n",
    "    4\n",
    ")"
   ]
  },
  {
   "cell_type": "code",
   "execution_count": null,
   "metadata": {},
   "outputs": [],
   "source": [
    "bi[bi.dataset.eq(\"helices_0\") & bi.clf.str.endswith(\"kn\")].set_index(\n",
    "    [\"semilla\", \"clf\"]\n",
    ").r2.unstack().plot(kind=\"scatter\", y=\"fkn\", x=\"kn\")\n",
    "# .assign(delta=lambda df: df.fkn.sub(df.kn)).mul(100).round(2)\n",
    "plt.axline((0.5, 0.5), slope=1, color=\"gray\", linestyle=\"dotted\")\n",
    "plt.title(\"$R^2$ por semilla para FKN y KN en `helices_0`\")"
   ]
  },
  {
   "cell_type": "code",
   "execution_count": null,
   "metadata": {},
   "outputs": [],
   "source": [
    "clave_fkn = (\"eslabones_0\", str(1434), \"fkn\", str(main_seed), \"neg_log_loss\")\n",
    "clave_kn = (\"eslabones_0\", str(1434), \"kn\", str(main_seed), \"neg_log_loss\")"
   ]
  },
  {
   "cell_type": "code",
   "execution_count": null,
   "metadata": {},
   "outputs": [],
   "source": [
    "infos[clave_fkn].fkn.busqueda.best_params_"
   ]
  },
  {
   "cell_type": "code",
   "execution_count": null,
   "metadata": {},
   "outputs": [],
   "source": [
    "infos[clave_kn].kn.busqueda.best_params_"
   ]
  },
  {
   "cell_type": "code",
   "execution_count": null,
   "metadata": {},
   "outputs": [],
   "source": [
    "kn_scores = (\n",
    "    pd.DataFrame(infos[clave_kn].kn.busqueda.cv_results_)\n",
    "    .loc[lambda df: df.param_weights.eq(\"distance\")]\n",
    "    .set_index(\"param_n_neighbors\")\n",
    "    .mean_test_score.sort_index()\n",
    ")"
   ]
  },
  {
   "cell_type": "code",
   "execution_count": null,
   "metadata": {},
   "outputs": [],
   "source": [
    "fkn_scores = (\n",
    "    pd.DataFrame(infos[clave_fkn].fkn.busqueda.cv_results_)\n",
    "    .loc[lambda df: df.param_weights.eq(\"distance\")]\n",
    "    .sort_values(\"mean_test_score\", ascending=False)[\n",
    "        [\"param_alpha\", \"param_n_neighbors\", \"mean_test_score\"]\n",
    "    ]\n",
    "    .groupby(\"param_n_neighbors\")\n",
    "    .first()\n",
    ")"
   ]
  },
  {
   "cell_type": "code",
   "execution_count": null,
   "metadata": {},
   "outputs": [],
   "source": [
    "both_scores = pd.concat([fkn_scores, kn_scores], keys=[\"fkn\", \"kn\"], axis=1)\n",
    "both_scores.loc[[1, 3, 12, 41, 144]].round(3)"
   ]
  },
  {
   "cell_type": "code",
   "execution_count": null,
   "metadata": {},
   "outputs": [],
   "source": [
    "(\n",
    "    bi[bi.dataset.eq(\"helices_0\") & bi.clf.str.endswith(\"kn\")]\n",
    "    .set_index([\"semilla\", \"clf\"])\n",
    "    .r2.unstack(\"clf\")\n",
    "    .plot(x=\"kn\", y=\"fkn\", kind=\"scatter\")\n",
    ")"
   ]
  },
  {
   "cell_type": "code",
   "execution_count": null,
   "metadata": {},
   "outputs": [],
   "source": [
    "bi[bi.dataset.eq(\"eslabones_0\") & bi.clf.str.endswith(\"kn\")].set_index(\n",
    "    [\"semilla\", \"clf\"]\n",
    ").r2.unstack().plot(kind=\"scatter\", y=\"fkn\", x=\"kn\")\n",
    "# .assign(delta=lambda df: df.fkn.sub(df.kn)).mul(100).round(2)\n",
    "plt.axline((0.5, 0.5), slope=1, color=\"gray\", linestyle=\"dotted\")\n",
    "plt.title(\"$R^2$ por semilla para FKN y KN en `eslabones_0`\")"
   ]
  },
  {
   "cell_type": "code",
   "execution_count": null,
   "metadata": {},
   "outputs": [],
   "source": [
    "both_scores.drop(columns=(\"fkn\", \"param_alpha\")).plot(figsize=(12, 6))\n",
    "plt.xscale(\"log\")\n",
    "plt.xlabel(\"n_neighbors\")\n",
    "plt.ylabel(\"mean_test_score\")"
   ]
  },
  {
   "cell_type": "code",
   "execution_count": null,
   "metadata": {},
   "outputs": [],
   "source": [
    "pd.DataFrame(\n",
    "    {\n",
    "        k[1:3]: info[k[2]].busqueda.best_estimator_.get_params()\n",
    "        for k, info in infos.items()\n",
    "        if k[0] == \"helices_0\" and k[2].endswith(\"kn\")\n",
    "    }\n",
    ").T[[\"alpha\", \"n_neighbors\"]].unstack().reorder_levels([1, 0], axis=1).sort_index(\n",
    "    axis=1\n",
    ").drop(\n",
    "    columns=(\"kn\", \"alpha\")\n",
    ")  # .value_counts().reset_index().round(4)"
   ]
  },
  {
   "cell_type": "code",
   "execution_count": null,
   "metadata": {},
   "outputs": [],
   "source": [
    "pd.DataFrame(\n",
    "    {\n",
    "        k[1:3]: info[k[2]].busqueda.best_estimator_.get_params()\n",
    "        for k, info in infos.items()\n",
    "        if k[0] == \"helices_0\" and k[2].endswith(\"kn\")\n",
    "    }\n",
    ")"
   ]
  },
  {
   "cell_type": "code",
   "execution_count": null,
   "metadata": {},
   "outputs": [],
   "source": [
    "# probably throw this away?\n",
    "sns.lineplot(busqueda, y=\"mean_test_score\", x=\"param_bandwidth\", hue=\"param_alpha\")\n",
    "plt.xscale(\"log\")"
   ]
  },
  {
   "cell_type": "code",
   "execution_count": null,
   "metadata": {},
   "outputs": [],
   "source": [
    "from itertools import product\n",
    "\n",
    "some_seeds = np.random.choice(run_seeds, 3)\n",
    "# some_seeds = [5167, 7446, 9083]  # well behaved\n",
    "# some_seeds = [1134, 7815, 9616]  # weird\n",
    "# some_seeds = [1134, 7815, 9083]  # mix\n",
    "some_seeds = np.random.choice(run_seeds, 3)\n",
    "fig, axs = plt.subplots(3, 3, figsize=(35, 30), layout=\"constrained\")\n",
    "for (ds, seed), ax in zip(product(datasets_2d, some_seeds), axs.flatten()):\n",
    "    key = (ds, str(seed), \"fkdc\", str(main_seed), \"neg_log_loss\")\n",
    "    df = pd.DataFrame(infos[key][\"fkdc\"].busqueda.cv_results_)\n",
    "    data = df[df.param_bandwidth.le(10)].pivot(\n",
    "        index=\"param_alpha\", columns=\"param_bandwidth\", values=\"mean_test_score\"\n",
    "    )\n",
    "    X = data.columns.values\n",
    "    Y = data.index.values\n",
    "    Z = data.values\n",
    "    zmin, zmax = Z.min(), Z.max()\n",
    "    CS = ax.contourf(X, Y, Z, 25, cmap=\"viridis\")\n",
    "    ax.set_title(f\"Exactitud para {key}\")\n",
    "    ax.set_xlabel(\"$h$\")\n",
    "    ax.set_ylabel(\"$\\\\alpha$\")\n",
    "    ax.scatter(X[Z.argmax(axis=1)], Y, marker=\"x\", color=\"red\")\n",
    "    # Make a colorbar for the ContourSet returned by the contourf call.\n",
    "    cbar = fig.colorbar(CS)\n",
    "    # cbar.ax.set_ylabel(\"Exactitud\")\n",
    "    ax.set_xscale(\"log\")\n",
    "    # plt.tight_layout()\n",
    "fig.savefig(img_dir / \"many-heatmaps-fkdc-2d-lo-new.svg\")"
   ]
  },
  {
   "cell_type": "code",
   "execution_count": null,
   "metadata": {},
   "outputs": [],
   "source": [
    "# Detalle en espirales_lo, perfiles pérdida\n",
    "run_seed = 7060\n",
    "alpha = 2.25\n",
    "clave = (\"espirales_lo\", str(run_seed), \"fkdc\", str(main_seed), \"neg_log_loss\")\n",
    "orig_info = infos[clave]\n",
    "busqueda = pd.DataFrame(orig_info.fkdc.busqueda.cv_results_)"
   ]
  },
  {
   "cell_type": "code",
   "execution_count": null,
   "metadata": {},
   "outputs": [],
   "source": [
    "orig_mean_test_scores = (\n",
    "    busqueda[busqueda.param_alpha == alpha].set_index(\"param_bandwidth\").mean_test_score\n",
    ")  # / len(info.fkdc.preds)\n",
    "orig_mean_test_scores.plot(figsize=(18, 5))\n",
    "plt.scatter(orig_mean_test_scores.index, orig_mean_test_scores)\n",
    "plt.xscale(\"symlog\")"
   ]
  },
  {
   "cell_type": "code",
   "execution_count": null,
   "metadata": {},
   "outputs": [],
   "source": [
    "espirales_lo = Dataset.cargar(datasets_dir / f\"espirales_lo-{run_seed}.pkl\")\n",
    "espirales_lo.scatter()"
   ]
  },
  {
   "cell_type": "code",
   "execution_count": null,
   "metadata": {},
   "outputs": [],
   "source": [
    "from fkdc.fermat import KDClassifier\n",
    "\n",
    "\n",
    "clf = KDClassifier(metric=\"fermat\", alpha=1.5)"
   ]
  },
  {
   "cell_type": "code",
   "execution_count": null,
   "metadata": {},
   "outputs": [],
   "source": [
    "tarea = Tarea(\n",
    "    espirales_lo,\n",
    "    {\n",
    "        bandwidth: (clf, {\"bandwidth\": [bandwidth]})\n",
    "        for bandwidth in orig_mean_test_scores.index\n",
    "    },\n",
    "    seed=main_seed,\n",
    "    scoring=\"neg_log_loss\",\n",
    "    split_evaluacion=0.5,\n",
    ")\n",
    "tarea.entrenar()\n",
    "tarea.evaluar()\n",
    "new_info = tarea.info"
   ]
  },
  {
   "cell_type": "code",
   "execution_count": null,
   "metadata": {},
   "outputs": [],
   "source": [
    "n_eval = len(new_info[0.001].preds)\n",
    "new_metrics = pd.DataFrame.from_dict(\n",
    "    {\n",
    "        bw: {\n",
    "            \"eval_logvero\": info.logvero,\n",
    "            \"eval_r2\": info.r2,\n",
    "            \"mean_test_score\": info.busqueda.cv_results_[\"mean_test_score\"][0],\n",
    "            \"std_test_score\": info.busqueda.cv_results_[\"std_test_score\"][0],\n",
    "            \"eval_accuracy\": info.accuracy,\n",
    "        }\n",
    "        for bw, info in new_info.items()\n",
    "        if bw != \"base\"\n",
    "    },\n",
    "    orient=\"index\",\n",
    ")\n",
    "new_metrics[\"rank_test_score\"] = (-new_metrics.mean_test_score).rank().astype(int)\n",
    "# assert orig_mean_test_scores.equals(new_metrics.mean_test_score)\n",
    "fig, ax1 = plt.subplots(figsize=(12, 5))\n",
    "new_metrics.eval_logvero.plot(label=\"eval\")\n",
    "new_metrics.mean_test_score.mul(n_eval).plot(label=\"test\")\n",
    "ax1.set_ylabel(\"logvero (solid lines)\")\n",
    "plt.legend()\n",
    "ax2 = ax1.twinx()\n",
    "new_metrics.eval_accuracy.plot(ax=ax2, linestyle=\"dotted\")\n",
    "ax2.set_ylabel(\"accuracy (dotted lines)\")\n",
    "plt.xscale(\"log\")"
   ]
  },
  {
   "cell_type": "code",
   "execution_count": null,
   "metadata": {},
   "outputs": [],
   "source": [
    "max_score, sd = busqueda[busqueda.rank_test_score.eq(1)][\n",
    "    [\"mean_test_score\", \"std_test_score\"]\n",
    "].min()\n",
    "busqueda[busqueda.mean_test_score.ge(max_score - sd)].sort_values(\n",
    "    [\"param_alpha\", \"param_bandwidth\"], ascending=[True, False]\n",
    ")[\n",
    "    [\n",
    "        \"rank_test_score\",\n",
    "        \"param_alpha\",\n",
    "        \"param_bandwidth\",\n",
    "        \"mean_test_score\",\n",
    "        \"std_test_score\",\n",
    "        \"mean_train_score\",\n",
    "    ]\n",
    "]"
   ]
  },
  {
   "cell_type": "code",
   "execution_count": null,
   "metadata": {},
   "outputs": [],
   "source": [
    "new_max_score, new_sd = new_metrics[new_metrics.rank_test_score.eq(1)][\n",
    "    [\"mean_test_score\", \"std_test_score\"]\n",
    "].min()\n",
    "new_metrics[new_metrics.mean_test_score.ge(new_max_score - new_sd)].sort_index(\n",
    "    ascending=False\n",
    ")"
   ]
  },
  {
   "cell_type": "markdown",
   "metadata": {},
   "source": [
    "### 2D, high noise"
   ]
  },
  {
   "cell_type": "code",
   "execution_count": null,
   "metadata": {},
   "outputs": [],
   "source": [
    "import pickle\n",
    "\n",
    "fig, axs = plt.subplots(1, 3, figsize=(15, 5))\n",
    "seed = run_seeds[0]\n",
    "datasets_2d = [\"lunas\", \"espirales\", \"circulos\"]\n",
    "for nombre, ax in zip(datasets_2d, axs):\n",
    "    ds = pickle.load(open(datasets_dir / f\"{nombre}_hi-{seed}.pkl\", \"rb\"))\n",
    "    ds.scatter(ax=ax)\n",
    "    ax.set_title(nombre)\n",
    "plt.tight_layout()\n",
    "fig.savefig(img_dir / \"datasets-lunas-circulos-espirales-hi-new.svg\")"
   ]
  },
  {
   "cell_type": "code",
   "execution_count": null,
   "metadata": {},
   "outputs": [],
   "source": [
    "datasets = [ds for ds in bi.dataset.unique() if ds.endswith(\"_hi\")]"
   ]
  },
  {
   "cell_type": "code",
   "execution_count": null,
   "metadata": {},
   "outputs": [],
   "source": [
    "(\n",
    "    bi[bi.dataset.isin(datasets)]\n",
    "    .groupby([\"clf\", \"dataset\"])[[\"r2\", \"accuracy\"]]\n",
    "    .mean()\n",
    "    .unstack()\n",
    "    .reorder_levels([1, 0], axis=1)\n",
    "    .sort_index(axis=1)\n",
    "    .sort_values((\"circulos_hi\", \"r2\"), ascending=False)\n",
    "    .mul(100)\n",
    "    .round(2)\n",
    ")\n",
    "# TBL 2: datsets 2d low noise"
   ]
  },
  {
   "cell_type": "markdown",
   "metadata": {},
   "source": [
    "- R^2 consistentemente el mejor para (f)KDC, pero sin diferencias entre fermat y euclideo, pero muy jodido en gral\n",
    "- accuracy no mucho peor que SVC (que sigue siendo el rey)\n",
    "  - en lunas_hi gana FKDC!\n",
    "  - en circulos_hi, lunas_hi GBT competitivo"
   ]
  },
  {
   "cell_type": "code",
   "execution_count": null,
   "metadata": {},
   "outputs": [],
   "source": [
    "fig, axs = plt.subplots(1, 3, figsize=(12, 4))\n",
    "metric = \"r2\"\n",
    "for idx, dataset in enumerate(datasets):\n",
    "    ax = axs[idx]\n",
    "    data = bi[\n",
    "        bi.dataset.eq(dataset) & ~bi.clf.isin(exclude_clfs) & bi[metric].notna()\n",
    "    ].sort_values(\"clf\")\n",
    "    sns.boxplot(data, hue=\"clf\", y=metric, gap=0.2, ax=ax, palette=colors)\n",
    "    ax.set_title(dataset)\n",
    "    ax.axhline(\n",
    "        data.groupby(\"clf\")[metric].median().max(), linestyle=\"dotted\", color=\"gray\"\n",
    "    )\n",
    "    ybot, ytop = np.percentile(data[metric].dropna(), [25, 100])\n",
    "    ax.set_ylim(ybot * 0.99, ytop * 1.01)\n",
    "    if idx != 0:\n",
    "        ax.get_legend().set_visible(False)\n",
    "fig.tight_layout()\n",
    "fig.savefig(img_dir / \"boxplot-lunas-espirales-circulos-new.svg\")\n",
    "# IMG 2: Detalle metric boxplot"
   ]
  },
  {
   "cell_type": "code",
   "execution_count": null,
   "metadata": {},
   "outputs": [],
   "source": [
    "bi2d = bi[bi.dataset.str.endswith((\"_lo\", \"_hi\"))].copy()\n",
    "bi2d[[\"figura\", \"ruido\"]] = bi2d.dataset.str.split(\"_\", expand=True)"
   ]
  },
  {
   "cell_type": "code",
   "execution_count": null,
   "metadata": {},
   "outputs": [],
   "source": [
    "metric = \"accuracy\"\n",
    "drops = (\n",
    "    bi2d.groupby([\"figura\", \"ruido\", \"clf\"])[[\"r2\", \"accuracy\"]]\n",
    "    .mean()[metric]\n",
    "    .unstack(\"ruido\")\n",
    "    .assign(rel_drop=lambda df: (df.hi - df.lo).div(df.lo))\n",
    ")\n",
    "drops.rel_drop.unstack(\"figura\").dropna().mul(100).round(2)"
   ]
  },
  {
   "cell_type": "code",
   "execution_count": null,
   "metadata": {},
   "outputs": [],
   "source": [
    "for figura in bi2d.figura.unique():\n",
    "    (\n",
    "        drops.xs(figura)\n",
    "        .drop(columns=\"rel_drop\")[[\"lo\", \"hi\"]]\n",
    "        .sort_values(\"hi\", ascending=False)\n",
    "        .plot(kind=\"bar\")\n",
    "    )\n",
    "    plt.title(f\"Caída absoluta de {metric} en {figura}\")"
   ]
  },
  {
   "cell_type": "markdown",
   "metadata": {},
   "source": [
    "- Los órdenes se mantienen: quien andaba mejor en lo, anda mejor en hi, +- un cachito, pero los que _mejor_ andaban, más pierden"
   ]
  },
  {
   "cell_type": "markdown",
   "metadata": {},
   "source": [
    "### 3d, low dim"
   ]
  },
  {
   "cell_type": "code",
   "execution_count": null,
   "metadata": {},
   "outputs": [],
   "source": [
    "import pickle\n",
    "\n",
    "fig = plt.figure(figsize=(10, 10))\n",
    "seed = run_seeds[0]  # 1134\n",
    "nombres_datasets = [\"pionono\", \"eslabones\", \"helices\", \"hueveras\"]\n",
    "\n",
    "datasets = {\n",
    "    nombre: pickle.load(open(datasets_dir / f\"{nombre}_0-{seed}.pkl\", \"rb\"))\n",
    "    for nombre in nombres_datasets\n",
    "}\n",
    "for idx, (nombre, ds) in enumerate(datasets.items(), start=1):\n",
    "    ax = fig.add_subplot(2, 2, idx, projection=\"3d\")\n",
    "    ds.scatter_3d(ax=ax)\n",
    "    ax.set_title(nombre)\n",
    "plt.tight_layout()\n",
    "fig.savefig(img_dir / \"datasets-3d-0.svg\")\n",
    "# IMG 2: datasets 2d, low noise"
   ]
  },
  {
   "cell_type": "code",
   "execution_count": null,
   "metadata": {},
   "outputs": [],
   "source": [
    "for nombre, ds in datasets.items():\n",
    "    ds.pairplot(dims=[2, 1, 0], height=2, plot_kws=dict(alpha=0.5, s=5), corner=True)\n",
    "    plt.suptitle(nombre)\n",
    "    break"
   ]
  },
  {
   "cell_type": "code",
   "execution_count": null,
   "metadata": {},
   "outputs": [],
   "source": [
    "(\n",
    "    bi[bi.dataset.isin(f\"{nombre}_0\" for nombre in nombres_datasets)]\n",
    "    .groupby([\"clf\", \"dataset\"])[[\"r2\", \"accuracy\"]]\n",
    "    .mean()\n",
    "    .unstack()\n",
    "    .reorder_levels([1, 0], 1)\n",
    "    .sort_index(axis=1)\n",
    "    .mul(100)\n",
    "    .round(2)\n",
    "    .sort_values((\"pionono_0\", \"r2\"), ascending=False)\n",
    ")  # TBL 2: datsets 2d low noise"
   ]
  },
  {
   "cell_type": "markdown",
   "metadata": {},
   "source": [
    "- helices y eslabones muy fáciles\n",
    "- en heveras a fKDC le duele la varianza agregada versus eKDC\n",
    "- (f)KDC best in class for acc & r2 (acc like SVC, plus R^2), but mostly no diff\n",
    "  - r^2 empeora algo en helices con fkdc, sigue siendo mucho mejor que (f)KN, resto ni computa"
   ]
  },
  {
   "cell_type": "code",
   "execution_count": null,
   "metadata": {},
   "outputs": [],
   "source": [
    "fig, axs = plt.subplots(2, 2, figsize=(8, 8))\n",
    "metric = \"r2\"\n",
    "for (idx, nombre), ax in zip(enumerate(nombres_datasets), axs.flatten()):\n",
    "    data = bi[\n",
    "        bi.dataset.eq(f\"{nombre}_0\") & ~bi.clf.isin(exclude_clfs) & bi[metric].notna()\n",
    "    ].sort_values(\"clf\")\n",
    "    sns.boxplot(data, hue=\"clf\", y=metric, gap=0.2, ax=ax, palette=colors)\n",
    "    ax.set_title(nombre)\n",
    "    ax.axhline(\n",
    "        data.groupby(\"clf\")[metric].median().max(), linestyle=\"dotted\", color=\"gray\"\n",
    "    )\n",
    "    ybot, ytop = np.percentile(data[metric].dropna(), [40, 100])\n",
    "    ax.set_ylim(ybot, None)\n",
    "    if idx != 0:\n",
    "        ax.get_legend().set_visible(False)\n",
    "fig.tight_layout()\n",
    "fig.savefig(img_dir / \"3d-low-r2.svg\")\n",
    "# IMG 2: Detalle metric boxplot"
   ]
  },
  {
   "cell_type": "code",
   "execution_count": null,
   "metadata": {},
   "outputs": [],
   "source": [
    "clave_fkdc = (\"pionono_0\", str(run_seeds[6]), \"fkdc\", str(main_seed), \"neg_log_loss\")\n",
    "clave_kdc = (\"pionono_0\", str(run_seeds[6]), \"kdc\", str(main_seed), \"neg_log_loss\")"
   ]
  },
  {
   "cell_type": "markdown",
   "metadata": {},
   "source": [
    "Algún comentario sobre pionono de sapienza???"
   ]
  },
  {
   "cell_type": "markdown",
   "metadata": {},
   "source": [
    "### 3d, high dim\n",
    "- no hace falta reproducir, pues el resto son puro ruido"
   ]
  },
  {
   "cell_type": "code",
   "execution_count": null,
   "metadata": {},
   "outputs": [],
   "source": [
    "import pickle\n",
    "\n",
    "fig = plt.figure(figsize=(10, 10))\n",
    "seed = run_seeds[0]  # 1134\n",
    "nombres_datasets = [\"pionono\", \"eslabones\", \"helices\", \"hueveras\"]\n",
    "\n",
    "datasets = {\n",
    "    nombre: pickle.load(open(datasets_dir / f\"{nombre}_12-{seed}.pkl\", \"rb\"))\n",
    "    for nombre in nombres_datasets\n",
    "}"
   ]
  },
  {
   "cell_type": "code",
   "execution_count": null,
   "metadata": {},
   "outputs": [],
   "source": [
    "for nombre, ds in datasets.items():\n",
    "    ds.pairplot(dims=[3, 4, 5], height=2, plot_kws=dict(alpha=0.5, s=5), corner=True)\n",
    "    plt.suptitle(nombre)\n",
    "    break"
   ]
  },
  {
   "cell_type": "code",
   "execution_count": null,
   "metadata": {},
   "outputs": [],
   "source": [
    "(\n",
    "    bi[bi.dataset.isin(f\"{nombre}_12\" for nombre in nombres_datasets)]\n",
    "    .groupby([\"clf\", \"dataset\"])[[\"r2\", \"accuracy\"]]\n",
    "    .mean()\n",
    "    .unstack()\n",
    "    .reorder_levels([1, 0], 1)\n",
    "    .sort_index(axis=1)\n",
    "    .mul(100)\n",
    "    .round(2)\n",
    "    .sort_values((\"eslabones_12\", \"accuracy\"), ascending=False)\n",
    ")  # TBL 2: datsets 2d low noise"
   ]
  },
  {
   "cell_type": "markdown",
   "metadata": {},
   "source": [
    "- eslabones: (f)[kdc|kn] _zafan_ contra svc,, pero pierden con gnb y gbt brillan:\n",
    "  - gnb: las dimensioens de ruido le duelen muy poquito, pues todo es independiente\n",
    "  - gbt: bien noparam, puede \"ignorar\" fácilmente las dimensioens extra\n",
    "Una manera de verlo: generic feature importances (permutation importance)\n",
    "\n",
    "- helices, hueveras: muy dificiles para todos (en acc y r2), pero (f)kdc encima dan r^2 _negativo_, con confianza le erran\n",
    "- NO parece culpa de fermat: en fkn vs kn, r^2 da igualito\n",
    "  - interesante: por qué el r^2 de kcd es tanto peor que el de fkdc en hueveras?\n",
    "\n",
    "- pionono: gbt brilla+, gnb brilla, resto malísimo: acá de hecho LR anda mejor que (f)[kdc|kn]\n",
    "\n",
    "LA MALDICIÓN DE LA DIMENSIONALIDAD SIGUE JODIENDO..."
   ]
  },
  {
   "cell_type": "code",
   "execution_count": null,
   "metadata": {},
   "outputs": [],
   "source": [
    "from sklearn.inspection import permutation_importance\n",
    "\n",
    "# https://scikit-learn.org/stable/modules/generated/sklearn.inspection.permutation_importance.html"
   ]
  },
  {
   "cell_type": "code",
   "execution_count": null,
   "metadata": {},
   "outputs": [],
   "source": [
    "nombre = \"pionono_12\"\n",
    "semilla = 7060\n",
    "ds = Dataset.cargar(datasets_dir / f\"{nombre}-{semilla}.pkl\")"
   ]
  },
  {
   "cell_type": "code",
   "execution_count": null,
   "metadata": {},
   "outputs": [],
   "source": [
    "main_seed"
   ]
  },
  {
   "cell_type": "code",
   "execution_count": null,
   "metadata": {},
   "outputs": [],
   "source": [
    "imps = {}\n",
    "for clf in clasificadores.keys():\n",
    "    logger.info(f\"Processing permutation importance for {clf}\")\n",
    "    scoring = \"neg_log_loss\" if clf != \"svc\" else \"accuracy\"\n",
    "    info = infos[(nombre, str(semilla), clf, str(main_seed), scoring)]\n",
    "    best = info[clf].busqueda.best_estimator_\n",
    "    importances = permutation_importance(best, ds.X, ds.y, scoring=scoring)\n",
    "    imps[clf] = importances[\"importances_mean\"]"
   ]
  },
  {
   "cell_type": "code",
   "execution_count": null,
   "metadata": {},
   "outputs": [],
   "source": [
    "imps = pd.DataFrame(imps)\n",
    "imps[[\"fkdc\", \"gbt\", \"svc\", \"gnb\"]].loc[:5].plot(kind=\"bar\", color=colors)\n",
    "plt.yscale(\"log\")"
   ]
  },
  {
   "cell_type": "code",
   "execution_count": null,
   "metadata": {},
   "outputs": [],
   "source": [
    "fig, axs = plt.subplots(2, 2, figsize=(8, 8))\n",
    "metric = \"r2\"\n",
    "for (idx, nombre), ax in zip(enumerate(nombres_datasets), axs.flatten()):\n",
    "    data = bi[\n",
    "        bi.dataset.eq(f\"{nombre}_12\") & ~bi.clf.isin(exclude_clfs) & bi[metric].notna()\n",
    "    ].sort_values(\"clf\")\n",
    "    sns.boxplot(data, hue=\"clf\", y=metric, gap=0.2, ax=ax, palette=colors)\n",
    "    ax.set_title(nombre)\n",
    "    ax.axhline(\n",
    "        data.groupby(\"clf\")[metric].median().max(), linestyle=\"dotted\", color=\"gray\"\n",
    "    )\n",
    "    ybot, ytop = np.percentile(data[metric].dropna(), [10, 100])\n",
    "    ax.set_ylim(ybot, None)\n",
    "    if idx != 0:\n",
    "        ax.get_legend().set_visible(False)\n",
    "fig.tight_layout()\n",
    "fig.savefig(img_dir / \"3d-low-r2.svg\")\n",
    "# IMG 2: Detalle metric boxplot"
   ]
  },
  {
   "cell_type": "code",
   "execution_count": null,
   "metadata": {},
   "outputs": [],
   "source": [
    "r2s = bi[bi.dataset.eq(\"hueveras_12\")].set_index([\"semilla\", \"clf\"]).r2.unstack()\n",
    "r2s[[\"fkn\", \"kn\"]].plot(kind=\"bar\")\n",
    "# ínfima diferencia, pero en genral pareja p/ambos"
   ]
  },
  {
   "cell_type": "code",
   "execution_count": null,
   "metadata": {},
   "outputs": [],
   "source": [
    "(-r2s[[\"fkdc\", \"kdc\"]]).plot(kind=\"bar\")\n",
    "# mucha diferencia, siempre en contra de KDC. los best params?"
   ]
  },
  {
   "cell_type": "code",
   "execution_count": null,
   "metadata": {},
   "outputs": [],
   "source": [
    "nombre = \"hueveras_12\"\n",
    "clf = \"fkdc\"\n",
    "scoring = \"neg_log_loss\" if clf != \"svc\" else \"accuracy\"\n",
    "info = infos[(nombre, str(semilla), clf, str(main_seed), scoring)][clf]"
   ]
  },
  {
   "cell_type": "code",
   "execution_count": null,
   "metadata": {},
   "outputs": [],
   "source": [
    "busqueda = pd.DataFrame(info.busqueda.cv_results_)\n",
    "data = busqueda.set_index([\"param_alpha\", \"param_bandwidth\"]).mean_test_score.unstack()\n",
    "X = data.columns.values\n",
    "Y = data.index.values\n",
    "Z = data.values\n",
    "\n",
    "fig, ax = plt.subplots(layout=\"constrained\")\n",
    "zmin, zmax = Z.min(), Z.max()\n",
    "CS = ax.contourf(X, Y, Z, 15, cmap=\"viridis\")\n",
    "# CS = ax.contour(X, Y, Z, 15, cmap=\"viridis\")\n",
    "ax.set_title(\"Exactitud para $\\\\alpha$ y $h$\")\n",
    "ax.set_xlabel(\"$h$\")\n",
    "ax.set_ylabel(\"$\\\\alpha$\")\n",
    "ax.scatter(X[Z.argmax(axis=1)], Y, marker=\"x\", color=\"red\")\n",
    "# Make a colorbar for the ContourSet returned by the contourf call.\n",
    "cbar = fig.colorbar(CS)\n",
    "cbar.ax.set_ylabel(\"Exactitud\")\n",
    "ax.set_xscale(\"log\")\n",
    "# plt.tight_layout()\n",
    "fig.savefig(img_dir / \"heatmap-fkdc-2d-lo-new.svg\")"
   ]
  },
  {
   "cell_type": "markdown",
   "metadata": {},
   "source": [
    "da todo igual!"
   ]
  },
  {
   "cell_type": "code",
   "execution_count": null,
   "metadata": {},
   "outputs": [],
   "source": [
    "nombre = \"hueveras_12\"\n",
    "clf = \"kdc\"\n",
    "scoring = \"neg_log_loss\" if clf != \"svc\" else \"accuracy\"\n",
    "info = infos[(nombre, str(semilla), clf, str(main_seed), scoring)][clf]"
   ]
  },
  {
   "cell_type": "code",
   "execution_count": null,
   "metadata": {},
   "outputs": [],
   "source": [
    "busqueda = pd.DataFrame(info.busqueda.cv_results_)\n",
    "busqueda.set_index(\"param_bandwidth\")[\n",
    "    [\n",
    "        \"mean_test_score\",\n",
    "        \"mean_train_score\",\n",
    "    ]\n",
    "].plot()\n",
    "plt.axvline(info.busqueda.best_estimator_.bandwidth, color=\"gray\", linestyle=\"dotted\")\n",
    "plt.xscale(\"log\")"
   ]
  },
  {
   "cell_type": "code",
   "execution_count": null,
   "metadata": {
    "tags": [
     "pipo"
    ]
   },
   "outputs": [],
   "source": [
    "pd.concat(\n",
    "    [\n",
    "        pd.DataFrame.from_dict(\n",
    "            {\n",
    "                k[1]: v.fkdc.busqueda.best_params_\n",
    "                for k, v in infos.items()\n",
    "                if k[0] == \"hueveras_12\" and k[2] == \"fkdc\"\n",
    "            },\n",
    "            orient=\"index\",\n",
    "        ).add_prefix(\"fkdc_\"),\n",
    "        pd.DataFrame.from_dict(\n",
    "            {\n",
    "                k[1]: v.kdc.busqueda.best_params_\n",
    "                for k, v in infos.items()\n",
    "                if k[0] == \"hueveras_12\" and k[2] == \"kdc\"\n",
    "            },\n",
    "            orient=\"index\",\n",
    "        ).add_prefix(\"kdc_\"),\n",
    "        bi[bi.clf.str.endswith(\"kdc\") & bi.dataset.eq(\"hueveras_12\")]\n",
    "        .assign(semilla=lambda df: df.semilla.astype(str))\n",
    "        .set_index([\"semilla\", \"clf\"])\n",
    "        .r2.mul(10000)\n",
    "        .astype(int)\n",
    "        .unstack()\n",
    "        .add_suffix(\"_logvero\"),\n",
    "    ],\n",
    "    axis=1,\n",
    ").sort_index(axis=1)"
   ]
  },
  {
   "cell_type": "markdown",
   "metadata": {},
   "source": [
    "Los dos estimadores están contra los \"bordes\" de su caja de hiperparámetros, y el paisaje/superficie de pérdida es súper plana, la diferencia es que por alguna razón fkdc paró mejor en el borde de máxima parsimonia (1, 100), mientras que kdc encontró mínimas diferencias numéricas y está agarrando \"óptimos\" muy chiquitos que son marginalmente mejores que 10K (y cuando lo agarra, da simplemente 0 el R^2). \n",
    "\n",
    "Otro caso más para empujar una regla tipo 1SD rule arriba del refit parsimonioso."
   ]
  },
  {
   "cell_type": "code",
   "execution_count": null,
   "metadata": {},
   "outputs": [],
   "source": [
    "bi3d = bi[bi.dataset.str.endswith((\"_0\", \"_12\"))].copy()\n",
    "bi3d[[\"figura\", \"dims_ruido\"]] = bi3d.dataset.str.split(\"_\", expand=True)"
   ]
  },
  {
   "cell_type": "code",
   "execution_count": null,
   "metadata": {},
   "outputs": [],
   "source": [
    "metric = \"accuracy\"\n",
    "drops = (\n",
    "    bi3d.groupby([\"figura\", \"dims_ruido\", \"clf\"])[[\"r2\", \"accuracy\"]]\n",
    "    .mean()[metric]\n",
    "    .unstack(\"dims_ruido\")\n",
    "    .assign(rel_drop=lambda df: (df[\"0\"] - df[\"12\"]).div(df[\"0\"]))\n",
    ")\n",
    "drops.rel_drop.unstack(\"figura\").dropna().mul(100).round(2)"
   ]
  },
  {
   "cell_type": "code",
   "execution_count": null,
   "metadata": {},
   "outputs": [],
   "source": [
    "for figura in bi3d.figura.unique():\n",
    "    (\n",
    "        drops.xs(figura)\n",
    "        .drop(columns=\"rel_drop\")[[\"0\", \"12\"]]\n",
    "        .sort_values(\"12\", ascending=False)\n",
    "        .plot(kind=\"bar\")\n",
    "    )\n",
    "    plt.title(f\"Caída absoluta de {metric} en {figura}\")"
   ]
  },
  {
   "cell_type": "markdown",
   "metadata": {},
   "source": [
    "### Multi-k"
   ]
  },
  {
   "cell_type": "code",
   "execution_count": null,
   "metadata": {},
   "outputs": [],
   "source": [
    "import pickle\n",
    "\n",
    "fig, axs = plt.subplots(2, 2, figsize=(10, 10))\n",
    "datasets_multik = [\"anteojos\", \"iris\", \"vino\", \"pinguinos\"]\n",
    "for nombre, ax in zip(datasets_multik, axs.flatten()):\n",
    "    ds = pickle.load(open(datasets_dir / f\"{nombre}.pkl\", \"rb\"))\n",
    "    ds.scatter(ax=ax)\n",
    "    ax.set_title(f\"{nombre} (n={ds.n}; p={ds.p}, k={ds.k})\")\n",
    "plt.tight_layout()\n",
    "# fig.savefig(img_dir / \"datasets-lunas-circulos-espirales-hi-new.svg\")"
   ]
  },
  {
   "cell_type": "code",
   "execution_count": null,
   "metadata": {},
   "outputs": [],
   "source": [
    "(\n",
    "    bi[bi.dataset.isin(datasets_multik)]\n",
    "    .groupby([\"clf\", \"dataset\"])[[\"r2\", \"accuracy\"]]\n",
    "    .mean()\n",
    "    .unstack()\n",
    "    .reorder_levels([1, 0], axis=1)\n",
    "    .sort_index(axis=1)\n",
    "    .sort_values((\"iris\", \"r2\"), ascending=False)\n",
    "    .mul(100)\n",
    "    .round(2)\n",
    ")\n",
    "# TBL 2: datsets 2d low noise"
   ]
  },
  {
   "cell_type": "markdown",
   "metadata": {},
   "source": [
    "#### Anteojos\n",
    "espectacular performance de fKDC en R2, con acc ==SVC, pero a esta altura es imposible encontrar una diferencia entre ambos, clarito."
   ]
  },
  {
   "cell_type": "code",
   "execution_count": null,
   "metadata": {},
   "outputs": [],
   "source": [
    "nombre_dataset = \"espirales_lo\"\n",
    "seed = 1434\n",
    "clfs = [\"fkdc\", \"kdc\", \"kn\", \"fkn\", \"gbt\", \"lr\", \"gnb\", \"svc\"]\n",
    "# dataset = pickle.load(open(datasets_dir / f\"{nombre_dataset}.pkl\", \"rb\"))\n",
    "dataset = pickle.load(open(datasets_dir / f\"{nombre_dataset}-{seed}.pkl\", \"rb\"))"
   ]
  },
  {
   "cell_type": "code",
   "execution_count": null,
   "metadata": {},
   "outputs": [],
   "source": [
    "tarea = Tarea(dataset, {}, seed=seed, split_evaluacion=0.5)"
   ]
  },
  {
   "cell_type": "code",
   "execution_count": null,
   "metadata": {},
   "outputs": [],
   "source": [
    "from sklearn.inspection import DecisionBoundaryDisplay\n",
    "\n",
    "# Set-up 2x2 grid for plotting.\n",
    "fig, axs = plt.subplots(4, 2, figsize=(12, 24))\n",
    "plt.subplots_adjust(wspace=0.1, hspace=0.1)\n",
    "\n",
    "X = tarea.X_eval\n",
    "y = tarea.y_eval\n",
    "X0, X1 = X[:, 0], X[:, 1]\n",
    "\n",
    "for clf, ax in zip(clfs, axs.flatten()):\n",
    "    response_method, scoring = \"predict_proba\", \"neg_log_loss\"\n",
    "    if clf == \"svc\":\n",
    "        response_method, scoring = \"predict\", \"accuracy\"\n",
    "    info = infos[(nombre_dataset, str(seed), clf, str(main_seed), scoring)][clf]\n",
    "    # info = infos[(nombre_dataset, str(None), clf, str(seed), scoring)][clf]\n",
    "    disp = DecisionBoundaryDisplay.from_estimator(\n",
    "        info.busqueda.best_estimator_,\n",
    "        X,\n",
    "        eps=0.05,\n",
    "        # response_method=response_method,\n",
    "        response_method=\"predict\",\n",
    "        cmap=plt.cm.coolwarm,\n",
    "        alpha=0.8,\n",
    "        ax=ax,\n",
    "        xlabel=\"x\",\n",
    "        ylabel=\"y\",\n",
    "    )\n",
    "    ax.scatter(X0, X1, c=y.astype(float), cmap=plt.cm.coolwarm, s=20, edgecolors=\"gray\")\n",
    "    ax.set_xticks(())\n",
    "    ax.set_yticks(())\n",
    "    ax.set_title(\n",
    "        f\"{clf} ({(info.accuracy * 100):.2f}% acc., {(info.get(\"r2\", 0)):.3f} $R^2$)\"\n",
    "    )\n",
    "\n",
    "plt.show()"
   ]
  },
  {
   "cell_type": "markdown",
   "metadata": {},
   "source": [
    "\n",
    "#### Iris\n",
    "Acc esta OK, pero R2 sufre bocha en el promedio por algunas muy malas semillas que llevan el R2 a terreno negativo"
   ]
  },
  {
   "cell_type": "code",
   "execution_count": null,
   "metadata": {},
   "outputs": [],
   "source": [
    "bi[bi.clf.str.endswith(\"kdc\") & bi.dataset.eq(\"iris\")].pivot(\n",
    "    index=\"semilla\", columns=\"clf\", values=\"r2\"\n",
    ").sort_values(\"fkdc\").plot(kind=\"bar\")"
   ]
  },
  {
   "cell_type": "code",
   "execution_count": null,
   "metadata": {},
   "outputs": [],
   "source": [
    "bad_seed = 1182\n",
    "clf = \"fkdc\"\n",
    "clave = (\"iris\", str(None), clf, str(bad_seed), \"neg_log_loss\")\n",
    "info = infos[clave][clf]"
   ]
  },
  {
   "cell_type": "code",
   "execution_count": null,
   "metadata": {},
   "outputs": [],
   "source": [
    "busqueda = pd.DataFrame(info.busqueda.cv_results_)\n",
    "data = busqueda.set_index([\"param_alpha\", \"param_bandwidth\"]).mean_test_score.unstack()\n",
    "X = data.columns.values\n",
    "Y = data.index.values\n",
    "Z = data.values\n",
    "\n",
    "fig, ax = plt.subplots(layout=\"constrained\")\n",
    "zmin, zmax = Z.min(), Z.max()\n",
    "CS = ax.contourf(X, Y, Z, 15, cmap=\"viridis\")\n",
    "# CS = ax.contour(X, Y, Z, 15, cmap=\"viridis\")\n",
    "ax.set_title(\"Exactitud para $\\\\alpha$ y $h$\")\n",
    "ax.set_xlabel(\"$h$\")\n",
    "ax.set_ylabel(\"$\\\\alpha$\")\n",
    "ax.scatter(X[Z.argmax(axis=1)], Y, marker=\"x\", color=\"red\")\n",
    "# Make a colorbar for the ContourSet returned by the contourf call.\n",
    "cbar = fig.colorbar(CS)\n",
    "cbar.ax.set_ylabel(\"Exactitud\")\n",
    "ax.set_xscale(\"log\")\n",
    "# plt.tight_layout()\n",
    "fig.savefig(img_dir / \"heatmap-fkdc-2d-lo-new.svg\")"
   ]
  },
  {
   "cell_type": "code",
   "execution_count": null,
   "metadata": {},
   "outputs": [],
   "source": [
    "bad_seed = 5640\n",
    "clf = \"fkdc\"\n",
    "clave = (\"iris\", str(None), clf, str(bad_seed), \"neg_log_loss\")\n",
    "info = infos[clave][clf]"
   ]
  },
  {
   "cell_type": "code",
   "execution_count": null,
   "metadata": {},
   "outputs": [],
   "source": [
    "busqueda = pd.DataFrame(info.busqueda.cv_results_)\n",
    "data = busqueda.set_index([\"param_alpha\", \"param_bandwidth\"]).mean_test_score.unstack()\n",
    "X = data.columns.values\n",
    "Y = data.index.values\n",
    "Z = data.values\n",
    "\n",
    "fig, ax = plt.subplots(layout=\"constrained\")\n",
    "zmin, zmax = Z.min(), Z.max()\n",
    "CS = ax.contourf(X, Y, Z, 15, cmap=\"viridis\")\n",
    "# CS = ax.contour(X, Y, Z, 15, cmap=\"viridis\")\n",
    "ax.set_title(\"Exactitud para $\\\\alpha$ y $h$\")\n",
    "ax.set_xlabel(\"$h$\")\n",
    "ax.set_ylabel(\"$\\\\alpha$\")\n",
    "ax.scatter(X[Z.argmax(axis=1)], Y, marker=\"x\", color=\"red\")\n",
    "# Make a colorbar for the ContourSet returned by the contourf call.\n",
    "cbar = fig.colorbar(CS)\n",
    "cbar.ax.set_ylabel(\"Exactitud\")\n",
    "ax.set_xscale(\"log\")\n",
    "# plt.tight_layout()\n",
    "# fig.savefig(img_dir / \"heatmap-fkdc-2d-lo-new.svg\")"
   ]
  },
  {
   "cell_type": "code",
   "execution_count": null,
   "metadata": {},
   "outputs": [],
   "source": [
    "nombre = \"iris\"\n",
    "clf = \"kdc\"\n",
    "scoring = \"neg_log_loss\" if clf != \"svc\" else \"accuracy\"\n",
    "# seeds = [1134, 3923, 6825, 4505]  # good, bad, bad, good\n",
    "seeds = _get_run_seeds()[:4]\n",
    "height = 5\n",
    "fig, axs = plt.subplots(1, len(seeds), figsize=(height * len(seeds), height))\n",
    "for seed, ax in zip(seeds, axs):\n",
    "    info = infos[(nombre, str(None), clf, str(seed), scoring)][clf]\n",
    "    busqueda = pd.DataFrame(info.busqueda.cv_results_)\n",
    "    busqueda.set_index(\"param_bandwidth\")[\n",
    "        [\n",
    "            \"mean_test_score\",\n",
    "            \"mean_train_score\",\n",
    "        ]\n",
    "    ].plot(ax=ax)\n",
    "    ax.set_title(f\"{seed}\")\n",
    "    ax.axvline(\n",
    "        info.busqueda.best_estimator_.bandwidth, color=\"gray\", linestyle=\"dotted\"\n",
    "    )\n",
    "    ax.axhline(info.logvero / len(info.preds), color=\"C2\", label=\"mean_eval_score\")\n",
    "    ax.legend()\n",
    "    ax.set_xscale(\"log\")"
   ]
  },
  {
   "cell_type": "code",
   "execution_count": null,
   "metadata": {},
   "outputs": [],
   "source": [
    "fig, axs = plt.subplots(2, 2, figsize=(8, 8))\n",
    "metric = \"r2\"\n",
    "for idx, dataset in enumerate(datasets_multik):\n",
    "    ax = axs.flatten()[idx]\n",
    "    data = bi[\n",
    "        bi.dataset.eq(dataset) & ~bi.clf.isin(exclude_clfs) & bi[metric].notna()\n",
    "    ].sort_values(\"clf\")\n",
    "    sns.boxplot(data, hue=\"clf\", y=metric, gap=0.2, ax=ax, palette=colors)\n",
    "    ax.set_title(dataset)\n",
    "    ax.axhline(\n",
    "        data.groupby(\"clf\")[metric].median().max(), linestyle=\"dotted\", color=\"gray\"\n",
    "    )\n",
    "    # ybot, ytop = np.percentile(data[metric].dropna(), [25, 100])\n",
    "    # ax.set_ylim(ybot * 0.99, ytop * 1.01)\n",
    "    if idx != 0:\n",
    "        ax.get_legend().set_visible(False)\n",
    "fig.tight_layout()\n",
    "# fig.savefig(img_dir / \"boxplot-lunas-espirales-circulos-new.svg\")\n",
    "# IMG 2: Detalle metric boxplot"
   ]
  },
  {
   "cell_type": "code",
   "execution_count": null,
   "metadata": {},
   "outputs": [],
   "source": [
    "bad_seed = 5640\n",
    "clf = \"fkdc\"\n",
    "clave = (\"vino\", str(None), clf, str(bad_seed), \"neg_log_loss\")\n",
    "info = infos[clave][clf]"
   ]
  },
  {
   "cell_type": "code",
   "execution_count": null,
   "metadata": {},
   "outputs": [],
   "source": [
    "busqueda = pd.DataFrame(info.busqueda.cv_results_)\n",
    "data = busqueda.set_index([\"param_alpha\", \"param_bandwidth\"]).mean_test_score.unstack()\n",
    "X = data.columns.values\n",
    "Y = data.index.values\n",
    "Z = data.values\n",
    "\n",
    "fig, ax = plt.subplots(layout=\"constrained\")\n",
    "zmin, zmax = Z.min(), Z.max()\n",
    "CS = ax.contourf(X, Y, Z, 15, cmap=\"viridis\")\n",
    "# CS = ax.contour(X, Y, Z, 15, cmap=\"viridis\")\n",
    "ax.set_title(\"Exactitud para $\\\\alpha$ y $h$\")\n",
    "ax.set_xlabel(\"$h$\")\n",
    "ax.set_ylabel(\"$\\\\alpha$\")\n",
    "ax.scatter(X[Z.argmax(axis=1)], Y, marker=\"x\", color=\"red\")\n",
    "# Make a colorbar for the ContourSet returned by the contourf call.\n",
    "cbar = fig.colorbar(CS)\n",
    "cbar.ax.set_ylabel(\"Exactitud\")\n",
    "ax.set_xscale(\"log\")\n",
    "# plt.tight_layout()\n",
    "fig.savefig(img_dir / \"heatmap-fkdc-2d-lo-new.svg\")"
   ]
  },
  {
   "cell_type": "code",
   "execution_count": null,
   "metadata": {},
   "outputs": [],
   "source": [
    "nombre = \"iris\"\n",
    "clf_metrics = {\"kdc\": \"bandwidth\", \"gnb\": \"var_smoothing\"}\n",
    "scoring = \"neg_log_loss\" if clf != \"svc\" else \"accuracy\"\n",
    "seed = 1182\n",
    "height = 5\n",
    "fig, axs = plt.subplots(1, 2, figsize=(height * len(clf_metrics), height))\n",
    "for (clf, metric), ax in zip(clf_metrics.items(), axs):\n",
    "    info = infos[(nombre, str(None), clf, str(seed), scoring)][clf]\n",
    "    busqueda = pd.DataFrame(info.busqueda.cv_results_)\n",
    "    busqueda.set_index(f\"param_{metric}\")[\n",
    "        [\n",
    "            \"mean_test_score\",\n",
    "            \"mean_train_score\",\n",
    "        ]\n",
    "    ].plot(ax=ax)\n",
    "    ax.set_title(f\"{clf} by {metric}\")\n",
    "    ax.axvline(\n",
    "        getattr(info.busqueda.best_estimator_, metric), color=\"gray\", linestyle=\"dotted\"\n",
    "    )\n",
    "    ax.axhline(info.logvero / len(info.preds), color=\"C2\", label=\"mean_eval_score\")\n",
    "    ax.legend()\n",
    "    ax.set_xscale(\"log\")"
   ]
  },
  {
   "cell_type": "markdown",
   "metadata": {},
   "source": [
    "#### Pinguinos\n",
    "OK, pongámosle que en `iris` (f)KDC da tan mal porque tuvimos mala suerte con las semillas, una regla más parsimoniosa hubiese ayudado. Pero en `iris`, da _todo_ mal (\"peor\"); por qué? Tiene 3 clases fácilmente diferenciables a ojo en el eje `(0, 1)`!"
   ]
  },
  {
   "cell_type": "code",
   "execution_count": null,
   "metadata": {},
   "outputs": [],
   "source": [
    "pinguinos = pickle.load(open(datasets_dir / f\"pinguinos.pkl\", \"rb\"))\n",
    "pinguinos.pairplot(height=2)"
   ]
  },
  {
   "cell_type": "markdown",
   "metadata": {},
   "source": [
    "Hmmm, en el eje `(0, 1)` (o `(0, 2)`, o `(0, 3)`) las tres clases son fácilmente diferenciables a ojo, pero en las dims `(1,2,3)` Adelie y Chinstrap están muy encimadas. ¿Será que funcionan como \"dimensiones de ruido\" y confunden al clasificador más de lo que lo ayudan?\n",
    "Si así fuese, esperaríamos ver que en la matriz de confusión, \"Gentoo\" aparece bien clasificada, y \"Adelie/Chinstrap\" están confundidas. Si así fuese,\n",
    "\n",
    "1. La matriz de confusión debería verse \"diagonal por bloques\", y\n",
    "2. Reentrenar el clasificador (digamos que KDC para simplificar) con sólo dos dimensiones debería mejorar la performance.\n",
    "\n",
    "Veamos"
   ]
  },
  {
   "cell_type": "code",
   "execution_count": null,
   "metadata": {},
   "outputs": [],
   "source": [
    "mejor_semilla = (\n",
    "    bi[bi.dataset.eq(\"pinguinos\") & bi.clf.eq(\"kdc\")]\n",
    "    .sort_values(\"r2\", ascending=False)\n",
    "    .iloc[0]\n",
    "    .semilla\n",
    ")"
   ]
  },
  {
   "cell_type": "code",
   "execution_count": null,
   "metadata": {},
   "outputs": [],
   "source": [
    "tarea_pinguinos = Tarea(\n",
    "    pinguinos, algoritmos={}, seed=mejor_semilla, split_evaluacion=0.5\n",
    ")"
   ]
  },
  {
   "cell_type": "code",
   "execution_count": null,
   "metadata": {},
   "outputs": [],
   "source": [
    "clave = (\"pinguinos\", \"None\", \"kdc\", str(mejor_semilla), \"neg_log_loss\")\n",
    "info = infos[clave].kdc\n",
    "mejor_kdc = info.busqueda.best_estimator_"
   ]
  },
  {
   "cell_type": "code",
   "execution_count": null,
   "metadata": {},
   "outputs": [],
   "source": [
    "from sklearn.metrics import accuracy_score\n",
    "\n",
    "\n",
    "expected_accuracy = info.accuracy\n",
    "y_true = tarea_pinguinos.y_eval\n",
    "y_pred = mejor_kdc.predict(tarea_pinguinos.X_eval)\n",
    "actual_accuracy = accuracy_score(y_true, y_pred)\n",
    "assert actual_accuracy == expected_accuracy"
   ]
  },
  {
   "cell_type": "code",
   "execution_count": null,
   "metadata": {},
   "outputs": [],
   "source": [
    "pd.DataFrame({\"true\": y_true, \"pred\": y_pred}).value_counts().unstack()"
   ]
  },
  {
   "cell_type": "code",
   "execution_count": null,
   "metadata": {},
   "outputs": [],
   "source": [
    "pd.DataFrame(\n",
    "    {\n",
    "        \"eval\": pd.Series(y_true).value_counts(normalize=True),\n",
    "        \"pop\": pd.Series(ds.y).value_counts(normalize=True),\n",
    "    }\n",
    ")"
   ]
  },
  {
   "cell_type": "markdown",
   "metadata": {},
   "source": [
    "Efectivamente, Gentoo y Adelie están esencialmente bien clasificados, pero la clase Chinstrap está completamente predicha como Adelie, que es la clase mayoritaria en su cluster.\n",
    "Las proporciones son muy similares en evaluación que en la población en general, también."
   ]
  },
  {
   "cell_type": "code",
   "execution_count": null,
   "metadata": {},
   "outputs": [],
   "source": [
    "pinguinos_corto = Dataset(pinguinos.X[:, [0, 1]], pinguinos.y)"
   ]
  },
  {
   "cell_type": "code",
   "execution_count": null,
   "metadata": {},
   "outputs": [],
   "source": [
    "clf = KDClassifier(metric=\"euclidean\")\n",
    "tarea = Tarea(\n",
    "    pinguinos_corto,\n",
    "    {\"kdc\": (clasificadores[\"kdc\"], grillas[\"kdc\"])},\n",
    "    seed=mejor_semilla,\n",
    "    scoring=\"neg_log_loss\",\n",
    "    split_evaluacion=0.5,\n",
    ")\n",
    "tarea.entrenar()\n",
    "tarea.evaluar()\n",
    "pinguinos_corto_info = tarea.info\n",
    "n_eval = len(tarea.y_eval)"
   ]
  },
  {
   "cell_type": "code",
   "execution_count": null,
   "metadata": {},
   "outputs": [],
   "source": [
    "info.accuracy, tarea.info[\"kdc\"].accuracy"
   ]
  },
  {
   "cell_type": "code",
   "execution_count": null,
   "metadata": {},
   "outputs": [],
   "source": [
    "info.r2, tarea.info[\"kdc\"].r2"
   ]
  },
  {
   "cell_type": "code",
   "execution_count": null,
   "metadata": {},
   "outputs": [],
   "source": [
    "comp = pd.DataFrame(\n",
    "    {\n",
    "        \"true\": tarea.y_eval,\n",
    "        \"orig_pred\": y_pred,\n",
    "        \"new_pred\": tarea.info.kdc.busqueda.best_estimator_.predict(tarea.X_eval),\n",
    "    }\n",
    ")"
   ]
  },
  {
   "cell_type": "code",
   "execution_count": null,
   "metadata": {},
   "outputs": [],
   "source": [
    "comp[[\"true\", \"orig_pred\"]].value_counts().unstack()"
   ]
  },
  {
   "cell_type": "code",
   "execution_count": null,
   "metadata": {},
   "outputs": [],
   "source": [
    "comp[[\"true\", \"new_pred\"]].value_counts().unstack()"
   ]
  },
  {
   "cell_type": "markdown",
   "metadata": {},
   "source": [
    "¡Increíble! Debería repetirse similarmente para `vino`. E examinar el pairplot, sabemos que de las 13 dimesiones, `(6, 9, 12)` son bastante difenretes de a pares:"
   ]
  },
  {
   "cell_type": "markdown",
   "metadata": {},
   "source": [
    "#### Vino"
   ]
  },
  {
   "cell_type": "code",
   "execution_count": null,
   "metadata": {},
   "outputs": [],
   "source": [
    "vino = pickle.load(open(datasets_dir / f\"vino.pkl\", \"rb\"))\n",
    "vino.pairplot(dims=[6, 9, 12])"
   ]
  },
  {
   "cell_type": "code",
   "execution_count": null,
   "metadata": {},
   "outputs": [],
   "source": [
    "mejor_semilla = (\n",
    "    bi[bi.dataset.eq(\"vino\") & bi.clf.eq(\"kdc\")]\n",
    "    .sort_values(\"accuracy\", ascending=False)\n",
    "    .iloc[0]\n",
    "    .semilla\n",
    ")"
   ]
  },
  {
   "cell_type": "code",
   "execution_count": null,
   "metadata": {},
   "outputs": [],
   "source": [
    "tarea_vino = Tarea(vino, algoritmos={}, seed=mejor_semilla, split_evaluacion=0.5)"
   ]
  },
  {
   "cell_type": "code",
   "execution_count": null,
   "metadata": {},
   "outputs": [],
   "source": [
    "clave = (\"vino\", \"None\", \"kdc\", str(mejor_semilla), \"neg_log_loss\")\n",
    "info = infos[clave].kdc\n",
    "mejor_kdc = info.busqueda.best_estimator_"
   ]
  },
  {
   "cell_type": "code",
   "execution_count": null,
   "metadata": {},
   "outputs": [],
   "source": [
    "from sklearn.metrics import accuracy_score\n",
    "\n",
    "\n",
    "expected_accuracy = info.accuracy\n",
    "y_true = tarea_vino.y_eval\n",
    "y_pred = mejor_kdc.predict(tarea_vino.X_eval)\n",
    "actual_accuracy = accuracy_score(y_true, y_pred)\n",
    "assert actual_accuracy == expected_accuracy"
   ]
  },
  {
   "cell_type": "code",
   "execution_count": null,
   "metadata": {},
   "outputs": [],
   "source": [
    "actual_accuracy"
   ]
  },
  {
   "cell_type": "code",
   "execution_count": null,
   "metadata": {},
   "outputs": [],
   "source": [
    "pd.DataFrame({\"true\": y_true, \"pred\": y_pred}).value_counts().unstack()"
   ]
  },
  {
   "cell_type": "code",
   "execution_count": null,
   "metadata": {},
   "outputs": [],
   "source": [
    "pd.DataFrame(\n",
    "    {\n",
    "        \"eval\": pd.Series(y_true).value_counts(normalize=True),\n",
    "        \"pop\": pd.Series(vino.y).value_counts(normalize=True),\n",
    "    }\n",
    ")"
   ]
  },
  {
   "cell_type": "code",
   "execution_count": null,
   "metadata": {},
   "outputs": [],
   "source": [
    "vino_corto = Dataset(vino.X[:, [6, 9, 12]], vino.y)"
   ]
  },
  {
   "cell_type": "code",
   "execution_count": null,
   "metadata": {},
   "outputs": [],
   "source": [
    "clf = KDClassifier(metric=\"euclidean\")\n",
    "tarea = Tarea(\n",
    "    vino_corto,\n",
    "    {\"kdc\": (clasificadores[\"kdc\"], grillas[\"kdc\"])},\n",
    "    seed=mejor_semilla,\n",
    "    scoring=\"neg_log_loss\",\n",
    ")\n",
    "tarea.entrenar()\n",
    "tarea.evaluar()\n",
    "vino_corto_info = tarea.info\n",
    "n_eval = len(tarea.y_eval)"
   ]
  },
  {
   "cell_type": "code",
   "execution_count": null,
   "metadata": {},
   "outputs": [],
   "source": [
    "info.accuracy, tarea.info[\"kdc\"].accuracy"
   ]
  },
  {
   "cell_type": "code",
   "execution_count": null,
   "metadata": {},
   "outputs": [],
   "source": [
    "info.r2, tarea.info[\"kdc\"].r2"
   ]
  },
  {
   "cell_type": "code",
   "execution_count": null,
   "metadata": {},
   "outputs": [],
   "source": [
    "comp = pd.DataFrame(\n",
    "    {\n",
    "        \"true\": tarea.y_eval,\n",
    "        \"orig_pred\": y_pred,\n",
    "        \"new_pred\": tarea.info.kdc.busqueda.best_estimator_.predict(tarea.X_eval),\n",
    "    }\n",
    ")"
   ]
  },
  {
   "cell_type": "code",
   "execution_count": null,
   "metadata": {},
   "outputs": [],
   "source": [
    "comp[[\"true\", \"orig_pred\"]].value_counts().unstack()"
   ]
  },
  {
   "cell_type": "code",
   "execution_count": null,
   "metadata": {},
   "outputs": [],
   "source": [
    "comp[[\"true\", \"new_pred\"]].value_counts().unstack()"
   ]
  },
  {
   "cell_type": "markdown",
   "metadata": {},
   "source": [
    "Mejor, pero no _mucho_ mejor. Evidentemente hay más cosas a examinar..."
   ]
  },
  {
   "cell_type": "markdown",
   "metadata": {},
   "source": [
    "### Digitos"
   ]
  },
  {
   "cell_type": "code",
   "execution_count": null,
   "metadata": {},
   "outputs": [],
   "source": [
    "(\n",
    "    bi[bi.dataset.isin([\"digitos\", \"mnist\"])]\n",
    "    .groupby([\"clf\", \"dataset\"])[[\"r2\", \"accuracy\"]]\n",
    "    .mean()\n",
    "    .unstack()\n",
    "    .reorder_levels([1, 0], axis=1)\n",
    "    .sort_index(axis=1)\n",
    "    .sort_values((\"mnist\", \"accuracy\"), ascending=False)\n",
    "    .mul(100)\n",
    "    .round(2)\n",
    ")\n",
    "# TBL 2: datsets 2d low noise"
   ]
  },
  {
   "cell_type": "markdown",
   "metadata": {},
   "source": [
    "#### digitos\n",
    "bomba! aunque tambien andan muy bien todos, hasta LR tiene excelente acc yR2; GNB pifia en R2 pero still competitivo y los tiempos deben ser minimos\n",
    "TODO: mirar tiempos, maybe su propia sección\n",
    "\n",
    "#### mnist\n",
    "curioso: KDC super competitivo, fKDC un desastre. analizar"
   ]
  },
  {
   "cell_type": "code",
   "execution_count": null,
   "metadata": {},
   "outputs": [],
   "source": [
    "pd.concat(\n",
    "    [\n",
    "        pd.DataFrame.from_dict(\n",
    "            {\n",
    "                k[1]: v.fkdc.busqueda.best_params_\n",
    "                for k, v in infos.items()\n",
    "                if k[0] == \"mnist\" and k[2] == \"fkdc\"\n",
    "            },\n",
    "            orient=\"index\",\n",
    "        ).add_prefix(\"fkdc_\"),\n",
    "        pd.DataFrame.from_dict(\n",
    "            {\n",
    "                k[1]: v.kdc.busqueda.best_params_\n",
    "                for k, v in infos.items()\n",
    "                if k[0] == \"mnist\" and k[2] == \"kdc\"\n",
    "            },\n",
    "            orient=\"index\",\n",
    "        ).add_prefix(\"kdc_\"),\n",
    "        bi[bi.clf.str.endswith(\"kdc\") & bi.dataset.eq(\"mnist\")]\n",
    "        .assign(semilla=lambda df: df.semilla.astype(str))\n",
    "        .set_index([\"semilla\", \"clf\"])\n",
    "        .r2.mul(10000)\n",
    "        .astype(int)\n",
    "        .unstack()\n",
    "        .add_suffix(\"_logvero\"),\n",
    "    ],\n",
    "    axis=1,\n",
    ").sort_index(axis=1)"
   ]
  },
  {
   "cell_type": "code",
   "execution_count": null,
   "metadata": {},
   "outputs": [],
   "source": [
    "grillas[\"fkdc\"][\"bandwidth\"].max(), grillas[\"kdc\"][\"bandwidth\"].max()"
   ]
  },
  {
   "cell_type": "code",
   "execution_count": null,
   "metadata": {},
   "outputs": [],
   "source": [
    "display(run_seed)\n",
    "mnist_ds = Dataset.cargar(datasets_dir / f\"mnist-{run_seed}.pkl\")"
   ]
  },
  {
   "cell_type": "code",
   "execution_count": null,
   "metadata": {},
   "outputs": [],
   "source": [
    "mnist_ds.X.min(), mnist_ds.X.shape"
   ]
  },
  {
   "cell_type": "code",
   "execution_count": null,
   "metadata": {},
   "outputs": [],
   "source": [
    "from sklearn.datasets import fetch_openml\n",
    "from sklearn.decomposition import PCA\n",
    "\n",
    "n_components = 96\n",
    "X, y = fetch_openml(\"mnist_784\", version=1, return_X_y=True, as_frame=False)\n",
    "X.shape, y.shape"
   ]
  },
  {
   "cell_type": "code",
   "execution_count": null,
   "metadata": {},
   "outputs": [],
   "source": [
    "ratio_components = n_components / X.shape[1]"
   ]
  },
  {
   "cell_type": "code",
   "execution_count": null,
   "metadata": {},
   "outputs": [],
   "source": [
    "pca = PCA(n_components).fit(X)"
   ]
  },
  {
   "cell_type": "code",
   "execution_count": null,
   "metadata": {},
   "outputs": [],
   "source": [
    "pca = PCA(ratio_components).fit(X)"
   ]
  },
  {
   "cell_type": "code",
   "execution_count": null,
   "metadata": {},
   "outputs": [],
   "source": [
    "list(infos.keys())[:5]\n",
    "best_params = pd.DataFrame(\n",
    "    [\n",
    "        {\n",
    "            \"seed\": int(main_seed if run_seed == \"None\" else run_seed),\n",
    "            \"clf\": clf,\n",
    "            \"ds\": ds,\n",
    "            \"best_params\": [\n",
    "                {\"param\": key, \"value\": value}\n",
    "                for key, value in info[clf].busqueda.best_params_.items()\n",
    "            ],\n",
    "        }\n",
    "        for (ds, run_seed, clf, main_seed, _), info in infos.items()\n",
    "        if clf.endswith(\"kdc\")\n",
    "    ]\n",
    ").set_index([\"seed\", \"clf\", \"ds\"])"
   ]
  },
  {
   "cell_type": "code",
   "execution_count": null,
   "metadata": {},
   "outputs": [],
   "source": [
    "best_params"
   ]
  },
  {
   "cell_type": "code",
   "execution_count": null,
   "metadata": {},
   "outputs": [],
   "source": [
    "idx = best_params.index\n",
    "data = best_params.explode(\"best_params\")\n",
    "best_params = (\n",
    "    pd.DataFrame.from_records(data.best_params.values, index=data.index)\n",
    "    .pivot(columns=\"param\", values=\"value\")\n",
    "    .unstack(\"clf\")\n",
    "    .reorder_levels(order=[1, 0], axis=1)\n",
    "    .sort_index(axis=1)\n",
    "    .sort_index(level=\"ds\")\n",
    ")"
   ]
  },
  {
   "cell_type": "code",
   "execution_count": null,
   "metadata": {},
   "outputs": [],
   "source": [
    "best_params"
   ]
  },
  {
   "cell_type": "code",
   "execution_count": null,
   "metadata": {},
   "outputs": [],
   "source": [
    "from fkdc.utils import pilot_h\n",
    "from scipy.spatial.distance import pdist"
   ]
  },
  {
   "cell_type": "code",
   "execution_count": null,
   "metadata": {},
   "outputs": [],
   "source": [
    "best_params.xs(\"helices_12\", level=\"ds\")"
   ]
  },
  {
   "cell_type": "code",
   "execution_count": null,
   "metadata": {},
   "outputs": [],
   "source": [
    "nombre = \"helices_12\"\n",
    "clf_metrics = {\"kdc\": \"bandwidth\", \"gnb\": \"var_smoothing\"}\n",
    "scoring = \"neg_log_loss\" if clf != \"svc\" else \"accuracy\"\n",
    "seed = run_seed  # 3031\n",
    "height = 5\n",
    "fig, axs = plt.subplots(1, 2, figsize=(height * len(clf_metrics), height))\n",
    "for (clf, metric), ax in zip(clf_metrics.items(), axs):\n",
    "    info = infos[(nombre, str(seed), clf, str(main_seed), scoring)][clf]\n",
    "    # info = infos[(nombre, str(None), clf, str(seed), scoring)][clf]\n",
    "    busqueda = pd.DataFrame(info.busqueda.cv_results_)\n",
    "    busqueda.set_index(f\"param_{metric}\")[\n",
    "        [\n",
    "            \"mean_test_score\",\n",
    "            \"mean_train_score\",\n",
    "        ]\n",
    "    ].plot(ax=ax)\n",
    "    ax.set_title(f\"{clf} by {metric}\")\n",
    "    ax.axvline(\n",
    "        getattr(info.busqueda.best_estimator_, metric), color=\"gray\", linestyle=\"dotted\"\n",
    "    )\n",
    "    ax.axhline(info.logvero / len(info.preds), color=\"C2\", label=\"mean_eval_score\")\n",
    "    ax.legend()\n",
    "    ax.set_xscale(\"log\")"
   ]
  },
  {
   "cell_type": "code",
   "execution_count": null,
   "metadata": {},
   "outputs": [],
   "source": [
    "clasificadores[\"gnb\"]"
   ]
  },
  {
   "cell_type": "code",
   "execution_count": null,
   "metadata": {},
   "outputs": [],
   "source": [
    "grillas[\"gnb\"]"
   ]
  },
  {
   "cell_type": "code",
   "execution_count": null,
   "metadata": {},
   "outputs": [],
   "source": [
    "from sklearn.naive_bayes import GaussianNB\n",
    "\n",
    "\n",
    "clf = KDClassifier(metric=\"euclidean\")\n",
    "clf = GaussianNB()\n",
    "ds = Dataset.cargar(datasets_dir / f\"helices_0-{run_seed}.pkl\")\n",
    "\n",
    "tarea = Tarea(\n",
    "    ds,\n",
    "    {x: (clf, {\"var_smoothing\": [x]}) for x in np.logspace(-9, 9, 181)},\n",
    "    # {\"gnb\": (clf, {\"var_smoothing\": np.logspace(-9, 9, 181)})},\n",
    "    seed=main_seed,\n",
    "    scoring=\"accuracy\",\n",
    "    # scoring=\"neg_log_loss\",\n",
    "    split_evaluacion=0.5,\n",
    ")\n",
    "tarea.entrenar()\n",
    "tarea.evaluar()\n",
    "tarea_info = tarea.info\n",
    "n_eval = len(tarea.y_eval)\n",
    "new_metrics = pd.DataFrame.from_dict(\n",
    "    {\n",
    "        x: {\n",
    "            \"eval_logvero\": info.logvero,\n",
    "            \"eval_r2\": info.r2,\n",
    "            \"mean_test_score\": info.busqueda.cv_results_[\"mean_test_score\"][0],\n",
    "            \"std_test_score\": info.busqueda.cv_results_[\"std_test_score\"][0],\n",
    "            \"eval_accuracy\": info.accuracy,\n",
    "        }\n",
    "        for x, info in tarea_info.items()\n",
    "        if x != \"base\"\n",
    "    },\n",
    "    orient=\"index\",\n",
    ")\n",
    "new_metrics[\"rank_test_score\"] = (-new_metrics.mean_test_score).rank().astype(int)"
   ]
  },
  {
   "cell_type": "code",
   "execution_count": null,
   "metadata": {},
   "outputs": [],
   "source": [
    "grillas"
   ]
  },
  {
   "cell_type": "code",
   "execution_count": null,
   "metadata": {},
   "outputs": [],
   "source": [
    "from numbers import Number\n",
    "\n",
    "\n",
    "specs_limits = []\n",
    "for clf, hipers in grillas.items():\n",
    "    for hiper, values in hipers.items():\n",
    "        if len(values) <= 2:\n",
    "            continue\n",
    "        first, last = values[0], values[-1]\n",
    "        if isinstance(first, Number):\n",
    "            specs_limits.append((clf, hiper, first, last))\n",
    "specs_limits = pd.DataFrame(\n",
    "    specs_limits, columns=[\"clf\", \"hiper\", \"min\", \"max\"]\n",
    ").set_index([\"clf\", \"hiper\"])"
   ]
  },
  {
   "cell_type": "code",
   "execution_count": null,
   "metadata": {},
   "outputs": [],
   "source": [
    "specs_limits"
   ]
  },
  {
   "cell_type": "code",
   "execution_count": null,
   "metadata": {},
   "outputs": [],
   "source": [
    "limits = []\n",
    "nolimits = 0\n",
    "for (ds, *_), info in infos.items():\n",
    "    for clf in info.keys():\n",
    "        if clf == \"base\":\n",
    "            continue\n",
    "        clf_limits = specs_limits.xs(clf)\n",
    "        best_params = info[clf].busqueda.best_params_\n",
    "        for hiper, value in best_params.items():\n",
    "            if (hiper in clf_limits.index) and (value in clf_limits.xs(hiper).values):\n",
    "                limits.append((clf, ds, hiper, value))\n",
    "            else:\n",
    "                nolimits += 1\n",
    "limits = pd.DataFrame(limits, columns=[\"ds\", \"clf\", \"hiper\", \"value\"])\n",
    "print(nolimits)\n",
    "limits"
   ]
  },
  {
   "cell_type": "code",
   "execution_count": null,
   "metadata": {},
   "outputs": [],
   "source": [
    "np.linspace(1, 4, 13)"
   ]
  },
  {
   "cell_type": "code",
   "execution_count": null,
   "metadata": {},
   "outputs": [],
   "source": [
    "np.logspace(-3, 5, 101)[-15:], np.logspace(-3, 6, 118)[-15:]"
   ]
  },
  {
   "cell_type": "code",
   "execution_count": null,
   "metadata": {},
   "outputs": [],
   "source": [
    "grillas[\"fkdc\"][\"bandwidth\"]"
   ]
  },
  {
   "cell_type": "code",
   "execution_count": null,
   "metadata": {},
   "outputs": [],
   "source": [
    "limits.value_counts().xs(\"fkdc\").unstack((\"hiper\", \"value\"))"
   ]
  },
  {
   "cell_type": "code",
   "execution_count": null,
   "metadata": {},
   "outputs": [],
   "source": [
    "fig, ax1 = plt.subplots(figsize=(12, 5))\n",
    "# new_metrics.eval_logvero.plot(label=\"eval\")\n",
    "new_metrics.mean_test_score.plot(label=\"test\")\n",
    "# new_metrics.mean_test_score.mul(n_eval).plot(label=\"test\")\n",
    "ax1.set_ylabel(\"logvero (solid lines)\")\n",
    "plt.legend()\n",
    "ax2 = ax1.twinx()\n",
    "new_metrics.eval_accuracy.plot(ax=ax2, linestyle=\"dotted\")\n",
    "ax2.set_ylabel(\"accuracy (dotted lines)\")\n",
    "plt.xscale(\"log\")\n",
    "# plt.xlim(None, 10**-2)"
   ]
  },
  {
   "cell_type": "code",
   "execution_count": null,
   "metadata": {},
   "outputs": [],
   "source": [
    "from sklearn.neighbors import KernelDensity"
   ]
  },
  {
   "cell_type": "code",
   "execution_count": null,
   "metadata": {},
   "outputs": [],
   "source": [
    "from fkdc.utils import sample\n",
    "from fkdc.config import n_samples\n",
    "\n",
    "pca = PCA(n_components).fit(X)\n",
    "_X = pca.transform(X)\n",
    "datasets_mnist = {\n",
    "    (\"mnist\", seed): Dataset(*sample(_X, y, n_samples=n_samples, random_state=seed))\n",
    "    for seed in run_seeds\n",
    "}"
   ]
  },
  {
   "cell_type": "markdown",
   "metadata": {},
   "source": [
    "## Tomados de otros notebooks"
   ]
  },
  {
   "cell_type": "markdown",
   "metadata": {},
   "source": [
    "### Sapienza's Swiss Roll\n",
    "> We use the well-known example coined “Swiss roll”, Figure 1(a) and 1(b). We consider a dataset composed of 4 subsets steaming from independent Normal distributions (restricted to the unit square) with mean $\\mu_1 = (.3, .3), \\mu_2 = (.3, .7), \\mu_3 = (.7, .3), \\mu_4 = (.7, .7)$ respectively and constant variance, Figure 1(a). Then, we apply the Swiss Roll transformation, Figure 1(b)."
   ]
  },
  {
   "cell_type": "markdown",
   "metadata": {},
   "source": [
    "## Sandbox Modesto"
   ]
  },
  {
   "cell_type": "markdown",
   "metadata": {},
   "source": [
    "Distancia de Fermat en Clasificadores de Densidad por Núcleos\n",
    "\n",
    "La mayoría de los algoritmos de clasificación asumen que las observaciones yacen sobre un espacio euclídeo: son escasos los métodos que también son válidos cuando el dominio de las variables aleatorias es una variedad arbitraria. En este ámbito, Loubes & Pelletier [1] proponen un clasificador basado en estimación de densidad por núcleos (\"KDC\") útil en variedades de Riemann conocidas.\n",
    "\n",
    "Más aún, no siempre es conocida la variedad en que yacen los datos: una imagen de 1 megapíxel tiene 1.000.000 de píxeles, pero típicamente representa un objeto (un dígito, una letra, un animal) que - hipotetizamos - podríamos describir con (muchas) menos dimensiones. En estos contextos, se pueden aprender _distancias basadas en densidad_ (DBDs) que permiten estimar la variedad intrínseca de las observaciones a partir de la misma muestra, como la Distancia (muestral) de Fermat,  investigada por Groisman et al. [2]\n",
    "\n",
    "En este trabajo, nos proponemos (1) programar el clasificador KDC, (2) extenderlo para utilizar la distancia muestral de Fermat (\"F-KDC\"), y (3) analizar comparativamente su _performance_ en distintas tareas de clasificación.\n",
    "\n",
    "[1] J.-M. Loubes y B. Pelletier, «A Kernel-Based Classifier on a Riemannian Manifold», Statistics &\n",
    "Decisions, vol. 26, n.º 1, pp. 35-51, mar. 2008, doi: 10.1524/stnd.2008.0911.\n",
    "[2] P. Groisman, M. Jonckheere, y F. Sapienza, «Nonhomogeneous Euclidean First-Passage Percola-\n",
    "tion and Distance Learning», n.º arXiv:1810.09398. arXiv, diciembre de 2019."
   ]
  },
  {
   "cell_type": "code",
   "execution_count": null,
   "metadata": {},
   "outputs": [],
   "source": [
    "import numpy as np\n",
    "import scipy as sp\n",
    "from math import pi"
   ]
  },
  {
   "cell_type": "code",
   "execution_count": null,
   "metadata": {},
   "outputs": [],
   "source": [
    "xs = np.arange(-6, 6, 0.01)\n",
    "\n",
    "\n",
    "def phi(x):\n",
    "    return (2 * pi) ** (-1 / 2) * np.exp(-1 / 2 * x**2)\n",
    "\n",
    "\n",
    "def ind(x, lb=-1 / 2, ub=1 / 2):\n",
    "    return np.where((x >= lb) & (x < ub), 1 / (ub - lb), 0)"
   ]
  },
  {
   "cell_type": "code",
   "execution_count": null,
   "metadata": {},
   "outputs": [],
   "source": [
    "from matplotlib import pyplot as plt\n",
    "\n",
    "\n",
    "plt.plot(xs, phi(xs))\n",
    "plt.plot(xs, ind(xs, -1.2, 1.2))"
   ]
  },
  {
   "cell_type": "code",
   "execution_count": null,
   "metadata": {},
   "outputs": [],
   "source": [
    "xs = np.sort(sp.stats.norm().rvs(200)).reshape(-1, 1)"
   ]
  },
  {
   "cell_type": "code",
   "execution_count": null,
   "metadata": {},
   "outputs": [],
   "source": [
    "from sklearn.neighbors import KernelDensity\n",
    "import numpy as np\n",
    "for bw in [0.03, 0.1, 0.3, 1]:\n",
    "    kde = KernelDensity(kernel='gaussian', bandwidth=bw).fit(xs)\n",
    "    grid = np.arange(-5, 5, 0.01).reshape(-1,1)\n",
    "    dens = np.exp(kde.score_samples(grid))\n",
    "    plt.plot(grid, dens, label=f\"h = {bw}\")\n",
    "plt.legend()\n",
    "plt.show()"
   ]
  },
  {
   "cell_type": "code",
   "execution_count": null,
   "metadata": {},
   "outputs": [],
   "source": [
    "sp.stats.norm().pdf(grid).max()"
   ]
  },
  {
   "cell_type": "code",
   "execution_count": null,
   "metadata": {},
   "outputs": [],
   "source": [
    "from sklearn.neighbors import KernelDensity\n",
    "import numpy as np\n",
    "\n",
    "grid = np.arange(-5, 5, 0.01).reshape(-1, 1)\n",
    "fig, axs = plt.subplots(1, 2, figsize=(16, 6))\n",
    "for kernel, ax in zip([\"gaussian\", \"tophat\"], axs):\n",
    "    ax.plot(\n",
    "        grid, sp.stats.norm().pdf(grid), alpha=0.5, color=\"gray\", linestyle=\"dashed\"\n",
    "    )\n",
    "    for bw in [0.1, 0.3, 1, 3]:\n",
    "        kde = KernelDensity(kernel=kernel, bandwidth=bw).fit(xs)\n",
    "        dens = np.exp(kde.score_samples(grid))\n",
    "        ax.plot(grid, dens, label=f\"h = {bw}\", alpha=0.5)\n",
    "        ax.set_title(f\"Kernel = {kernel}\")\n",
    "        ax.legend()\n",
    "plt.show()"
   ]
  },
  {
   "cell_type": "code",
   "execution_count": null,
   "metadata": {},
   "outputs": [],
   "source": [
    "import numpy as np\n",
    "import pandas as pd\n",
    "\n",
    "hs = np.array([0.1, 0.5, 0.9, 0.98])\n",
    "ds = np.array([1, 2, 5, 10, 20, 25])\n",
    "df = pd.DataFrame([(h, d, h**d) for h in hs for d in ds], columns=[\"h\", \"d\", \"h**d\"])"
   ]
  },
  {
   "cell_type": "code",
   "execution_count": null,
   "metadata": {},
   "outputs": [],
   "source": [
    "df.pivot(index=\"h\", columns=\"d\", values=\"h**d\")"
   ]
  },
  {
   "cell_type": "code",
   "execution_count": null,
   "metadata": {},
   "outputs": [],
   "source": [
    "from scipy import stats\n",
    "lb, ub = -1, 1\n",
    "span = ub - lb\n",
    "N = 100_000\n",
    "d = 3\n",
    "X = stats.uniform(lb, span).rvs((N, d))"
   ]
  },
  {
   "cell_type": "code",
   "execution_count": null,
   "metadata": {},
   "outputs": [],
   "source": [
    "def fhat_0(X, h):\n",
    "    N, d = X.shape\n",
    "    return sum(np.apply_along_axis(all, 1, (np.abs(X) < h)))/ (N * (2 * h) ** d)"
   ]
  },
  {
   "cell_type": "code",
   "execution_count": null,
   "metadata": {},
   "outputs": [],
   "source": [
    "expected_fhat_0_1k = pd.Series({h: fhat_0(X, h) for h in np.linspace(0.01, 1, 201)})"
   ]
  },
  {
   "cell_type": "code",
   "execution_count": null,
   "metadata": {},
   "outputs": [],
   "source": [
    "expected_fhat_0.plot()\n",
    "expected_fhat_0_10k.plot()\n",
    "expected_fhat_0_1k.plot()"
   ]
  },
  {
   "cell_type": "code",
   "execution_count": null,
   "metadata": {},
   "outputs": [],
   "source": [
    "fhat_0(X, 0.3)"
   ]
  },
  {
   "cell_type": "code",
   "execution_count": null,
   "metadata": {},
   "outputs": [],
   "source": [
    "X[np.apply_along_axis(all, 1, (np.abs(X) < h))]"
   ]
  },
  {
   "cell_type": "code",
   "execution_count": null,
   "metadata": {},
   "outputs": [],
   "source": [
    "from sklearn.neighbors import KernelDensity\n",
    "\n",
    "h=0.88\n",
    "\n",
    "sk_fhat = KernelDensity(kernel=\"tophat\", bandwidth=h).fit(X)\n",
    "np.exp(sk_fhat.score([np.zeros_like(X[0,:])])), fhat_0(X, h)"
   ]
  },
  {
   "cell_type": "code",
   "execution_count": null,
   "metadata": {},
   "outputs": [],
   "source": [
    "import numpy as np\n",
    "import pandas as pd\n",
    "\n",
    "# hs = np.array([0.1, 0.5, 0.9, 0.98])\n",
    "hs = [0.25, 0.5, 0.9, 0.95]\n",
    "ds = np.array([1, 2, 5, 10, 20, 25])\n",
    "ds = np.arange(1, 51, 1)\n",
    "df = pd.DataFrame([(h, d, h**d) for h in hs for d in ds], columns=[\"h\", \"d\", \"h**d\"])"
   ]
  },
  {
   "cell_type": "code",
   "execution_count": null,
   "metadata": {},
   "outputs": [],
   "source": [
    "from matplotlib import pyplot as plt\n",
    "\n",
    "data = df.set_index([\"d\", \"h\"]).unstack()[\"h**d\"]\n",
    "data.plot(figsize=(12, 4))\n",
    "plt.title(\"Proporción de las X dentro de un $d$-cubo de lado $h$\")\n",
    "# plt.xscale(\"log\")"
   ]
  },
  {
   "cell_type": "code",
   "execution_count": null,
   "metadata": {},
   "outputs": [],
   "source": [
    ".95**50"
   ]
  },
  {
   "cell_type": "markdown",
   "metadata": {},
   "source": [
    "# p-wspm's"
   ]
  },
  {
   "cell_type": "code",
   "execution_count": null,
   "metadata": {},
   "outputs": [],
   "source": [
    "import matplotlib.pyplot as plt\n",
    "import numpy as np\n",
    "\n",
    "p = np.arange(1, 100)\n",
    "y = np.power(2, (p+1)/p)\n",
    "plt.plot(y)"
   ]
  },
  {
   "cell_type": "markdown",
   "metadata": {},
   "source": []
  }
 ],
 "metadata": {
  "kernelspec": {
   "display_name": "fkdc-MIQQORBE-py3.12",
   "language": "python",
   "name": "python3"
  },
  "language_info": {
   "codemirror_mode": {
    "name": "ipython",
    "version": 3
   },
   "file_extension": ".py",
   "mimetype": "text/x-python",
   "name": "python",
   "nbconvert_exporter": "python",
   "pygments_lexer": "ipython3",
   "version": "3.12.11"
  }
 },
 "nbformat": 4,
 "nbformat_minor": 2
}
