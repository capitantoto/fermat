{
 "cells": [
  {
   "cell_type": "markdown",
   "metadata": {},
   "source": [
    "### Tablas y Figuras"
   ]
  },
  {
   "cell_type": "code",
   "execution_count": null,
   "metadata": {},
   "outputs": [],
   "source": [
    "%load_ext autoreload\n",
    "%autoreload 2"
   ]
  },
  {
   "cell_type": "code",
   "execution_count": null,
   "metadata": {},
   "outputs": [],
   "source": [
    "import os\n",
    "import pickle\n",
    "\n",
    "import matplotlib.pyplot as plt\n",
    "import numpy as np\n",
    "import pandas as pd\n",
    "import seaborn as sns\n",
    "from sklearn.datasets import make_blobs\n",
    "\n",
    "from fkdc.config import _get_run_seeds, clasificadores, grillas, main_seed\n",
    "from fkdc.datasets import Dataset\n",
    "from fkdc.tarea import Tarea\n",
    "from fkdc.utils import refit_parsimoniously\n",
    "\n",
    "from pathlib import Path\n",
    "\n",
    "# Los experimentos del 29.10.2024 corrieron con main_seed = 2024\n",
    "# Los experimentos del 19.05.2025 corrieron con main_seed = 2206\n",
    "# Los experimentos del 23/05.2025 corrieron con main_seed = 2411\n",
    "main_seed = 2411\n",
    "run_seeds = _get_run_seeds()\n",
    "\n",
    "root_dir = Path(\"/Users/gonzalo/Git/fkdc/sandbox/v2\")\n",
    "# root_dir = Path(\"/Users/gonzalo/Git/fkdc/\")\n",
    "data_dir = root_dir / \"data\"\n",
    "img_dir = root_dir / \"img\"\n",
    "for directory in [data_dir, img_dir]:\n",
    "    directory.mkdir(exist_ok=True)\n",
    "run_dir = root_dir / \"infos\"\n",
    "datasets_dir = root_dir / \"datasets\""
   ]
  },
  {
   "cell_type": "code",
   "execution_count": null,
   "metadata": {},
   "outputs": [],
   "source": [
    "seed = main_seed\n",
    "blobs = Dataset.de_fabrica(\n",
    "    make_blobs,\n",
    "    n_samples=(400, 400),\n",
    "    n_features=2,\n",
    "    centers=((0, 0), (10, 0)),\n",
    "    random_state=seed,\n",
    ")\n",
    "blobs.guardar(datasets_dir / f\"2blobs-{seed}-dataset.pkl\")\n",
    "blobs.scatter()\n",
    "# IMG 1: 2  blbos"
   ]
  },
  {
   "cell_type": "code",
   "execution_count": null,
   "metadata": {},
   "outputs": [],
   "source": [
    "run_2blobs = data_dir / f\"2blobs-{seed}-info.pkl\"\n",
    "force = False\n",
    "if run_2blobs.exists() and not force:\n",
    "    info = pickle.load(open(run_2blobs, \"rb\"))\n",
    "else:\n",
    "    tareas = {}\n",
    "    for predicts_proba in [True, False]:\n",
    "        tarea = tareas[predicts_proba] = Tarea(\n",
    "            blobs,\n",
    "            {\n",
    "                nombre: (clf, grillas[nombre])\n",
    "                for nombre, clf in clasificadores.items()\n",
    "                if hasattr(clf, \"predict_proba\") is predicts_proba\n",
    "            },\n",
    "            seed=seed,\n",
    "            scoring=\"neg_log_loss\" if predicts_proba else \"accuracy\",\n",
    "            busqueda_params=dict(\n",
    "                # Importante en scoring = 'accuracy' por empates\n",
    "                refit=refit_parsimoniously,\n",
    "                return_train_score=True,\n",
    "                cv=5,\n",
    "                n_jobs=-1,\n",
    "            ),\n",
    "        )\n",
    "        tarea.entrenar()\n",
    "        tarea.evaluar()\n",
    "    info = {**tareas[True].info, **tareas[False].info}\n",
    "    pickle.dump(info, open(run_2blobs, \"wb\"))"
   ]
  },
  {
   "cell_type": "code",
   "execution_count": null,
   "metadata": {},
   "outputs": [],
   "source": [
    "pd.DataFrame(info).T[[\"logvero\", \"r2\", \"accuracy\"]].astype(float).round(4)\n",
    "# TBL 1: 2blobs - r2 & acc"
   ]
  },
  {
   "cell_type": "code",
   "execution_count": null,
   "metadata": {},
   "outputs": [],
   "source": [
    "# campos = {\"logvero\": \"$cal(l)$\", \"r2\": \"$R^2$\", \"accuracy\": \"exac\"}\n",
    "# tabla = pd.DataFrame(info).T[campos.keys()].rename(columns=campos).astype(float)\n",
    "# tabla.index = \"#\" + tabla.index\n",
    "# tabla = pd.DataFrame(info)\n",
    "# tabla.round(4)"
   ]
  },
  {
   "cell_type": "code",
   "execution_count": null,
   "metadata": {},
   "outputs": [],
   "source": [
    "import pickle\n",
    "\n",
    "fig, axs = plt.subplots(1, 3, figsize=(15, 5))\n",
    "seed = run_seeds[0]\n",
    "datasets_2d = [\"lunas\", \"espirales\", \"circulos\"]\n",
    "for nombre, ax in zip(datasets_2d, axs):\n",
    "    ds = pickle.load(open(datasets_dir / f\"{nombre}_lo-{seed}.pkl\", \"rb\"))\n",
    "    ds.scatter(ax=ax)\n",
    "    ax.set_title(nombre)\n",
    "plt.tight_layout()\n",
    "fig.savefig(img_dir / \"datasets-lunas-circulos-espirales.svg\")\n",
    "# IMG 2: datasets 2d, low noise"
   ]
  },
  {
   "cell_type": "code",
   "execution_count": null,
   "metadata": {},
   "outputs": [],
   "source": [
    "def load_infos(dir=run_dir):\n",
    "    return {\n",
    "        tuple(fn.stem.split(\"-\")): pickle.load(open(fn, \"rb\"))\n",
    "        for fn in Path(dir).glob(\"*.pkl\")\n",
    "    }\n",
    "\n",
    "\n",
    "infos = load_infos()"
   ]
  },
  {
   "cell_type": "code",
   "execution_count": null,
   "metadata": {},
   "outputs": [],
   "source": [
    "# def pluck(D, filter):\n",
    "#     if callable(filter):\n",
    "#         return {k: v for k, v in D.items() if filter(k)}\n",
    "#     elif isinstance(filter, (list, tuple)):\n",
    "#         return {k: v for k, v in D.items() if k in filter}"
   ]
  },
  {
   "cell_type": "code",
   "execution_count": null,
   "metadata": {},
   "outputs": [],
   "source": [
    "import numpy as np\n",
    "\n",
    "\n",
    "basic_fields = [\"accuracy\", \"r2\", \"logvero\"]\n",
    "basic_infos = {}\n",
    "for k, v in infos.items():\n",
    "    clf = k[2]\n",
    "    basic_infos[k] = {k: v for k, v in v[clf].items() if k in basic_fields}\n",
    "    if clf == \"fkdc\":\n",
    "        basic_infos[(k[0], k[1], \"base\", k[3], k[4])] = {\n",
    "            k: v for k, v in v[\"base\"].items() if k in basic_fields\n",
    "        }\n",
    "\n",
    "basic_info = pd.DataFrame.from_records(\n",
    "    list(basic_infos.values()),\n",
    "    index=pd.MultiIndex.from_tuples(\n",
    "        basic_infos.keys(), names=[\"dataset\", \"ds_seed\", \"clf\", \"run_seed\", \"score\"]\n",
    "    ),\n",
    ").reset_index()\n",
    "assert all((basic_info.ds_seed == \"None\") | (basic_info.run_seed == str(main_seed)))\n",
    "basic_info[\"semilla\"] = np.where(\n",
    "    basic_info.ds_seed == \"None\", basic_info.run_seed, basic_info.ds_seed\n",
    ").astype(int)\n",
    "bi = basic_info = basic_info.drop(columns=[\"ds_seed\", \"run_seed\"])\n",
    "basic_info.info()"
   ]
  },
  {
   "cell_type": "markdown",
   "metadata": {},
   "source": [
    "### 2D, low noise"
   ]
  },
  {
   "cell_type": "code",
   "execution_count": null,
   "metadata": {},
   "outputs": [],
   "source": [
    "datasets = [ds for ds in bi.dataset.unique() if ds.endswith(\"_lo\")]"
   ]
  },
  {
   "cell_type": "code",
   "execution_count": null,
   "metadata": {},
   "outputs": [],
   "source": [
    "colors = dict(zip(bi.clf.unique(), sns.color_palette(\"Set3\")))\n",
    "# exclude_clfs = [\"base\", \"gnb\", \"lr\", \"]\n",
    "# exclude_clfs = []\n",
    "exclude_clfs = [\"base\"]"
   ]
  },
  {
   "cell_type": "code",
   "execution_count": null,
   "metadata": {},
   "outputs": [],
   "source": [
    "bi[bi.dataset.isin(datasets)].groupby([\"clf\", \"dataset\"])[\n",
    "    [\"r2\", \"accuracy\"]\n",
    "].mean().unstack().reorder_levels([1, 0], axis=1).sort_index(axis=1).mul(100).round(2)\n",
    "# TBL 2: datsets 2d low noise"
   ]
  },
  {
   "cell_type": "code",
   "execution_count": null,
   "metadata": {},
   "outputs": [],
   "source": [
    "fig, axs = plt.subplots(1, 3, figsize=(12, 4))\n",
    "for idx, dataset in enumerate(datasets):\n",
    "    ax = axs[idx]\n",
    "    data = bi[bi.dataset.eq(dataset) & ~bi.clf.isin(exclude_clfs)].sort_values(\"clf\")\n",
    "    sns.boxplot(data, hue=\"clf\", y=\"r2\", gap=0.2, ax=ax, palette=colors)\n",
    "    ax.set_title(dataset)\n",
    "    ax.axhline(data.groupby(\"clf\").r2.median().max(), linestyle=\"dotted\", color=\"gray\")\n",
    "    # ybot = np.percentile(data.r2.dropna(), 35)\n",
    "    # ax.set_ylim(ybot, None)\n",
    "    if idx != 0:\n",
    "        ax.get_legend().set_visible(False)\n",
    "fig.tight_layout()\n",
    "fig.savefig(img_dir / \"boxplot-lunas-espirales-circulos-new.svg\")\n",
    "# IMG 2: Detalle R2 boxplot"
   ]
  },
  {
   "cell_type": "code",
   "execution_count": null,
   "metadata": {},
   "outputs": [],
   "source": [
    "clave_fkdc = (\"circulos_lo\", str(run_seeds[6]), \"fkdc\", str(main_seed), \"neg_log_loss\")\n",
    "clave_kdc = (\"circulos_lo\", str(run_seeds[6]), \"kdc\", str(main_seed), \"neg_log_loss\")"
   ]
  },
  {
   "cell_type": "code",
   "execution_count": null,
   "metadata": {},
   "outputs": [],
   "source": [
    "infos[clave_fkdc].fkdc.busqueda.best_params_"
   ]
  },
  {
   "cell_type": "code",
   "execution_count": null,
   "metadata": {},
   "outputs": [],
   "source": [
    "infos[clave_kdc].kdc.busqueda.best_params_"
   ]
  },
  {
   "cell_type": "code",
   "execution_count": null,
   "metadata": {},
   "outputs": [],
   "source": [
    "# import json\n",
    "# import numpy as np\n",
    "\n",
    "\n",
    "# class NumpyEncoder(json.JSONEncoder):\n",
    "#     \"\"\"Special json encoder for numpy types\"\"\"\n",
    "\n",
    "#     def default(self, obj):\n",
    "#         if isinstance(obj, np.integer):\n",
    "#             return int(obj)\n",
    "#         elif isinstance(obj, np.floating):\n",
    "#             return float(obj)\n",
    "#         elif isinstance(obj, np.ndarray):\n",
    "#             return obj.tolist()\n",
    "#         return json.JSONEncoder.default(self, obj)"
   ]
  },
  {
   "cell_type": "code",
   "execution_count": null,
   "metadata": {},
   "outputs": [],
   "source": [
    "(infos[clave_fkdc].fkdc.r2, infos[clave_kdc].kdc.r2)"
   ]
  },
  {
   "cell_type": "code",
   "execution_count": null,
   "metadata": {},
   "outputs": [],
   "source": [
    "busqueda = pd.DataFrame(infos[clave_fkdc][\"fkdc\"].busqueda.cv_results_)\n",
    "data = busqueda.set_index([\"param_alpha\", \"param_bandwidth\"]).mean_test_score.unstack()\n",
    "X = data.columns.values\n",
    "Y = data.index.values\n",
    "Z = data.values\n",
    "\n",
    "fig, ax = plt.subplots(layout=\"constrained\")\n",
    "zmin, zmax = Z.min(), Z.max()\n",
    "CS = ax.contourf(X, Y, Z, 15, cmap=\"viridis\")\n",
    "# CS = ax.contour(X, Y, Z, 15, cmap=\"viridis\")\n",
    "ax.set_title(\"Exactitud para $\\\\alpha$ y $h$\")\n",
    "ax.set_xlabel(\"$h$\")\n",
    "ax.set_ylabel(\"$\\\\alpha$\")\n",
    "ax.scatter(X[Z.argmax(axis=1)], Y, marker=\"x\", color=\"red\")\n",
    "# Make a colorbar for the ContourSet returned by the contourf call.\n",
    "cbar = fig.colorbar(CS)\n",
    "cbar.ax.set_ylabel(\"Exactitud\")\n",
    "ax.set_xscale(\"log\")\n",
    "# plt.tight_layout()\n",
    "fig.savefig(img_dir / \"heatmap-fkdc-2d-lo-new.svg\")"
   ]
  },
  {
   "cell_type": "code",
   "execution_count": null,
   "metadata": {},
   "outputs": [],
   "source": [
    "# probably throw this away?\n",
    "sns.lineplot(busqueda, y=\"mean_test_score\", x=\"param_bandwidth\", hue=\"param_alpha\")\n",
    "plt.xscale(\"log\")"
   ]
  },
  {
   "cell_type": "code",
   "execution_count": null,
   "metadata": {},
   "outputs": [],
   "source": [
    "from itertools import product\n",
    "\n",
    "some_seeds = np.random.choice(run_seeds, 3)\n",
    "# some_seeds = [5167, 7446, 9083]  # well behaved\n",
    "# some_seeds = [1134, 7815, 9616]  # weird\n",
    "some_seeds = [1134, 7815, 9083]  # mix\n",
    "fig, axs = plt.subplots(3, 3, figsize=(35, 30), layout=\"constrained\")\n",
    "for (ds, seed), ax in zip(product(datasets_2d, some_seeds), axs.flatten()):\n",
    "    key = (ds + \"_lo\", str(seed), \"fkdc\", str(main_seed), \"neg_log_loss\")\n",
    "    df = pd.DataFrame(infos[key][\"fkdc\"].busqueda.cv_results_)\n",
    "    data = df.pivot(\n",
    "        index=\"param_alpha\", columns=\"param_bandwidth\", values=\"mean_test_score\"\n",
    "    )\n",
    "    X = data.columns.values\n",
    "    Y = data.index.values\n",
    "    Z = data.values\n",
    "    zmin, zmax = Z.min(), Z.max()\n",
    "    CS = ax.contourf(X, Y, Z, 25, cmap=\"viridis\")\n",
    "    ax.set_title(f\"Exactitud para {key}\")\n",
    "    ax.set_xlabel(\"$h$\")\n",
    "    ax.set_ylabel(\"$\\\\alpha$\")\n",
    "    ax.scatter(X[Z.argmax(axis=1)], Y, marker=\"x\", color=\"red\")\n",
    "    # Make a colorbar for the ContourSet returned by the contourf call.\n",
    "    cbar = fig.colorbar(CS)\n",
    "    # cbar.ax.set_ylabel(\"Exactitud\")\n",
    "    ax.set_xscale(\"log\")\n",
    "    # plt.tight_layout()\n",
    "fig.savefig(img_dir / \"many-heatmaps-fkdc-2d-lo-new.svg\")"
   ]
  },
  {
   "cell_type": "code",
   "execution_count": null,
   "metadata": {},
   "outputs": [],
   "source": [
    "# Detalle en espirales_lo, perfiles pérdida\n",
    "run_seed = 7815\n",
    "alpha = 1.5625\n",
    "clave = (\"espirales_lo\", str(run_seed), \"fkdc\", str(main_seed), \"neg_log_loss\")\n",
    "orig_info = infos[clave]\n",
    "busqueda = pd.DataFrame(orig_info.fkdc.busqueda.cv_results_)"
   ]
  },
  {
   "cell_type": "code",
   "execution_count": null,
   "metadata": {},
   "outputs": [],
   "source": [
    "orig_mean_test_scores = (\n",
    "    busqueda[busqueda.param_alpha == alpha].set_index(\"param_bandwidth\").mean_test_score\n",
    ")  # / len(info.fkdc.preds)\n",
    "orig_mean_test_scores.plot()\n",
    "plt.scatter(orig_mean_test_scores.index, orig_mean_test_scores)\n",
    "plt.xscale(\"log\")"
   ]
  },
  {
   "cell_type": "code",
   "execution_count": null,
   "metadata": {},
   "outputs": [],
   "source": [
    "espirales_lo = Dataset.cargar(datasets_dir / f\"espirales_lo-{run_seed}.pkl\")\n",
    "espirales_lo.scatter()"
   ]
  },
  {
   "cell_type": "code",
   "execution_count": null,
   "metadata": {},
   "outputs": [],
   "source": [
    "from fkdc.fermat import KDClassifier\n",
    "\n",
    "\n",
    "clf = KDClassifier(metric=\"fermat\", alpha=1.5625)"
   ]
  },
  {
   "cell_type": "code",
   "execution_count": null,
   "metadata": {},
   "outputs": [],
   "source": [
    "tarea = Tarea(\n",
    "    espirales_lo,\n",
    "    {\n",
    "        bandwidth: (clf, {\"bandwidth\": [bandwidth]})\n",
    "        for bandwidth in orig_mean_test_scores.index\n",
    "    },\n",
    "    seed=main_seed,\n",
    "    scoring=\"neg_log_loss\",\n",
    "    busqueda_params=dict(\n",
    "        refit=True,\n",
    "        return_train_score=True,\n",
    "        cv=5,\n",
    "        n_jobs=-1,\n",
    "    ),\n",
    "    split_evaluacion=0.5,\n",
    ")\n",
    "tarea.entrenar()\n",
    "tarea.evaluar()\n",
    "new_info = tarea.info"
   ]
  },
  {
   "cell_type": "code",
   "execution_count": null,
   "metadata": {},
   "outputs": [],
   "source": [
    "n_eval = len(new_info[0.001].preds)\n",
    "new_metrics = pd.DataFrame.from_dict(\n",
    "    {\n",
    "        bw: {\n",
    "            \"eval_logvero\": info.logvero,\n",
    "            \"eval_r2\": info.r2,\n",
    "            \"mean_test_score\": info.busqueda.cv_results_[\"mean_test_score\"][0],\n",
    "            \"std_test_score\": info.busqueda.cv_results_[\"std_test_score\"][0],\n",
    "            \"eval_accuracy\": info.accuracy,\n",
    "        }\n",
    "        for bw, info in new_info.items()\n",
    "        if bw != \"base\"\n",
    "    },\n",
    "    orient=\"index\",\n",
    ")\n",
    "new_metrics[\"rank_test_score\"] = (-new_metrics.mean_test_score).rank().astype(int)\n",
    "assert orig_mean_test_scores.equals(new_metrics.mean_test_score)\n",
    "fig, ax1 = plt.subplots(figsize=(12, 5))\n",
    "new_metrics.eval_logvero.plot(label=\"eval\")\n",
    "new_metrics.mean_test_score.mul(n_eval).plot(label=\"test\")\n",
    "ax1.set_ylabel(\"logvero (solid lines)\")\n",
    "plt.legend()\n",
    "ax2 = ax1.twinx()\n",
    "new_metrics.eval_accuracy.plot(ax=ax2, linestyle=\"dotted\")\n",
    "ax2.set_ylabel(\"accuracy (dotted lines)\")\n",
    "plt.xscale(\"log\")"
   ]
  },
  {
   "cell_type": "code",
   "execution_count": null,
   "metadata": {},
   "outputs": [],
   "source": [
    "max_score, sd = busqueda[busqueda.rank_test_score.eq(1)][\n",
    "    [\"mean_test_score\", \"std_test_score\"]\n",
    "].min()\n",
    "busqueda[busqueda.mean_test_score.ge(max_score - sd)].sort_values(\n",
    "    [\"param_alpha\", \"param_bandwidth\"], ascending=[True, False]\n",
    ")[\n",
    "    [\n",
    "        \"rank_test_score\",\n",
    "        \"param_alpha\",\n",
    "        \"param_bandwidth\",\n",
    "        \"mean_test_score\",\n",
    "        \"std_test_score\",\n",
    "        \"mean_train_score\",\n",
    "    ]\n",
    "]"
   ]
  },
  {
   "cell_type": "code",
   "execution_count": null,
   "metadata": {},
   "outputs": [],
   "source": [
    "new_max_score, new_sd = new_metrics[new_metrics.rank_test_score.eq(1)][\n",
    "    [\"mean_test_score\", \"std_test_score\"]\n",
    "].min()\n",
    "new_metrics[new_metrics.mean_test_score.ge(new_max_score - new_sd)].sort_index(\n",
    "    ascending=False\n",
    ")"
   ]
  },
  {
   "cell_type": "markdown",
   "metadata": {},
   "source": [
    "### 2D, high noise"
   ]
  },
  {
   "cell_type": "code",
   "execution_count": null,
   "metadata": {},
   "outputs": [],
   "source": [
    "import pickle\n",
    "\n",
    "fig, axs = plt.subplots(1, 3, figsize=(15, 5))\n",
    "seed = run_seeds[0]\n",
    "datasets_2d = [\"lunas\", \"espirales\", \"circulos\"]\n",
    "for nombre, ax in zip(datasets_2d, axs):\n",
    "    ds = pickle.load(open(datasets_dir / f\"{nombre}_hi-{seed}.pkl\", \"rb\"))\n",
    "    ds.scatter(ax=ax)\n",
    "    ax.set_title(nombre)\n",
    "plt.tight_layout()\n",
    "fig.savefig(img_dir / \"datasets-lunas-circulos-espirales-hi-new.svg\")"
   ]
  },
  {
   "cell_type": "code",
   "execution_count": null,
   "metadata": {},
   "outputs": [],
   "source": [
    "datasets = [ds for ds in bi.dataset.unique() if ds.endswith(\"_hi\")]"
   ]
  },
  {
   "cell_type": "code",
   "execution_count": null,
   "metadata": {},
   "outputs": [],
   "source": [
    "(\n",
    "    bi[bi.dataset.isin(datasets)]\n",
    "    .groupby([\"clf\", \"dataset\"])[[\"r2\", \"accuracy\"]]\n",
    "    .mean()\n",
    "    .unstack()\n",
    "    .reorder_levels([1, 0], axis=1)\n",
    "    .sort_index(axis=1)\n",
    "    .sort_values((\"circulos_hi\", \"accuracy\"), ascending=False)\n",
    "    .mul(100)\n",
    "    .round(2)\n",
    ")\n",
    "# TBL 2: datsets 2d low noise"
   ]
  },
  {
   "cell_type": "markdown",
   "metadata": {},
   "source": [
    "- R^2 consistentemente el mejor para (f)KDC, pero sin diferencias entre fermat y euclideo, pero muy jodido en gral\n",
    "- accuracy no mucho peor que SVC (que sigue siendo el rey)\n",
    "  - en lunas_hi gana FKDC!\n",
    "  - en circulos_hi, lunas_hi GBT competitivo"
   ]
  },
  {
   "cell_type": "code",
   "execution_count": null,
   "metadata": {},
   "outputs": [],
   "source": [
    "fig, axs = plt.subplots(1, 3, figsize=(12, 4))\n",
    "metric = \"r2\"\n",
    "for idx, dataset in enumerate(datasets):\n",
    "    ax = axs[idx]\n",
    "    data = bi[\n",
    "        bi.dataset.eq(dataset) & ~bi.clf.isin(exclude_clfs) & bi[metric].notna()\n",
    "    ].sort_values(\"clf\")\n",
    "    sns.boxplot(data, hue=\"clf\", y=metric, gap=0.2, ax=ax, palette=colors)\n",
    "    ax.set_title(dataset)\n",
    "    ax.axhline(\n",
    "        data.groupby(\"clf\")[metric].median().max(), linestyle=\"dotted\", color=\"gray\"\n",
    "    )\n",
    "    ybot, ytop = np.percentile(data[metric].dropna(), [25, 100])\n",
    "    ax.set_ylim(ybot * 0.99, ytop * 1.01)\n",
    "    if idx != 0:\n",
    "        ax.get_legend().set_visible(False)\n",
    "fig.tight_layout()\n",
    "fig.savefig(img_dir / \"boxplot-lunas-espirales-circulos-new.svg\")\n",
    "# IMG 2: Detalle metric boxplot"
   ]
  },
  {
   "cell_type": "code",
   "execution_count": null,
   "metadata": {},
   "outputs": [],
   "source": [
    "bi2d = bi[bi.dataset.str.endswith((\"_lo\", \"_hi\"))].copy()\n",
    "bi2d[[\"figura\", \"ruido\"]] = bi2d.dataset.str.split(\"_\", expand=True)"
   ]
  },
  {
   "cell_type": "code",
   "execution_count": null,
   "metadata": {},
   "outputs": [],
   "source": [
    "metric = \"accuracy\"\n",
    "drops = (\n",
    "    bi2d.groupby([\"figura\", \"ruido\", \"clf\"])[[\"r2\", \"accuracy\"]]\n",
    "    .mean()[metric]\n",
    "    .unstack(\"ruido\")\n",
    "    .assign(rel_drop=lambda df: (df.hi - df.lo).div(df.lo))\n",
    ")\n",
    "drops.rel_drop.unstack(\"figura\").dropna().mul(100).round(2)"
   ]
  },
  {
   "cell_type": "code",
   "execution_count": null,
   "metadata": {},
   "outputs": [],
   "source": [
    "for figura in bi2d.figura.unique():\n",
    "    (\n",
    "        drops.xs(figura)\n",
    "        .drop(columns=\"rel_drop\")[[\"lo\", \"hi\"]]\n",
    "        .sort_values(\"hi\", ascending=False)\n",
    "        .plot(kind=\"bar\")\n",
    "    )\n",
    "    plt.title(f\"Caída absoluta de {metric} en {figura}\")"
   ]
  },
  {
   "cell_type": "markdown",
   "metadata": {},
   "source": [
    "- Los órdenes se mantienen: quien andaba mejor en lo, anda mejor en hi, +- un cachito, pero los que _mejor_ andaban, más pierden"
   ]
  },
  {
   "cell_type": "markdown",
   "metadata": {},
   "source": [
    "### 3d, low dim"
   ]
  },
  {
   "cell_type": "code",
   "execution_count": null,
   "metadata": {},
   "outputs": [],
   "source": [
    "run_seeds[0]"
   ]
  },
  {
   "cell_type": "code",
   "execution_count": null,
   "metadata": {},
   "outputs": [],
   "source": [
    "import pickle\n",
    "\n",
    "fig = plt.figure(figsize=(10, 10))\n",
    "seed = run_seeds[0]  # 1134\n",
    "nombres_datasets = [\"pionono\", \"eslabones\", \"helices\", \"hueveras\"]\n",
    "datasets = {\n",
    "    nombre: pickle.load(open(datasets_dir / f\"{nombre}_0-{seed}.pkl\", \"rb\"))\n",
    "    for nombre in nombres_datasets\n",
    "}\n",
    "for idx, (nombre, ds) in enumerate(datasets.items(), start=1):\n",
    "    ax = fig.add_subplot(2, 2, idx, projection=\"3d\")\n",
    "    ds.scatter_3d(ax=ax)\n",
    "    ax.set_title(nombre)\n",
    "plt.tight_layout()\n",
    "fig.savefig(img_dir / \"datasets-3d-0.svg\")\n",
    "# IMG 2: datasets 2d, low noise"
   ]
  },
  {
   "cell_type": "code",
   "execution_count": null,
   "metadata": {},
   "outputs": [],
   "source": [
    "for nombre, ds in datasets.items():\n",
    "    ds.pairplot(dims=[2, 1, 0], height=2, plot_kws=dict(alpha=0.5, s=5), corner=True)\n",
    "    plt.suptitle(nombre)\n",
    "    break"
   ]
  },
  {
   "cell_type": "code",
   "execution_count": null,
   "metadata": {},
   "outputs": [],
   "source": [
    "(\n",
    "    bi[bi.dataset.isin(f\"{nombre}_0\" for nombre in nombres_datasets)]\n",
    "    .groupby([\"clf\", \"dataset\"])[[\"r2\", \"accuracy\"]]\n",
    "    .mean()\n",
    "    .unstack()\n",
    "    .reorder_levels([1, 0], 1)\n",
    "    .sort_index(axis=1)\n",
    "    .mul(100)\n",
    "    .round(2)\n",
    "    .sort_values((\"pionono_0\", \"r2\"), ascending=False)\n",
    ")  # TBL 2: datsets 2d low noise"
   ]
  },
  {
   "cell_type": "markdown",
   "metadata": {},
   "source": [
    "- helices y eslabones muy fáciles\n",
    "- en heveras a fKDC le duele la varianza agregada versus eKDC\n",
    "- (f)KDC best in class for acc & r2 (acc like SVC, plus R^2), but mostly no diff\n",
    "  - r^2 empeora algo en helices con fkdc, sigue siendo mucho mejor que (f)KN, resto ni computa"
   ]
  },
  {
   "cell_type": "code",
   "execution_count": null,
   "metadata": {},
   "outputs": [],
   "source": [
    "fig, axs = plt.subplots(2, 2, figsize=(8, 8))\n",
    "metric = \"r2\"\n",
    "for (idx, nombre), ax in zip(enumerate(nombres_datasets), axs.flatten()):\n",
    "    data = bi[\n",
    "        bi.dataset.eq(f\"{nombre}_0\") & ~bi.clf.isin(exclude_clfs) & bi[metric].notna()\n",
    "    ].sort_values(\"clf\")\n",
    "    sns.boxplot(data, hue=\"clf\", y=metric, gap=0.2, ax=ax, palette=colors)\n",
    "    ax.set_title(nombre)\n",
    "    ax.axhline(\n",
    "        data.groupby(\"clf\")[metric].median().max(), linestyle=\"dotted\", color=\"gray\"\n",
    "    )\n",
    "    ybot, ytop = np.percentile(data[metric].dropna(), [40, 100])\n",
    "    ax.set_ylim(ybot, None)\n",
    "    if idx != 0:\n",
    "        ax.get_legend().set_visible(False)\n",
    "fig.tight_layout()\n",
    "fig.savefig(img_dir / \"3d-low-r2.svg\")\n",
    "# IMG 2: Detalle metric boxplot"
   ]
  },
  {
   "cell_type": "code",
   "execution_count": null,
   "metadata": {},
   "outputs": [],
   "source": []
  },
  {
   "cell_type": "code",
   "execution_count": null,
   "metadata": {},
   "outputs": [],
   "source": []
  },
  {
   "cell_type": "code",
   "execution_count": null,
   "metadata": {},
   "outputs": [],
   "source": []
  },
  {
   "cell_type": "markdown",
   "metadata": {},
   "source": [
    "## Tomados de otros notebooks"
   ]
  },
  {
   "cell_type": "markdown",
   "metadata": {},
   "source": [
    "### Decision Boundary Display"
   ]
  },
  {
   "cell_type": "code",
   "execution_count": null,
   "metadata": {},
   "outputs": [],
   "source": [
    "tarea.info"
   ]
  },
  {
   "cell_type": "code",
   "execution_count": null,
   "metadata": {},
   "outputs": [],
   "source": [
    "plt.cm.cool"
   ]
  },
  {
   "cell_type": "code",
   "execution_count": null,
   "metadata": {},
   "outputs": [],
   "source": []
  },
  {
   "cell_type": "code",
   "execution_count": null,
   "metadata": {},
   "outputs": [],
   "source": [
    "key"
   ]
  },
  {
   "cell_type": "code",
   "execution_count": null,
   "metadata": {},
   "outputs": [],
   "source": [
    "nombre_dataset = \"lunas_lo\"\n",
    "seed = 5248\n",
    "clfs = [\"fkdc\", \"kdc\", \"kn\", \"fkn\", \"gbt\", \"lr\", \"gnb\", \"svc\"]\n",
    "dataset = pickle.load(open(datasets_dir / f\"{nombre_dataset}-{seed}.pkl\", \"rb\"))"
   ]
  },
  {
   "cell_type": "code",
   "execution_count": null,
   "metadata": {},
   "outputs": [],
   "source": [
    "tarea = Tarea(dataset, {}, seed=seed, split_evaluacion=0.5)"
   ]
  },
  {
   "cell_type": "code",
   "execution_count": null,
   "metadata": {},
   "outputs": [],
   "source": [
    "from sklearn.inspection import DecisionBoundaryDisplay\n",
    "\n",
    "# Set-up 2x2 grid for plotting.\n",
    "fig, axs = plt.subplots(3, 3, figsize=(18, 18))\n",
    "plt.subplots_adjust(wspace=0.1, hspace=0.1)\n",
    "\n",
    "X = tarea.X_eval\n",
    "y = tarea.y_eval\n",
    "X0, X1 = X[:, 0], X[:, 1]\n",
    "\n",
    "for clf, ax in zip(clfs, axs.flatten()):\n",
    "    response_method, scoring = \"predict_proba\", \"neg_log_loss\"\n",
    "    if clf == \"svc\":\n",
    "        response_method, scoring = \"predict\", \"accuracy\"\n",
    "    info = infos[(nombre_dataset, str(seed), clf, str(main_seed), scoring)][clf]\n",
    "    disp = DecisionBoundaryDisplay.from_estimator(\n",
    "        info.busqueda.best_estimator_,\n",
    "        X,\n",
    "        eps=0.05,\n",
    "        response_method=response_method,\n",
    "        cmap=plt.cm.coolwarm,\n",
    "        alpha=0.8,\n",
    "        ax=ax,\n",
    "        xlabel=\"x\",\n",
    "        ylabel=\"y\",\n",
    "    )\n",
    "    ax.scatter(X0, X1, c=y.astype(float), cmap=plt.cm.coolwarm, s=20, edgecolors=\"gray\")\n",
    "    ax.set_xticks(())\n",
    "    ax.set_yticks(())\n",
    "    ax.set_title(\n",
    "        f\"{clf} ({(info.accuracy * 100):.2f}% acc., {(info.get(\"r2\", 0)):.3f} $R^2$)\"\n",
    "    )\n",
    "\n",
    "plt.show()"
   ]
  },
  {
   "cell_type": "markdown",
   "metadata": {},
   "source": [
    "### Pair Plot"
   ]
  },
  {
   "cell_type": "code",
   "execution_count": null,
   "metadata": {},
   "outputs": [],
   "source": [
    "dataset = Dataset.cargar(datasets_dir / f\"helices_0-{seed}.pkl\")\n",
    "df = pd.DataFrame(dataset.X, columns=[\"x\", \"y\", \"z\"])\n",
    "df[\"clase\"] = dataset.y\n",
    "df"
   ]
  },
  {
   "cell_type": "code",
   "execution_count": null,
   "metadata": {},
   "outputs": [],
   "source": [
    "sns.pairplot(df, hue=\"clase\")"
   ]
  },
  {
   "cell_type": "markdown",
   "metadata": {},
   "source": [
    "### El grafico de abajo, pero en 3d?\n",
    "https://matplotlib.org/stable/gallery/mplot3d/bars3d.html#sphx-glr-gallery-mplot3d-bars3d-py"
   ]
  },
  {
   "cell_type": "markdown",
   "metadata": {},
   "source": [
    "### Sapienza's Swiss Roll\n",
    "> We use the well-known example coined “Swiss roll”, Figure 1(a) and 1(b). We consider a dataset composed of 4 subsets steaming from independent Normal distributions (restricted to the unit square) with mean $\\mu_1 = (.3, .3), \\mu_2 = (.3, .7), \\mu_3 = (.7, .3), \\mu_4 = (.7, .7)$ respectively and constant variance, Figure 1(a). Then, we apply the Swiss Roll transformation, Figure 1(b)."
   ]
  },
  {
   "cell_type": "code",
   "execution_count": null,
   "metadata": {},
   "outputs": [],
   "source": [
    "pionono = Dataset.cargar(datasets_dir / f\"pionono_0-{seed}.pkl\")\n",
    "df = pd.DataFrame(pionono.X, columns=[\"x\", \"y\", \"z\"])\n",
    "df[\"clase\"] = pionono.y\n",
    "df"
   ]
  },
  {
   "cell_type": "code",
   "execution_count": null,
   "metadata": {},
   "outputs": [],
   "source": [
    "from sklearn.utils import Bunch\n",
    "\n",
    "\n",
    "sns.pairplot(df, hue=\"clase\", plot_kws=Bunch(alpha=0.2))"
   ]
  },
  {
   "cell_type": "markdown",
   "metadata": {},
   "source": [
    "### FacetGrid of Scores"
   ]
  },
  {
   "cell_type": "code",
   "execution_count": null,
   "metadata": {},
   "outputs": [],
   "source": [
    "data = (\n",
    "    bi[bi.score.eq(\"neg_log_loss\")]\n",
    "    .groupby([\"dataset\", \"clf\"])[[\"accuracy\", \"r2\"]]\n",
    "    .mean()\n",
    "    .reset_index()\n",
    ")\n",
    "data[\"is_fkdc\"] = data.clf.eq(\"fkdc\")\n",
    "data"
   ]
  },
  {
   "cell_type": "code",
   "execution_count": null,
   "metadata": {},
   "outputs": [],
   "source": [
    "sns.catplot(\n",
    "    data=data,\n",
    "    x=\"clf\",\n",
    "    y=\"accuracy\",\n",
    "    col=\"dataset\",\n",
    "    col_wrap=5,\n",
    "    hue=\"is_fkdc\",\n",
    "    order=sorted(data.clf.unique()),\n",
    "    kind=\"bar\",\n",
    ")"
   ]
  },
  {
   "cell_type": "code",
   "execution_count": null,
   "metadata": {},
   "outputs": [],
   "source": [
    "sns.catplot(\n",
    "    data=data.dropna(),\n",
    "    x=\"clf\",\n",
    "    y=\"r2\",\n",
    "    col=\"dataset\",\n",
    "    col_wrap=5,\n",
    "    hue=\"is_fkdc\",\n",
    "    order=sorted(data.dropna().clf.unique()),\n",
    "    kind=\"bar\",\n",
    ")"
   ]
  },
  {
   "cell_type": "code",
   "execution_count": null,
   "metadata": {},
   "outputs": [],
   "source": [
    "sns.lineplot(\n",
    "    df[(df.est == \"kdc\") | ((df.est == \"fkdc\") & (df.param_alpha == 1))],\n",
    "    y=\"mean_test_score\",\n",
    "    x=\"param_bandwidth\",\n",
    "    hue=\"est\",\n",
    ")\n",
    "plt.xscale(\"log\")"
   ]
  },
  {
   "cell_type": "code",
   "execution_count": null,
   "metadata": {},
   "outputs": [],
   "source": [
    "sns.lineplot(\n",
    "    df[(df.est == \"fkdc\")],\n",
    "    y=\"mean_test_score\",\n",
    "    x=\"param_bandwidth\",\n",
    "    hue=\"param_alpha\",\n",
    ")\n",
    "plt.xscale(\"log\")"
   ]
  }
 ],
 "metadata": {
  "kernelspec": {
   "display_name": "fkdc-MIQQORBE-py3.12",
   "language": "python",
   "name": "python3"
  },
  "language_info": {
   "codemirror_mode": {
    "name": "ipython",
    "version": 3
   },
   "file_extension": ".py",
   "mimetype": "text/x-python",
   "name": "python",
   "nbconvert_exporter": "python",
   "pygments_lexer": "ipython3",
   "version": "3.12.4"
  }
 },
 "nbformat": 4,
 "nbformat_minor": 2
}
