{
 "cells": [
  {
   "cell_type": "markdown",
   "metadata": {},
   "source": [
    "### Tablas y Figuras"
   ]
  },
  {
   "cell_type": "code",
   "execution_count": null,
   "metadata": {},
   "outputs": [],
   "source": [
    "from sklearn.datasets import make_blobs\n",
    "import pandas as pd\n",
    "\n",
    "import seaborn as sns\n",
    "import matplotlib.pyplot as plt\n",
    "\n",
    "from fkdc.config import clasificadores, grillas\n",
    "from fkdc.tarea import Tarea\n",
    "from fkdc.datasets import Dataset\n",
    "\n",
    "import os\n",
    "import pickle\n",
    "\n",
    "os.getcwd()\n",
    "from pathlib import Path\n",
    "\n",
    "# main_seed = 1732373523\n",
    "main_seed = 3179636698\n",
    "\n",
    "root_dir = Path(\"/Users/gonzalo/Git/fkdc\")\n",
    "data_dir = root_dir / \"docs/data\"\n",
    "data_dir.mkdir(exist_ok=True)\n",
    "img_dir = root_dir / \"docs/img\"\n",
    "run_dir = root_dir / (\"runs/run-%i\" % main_seed)"
   ]
  },
  {
   "cell_type": "code",
   "execution_count": null,
   "metadata": {},
   "outputs": [],
   "source": [
    "seeds = pickle.load(open(run_dir / (\"%i-run_seeds.pkl\" % main_seed), \"rb\"))"
   ]
  },
  {
   "cell_type": "code",
   "execution_count": null,
   "metadata": {},
   "outputs": [],
   "source": [
    "seed = 2024\n",
    "ds = Dataset.de_fabrica(\n",
    "    make_blobs,\n",
    "    n_samples=(400, 400),\n",
    "    n_features=2,\n",
    "    centers=((0, 0), (10, 0)),\n",
    "    random_state=seed,\n",
    ")\n",
    "ds.scatter()"
   ]
  },
  {
   "cell_type": "code",
   "execution_count": null,
   "metadata": {},
   "outputs": [],
   "source": [
    "clasificadores"
   ]
  },
  {
   "cell_type": "code",
   "execution_count": null,
   "metadata": {},
   "outputs": [],
   "source": [
    "run_2blobs = run_dir / f\"../2blobs-{seed}.pkl\"\n",
    "if run_2blobs.exists():\n",
    "    tarea = pickle.load(open(run_2blobs, \"rb\"))\n",
    "else:\n",
    "    tarea = Tarea(\n",
    "        ds,\n",
    "        {nombre: (clf, grillas[nombre]) for nombre, clf in clasificadores.items()},\n",
    "        seed=seed,\n",
    "    )\n",
    "    tarea.entrenar()\n",
    "    tarea.evaluar()\n",
    "    tarea.guardar(run_2blobs)"
   ]
  },
  {
   "cell_type": "code",
   "execution_count": null,
   "metadata": {},
   "outputs": [],
   "source": [
    "campos = {\"logvero\": \"$cal(l)$\", \"r2\": \"$R^2$\", \"accuracy\": \"exac\"}\n",
    "tabla = pd.DataFrame(tarea.info).T[campos.keys()].rename(columns=campos).astype(float)\n",
    "tabla.index = \"#\" + tabla.index\n",
    "tabla"
   ]
  },
  {
   "cell_type": "code",
   "execution_count": null,
   "metadata": {},
   "outputs": [],
   "source": [
    "tabla.round(4).to_csv(data_dir / \"2-blobs.csv\")"
   ]
  },
  {
   "cell_type": "code",
   "execution_count": null,
   "metadata": {},
   "outputs": [],
   "source": [
    "import pickle\n",
    "\n",
    "fig, axs = plt.subplots(1, 3, figsize=(15, 5))\n",
    "seed = 4107\n",
    "datasets_2d = [\"lunas\", \"espirales\", \"circulos\"]\n",
    "for nombre, ax in zip(datasets_2d, axs):\n",
    "    ds = pickle.load(open(run_dir / f\"dataset-('{nombre}', {seed}, 'lo').pkl\", \"rb\"))\n",
    "    ds.scatter(ax=ax)\n",
    "    ax.set_title(nombre)\n",
    "plt.tight_layout()\n",
    "fig.savefig(img_dir / \"datasets-lunas-circulos-espirales.svg\")"
   ]
  },
  {
   "cell_type": "code",
   "execution_count": null,
   "metadata": {},
   "outputs": [],
   "source": [
    "infos = {\n",
    "    (nombre, seed): pickle.load(\n",
    "        open(run_dir / f\"info-('{nombre}', {seed}, 'lo').pkl\", \"rb\")\n",
    "    )\n",
    "    for seed in seeds\n",
    "    for nombre in datasets_2d\n",
    "}"
   ]
  },
  {
   "cell_type": "code",
   "execution_count": null,
   "metadata": {},
   "outputs": [],
   "source": [
    "exacs = {k: pd.DataFrame(info).loc[\"accuracy\"] for k, info in infos.items()}\n",
    "exacs = (\n",
    "    pd.DataFrame(exacs)\n",
    "    .T.melt(ignore_index=False, var_name=\"clf\", value_name=\"exac\")\n",
    "    .reset_index(names=[\"dataset\", \"semilla\"])\n",
    ")\n",
    "exacs[\"exac\"] = exacs.exac.astype(float)\n",
    "exacs"
   ]
  },
  {
   "cell_type": "code",
   "execution_count": null,
   "metadata": {},
   "outputs": [],
   "source": [
    "exacs.groupby([\"clf\", \"dataset\"]).exac.mean().reset_index().pivot(index=\"clf\", columns=\"dataset\", values=\"exac\").round(3)"
   ]
  },
  {
   "cell_type": "code",
   "execution_count": null,
   "metadata": {},
   "outputs": [],
   "source": [
    "fig, axs = plt.subplots(1, 3, figsize=(12, 4))\n",
    "seed = 4107\n",
    "for idx, nombre in enumerate(datasets_2d):\n",
    "    ax = axs[idx]\n",
    "    data = exacs.query(\"dataset == @nombre\")\n",
    "    sns.boxplot(data, hue=\"clf\", y=\"exac\", gap=0.2, ax=ax)\n",
    "    ax.set_title(nombre)\n",
    "    ax.axhline(\n",
    "        data.groupby(\"clf\").exac.median().max(), linestyle=\"dotted\", color=\"gray\"\n",
    "    )\n",
    "    if idx != 0:\n",
    "        ax.get_legend().set_visible(False)\n",
    "fig.tight_layout()\n",
    "fig.savefig(img_dir / \"boxplot-lunas-espirales-circulos.svg\")"
   ]
  },
  {
   "cell_type": "code",
   "execution_count": null,
   "metadata": {},
   "outputs": [],
   "source": [
    "tabla = (\n",
    "    exacs.groupby([\"dataset\", \"clf\"])\n",
    "    .exac.agg([\"mean\", \"std\"])\n",
    "    .reset_index()\n",
    "    .pivot(index=\"clf\", columns=\"dataset\", values=[\"mean\", \"std\"])\n",
    ")\n",
    "tabla.columns = tabla.columns.reorder_levels([1, 0])"
   ]
  },
  {
   "cell_type": "code",
   "execution_count": null,
   "metadata": {},
   "outputs": [],
   "source": [
    "tabla = tabla.apply(lambda x: round(100 * x, 2))[tabla.columns.sortlevel()[0]].round(2)\n",
    "tabla.to_csv(data_dir / \"exac-ds-2d.csv\")\n",
    "tabla"
   ]
  },
  {
   "cell_type": "code",
   "execution_count": null,
   "metadata": {},
   "outputs": [],
   "source": [
    "list(infos.keys())[:5]"
   ]
  },
  {
   "cell_type": "code",
   "execution_count": null,
   "metadata": {},
   "outputs": [],
   "source": [
    "rsqs = {k: pd.DataFrame(info).loc[\"r2\"] for k, info in infos.items()}\n",
    "rsqs = (\n",
    "    pd.DataFrame(rsqs)\n",
    "    .T.melt(ignore_index=False, var_name=\"clf\", value_name=\"r2\")\n",
    "    .reset_index(names=[\"dataset\", \"semilla\"])\n",
    ")\n",
    "rsqs[\"r2\"] = rsqs.r2.astype(float)\n",
    "rsqs"
   ]
  },
  {
   "cell_type": "code",
   "execution_count": null,
   "metadata": {},
   "outputs": [],
   "source": [
    "fig, axs = plt.subplots(1, 3, figsize=(12, 4))\n",
    "seed = 4107\n",
    "for idx, nombre in enumerate(datasets_2d):\n",
    "    ax = axs[idx]\n",
    "    data = rsqs.query(\"dataset == @nombre\")\n",
    "    sns.boxplot(data, hue=\"clf\", y=\"r2\", gap=0.2, ax=ax)\n",
    "    ax.set_title(nombre)\n",
    "    ax.axhline(\n",
    "        data.groupby(\"clf\").r2.median().max(), linestyle=\"dotted\", color=\"gray\"\n",
    "    )\n",
    "    ax.set_ylim(0, None)\n",
    "    if idx != 0:\n",
    "        ax.get_legend().set_visible(False)\n",
    "fig.tight_layout()\n",
    "fig.savefig(img_dir / \"boxplot-r2-lunas-espirales-circulos.svg\")"
   ]
  },
  {
   "cell_type": "code",
   "execution_count": null,
   "metadata": {},
   "outputs": [],
   "source": [
    "tabla = (\n",
    "    rsqs.groupby([\"dataset\", \"clf\"])\n",
    "    .r2.agg([\"mean\", \"std\"])\n",
    "    .reset_index()\n",
    "    .pivot(index=\"clf\", columns=\"dataset\", values=[\"mean\", \"std\"])\n",
    ")\n",
    "tabla.columns = tabla.columns.reorder_levels([1, 0])"
   ]
  },
  {
   "cell_type": "code",
   "execution_count": null,
   "metadata": {},
   "outputs": [],
   "source": [
    "tabla = tabla[tabla.columns.sortlevel()[0]].round(3).dropna()\n",
    "tabla.to_csv(data_dir / \"r2-ds-2d.csv\")\n",
    "tabla"
   ]
  },
  {
   "cell_type": "code",
   "execution_count": null,
   "metadata": {},
   "outputs": [],
   "source": [
    "corrida = (\"circulos\", 4479)\n",
    "df = pd.concat(\n",
    "    {\n",
    "        est: pd.DataFrame(infos[corrida][est].busqueda.cv_results_)\n",
    "        for est in (\"kdc\", \"fkdc\")\n",
    "    }, names=[\"est\", \"index\"]\n",
    ").reset_index()"
   ]
  },
  {
   "cell_type": "code",
   "execution_count": null,
   "metadata": {},
   "outputs": [],
   "source": [
    "coso = df.query(\"est == 'kdc'\").param_alpha.unique()[0]"
   ]
  },
  {
   "cell_type": "code",
   "execution_count": null,
   "metadata": {},
   "outputs": [],
   "source": [
    "df.groupby(\"est\").param_alpha.agg(lambda x: x.isna().mean())"
   ]
  },
  {
   "cell_type": "code",
   "execution_count": null,
   "metadata": {},
   "outputs": [],
   "source": [
    "import numpy as np"
   ]
  },
  {
   "cell_type": "code",
   "execution_count": null,
   "metadata": {},
   "outputs": [],
   "source": [
    "df[df.param_alpha.isna() | (df.param_alpha == 1)].groupby(\n",
    "    [\"est\", \"param_alpha\"], dropna=False\n",
    ").size()"
   ]
  },
  {
   "cell_type": "code",
   "execution_count": null,
   "metadata": {},
   "outputs": [],
   "source": [
    "sns.lineplot(\n",
    "    df[(df.est == \"kdc\") | ((df.est == \"fkdc\") & (df.param_alpha == 1))],\n",
    "    y=\"mean_test_score\",\n",
    "    x=\"param_bandwidth\",\n",
    "    hue=\"est\",\n",
    ")\n",
    "plt.xscale(\"log\")"
   ]
  },
  {
   "cell_type": "code",
   "execution_count": null,
   "metadata": {},
   "outputs": [],
   "source": [
    "sns.lineplot(\n",
    "    df[(df.est == \"fkdc\")],\n",
    "    y=\"mean_test_score\",\n",
    "    x=\"param_bandwidth\",\n",
    "    hue=\"param_alpha\",\n",
    ")\n",
    "plt.xscale(\"log\")"
   ]
  },
  {
   "cell_type": "code",
   "execution_count": null,
   "metadata": {},
   "outputs": [],
   "source": [
    "data = df[(df.est == \"fkdc\")].pivot(index=\"param_alpha\", columns=\"param_bandwidth\", values=\"mean_test_score\")\n",
    "X = data.columns.values\n",
    "Y = data.index.values\n",
    "Z = data.values"
   ]
  },
  {
   "cell_type": "code",
   "execution_count": null,
   "metadata": {},
   "outputs": [],
   "source": [
    "df[df.rank_test_score == 1].filter(like=\"param_\")"
   ]
  },
  {
   "cell_type": "code",
   "execution_count": null,
   "metadata": {},
   "outputs": [],
   "source": [
    "infos[corrida].fkdc.busqueda.best_params_"
   ]
  },
  {
   "cell_type": "code",
   "execution_count": null,
   "metadata": {},
   "outputs": [],
   "source": [
    "import json\n",
    "import numpy as np\n",
    "\n",
    "class NumpyEncoder(json.JSONEncoder):\n",
    "    \"\"\" Special json encoder for numpy types \"\"\"\n",
    "    def default(self, obj):\n",
    "        if isinstance(obj, np.integer):\n",
    "            return int(obj)\n",
    "        elif isinstance(obj, np.floating):\n",
    "            return float(obj)\n",
    "        elif isinstance(obj, np.ndarray):\n",
    "            return obj.tolist()\n",
    "        return json.JSONEncoder.default(self, obj)\n"
   ]
  },
  {
   "cell_type": "code",
   "execution_count": null,
   "metadata": {},
   "outputs": [],
   "source": [
    "data = {\n",
    "    \"corrida\": corrida,\n",
    "    \"best_params\": {\n",
    "        est: info.busqueda.best_params_\n",
    "        for est, info in infos[corrida].items()\n",
    "        if est != \"base\"\n",
    "    },\n",
    "    \"exac\": {\n",
    "        est: info.accuracy\n",
    "        for est, info in infos[corrida].items()\n",
    "        if est != \"base\"\n",
    "    }\n",
    "}"
   ]
  },
  {
   "cell_type": "code",
   "execution_count": null,
   "metadata": {},
   "outputs": [],
   "source": [
    "dumped = json.dumps(data, cls=NumpyEncoder)\n",
    "\n",
    "with open(data_dir / f\"best_params-2d-lo.json\", \"w\") as f:\n",
    "    json.dump(dumped, f)"
   ]
  },
  {
   "cell_type": "code",
   "execution_count": null,
   "metadata": {},
   "outputs": [],
   "source": [
    "from matplotlib import colors\n",
    "\n",
    "fig, ax = plt.subplots(layout=\"constrained\")\n",
    "zmin, zmax = Z.min(), Z.max()\n",
    "CS = ax.contourf(X, Y, Z**2, 15, cmap=\"viridis\")\n",
    "ax.set_title(\"Exactitud para $\\\\alpha$ y $h$\")\n",
    "ax.set_xlabel(\"$h$\")\n",
    "ax.set_ylabel(\"$\\\\alpha$\")\n",
    "ax.scatter(X[Z.argmax(axis=1)], Y, marker=\"x\", color=\"red\")\n",
    "# Make a colorbar for the ContourSet returned by the contourf call.\n",
    "cbar = fig.colorbar(CS)\n",
    "cbar.ax.set_ylabel(\"Exactitud\")\n",
    "ax.set_xscale(\"log\")\n",
    "# plt.tight_layout()\n",
    "fig.savefig(img_dir / \"heatmap-fkdc-2d-lo.svg\")"
   ]
  },
  {
   "cell_type": "code",
   "execution_count": null,
   "metadata": {},
   "outputs": [],
   "source": [
    "from matplotlib import colors\n",
    "\n",
    "fig, ax = plt.subplots(layout='constrained')\n",
    "zmin, zmax = Z.min(), Z.max()\n",
    "CS = ax.contour(X, Y, Z**2, 15, cmap=\"viridis\")\n",
    "ax.set_title('Exactitud para $\\\\alpha$ y $h$')\n",
    "ax.set_xlabel(\"$h$\")\n",
    "ax.set_ylabel(\"$\\\\alpha$\")\n",
    "\n",
    "# Make a colorbar for the ContourSet returned by the contourf call.\n",
    "cbar = fig.colorbar(CS)\n",
    "cbar.ax.set_ylabel('Exactitud')\n",
    "plt.xscale(\"log\")"
   ]
  },
  {
   "cell_type": "code",
   "execution_count": null,
   "metadata": {},
   "outputs": [],
   "source": [
    "sns.lineplot(\n",
    "    df[(df.est == \"fkdc\")],\n",
    "    y=\"mean_test_score\",\n",
    "    x=\"param_bandwidth\",\n",
    "    hue=\"param_alpha\",\n",
    ")\n",
    "plt.xscale(\"log\")"
   ]
  },
  {
   "cell_type": "code",
   "execution_count": null,
   "metadata": {},
   "outputs": [],
   "source": [
    "some_seeds = [5303, 1115, 7761]"
   ]
  },
  {
   "cell_type": "code",
   "execution_count": null,
   "metadata": {},
   "outputs": [],
   "source": [
    "from matplotlib import colors\n",
    "from itertools import product\n",
    "\n",
    "fig, axs = plt.subplots(3, 3, figsize=(35, 30), layout=\"constrained\")\n",
    "for corrida, ax in zip(product(datasets_2d, some_seeds), axs.flatten()):\n",
    "    df = pd.concat(\n",
    "        {\n",
    "            est: pd.DataFrame(infos[corrida][est].busqueda.cv_results_)\n",
    "            for est in (\"kdc\", \"fkdc\")\n",
    "        },\n",
    "        names=[\"est\", \"index\"],\n",
    "    ).reset_index()\n",
    "    coso = df.query(\"est == 'kdc'\").param_alpha.unique()[0]\n",
    "    data = df[(df.est == \"fkdc\")].pivot(\n",
    "        index=\"param_alpha\", columns=\"param_bandwidth\", values=\"mean_test_score\"\n",
    "    )\n",
    "    X = data.columns.values\n",
    "    Y = data.index.values\n",
    "    Z = data.values\n",
    "    zmin, zmax = Z.min(), Z.max()\n",
    "    CS = ax.contourf(X, Y, Z, 15, cmap=\"viridis\")\n",
    "    ax.set_title(f\"Exactitud para {corrida}\")\n",
    "    ax.set_xlabel(\"$h$\")\n",
    "    ax.set_ylabel(\"$\\\\alpha$\")\n",
    "    ax.scatter(X[Z.argmax(axis=1)], Y, marker=\"x\", color=\"red\")\n",
    "    # Make a colorbar for the ContourSet returned by the contourf call.\n",
    "    # cbar = fig.colorbar(CS)\n",
    "    # cbar.ax.set_ylabel(\"Exactitud\")\n",
    "    ax.set_xscale(\"log\")\n",
    "    # plt.tight_layout()\n",
    "fig.savefig(img_dir / \"many-heatmaps-fkdc-2d-lo.svg\")"
   ]
  },
  {
   "cell_type": "code",
   "execution_count": null,
   "metadata": {},
   "outputs": [],
   "source": [
    "import pickle\n",
    "\n",
    "fig, axs = plt.subplots(1, 3, figsize=(15, 5))\n",
    "seed = 4107\n",
    "datasets_2d = [\"lunas\", \"espirales\", \"circulos\"]\n",
    "for nombre, ax in zip(datasets_2d, axs):\n",
    "    ds = pickle.load(open(run_dir / f\"dataset-('{nombre}', {seed}, 'hi').pkl\", \"rb\"))\n",
    "    ds.scatter(ax=ax)\n",
    "    ax.set_title(nombre)\n",
    "plt.tight_layout()\n",
    "fig.savefig(img_dir / \"datasets-lunas-circulos-espirales-hi.svg\")"
   ]
  },
  {
   "cell_type": "code",
   "execution_count": null,
   "metadata": {},
   "outputs": [],
   "source": [
    "infos = {\n",
    "    (nombre, seed): pickle.load(\n",
    "        open(run_dir / f\"info-('{nombre}', {seed}, 'hi').pkl\", \"rb\")\n",
    "    )\n",
    "    for seed in seeds\n",
    "    for nombre in datasets_2d\n",
    "}"
   ]
  },
  {
   "cell_type": "code",
   "execution_count": null,
   "metadata": {},
   "outputs": [],
   "source": [
    "exacs = {k: pd.DataFrame(info).loc[\"accuracy\"] for k, info in infos.items()}\n",
    "exacs = (\n",
    "    pd.DataFrame(exacs)\n",
    "    .T.melt(ignore_index=False, var_name=\"clf\", value_name=\"exac\")\n",
    "    .reset_index(names=[\"dataset\", \"semilla\"])\n",
    ")\n",
    "exacs[\"exac\"] = exacs.exac.astype(float)\n",
    "exacs"
   ]
  },
  {
   "cell_type": "code",
   "execution_count": null,
   "metadata": {},
   "outputs": [],
   "source": [
    "fig, axs = plt.subplots(1, 3, figsize=(12, 4))\n",
    "for idx, nombre in enumerate(datasets_2d):\n",
    "    ax = axs[idx]\n",
    "    data = exacs.query(\"dataset == @nombre\")\n",
    "    sns.boxplot(data, hue=\"clf\", y=\"exac\", gap=0.2, ax=ax)\n",
    "    ax.set_title(nombre)\n",
    "    ax.axhline(\n",
    "        data.groupby(\"clf\").exac.median().max(), linestyle=\"dotted\", color=\"gray\"\n",
    "    )\n",
    "    if idx != 0:\n",
    "        ax.get_legend().set_visible(False)\n",
    "fig.tight_layout()\n",
    "fig.savefig(img_dir / \"boxplot-lunas-espirales-circulos-hi.svg\")"
   ]
  },
  {
   "cell_type": "code",
   "execution_count": null,
   "metadata": {},
   "outputs": [],
   "source": [
    "tabla = (\n",
    "    exacs.groupby([\"dataset\", \"clf\"])\n",
    "    .exac.agg([\"mean\", \"std\"])\n",
    "    .reset_index()\n",
    "    .pivot(index=\"clf\", columns=\"dataset\", values=[\"mean\", \"std\"])\n",
    ")\n",
    "tabla.columns = tabla.columns.reorder_levels([1, 0])"
   ]
  },
  {
   "cell_type": "code",
   "execution_count": null,
   "metadata": {},
   "outputs": [],
   "source": [
    "tabla = tabla.apply(lambda x: round(100 * x, 2))[tabla.columns.sortlevel()[0]].round(2)\n",
    "tabla.to_csv(data_dir / \"exac-ds-2d.csv\")\n",
    "tabla"
   ]
  },
  {
   "cell_type": "code",
   "execution_count": null,
   "metadata": {},
   "outputs": [],
   "source": [
    "rsqs = {k: pd.DataFrame(info).loc[\"r2\"] for k, info in infos.items()}\n",
    "rsqs = (\n",
    "    pd.DataFrame(rsqs)\n",
    "    .T.melt(ignore_index=False, var_name=\"clf\", value_name=\"r2\")\n",
    "    .reset_index(names=[\"dataset\", \"semilla\"])\n",
    ")\n",
    "rsqs[\"r2\"] = rsqs.r2.astype(float)\n",
    "rsqs"
   ]
  },
  {
   "cell_type": "code",
   "execution_count": null,
   "metadata": {},
   "outputs": [],
   "source": [
    "fig, axs = plt.subplots(1, 3, figsize=(12, 4))\n",
    "seed = 4107\n",
    "for idx, nombre in enumerate(datasets_2d):\n",
    "    ax = axs[idx]\n",
    "    data = rsqs.query(\"dataset == @nombre\")\n",
    "    sns.boxplot(data, hue=\"clf\", y=\"r2\", gap=0.2, ax=ax)\n",
    "    ax.set_title(nombre)\n",
    "    ax.axhline(\n",
    "        data.groupby(\"clf\").r2.median().max(), linestyle=\"dotted\", color=\"gray\"\n",
    "    )\n",
    "    if idx != 0:\n",
    "        ax.get_legend().set_visible(False)\n",
    "fig.tight_layout()\n",
    "fig.savefig(img_dir / \"boxplot-r2-lunas-espirales-circulos-hi.svg\")"
   ]
  },
  {
   "cell_type": "code",
   "execution_count": null,
   "metadata": {},
   "outputs": [],
   "source": [
    "tabla = (\n",
    "    rsqs.groupby([\"dataset\", \"clf\"])\n",
    "    .r2.agg([\"mean\", \"std\"])\n",
    "    .reset_index()\n",
    "    .pivot(index=\"clf\", columns=\"dataset\", values=[\"mean\", \"std\"])\n",
    ")\n",
    "tabla.columns = tabla.columns.reorder_levels([1, 0])"
   ]
  },
  {
   "cell_type": "code",
   "execution_count": null,
   "metadata": {},
   "outputs": [],
   "source": [
    "tabla = tabla[tabla.columns.sortlevel()[0]].round(3).dropna()\n",
    "tabla.to_csv(data_dir / \"r2-ds-2d.csv\")\n",
    "tabla"
   ]
  },
  {
   "cell_type": "code",
   "execution_count": null,
   "metadata": {},
   "outputs": [],
   "source": [
    "def get_seeds(main_seed):\n",
    "    run_dir = root_dir / (\"runs/run-%i\" % main_seed)\n",
    "    return pickle.load(open(run_dir / (\"%i-run_seeds.pkl\" % main_seed), \"rb\"))\n",
    "\n",
    "\n",
    "def list_items(run_dir, kind):\n",
    "    root = f\"{kind}-\"\n",
    "    paths = run_dir.glob(f\"{root}*.pkl\")\n",
    "    return {eval(p.stem.lstrip(root)): pickle.load(open(p, \"rb\")) for p in paths}\n",
    "\n",
    "\n",
    "def list_infos(run_dir):\n",
    "    return list_items(run_dir, \"info\")"
   ]
  },
  {
   "cell_type": "code",
   "execution_count": null,
   "metadata": {},
   "outputs": [],
   "source": [
    "seeds = get_seeds(main_seed)\n",
    "run_dir = root_dir / (\"runs/run-%i\" % main_seed)\n",
    "infos = list_infos(root_dir / (\"runs/run-%i\" % main_seed))"
   ]
  },
  {
   "cell_type": "code",
   "execution_count": null,
   "metadata": {},
   "outputs": [],
   "source": [
    "datasets_2d"
   ]
  },
  {
   "cell_type": "markdown",
   "metadata": {},
   "source": [
    "## Tomados de otros notebooks"
   ]
  },
  {
   "cell_type": "markdown",
   "metadata": {},
   "source": [
    "### Decision Boundary Display"
   ]
  },
  {
   "cell_type": "code",
   "execution_count": null,
   "metadata": {},
   "outputs": [],
   "source": [
    "from sklearn.inspection import DecisionBoundaryDisplay\n",
    "\n",
    "# Set-up 2x2 grid for plotting.\n",
    "fig, axs = plt.subplots(2, 3, figsize=(18, 12))\n",
    "plt.subplots_adjust(wspace=0.1, hspace=0.1)\n",
    "\n",
    "X = tarea.X_eval\n",
    "y = tarea.y_eval\n",
    "X0, X1 = X[:, 0], X[:, 1]\n",
    "\n",
    "for (nombre, clf), ax in zip(tarea.clasificadores.items(), axs.flatten()):\n",
    "    disp = DecisionBoundaryDisplay.from_estimator(\n",
    "        clf,\n",
    "        X,\n",
    "        eps=0.05,\n",
    "        response_method=\"predict\",\n",
    "        cmap=plt.cm.coolwarm,\n",
    "        alpha=0.8,\n",
    "        ax=ax,\n",
    "        xlabel=\"x\",c\n",
    "        ylabel=\"y\",\n",
    "    )\n",
    "    ax.scatter(X0, X1, c=y.astype(float), cmap=plt.cm.coolwarm, s=20, edgecolors=\"gray\")\n",
    "    ax.set_xticks(())\n",
    "    ax.set_yticks(())\n",
    "    ax.set_title(f\"{nombre} ({tarea.puntajes[nombre] * 100:.2f}% acc.)\")\n",
    "\n",
    "plt.show()"
   ]
  },
  {
   "cell_type": "markdown",
   "metadata": {},
   "source": [
    "### Pair Plot"
   ]
  },
  {
   "cell_type": "code",
   "execution_count": null,
   "metadata": {},
   "outputs": [],
   "source": [
    "helices = Dataset(\"helices\", X, y)\n",
    "df = pd.DataFrame(X, columns=[\"x\", \"y\", \"z\"])\n",
    "df[\"clase\"] = y\n",
    "sns.pairplot(df, hue=\"clase\")"
   ]
  },
  {
   "cell_type": "markdown",
   "metadata": {},
   "source": [
    "### El grafico de abajo, pero en 3d?\n",
    "https://matplotlib.org/stable/gallery/mplot3d/bars3d.html#sphx-glr-gallery-mplot3d-bars3d-py"
   ]
  },
  {
   "cell_type": "code",
   "execution_count": null,
   "metadata": {},
   "outputs": [],
   "source": [
    "sns.lineplot(\n",
    "    data=grilla[grilla.stage == \"test\"], x=\"clf__bandwidth\", y=\"score\", hue=\"clf__alpha\"\n",
    ")\n",
    "plt.xlabel(\"$h$\"), plt.ylabel(\"Exactitud [%]\"), plt.legend(title=\"$\\\\alpha$\")\n",
    "plt.axhline(tarea.puntajes.fkdc * 100, linestyle=\"dotted\", color=\"gray\")\n",
    "plt.xscale(\"log\")"
   ]
  },
  {
   "cell_type": "markdown",
   "metadata": {},
   "source": [
    "### Sapienza's Swiss Roll\n",
    "> We use the well-known example coined “Swiss roll”, Figure 1(a) and 1(b). We consider a dataset composed of 4 subsets steaming from independent Normal distributions (restricted to the unit square) with mean $\\mu_1 = (.3, .3), \\mu_2 = (.3, .7), \\mu_3 = (.7, .3), \\mu_4 = (.7, .7)$ respectively and constant variance, Figure 1(a). Then, we apply the Swiss Roll transformation, Figure 1(b)."
   ]
  },
  {
   "cell_type": "code",
   "execution_count": null,
   "metadata": {},
   "outputs": [],
   "source": [
    "n_samples = 200\n",
    "limites = (0.3, 0.7)\n",
    "centros = [(x, y) for x in limites for y in limites]\n",
    "varianza = 0.01 * np.identity(len(centros[0]))\n",
    "Xs = np.vstack(\n",
    "    [stats.multivariate_normal(mean=c, cov=varianza).rvs(n_samples) for c in centros]\n",
    ")\n",
    "ys = np.concatenate([np.ones(n_samples) * i for i in range(len(centros))])\n",
    "ds = Dataset(\"swissroll\", Xs, ys)\n",
    "df = pd.DataFrame(Xs, columns = [\"x\", \"y\"])\n",
    "df[\"clase\"] = ys.astype(str)\n",
    "sns.scatterplot(data=df, x=\"x\", y=\"y\", hue=\"clase\")"
   ]
  },
  {
   "cell_type": "code",
   "execution_count": null,
   "metadata": {},
   "outputs": [],
   "source": [
    "def swissroll(x, y, noise=0.005, return_t=False):\n",
    "    # Versión modificada de https://homepages.ecs.vuw.ac.nz/~marslast/Code/Ch6/lle.py\n",
    "    N = len(x)\n",
    "\n",
    "    t = 2 * np.pi * (1 + 2 * x)\n",
    "    h = 21 * y\n",
    "    data = np.vstack((t * np.cos(t), h, t * np.sin(t))) + noise * np.random.randn(\n",
    "        3, N\n",
    "    )\n",
    "    if return_t:\n",
    "        return np.transpose(data), np.squeeze(t)\n",
    "    else:\n",
    "        return np.transpose(data)\n",
    "\n"
   ]
  },
  {
   "cell_type": "code",
   "execution_count": null,
   "metadata": {},
   "outputs": [],
   "source": [
    "swissed = pd.DataFrame(swissroll(Xs[:, 0], Xs[:, 1]), columns = [\"x\", \"y\", \"z\"])\n",
    "swissed[\"clase\"] = ys.astype(str)\n",
    "swissed.sample(10)"
   ]
  },
  {
   "cell_type": "code",
   "execution_count": null,
   "metadata": {},
   "outputs": [],
   "source": [
    "sns.pairplot(swissed, hue=\"clase\", plot_kws=Bunch(alpha=0.2))"
   ]
  }
 ],
 "metadata": {
  "kernelspec": {
   "display_name": "fkdc-MIQQORBE-py3.12",
   "language": "python",
   "name": "python3"
  },
  "language_info": {
   "codemirror_mode": {
    "name": "ipython",
    "version": 3
   },
   "file_extension": ".py",
   "mimetype": "text/x-python",
   "name": "python",
   "nbconvert_exporter": "python",
   "pygments_lexer": "ipython3",
   "version": "3.12.4"
  }
 },
 "nbformat": 4,
 "nbformat_minor": 2
}
