{
 "cells": [
  {
   "cell_type": "markdown",
   "metadata": {},
   "source": [
    "# Playground Tesis"
   ]
  },
  {
   "cell_type": "code",
   "execution_count": 1,
   "metadata": {},
   "outputs": [],
   "source": [
    "from math import sqrt"
   ]
  },
  {
   "cell_type": "code",
   "execution_count": 2,
   "metadata": {
    "tags": []
   },
   "outputs": [],
   "source": [
    "from scipy.stats import norm\n",
    "from scipy.spatial import distance_matrix\n",
    "\n",
    "x = 3\n"
   ]
  },
  {
   "cell_type": "code",
   "execution_count": 3,
   "metadata": {},
   "outputs": [],
   "source": [
    "import numpy as np\n",
    "# import pandas as pd\n",
    "# from scipy.spatial import distance_matrix\n",
    "# import matplotlib.pyplot as plt\n",
    "# from sklearn.model_selection import train_test_split\n",
    "from fermat import Fermat\n",
    "# from sklearn.datasets import load_iris\n",
    "# import networkx as nx"
   ]
  },
  {
   "cell_type": "code",
   "execution_count": 22,
   "metadata": {
    "tags": []
   },
   "outputs": [],
   "source": [
    "mus = [0, 10]\n",
    "sigmas = [1, 2]\n",
    "N_each = 500\n",
    "samples = [norm.rvs(mu, sigma, N_each).reshape(-1, 1) for mu, sigma in zip(mus, sigmas)]\n",
    "# dists = [distance_matrix(s, s) for s in samples]\n"
   ]
  },
  {
   "cell_type": "code",
   "execution_count": 23,
   "metadata": {},
   "outputs": [
    {
     "data": {
      "text/plain": [
       "array([[0.00000000e+00, 1.34151507e+00, 1.66657146e-01, ...,\n",
       "        3.29746952e+00, 1.04505901e+00, 1.60613963e-01],\n",
       "       [1.34151507e+00, 0.00000000e+00, 5.62501928e-01, ...,\n",
       "        8.84545819e+00, 4.75466394e+00, 5.73762614e-01],\n",
       "       [1.66657146e-01, 5.62501928e-01, 0.00000000e+00, ...,\n",
       "        4.94675522e+00, 2.04638148e+00, 5.57995719e-05],\n",
       "       ...,\n",
       "       [3.29746952e+00, 8.84545819e+00, 4.94675522e+00, ...,\n",
       "        0.00000000e+00, 6.29820502e-01, 4.91358291e+00],\n",
       "       [1.04505901e+00, 4.75466394e+00, 2.04638148e+00, ...,\n",
       "        6.29820502e-01, 0.00000000e+00, 2.02506559e+00],\n",
       "       [1.60613963e-01, 5.73762614e-01, 5.57995719e-05, ...,\n",
       "        4.91358291e+00, 2.02506559e+00, 0.00000000e+00]])"
      ]
     },
     "execution_count": 23,
     "metadata": {},
     "output_type": "execute_result"
    }
   ],
   "source": [
    "s = samples[0].reshape(-1,1)\n",
    "distance_matrix(s, s)**2"
   ]
  },
  {
   "cell_type": "code",
   "execution_count": 17,
   "metadata": {},
   "outputs": [
    {
     "ename": "NameError",
     "evalue": "name 'Fermat' is not defined",
     "output_type": "error",
     "traceback": [
      "\u001b[0;31m---------------------------------------------------------------------------\u001b[0m",
      "\u001b[0;31mNameError\u001b[0m                                 Traceback (most recent call last)",
      "Cell \u001b[0;32mIn[17], line 2\u001b[0m\n\u001b[1;32m      1\u001b[0m alpha, path_method \u001b[39m=\u001b[39m \u001b[39m2\u001b[39m, \u001b[39m\"\u001b[39m\u001b[39mFW\u001b[39m\u001b[39m\"\u001b[39m\n\u001b[0;32m----> 2\u001b[0m fermat \u001b[39m=\u001b[39m Fermat(alpha\u001b[39m=\u001b[39malpha, path_method\u001b[39m=\u001b[39mpath_method)\n",
      "\u001b[0;31mNameError\u001b[0m: name 'Fermat' is not defined"
     ]
    }
   ],
   "source": [
    "alpha, path_method = 2, \"FW\"\n",
    "fermat = Fermat(alpha=alpha, path_method=path_method)\n"
   ]
  },
  {
   "cell_type": "code",
   "execution_count": null,
   "metadata": {},
   "outputs": [],
   "source": [
    "\n"
   ]
  },
  {
   "cell_type": "code",
   "execution_count": null,
   "metadata": {},
   "outputs": [],
   "source": []
  },
  {
   "cell_type": "code",
   "execution_count": 1,
   "metadata": {
    "tags": []
   },
   "outputs": [],
   "source": [
    "from sklearn import datasets\n",
    "\n",
    "# import some data to play with\n",
    "iris = datasets.load_iris()\n",
    "X = iris.data\n",
    "y = iris.target"
   ]
  },
  {
   "cell_type": "code",
   "execution_count": 3,
   "metadata": {
    "tags": []
   },
   "outputs": [
    {
     "name": "stderr",
     "output_type": "stream",
     "text": [
      "/Users/gonzalo/.pyenv/versions/3.10.9/lib/python3.10/site-packages/sklearn/manifold/_isomap.py:373: UserWarning: The number of connected components of the neighbors graph is 2 > 1. Completing the graph to fit Isomap might be slow. Increase the number of neighbors to avoid this issue.\n",
      "  self._fit_transform(X)\n",
      "/Users/gonzalo/.pyenv/versions/3.10.9/lib/python3.10/site-packages/scipy/sparse/_index.py:103: SparseEfficiencyWarning: Changing the sparsity structure of a csr_matrix is expensive. lil_matrix is more efficient.\n",
      "  self._set_intXint(row, col, x.flat[0])\n"
     ]
    },
    {
     "data": {
      "text/plain": [
       "(100, 2)"
      ]
     },
     "execution_count": 3,
     "metadata": {},
     "output_type": "execute_result"
    }
   ],
   "source": [
    "from sklearn.manifold import Isomap\n",
    "\n",
    "embedding = Isomap(n_components=2)\n",
    "X_transformed = embedding.fit_transform(X[:100])\n",
    "X_transformed.shape"
   ]
  },
  {
   "cell_type": "code",
   "execution_count": null,
   "metadata": {},
   "outputs": [],
   "source": []
  }
 ],
 "metadata": {
  "kernelspec": {
   "display_name": "fermat",
   "language": "python",
   "name": "fermat"
  },
  "language_info": {
   "codemirror_mode": {
    "name": "ipython",
    "version": 3
   },
   "file_extension": ".py",
   "mimetype": "text/x-python",
   "name": "python",
   "nbconvert_exporter": "python",
   "pygments_lexer": "ipython3",
   "version": "3.10.9"
  },
  "vscode": {
   "interpreter": {
    "hash": "be116fb759128b6b55b255b1e947fd2e6834789e44963abada755fc442ccacb7"
   }
  }
 },
 "nbformat": 4,
 "nbformat_minor": 4
}
