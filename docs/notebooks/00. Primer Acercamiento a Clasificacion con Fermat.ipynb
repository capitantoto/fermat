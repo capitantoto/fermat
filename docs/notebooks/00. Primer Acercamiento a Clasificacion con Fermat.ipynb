{
 "cells": [
  {
   "cell_type": "markdown",
   "metadata": {},
   "source": [
    "# 00. Primer Acercamiento a Clasificación con Distancia de Fermat: LandmarksClassifier\n",
    "La clase `fermat.Fermat` sólo devuelve distancias entre las observaciones de entrenamiento `X_train` pasadas a `Fermat.fit(X_train)`. Para usar la estimación $D_{\\mathbb{X}_n}$ de la distancia de Fermat $\\mathcal{D_f}$ en tareas de clasificación, hay que extenderla a puntos no observados.\n",
    "\n",
    "En este _notebook_ propongo la versión más bruta posible: para cada clase de entrenamiento (`X_train[y_train == cls]`), agregar la observación a predecir a la clase, calcular las nuevas distancias $D_{\\mathbb{X}_{n+1}}$, y tomar el promedio de las distancias de la observación a los elementos de la clase de entrenamiento. Asignar la observación a la clase con menor distancia promedio.\n",
    "\n",
    "Una sofisticación inmediata: es posible calcular las distancias de una nueva observación `x` a una muestra de tamaño `n`, en orden `n` "
   ]
  },
  {
   "cell_type": "code",
   "execution_count": 1,
   "metadata": {},
   "outputs": [],
   "source": [
    "import numpy as np\n",
    "import pandas as pd\n",
    "from scipy.spatial import distance_matrix\n",
    "import matplotlib.pyplot as plt\n",
    "from sklearn.manifold import TSNE\n",
    "from fermat import Fermat\n",
    "from sklearn.datasets import load_iris"
   ]
  },
  {
   "cell_type": "code",
   "execution_count": 2,
   "metadata": {},
   "outputs": [
    {
     "data": {
      "text/plain": [
       "(150, 4)"
      ]
     },
     "execution_count": 2,
     "metadata": {},
     "output_type": "execute_result"
    }
   ],
   "source": [
    "X, y = load_iris(return_X_y=True, as_frame=True)\n",
    "N, D = X.shape\n",
    "N, D"
   ]
  },
  {
   "cell_type": "code",
   "execution_count": 3,
   "metadata": {},
   "outputs": [],
   "source": [
    "classes = y.unique()\n",
    "all_distances = distance_matrix(X, X)\n",
    "cls_distances = {cls: distance_matrix(X[y == cls], X[y == cls]) for cls in classes}\n"
   ]
  },
  {
   "cell_type": "code",
   "execution_count": 4,
   "metadata": {},
   "outputs": [
    {
     "data": {
      "text/plain": [
       "((150, 150), {0: (50, 50), 1: (50, 50), 2: (50, 50)})"
      ]
     },
     "execution_count": 4,
     "metadata": {},
     "output_type": "execute_result"
    }
   ],
   "source": [
    "all_distances.shape, {i: X.shape for i, X in cls_distances.items()}"
   ]
  },
  {
   "cell_type": "markdown",
   "metadata": {},
   "source": [
    "**CUIDADO**: Si tomo `f = Fermat(alpha=4, path_method=\"FW\", ...)`\n",
    "Sucesivas llamadas a `f.fit(X)` retornan una nueva instancia Fermat fiteada, pero fitean también el `f` \"de base\". Es un comportamiento esperado para los BaseEstimator de sklearn. Es problemático, el `partial` te deja trabajar con un \"factory\" manejable."
   ]
  },
  {
   "cell_type": "code",
   "execution_count": 5,
   "metadata": {},
   "outputs": [],
   "source": [
    "from functools import partial\n",
    "f = partial(Fermat, alpha=4, path_method=\"FW\")\n",
    "f_all = f().fit(all_distances)\n",
    "f_cls = {cls: f().fit(cls_distances[cls]) for cls in classes}"
   ]
  },
  {
   "cell_type": "markdown",
   "metadata": {},
   "source": [
    "For any two points decide if they belong to the same class or not according to the distance in every class:"
   ]
  },
  {
   "cell_type": "code",
   "execution_count": 6,
   "metadata": {},
   "outputs": [],
   "source": [
    "def get_distance_through(p, q, cls):\n",
    "    nodes = pd.concat([X.loc[[p, q]], X[y == cls]])\n",
    "    dist_mat = distance_matrix(X, X)\n",
    "    return f().fit(dist_mat).get_distance(0, 1)"
   ]
  },
  {
   "cell_type": "code",
   "execution_count": 8,
   "metadata": {},
   "outputs": [
    {
     "name": "stdout",
     "output_type": "stream",
     "text": [
      "p := [5.5 2.3 4.  1.3] (class 1)\n",
      "q := [5.1 3.4 1.5 0.2] (class 0)\n",
      "all    7.4457\n",
      "0      0.0049\n",
      "1      0.0049\n",
      "2      0.0049\n",
      "dtype: float64\n",
      "p := [4.4 2.9 1.4 0.2] (class 0)\n",
      "q := [6.3 2.5 5.  1.9] (class 2)\n",
      "all    7.5240\n",
      "0      0.0049\n",
      "1      0.0049\n",
      "2      0.0049\n",
      "dtype: float64\n",
      "p := [4.9 2.5 4.5 1.7] (class 2)\n",
      "q := [5.3 3.7 1.5 0.2] (class 0)\n",
      "all    7.7649\n",
      "0      0.0049\n",
      "1      0.0049\n",
      "2      0.0049\n",
      "dtype: float64\n"
     ]
    }
   ],
   "source": [
    "for p, q in np.random.randint(0, N, (3, 2)):\n",
    "    print(f\"p := {X.loc[p].values} (class {y[p]})\")\n",
    "    print(f\"q := {X.loc[q].values} (class {y[q]})\")\n",
    "    dists = {}\n",
    "    dists[\"all\"] = f_all.get_distance(p, q)\n",
    "    for cls in classes:\n",
    "        dists[cls] = get_distance_through(p, q, cls)\n",
    "    print(pd.Series(dists))"
   ]
  },
  {
   "cell_type": "markdown",
   "metadata": {},
   "source": [
    "No tiene mucha utilidad el paquete de Fermat para clasificar as-is o estoy loco? No generaliza bien la distancia a nuevos puntos."
   ]
  },
  {
   "cell_type": "markdown",
   "metadata": {},
   "source": [
    "## Out-out-training predictions for FermatKMeans"
   ]
  },
  {
   "cell_type": "code",
   "execution_count": 9,
   "metadata": {},
   "outputs": [],
   "source": [
    "import itertools as it\n",
    "import matplotlib.pyplot as plt\n",
    "from sklearn.base import BaseEstimator, ClassifierMixin\n",
    "from sklearn.datasets import *\n",
    "from sklearn.ensemble import RandomForestClassifier\n",
    "from sklearn.metrics import euclidean_distances\n",
    "from sklearn.model_selection import train_test_split\n",
    "from numpy.random import RandomState\n",
    "from fermat.kmedoids import KMedoids"
   ]
  },
  {
   "cell_type": "code",
   "execution_count": 30,
   "metadata": {},
   "outputs": [],
   "source": [
    "class LandmarksClassifier(BaseEstimator, ClassifierMixin):\n",
    "    def __init__(\n",
    "        self, alpha=2, k=5, method=\"kmedoids\", seed=None\n",
    "    ):  # number of landmarks to take from each class\n",
    "        self.alpha = alpha\n",
    "        self.k = k\n",
    "        self.seed = seed or np.random.randint(2**32 - 1)\n",
    "        self.rs = RandomState(self.seed)\n",
    "        if method not in [\"kmedoids\", \"random\"]:\n",
    "            raise ValueError(f\"{self.method} is not a valid landmarks' choosing method\")\n",
    "        self.method = method\n",
    "\n",
    "    def fit(self, X, y):\n",
    "        self.landmarks_ = {}\n",
    "        for cls in np.unique(y):\n",
    "            X_cls = X[y == cls]\n",
    "            n_cls = X_cls.shape[0]\n",
    "            if self.method == \"kmedoids\":\n",
    "                fmt = Fermat(alpha=self.alpha, path_method=\"FW\", seed=self.seed)\n",
    "                fmt.fit(euclidean_distances(X_cls))\n",
    "                km = KMedoids(iterations=10, seed=self.seed)\n",
    "                distance_matrix = fmt.get_distances()\n",
    "                labels = km(distance_matrix, min(self.k, n_cls))\n",
    "                self.landmarks_[cls] = X_cls[km._find_centers(distance_matrix, labels)]\n",
    "            else:\n",
    "                self.landmarks_[cls] = X_cls[self.rs.randint(0, n_cls)]\n",
    "\n",
    "    def _distances(self, x):\n",
    "        distances = {}\n",
    "        for cls, landmarks in self.landmarks_.items():\n",
    "            X_cls = np.vstack([x, landmarks])\n",
    "            fmt = Fermat(alpha=self.alpha, path_method=\"FW\", seed=self.seed)\n",
    "            fmt.fit(euclidean_distances(X_cls))\n",
    "            distance_matrix = fmt.get_distances()\n",
    "            distances[cls] = distance_matrix[0].mean()  # x is at th the top of X_cls\n",
    "        return distances\n",
    "\n",
    "    def _predict(self, x):\n",
    "        distances = self._distances(x)\n",
    "        return min(distances, key=distances.get)\n",
    "\n",
    "    def predict(self, X):\n",
    "        return np.apply_along_axis(self._predict, 1, X)\n"
   ]
  },
  {
   "cell_type": "code",
   "execution_count": 31,
   "metadata": {},
   "outputs": [],
   "source": [
    "config = dict(\n",
    "    n_iter=16,\n",
    "    test_sizes=[0.1, 0.5],\n",
    "    datasets=[\"digits\", \"iris\", \"breast_cancer\", \"wine\", \"diabetes\"],\n",
    "    alphas=[0.5, 1, 1.5, 2, 3, 4],\n",
    "    ks=[3, 10, 30, 100],\n",
    "    methods=[\"kmedoids\", \"random\"],\n",
    "    # n_estimators=[3, 10, 30]   # TODO: LATER\n",
    "    # max_depths=[3, 6, 9]\n",
    ")\n",
    "simple_config = dict(\n",
    "    n_iter=1,\n",
    "    test_sizes=[0.1],\n",
    "    datasets=[\"digits\"],\n",
    "    alphas=[2],\n",
    "    ks=[10],\n",
    "    methods=[\"kmedoids\"],\n",
    "    # n_estimators=[3, 10, 30]   # TODO: LATER\n",
    "    # max_depths=[3, 6, 9]\n",
    ")"
   ]
  },
  {
   "cell_type": "code",
   "execution_count": 32,
   "metadata": {},
   "outputs": [],
   "source": [
    "def run(n_iter, test_sizes, datasets, alphas, ks, methods):\n",
    "    from sklearn import datasets as sk_datasets\n",
    "    runs = []\n",
    "    for ds, size in it.product(datasets, test_sizes):\n",
    "        log = {\"ds\": ds, \"size\": size}\n",
    "        print(log)\n",
    "        loader = eval(f\"sk_datasets.load_{ds}\")\n",
    "        X, y = loader(return_X_y=True)\n",
    "        for i in range(n_iter):\n",
    "            log[\"i\"] = i\n",
    "            print(log)\n",
    "            X_train, X_test, y_train, y_test = train_test_split(\n",
    "                X, y, test_size=size, random_state=i\n",
    "            )\n",
    "            try:\n",
    "                rfclf = RandomForestClassifier(n_estimators=10)\n",
    "                rfclf.fit(X_train, y_train)\n",
    "                runs.append({\"method\": \"rf\", \"score\": rfclf.score(X_test, y_test), **log})\n",
    "            except:\n",
    "                print(f\"Problem with RF for {log}\")\n",
    "            for alpha, k, method in it.product(alphas, ks, methods):\n",
    "                # New keys must be at the end to replace previous values in the loop\n",
    "                log = {**log, \"alpha\": alpha, \"k\": k, \"method\": method}\n",
    "                print(log)\n",
    "                try:\n",
    "                    lclf = LandmarksClassifier(alpha=alpha, k=k, method=method)\n",
    "                    lclf.fit(X_train, y_train)\n",
    "                    runs.append({\"score\": lclf.score(X_test, y_test), **log})\n",
    "                except Exception as e:\n",
    "                    print(f\"Problem with Landmarks for {log}: {e}\")\n",
    "\n",
    "    return runs\n"
   ]
  },
  {
   "cell_type": "code",
   "execution_count": 33,
   "metadata": {},
   "outputs": [
    {
     "name": "stdout",
     "output_type": "stream",
     "text": [
      "{'ds': 'digits', 'size': 0.1}\n",
      "{'ds': 'digits', 'size': 0.1, 'i': 0}\n",
      "{'ds': 'digits', 'size': 0.1, 'i': 0, 'alpha': 2, 'k': 10, 'method': 'kmedoids'}\n"
     ]
    }
   ],
   "source": [
    "runs = run(**simple_config)"
   ]
  },
  {
   "cell_type": "code",
   "execution_count": 34,
   "metadata": {},
   "outputs": [
    {
     "data": {
      "text/plain": [
       "[{'method': 'rf',\n",
       "  'score': 0.9222222222222223,\n",
       "  'ds': 'digits',\n",
       "  'size': 0.1,\n",
       "  'i': 0},\n",
       " {'score': 0.8388888888888889,\n",
       "  'ds': 'digits',\n",
       "  'size': 0.1,\n",
       "  'i': 0,\n",
       "  'alpha': 2,\n",
       "  'k': 10,\n",
       "  'method': 'kmedoids'}]"
      ]
     },
     "execution_count": 34,
     "metadata": {},
     "output_type": "execute_result"
    }
   ],
   "source": [
    "runs"
   ]
  },
  {
   "cell_type": "code",
   "execution_count": 36,
   "metadata": {},
   "outputs": [
    {
     "data": {
      "text/html": [
       "<style>#sk-container-id-2 {color: black;background-color: white;}#sk-container-id-2 pre{padding: 0;}#sk-container-id-2 div.sk-toggleable {background-color: white;}#sk-container-id-2 label.sk-toggleable__label {cursor: pointer;display: block;width: 100%;margin-bottom: 0;padding: 0.3em;box-sizing: border-box;text-align: center;}#sk-container-id-2 label.sk-toggleable__label-arrow:before {content: \"▸\";float: left;margin-right: 0.25em;color: #696969;}#sk-container-id-2 label.sk-toggleable__label-arrow:hover:before {color: black;}#sk-container-id-2 div.sk-estimator:hover label.sk-toggleable__label-arrow:before {color: black;}#sk-container-id-2 div.sk-toggleable__content {max-height: 0;max-width: 0;overflow: hidden;text-align: left;background-color: #f0f8ff;}#sk-container-id-2 div.sk-toggleable__content pre {margin: 0.2em;color: black;border-radius: 0.25em;background-color: #f0f8ff;}#sk-container-id-2 input.sk-toggleable__control:checked~div.sk-toggleable__content {max-height: 200px;max-width: 100%;overflow: auto;}#sk-container-id-2 input.sk-toggleable__control:checked~label.sk-toggleable__label-arrow:before {content: \"▾\";}#sk-container-id-2 div.sk-estimator input.sk-toggleable__control:checked~label.sk-toggleable__label {background-color: #d4ebff;}#sk-container-id-2 div.sk-label input.sk-toggleable__control:checked~label.sk-toggleable__label {background-color: #d4ebff;}#sk-container-id-2 input.sk-hidden--visually {border: 0;clip: rect(1px 1px 1px 1px);clip: rect(1px, 1px, 1px, 1px);height: 1px;margin: -1px;overflow: hidden;padding: 0;position: absolute;width: 1px;}#sk-container-id-2 div.sk-estimator {font-family: monospace;background-color: #f0f8ff;border: 1px dotted black;border-radius: 0.25em;box-sizing: border-box;margin-bottom: 0.5em;}#sk-container-id-2 div.sk-estimator:hover {background-color: #d4ebff;}#sk-container-id-2 div.sk-parallel-item::after {content: \"\";width: 100%;border-bottom: 1px solid gray;flex-grow: 1;}#sk-container-id-2 div.sk-label:hover label.sk-toggleable__label {background-color: #d4ebff;}#sk-container-id-2 div.sk-serial::before {content: \"\";position: absolute;border-left: 1px solid gray;box-sizing: border-box;top: 0;bottom: 0;left: 50%;z-index: 0;}#sk-container-id-2 div.sk-serial {display: flex;flex-direction: column;align-items: center;background-color: white;padding-right: 0.2em;padding-left: 0.2em;position: relative;}#sk-container-id-2 div.sk-item {position: relative;z-index: 1;}#sk-container-id-2 div.sk-parallel {display: flex;align-items: stretch;justify-content: center;background-color: white;position: relative;}#sk-container-id-2 div.sk-item::before, #sk-container-id-2 div.sk-parallel-item::before {content: \"\";position: absolute;border-left: 1px solid gray;box-sizing: border-box;top: 0;bottom: 0;left: 50%;z-index: -1;}#sk-container-id-2 div.sk-parallel-item {display: flex;flex-direction: column;z-index: 1;position: relative;background-color: white;}#sk-container-id-2 div.sk-parallel-item:first-child::after {align-self: flex-end;width: 50%;}#sk-container-id-2 div.sk-parallel-item:last-child::after {align-self: flex-start;width: 50%;}#sk-container-id-2 div.sk-parallel-item:only-child::after {width: 0;}#sk-container-id-2 div.sk-dashed-wrapped {border: 1px dashed gray;margin: 0 0.4em 0.5em 0.4em;box-sizing: border-box;padding-bottom: 0.4em;background-color: white;}#sk-container-id-2 div.sk-label label {font-family: monospace;font-weight: bold;display: inline-block;line-height: 1.2em;}#sk-container-id-2 div.sk-label-container {text-align: center;}#sk-container-id-2 div.sk-container {/* jupyter's `normalize.less` sets `[hidden] { display: none; }` but bootstrap.min.css set `[hidden] { display: none !important; }` so we also need the `!important` here to be able to override the default hidden behavior on the sphinx rendered scikit-learn.org. See: https://github.com/scikit-learn/scikit-learn/issues/21755 */display: inline-block !important;position: relative;}#sk-container-id-2 div.sk-text-repr-fallback {display: none;}</style><div id=\"sk-container-id-2\" class=\"sk-top-container\"><div class=\"sk-text-repr-fallback\"><pre>RandomForestClassifier(n_estimators=10)</pre><b>In a Jupyter environment, please rerun this cell to show the HTML representation or trust the notebook. <br />On GitHub, the HTML representation is unable to render, please try loading this page with nbviewer.org.</b></div><div class=\"sk-container\" hidden><div class=\"sk-item\"><div class=\"sk-estimator sk-toggleable\"><input class=\"sk-toggleable__control sk-hidden--visually\" id=\"sk-estimator-id-2\" type=\"checkbox\" checked><label for=\"sk-estimator-id-2\" class=\"sk-toggleable__label sk-toggleable__label-arrow\">RandomForestClassifier</label><div class=\"sk-toggleable__content\"><pre>RandomForestClassifier(n_estimators=10)</pre></div></div></div></div></div>"
      ],
      "text/plain": [
       "RandomForestClassifier(n_estimators=10)"
      ]
     },
     "execution_count": 36,
     "metadata": {},
     "output_type": "execute_result"
    }
   ],
   "source": [
    "# from sklearn.model_selection import train_test_split\n",
    "X, y = load_digits(return_X_y=True)\n",
    "X_train, X_test, y_train, y_test = train_test_split(X, y, test_size=0.2)\n",
    "rfclf = RandomForestClassifier(n_estimators=10)\n",
    "rfclf.fit(X_train, y_train)\n"
   ]
  },
  {
   "cell_type": "code",
   "execution_count": 37,
   "metadata": {},
   "outputs": [
    {
     "data": {
      "text/plain": [
       "0.9472222222222222"
      ]
     },
     "execution_count": 37,
     "metadata": {},
     "output_type": "execute_result"
    }
   ],
   "source": [
    "rfclf.score(X_test, y_test)"
   ]
  },
  {
   "cell_type": "code",
   "execution_count": 38,
   "metadata": {},
   "outputs": [],
   "source": [
    "classes = {}\n",
    "alpha = 2\n",
    "seed = 34\n",
    "X_train, X_test, y_train, y_test = train_test_split(\n",
    "    X, y, stratify=y, test_size=0.2, random_state=seed\n",
    ")\n",
    "for cls in np.unique(y_train):\n",
    "    X = X_train[y_train == cls]\n",
    "    n = X.shape[0]\n",
    "    fmt = Fermat(alpha=alpha, path_method=\"FW\", seed=seed)\n",
    "    fmt.fit(euclidean_distances(X))\n",
    "    classes[cls] = dict(verts=X, dists=fmt.get_distances())"
   ]
  },
  {
   "cell_type": "code",
   "execution_count": 39,
   "metadata": {},
   "outputs": [
    {
     "data": {
      "text/plain": [
       "(142, 142)"
      ]
     },
     "execution_count": 39,
     "metadata": {},
     "output_type": "execute_result"
    }
   ],
   "source": [
    "classes[0][\"dists\"].shape"
   ]
  },
  {
   "cell_type": "code",
   "execution_count": 40,
   "metadata": {},
   "outputs": [],
   "source": [
    "ix = np.random.randint(0, X_test.shape[0])\n",
    "x, y = X_test[ix], y_test[ix]\n",
    "# plt.imshow(1- x.reshape(8,8), cmap=\"gray\")\n",
    "# plt.suptitle(y), plt.show()"
   ]
  },
  {
   "cell_type": "code",
   "execution_count": 41,
   "metadata": {},
   "outputs": [
    {
     "data": {
      "text/plain": [
       "(246,\n",
       " 6,\n",
       " array([ 0.,  0.,  4., 14.,  6.,  0.,  0.,  0.,  0.,  0., 10., 15.,  2.,\n",
       "         0.,  0.,  0.,  0.,  0., 16., 11.,  0.,  0.,  0.,  0.,  0.,  0.,\n",
       "        13., 11.,  0.,  0.,  0.,  0.,  0.,  3., 16., 12.,  8.,  3.,  0.,\n",
       "         0.,  0.,  2., 16., 14.,  8., 12.,  9.,  0.,  0.,  0., 16., 13.,\n",
       "         4., 12., 12.,  0.,  0.,  0.,  6., 15., 16., 12.,  1.,  0.]))"
      ]
     },
     "execution_count": 41,
     "metadata": {},
     "output_type": "execute_result"
    }
   ],
   "source": [
    "ix, y, x"
   ]
  },
  {
   "cell_type": "code",
   "execution_count": 42,
   "metadata": {},
   "outputs": [],
   "source": [
    "cls = 2\n",
    "klass = classes[cls]\n",
    "verts, dists = klass[\"verts\"], klass[\"dists\"]\n",
    "n = verts.shape[0]\n",
    "to_verts = euclidean_distances(x.reshape(1, -1), verts)[0] ** alpha\n",
    "all_dists = fmt.fit(euclidean_distances(np.vstack([x, verts]))).get_distances()\n"
   ]
  },
  {
   "cell_type": "code",
   "execution_count": 43,
   "metadata": {},
   "outputs": [],
   "source": [
    "new_dists = [min(to_verts + dists[:, i]) for i in range(n)]\n",
    "assert np.allclose([0] + new_dists, all_dists[0])"
   ]
  },
  {
   "cell_type": "markdown",
   "metadata": {},
   "source": [
    "### ÉXITO PAPÁÁÁÁÁÁÁ"
   ]
  },
  {
   "cell_type": "code",
   "execution_count": 44,
   "metadata": {},
   "outputs": [],
   "source": [
    "from scipy.stats import norm\n",
    "kern = norm.pdf"
   ]
  },
  {
   "cell_type": "code",
   "execution_count": 45,
   "metadata": {},
   "outputs": [],
   "source": [
    "mu, sigma = np.mean(all_dists), np.std(all_dists)\n",
    "hs = np.linspace(mu - 2 * sigma, mu + 2 * sigma, 5)  # bandwiths"
   ]
  },
  {
   "cell_type": "code",
   "execution_count": 46,
   "metadata": {},
   "outputs": [
    {
     "data": {
      "text/plain": [
       "array([ 104.82043737,  696.00853645, 1287.19663553, 1878.38473461,\n",
       "       2469.57283369])"
      ]
     },
     "execution_count": 46,
     "metadata": {},
     "output_type": "execute_result"
    }
   ],
   "source": [
    "hs"
   ]
  },
  {
   "cell_type": "code",
   "execution_count": 47,
   "metadata": {},
   "outputs": [],
   "source": [
    "h = mu\n"
   ]
  },
  {
   "cell_type": "code",
   "execution_count": 48,
   "metadata": {},
   "outputs": [
    {
     "data": {
      "text/plain": [
       "(360,)"
      ]
     },
     "execution_count": 48,
     "metadata": {},
     "output_type": "execute_result"
    }
   ],
   "source": [
    "y_test.shape"
   ]
  },
  {
   "cell_type": "code",
   "execution_count": 49,
   "metadata": {},
   "outputs": [],
   "source": [
    "preds = []\n",
    "fhats = []\n",
    "for x in X_test:\n",
    "    fhat = {}\n",
    "    for cls in classes.keys():\n",
    "        klass = classes[cls]\n",
    "        verts, dists = klass[\"verts\"], klass[\"dists\"]\n",
    "        n = verts.shape[0]\n",
    "        to_verts = euclidean_distances(x.reshape(1, -1), verts)[0] ** alpha\n",
    "        fmt_dists = [min(to_verts + dists[:, i]) for i in range(n)]\n",
    "        # print(cls, np.mean(fmt_dists))\n",
    "        fhat[cls] = (1 / h**D) * np.mean([kern(d / h) for d in fmt_dists])\n",
    "    fhats.append(fhat)\n",
    "    preds.append(pd.Series(fhat).argmax())"
   ]
  },
  {
   "cell_type": "code",
   "execution_count": 54,
   "metadata": {},
   "outputs": [
    {
     "data": {
      "text/html": [
       "<div>\n",
       "<style scoped>\n",
       "    .dataframe tbody tr th:only-of-type {\n",
       "        vertical-align: middle;\n",
       "    }\n",
       "\n",
       "    .dataframe tbody tr th {\n",
       "        vertical-align: top;\n",
       "    }\n",
       "\n",
       "    .dataframe thead th {\n",
       "        text-align: right;\n",
       "    }\n",
       "</style>\n",
       "<table border=\"1\" class=\"dataframe\">\n",
       "  <thead>\n",
       "    <tr style=\"text-align: right;\">\n",
       "      <th></th>\n",
       "      <th>0</th>\n",
       "      <th>1</th>\n",
       "      <th>2</th>\n",
       "      <th>3</th>\n",
       "      <th>4</th>\n",
       "      <th>5</th>\n",
       "      <th>6</th>\n",
       "      <th>7</th>\n",
       "      <th>8</th>\n",
       "      <th>9</th>\n",
       "      <th>true</th>\n",
       "      <th>pred</th>\n",
       "    </tr>\n",
       "  </thead>\n",
       "  <tbody>\n",
       "    <tr>\n",
       "      <th>94</th>\n",
       "      <td>-30.577</td>\n",
       "      <td>-30.818</td>\n",
       "      <td>-31.386</td>\n",
       "      <td>-31.059</td>\n",
       "      <td>-30.903</td>\n",
       "      <td>-31.072</td>\n",
       "      <td>-29.716</td>\n",
       "      <td>-32.232</td>\n",
       "      <td>-30.617</td>\n",
       "      <td>-31.187</td>\n",
       "      <td>6</td>\n",
       "      <td>6</td>\n",
       "    </tr>\n",
       "    <tr>\n",
       "      <th>276</th>\n",
       "      <td>-32.047</td>\n",
       "      <td>-30.095</td>\n",
       "      <td>-31.730</td>\n",
       "      <td>-31.226</td>\n",
       "      <td>-30.659</td>\n",
       "      <td>-31.350</td>\n",
       "      <td>-31.721</td>\n",
       "      <td>-31.512</td>\n",
       "      <td>-30.765</td>\n",
       "      <td>-31.066</td>\n",
       "      <td>1</td>\n",
       "      <td>1</td>\n",
       "    </tr>\n",
       "    <tr>\n",
       "      <th>118</th>\n",
       "      <td>-30.770</td>\n",
       "      <td>-30.820</td>\n",
       "      <td>-30.945</td>\n",
       "      <td>-30.366</td>\n",
       "      <td>-31.504</td>\n",
       "      <td>-31.018</td>\n",
       "      <td>-31.255</td>\n",
       "      <td>-30.665</td>\n",
       "      <td>-30.020</td>\n",
       "      <td>-30.402</td>\n",
       "      <td>8</td>\n",
       "      <td>8</td>\n",
       "    </tr>\n",
       "    <tr>\n",
       "      <th>252</th>\n",
       "      <td>-30.674</td>\n",
       "      <td>-31.537</td>\n",
       "      <td>-31.151</td>\n",
       "      <td>-31.803</td>\n",
       "      <td>-30.873</td>\n",
       "      <td>-31.567</td>\n",
       "      <td>-29.773</td>\n",
       "      <td>-32.267</td>\n",
       "      <td>-31.219</td>\n",
       "      <td>-31.850</td>\n",
       "      <td>6</td>\n",
       "      <td>6</td>\n",
       "    </tr>\n",
       "    <tr>\n",
       "      <th>89</th>\n",
       "      <td>-31.489</td>\n",
       "      <td>-30.021</td>\n",
       "      <td>-30.569</td>\n",
       "      <td>-30.958</td>\n",
       "      <td>-31.023</td>\n",
       "      <td>-31.215</td>\n",
       "      <td>-30.377</td>\n",
       "      <td>-31.325</td>\n",
       "      <td>-30.181</td>\n",
       "      <td>-31.453</td>\n",
       "      <td>1</td>\n",
       "      <td>1</td>\n",
       "    </tr>\n",
       "    <tr>\n",
       "      <th>80</th>\n",
       "      <td>-30.668</td>\n",
       "      <td>-30.349</td>\n",
       "      <td>-30.848</td>\n",
       "      <td>-30.648</td>\n",
       "      <td>-30.909</td>\n",
       "      <td>-30.929</td>\n",
       "      <td>-30.831</td>\n",
       "      <td>-30.896</td>\n",
       "      <td>-29.978</td>\n",
       "      <td>-30.867</td>\n",
       "      <td>8</td>\n",
       "      <td>8</td>\n",
       "    </tr>\n",
       "    <tr>\n",
       "      <th>148</th>\n",
       "      <td>-31.433</td>\n",
       "      <td>-31.345</td>\n",
       "      <td>-33.406</td>\n",
       "      <td>-31.963</td>\n",
       "      <td>-31.445</td>\n",
       "      <td>-31.167</td>\n",
       "      <td>-32.215</td>\n",
       "      <td>-31.652</td>\n",
       "      <td>-31.498</td>\n",
       "      <td>-30.636</td>\n",
       "      <td>9</td>\n",
       "      <td>9</td>\n",
       "    </tr>\n",
       "    <tr>\n",
       "      <th>111</th>\n",
       "      <td>-29.720</td>\n",
       "      <td>-33.193</td>\n",
       "      <td>-31.878</td>\n",
       "      <td>-31.420</td>\n",
       "      <td>-32.010</td>\n",
       "      <td>-31.318</td>\n",
       "      <td>-30.960</td>\n",
       "      <td>-33.082</td>\n",
       "      <td>-31.557</td>\n",
       "      <td>-30.676</td>\n",
       "      <td>0</td>\n",
       "      <td>0</td>\n",
       "    </tr>\n",
       "    <tr>\n",
       "      <th>9</th>\n",
       "      <td>-31.789</td>\n",
       "      <td>-30.205</td>\n",
       "      <td>-31.641</td>\n",
       "      <td>-31.564</td>\n",
       "      <td>-31.134</td>\n",
       "      <td>-31.790</td>\n",
       "      <td>-31.568</td>\n",
       "      <td>-30.649</td>\n",
       "      <td>-30.435</td>\n",
       "      <td>-31.820</td>\n",
       "      <td>1</td>\n",
       "      <td>1</td>\n",
       "    </tr>\n",
       "    <tr>\n",
       "      <th>357</th>\n",
       "      <td>-32.124</td>\n",
       "      <td>-32.078</td>\n",
       "      <td>-32.346</td>\n",
       "      <td>-31.483</td>\n",
       "      <td>-31.317</td>\n",
       "      <td>-31.655</td>\n",
       "      <td>-32.779</td>\n",
       "      <td>-30.219</td>\n",
       "      <td>-31.518</td>\n",
       "      <td>-31.882</td>\n",
       "      <td>7</td>\n",
       "      <td>7</td>\n",
       "    </tr>\n",
       "  </tbody>\n",
       "</table>\n",
       "</div>"
      ],
      "text/plain": [
       "          0       1       2       3       4       5       6       7       8  \\\n",
       "94  -30.577 -30.818 -31.386 -31.059 -30.903 -31.072 -29.716 -32.232 -30.617   \n",
       "276 -32.047 -30.095 -31.730 -31.226 -30.659 -31.350 -31.721 -31.512 -30.765   \n",
       "118 -30.770 -30.820 -30.945 -30.366 -31.504 -31.018 -31.255 -30.665 -30.020   \n",
       "252 -30.674 -31.537 -31.151 -31.803 -30.873 -31.567 -29.773 -32.267 -31.219   \n",
       "89  -31.489 -30.021 -30.569 -30.958 -31.023 -31.215 -30.377 -31.325 -30.181   \n",
       "80  -30.668 -30.349 -30.848 -30.648 -30.909 -30.929 -30.831 -30.896 -29.978   \n",
       "148 -31.433 -31.345 -33.406 -31.963 -31.445 -31.167 -32.215 -31.652 -31.498   \n",
       "111 -29.720 -33.193 -31.878 -31.420 -32.010 -31.318 -30.960 -33.082 -31.557   \n",
       "9   -31.789 -30.205 -31.641 -31.564 -31.134 -31.790 -31.568 -30.649 -30.435   \n",
       "357 -32.124 -32.078 -32.346 -31.483 -31.317 -31.655 -32.779 -30.219 -31.518   \n",
       "\n",
       "          9  true  pred  \n",
       "94  -31.187     6     6  \n",
       "276 -31.066     1     1  \n",
       "118 -30.402     8     8  \n",
       "252 -31.850     6     6  \n",
       "89  -31.453     1     1  \n",
       "80  -30.867     8     8  \n",
       "148 -30.636     9     9  \n",
       "111 -30.676     0     0  \n",
       "9   -31.820     1     1  \n",
       "357 -31.882     7     7  "
      ]
     },
     "execution_count": 54,
     "metadata": {},
     "output_type": "execute_result"
    }
   ],
   "source": [
    "densities = np.log(pd.DataFrame(fhats)).round(3)\n",
    "densities[\"true\"] = y_test\n",
    "densities[\"pred\"] = preds\n",
    "densities.sample(10)"
   ]
  },
  {
   "cell_type": "code",
   "execution_count": 55,
   "metadata": {},
   "outputs": [
    {
     "data": {
      "text/html": [
       "<div>\n",
       "<style scoped>\n",
       "    .dataframe tbody tr th:only-of-type {\n",
       "        vertical-align: middle;\n",
       "    }\n",
       "\n",
       "    .dataframe tbody tr th {\n",
       "        vertical-align: top;\n",
       "    }\n",
       "\n",
       "    .dataframe thead th {\n",
       "        text-align: right;\n",
       "    }\n",
       "</style>\n",
       "<table border=\"1\" class=\"dataframe\">\n",
       "  <thead>\n",
       "    <tr style=\"text-align: right;\">\n",
       "      <th></th>\n",
       "      <th>0</th>\n",
       "      <th>1</th>\n",
       "      <th>2</th>\n",
       "      <th>3</th>\n",
       "      <th>4</th>\n",
       "      <th>5</th>\n",
       "      <th>6</th>\n",
       "      <th>7</th>\n",
       "      <th>8</th>\n",
       "      <th>9</th>\n",
       "      <th>true</th>\n",
       "      <th>pred</th>\n",
       "    </tr>\n",
       "  </thead>\n",
       "  <tbody>\n",
       "    <tr>\n",
       "      <th>8</th>\n",
       "      <td>-30.974</td>\n",
       "      <td>-32.283</td>\n",
       "      <td>-31.193</td>\n",
       "      <td>-30.655</td>\n",
       "      <td>-33.247</td>\n",
       "      <td>-30.684</td>\n",
       "      <td>-31.066</td>\n",
       "      <td>-33.380</td>\n",
       "      <td>-31.615</td>\n",
       "      <td>-30.382</td>\n",
       "      <td>5</td>\n",
       "      <td>9</td>\n",
       "    </tr>\n",
       "    <tr>\n",
       "      <th>13</th>\n",
       "      <td>-30.200</td>\n",
       "      <td>-31.534</td>\n",
       "      <td>-31.235</td>\n",
       "      <td>-30.482</td>\n",
       "      <td>-31.087</td>\n",
       "      <td>-30.570</td>\n",
       "      <td>-30.389</td>\n",
       "      <td>-30.764</td>\n",
       "      <td>-30.210</td>\n",
       "      <td>-30.274</td>\n",
       "      <td>8</td>\n",
       "      <td>0</td>\n",
       "    </tr>\n",
       "    <tr>\n",
       "      <th>39</th>\n",
       "      <td>-31.771</td>\n",
       "      <td>-31.017</td>\n",
       "      <td>-30.574</td>\n",
       "      <td>-30.719</td>\n",
       "      <td>-31.801</td>\n",
       "      <td>-31.050</td>\n",
       "      <td>-31.248</td>\n",
       "      <td>-31.165</td>\n",
       "      <td>-30.756</td>\n",
       "      <td>-30.923</td>\n",
       "      <td>8</td>\n",
       "      <td>2</td>\n",
       "    </tr>\n",
       "    <tr>\n",
       "      <th>52</th>\n",
       "      <td>-31.150</td>\n",
       "      <td>-31.094</td>\n",
       "      <td>-30.480</td>\n",
       "      <td>-30.442</td>\n",
       "      <td>-31.898</td>\n",
       "      <td>-31.902</td>\n",
       "      <td>-31.598</td>\n",
       "      <td>-31.116</td>\n",
       "      <td>-31.167</td>\n",
       "      <td>-30.922</td>\n",
       "      <td>2</td>\n",
       "      <td>3</td>\n",
       "    </tr>\n",
       "    <tr>\n",
       "      <th>60</th>\n",
       "      <td>-31.666</td>\n",
       "      <td>-30.122</td>\n",
       "      <td>-30.398</td>\n",
       "      <td>-30.509</td>\n",
       "      <td>-30.971</td>\n",
       "      <td>-31.302</td>\n",
       "      <td>-31.088</td>\n",
       "      <td>-30.576</td>\n",
       "      <td>-30.157</td>\n",
       "      <td>-31.183</td>\n",
       "      <td>8</td>\n",
       "      <td>1</td>\n",
       "    </tr>\n",
       "    <tr>\n",
       "      <th>62</th>\n",
       "      <td>-32.076</td>\n",
       "      <td>-30.826</td>\n",
       "      <td>-33.099</td>\n",
       "      <td>-31.985</td>\n",
       "      <td>-30.922</td>\n",
       "      <td>-31.222</td>\n",
       "      <td>-32.618</td>\n",
       "      <td>-30.754</td>\n",
       "      <td>-31.012</td>\n",
       "      <td>-30.958</td>\n",
       "      <td>9</td>\n",
       "      <td>7</td>\n",
       "    </tr>\n",
       "    <tr>\n",
       "      <th>63</th>\n",
       "      <td>-30.975</td>\n",
       "      <td>-30.808</td>\n",
       "      <td>-31.532</td>\n",
       "      <td>-31.998</td>\n",
       "      <td>-31.841</td>\n",
       "      <td>-30.745</td>\n",
       "      <td>-31.670</td>\n",
       "      <td>-30.955</td>\n",
       "      <td>-30.749</td>\n",
       "      <td>-31.520</td>\n",
       "      <td>8</td>\n",
       "      <td>5</td>\n",
       "    </tr>\n",
       "    <tr>\n",
       "      <th>95</th>\n",
       "      <td>-30.876</td>\n",
       "      <td>-31.507</td>\n",
       "      <td>-31.576</td>\n",
       "      <td>-30.979</td>\n",
       "      <td>-31.118</td>\n",
       "      <td>-30.607</td>\n",
       "      <td>-32.689</td>\n",
       "      <td>-30.328</td>\n",
       "      <td>-30.702</td>\n",
       "      <td>-30.441</td>\n",
       "      <td>9</td>\n",
       "      <td>7</td>\n",
       "    </tr>\n",
       "    <tr>\n",
       "      <th>146</th>\n",
       "      <td>-30.260</td>\n",
       "      <td>-32.156</td>\n",
       "      <td>-30.791</td>\n",
       "      <td>-30.775</td>\n",
       "      <td>-32.047</td>\n",
       "      <td>-32.111</td>\n",
       "      <td>-31.454</td>\n",
       "      <td>-31.619</td>\n",
       "      <td>-31.300</td>\n",
       "      <td>-31.010</td>\n",
       "      <td>2</td>\n",
       "      <td>0</td>\n",
       "    </tr>\n",
       "    <tr>\n",
       "      <th>187</th>\n",
       "      <td>-31.940</td>\n",
       "      <td>-30.841</td>\n",
       "      <td>-31.470</td>\n",
       "      <td>-31.323</td>\n",
       "      <td>-31.090</td>\n",
       "      <td>-30.455</td>\n",
       "      <td>-31.975</td>\n",
       "      <td>-30.449</td>\n",
       "      <td>-30.558</td>\n",
       "      <td>-30.911</td>\n",
       "      <td>9</td>\n",
       "      <td>7</td>\n",
       "    </tr>\n",
       "    <tr>\n",
       "      <th>199</th>\n",
       "      <td>-31.137</td>\n",
       "      <td>-30.812</td>\n",
       "      <td>-32.964</td>\n",
       "      <td>-31.684</td>\n",
       "      <td>-31.664</td>\n",
       "      <td>-32.009</td>\n",
       "      <td>-32.908</td>\n",
       "      <td>-32.445</td>\n",
       "      <td>-31.990</td>\n",
       "      <td>-30.780</td>\n",
       "      <td>1</td>\n",
       "      <td>9</td>\n",
       "    </tr>\n",
       "    <tr>\n",
       "      <th>203</th>\n",
       "      <td>-31.810</td>\n",
       "      <td>-30.827</td>\n",
       "      <td>-31.228</td>\n",
       "      <td>-31.332</td>\n",
       "      <td>-32.058</td>\n",
       "      <td>-30.416</td>\n",
       "      <td>-32.363</td>\n",
       "      <td>-31.101</td>\n",
       "      <td>-30.947</td>\n",
       "      <td>-31.565</td>\n",
       "      <td>9</td>\n",
       "      <td>5</td>\n",
       "    </tr>\n",
       "    <tr>\n",
       "      <th>220</th>\n",
       "      <td>-31.008</td>\n",
       "      <td>-31.837</td>\n",
       "      <td>-30.838</td>\n",
       "      <td>-30.804</td>\n",
       "      <td>-31.946</td>\n",
       "      <td>-31.666</td>\n",
       "      <td>-32.401</td>\n",
       "      <td>-30.375</td>\n",
       "      <td>-31.009</td>\n",
       "      <td>-31.117</td>\n",
       "      <td>2</td>\n",
       "      <td>7</td>\n",
       "    </tr>\n",
       "    <tr>\n",
       "      <th>221</th>\n",
       "      <td>-33.042</td>\n",
       "      <td>-30.722</td>\n",
       "      <td>-30.382</td>\n",
       "      <td>-31.763</td>\n",
       "      <td>-32.727</td>\n",
       "      <td>-31.242</td>\n",
       "      <td>-31.321</td>\n",
       "      <td>-33.410</td>\n",
       "      <td>-31.308</td>\n",
       "      <td>-31.962</td>\n",
       "      <td>1</td>\n",
       "      <td>2</td>\n",
       "    </tr>\n",
       "    <tr>\n",
       "      <th>222</th>\n",
       "      <td>-32.214</td>\n",
       "      <td>-30.578</td>\n",
       "      <td>-30.513</td>\n",
       "      <td>-31.389</td>\n",
       "      <td>-32.398</td>\n",
       "      <td>-31.418</td>\n",
       "      <td>-30.993</td>\n",
       "      <td>-33.024</td>\n",
       "      <td>-31.250</td>\n",
       "      <td>-31.819</td>\n",
       "      <td>1</td>\n",
       "      <td>2</td>\n",
       "    </tr>\n",
       "    <tr>\n",
       "      <th>255</th>\n",
       "      <td>-31.250</td>\n",
       "      <td>-30.652</td>\n",
       "      <td>-32.121</td>\n",
       "      <td>-31.093</td>\n",
       "      <td>-31.844</td>\n",
       "      <td>-31.756</td>\n",
       "      <td>-32.498</td>\n",
       "      <td>-32.205</td>\n",
       "      <td>-31.435</td>\n",
       "      <td>-30.615</td>\n",
       "      <td>1</td>\n",
       "      <td>9</td>\n",
       "    </tr>\n",
       "    <tr>\n",
       "      <th>267</th>\n",
       "      <td>-30.060</td>\n",
       "      <td>-31.834</td>\n",
       "      <td>-31.245</td>\n",
       "      <td>-30.493</td>\n",
       "      <td>-31.781</td>\n",
       "      <td>-30.670</td>\n",
       "      <td>-30.857</td>\n",
       "      <td>-31.043</td>\n",
       "      <td>-30.369</td>\n",
       "      <td>-30.065</td>\n",
       "      <td>9</td>\n",
       "      <td>0</td>\n",
       "    </tr>\n",
       "    <tr>\n",
       "      <th>328</th>\n",
       "      <td>-31.573</td>\n",
       "      <td>-30.540</td>\n",
       "      <td>-30.765</td>\n",
       "      <td>-31.492</td>\n",
       "      <td>-31.332</td>\n",
       "      <td>-32.848</td>\n",
       "      <td>-31.291</td>\n",
       "      <td>-31.235</td>\n",
       "      <td>-30.641</td>\n",
       "      <td>-32.012</td>\n",
       "      <td>2</td>\n",
       "      <td>1</td>\n",
       "    </tr>\n",
       "    <tr>\n",
       "      <th>344</th>\n",
       "      <td>-30.369</td>\n",
       "      <td>-31.535</td>\n",
       "      <td>-31.457</td>\n",
       "      <td>-30.574</td>\n",
       "      <td>-32.294</td>\n",
       "      <td>-30.770</td>\n",
       "      <td>-32.418</td>\n",
       "      <td>-31.417</td>\n",
       "      <td>-30.918</td>\n",
       "      <td>-30.485</td>\n",
       "      <td>5</td>\n",
       "      <td>0</td>\n",
       "    </tr>\n",
       "    <tr>\n",
       "      <th>347</th>\n",
       "      <td>-30.573</td>\n",
       "      <td>-30.843</td>\n",
       "      <td>-30.677</td>\n",
       "      <td>-30.107</td>\n",
       "      <td>-31.504</td>\n",
       "      <td>-30.565</td>\n",
       "      <td>-30.228</td>\n",
       "      <td>-31.537</td>\n",
       "      <td>-30.216</td>\n",
       "      <td>-30.260</td>\n",
       "      <td>8</td>\n",
       "      <td>3</td>\n",
       "    </tr>\n",
       "    <tr>\n",
       "      <th>352</th>\n",
       "      <td>-30.364</td>\n",
       "      <td>-31.873</td>\n",
       "      <td>-31.111</td>\n",
       "      <td>-30.256</td>\n",
       "      <td>-32.227</td>\n",
       "      <td>-30.110</td>\n",
       "      <td>-31.249</td>\n",
       "      <td>-31.861</td>\n",
       "      <td>-30.808</td>\n",
       "      <td>-30.097</td>\n",
       "      <td>5</td>\n",
       "      <td>9</td>\n",
       "    </tr>\n",
       "  </tbody>\n",
       "</table>\n",
       "</div>"
      ],
      "text/plain": [
       "          0       1       2       3       4       5       6       7       8  \\\n",
       "8   -30.974 -32.283 -31.193 -30.655 -33.247 -30.684 -31.066 -33.380 -31.615   \n",
       "13  -30.200 -31.534 -31.235 -30.482 -31.087 -30.570 -30.389 -30.764 -30.210   \n",
       "39  -31.771 -31.017 -30.574 -30.719 -31.801 -31.050 -31.248 -31.165 -30.756   \n",
       "52  -31.150 -31.094 -30.480 -30.442 -31.898 -31.902 -31.598 -31.116 -31.167   \n",
       "60  -31.666 -30.122 -30.398 -30.509 -30.971 -31.302 -31.088 -30.576 -30.157   \n",
       "62  -32.076 -30.826 -33.099 -31.985 -30.922 -31.222 -32.618 -30.754 -31.012   \n",
       "63  -30.975 -30.808 -31.532 -31.998 -31.841 -30.745 -31.670 -30.955 -30.749   \n",
       "95  -30.876 -31.507 -31.576 -30.979 -31.118 -30.607 -32.689 -30.328 -30.702   \n",
       "146 -30.260 -32.156 -30.791 -30.775 -32.047 -32.111 -31.454 -31.619 -31.300   \n",
       "187 -31.940 -30.841 -31.470 -31.323 -31.090 -30.455 -31.975 -30.449 -30.558   \n",
       "199 -31.137 -30.812 -32.964 -31.684 -31.664 -32.009 -32.908 -32.445 -31.990   \n",
       "203 -31.810 -30.827 -31.228 -31.332 -32.058 -30.416 -32.363 -31.101 -30.947   \n",
       "220 -31.008 -31.837 -30.838 -30.804 -31.946 -31.666 -32.401 -30.375 -31.009   \n",
       "221 -33.042 -30.722 -30.382 -31.763 -32.727 -31.242 -31.321 -33.410 -31.308   \n",
       "222 -32.214 -30.578 -30.513 -31.389 -32.398 -31.418 -30.993 -33.024 -31.250   \n",
       "255 -31.250 -30.652 -32.121 -31.093 -31.844 -31.756 -32.498 -32.205 -31.435   \n",
       "267 -30.060 -31.834 -31.245 -30.493 -31.781 -30.670 -30.857 -31.043 -30.369   \n",
       "328 -31.573 -30.540 -30.765 -31.492 -31.332 -32.848 -31.291 -31.235 -30.641   \n",
       "344 -30.369 -31.535 -31.457 -30.574 -32.294 -30.770 -32.418 -31.417 -30.918   \n",
       "347 -30.573 -30.843 -30.677 -30.107 -31.504 -30.565 -30.228 -31.537 -30.216   \n",
       "352 -30.364 -31.873 -31.111 -30.256 -32.227 -30.110 -31.249 -31.861 -30.808   \n",
       "\n",
       "          9  true  pred  \n",
       "8   -30.382     5     9  \n",
       "13  -30.274     8     0  \n",
       "39  -30.923     8     2  \n",
       "52  -30.922     2     3  \n",
       "60  -31.183     8     1  \n",
       "62  -30.958     9     7  \n",
       "63  -31.520     8     5  \n",
       "95  -30.441     9     7  \n",
       "146 -31.010     2     0  \n",
       "187 -30.911     9     7  \n",
       "199 -30.780     1     9  \n",
       "203 -31.565     9     5  \n",
       "220 -31.117     2     7  \n",
       "221 -31.962     1     2  \n",
       "222 -31.819     1     2  \n",
       "255 -30.615     1     9  \n",
       "267 -30.065     9     0  \n",
       "328 -32.012     2     1  \n",
       "344 -30.485     5     0  \n",
       "347 -30.260     8     3  \n",
       "352 -30.097     5     9  "
      ]
     },
     "execution_count": 55,
     "metadata": {},
     "output_type": "execute_result"
    }
   ],
   "source": [
    "densities[densities.true != densities.pred]"
   ]
  },
  {
   "cell_type": "code",
   "execution_count": 56,
   "metadata": {},
   "outputs": [
    {
     "name": "stderr",
     "output_type": "stream",
     "text": [
      "/var/folders/h3/d7vpv1m17lv29p7dw5y0yy1c0000gn/T/ipykernel_20428/399187629.py:3: FutureWarning: In a future version of pandas all arguments of DataFrame.pivot will be keyword-only.\n",
      "  ).rename(\"n\").reset_index().pivot(\"y_test\", \"preds\").fillna(0).astype(int)\n"
     ]
    },
    {
     "data": {
      "text/html": [
       "<div>\n",
       "<style scoped>\n",
       "    .dataframe tbody tr th:only-of-type {\n",
       "        vertical-align: middle;\n",
       "    }\n",
       "\n",
       "    .dataframe tbody tr th {\n",
       "        vertical-align: top;\n",
       "    }\n",
       "\n",
       "    .dataframe thead tr th {\n",
       "        text-align: left;\n",
       "    }\n",
       "\n",
       "    .dataframe thead tr:last-of-type th {\n",
       "        text-align: right;\n",
       "    }\n",
       "</style>\n",
       "<table border=\"1\" class=\"dataframe\">\n",
       "  <thead>\n",
       "    <tr>\n",
       "      <th></th>\n",
       "      <th colspan=\"10\" halign=\"left\">n</th>\n",
       "    </tr>\n",
       "    <tr>\n",
       "      <th>preds</th>\n",
       "      <th>0</th>\n",
       "      <th>1</th>\n",
       "      <th>2</th>\n",
       "      <th>3</th>\n",
       "      <th>4</th>\n",
       "      <th>5</th>\n",
       "      <th>6</th>\n",
       "      <th>7</th>\n",
       "      <th>8</th>\n",
       "      <th>9</th>\n",
       "    </tr>\n",
       "    <tr>\n",
       "      <th>y_test</th>\n",
       "      <th></th>\n",
       "      <th></th>\n",
       "      <th></th>\n",
       "      <th></th>\n",
       "      <th></th>\n",
       "      <th></th>\n",
       "      <th></th>\n",
       "      <th></th>\n",
       "      <th></th>\n",
       "      <th></th>\n",
       "    </tr>\n",
       "  </thead>\n",
       "  <tbody>\n",
       "    <tr>\n",
       "      <th>0</th>\n",
       "      <td>36</td>\n",
       "      <td>0</td>\n",
       "      <td>0</td>\n",
       "      <td>0</td>\n",
       "      <td>0</td>\n",
       "      <td>0</td>\n",
       "      <td>0</td>\n",
       "      <td>0</td>\n",
       "      <td>0</td>\n",
       "      <td>0</td>\n",
       "    </tr>\n",
       "    <tr>\n",
       "      <th>1</th>\n",
       "      <td>0</td>\n",
       "      <td>33</td>\n",
       "      <td>2</td>\n",
       "      <td>0</td>\n",
       "      <td>0</td>\n",
       "      <td>0</td>\n",
       "      <td>0</td>\n",
       "      <td>0</td>\n",
       "      <td>0</td>\n",
       "      <td>2</td>\n",
       "    </tr>\n",
       "    <tr>\n",
       "      <th>2</th>\n",
       "      <td>1</td>\n",
       "      <td>1</td>\n",
       "      <td>31</td>\n",
       "      <td>1</td>\n",
       "      <td>0</td>\n",
       "      <td>0</td>\n",
       "      <td>0</td>\n",
       "      <td>1</td>\n",
       "      <td>0</td>\n",
       "      <td>0</td>\n",
       "    </tr>\n",
       "    <tr>\n",
       "      <th>3</th>\n",
       "      <td>0</td>\n",
       "      <td>0</td>\n",
       "      <td>0</td>\n",
       "      <td>37</td>\n",
       "      <td>0</td>\n",
       "      <td>0</td>\n",
       "      <td>0</td>\n",
       "      <td>0</td>\n",
       "      <td>0</td>\n",
       "      <td>0</td>\n",
       "    </tr>\n",
       "    <tr>\n",
       "      <th>4</th>\n",
       "      <td>0</td>\n",
       "      <td>0</td>\n",
       "      <td>0</td>\n",
       "      <td>0</td>\n",
       "      <td>36</td>\n",
       "      <td>0</td>\n",
       "      <td>0</td>\n",
       "      <td>0</td>\n",
       "      <td>0</td>\n",
       "      <td>0</td>\n",
       "    </tr>\n",
       "    <tr>\n",
       "      <th>5</th>\n",
       "      <td>1</td>\n",
       "      <td>0</td>\n",
       "      <td>0</td>\n",
       "      <td>0</td>\n",
       "      <td>0</td>\n",
       "      <td>33</td>\n",
       "      <td>0</td>\n",
       "      <td>0</td>\n",
       "      <td>0</td>\n",
       "      <td>2</td>\n",
       "    </tr>\n",
       "    <tr>\n",
       "      <th>6</th>\n",
       "      <td>0</td>\n",
       "      <td>0</td>\n",
       "      <td>0</td>\n",
       "      <td>0</td>\n",
       "      <td>0</td>\n",
       "      <td>0</td>\n",
       "      <td>36</td>\n",
       "      <td>0</td>\n",
       "      <td>0</td>\n",
       "      <td>0</td>\n",
       "    </tr>\n",
       "    <tr>\n",
       "      <th>7</th>\n",
       "      <td>0</td>\n",
       "      <td>0</td>\n",
       "      <td>0</td>\n",
       "      <td>0</td>\n",
       "      <td>0</td>\n",
       "      <td>0</td>\n",
       "      <td>0</td>\n",
       "      <td>36</td>\n",
       "      <td>0</td>\n",
       "      <td>0</td>\n",
       "    </tr>\n",
       "    <tr>\n",
       "      <th>8</th>\n",
       "      <td>1</td>\n",
       "      <td>1</td>\n",
       "      <td>1</td>\n",
       "      <td>1</td>\n",
       "      <td>0</td>\n",
       "      <td>1</td>\n",
       "      <td>0</td>\n",
       "      <td>0</td>\n",
       "      <td>30</td>\n",
       "      <td>0</td>\n",
       "    </tr>\n",
       "    <tr>\n",
       "      <th>9</th>\n",
       "      <td>1</td>\n",
       "      <td>0</td>\n",
       "      <td>0</td>\n",
       "      <td>0</td>\n",
       "      <td>0</td>\n",
       "      <td>1</td>\n",
       "      <td>0</td>\n",
       "      <td>3</td>\n",
       "      <td>0</td>\n",
       "      <td>31</td>\n",
       "    </tr>\n",
       "  </tbody>\n",
       "</table>\n",
       "</div>"
      ],
      "text/plain": [
       "         n                                    \n",
       "preds    0   1   2   3   4   5   6   7   8   9\n",
       "y_test                                        \n",
       "0       36   0   0   0   0   0   0   0   0   0\n",
       "1        0  33   2   0   0   0   0   0   0   2\n",
       "2        1   1  31   1   0   0   0   1   0   0\n",
       "3        0   0   0  37   0   0   0   0   0   0\n",
       "4        0   0   0   0  36   0   0   0   0   0\n",
       "5        1   0   0   0   0  33   0   0   0   2\n",
       "6        0   0   0   0   0   0  36   0   0   0\n",
       "7        0   0   0   0   0   0   0  36   0   0\n",
       "8        1   1   1   1   0   1   0   0  30   0\n",
       "9        1   0   0   0   0   1   0   3   0  31"
      ]
     },
     "execution_count": 56,
     "metadata": {},
     "output_type": "execute_result"
    }
   ],
   "source": [
    "confusion = pd.DataFrame({\"y_test\": y_test, \"preds\": preds}).groupby([\"y_test\", \"preds\"]).apply(\n",
    "    len\n",
    ").rename(\"n\").reset_index().pivot(\"y_test\", \"preds\").fillna(0).astype(int)\n",
    "confusion"
   ]
  },
  {
   "cell_type": "code",
   "execution_count": 57,
   "metadata": {},
   "outputs": [
    {
     "data": {
      "text/plain": [
       "<matplotlib.image.AxesImage at 0x172f0d9c0>"
      ]
     },
     "execution_count": 57,
     "metadata": {},
     "output_type": "execute_result"
    },
    {
     "data": {
      "image/png": "[encoded data removed]",
      "text/plain": [
       "<Figure size 640x480 with 1 Axes>"
      ]
     },
     "metadata": {},
     "output_type": "display_data"
    }
   ],
   "source": [
    "plt.imshow(confusion, cmap=\"gray\")"
   ]
  },
  {
   "cell_type": "code",
   "execution_count": 58,
   "metadata": {},
   "outputs": [
    {
     "data": {
      "text/plain": [
       "7    40\n",
       "0    40\n",
       "3    39\n",
       "6    36\n",
       "4    36\n",
       "9    35\n",
       "1    35\n",
       "5    35\n",
       "2    34\n",
       "8    30\n",
       "dtype: int64"
      ]
     },
     "execution_count": 58,
     "metadata": {},
     "output_type": "execute_result"
    }
   ],
   "source": [
    "pd.Series(preds).value_counts()"
   ]
  },
  {
   "cell_type": "code",
   "execution_count": 59,
   "metadata": {},
   "outputs": [
    {
     "data": {
      "text/plain": [
       "0.9416666666666667"
      ]
     },
     "execution_count": 59,
     "metadata": {},
     "output_type": "execute_result"
    }
   ],
   "source": [
    "(y_test == preds).mean()"
   ]
  },
  {
   "cell_type": "code",
   "execution_count": 60,
   "metadata": {},
   "outputs": [
    {
     "data": {
      "text/plain": [
       "(array([7, 8, 7, 6, 6, 6, 2, 2, 5, 1]), [7, 8, 7, 6, 6, 6, 2, 2, 9, 1])"
      ]
     },
     "execution_count": 60,
     "metadata": {},
     "output_type": "execute_result"
    }
   ],
   "source": [
    "y_test[:10], preds[:10]"
   ]
  },
  {
   "cell_type": "code",
   "execution_count": 61,
   "metadata": {},
   "outputs": [
    {
     "data": {
      "text/plain": [
       "{0: 1.9785759882104245e-14,\n",
       " 1: 2.7007888553700606e-14,\n",
       " 2: 8.908973529114366e-14,\n",
       " 3: 6.477819328803835e-14,\n",
       " 4: 4.360659272540591e-15,\n",
       " 5: 2.5903254249196512e-14,\n",
       " 6: 1.0837859866022533e-14,\n",
       " 7: 4.369021341376912e-14,\n",
       " 8: 4.8558693111141274e-14,\n",
       " 9: 2.6669234122400006e-14}"
      ]
     },
     "execution_count": 61,
     "metadata": {},
     "output_type": "execute_result"
    }
   ],
   "source": [
    "fhat"
   ]
  },
  {
   "cell_type": "code",
   "execution_count": 62,
   "metadata": {},
   "outputs": [
    {
     "data": {
      "text/plain": [
       "(1    37\n",
       " 3    37\n",
       " 7    36\n",
       " 6    36\n",
       " 5    36\n",
       " 0    36\n",
       " 9    36\n",
       " 4    36\n",
       " 8    35\n",
       " 2    35\n",
       " dtype: int64,\n",
       " 7    40\n",
       " 0    40\n",
       " 3    39\n",
       " 6    36\n",
       " 4    36\n",
       " 9    35\n",
       " 1    35\n",
       " 5    35\n",
       " 2    34\n",
       " 8    30\n",
       " dtype: int64)"
      ]
     },
     "execution_count": 62,
     "metadata": {},
     "output_type": "execute_result"
    }
   ],
   "source": [
    "pd.Series(y_test).value_counts(), pd.Series(preds).value_counts()"
   ]
  },
  {
   "cell_type": "code",
   "execution_count": 63,
   "metadata": {},
   "outputs": [
    {
     "data": {
      "text/plain": [
       "{0: 680.3201745685379,\n",
       " 1: 1449.3503923900118,\n",
       " 2: 1274.6835945248959,\n",
       " 3: 1143.2045411897166,\n",
       " 4: 1249.3197621878717,\n",
       " 5: 1374.511259148058,\n",
       " 6: 866.0337693222355,\n",
       " 7: 1269.7855151841165,\n",
       " 8: 1362.5797836550903,\n",
       " 9: 1371.6139081790122}"
      ]
     },
     "execution_count": 63,
     "metadata": {},
     "output_type": "execute_result"
    }
   ],
   "source": [
    "{i: np.mean(cls[\"dists\"]) for i, cls in classes.items()}"
   ]
  },
  {
   "cell_type": "code",
   "execution_count": 64,
   "metadata": {},
   "outputs": [],
   "source": [
    "pd.DataFrame(runs).to_csv(\"runs.csv\", index=False)"
   ]
  },
  {
   "cell_type": "code",
   "execution_count": 65,
   "metadata": {},
   "outputs": [],
   "source": [
    "df = pd.read_csv(\"runs.csv\")"
   ]
  },
  {
   "cell_type": "code",
   "execution_count": 66,
   "metadata": {},
   "outputs": [
    {
     "data": {
      "text/html": [
       "<div>\n",
       "<style scoped>\n",
       "    .dataframe tbody tr th:only-of-type {\n",
       "        vertical-align: middle;\n",
       "    }\n",
       "\n",
       "    .dataframe tbody tr th {\n",
       "        vertical-align: top;\n",
       "    }\n",
       "\n",
       "    .dataframe thead th {\n",
       "        text-align: right;\n",
       "    }\n",
       "</style>\n",
       "<table border=\"1\" class=\"dataframe\">\n",
       "  <thead>\n",
       "    <tr style=\"text-align: right;\">\n",
       "      <th></th>\n",
       "      <th>method</th>\n",
       "      <th>score</th>\n",
       "      <th>ds</th>\n",
       "      <th>size</th>\n",
       "      <th>i</th>\n",
       "      <th>alpha</th>\n",
       "      <th>k</th>\n",
       "    </tr>\n",
       "  </thead>\n",
       "  <tbody>\n",
       "    <tr>\n",
       "      <th>0</th>\n",
       "      <td>rf</td>\n",
       "      <td>0.922222</td>\n",
       "      <td>digits</td>\n",
       "      <td>0.1</td>\n",
       "      <td>0</td>\n",
       "      <td>NaN</td>\n",
       "      <td>NaN</td>\n",
       "    </tr>\n",
       "  </tbody>\n",
       "</table>\n",
       "</div>"
      ],
      "text/plain": [
       "  method     score      ds  size  i  alpha   k\n",
       "0     rf  0.922222  digits   0.1  0    NaN NaN"
      ]
     },
     "execution_count": 66,
     "metadata": {},
     "output_type": "execute_result"
    }
   ],
   "source": [
    "df[df.alpha.isna() | (df.k == 100)]"
   ]
  }
 ],
 "metadata": {
  "kernelspec": {
   "display_name": "fermat",
   "language": "python",
   "name": "fermat"
  },
  "language_info": {
   "codemirror_mode": {
    "name": "ipython",
    "version": 3
   },
   "file_extension": ".py",
   "mimetype": "text/x-python",
   "name": "python",
   "nbconvert_exporter": "python",
   "pygments_lexer": "ipython3",
   "version": "3.10.9"
  }
 },
 "nbformat": 4,
 "nbformat_minor": 4
}
