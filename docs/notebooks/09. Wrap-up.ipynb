{
 "cells": [
  {
   "cell_type": "code",
   "execution_count": 1,
   "metadata": {},
   "outputs": [],
   "source": [
    "%load_ext autoreload\n",
    "%autoreload 1\n",
    "%aimport main"
   ]
  },
  {
   "cell_type": "code",
   "execution_count": 2,
   "metadata": {},
   "outputs": [],
   "source": [
    "import os\n",
    "import pickle\n",
    "import numpy as np\n",
    "import pandas as pd\n",
    "import matplotlib.pyplot as plt\n",
    "import seaborn as sns\n",
    "\n",
    "from sklearn.model_selection import train_test_split, GridSearchCV, RandomizedSearchCV, ShuffleSplit\n",
    "from sklearn.datasets import (\n",
    "    load_iris,\n",
    "    load_digits,\n",
    "    make_moons,\n",
    "    fetch_openml,\n",
    "    make_circles,\n",
    ")\n",
    "\n",
    "from main import sample_fermat\n",
    "from main import Bundle, BaseKDEClassifier, FermatKDEClassifier\n",
    "\n",
    "from sklearn.linear_model import LogisticRegression\n",
    "from sklearn.svm import SVC\n",
    "from sklearn.naive_bayes import GaussianNB\n",
    "from sklearn.neighbors import KNeighborsClassifier\n",
    "from lightgbm import LGBMClassifier\n",
    "\n",
    "from sklearn.pipeline import Pipeline\n",
    "from sklearn.preprocessing import StandardScaler\n",
    "from sklearn.decomposition import PCA\n",
    "from skopt.space import Real, Integer, Categorical\n",
    "from skopt import BayesSearchCV\n"
   ]
  },
  {
   "cell_type": "markdown",
   "metadata": {},
   "source": [
    "## Datasets disponibles"
   ]
  },
  {
   "cell_type": "code",
   "execution_count": 3,
   "metadata": {},
   "outputs": [],
   "source": [
    "\n",
    "datasets_cache = \"datasets-v2.pkl\"\n",
    "if not os.path.exists(datasets_cache):\n",
    "    DATASETS = Bundle(\n",
    "        circles=make_circles(n_samples=10000, noise=0.15, factor=0.5),\n",
    "        moons=make_moons(n_samples=10000, noise=0.1),\n",
    "        digits=load_digits(return_X_y=True),\n",
    "        iris=load_iris(return_X_y=True),\n",
    "        mnist=fetch_openml(\n",
    "            \"mnist_784\", version=1, parser=\"auto\", return_X_y=True, as_frame=False\n",
    "        ),\n",
    "    )\n",
    "    with open(datasets_cache, \"wb\") as f:\n",
    "        pickle.dump(DATASETS, f)\n",
    "else:\n",
    "    with open(datasets_cache, \"rb\") as f:\n",
    "        DATASETS = pickle.load(f)"
   ]
  },
  {
   "cell_type": "code",
   "execution_count": 4,
   "metadata": {},
   "outputs": [],
   "source": [
    "X, y = DATASETS.mnist\n",
    "y = y.astype(int)\n",
    "n_samples = 1000\n",
    "sample_indices = np.random.randint(0, len(X), n_samples)\n",
    "X, y = X[sample_indices], y[sample_indices]"
   ]
  },
  {
   "cell_type": "code",
   "execution_count": 8,
   "metadata": {},
   "outputs": [
    {
     "data": {
      "text/plain": [
       "7    109\n",
       "5    109\n",
       "2    104\n",
       "6    103\n",
       "3    102\n",
       "1    101\n",
       "0     98\n",
       "9     94\n",
       "8     92\n",
       "4     88\n",
       "Name: count, dtype: int64"
      ]
     },
     "execution_count": 8,
     "metadata": {},
     "output_type": "execute_result"
    }
   ],
   "source": [
    "pd.Series(y).value_counts()"
   ]
  },
  {
   "cell_type": "code",
   "execution_count": 11,
   "metadata": {},
   "outputs": [],
   "source": [
    "X_train, X_test, y_train, y_test = train_test_split(\n",
    "    X, y, test_size=0.2, random_state=1991\n",
    ")"
   ]
  },
  {
   "cell_type": "code",
   "execution_count": 12,
   "metadata": {},
   "outputs": [],
   "source": [
    "kn = KNeighborsClassifier().fit(X_train, y_train)"
   ]
  },
  {
   "cell_type": "code",
   "execution_count": 13,
   "metadata": {},
   "outputs": [
    {
     "data": {
      "text/plain": [
       "0.855"
      ]
     },
     "execution_count": 13,
     "metadata": {},
     "output_type": "execute_result"
    }
   ],
   "source": [
    "kn.score(X_test, y_test)"
   ]
  },
  {
   "cell_type": "code",
   "execution_count": null,
   "metadata": {},
   "outputs": [],
   "source": [
    "# explicitly require this experimental feature\n",
    "from sklearn.experimental import enable_halving_search_cv # noqa\n",
    "# now you can import normally from model_selection\n",
    "from sklearn.model_selection import HalvingRandomSearchCV\n",
    "from sklearn.model_selection import HalvingGridSearchCV"
   ]
  },
  {
   "cell_type": "code",
   "execution_count": null,
   "metadata": {},
   "outputs": [],
   "source": [
    "from "
   ]
  },
  {
   "cell_type": "code",
   "execution_count": 11,
   "metadata": {},
   "outputs": [
    {
     "data": {
      "text/plain": [
       "<matplotlib.image.AxesImage at 0x2a2136190>"
      ]
     },
     "execution_count": 11,
     "metadata": {},
     "output_type": "execute_result"
    },
    {
     "data": {
      "image/png": "[encoded data removed]",
      "text/plain": [
       "<Figure size 640x480 with 1 Axes>"
      ]
     },
     "metadata": {},
     "output_type": "display_data"
    }
   ],
   "source": [
    "plt.imshow(X[332].reshape(28, 28), cmap=\"gray\")"
   ]
  },
  {
   "cell_type": "code",
   "execution_count": 12,
   "metadata": {},
   "outputs": [],
   "source": [
    "# Choosing train/test split by indices is equivalent to choosing rows themselves\n",
    "SEED = 1991\n",
    "np.random.seed(SEED)\n",
    "idx_train, idx_test = train_test_split(np.arange(len(X)), test_size=0.8)\n",
    "outer_cv = [(idx_train, idx_test)]\n",
    "# outer_cv = ShuffleSplit(n_splits=1, test_size=0.8, random_state=SEED)\n",
    "inner_folds = 5\n",
    "inner_test_size = 0.5\n",
    "inner_cv = ShuffleSplit(n_splits=inner_folds, test_size=inner_test_size)"
   ]
  },
  {
   "cell_type": "code",
   "execution_count": 13,
   "metadata": {},
   "outputs": [],
   "source": [
    "pipeline = Pipeline(\n",
    "    [\n",
    "        (\"scaler\", StandardScaler()),\n",
    "        (\"pca\", PCA()),\n",
    "        (\"clf\", KNeighborsClassifier()),\n",
    "    ]\n",
    ")\n",
    "# N, D = X.shape\n",
    "# Ni = [len(X[y == i]) for i in np.unique(y)]\n",
    "# K = len(np.unique(y))\n",
    "pre_search_space = {\n",
    "    \"scaler\": [StandardScaler(), \"passthrough\"],\n",
    "    \"pca\": [*[PCA(ratio) for ratio in [0.8, 0.9, 0.95]], \"passthrough\"],\n",
    "}"
   ]
  },
  {
   "cell_type": "code",
   "execution_count": 14,
   "metadata": {},
   "outputs": [],
   "source": [
    "classifiers = Bundle(\n",
    "    fkde=FermatKDEClassifier(),\n",
    "    kde=BaseKDEClassifier(),\n",
    "    gnb=GaussianNB(),\n",
    "    kn=KNeighborsClassifier(),\n",
    "    lgbm=LGBMClassifier(),\n",
    "    lr=LogisticRegression(solver=\"saga\"),\n",
    "    svc=SVC(),\n",
    ")\n",
    "# max_neighbors = np.floor(min(Ni) * (1 - inner_test_size)).astype(int)\n"
   ]
  },
  {
   "cell_type": "code",
   "execution_count": 15,
   "metadata": {},
   "outputs": [],
   "source": [
    "clf_search_space = {\n",
    "    \"kde\": {\"bandwidth\": np.logspace(-2, 6, 101)},\n",
    "    \"fkde\": (\n",
    "        {\n",
    "            \"alpha\": np.linspace(1, 2.5, 17),\n",
    "            \"bandwidth\": np.logspace(-2, 6, 61),\n",
    "        }\n",
    "    ),\n",
    "    \"gnb\": {\"var_smoothing\": np.logspace(-9, -1, 17)},\n",
    "    \"kn\": {\n",
    "        \"n_neighbors\": np.linspace(1, 200, dtype=int),\n",
    "        \"weights\": [\"uniform\", \"distance\"],\n",
    "    },\n",
    "    \"svc\": {\n",
    "        \"C\": np.logspace(-4, 3, 21),\n",
    "        \"gamma\": np.logspace(-4, 2, 21),\n",
    "        \"kernel\": [\"linear\", \"rbf\", \"sigmoid\"],  # excluding 'poly' which sometimes takes forever to finish\n",
    "    },\n",
    "    \"lr\": {\n",
    "        \"C\": np.logspace(-4, 4, 20),\n",
    "        \"penalty\": [\"elasticnet\"],\n",
    "        \"l1_ratio\": np.linspace(0, 1, 20),\n",
    "    },\n",
    "    \"lgbm\": {\n",
    "        \"n_estimators\": [50, 200, 500],\n",
    "        \"learning_rate\": np.logspace(-4, -2, 5),\n",
    "        \"num_leaves\": [3, 5, 8],\n",
    "        \"reg_alpha\": np.logspace(-3, -1, 3),\n",
    "        \"reg_lambda\": np.logspace(-3, -1, 3),\n",
    "        \"colsample_bytree\": [1/3, 1/2],\n",
    "    },\n",
    "}"
   ]
  },
  {
   "cell_type": "code",
   "execution_count": 16,
   "metadata": {},
   "outputs": [],
   "source": [
    "search_spaces = {\n",
    "    name: {\n",
    "        **pre_search_space,\n",
    "        \"clf\": [clf],\n",
    "        **{f\"clf__{k}\": v for k, v in clf_search_space[name].items()},\n",
    "    }\n",
    "    for name, clf in classifiers.items()\n",
    "}"
   ]
  },
  {
   "cell_type": "code",
   "execution_count": 21,
   "metadata": {},
   "outputs": [],
   "source": [
    "# !pip install seaborn"
   ]
  },
  {
   "cell_type": "code",
   "execution_count": 17,
   "metadata": {},
   "outputs": [],
   "source": [
    "from eyeglasses import eyeglasses"
   ]
  },
  {
   "cell_type": "code",
   "execution_count": 19,
   "metadata": {},
   "outputs": [],
   "source": [
    "eye = eyeglasses()"
   ]
  },
  {
   "cell_type": "code",
   "execution_count": 29,
   "metadata": {},
   "outputs": [
    {
     "data": {
      "text/plain": [
       "array([-0.55380699, -1.47348284, -0.97075645, -1.33447909, -0.71831057])"
      ]
     },
     "execution_count": 29,
     "metadata": {},
     "output_type": "execute_result"
    }
   ],
   "source": [
    "eye[:5,0]"
   ]
  },
  {
   "cell_type": "code",
   "execution_count": 30,
   "metadata": {},
   "outputs": [
    {
     "data": {
      "text/plain": [
       "<matplotlib.collections.PathCollection at 0x17b3781d0>"
      ]
     },
     "execution_count": 30,
     "metadata": {},
     "output_type": "execute_result"
    },
    {
     "data": {
      "image/png": "[encoded data removed]",
      "text/plain": [
       "<Figure size 800x550 with 1 Axes>"
      ]
     },
     "metadata": {},
     "output_type": "display_data"
    }
   ],
   "source": [
    "plt.scatter(eye[:,0], eye[:,1])"
   ]
  },
  {
   "cell_type": "code",
   "execution_count": 15,
   "metadata": {},
   "outputs": [],
   "source": [
    "from matplotlib import pyplot as plt"
   ]
  },
  {
   "cell_type": "code",
   "execution_count": 16,
   "metadata": {},
   "outputs": [
    {
     "data": {
      "text/plain": [
       "['Solarize_Light2',\n",
       " '_classic_test_patch',\n",
       " '_mpl-gallery',\n",
       " '_mpl-gallery-nogrid',\n",
       " 'bmh',\n",
       " 'classic',\n",
       " 'dark_background',\n",
       " 'fast',\n",
       " 'fivethirtyeight',\n",
       " 'ggplot',\n",
       " 'grayscale',\n",
       " 'seaborn-v0_8',\n",
       " 'seaborn-v0_8-bright',\n",
       " 'seaborn-v0_8-colorblind',\n",
       " 'seaborn-v0_8-dark',\n",
       " 'seaborn-v0_8-dark-palette',\n",
       " 'seaborn-v0_8-darkgrid',\n",
       " 'seaborn-v0_8-deep',\n",
       " 'seaborn-v0_8-muted',\n",
       " 'seaborn-v0_8-notebook',\n",
       " 'seaborn-v0_8-paper',\n",
       " 'seaborn-v0_8-pastel',\n",
       " 'seaborn-v0_8-poster',\n",
       " 'seaborn-v0_8-talk',\n",
       " 'seaborn-v0_8-ticks',\n",
       " 'seaborn-v0_8-white',\n",
       " 'seaborn-v0_8-whitegrid',\n",
       " 'tableau-colorblind10']"
      ]
     },
     "execution_count": 16,
     "metadata": {},
     "output_type": "execute_result"
    }
   ],
   "source": [
    "plt.style.available"
   ]
  }
 ],
 "metadata": {
  "kernelspec": {
   "display_name": "venv",
   "language": "python",
   "name": "python3"
  },
  "language_info": {
   "codemirror_mode": {
    "name": "ipython",
    "version": 3
   },
   "file_extension": ".py",
   "mimetype": "text/x-python",
   "name": "python",
   "nbconvert_exporter": "python",
   "pygments_lexer": "ipython3",
   "version": "3.11.4"
  }
 },
 "nbformat": 4,
 "nbformat_minor": 2
}
