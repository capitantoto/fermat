{
 "cells": [
  {
   "cell_type": "code",
   "execution_count": null,
   "id": "ceadd7e8",
   "metadata": {},
   "outputs": [],
   "source": [
    "import numpy as np\n",
    "import scipy as sp\n",
    "from math import pi"
   ]
  },
  {
   "cell_type": "code",
   "execution_count": null,
   "id": "dec75aff",
   "metadata": {},
   "outputs": [],
   "source": [
    "xs = np.arange(-6, 6, 0.01)\n",
    "\n",
    "\n",
    "def phi(x):\n",
    "    return (2 * pi) ** (-1 / 2) * np.exp(-1 / 2 * x**2)\n",
    "\n",
    "\n",
    "def ind(x, lb=-1 / 2, ub=1 / 2):\n",
    "    return np.where((x >= lb) & (x < ub), 1 / (ub - lb), 0)"
   ]
  },
  {
   "cell_type": "code",
   "execution_count": null,
   "id": "42d069be",
   "metadata": {},
   "outputs": [],
   "source": [
    "from matplotlib import pyplot as plt\n",
    "\n",
    "\n",
    "plt.plot(xs, phi(xs))\n",
    "plt.plot(xs, ind(xs, -1.2, 1.2))"
   ]
  },
  {
   "cell_type": "code",
   "execution_count": null,
   "id": "9db0029c",
   "metadata": {},
   "outputs": [],
   "source": [
    "xs = np.sort(sp.stats.norm().rvs(200)).reshape(-1, 1)"
   ]
  },
  {
   "cell_type": "code",
   "execution_count": null,
   "id": "8b002e76",
   "metadata": {},
   "outputs": [],
   "source": [
    "from sklearn.neighbors import KernelDensity\n",
    "import numpy as np\n",
    "for bw in [0.03, 0.1, 0.3, 1]:\n",
    "    kde = KernelDensity(kernel='gaussian', bandwidth=bw).fit(xs)\n",
    "    grid = np.arange(-5, 5, 0.01).reshape(-1,1)\n",
    "    dens = np.exp(kde.score_samples(grid))\n",
    "    plt.plot(grid, dens, label=f\"h = {bw}\")\n",
    "plt.legend()\n",
    "plt.show()"
   ]
  },
  {
   "cell_type": "code",
   "execution_count": null,
   "id": "2ced0add",
   "metadata": {},
   "outputs": [],
   "source": [
    "sp.stats.norm().pdf(grid).max()"
   ]
  },
  {
   "cell_type": "code",
   "execution_count": null,
   "id": "2b88834b",
   "metadata": {},
   "outputs": [],
   "source": [
    "from sklearn.neighbors import KernelDensity\n",
    "import numpy as np\n",
    "\n",
    "grid = np.arange(-5, 5, 0.01).reshape(-1, 1)\n",
    "fig, axs = plt.subplots(1, 2, figsize=(16, 6))\n",
    "for kernel, ax in zip([\"gaussian\", \"tophat\"], axs):\n",
    "    ax.plot(\n",
    "        grid, sp.stats.norm().pdf(grid), alpha=0.5, color=\"gray\", linestyle=\"dashed\"\n",
    "    )\n",
    "    for bw in [0.1, 0.3, 1, 3]:\n",
    "        kde = KernelDensity(kernel=kernel, bandwidth=bw).fit(xs)\n",
    "        dens = np.exp(kde.score_samples(grid))\n",
    "        ax.plot(grid, dens, label=f\"h = {bw}\", alpha=0.5)\n",
    "        ax.set_title(f\"Kernel = {kernel}\")\n",
    "        ax.legend()\n",
    "plt.show()"
   ]
  },
  {
   "cell_type": "code",
   "execution_count": null,
   "id": "c142b3c8",
   "metadata": {},
   "outputs": [],
   "source": [
    "import numpy as np\n",
    "import pandas as pd\n",
    "\n",
    "hs = np.array([0.1, 0.5, 0.9, 0.98])\n",
    "ds = np.array([1, 2, 5, 10, 20, 25])\n",
    "df = pd.DataFrame([(h, d, h**d) for h in hs for d in ds], columns=[\"h\", \"d\", \"h**d\"])"
   ]
  },
  {
   "cell_type": "code",
   "execution_count": null,
   "id": "b73d8adf",
   "metadata": {},
   "outputs": [],
   "source": [
    "df.pivot(index=\"h\", columns=\"d\", values=\"h**d\")"
   ]
  },
  {
   "cell_type": "code",
   "execution_count": null,
   "id": "f5866453",
   "metadata": {},
   "outputs": [],
   "source": [
    "stats.uniform(-1, 2).support()"
   ]
  },
  {
   "cell_type": "code",
   "execution_count": null,
   "id": "04f0343a",
   "metadata": {},
   "outputs": [],
   "source": [
    "from scipy import stats\n",
    "lb, ub = -1, 1\n",
    "span = ub - lb\n",
    "N = 100_000\n",
    "d = 3\n",
    "X = stats.uniform(lb, span).rvs((N, d))"
   ]
  },
  {
   "cell_type": "code",
   "execution_count": null,
   "id": "a1d5a5ee",
   "metadata": {},
   "outputs": [],
   "source": [
    "np.abs(X) < 0.5"
   ]
  },
  {
   "cell_type": "code",
   "execution_count": null,
   "id": "a9f8d084",
   "metadata": {},
   "outputs": [],
   "source": [
    "def fhat_0(X, h):\n",
    "    N, d = X.shape\n",
    "    return sum(np.apply_along_axis(all, 1, (np.abs(X) < h)))/ (N * (2 * h) ** d)"
   ]
  },
  {
   "cell_type": "code",
   "execution_count": null,
   "id": "8739ea9b",
   "metadata": {},
   "outputs": [],
   "source": [
    "expected_fhat_0_1k = pd.Series({h: fhat_0(X, h) for h in np.linspace(0.01, 1, 201)})"
   ]
  },
  {
   "cell_type": "code",
   "execution_count": null,
   "id": "e49a0343",
   "metadata": {},
   "outputs": [],
   "source": [
    "expected_fhat_0.plot()\n",
    "expected_fhat_0_10k.plot()\n",
    "expected_fhat_0_1k.plot()"
   ]
  },
  {
   "cell_type": "code",
   "execution_count": null,
   "id": "e96cddf7",
   "metadata": {},
   "outputs": [],
   "source": [
    "fhat_0(X, 0.3)"
   ]
  },
  {
   "cell_type": "code",
   "execution_count": null,
   "id": "379a123d",
   "metadata": {},
   "outputs": [],
   "source": [
    "X[np.apply_along_axis(all, 1, (np.abs(X) < h))]"
   ]
  },
  {
   "cell_type": "code",
   "execution_count": null,
   "id": "e6efcce0",
   "metadata": {},
   "outputs": [],
   "source": [
    "from sklearn.neighbors import KernelDensity\n",
    "\n",
    "h=0.88\n",
    "\n",
    "sk_fhat = KernelDensity(kernel=\"tophat\", bandwidth=h).fit(X)\n",
    "np.exp(sk_fhat.score([np.zeros_like(X[0,:])])), fhat_0(X, h)"
   ]
  },
  {
   "cell_type": "code",
   "execution_count": null,
   "id": "d6081cab",
   "metadata": {},
   "outputs": [],
   "source": []
  },
  {
   "cell_type": "code",
   "execution_count": null,
   "id": "dc5045fa",
   "metadata": {},
   "outputs": [],
   "source": [
    "import numpy as np\n",
    "import pandas as pd\n",
    "\n",
    "# hs = np.array([0.1, 0.5, 0.9, 0.98])\n",
    "hs = [0.25, 0.5, 0.9, 0.95]\n",
    "ds = np.array([1, 2, 5, 10, 20, 25])\n",
    "ds = np.arange(1, 51, 1)\n",
    "df = pd.DataFrame([(h, d, h**d) for h in hs for d in ds], columns=[\"h\", \"d\", \"h**d\"])"
   ]
  },
  {
   "cell_type": "code",
   "execution_count": null,
   "id": "dcf9265f",
   "metadata": {},
   "outputs": [],
   "source": [
    "from matplotlib import pyplot as plt\n",
    "\n",
    "data = df.set_index([\"d\", \"h\"]).unstack()[\"h**d\"]\n",
    "data.plot(figsize=(12, 4))\n",
    "plt.title(\"Proporción de las X dentro de un $d$-cubo de lado $h$\")\n",
    "# plt.xscale(\"log\")"
   ]
  },
  {
   "cell_type": "code",
   "execution_count": null,
   "id": "a47d5e9f",
   "metadata": {},
   "outputs": [],
   "source": [
    "data.loc[50]"
   ]
  },
  {
   "cell_type": "code",
   "execution_count": null,
   "id": "60575371",
   "metadata": {},
   "outputs": [],
   "source": [
    ".95**50"
   ]
  }
 ],
 "metadata": {
  "kernelspec": {
   "display_name": "fkdc-MIQQORBE-py3.12",
   "language": "python",
   "name": "python3"
  },
  "language_info": {
   "codemirror_mode": {
    "name": "ipython",
    "version": 3
   },
   "file_extension": ".py",
   "mimetype": "text/x-python",
   "name": "python",
   "nbconvert_exporter": "python",
   "pygments_lexer": "ipython3",
   "version": "3.12.4"
  }
 },
 "nbformat": 4,
 "nbformat_minor": 5
}
